{
 "cells": [
  {
   "cell_type": "markdown",
   "metadata": {
    "nbgrader": {
     "cell_type": "markdown",
     "checksum": "c10650a2505fbdb3713260eef15f86a4",
     "grade": false,
     "grade_id": "cell-028a6aaacd367700",
     "locked": true,
     "schema_version": 3,
     "solution": false,
     "task": false
    }
   },
   "source": [
    "# Homework #6\n",
    "\n",
    "**See Canvas for the HW #6 assignment and due date**. Complete all of the following problems. Ideally, the theoretical problems should be answered in a Markdown cell directly underneath the question. If you don't know LaTex/Markdown, you may submit separate handwritten solutions to the theoretical problems, but please see the [class scanning policy](https://docs.google.com/document/d/17y5ksolrn2rEuXYBv_3HeZhkPbYwt48UojNT1OvcB_w/edit?usp=sharing). Please do not turn in messy work. Computational problems should be completed in this notebook (using the R kernel). Computational questions may require code, plots, analysis, interpretation, etc. Working in small groups is allowed, but it is important that you make an effort to master the material and hand in your own work. \n",
    "\n"
   ]
  },
  {
   "cell_type": "markdown",
   "metadata": {
    "id": "Vpxs_7xzuHD8",
    "nbgrader": {
     "cell_type": "markdown",
     "checksum": "889b7205d3b70ef0d561cf6199d4a771",
     "grade": false,
     "grade_id": "cell-690073cfc39a9520",
     "locked": true,
     "schema_version": 3,
     "solution": false,
     "task": false
    }
   },
   "source": [
    "## A. Theoretical Problems"
   ]
  },
  {
   "cell_type": "markdown",
   "metadata": {
    "nbgrader": {
     "cell_type": "markdown",
     "checksum": "3e3d61907206a4990a70dfec22807fa3",
     "grade": false,
     "grade_id": "cell-0ace3c29ea921fa1",
     "locked": true,
     "schema_version": 3,
     "solution": false,
     "task": false
    }
   },
   "source": [
    "## A.1 [10 points] Approximate Confidence Interval for Proportions\n",
    "\n",
    "Recall from an earlier assignment that if $np > 5$ and $n(1-p) > 5$, then $X \\sim \\text{Bin}(n,p)$ is well-approximated by $Y \\sim N\\left(np, np(1-p)\\right)$. Use this approximation in the question below. In particular, an approximate $(1-\\alpha)\\times 100\\%$ confidence interval for a population proportion $p$ is given by\n",
    "\n",
    "\\begin{align*}\n",
    "\\widehat{p} \\pm z_{1-\\alpha/2}\\sqrt{\\frac{\\widehat{p}(1-\\widehat{p})}{n}},\n",
    "\\end{align*}\n",
    "\n",
    "where $\\widehat{p}$ is the sample proportion. \n",
    "\n",
    "**Suppose that 12 people in a sample of 95 are members of the Green Party. Calculate an approximate 90% confidence interval for the true proportion of Green Party members in the population. Interpret this interval.**"
   ]
  },
  {
   "cell_type": "markdown",
   "metadata": {},
   "source": [
    "The sample proportion, $\\hat{p} = \\frac{12}{95}$. In other words, it's the number of successes over the total number of people in the sample. I know that the z-value for a 90% confidence interval is 1.645, so I can plug my numbers into the provided equation using the code below. "
   ]
  },
  {
   "cell_type": "code",
   "execution_count": 4,
   "metadata": {
    "nbgrader": {
     "cell_type": "markdown",
     "checksum": "5c53dbcdd380ac42c24a7fbbc921bb76",
     "grade": true,
     "grade_id": "cell-3782b231697a2fe3",
     "locked": false,
     "points": 10,
     "schema_version": 3,
     "solution": true,
     "task": false
    }
   },
   "outputs": [
    {
     "name": "stdout",
     "output_type": "stream",
     "text": [
      "The lower bound for a 90% CI is: 0.07024842"
     ]
    }
   ],
   "source": [
    "n = 95\n",
    "phat = 12 / 95 \n",
    "z = 1.645\n",
    "\n",
    "lower_bound = phat - z * sqrt((phat * (1 - phat)) / n)\n",
    "\n",
    "cat(\"The lower bound for a 90% CI is:\", lower_bound)"
   ]
  },
  {
   "cell_type": "code",
   "execution_count": 5,
   "metadata": {},
   "outputs": [
    {
     "name": "stdout",
     "output_type": "stream",
     "text": [
      "The upper bound for a 90% CI is: 0.1823832"
     ]
    }
   ],
   "source": [
    "upper_bound = phat + z * sqrt((phat * (1 - phat)) / n)\n",
    "cat(\"The upper bound for a 90% CI is:\", upper_bound)"
   ]
  },
  {
   "cell_type": "markdown",
   "metadata": {},
   "source": [
    "Intrepretation: \n",
    "\n",
    "We are confident that 90% of the samples will contain the true, theoretical mean within the confidence interval of 7.02% and 18.24% "
   ]
  },
  {
   "cell_type": "markdown",
   "metadata": {
    "nbgrader": {
     "cell_type": "markdown",
     "checksum": "a96f285a8426324cafb44271f22d7e4c",
     "grade": false,
     "grade_id": "cell-cae651bd0f49963b",
     "locked": true,
     "schema_version": 3,
     "solution": false,
     "task": false
    },
    "tags": []
   },
   "source": [
    "## A.2 [10 points] Speed of Light\n",
    "\n",
    "In 1881 Michelson and Newcomb measured the time light took to travel a distance of $7400$ meters. From a study of their experimental setup and a descriptive study of their $64$ measurements, we conclude that the data can be assumed to be i.i.d. These measurements yield the following sample quantities in microseconds for the sample mean $\\bar x$ and sample standard deviation $s$:\n",
    "$$\\bar{x}=27.75, s=5.08$$\n",
    "Construct a 95% confidence interval for the time light takes to travel $7400$ meters.\n",
    "\n"
   ]
  },
  {
   "cell_type": "markdown",
   "metadata": {},
   "source": [
    "We need to use the t-distribution since we don't know the population standard deviation. Therefore, we need to use the degrees of freedom (n-1) to account for this uncertainity in estimating the population standard deviation. Lower degrees of freedom indicate heavier tails, or more variability in the data. Whereas larger degrees of freedom make the t-distribution more similar to the normal with less variability. We use the degrees of freedom to calculate the t-value because it makes the interval wider, compensating for more uncertainity in the data. The t-value calculation depends on alpha and the sample size. Here, I'm using the qt() function in R to find the t-value for me. \n",
    "\n",
    "The t-distribution confidence interval formula is: \n",
    "\n",
    "$$ \\bar{x} \\pm t_{1-\\alpha/2} \\frac{s}{\\sqrt{n}} $$\n",
    "\n",
    "From here, we can plug our numbers in to get the confidence interval."
   ]
  },
  {
   "cell_type": "code",
   "execution_count": 11,
   "metadata": {
    "nbgrader": {
     "cell_type": "markdown",
     "checksum": "b86d8bfb0ce7520bafaea9bbe6916b7e",
     "grade": true,
     "grade_id": "cell-e066ce487afd0eba",
     "locked": false,
     "points": 10,
     "schema_version": 3,
     "solution": true,
     "task": false
    }
   },
   "outputs": [
    {
     "name": "stdout",
     "output_type": "stream",
     "text": [
      "The lower bound for the confidence interval is: 26.48105"
     ]
    }
   ],
   "source": [
    "xbar = 27.75\n",
    "sd = 5.08\n",
    "n = 64\n",
    "df = n - 1\n",
    "alpha = 0.05\n",
    "\n",
    "t_val = qt(1 - alpha/2, df)\n",
    "\n",
    "lower = xbar - (t_val * (sd / sqrt(n)))\n",
    "\n",
    "cat(\"The lower bound for the confidence interval is:\", lower)"
   ]
  },
  {
   "cell_type": "code",
   "execution_count": 12,
   "metadata": {},
   "outputs": [
    {
     "name": "stdout",
     "output_type": "stream",
     "text": [
      "The upper bound for the confidence interval is: 29.01895"
     ]
    }
   ],
   "source": [
    "upper = xbar + (t_val * (sd / sqrt(n)))\n",
    "cat(\"The upper bound for the confidence interval is:\", upper)"
   ]
  },
  {
   "cell_type": "markdown",
   "metadata": {
    "nbgrader": {
     "cell_type": "markdown",
     "checksum": "6cbff0cc91cf3d400b517b0e6bef320e",
     "grade": false,
     "grade_id": "cell-945b2dfa8eca5ce0",
     "locked": true,
     "schema_version": 3,
     "solution": false,
     "task": false
    }
   },
   "source": [
    "## A.3 A Change in Confidence\n",
    "\n",
    "A journal article reports that a sample of size $n = 5$ was used as a basis for calculating a $95\\%$ CI for the true average natural frequency (Hz) of delaminated beams of a certain type. The resulting interval was $(229.764, 233.504)$. You decide that a confidence level of 99% is more appropriate than the 95% level used.\n",
    "\n",
    "**A.3 [14 points] (a) What are the limits of the 99% interval?**\n"
   ]
  },
  {
   "cell_type": "markdown",
   "metadata": {},
   "source": [
    "We need to use the t-distribution here since our sample size is very small (n=5). Generally, we would consider using the t-distribution compared to the normal distribution for a sample size less than 30. The t-distribution confidence interval formula is: \n",
    "\n",
    "$$ \\bar{x} \\pm t_{1-\\alpha/2} \\frac{s}{\\sqrt{n}} $$\n",
    "\n",
    "Given the confidence interval for 95% confidence, we can find the $\\bar{x}$ by averaging the two numbers of the confidence interval. We also know that the margin of error is equivalent to either the upper or lower value subtracted to or added to $\\bar{x}$. In my code below, I follow the format $ 233.504 - \\bar{x} $. With the margin or error known, I can solve for the standard deviation of the sample since I can find the t-value for a 95% confidence interval and I already know the sample size. \n",
    "\n",
    "$$ \\text{Margin of Error} = t_{1-\\alpha/2} \\frac{sd}{\\sqrt{n}} $$\n",
    "\n",
    "Rearranging, I'll solve for the standard deviation of the sample:\n",
    "\n",
    "$$ sd = \\frac{\\text{Margin of Error} * \\sqrt{n}}{t_{1-\\alpha/2}} $$\n",
    "\n",
    "As a reminder, the t-value we're calculating here is from a 95% confidence interval, but the standard error is constant and doesn't depend on the confidence interval width. Now, since I have the $\\bar{x}$, standard deviation of the sample, sample size (n), and can calculate the t-value for a 99% confidence interval, I can solve for the new confidence interval "
   ]
  },
  {
   "cell_type": "code",
   "execution_count": 25,
   "metadata": {
    "nbgrader": {
     "cell_type": "markdown",
     "checksum": "ef9eda1858181ae40e6c9c6c27ffdd8d",
     "grade": true,
     "grade_id": "cell-811846eea8d9c207",
     "locked": false,
     "points": 10,
     "schema_version": 3,
     "solution": true,
     "task": false
    }
   },
   "outputs": [
    {
     "name": "stdout",
     "output_type": "stream",
     "text": [
      "The lower bound for the confidence interval is: 228.533"
     ]
    }
   ],
   "source": [
    "n1 = 5\n",
    "df1 = n1 - 1\n",
    "alpha_95 = 0.05\n",
    "t_val_95 = qt(1 - alpha_95/2, df1)\n",
    "xbar1 = (233.504 + 229.764) / 2\n",
    "\n",
    "marerr = 233.504 - xbar1\n",
    "\n",
    "sd1 = (marerr * sqrt(n1)) / t_val_95\n",
    "\n",
    "alpha_99 = 0.01\n",
    "t_val_99 = qt(1 - alpha_99/2, df1)\n",
    "\n",
    "lower1 = xbar1 - (t_val_99 * (sd1 / sqrt(n1)))\n",
    "\n",
    "cat(\"The lower bound for the confidence interval is:\", lower1)"
   ]
  },
  {
   "cell_type": "code",
   "execution_count": 26,
   "metadata": {},
   "outputs": [
    {
     "name": "stdout",
     "output_type": "stream",
     "text": [
      "The upper bound for the confidence interval is: 234.735"
     ]
    }
   ],
   "source": [
    "upper1 = xbar1 + (t_val_99 * (sd1 / sqrt(n1)))\n",
    "cat(\"The upper bound for the confidence interval is:\", upper1)"
   ]
  },
  {
   "cell_type": "markdown",
   "metadata": {
    "nbgrader": {
     "cell_type": "markdown",
     "checksum": "3a27d161a245847af7145e54afd6c16e",
     "grade": false,
     "grade_id": "cell-e84c0076ff00570b",
     "locked": true,
     "schema_version": 3,
     "solution": false,
     "task": false
    }
   },
   "source": [
    "## A.4 MLEs\n",
    "\n",
    "Suppose that $X_1,...,X_n \\overset{iid}{\\sim}N(\\mu, \\sigma^2)$, where $\\sigma$ is known, and we are ultimately interested in an estimator for $\\theta = \\mu^2$.\n",
    "\n",
    "**A.4 (a) [12 points] First, find the MLE of $\\mu$.**"
   ]
  },
  {
   "cell_type": "markdown",
   "metadata": {
    "nbgrader": {
     "cell_type": "markdown",
     "checksum": "c96c27547dbddd8ee6d7f16dfb0ce9c7",
     "grade": true,
     "grade_id": "cell-7519ca88bed55bfd",
     "locked": false,
     "points": 12,
     "schema_version": 3,
     "solution": true,
     "task": false
    }
   },
   "source": [
    "First, we need the pdf for a normal distribution: \n",
    "\n",
    "$$ f(x | \\mu, \\sigma) = \\frac{1}{\\sigma \\sqrt{2 \\pi}} e^{\\frac{1}{2} (\\frac{x - \\mu}{\\sigma})^2} $$\n",
    "\n",
    "We can write the likelihood function from the product of individual pdf's: \n",
    "\n",
    "$$ L(\\mu) = \\prod_{i=1}^{n} f(X_{i} | \\mu, \\sigma) = \\prod_{i=1}^{n} \\frac{1}{\\sigma \\sqrt{2 \\pi}} e^{\\frac{1}{2} (\\frac{X_{i} - \\mu}{\\sigma})^2} $$\n",
    "\n",
    "Rewrite it as: \n",
    "\n",
    "$$ L(\\mu) = (\\frac{1}{\\sigma \\sqrt{2 \\pi}})^n e^{\\frac{1}{2 \\sigma^2} \\sum_{i=1}^{n}({X_{i} - \\mu})^2} $$\n",
    "\n",
    "Log-likelihood function: \n",
    "\n",
    "$$ \\ln(L(\\mu)) = \\ell(\\mu) = \\frac{-n}{2} \\ln(2 \\pi \\sigma^2) - \\frac{1}{2 \\sigma^2} \\sum_{i=1}^{n}({X_{i} - \\mu})^2 $$\n",
    "\n",
    "Differentiate with respect to $\\mu$ and set equal to zero:\n",
    "\n",
    "$$ \\frac{d\\ell(\\mu)}{d\\mu} = 0 - \\frac{1}{2 \\sigma^2} (2)(-1) \\sum_{i=1}^{n}({X_{i} - \\mu}) = 0 $$\n",
    "\n",
    "$$ = \\frac{1}{\\sigma^2} \\sum_{i=1}^{n}({X_{i} - \\mu}) $$\n",
    "\n",
    "$$ = \\sum_{i=1}^{n} X_{i} - n\\mu $$\n",
    "\n",
    "$$ \\sum_{i=1}^{n} X_{i} = n\\mu $$\n",
    "\n",
    "$$ \\bar{X}n = n\\mu $$\n",
    "\n",
    "$$ \\bar{X} = \\mu $$"
   ]
  },
  {
   "cell_type": "markdown",
   "metadata": {
    "nbgrader": {
     "cell_type": "markdown",
     "checksum": "9e81782355dd2f4bb01a9a6cd8318b2a",
     "grade": false,
     "grade_id": "cell-0b554f25e22c97e6",
     "locked": true,
     "schema_version": 3,
     "solution": false,
     "task": false
    }
   },
   "source": [
    "**A.4 (b) [4 points] Find the maximum likelihood estimator (MLE) for $\\theta$, denoted $\\widehat{\\theta}$.**\n",
    "\n",
    "This should be easy!"
   ]
  },
  {
   "cell_type": "markdown",
   "metadata": {
    "nbgrader": {
     "cell_type": "markdown",
     "checksum": "19c055e11c7fc94b07dbfb02e173505c",
     "grade": true,
     "grade_id": "cell-65b16047cc5c6d09",
     "locked": false,
     "points": 4,
     "schema_version": 3,
     "solution": true,
     "task": false
    }
   },
   "source": [
    "From the previous question, we already know that \n",
    "\n",
    "$$ \\mu = \\frac{1}{n} \\sum_{i=1}^{n} X_{i} = \\bar{X} $$\n",
    "\n",
    "$$ \\hat{\\theta} = \\hat{\\mu}^2 = (\\frac{1}{n} \\sum_{i=1}^{n} X_{i})^2 = \\bar{X}^2 $$\n",
    "\n",
    "So, \n",
    "\n",
    "$$ \\hat{\\theta} = \\bar{X}^2 $$"
   ]
  },
  {
   "cell_type": "markdown",
   "metadata": {
    "nbgrader": {
     "cell_type": "markdown",
     "checksum": "44ed220e9cfe53ebc1d00029dea6fe55",
     "grade": false,
     "grade_id": "cell-df74d04cdc3740a0",
     "locked": true,
     "schema_version": 3,
     "solution": false,
     "task": false
    }
   },
   "source": [
    "**A.4(c) [10 points] Compute the bias of $\\widehat{\\theta}$, denoted $\\text{Bias}(\\widehat{\\theta})$. Recall that $Bias(\\widehat{\\theta}) = E(\\widehat{\\theta}) - \\theta$.**"
   ]
  },
  {
   "cell_type": "markdown",
   "metadata": {
    "nbgrader": {
     "cell_type": "markdown",
     "checksum": "e1bc8f8d14e59d8eb1ebb3ddde0f8453",
     "grade": true,
     "grade_id": "cell-caa3ef70c91d454c",
     "locked": false,
     "points": 10,
     "schema_version": 3,
     "solution": true,
     "task": false
    }
   },
   "source": [
    "We can equate $E[\\hat{\\theta}]$ to $E[\\bar{X}^2]$ and use the variance short cut, $Var(\\bar{X}) = E[\\bar{X}^2] - E[\\bar{X}]^2$ to solve for $E[\\bar{X}^2]$. Rearranging, we get: \n",
    "\n",
    "$$ E[\\bar{X}^2] = Var(\\bar{X}) + E[\\bar{X}]^2 $$\n",
    "\n",
    "For a sample mean, the variance is $Var(\\bar{X}) = \\frac{\\sigma^2}{n}$. Plugging into the equation, we get:\n",
    "\n",
    "$$ E[\\bar{X}^2] = \\frac{\\sigma^2}{n} + \\mu^2 = E[\\hat{\\theta}] $$\n",
    "\n",
    "We can substitute this back into the bias equation given: (We're given that $\\theta = \\mu^2$ in the beginning of the problem)\n",
    "\n",
    "$$ Bias(\\hat{\\theta}) = E[\\hat{\\theta}] - \\theta = \\frac{\\sigma^2}{n} + \\mu^2 - \\mu^2 $$ \n",
    "\n",
    "$$ Bias(\\hat{\\theta}) = \\frac{\\sigma^2}{n} $$"
   ]
  },
  {
   "cell_type": "markdown",
   "metadata": {
    "id": "Vpxs_7xzuHD8",
    "nbgrader": {
     "cell_type": "markdown",
     "checksum": "863bef8aad0ca2ae7c337ef66e89090d",
     "grade": false,
     "grade_id": "cell-9b5c20c493d92330",
     "locked": true,
     "schema_version": 3,
     "solution": false,
     "task": false
    }
   },
   "source": [
    "## B. Computational Problems"
   ]
  },
  {
   "cell_type": "markdown",
   "metadata": {
    "nbgrader": {
     "cell_type": "markdown",
     "checksum": "08b6bcad6b7732af01a9e332435d0e80",
     "grade": false,
     "grade_id": "cell-046dbeb30b0f9fe2",
     "locked": true,
     "schema_version": 3,
     "solution": false,
     "task": false
    }
   },
   "source": [
    "## B.1 Hubble Data\n",
    "\n",
    "Load `hubble.csv` into `R`. A description of the variables can be obtained from page 73 of https://cran.r-project.org/web/packages/gamair/gamair.pdf."
   ]
  },
  {
   "cell_type": "code",
   "execution_count": 3,
   "metadata": {
    "nbgrader": {
     "cell_type": "code",
     "checksum": "b94199cf30da56f599e25782c526b7e9",
     "grade": false,
     "grade_id": "cell-d213b1826a1d034a",
     "locked": true,
     "schema_version": 3,
     "solution": false,
     "task": false
    }
   },
   "outputs": [
    {
     "data": {
      "text/html": [
       "<table class=\"dataframe\">\n",
       "<caption>A data.frame: 6 × 4</caption>\n",
       "<thead>\n",
       "\t<tr><th></th><th scope=col>X</th><th scope=col>Galaxy</th><th scope=col>y</th><th scope=col>x</th></tr>\n",
       "\t<tr><th></th><th scope=col>&lt;int&gt;</th><th scope=col>&lt;chr&gt;</th><th scope=col>&lt;int&gt;</th><th scope=col>&lt;dbl&gt;</th></tr>\n",
       "</thead>\n",
       "<tbody>\n",
       "\t<tr><th scope=row>1</th><td>1</td><td>NGC0300 </td><td> 133</td><td> 2.00</td></tr>\n",
       "\t<tr><th scope=row>2</th><td>2</td><td>NGC0925 </td><td> 664</td><td> 9.16</td></tr>\n",
       "\t<tr><th scope=row>3</th><td>3</td><td>NGC1326A</td><td>1794</td><td>16.14</td></tr>\n",
       "\t<tr><th scope=row>4</th><td>4</td><td>NGC1365 </td><td>1594</td><td>17.95</td></tr>\n",
       "\t<tr><th scope=row>5</th><td>5</td><td>NGC1425 </td><td>1473</td><td>21.88</td></tr>\n",
       "\t<tr><th scope=row>6</th><td>6</td><td>NGC2403 </td><td> 278</td><td> 3.22</td></tr>\n",
       "</tbody>\n",
       "</table>\n"
      ],
      "text/latex": [
       "A data.frame: 6 × 4\n",
       "\\begin{tabular}{r|llll}\n",
       "  & X & Galaxy & y & x\\\\\n",
       "  & <int> & <chr> & <int> & <dbl>\\\\\n",
       "\\hline\n",
       "\t1 & 1 & NGC0300  &  133 &  2.00\\\\\n",
       "\t2 & 2 & NGC0925  &  664 &  9.16\\\\\n",
       "\t3 & 3 & NGC1326A & 1794 & 16.14\\\\\n",
       "\t4 & 4 & NGC1365  & 1594 & 17.95\\\\\n",
       "\t5 & 5 & NGC1425  & 1473 & 21.88\\\\\n",
       "\t6 & 6 & NGC2403  &  278 &  3.22\\\\\n",
       "\\end{tabular}\n"
      ],
      "text/markdown": [
       "\n",
       "A data.frame: 6 × 4\n",
       "\n",
       "| <!--/--> | X &lt;int&gt; | Galaxy &lt;chr&gt; | y &lt;int&gt; | x &lt;dbl&gt; |\n",
       "|---|---|---|---|---|\n",
       "| 1 | 1 | NGC0300  |  133 |  2.00 |\n",
       "| 2 | 2 | NGC0925  |  664 |  9.16 |\n",
       "| 3 | 3 | NGC1326A | 1794 | 16.14 |\n",
       "| 4 | 4 | NGC1365  | 1594 | 17.95 |\n",
       "| 5 | 5 | NGC1425  | 1473 | 21.88 |\n",
       "| 6 | 6 | NGC2403  |  278 |  3.22 |\n",
       "\n"
      ],
      "text/plain": [
       "  X Galaxy   y    x    \n",
       "1 1 NGC0300   133  2.00\n",
       "2 2 NGC0925   664  9.16\n",
       "3 3 NGC1326A 1794 16.14\n",
       "4 4 NGC1365  1594 17.95\n",
       "5 5 NGC1425  1473 21.88\n",
       "6 6 NGC2403   278  3.22"
      ]
     },
     "metadata": {},
     "output_type": "display_data"
    }
   ],
   "source": [
    "hubble = read.csv('hubble.csv')\n",
    "head(hubble)"
   ]
  },
  {
   "cell_type": "markdown",
   "metadata": {
    "nbgrader": {
     "cell_type": "markdown",
     "checksum": "976329acb39bb037b5caeb41a0883af4",
     "grade": false,
     "grade_id": "cell-1fcef01f50067eaf",
     "locked": true,
     "schema_version": 3,
     "solution": false,
     "task": false
    }
   },
   "source": [
    "**B.1 (a) [20 points] Calculate the $85\\%$ confidence interval for the mean of a galaxy's distance from Earth in megaparsecs in `R` by doing the computation explicitly.**"
   ]
  },
  {
   "cell_type": "code",
   "execution_count": 22,
   "metadata": {
    "nbgrader": {
     "cell_type": "code",
     "checksum": "a3e8f070b0c8a615c12493c7f64fc43e",
     "grade": true,
     "grade_id": "cell-33ac20015847e7b0",
     "locked": false,
     "points": 10,
     "schema_version": 3,
     "solution": true,
     "task": false
    }
   },
   "outputs": [
    {
     "name": "stdout",
     "output_type": "stream",
     "text": [
      "The lower confidence bound for the mean distance (Mega Parsecs) of the galaxy from Earth is: 10.28695"
     ]
    }
   ],
   "source": [
    "alpha85 = 0.15 \n",
    "xbar85 = mean(hubble$x)\n",
    "n_hubble = length(hubble$x)\n",
    "df_hubble = n_hubble - 1\n",
    "t85 = qt(1 - alpha85/2, df_hubble)\n",
    "sd85 = sd(hubble$x)\n",
    "\n",
    "lower85 = xbar85 - t85 * (sd85/sqrt(n_hubble))\n",
    "\n",
    "cat(\"The lower confidence bound for the mean distance (Mega Parsecs) of the galaxy from Earth is:\", lower85)"
   ]
  },
  {
   "cell_type": "code",
   "execution_count": 23,
   "metadata": {},
   "outputs": [
    {
     "name": "stdout",
     "output_type": "stream",
     "text": [
      "The upper confidence bound for the mean distance (Mega Parsecs) of the galaxy from Earth is: 13.82222"
     ]
    }
   ],
   "source": [
    "upper85 = xbar85 + t85 * (sd85/sqrt(n_hubble))\n",
    "\n",
    "cat(\"The upper confidence bound for the mean distance (Mega Parsecs) of the galaxy from Earth is:\", upper85)"
   ]
  },
  {
   "cell_type": "markdown",
   "metadata": {
    "nbgrader": {
     "cell_type": "markdown",
     "checksum": "9386bcf53d879bac106e358e525d8667",
     "grade": false,
     "grade_id": "cell-6cf54d007ba6919b",
     "locked": true,
     "schema_version": 3,
     "solution": false,
     "task": false
    }
   },
   "source": [
    "**B.1 (b) [10 points] Find a built-in `R` function that does this computation automatically and verify that the built in `R` function does the same thing as the confidence interval formula used in part (a).**"
   ]
  },
  {
   "cell_type": "code",
   "execution_count": 17,
   "metadata": {
    "nbgrader": {
     "cell_type": "code",
     "checksum": "beb9c278ab235e9c8a6fda00f2d0b7b1",
     "grade": true,
     "grade_id": "cell-8200b423fc265b7f",
     "locked": false,
     "points": 4,
     "schema_version": 3,
     "solution": true,
     "task": false
    }
   },
   "outputs": [
    {
     "data": {
      "text/plain": [
       "\n",
       "\tOne Sample t-test\n",
       "\n",
       "data:  hubble$x\n",
       "t = 10.156, df = 23, p-value = 5.701e-10\n",
       "alternative hypothesis: true mean is not equal to 0\n",
       "85 percent confidence interval:\n",
       " 10.28695 13.82222\n",
       "sample estimates:\n",
       "mean of x \n",
       " 12.05458 \n"
      ]
     },
     "metadata": {},
     "output_type": "display_data"
    }
   ],
   "source": [
    "ci85 = t.test(hubble$x, conf.level = 0.85)\n",
    "ci85"
   ]
  },
  {
   "cell_type": "markdown",
   "metadata": {
    "nbgrader": {
     "cell_type": "markdown",
     "checksum": "8f03ac946313bbf955912983833bb612",
     "grade": false,
     "grade_id": "cell-dfb440ec24b2d910",
     "locked": true,
     "schema_version": 3,
     "solution": false,
     "task": false
    }
   },
   "source": [
    "**B.1(c) [10 points] Interpret the confidence interval.**"
   ]
  },
  {
   "cell_type": "markdown",
   "metadata": {
    "nbgrader": {
     "cell_type": "markdown",
     "checksum": "215ce8b5a3473cd67097db77086631df",
     "grade": true,
     "grade_id": "cell-98cd6fafd05a355c",
     "locked": false,
     "points": 5,
     "schema_version": 3,
     "solution": true,
     "task": false
    }
   },
   "source": [
    "85% of the samples will have a true mean that is within the confidence interval (10.29, 13.82)"
   ]
  }
 ],
 "metadata": {
  "kernelspec": {
   "display_name": "R",
   "language": "R",
   "name": "ir"
  },
  "language_info": {
   "codemirror_mode": "r",
   "file_extension": ".r",
   "mimetype": "text/x-r-source",
   "name": "R",
   "pygments_lexer": "r",
   "version": "4.2.2"
  }
 },
 "nbformat": 4,
 "nbformat_minor": 4
}
