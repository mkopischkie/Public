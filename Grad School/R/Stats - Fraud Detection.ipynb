{
 "cells": [
  {
   "cell_type": "markdown",
   "metadata": {
    "id": "BgJMy-Po9eH-",
    "nbgrader": {
     "cell_type": "markdown",
     "checksum": "777c8d326aba73d50ec00a04afd0d59d",
     "grade": false,
     "grade_id": "cell-506044151ea0ea95",
     "locked": true,
     "schema_version": 3,
     "solution": false,
     "task": false
    }
   },
   "source": [
    "# Homework #3\n",
    "\n",
    "**See Canvas for HW #3 assignment due date**. Complete all of the following problems. Ideally, the theoretical problems should be answered in a Markdown cell directly underneath the question. If you don't know LaTex/Markdown, you may submit separate handwritten solutions to the theoretical problems, but please see the class scanning policy. Please do not turn in messy work. Computational problems should be completed in this notebook (using the `R` kernel). Computational questions may require code, plots, analysis, interpretation, etc. Working in small groups is allowed, but it is important that you make an effort to master the material and hand in your own work."
   ]
  },
  {
   "cell_type": "markdown",
   "metadata": {
    "id": "Vpxs_7xzuHD8",
    "nbgrader": {
     "cell_type": "markdown",
     "checksum": "889b7205d3b70ef0d561cf6199d4a771",
     "grade": false,
     "grade_id": "cell-690073cfc39a9520",
     "locked": true,
     "schema_version": 3,
     "solution": false,
     "task": false
    }
   },
   "source": [
    "## A. Theoretical Problems"
   ]
  },
  {
   "cell_type": "markdown",
   "metadata": {
    "nbgrader": {
     "cell_type": "markdown",
     "checksum": "51427d34b6c90d40c5e8bf9b7a77b9a9",
     "grade": false,
     "grade_id": "cell-65d6ccfd6b276f94",
     "locked": true,
     "schema_version": 3,
     "solution": false,
     "task": false
    }
   },
   "source": [
    "## A.1 Fraud detection\n",
    "\n",
    "Let $X$ be the leading digit of a randomly selected number from a large accounting ledger. So, for example, if we randomly draw the number $\\$20,695$, then $X = 2$. People who make up numbers to commit accounting fraud tend to give $X$ a (discrete) uniform distribution, i.e., $P(X = x) = \\frac 19$, for $x \\in \\{1,...,9\\}$. However, there is some empirical evidence that suggests that \"naturally occurring\" numbers (like numbers in a non-fraudulent accounting ledger) have leading digits that do not follow a uniform distribution. Instead, they follow a distribution defined by:\n",
    "\n",
    "\\begin{align*}\n",
    "f(x) = \\log_{10}\\bigg(\\frac{x+1}{x}\\bigg), \\,\\,\\,\\, x = 1,2,...,9.\n",
    "\\end{align*} \n",
    "\n",
    "\n",
    "**A.1(a) [10 points] Show that $f(x) = P(X = x)$ is, in fact, a probability mass function (you may use `R` to verify values, but give a proof).**"
   ]
  },
  {
   "cell_type": "markdown",
   "metadata": {
    "nbgrader": {
     "cell_type": "markdown",
     "checksum": "fd754de1d23af592538b2beba1d17b5e",
     "grade": true,
     "grade_id": "cell-f5bf027c328820eb",
     "locked": false,
     "points": 6,
     "schema_version": 3,
     "solution": true,
     "task": false
    }
   },
   "source": [
    "PMF requirements: \n",
    "- Non-negativity: the natural log of a number greater than one will always be positive, whereas the natural log of a number less than one will always be negative. The ratio of x+1 over x will yield a number greater than one for values including and between one and nine. \n",
    "    - ex: \n",
    "    \n",
    "\\begin{align*}\n",
    "\\text{when x=1:} \\,\\,\\, f(x) = log_{10}(\\frac{1+1}{1}) = log_{10}(\\frac{2}{1})\n",
    "\\end{align*}\n",
    "\n",
    "- Normalization: the sum of f(x) must equal one for all the values of x\n",
    "    - ex:\n",
    "    \n",
    "$$ \\sum_{x=1}^9 f(x) = 1 $$\n",
    "$$ \\sum_{x=1}^9 f(x) = log_{10}(\\frac{1+1}{1}) + log_{10}(\\frac{2+1}{2}) + log_{10}(\\frac{3+1}{3}) + log_{10}(\\frac{4+1}{4}) + log_{10}(\\frac{5+1}{5}) + log_{10}(\\frac{6+1}{6}) + log_{10}(\\frac{7+1}{7}) + log_{10}(\\frac{8+1}{8}) + log_{10}(\\frac{9+1}{9}) = 1 $$\n"
   ]
  },
  {
   "cell_type": "code",
   "execution_count": 1,
   "metadata": {},
   "outputs": [
    {
     "name": "stdout",
     "output_type": "stream",
     "text": [
      "[1] 1\n"
     ]
    }
   ],
   "source": [
    "summ = sum(log10((c(1:9) + 1)/(c(1:9))))\n",
    "print(summ)"
   ]
  },
  {
   "cell_type": "markdown",
   "metadata": {},
   "source": [
    "Since the function is non-negative and the sum of f(x) for all x's equals one, f(x) is a valid PMF"
   ]
  },
  {
   "cell_type": "markdown",
   "metadata": {
    "nbgrader": {
     "cell_type": "markdown",
     "checksum": "11a1d1d6139cfe82be6bce2ec0540eb1",
     "grade": false,
     "grade_id": "cell-8d08b6b592761633",
     "locked": true,
     "schema_version": 3,
     "solution": false,
     "task": false
    }
   },
   "source": [
    "**A.1(b) [6 points] Compute the individual probabilities for $x \\in \\{1,...,9\\}$, and compare them to the corresponding discrete uniform distribution (i.e., $P(X = x) = 1/9$). What do you notice?**"
   ]
  },
  {
   "cell_type": "code",
   "execution_count": 2,
   "metadata": {
    "nbgrader": {
     "cell_type": "markdown",
     "checksum": "07da676692a303504012f5a0f6c6c0ad",
     "grade": true,
     "grade_id": "cell-096db750d06a316f",
     "locked": false,
     "points": 5,
     "schema_version": 3,
     "solution": true,
     "task": false
    }
   },
   "outputs": [
    {
     "name": "stdout",
     "output_type": "stream",
     "text": [
      "     num_arr uniform_prob\n",
      "1 0.30103000    0.1111111\n",
      "2 0.17609126    0.1111111\n",
      "3 0.12493874    0.1111111\n",
      "4 0.09691001    0.1111111\n",
      "5 0.07918125    0.1111111\n",
      "6 0.06694679    0.1111111\n",
      "7 0.05799195    0.1111111\n",
      "8 0.05115252    0.1111111\n",
      "9 0.04575749    0.1111111\n"
     ]
    }
   ],
   "source": [
    "num_arr = c()\n",
    "for (i in c(1:9)){\n",
    "    res = log10((i+1)/i)\n",
    "    num_arr = c(num_arr, res)\n",
    "}\n",
    "df = data.frame(num_arr)\n",
    "df$uniform_prob = rep(1/9, length(num_arr))\n",
    "print(df)"
   ]
  },
  {
   "cell_type": "markdown",
   "metadata": {},
   "source": [
    "As x increases in the function, the individual probabilities decrease. Therefore, more salaries exist with smaller numbers than with higher numbers. The salaries with the probabilities closest to the uniform distribution are betweeen 30,000 dollars and 40,000 dollars"
   ]
  },
  {
   "cell_type": "markdown",
   "metadata": {
    "nbgrader": {
     "cell_type": "markdown",
     "checksum": "a7309e6a1b96c2a2e6ceb8851eb72a8c",
     "grade": false,
     "grade_id": "cell-4a391cbb2f664c13",
     "locked": true,
     "schema_version": 3,
     "solution": false,
     "task": false
    }
   },
   "source": [
    "**A.1(c) [10 points] Obtain a formula for the cumulative distribution function (CDF) of $X$ (your formula should not have sigma notation).**"
   ]
  },
  {
   "cell_type": "markdown",
   "metadata": {
    "nbgrader": {
     "cell_type": "markdown",
     "checksum": "3e18d2ad9671dd1812b003ef9670f1e9",
     "grade": true,
     "grade_id": "cell-17c86b1026683490",
     "locked": false,
     "points": 5,
     "schema_version": 3,
     "solution": true,
     "task": false
    }
   },
   "source": [
    "$$ \\text{when P($X \\leq 1$) : } \\,\\,\\, F(x) = log_{10}(\\frac{2}{1}) $$\n",
    "$$ \\text{when P($X \\leq 2$) : } \\,\\,\\, F(x) = log_{10}(\\frac{2}{1}) + log_{10}(\\frac{3}{2}) = log_{10}(\\frac{2}{1}*\\frac{3}{2}) = log_{10}(\\frac{3}{1}) $$\n",
    "$$ \\text{when P($X \\leq 3$) : } \\,\\,\\, F(x) = log_{10}(\\frac{2}{1}) + log_{10}(\\frac{3}{2}) + log_{10}(\\frac{4}{3}) = log_{10}(\\frac{2}{1}*\\frac{3}{2}*\\frac{4}{3}) = log_{10}(\\frac{4}{1}) $$\n",
    "$$ \\text{when P($X \\leq 4$) : } \\,\\,\\, F(x) = log_{10}(\\frac{2}{1}) + log_{10}(\\frac{3}{2}) + log_{10}(\\frac{4}{3}) + log_{10}(\\frac{5}{4}) = log_{10}(\\frac{2}{1}*\\frac{3}{2}*\\frac{4}{3}*\\frac{5}{4}) = log_{10}(\\frac{5}{1}) $$\n",
    "\n",
    "General pattern for the CDF: \n",
    "$$ F(x) = log_{10}(x+1) $$\n",
    "\n",
    "Formula for the CDF:\n",
    "\\begin{equation}\n",
    "F(x) = \n",
    "    \\begin{cases} \n",
    "        log_{10}(2), & x=1 \\\\\n",
    "        log_{10}(3), & x=2 \\\\\n",
    "        log_{10}(4), & x=3 \\\\\n",
    "        log_{10}(5), & x=4 \\\\\n",
    "        log_{10}(6), & x=5 \\\\\n",
    "        log_{10}(7), & x=6 \\\\\n",
    "        log_{10}(8), & x=7 \\\\\n",
    "        log_{10}(9), & x=8 \\\\\n",
    "        log_{10}(10) = 1, & x=9 \\\\\n",
    "    \\end{cases}\n",
    "\\end{equation}"
   ]
  },
  {
   "cell_type": "markdown",
   "metadata": {
    "nbgrader": {
     "cell_type": "markdown",
     "checksum": "859995887a6ceaed19b0f048c79ebf26",
     "grade": false,
     "grade_id": "cell-cf6cefcaae961c7d",
     "locked": true,
     "schema_version": 3,
     "solution": false,
     "task": false
    }
   },
   "source": [
    "**A.1(d) [6 points] Using the CDF, what is the probability that the leading digit is at most $4$? At least $5$?**"
   ]
  },
  {
   "cell_type": "markdown",
   "metadata": {
    "nbgrader": {
     "cell_type": "markdown",
     "checksum": "cbbcacee4175de8ca0e92d1577a96f23",
     "grade": true,
     "grade_id": "cell-6e092676f1d3dab3",
     "locked": false,
     "points": 4,
     "schema_version": 3,
     "solution": true,
     "task": false
    }
   },
   "source": [
    "$$ \\text{P(Leading digit is at most four) = P($x \\leq 4$)} = log_{10}(x+1) = log_{10}(5) $$\n",
    "$$ \\text{P(Leading digit is at least five)} = 1 - \\text{P(Leading digit is at most four)} = 1- log_{10}(x+1) = 1 - log_{10}(5) $$"
   ]
  },
  {
   "cell_type": "code",
   "execution_count": 3,
   "metadata": {},
   "outputs": [
    {
     "name": "stdout",
     "output_type": "stream",
     "text": [
      "The probability that the leading digit is at most four is: 0.69897"
     ]
    }
   ],
   "source": [
    "cat(\"The probability that the leading digit is at most four is:\", log10(5))"
   ]
  },
  {
   "cell_type": "code",
   "execution_count": 4,
   "metadata": {},
   "outputs": [
    {
     "name": "stdout",
     "output_type": "stream",
     "text": [
      "The probability that the leading digit is at most four is: 0.30103"
     ]
    }
   ],
   "source": [
    "cat(\"The probability that the leading digit is at most four is:\", (1 - log10(5)))"
   ]
  },
  {
   "cell_type": "markdown",
   "metadata": {
    "nbgrader": {
     "cell_type": "markdown",
     "checksum": "806ad00ddaec1dffc057e81d5e8b8fd0",
     "grade": false,
     "grade_id": "cell-a3192920d87e51da",
     "locked": true,
     "schema_version": 3,
     "solution": false,
     "task": false
    }
   },
   "source": [
    "## A.2\n",
    "\n",
    "An aircraft seam requires $20$ rivets. The seam will have to be reworked if any\n",
    "of these rivets is defective. Suppose rivets are defective independently of one\n",
    "another, each with the same probability.\n",
    "\n",
    "**A.2(a) [10 points] If $18\\%$ of all seams need reworking, what is the probability that a rivet is\n",
    "defective?**"
   ]
  },
  {
   "cell_type": "markdown",
   "metadata": {
    "nbgrader": {
     "cell_type": "markdown",
     "checksum": "1c692af98b0e34f555f229084db555b0",
     "grade": true,
     "grade_id": "cell-5112010776b2b918",
     "locked": false,
     "points": 5,
     "schema_version": 3,
     "solution": true,
     "task": false
    }
   },
   "source": [
    "$ \\text{Binomial distribution because each rivet is either defective or not, and each trial is independent and discrete} $\n",
    "\n",
    "$ \\text{p = probability of a seam needing reworking = 0.18, 1-p = probability of a seam not needing reworking } $\n",
    "\n",
    "$ \\text{We want to know P(at least one rivet is defective in a seam)} = \\,\\,\\, P(X \\geq 1)^{20} = 1 - \\text{P(no rivets are defective in a seam)} = 1 - P(X = 0)^{20} $\n",
    "\n",
    "$ \\text{The probability that at least one rivet is defective in a seam needing reworking:} $\n",
    "\n",
    "$ 1 - P(X=0)^{20} = 1-(1-p)^{20} = 0.18 $\n",
    "\n",
    "$ 0.82 = (1-p)^{20} $"
   ]
  },
  {
   "cell_type": "code",
   "execution_count": 22,
   "metadata": {},
   "outputs": [
    {
     "name": "stdout",
     "output_type": "stream",
     "text": [
      "The probability that a rivet is defective is: 0.009873481"
     ]
    }
   ],
   "source": [
    "p = 1 - (0.82^(1/20))\n",
    "cat(\"The probability that a rivet is defective is:\", p)"
   ]
  },
  {
   "cell_type": "markdown",
   "metadata": {
    "nbgrader": {
     "cell_type": "markdown",
     "checksum": "ba140072a5c4c9e250fd86e1870c4aa9",
     "grade": false,
     "grade_id": "cell-104aaec2d7df3340",
     "locked": true,
     "schema_version": 3,
     "solution": false,
     "task": false
    }
   },
   "source": [
    "**A.2(b)[6 points]  How small should the probability of a defective rivet be to ensure that only\n",
    "$10\\%$ of all seams need reworking?**"
   ]
  },
  {
   "cell_type": "markdown",
   "metadata": {
    "nbgrader": {
     "cell_type": "markdown",
     "checksum": "da11889cd58cb0ace0e00452fcf7beef",
     "grade": true,
     "grade_id": "cell-9aee9b2af09aab1a",
     "locked": false,
     "points": 4,
     "schema_version": 3,
     "solution": true,
     "task": false
    }
   },
   "source": [
    "$ 1 - (1 - p)^{20} = 0.1 $\n",
    "\n",
    "$ 0.9 = (1 - p)^{20} $"
   ]
  },
  {
   "cell_type": "code",
   "execution_count": 23,
   "metadata": {},
   "outputs": [
    {
     "name": "stdout",
     "output_type": "stream",
     "text": [
      "The probability of a defective rivet where only 10% of seams need reworking is : 0.005254174"
     ]
    }
   ],
   "source": [
    "p = 1 - (0.90^(1/20))\n",
    "cat(\"The probability of a defective rivet where only 10% of seams need reworking is :\", p)"
   ]
  },
  {
   "cell_type": "markdown",
   "metadata": {
    "nbgrader": {
     "cell_type": "markdown",
     "checksum": "aa9c4f42b2133221e0eb4bc5dc617342",
     "grade": false,
     "grade_id": "cell-715f2599c4f41dda",
     "locked": true,
     "schema_version": 3,
     "solution": false,
     "task": false
    }
   },
   "source": [
    "## A.3 How long will this series take?\n",
    "\n",
    "Individuals $A$ and $B$ play a sequence of chess games until one player wins $9$ games. $A$ wins an individual game with probability $p$, and $B$ wins a game with probability $1 − p$ (there are no draws). Let $X$ denote the number of games played.\n",
    "\n",
    "**A.3(a) [4 points] What are the possible values of $X$?**"
   ]
  },
  {
   "cell_type": "markdown",
   "metadata": {
    "nbgrader": {
     "cell_type": "markdown",
     "checksum": "7663506e17a9246abe2ee554da8961b5",
     "grade": true,
     "grade_id": "cell-972d81179fe4efbc",
     "locked": false,
     "points": 3,
     "schema_version": 3,
     "solution": true,
     "task": false
    }
   },
   "source": [
    "The maximum number of games played would be 17, if each player won eight games and the last player won the final game, making the total number of games played be:\n",
    "$$ 8+9 = 17 $$\n",
    "So X can take on any value in the range (9, 10, 11, 12, 13, 14, 15, 16, 17)"
   ]
  },
  {
   "cell_type": "markdown",
   "metadata": {
    "nbgrader": {
     "cell_type": "markdown",
     "checksum": "d036b79bbfa50ccb6f473a63afa20b18",
     "grade": false,
     "grade_id": "cell-7d7522db45711cfe",
     "locked": true,
     "schema_version": 3,
     "solution": false,
     "task": false
    }
   },
   "source": [
    "**A.3(b) [10 points] (*STAT 5000 ONLY*) Write out a mathematical expression for $P(X = x)$.**"
   ]
  },
  {
   "cell_type": "markdown",
   "metadata": {
    "nbgrader": {
     "cell_type": "markdown",
     "checksum": "f8160dc7e1343eae266760989a270274",
     "grade": true,
     "grade_id": "cell-3779838952bf488f",
     "locked": false,
     "points": 8,
     "schema_version": 3,
     "solution": true,
     "task": false
    }
   },
   "source": [
    "The distribution is a negative binomial because we're counting the number of games it takes for one player to win nine times. The general formula for a negative binomial distribution is: \n",
    "$$  P(X = x) = \\binom{x-1}{r-1}p^r (1-p)^{x-r}  $$\n",
    "- where X is the number of trials needed before the rth success\n",
    "- where r is the number of successes we want to observe \n",
    "- where p is the probability of success\n",
    "\n",
    "In this example if player A wins, \n",
    "$$  P(X = x) = \\binom{x-1}{9-1}p^r (1-p)^{x-9}  $$\n",
    "\n",
    "If player B wins, \n",
    "$$  P(X = x) = \\binom{x-1}{9-1}(1 - p)^r (1-(1 - p))^{x-9}  $$"
   ]
  },
  {
   "cell_type": "markdown",
   "metadata": {
    "nbgrader": {
     "cell_type": "markdown",
     "checksum": "1390e57dbede3c2f4faac196cbc14018",
     "grade": false,
     "grade_id": "cell-536718ef505112ab",
     "locked": true,
     "schema_version": 3,
     "solution": false,
     "task": false
    }
   },
   "source": [
    "**A.3(c) [6 points] (*STAT 5000 ONLY*) Let $p = 0.5$. Find $P(X = 12)$.**"
   ]
  },
  {
   "cell_type": "markdown",
   "metadata": {
    "nbgrader": {
     "cell_type": "markdown",
     "checksum": "af556c5fe2607208ff9bcff051277c7c",
     "grade": true,
     "grade_id": "cell-4661139d90fa73db",
     "locked": false,
     "points": 4,
     "schema_version": 3,
     "solution": true,
     "task": false
    }
   },
   "source": [
    "Since the probability is 0.5,      $p = 1 - p$\n",
    "$$  P(X = 12) = \\binom{12-1}{9-1}0.5^r (1-0.5)^{12-9}  $$\n",
    "$$  P(X = 12) = \\binom{11}{8}(0.5)^9 (0.5)^{3}  $$\n"
   ]
  },
  {
   "cell_type": "code",
   "execution_count": 29,
   "metadata": {},
   "outputs": [
    {
     "name": "stdout",
     "output_type": "stream",
     "text": [
      "P(X = 12) = 0.0402832"
     ]
    }
   ],
   "source": [
    "P_A = choose(11, 8) * (0.5)^9 * (0.5)^3\n",
    "cat(\"P(X = 12) =\", P_A)"
   ]
  },
  {
   "cell_type": "markdown",
   "metadata": {
    "nbgrader": {
     "cell_type": "markdown",
     "checksum": "fddefe97024e17dd3fb3515d736b2215",
     "grade": false,
     "grade_id": "cell-7504331067b39837",
     "locked": true,
     "schema_version": 3,
     "solution": false,
     "task": false
    }
   },
   "source": [
    "## A.4 Independence of Complementary Events\n",
    "\n",
    "**[12 points] Assume that $A$ and $B$ are independent events. Show that $A^c$ and $B$ are also independent. (Hint: establish a relationship between $P(A^c \\cap B)$, $P(B)$, and $P(A\\cap B)$; think about what $P(A \\mid B)$ must be given what you know about $A$ and $B$.)**"
   ]
  },
  {
   "cell_type": "markdown",
   "metadata": {
    "nbgrader": {
     "cell_type": "markdown",
     "checksum": "b2b01eb103c1ae6fb6f2f27f9fbf5b8d",
     "grade": true,
     "grade_id": "cell-2043770665e1d6dc",
     "locked": false,
     "points": 6,
     "schema_version": 3,
     "solution": true,
     "task": false
    }
   },
   "source": [
    "We're given that: \n",
    "$$  P(A^c \\cap B) = P(B) - P(A \\cap B)  $$\n",
    "If we divide both sides by P(B):\n",
    "$$  \\frac{P(A^c \\cap B)}{P(B)} = \\frac{P(B) - P(A \\cap B)}{P(B)}  $$\n",
    "We can relate these to conditional probability: \n",
    "$$  P(A^c | B) = 1 - P(A | B)  $$\n",
    "Since A and B are independent, we can say that \n",
    "$$  P(A | B) = P(A)  $$\n",
    "So, \n",
    "$$  P(A^c | B) = 1 - P(A)  $$\n",
    "$$  P(A^c | B) = P(A^c)  $$\n",
    "Proving that $A^c$ and $B$ are independent events"
   ]
  },
  {
   "cell_type": "markdown",
   "metadata": {
    "nbgrader": {
     "cell_type": "markdown",
     "checksum": "ca73a6d7d9089efdb002559f21084ff0",
     "grade": false,
     "grade_id": "cell-02c572aba4e41255",
     "locked": true,
     "schema_version": 3,
     "solution": false,
     "task": false
    }
   },
   "source": [
    "## B.1 More Fraud Detection\n",
    "\n",
    "Let $X =$ the leading digit of a randomly selected number from a large accounting ledger. So, for example, if we randomly draw the number $\\$20,695$, then $X = 2$. People who make up numbers to commit accounting fraud tend to give $X$ a (discrete) uniform distribution, i.e., $P(X = x) = 1/9$, for $x \\in \\{1,...,9\\}$. However, some suggest that there is empirical evidence that ``naturally occurring\" numbers (e.g., numbers in a non-fraudulent accounting ledger) have leading digits that do not follow a uniform distribution. Instead, they follow a distribution defined by:\n",
    "\n",
    "\\begin{align*}\n",
    "f(x) = \\log_{10}\\bigg(\\frac{x+1}{x}\\bigg), \\,\\,\\,\\, x = 1,2,...,9.\n",
    "\\end{align*} \n",
    "\n",
    "**[20 points] Using `tax.csv`, a dataset containing the taxable incomes for individuals in 1978, decide whether there is any evidence that the dataset is fraudulent.**"
   ]
  },
  {
   "cell_type": "code",
   "execution_count": 25,
   "metadata": {
    "nbgrader": {
     "cell_type": "code",
     "checksum": "33b88d200326953b96ad62ea92e165a9",
     "grade": false,
     "grade_id": "cell-5ce977f40669c90e",
     "locked": true,
     "schema_version": 3,
     "solution": false,
     "task": false
    }
   },
   "outputs": [],
   "source": [
    "df = read.csv('tax.csv')\n",
    "first_digit = c()\n",
    "\n",
    "for (i in 1:nrow(df)){\n",
    "    sal_char = as.character(df$taxIncomes[i])\n",
    "    if (length(sal_char) > 0){\n",
    "        first_digit[i] = substr(sal_char, 1, 1)\n",
    "    }   else {\n",
    "         first_digit[i] = 'NA'\n",
    "        }\n",
    "}\n",
    "\n",
    "df$FirstDigit <- as.numeric(first_digit)"
   ]
  },
  {
   "cell_type": "code",
   "execution_count": 26,
   "metadata": {},
   "outputs": [],
   "source": [
    "f = function(x){\n",
    "    ans = log((x+1)/x)\n",
    "    return(ans)\n",
    "}\n"
   ]
  },
  {
   "cell_type": "code",
   "execution_count": 27,
   "metadata": {},
   "outputs": [
    {
     "name": "stdout",
     "output_type": "stream",
     "text": [
      "[1] 0.11 0.11 0.11 0.11 0.11 0.11\n"
     ]
    }
   ],
   "source": [
    "arr = c()\n",
    "for (i in 1:100){\n",
    "    num = round(f(df$FirstDigit[i]), digits=2)\n",
    "    fraud = round(1/9, digits=2)\n",
    "    if (num == fraud){\n",
    "        arr = c(arr, num)\n",
    "    }\n",
    "}\n",
    "print(arr)\n"
   ]
  },
  {
   "cell_type": "markdown",
   "metadata": {},
   "source": [
    "The array only added values to it if the function returned a value equal to 1/9, rounded to two decimal places. Since the returned array contains values, we can say that there is evidence of fradulent activity"
   ]
  },
  {
   "cell_type": "code",
   "execution_count": null,
   "metadata": {},
   "outputs": [],
   "source": []
  }
 ],
 "metadata": {
  "colab": {
   "name": "hwk1_Sp18_appm4570-computational.ipynb",
   "provenance": []
  },
  "kernelspec": {
   "display_name": "R",
   "language": "R",
   "name": "ir"
  },
  "language_info": {
   "codemirror_mode": "r",
   "file_extension": ".r",
   "mimetype": "text/x-r-source",
   "name": "R",
   "pygments_lexer": "r",
   "version": "4.2.2"
  }
 },
 "nbformat": 4,
 "nbformat_minor": 4
}
