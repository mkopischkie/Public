{
 "cells": [
  {
   "cell_type": "code",
   "execution_count": 21,
   "id": "19508f73",
   "metadata": {},
   "outputs": [],
   "source": [
    "import pandas as pd\n",
    "from mlxtend.frequent_patterns import apriori, association_rules, fpgrowth\n",
    "from matplotlib import pyplot as plt\n",
    "import plotly.express as px\n",
    "import networkx as nx\n",
    "import plotly.graph_objects as go\n",
    "import seaborn as sns"
   ]
  },
  {
   "cell_type": "code",
   "execution_count": 2,
   "id": "e91130d4",
   "metadata": {},
   "outputs": [
    {
     "data": {
      "text/html": [
       "<div>\n",
       "<style scoped>\n",
       "    .dataframe tbody tr th:only-of-type {\n",
       "        vertical-align: middle;\n",
       "    }\n",
       "\n",
       "    .dataframe tbody tr th {\n",
       "        vertical-align: top;\n",
       "    }\n",
       "\n",
       "    .dataframe thead th {\n",
       "        text-align: right;\n",
       "    }\n",
       "</style>\n",
       "<table border=\"1\" class=\"dataframe\">\n",
       "  <thead>\n",
       "    <tr style=\"text-align: right;\">\n",
       "      <th></th>\n",
       "      <th>0</th>\n",
       "      <th>1</th>\n",
       "      <th>2</th>\n",
       "      <th>3</th>\n",
       "      <th>4</th>\n",
       "      <th>5</th>\n",
       "      <th>6</th>\n",
       "      <th>7</th>\n",
       "      <th>8</th>\n",
       "      <th>9</th>\n",
       "      <th>...</th>\n",
       "      <th>24</th>\n",
       "      <th>25</th>\n",
       "      <th>26</th>\n",
       "      <th>27</th>\n",
       "      <th>28</th>\n",
       "      <th>29</th>\n",
       "      <th>30</th>\n",
       "      <th>31</th>\n",
       "      <th>32</th>\n",
       "      <th>33</th>\n",
       "    </tr>\n",
       "  </thead>\n",
       "  <tbody>\n",
       "    <tr>\n",
       "      <th>0</th>\n",
       "      <td>Health</td>\n",
       "      <td>Alistipes</td>\n",
       "      <td>Bacteroides</td>\n",
       "      <td>Bifidobacterium</td>\n",
       "      <td>Blautia</td>\n",
       "      <td>Clostridium</td>\n",
       "      <td>Dorea</td>\n",
       "      <td>Eubacterium</td>\n",
       "      <td>Faecalibacterium</td>\n",
       "      <td>Oscillibacter</td>\n",
       "      <td>...</td>\n",
       "      <td>0</td>\n",
       "      <td>0</td>\n",
       "      <td>0</td>\n",
       "      <td>0</td>\n",
       "      <td>0</td>\n",
       "      <td>0</td>\n",
       "      <td>0</td>\n",
       "      <td>0</td>\n",
       "      <td>0</td>\n",
       "      <td>0</td>\n",
       "    </tr>\n",
       "    <tr>\n",
       "      <th>1</th>\n",
       "      <td>Health</td>\n",
       "      <td>Alistipes</td>\n",
       "      <td>Bacteroides</td>\n",
       "      <td>Bifidobacterium</td>\n",
       "      <td>Blautia</td>\n",
       "      <td>Clostridium</td>\n",
       "      <td>Dorea</td>\n",
       "      <td>Eubacterium</td>\n",
       "      <td>Faecalibacterium</td>\n",
       "      <td>Oscillibacter</td>\n",
       "      <td>...</td>\n",
       "      <td>0</td>\n",
       "      <td>0</td>\n",
       "      <td>0</td>\n",
       "      <td>0</td>\n",
       "      <td>0</td>\n",
       "      <td>0</td>\n",
       "      <td>0</td>\n",
       "      <td>0</td>\n",
       "      <td>0</td>\n",
       "      <td>0</td>\n",
       "    </tr>\n",
       "    <tr>\n",
       "      <th>2</th>\n",
       "      <td>Health</td>\n",
       "      <td>Alistipes</td>\n",
       "      <td>Bacteroides</td>\n",
       "      <td>Bifidobacterium</td>\n",
       "      <td>Blautia</td>\n",
       "      <td>Clostridium</td>\n",
       "      <td>Dorea</td>\n",
       "      <td>Eubacterium</td>\n",
       "      <td>Faecalibacterium</td>\n",
       "      <td>Oscillibacter</td>\n",
       "      <td>...</td>\n",
       "      <td>0</td>\n",
       "      <td>0</td>\n",
       "      <td>0</td>\n",
       "      <td>0</td>\n",
       "      <td>0</td>\n",
       "      <td>0</td>\n",
       "      <td>0</td>\n",
       "      <td>0</td>\n",
       "      <td>0</td>\n",
       "      <td>0</td>\n",
       "    </tr>\n",
       "    <tr>\n",
       "      <th>3</th>\n",
       "      <td>Health</td>\n",
       "      <td>Alistipes</td>\n",
       "      <td>Bacteroides</td>\n",
       "      <td>Bifidobacterium</td>\n",
       "      <td>Blautia</td>\n",
       "      <td>Clostridium</td>\n",
       "      <td>Dorea</td>\n",
       "      <td>Eubacterium</td>\n",
       "      <td>Faecalibacterium</td>\n",
       "      <td>Oscillibacter</td>\n",
       "      <td>...</td>\n",
       "      <td>0</td>\n",
       "      <td>0</td>\n",
       "      <td>0</td>\n",
       "      <td>0</td>\n",
       "      <td>0</td>\n",
       "      <td>0</td>\n",
       "      <td>0</td>\n",
       "      <td>0</td>\n",
       "      <td>0</td>\n",
       "      <td>0</td>\n",
       "    </tr>\n",
       "    <tr>\n",
       "      <th>4</th>\n",
       "      <td>Health</td>\n",
       "      <td>Alistipes</td>\n",
       "      <td>Bacteroides</td>\n",
       "      <td>Bifidobacterium</td>\n",
       "      <td>Blautia</td>\n",
       "      <td>Clostridium</td>\n",
       "      <td>Dorea</td>\n",
       "      <td>Eubacterium</td>\n",
       "      <td>Faecalibacterium</td>\n",
       "      <td>Oscillibacter</td>\n",
       "      <td>...</td>\n",
       "      <td>0</td>\n",
       "      <td>0</td>\n",
       "      <td>0</td>\n",
       "      <td>0</td>\n",
       "      <td>0</td>\n",
       "      <td>0</td>\n",
       "      <td>0</td>\n",
       "      <td>0</td>\n",
       "      <td>0</td>\n",
       "      <td>0</td>\n",
       "    </tr>\n",
       "    <tr>\n",
       "      <th>...</th>\n",
       "      <td>...</td>\n",
       "      <td>...</td>\n",
       "      <td>...</td>\n",
       "      <td>...</td>\n",
       "      <td>...</td>\n",
       "      <td>...</td>\n",
       "      <td>...</td>\n",
       "      <td>...</td>\n",
       "      <td>...</td>\n",
       "      <td>...</td>\n",
       "      <td>...</td>\n",
       "      <td>...</td>\n",
       "      <td>...</td>\n",
       "      <td>...</td>\n",
       "      <td>...</td>\n",
       "      <td>...</td>\n",
       "      <td>...</td>\n",
       "      <td>...</td>\n",
       "      <td>...</td>\n",
       "      <td>...</td>\n",
       "      <td>...</td>\n",
       "    </tr>\n",
       "    <tr>\n",
       "      <th>1603</th>\n",
       "      <td>Bipolar Disorder</td>\n",
       "      <td>Eubacterium</td>\n",
       "      <td>Oscillibacter</td>\n",
       "      <td>0</td>\n",
       "      <td>0</td>\n",
       "      <td>0</td>\n",
       "      <td>0</td>\n",
       "      <td>0</td>\n",
       "      <td>0</td>\n",
       "      <td>0</td>\n",
       "      <td>...</td>\n",
       "      <td>0</td>\n",
       "      <td>0</td>\n",
       "      <td>0</td>\n",
       "      <td>0</td>\n",
       "      <td>0</td>\n",
       "      <td>0</td>\n",
       "      <td>0</td>\n",
       "      <td>0</td>\n",
       "      <td>0</td>\n",
       "      <td>0</td>\n",
       "    </tr>\n",
       "    <tr>\n",
       "      <th>1604</th>\n",
       "      <td>Health</td>\n",
       "      <td>Bacteroides</td>\n",
       "      <td>Paraprevotella</td>\n",
       "      <td>0</td>\n",
       "      <td>0</td>\n",
       "      <td>0</td>\n",
       "      <td>0</td>\n",
       "      <td>0</td>\n",
       "      <td>0</td>\n",
       "      <td>0</td>\n",
       "      <td>...</td>\n",
       "      <td>0</td>\n",
       "      <td>0</td>\n",
       "      <td>0</td>\n",
       "      <td>0</td>\n",
       "      <td>0</td>\n",
       "      <td>0</td>\n",
       "      <td>0</td>\n",
       "      <td>0</td>\n",
       "      <td>0</td>\n",
       "      <td>0</td>\n",
       "    </tr>\n",
       "    <tr>\n",
       "      <th>1605</th>\n",
       "      <td>Bipolar Disorder</td>\n",
       "      <td>Odoribacter</td>\n",
       "      <td>0</td>\n",
       "      <td>0</td>\n",
       "      <td>0</td>\n",
       "      <td>0</td>\n",
       "      <td>0</td>\n",
       "      <td>0</td>\n",
       "      <td>0</td>\n",
       "      <td>0</td>\n",
       "      <td>...</td>\n",
       "      <td>0</td>\n",
       "      <td>0</td>\n",
       "      <td>0</td>\n",
       "      <td>0</td>\n",
       "      <td>0</td>\n",
       "      <td>0</td>\n",
       "      <td>0</td>\n",
       "      <td>0</td>\n",
       "      <td>0</td>\n",
       "      <td>0</td>\n",
       "    </tr>\n",
       "    <tr>\n",
       "      <th>1606</th>\n",
       "      <td>Bipolar Disorder</td>\n",
       "      <td>Bacteroides</td>\n",
       "      <td>Prevotella</td>\n",
       "      <td>0</td>\n",
       "      <td>0</td>\n",
       "      <td>0</td>\n",
       "      <td>0</td>\n",
       "      <td>0</td>\n",
       "      <td>0</td>\n",
       "      <td>0</td>\n",
       "      <td>...</td>\n",
       "      <td>0</td>\n",
       "      <td>0</td>\n",
       "      <td>0</td>\n",
       "      <td>0</td>\n",
       "      <td>0</td>\n",
       "      <td>0</td>\n",
       "      <td>0</td>\n",
       "      <td>0</td>\n",
       "      <td>0</td>\n",
       "      <td>0</td>\n",
       "    </tr>\n",
       "    <tr>\n",
       "      <th>1607</th>\n",
       "      <td>Bipolar Disorder</td>\n",
       "      <td>Blautia</td>\n",
       "      <td>Roseburia</td>\n",
       "      <td>0</td>\n",
       "      <td>0</td>\n",
       "      <td>0</td>\n",
       "      <td>0</td>\n",
       "      <td>0</td>\n",
       "      <td>0</td>\n",
       "      <td>0</td>\n",
       "      <td>...</td>\n",
       "      <td>0</td>\n",
       "      <td>0</td>\n",
       "      <td>0</td>\n",
       "      <td>0</td>\n",
       "      <td>0</td>\n",
       "      <td>0</td>\n",
       "      <td>0</td>\n",
       "      <td>0</td>\n",
       "      <td>0</td>\n",
       "      <td>0</td>\n",
       "    </tr>\n",
       "  </tbody>\n",
       "</table>\n",
       "<p>1608 rows × 34 columns</p>\n",
       "</div>"
      ],
      "text/plain": [
       "                     0            1               2                3        4  \\\n",
       "0               Health    Alistipes     Bacteroides  Bifidobacterium  Blautia   \n",
       "1               Health    Alistipes     Bacteroides  Bifidobacterium  Blautia   \n",
       "2               Health    Alistipes     Bacteroides  Bifidobacterium  Blautia   \n",
       "3               Health    Alistipes     Bacteroides  Bifidobacterium  Blautia   \n",
       "4               Health    Alistipes     Bacteroides  Bifidobacterium  Blautia   \n",
       "...                ...          ...             ...              ...      ...   \n",
       "1603  Bipolar Disorder  Eubacterium   Oscillibacter                0        0   \n",
       "1604            Health  Bacteroides  Paraprevotella                0        0   \n",
       "1605  Bipolar Disorder  Odoribacter               0                0        0   \n",
       "1606  Bipolar Disorder  Bacteroides      Prevotella                0        0   \n",
       "1607  Bipolar Disorder      Blautia       Roseburia                0        0   \n",
       "\n",
       "                5      6            7                 8              9  ...  \\\n",
       "0     Clostridium  Dorea  Eubacterium  Faecalibacterium  Oscillibacter  ...   \n",
       "1     Clostridium  Dorea  Eubacterium  Faecalibacterium  Oscillibacter  ...   \n",
       "2     Clostridium  Dorea  Eubacterium  Faecalibacterium  Oscillibacter  ...   \n",
       "3     Clostridium  Dorea  Eubacterium  Faecalibacterium  Oscillibacter  ...   \n",
       "4     Clostridium  Dorea  Eubacterium  Faecalibacterium  Oscillibacter  ...   \n",
       "...           ...    ...          ...               ...            ...  ...   \n",
       "1603            0      0            0                 0              0  ...   \n",
       "1604            0      0            0                 0              0  ...   \n",
       "1605            0      0            0                 0              0  ...   \n",
       "1606            0      0            0                 0              0  ...   \n",
       "1607            0      0            0                 0              0  ...   \n",
       "\n",
       "     24 25 26 27 28 29 30 31 32 33  \n",
       "0     0  0  0  0  0  0  0  0  0  0  \n",
       "1     0  0  0  0  0  0  0  0  0  0  \n",
       "2     0  0  0  0  0  0  0  0  0  0  \n",
       "3     0  0  0  0  0  0  0  0  0  0  \n",
       "4     0  0  0  0  0  0  0  0  0  0  \n",
       "...  .. .. .. .. .. .. .. .. .. ..  \n",
       "1603  0  0  0  0  0  0  0  0  0  0  \n",
       "1604  0  0  0  0  0  0  0  0  0  0  \n",
       "1605  0  0  0  0  0  0  0  0  0  0  \n",
       "1606  0  0  0  0  0  0  0  0  0  0  \n",
       "1607  0  0  0  0  0  0  0  0  0  0  \n",
       "\n",
       "[1608 rows x 34 columns]"
      ]
     },
     "execution_count": 2,
     "metadata": {},
     "output_type": "execute_result"
    }
   ],
   "source": [
    "df = pd.read_csv('col_names_trans_data(Sheet1)id.csv')\n",
    "df.fillna(0, inplace=True)\n",
    "df = df.drop(['ID'], axis=1)\n",
    "df"
   ]
  },
  {
   "cell_type": "code",
   "execution_count": 3,
   "id": "d4efe730",
   "metadata": {},
   "outputs": [
    {
     "data": {
      "text/html": [
       "<div>\n",
       "<style scoped>\n",
       "    .dataframe tbody tr th:only-of-type {\n",
       "        vertical-align: middle;\n",
       "    }\n",
       "\n",
       "    .dataframe tbody tr th {\n",
       "        vertical-align: top;\n",
       "    }\n",
       "\n",
       "    .dataframe thead th {\n",
       "        text-align: right;\n",
       "    }\n",
       "</style>\n",
       "<table border=\"1\" class=\"dataframe\">\n",
       "  <thead>\n",
       "    <tr style=\"text-align: right;\">\n",
       "      <th></th>\n",
       "      <th>1</th>\n",
       "      <th>2</th>\n",
       "      <th>3</th>\n",
       "      <th>4</th>\n",
       "      <th>5</th>\n",
       "      <th>6</th>\n",
       "      <th>7</th>\n",
       "      <th>8</th>\n",
       "      <th>9</th>\n",
       "      <th>10</th>\n",
       "      <th>...</th>\n",
       "      <th>24</th>\n",
       "      <th>25</th>\n",
       "      <th>26</th>\n",
       "      <th>27</th>\n",
       "      <th>28</th>\n",
       "      <th>29</th>\n",
       "      <th>30</th>\n",
       "      <th>31</th>\n",
       "      <th>32</th>\n",
       "      <th>33</th>\n",
       "    </tr>\n",
       "  </thead>\n",
       "  <tbody>\n",
       "    <tr>\n",
       "      <th>164</th>\n",
       "      <td>Alistipes</td>\n",
       "      <td>Bacteroides</td>\n",
       "      <td>Blautia</td>\n",
       "      <td>Clostridium</td>\n",
       "      <td>Dorea</td>\n",
       "      <td>Faecalibacterium</td>\n",
       "      <td>Parabacteroides</td>\n",
       "      <td>Ruminococcus</td>\n",
       "      <td>Coprococcus</td>\n",
       "      <td>Lachnospira</td>\n",
       "      <td>...</td>\n",
       "      <td>0</td>\n",
       "      <td>0</td>\n",
       "      <td>0</td>\n",
       "      <td>0</td>\n",
       "      <td>0</td>\n",
       "      <td>0</td>\n",
       "      <td>0</td>\n",
       "      <td>0</td>\n",
       "      <td>0</td>\n",
       "      <td>0</td>\n",
       "    </tr>\n",
       "    <tr>\n",
       "      <th>165</th>\n",
       "      <td>Alistipes</td>\n",
       "      <td>Bacteroides</td>\n",
       "      <td>Clostridium</td>\n",
       "      <td>Dorea</td>\n",
       "      <td>Faecalibacterium</td>\n",
       "      <td>Parabacteroides</td>\n",
       "      <td>Ruminococcus</td>\n",
       "      <td>Coprococcus</td>\n",
       "      <td>Lachnospira</td>\n",
       "      <td>Oscillospira</td>\n",
       "      <td>...</td>\n",
       "      <td>0</td>\n",
       "      <td>0</td>\n",
       "      <td>0</td>\n",
       "      <td>0</td>\n",
       "      <td>0</td>\n",
       "      <td>0</td>\n",
       "      <td>0</td>\n",
       "      <td>0</td>\n",
       "      <td>0</td>\n",
       "      <td>0</td>\n",
       "    </tr>\n",
       "    <tr>\n",
       "      <th>166</th>\n",
       "      <td>Alistipes</td>\n",
       "      <td>Bacteroides</td>\n",
       "      <td>Blautia</td>\n",
       "      <td>Clostridium</td>\n",
       "      <td>Dorea</td>\n",
       "      <td>Faecalibacterium</td>\n",
       "      <td>Parabacteroides</td>\n",
       "      <td>Ruminococcus</td>\n",
       "      <td>Coprococcus</td>\n",
       "      <td>Lachnospira</td>\n",
       "      <td>...</td>\n",
       "      <td>0</td>\n",
       "      <td>0</td>\n",
       "      <td>0</td>\n",
       "      <td>0</td>\n",
       "      <td>0</td>\n",
       "      <td>0</td>\n",
       "      <td>0</td>\n",
       "      <td>0</td>\n",
       "      <td>0</td>\n",
       "      <td>0</td>\n",
       "    </tr>\n",
       "    <tr>\n",
       "      <th>167</th>\n",
       "      <td>Alistipes</td>\n",
       "      <td>Bacteroides</td>\n",
       "      <td>Blautia</td>\n",
       "      <td>Clostridium</td>\n",
       "      <td>Dorea</td>\n",
       "      <td>Faecalibacterium</td>\n",
       "      <td>Parabacteroides</td>\n",
       "      <td>Ruminococcus</td>\n",
       "      <td>Lachnospira</td>\n",
       "      <td>Oscillospira</td>\n",
       "      <td>...</td>\n",
       "      <td>0</td>\n",
       "      <td>0</td>\n",
       "      <td>0</td>\n",
       "      <td>0</td>\n",
       "      <td>0</td>\n",
       "      <td>0</td>\n",
       "      <td>0</td>\n",
       "      <td>0</td>\n",
       "      <td>0</td>\n",
       "      <td>0</td>\n",
       "    </tr>\n",
       "    <tr>\n",
       "      <th>168</th>\n",
       "      <td>Alistipes</td>\n",
       "      <td>Bacteroides</td>\n",
       "      <td>Blautia</td>\n",
       "      <td>Clostridium</td>\n",
       "      <td>Dorea</td>\n",
       "      <td>Faecalibacterium</td>\n",
       "      <td>Parabacteroides</td>\n",
       "      <td>Ruminococcus</td>\n",
       "      <td>Coprococcus</td>\n",
       "      <td>Lachnospira</td>\n",
       "      <td>...</td>\n",
       "      <td>0</td>\n",
       "      <td>0</td>\n",
       "      <td>0</td>\n",
       "      <td>0</td>\n",
       "      <td>0</td>\n",
       "      <td>0</td>\n",
       "      <td>0</td>\n",
       "      <td>0</td>\n",
       "      <td>0</td>\n",
       "      <td>0</td>\n",
       "    </tr>\n",
       "    <tr>\n",
       "      <th>...</th>\n",
       "      <td>...</td>\n",
       "      <td>...</td>\n",
       "      <td>...</td>\n",
       "      <td>...</td>\n",
       "      <td>...</td>\n",
       "      <td>...</td>\n",
       "      <td>...</td>\n",
       "      <td>...</td>\n",
       "      <td>...</td>\n",
       "      <td>...</td>\n",
       "      <td>...</td>\n",
       "      <td>...</td>\n",
       "      <td>...</td>\n",
       "      <td>...</td>\n",
       "      <td>...</td>\n",
       "      <td>...</td>\n",
       "      <td>...</td>\n",
       "      <td>...</td>\n",
       "      <td>...</td>\n",
       "      <td>...</td>\n",
       "      <td>...</td>\n",
       "    </tr>\n",
       "    <tr>\n",
       "      <th>233</th>\n",
       "      <td>Alistipes</td>\n",
       "      <td>Bacteroides</td>\n",
       "      <td>Blautia</td>\n",
       "      <td>Clostridium</td>\n",
       "      <td>Dorea</td>\n",
       "      <td>Faecalibacterium</td>\n",
       "      <td>Parabacteroides</td>\n",
       "      <td>Ruminococcus</td>\n",
       "      <td>Coprococcus</td>\n",
       "      <td>Lachnospira</td>\n",
       "      <td>...</td>\n",
       "      <td>0</td>\n",
       "      <td>0</td>\n",
       "      <td>0</td>\n",
       "      <td>0</td>\n",
       "      <td>0</td>\n",
       "      <td>0</td>\n",
       "      <td>0</td>\n",
       "      <td>0</td>\n",
       "      <td>0</td>\n",
       "      <td>0</td>\n",
       "    </tr>\n",
       "    <tr>\n",
       "      <th>234</th>\n",
       "      <td>Alistipes</td>\n",
       "      <td>Bacteroides</td>\n",
       "      <td>Blautia</td>\n",
       "      <td>Clostridium</td>\n",
       "      <td>Dorea</td>\n",
       "      <td>Faecalibacterium</td>\n",
       "      <td>Parabacteroides</td>\n",
       "      <td>Ruminococcus</td>\n",
       "      <td>Coprococcus</td>\n",
       "      <td>Lachnospira</td>\n",
       "      <td>...</td>\n",
       "      <td>0</td>\n",
       "      <td>0</td>\n",
       "      <td>0</td>\n",
       "      <td>0</td>\n",
       "      <td>0</td>\n",
       "      <td>0</td>\n",
       "      <td>0</td>\n",
       "      <td>0</td>\n",
       "      <td>0</td>\n",
       "      <td>0</td>\n",
       "    </tr>\n",
       "    <tr>\n",
       "      <th>235</th>\n",
       "      <td>Alistipes</td>\n",
       "      <td>Bacteroides</td>\n",
       "      <td>Blautia</td>\n",
       "      <td>Clostridium</td>\n",
       "      <td>Dorea</td>\n",
       "      <td>Faecalibacterium</td>\n",
       "      <td>Parabacteroides</td>\n",
       "      <td>Ruminococcus</td>\n",
       "      <td>Coprococcus</td>\n",
       "      <td>Lachnospira</td>\n",
       "      <td>...</td>\n",
       "      <td>0</td>\n",
       "      <td>0</td>\n",
       "      <td>0</td>\n",
       "      <td>0</td>\n",
       "      <td>0</td>\n",
       "      <td>0</td>\n",
       "      <td>0</td>\n",
       "      <td>0</td>\n",
       "      <td>0</td>\n",
       "      <td>0</td>\n",
       "    </tr>\n",
       "    <tr>\n",
       "      <th>236</th>\n",
       "      <td>Alistipes</td>\n",
       "      <td>Bacteroides</td>\n",
       "      <td>Blautia</td>\n",
       "      <td>Clostridium</td>\n",
       "      <td>Dorea</td>\n",
       "      <td>Faecalibacterium</td>\n",
       "      <td>Parabacteroides</td>\n",
       "      <td>Ruminococcus</td>\n",
       "      <td>Coprococcus</td>\n",
       "      <td>Lachnospira</td>\n",
       "      <td>...</td>\n",
       "      <td>0</td>\n",
       "      <td>0</td>\n",
       "      <td>0</td>\n",
       "      <td>0</td>\n",
       "      <td>0</td>\n",
       "      <td>0</td>\n",
       "      <td>0</td>\n",
       "      <td>0</td>\n",
       "      <td>0</td>\n",
       "      <td>0</td>\n",
       "    </tr>\n",
       "    <tr>\n",
       "      <th>237</th>\n",
       "      <td>Alistipes</td>\n",
       "      <td>Bacteroides</td>\n",
       "      <td>Blautia</td>\n",
       "      <td>Clostridium</td>\n",
       "      <td>Dorea</td>\n",
       "      <td>Faecalibacterium</td>\n",
       "      <td>Parabacteroides</td>\n",
       "      <td>Ruminococcus</td>\n",
       "      <td>Coprococcus</td>\n",
       "      <td>Lachnospira</td>\n",
       "      <td>...</td>\n",
       "      <td>0</td>\n",
       "      <td>0</td>\n",
       "      <td>0</td>\n",
       "      <td>0</td>\n",
       "      <td>0</td>\n",
       "      <td>0</td>\n",
       "      <td>0</td>\n",
       "      <td>0</td>\n",
       "      <td>0</td>\n",
       "      <td>0</td>\n",
       "    </tr>\n",
       "  </tbody>\n",
       "</table>\n",
       "<p>74 rows × 33 columns</p>\n",
       "</div>"
      ],
      "text/plain": [
       "             1            2            3            4                 5  \\\n",
       "164  Alistipes  Bacteroides      Blautia  Clostridium             Dorea   \n",
       "165  Alistipes  Bacteroides  Clostridium        Dorea  Faecalibacterium   \n",
       "166  Alistipes  Bacteroides      Blautia  Clostridium             Dorea   \n",
       "167  Alistipes  Bacteroides      Blautia  Clostridium             Dorea   \n",
       "168  Alistipes  Bacteroides      Blautia  Clostridium             Dorea   \n",
       "..         ...          ...          ...          ...               ...   \n",
       "233  Alistipes  Bacteroides      Blautia  Clostridium             Dorea   \n",
       "234  Alistipes  Bacteroides      Blautia  Clostridium             Dorea   \n",
       "235  Alistipes  Bacteroides      Blautia  Clostridium             Dorea   \n",
       "236  Alistipes  Bacteroides      Blautia  Clostridium             Dorea   \n",
       "237  Alistipes  Bacteroides      Blautia  Clostridium             Dorea   \n",
       "\n",
       "                    6                7             8            9  \\\n",
       "164  Faecalibacterium  Parabacteroides  Ruminococcus  Coprococcus   \n",
       "165   Parabacteroides     Ruminococcus   Coprococcus  Lachnospira   \n",
       "166  Faecalibacterium  Parabacteroides  Ruminococcus  Coprococcus   \n",
       "167  Faecalibacterium  Parabacteroides  Ruminococcus  Lachnospira   \n",
       "168  Faecalibacterium  Parabacteroides  Ruminococcus  Coprococcus   \n",
       "..                ...              ...           ...          ...   \n",
       "233  Faecalibacterium  Parabacteroides  Ruminococcus  Coprococcus   \n",
       "234  Faecalibacterium  Parabacteroides  Ruminococcus  Coprococcus   \n",
       "235  Faecalibacterium  Parabacteroides  Ruminococcus  Coprococcus   \n",
       "236  Faecalibacterium  Parabacteroides  Ruminococcus  Coprococcus   \n",
       "237  Faecalibacterium  Parabacteroides  Ruminococcus  Coprococcus   \n",
       "\n",
       "               10  ... 24 25 26 27 28 29 30 31 32 33  \n",
       "164   Lachnospira  ...  0  0  0  0  0  0  0  0  0  0  \n",
       "165  Oscillospira  ...  0  0  0  0  0  0  0  0  0  0  \n",
       "166   Lachnospira  ...  0  0  0  0  0  0  0  0  0  0  \n",
       "167  Oscillospira  ...  0  0  0  0  0  0  0  0  0  0  \n",
       "168   Lachnospira  ...  0  0  0  0  0  0  0  0  0  0  \n",
       "..            ...  ... .. .. .. .. .. .. .. .. .. ..  \n",
       "233   Lachnospira  ...  0  0  0  0  0  0  0  0  0  0  \n",
       "234   Lachnospira  ...  0  0  0  0  0  0  0  0  0  0  \n",
       "235   Lachnospira  ...  0  0  0  0  0  0  0  0  0  0  \n",
       "236   Lachnospira  ...  0  0  0  0  0  0  0  0  0  0  \n",
       "237   Lachnospira  ...  0  0  0  0  0  0  0  0  0  0  \n",
       "\n",
       "[74 rows x 33 columns]"
      ]
     },
     "execution_count": 3,
     "metadata": {},
     "output_type": "execute_result"
    }
   ],
   "source": [
    "park = df[df.iloc[:, 0] == 'Parkinsons']\n",
    "park = park.iloc[:, 1:]\n",
    "park"
   ]
  },
  {
   "cell_type": "code",
   "execution_count": 4,
   "id": "4d5fe0ff",
   "metadata": {},
   "outputs": [
    {
     "data": {
      "text/plain": [
       "164    [Alistipes, Bacteroides, Blautia, Clostridium,...\n",
       "165    [Alistipes, Bacteroides, Clostridium, Dorea, F...\n",
       "166    [Alistipes, Bacteroides, Blautia, Clostridium,...\n",
       "167    [Alistipes, Bacteroides, Blautia, Clostridium,...\n",
       "168    [Alistipes, Bacteroides, Blautia, Clostridium,...\n",
       "dtype: object"
      ]
     },
     "execution_count": 4,
     "metadata": {},
     "output_type": "execute_result"
    }
   ],
   "source": [
    "park_list = park.values.tolist()\n",
    "park_list_transp = park.apply(lambda row: row.tolist(), axis=1)\n",
    "park_list_transp.head()"
   ]
  },
  {
   "cell_type": "code",
   "execution_count": 5,
   "id": "2a5563dd",
   "metadata": {},
   "outputs": [
    {
     "name": "stdout",
     "output_type": "stream",
     "text": [
      "{0, 'Lachnospira', 'Blautia', 'Bacteroides', 'Dorea', 'Ruminococcus', 'Subdoligranulum', 'Sutterella', 'Anaerostipes', 'Oscillospira', 'Clostridium', 'Parabacteroides', 'Coprococcus', 'Faecalibacterium', 'Alistipes'}\n"
     ]
    }
   ],
   "source": [
    "items = set()\n",
    "for col in park:\n",
    "    items.update(park[col].unique())\n",
    "print(items)"
   ]
  },
  {
   "cell_type": "code",
   "execution_count": 6,
   "id": "2612d916",
   "metadata": {},
   "outputs": [
    {
     "data": {
      "text/html": [
       "<div>\n",
       "<style scoped>\n",
       "    .dataframe tbody tr th:only-of-type {\n",
       "        vertical-align: middle;\n",
       "    }\n",
       "\n",
       "    .dataframe tbody tr th {\n",
       "        vertical-align: top;\n",
       "    }\n",
       "\n",
       "    .dataframe thead th {\n",
       "        text-align: right;\n",
       "    }\n",
       "</style>\n",
       "<table border=\"1\" class=\"dataframe\">\n",
       "  <thead>\n",
       "    <tr style=\"text-align: right;\">\n",
       "      <th></th>\n",
       "      <th>Sutterella</th>\n",
       "      <th>Anaerostipes</th>\n",
       "      <th>Lachnospira</th>\n",
       "      <th>Blautia</th>\n",
       "      <th>Dorea</th>\n",
       "      <th>Bacteroides</th>\n",
       "      <th>Alistipes</th>\n",
       "      <th>Ruminococcus</th>\n",
       "      <th>Subdoligranulum</th>\n",
       "      <th>Oscillospira</th>\n",
       "      <th>Clostridium</th>\n",
       "      <th>Parabacteroides</th>\n",
       "      <th>Faecalibacterium</th>\n",
       "      <th>Coprococcus</th>\n",
       "    </tr>\n",
       "  </thead>\n",
       "  <tbody>\n",
       "    <tr>\n",
       "      <th>0</th>\n",
       "      <td>0</td>\n",
       "      <td>0</td>\n",
       "      <td>1</td>\n",
       "      <td>1</td>\n",
       "      <td>1</td>\n",
       "      <td>1</td>\n",
       "      <td>1</td>\n",
       "      <td>1</td>\n",
       "      <td>1</td>\n",
       "      <td>1</td>\n",
       "      <td>1</td>\n",
       "      <td>1</td>\n",
       "      <td>1</td>\n",
       "      <td>1</td>\n",
       "    </tr>\n",
       "    <tr>\n",
       "      <th>1</th>\n",
       "      <td>1</td>\n",
       "      <td>0</td>\n",
       "      <td>1</td>\n",
       "      <td>0</td>\n",
       "      <td>1</td>\n",
       "      <td>1</td>\n",
       "      <td>1</td>\n",
       "      <td>1</td>\n",
       "      <td>1</td>\n",
       "      <td>1</td>\n",
       "      <td>1</td>\n",
       "      <td>1</td>\n",
       "      <td>1</td>\n",
       "      <td>1</td>\n",
       "    </tr>\n",
       "    <tr>\n",
       "      <th>2</th>\n",
       "      <td>1</td>\n",
       "      <td>0</td>\n",
       "      <td>1</td>\n",
       "      <td>1</td>\n",
       "      <td>1</td>\n",
       "      <td>1</td>\n",
       "      <td>1</td>\n",
       "      <td>1</td>\n",
       "      <td>1</td>\n",
       "      <td>1</td>\n",
       "      <td>1</td>\n",
       "      <td>1</td>\n",
       "      <td>1</td>\n",
       "      <td>1</td>\n",
       "    </tr>\n",
       "    <tr>\n",
       "      <th>3</th>\n",
       "      <td>1</td>\n",
       "      <td>0</td>\n",
       "      <td>1</td>\n",
       "      <td>1</td>\n",
       "      <td>1</td>\n",
       "      <td>1</td>\n",
       "      <td>1</td>\n",
       "      <td>1</td>\n",
       "      <td>1</td>\n",
       "      <td>1</td>\n",
       "      <td>1</td>\n",
       "      <td>1</td>\n",
       "      <td>1</td>\n",
       "      <td>0</td>\n",
       "    </tr>\n",
       "    <tr>\n",
       "      <th>4</th>\n",
       "      <td>1</td>\n",
       "      <td>0</td>\n",
       "      <td>1</td>\n",
       "      <td>1</td>\n",
       "      <td>1</td>\n",
       "      <td>1</td>\n",
       "      <td>1</td>\n",
       "      <td>1</td>\n",
       "      <td>1</td>\n",
       "      <td>1</td>\n",
       "      <td>1</td>\n",
       "      <td>1</td>\n",
       "      <td>1</td>\n",
       "      <td>1</td>\n",
       "    </tr>\n",
       "    <tr>\n",
       "      <th>...</th>\n",
       "      <td>...</td>\n",
       "      <td>...</td>\n",
       "      <td>...</td>\n",
       "      <td>...</td>\n",
       "      <td>...</td>\n",
       "      <td>...</td>\n",
       "      <td>...</td>\n",
       "      <td>...</td>\n",
       "      <td>...</td>\n",
       "      <td>...</td>\n",
       "      <td>...</td>\n",
       "      <td>...</td>\n",
       "      <td>...</td>\n",
       "      <td>...</td>\n",
       "    </tr>\n",
       "    <tr>\n",
       "      <th>69</th>\n",
       "      <td>1</td>\n",
       "      <td>0</td>\n",
       "      <td>1</td>\n",
       "      <td>1</td>\n",
       "      <td>1</td>\n",
       "      <td>1</td>\n",
       "      <td>1</td>\n",
       "      <td>1</td>\n",
       "      <td>1</td>\n",
       "      <td>1</td>\n",
       "      <td>1</td>\n",
       "      <td>1</td>\n",
       "      <td>1</td>\n",
       "      <td>1</td>\n",
       "    </tr>\n",
       "    <tr>\n",
       "      <th>70</th>\n",
       "      <td>1</td>\n",
       "      <td>1</td>\n",
       "      <td>1</td>\n",
       "      <td>1</td>\n",
       "      <td>1</td>\n",
       "      <td>1</td>\n",
       "      <td>1</td>\n",
       "      <td>1</td>\n",
       "      <td>1</td>\n",
       "      <td>1</td>\n",
       "      <td>1</td>\n",
       "      <td>1</td>\n",
       "      <td>1</td>\n",
       "      <td>1</td>\n",
       "    </tr>\n",
       "    <tr>\n",
       "      <th>71</th>\n",
       "      <td>1</td>\n",
       "      <td>1</td>\n",
       "      <td>1</td>\n",
       "      <td>1</td>\n",
       "      <td>1</td>\n",
       "      <td>1</td>\n",
       "      <td>1</td>\n",
       "      <td>1</td>\n",
       "      <td>1</td>\n",
       "      <td>1</td>\n",
       "      <td>1</td>\n",
       "      <td>1</td>\n",
       "      <td>1</td>\n",
       "      <td>1</td>\n",
       "    </tr>\n",
       "    <tr>\n",
       "      <th>72</th>\n",
       "      <td>0</td>\n",
       "      <td>0</td>\n",
       "      <td>1</td>\n",
       "      <td>1</td>\n",
       "      <td>1</td>\n",
       "      <td>1</td>\n",
       "      <td>1</td>\n",
       "      <td>1</td>\n",
       "      <td>1</td>\n",
       "      <td>1</td>\n",
       "      <td>1</td>\n",
       "      <td>1</td>\n",
       "      <td>1</td>\n",
       "      <td>1</td>\n",
       "    </tr>\n",
       "    <tr>\n",
       "      <th>73</th>\n",
       "      <td>1</td>\n",
       "      <td>1</td>\n",
       "      <td>1</td>\n",
       "      <td>1</td>\n",
       "      <td>1</td>\n",
       "      <td>1</td>\n",
       "      <td>1</td>\n",
       "      <td>1</td>\n",
       "      <td>1</td>\n",
       "      <td>1</td>\n",
       "      <td>1</td>\n",
       "      <td>1</td>\n",
       "      <td>1</td>\n",
       "      <td>1</td>\n",
       "    </tr>\n",
       "  </tbody>\n",
       "</table>\n",
       "<p>74 rows × 14 columns</p>\n",
       "</div>"
      ],
      "text/plain": [
       "    Sutterella  Anaerostipes  Lachnospira  Blautia  Dorea  Bacteroides  \\\n",
       "0            0             0            1        1      1            1   \n",
       "1            1             0            1        0      1            1   \n",
       "2            1             0            1        1      1            1   \n",
       "3            1             0            1        1      1            1   \n",
       "4            1             0            1        1      1            1   \n",
       "..         ...           ...          ...      ...    ...          ...   \n",
       "69           1             0            1        1      1            1   \n",
       "70           1             1            1        1      1            1   \n",
       "71           1             1            1        1      1            1   \n",
       "72           0             0            1        1      1            1   \n",
       "73           1             1            1        1      1            1   \n",
       "\n",
       "    Alistipes  Ruminococcus  Subdoligranulum  Oscillospira  Clostridium  \\\n",
       "0           1             1                1             1            1   \n",
       "1           1             1                1             1            1   \n",
       "2           1             1                1             1            1   \n",
       "3           1             1                1             1            1   \n",
       "4           1             1                1             1            1   \n",
       "..        ...           ...              ...           ...          ...   \n",
       "69          1             1                1             1            1   \n",
       "70          1             1                1             1            1   \n",
       "71          1             1                1             1            1   \n",
       "72          1             1                1             1            1   \n",
       "73          1             1                1             1            1   \n",
       "\n",
       "    Parabacteroides  Faecalibacterium  Coprococcus  \n",
       "0                 1                 1            1  \n",
       "1                 1                 1            1  \n",
       "2                 1                 1            1  \n",
       "3                 1                 1            0  \n",
       "4                 1                 1            1  \n",
       "..              ...               ...          ...  \n",
       "69                1                 1            1  \n",
       "70                1                 1            1  \n",
       "71                1                 1            1  \n",
       "72                1                 1            1  \n",
       "73                1                 1            1  \n",
       "\n",
       "[74 rows x 14 columns]"
      ]
     },
     "execution_count": 6,
     "metadata": {},
     "output_type": "execute_result"
    }
   ],
   "source": [
    "itemset = set(items)\n",
    "encoded_vals = []\n",
    "for index, row in park.iterrows():\n",
    "    rowset = set(row)\n",
    "    labels = {}\n",
    "    uncommons = list(itemset - rowset)\n",
    "    commons = list(itemset.intersection(rowset))\n",
    "    for uc in uncommons:\n",
    "        labels[uc] = 0\n",
    "    for com in commons:\n",
    "        labels[com] = 1\n",
    "    encoded_vals.append(labels)\n",
    "\n",
    "# ohe -> One-Hot-Encoded\n",
    "ohe_df = pd.DataFrame(encoded_vals).drop(columns=0)\n",
    "ohe_df\n"
   ]
  },
  {
   "cell_type": "code",
   "execution_count": 28,
   "id": "6ae4c163",
   "metadata": {},
   "outputs": [
    {
     "data": {
      "text/plain": [
       "Sutterella          bool\n",
       "Anaerostipes        bool\n",
       "Lachnospira         bool\n",
       "Blautia             bool\n",
       "Dorea               bool\n",
       "Bacteroides         bool\n",
       "Alistipes           bool\n",
       "Ruminococcus        bool\n",
       "Subdoligranulum     bool\n",
       "Oscillospira        bool\n",
       "Clostridium         bool\n",
       "Parabacteroides     bool\n",
       "Faecalibacterium    bool\n",
       "Coprococcus         bool\n",
       "dtype: object"
      ]
     },
     "execution_count": 28,
     "metadata": {},
     "output_type": "execute_result"
    }
   ],
   "source": [
    "ohe_df = ohe_df.astype(bool)\n",
    "ohe_df.dtypes"
   ]
  },
  {
   "cell_type": "code",
   "execution_count": 111,
   "id": "e00efe7e",
   "metadata": {},
   "outputs": [
    {
     "name": "stdout",
     "output_type": "stream",
     "text": [
      "\r",
      "Processing 6 combinations | Sampling itemset size 2\r",
      "Processing 3 combinations | Sampling itemset size 3\n"
     ]
    }
   ],
   "source": [
    "freq_items = apriori(ohe_df, min_support=1, use_colnames=True, verbose=1, max_len=3)\n",
    "#freq_items"
   ]
  },
  {
   "cell_type": "code",
   "execution_count": 112,
   "id": "51f17981",
   "metadata": {},
   "outputs": [
    {
     "data": {
      "text/plain": [
       "12"
      ]
     },
     "execution_count": 112,
     "metadata": {},
     "output_type": "execute_result"
    }
   ],
   "source": [
    "conf_rules = association_rules(freq_items, metric=\"confidence\", min_threshold=1)\n",
    "\n",
    "len(conf_rules)"
   ]
  },
  {
   "cell_type": "code",
   "execution_count": 80,
   "id": "d51ecb0a",
   "metadata": {},
   "outputs": [
    {
     "data": {
      "text/plain": [
       "60"
      ]
     },
     "execution_count": 80,
     "metadata": {},
     "output_type": "execute_result"
    }
   ],
   "source": [
    "sup_rules = association_rules(freq_items, metric='support', min_threshold=0.97)\n",
    "len(sup_rules)"
   ]
  },
  {
   "cell_type": "code",
   "execution_count": 40,
   "id": "0ab2fa22",
   "metadata": {},
   "outputs": [
    {
     "data": {
      "text/plain": [
       "60"
      ]
     },
     "execution_count": 40,
     "metadata": {},
     "output_type": "execute_result"
    }
   ],
   "source": [
    "lift_rules = association_rules(freq_items, metric='lift', min_threshold=1)\n",
    "len(lift_rules)"
   ]
  },
  {
   "cell_type": "code",
   "execution_count": 61,
   "id": "2941b95b",
   "metadata": {},
   "outputs": [
    {
     "data": {
      "text/html": [
       "<div>\n",
       "<style scoped>\n",
       "    .dataframe tbody tr th:only-of-type {\n",
       "        vertical-align: middle;\n",
       "    }\n",
       "\n",
       "    .dataframe tbody tr th {\n",
       "        vertical-align: top;\n",
       "    }\n",
       "\n",
       "    .dataframe thead th {\n",
       "        text-align: right;\n",
       "    }\n",
       "</style>\n",
       "<table border=\"1\" class=\"dataframe\">\n",
       "  <thead>\n",
       "    <tr style=\"text-align: right;\">\n",
       "      <th></th>\n",
       "      <th>antecedents</th>\n",
       "      <th>consequents</th>\n",
       "      <th>antecedent support</th>\n",
       "      <th>consequent support</th>\n",
       "      <th>support</th>\n",
       "      <th>confidence</th>\n",
       "      <th>lift</th>\n",
       "      <th>leverage</th>\n",
       "      <th>conviction</th>\n",
       "      <th>zhangs_metric</th>\n",
       "    </tr>\n",
       "  </thead>\n",
       "  <tbody>\n",
       "    <tr>\n",
       "      <th>0</th>\n",
       "      <td>(Blautia)</td>\n",
       "      <td>(Bacteroides)</td>\n",
       "      <td>0.972973</td>\n",
       "      <td>1.0</td>\n",
       "      <td>0.972973</td>\n",
       "      <td>1.0</td>\n",
       "      <td>1.0</td>\n",
       "      <td>0.0</td>\n",
       "      <td>inf</td>\n",
       "      <td>0.0</td>\n",
       "    </tr>\n",
       "    <tr>\n",
       "      <th>1</th>\n",
       "      <td>(Blautia)</td>\n",
       "      <td>(Ruminococcus)</td>\n",
       "      <td>0.972973</td>\n",
       "      <td>1.0</td>\n",
       "      <td>0.972973</td>\n",
       "      <td>1.0</td>\n",
       "      <td>1.0</td>\n",
       "      <td>0.0</td>\n",
       "      <td>inf</td>\n",
       "      <td>0.0</td>\n",
       "    </tr>\n",
       "    <tr>\n",
       "      <th>20</th>\n",
       "      <td>(Blautia)</td>\n",
       "      <td>(Oscillospira, Ruminococcus)</td>\n",
       "      <td>0.972973</td>\n",
       "      <td>1.0</td>\n",
       "      <td>0.972973</td>\n",
       "      <td>1.0</td>\n",
       "      <td>1.0</td>\n",
       "      <td>0.0</td>\n",
       "      <td>inf</td>\n",
       "      <td>0.0</td>\n",
       "    </tr>\n",
       "    <tr>\n",
       "      <th>21</th>\n",
       "      <td>(Oscillospira, Ruminococcus)</td>\n",
       "      <td>(Bacteroides)</td>\n",
       "      <td>1.000000</td>\n",
       "      <td>1.0</td>\n",
       "      <td>1.000000</td>\n",
       "      <td>1.0</td>\n",
       "      <td>1.0</td>\n",
       "      <td>0.0</td>\n",
       "      <td>inf</td>\n",
       "      <td>0.0</td>\n",
       "    </tr>\n",
       "    <tr>\n",
       "      <th>22</th>\n",
       "      <td>(Oscillospira, Bacteroides)</td>\n",
       "      <td>(Ruminococcus)</td>\n",
       "      <td>1.000000</td>\n",
       "      <td>1.0</td>\n",
       "      <td>1.000000</td>\n",
       "      <td>1.0</td>\n",
       "      <td>1.0</td>\n",
       "      <td>0.0</td>\n",
       "      <td>inf</td>\n",
       "      <td>0.0</td>\n",
       "    </tr>\n",
       "    <tr>\n",
       "      <th>23</th>\n",
       "      <td>(Ruminococcus, Bacteroides)</td>\n",
       "      <td>(Oscillospira)</td>\n",
       "      <td>1.000000</td>\n",
       "      <td>1.0</td>\n",
       "      <td>1.000000</td>\n",
       "      <td>1.0</td>\n",
       "      <td>1.0</td>\n",
       "      <td>0.0</td>\n",
       "      <td>inf</td>\n",
       "      <td>0.0</td>\n",
       "    </tr>\n",
       "    <tr>\n",
       "      <th>24</th>\n",
       "      <td>(Oscillospira)</td>\n",
       "      <td>(Ruminococcus, Bacteroides)</td>\n",
       "      <td>1.000000</td>\n",
       "      <td>1.0</td>\n",
       "      <td>1.000000</td>\n",
       "      <td>1.0</td>\n",
       "      <td>1.0</td>\n",
       "      <td>0.0</td>\n",
       "      <td>inf</td>\n",
       "      <td>0.0</td>\n",
       "    </tr>\n",
       "    <tr>\n",
       "      <th>25</th>\n",
       "      <td>(Ruminococcus)</td>\n",
       "      <td>(Oscillospira, Bacteroides)</td>\n",
       "      <td>1.000000</td>\n",
       "      <td>1.0</td>\n",
       "      <td>1.000000</td>\n",
       "      <td>1.0</td>\n",
       "      <td>1.0</td>\n",
       "      <td>0.0</td>\n",
       "      <td>inf</td>\n",
       "      <td>0.0</td>\n",
       "    </tr>\n",
       "    <tr>\n",
       "      <th>26</th>\n",
       "      <td>(Bacteroides)</td>\n",
       "      <td>(Oscillospira, Ruminococcus)</td>\n",
       "      <td>1.000000</td>\n",
       "      <td>1.0</td>\n",
       "      <td>1.000000</td>\n",
       "      <td>1.0</td>\n",
       "      <td>1.0</td>\n",
       "      <td>0.0</td>\n",
       "      <td>inf</td>\n",
       "      <td>0.0</td>\n",
       "    </tr>\n",
       "    <tr>\n",
       "      <th>27</th>\n",
       "      <td>(Ruminococcus, Parabacteroides)</td>\n",
       "      <td>(Bacteroides)</td>\n",
       "      <td>0.972973</td>\n",
       "      <td>1.0</td>\n",
       "      <td>0.972973</td>\n",
       "      <td>1.0</td>\n",
       "      <td>1.0</td>\n",
       "      <td>0.0</td>\n",
       "      <td>inf</td>\n",
       "      <td>0.0</td>\n",
       "    </tr>\n",
       "    <tr>\n",
       "      <th>28</th>\n",
       "      <td>(Parabacteroides, Bacteroides)</td>\n",
       "      <td>(Ruminococcus)</td>\n",
       "      <td>0.972973</td>\n",
       "      <td>1.0</td>\n",
       "      <td>0.972973</td>\n",
       "      <td>1.0</td>\n",
       "      <td>1.0</td>\n",
       "      <td>0.0</td>\n",
       "      <td>inf</td>\n",
       "      <td>0.0</td>\n",
       "    </tr>\n",
       "    <tr>\n",
       "      <th>29</th>\n",
       "      <td>(Parabacteroides)</td>\n",
       "      <td>(Ruminococcus, Bacteroides)</td>\n",
       "      <td>0.972973</td>\n",
       "      <td>1.0</td>\n",
       "      <td>0.972973</td>\n",
       "      <td>1.0</td>\n",
       "      <td>1.0</td>\n",
       "      <td>0.0</td>\n",
       "      <td>inf</td>\n",
       "      <td>0.0</td>\n",
       "    </tr>\n",
       "    <tr>\n",
       "      <th>30</th>\n",
       "      <td>(Oscillospira, Parabacteroides)</td>\n",
       "      <td>(Bacteroides)</td>\n",
       "      <td>0.972973</td>\n",
       "      <td>1.0</td>\n",
       "      <td>0.972973</td>\n",
       "      <td>1.0</td>\n",
       "      <td>1.0</td>\n",
       "      <td>0.0</td>\n",
       "      <td>inf</td>\n",
       "      <td>0.0</td>\n",
       "    </tr>\n",
       "    <tr>\n",
       "      <th>31</th>\n",
       "      <td>(Parabacteroides, Bacteroides)</td>\n",
       "      <td>(Oscillospira)</td>\n",
       "      <td>0.972973</td>\n",
       "      <td>1.0</td>\n",
       "      <td>0.972973</td>\n",
       "      <td>1.0</td>\n",
       "      <td>1.0</td>\n",
       "      <td>0.0</td>\n",
       "      <td>inf</td>\n",
       "      <td>0.0</td>\n",
       "    </tr>\n",
       "    <tr>\n",
       "      <th>32</th>\n",
       "      <td>(Parabacteroides)</td>\n",
       "      <td>(Oscillospira, Bacteroides)</td>\n",
       "      <td>0.972973</td>\n",
       "      <td>1.0</td>\n",
       "      <td>0.972973</td>\n",
       "      <td>1.0</td>\n",
       "      <td>1.0</td>\n",
       "      <td>0.0</td>\n",
       "      <td>inf</td>\n",
       "      <td>0.0</td>\n",
       "    </tr>\n",
       "  </tbody>\n",
       "</table>\n",
       "</div>"
      ],
      "text/plain": [
       "                        antecedents                   consequents  \\\n",
       "0                         (Blautia)                 (Bacteroides)   \n",
       "1                         (Blautia)                (Ruminococcus)   \n",
       "20                        (Blautia)  (Oscillospira, Ruminococcus)   \n",
       "21     (Oscillospira, Ruminococcus)                 (Bacteroides)   \n",
       "22      (Oscillospira, Bacteroides)                (Ruminococcus)   \n",
       "23      (Ruminococcus, Bacteroides)                (Oscillospira)   \n",
       "24                   (Oscillospira)   (Ruminococcus, Bacteroides)   \n",
       "25                   (Ruminococcus)   (Oscillospira, Bacteroides)   \n",
       "26                    (Bacteroides)  (Oscillospira, Ruminococcus)   \n",
       "27  (Ruminococcus, Parabacteroides)                 (Bacteroides)   \n",
       "28   (Parabacteroides, Bacteroides)                (Ruminococcus)   \n",
       "29                (Parabacteroides)   (Ruminococcus, Bacteroides)   \n",
       "30  (Oscillospira, Parabacteroides)                 (Bacteroides)   \n",
       "31   (Parabacteroides, Bacteroides)                (Oscillospira)   \n",
       "32                (Parabacteroides)   (Oscillospira, Bacteroides)   \n",
       "\n",
       "    antecedent support  consequent support   support  confidence  lift  \\\n",
       "0             0.972973                 1.0  0.972973         1.0   1.0   \n",
       "1             0.972973                 1.0  0.972973         1.0   1.0   \n",
       "20            0.972973                 1.0  0.972973         1.0   1.0   \n",
       "21            1.000000                 1.0  1.000000         1.0   1.0   \n",
       "22            1.000000                 1.0  1.000000         1.0   1.0   \n",
       "23            1.000000                 1.0  1.000000         1.0   1.0   \n",
       "24            1.000000                 1.0  1.000000         1.0   1.0   \n",
       "25            1.000000                 1.0  1.000000         1.0   1.0   \n",
       "26            1.000000                 1.0  1.000000         1.0   1.0   \n",
       "27            0.972973                 1.0  0.972973         1.0   1.0   \n",
       "28            0.972973                 1.0  0.972973         1.0   1.0   \n",
       "29            0.972973                 1.0  0.972973         1.0   1.0   \n",
       "30            0.972973                 1.0  0.972973         1.0   1.0   \n",
       "31            0.972973                 1.0  0.972973         1.0   1.0   \n",
       "32            0.972973                 1.0  0.972973         1.0   1.0   \n",
       "\n",
       "    leverage  conviction  zhangs_metric  \n",
       "0        0.0         inf            0.0  \n",
       "1        0.0         inf            0.0  \n",
       "20       0.0         inf            0.0  \n",
       "21       0.0         inf            0.0  \n",
       "22       0.0         inf            0.0  \n",
       "23       0.0         inf            0.0  \n",
       "24       0.0         inf            0.0  \n",
       "25       0.0         inf            0.0  \n",
       "26       0.0         inf            0.0  \n",
       "27       0.0         inf            0.0  \n",
       "28       0.0         inf            0.0  \n",
       "29       0.0         inf            0.0  \n",
       "30       0.0         inf            0.0  \n",
       "31       0.0         inf            0.0  \n",
       "32       0.0         inf            0.0  "
      ]
     },
     "execution_count": 61,
     "metadata": {},
     "output_type": "execute_result"
    }
   ],
   "source": [
    "conf_sorted_rules = conf_rules.sort_values(by=\"confidence\", ascending=False)\n",
    "conf_sorted_rules.head(15)"
   ]
  },
  {
   "cell_type": "code",
   "execution_count": 78,
   "id": "a279436f",
   "metadata": {},
   "outputs": [
    {
     "data": {
      "text/html": [
       "<div>\n",
       "<style scoped>\n",
       "    .dataframe tbody tr th:only-of-type {\n",
       "        vertical-align: middle;\n",
       "    }\n",
       "\n",
       "    .dataframe tbody tr th {\n",
       "        vertical-align: top;\n",
       "    }\n",
       "\n",
       "    .dataframe thead th {\n",
       "        text-align: right;\n",
       "    }\n",
       "</style>\n",
       "<table border=\"1\" class=\"dataframe\">\n",
       "  <thead>\n",
       "    <tr style=\"text-align: right;\">\n",
       "      <th></th>\n",
       "      <th>antecedents</th>\n",
       "      <th>consequents</th>\n",
       "      <th>antecedent support</th>\n",
       "      <th>consequent support</th>\n",
       "      <th>support</th>\n",
       "      <th>confidence</th>\n",
       "      <th>lift</th>\n",
       "      <th>leverage</th>\n",
       "      <th>conviction</th>\n",
       "      <th>zhangs_metric</th>\n",
       "    </tr>\n",
       "  </thead>\n",
       "  <tbody>\n",
       "    <tr>\n",
       "      <th>9</th>\n",
       "      <td>(Bacteroides)</td>\n",
       "      <td>(Oscillospira)</td>\n",
       "      <td>1.000000</td>\n",
       "      <td>1.000000</td>\n",
       "      <td>1.000000</td>\n",
       "      <td>1.000000</td>\n",
       "      <td>1.0</td>\n",
       "      <td>0.0</td>\n",
       "      <td>inf</td>\n",
       "      <td>0.0</td>\n",
       "    </tr>\n",
       "    <tr>\n",
       "      <th>36</th>\n",
       "      <td>(Oscillospira, Ruminococcus)</td>\n",
       "      <td>(Bacteroides)</td>\n",
       "      <td>1.000000</td>\n",
       "      <td>1.000000</td>\n",
       "      <td>1.000000</td>\n",
       "      <td>1.000000</td>\n",
       "      <td>1.0</td>\n",
       "      <td>0.0</td>\n",
       "      <td>inf</td>\n",
       "      <td>0.0</td>\n",
       "    </tr>\n",
       "    <tr>\n",
       "      <th>37</th>\n",
       "      <td>(Oscillospira, Bacteroides)</td>\n",
       "      <td>(Ruminococcus)</td>\n",
       "      <td>1.000000</td>\n",
       "      <td>1.000000</td>\n",
       "      <td>1.000000</td>\n",
       "      <td>1.000000</td>\n",
       "      <td>1.0</td>\n",
       "      <td>0.0</td>\n",
       "      <td>inf</td>\n",
       "      <td>0.0</td>\n",
       "    </tr>\n",
       "    <tr>\n",
       "      <th>38</th>\n",
       "      <td>(Ruminococcus, Bacteroides)</td>\n",
       "      <td>(Oscillospira)</td>\n",
       "      <td>1.000000</td>\n",
       "      <td>1.000000</td>\n",
       "      <td>1.000000</td>\n",
       "      <td>1.000000</td>\n",
       "      <td>1.0</td>\n",
       "      <td>0.0</td>\n",
       "      <td>inf</td>\n",
       "      <td>0.0</td>\n",
       "    </tr>\n",
       "    <tr>\n",
       "      <th>6</th>\n",
       "      <td>(Ruminococcus)</td>\n",
       "      <td>(Bacteroides)</td>\n",
       "      <td>1.000000</td>\n",
       "      <td>1.000000</td>\n",
       "      <td>1.000000</td>\n",
       "      <td>1.000000</td>\n",
       "      <td>1.0</td>\n",
       "      <td>0.0</td>\n",
       "      <td>inf</td>\n",
       "      <td>0.0</td>\n",
       "    </tr>\n",
       "    <tr>\n",
       "      <th>7</th>\n",
       "      <td>(Bacteroides)</td>\n",
       "      <td>(Ruminococcus)</td>\n",
       "      <td>1.000000</td>\n",
       "      <td>1.000000</td>\n",
       "      <td>1.000000</td>\n",
       "      <td>1.000000</td>\n",
       "      <td>1.0</td>\n",
       "      <td>0.0</td>\n",
       "      <td>inf</td>\n",
       "      <td>0.0</td>\n",
       "    </tr>\n",
       "    <tr>\n",
       "      <th>8</th>\n",
       "      <td>(Oscillospira)</td>\n",
       "      <td>(Bacteroides)</td>\n",
       "      <td>1.000000</td>\n",
       "      <td>1.000000</td>\n",
       "      <td>1.000000</td>\n",
       "      <td>1.000000</td>\n",
       "      <td>1.0</td>\n",
       "      <td>0.0</td>\n",
       "      <td>inf</td>\n",
       "      <td>0.0</td>\n",
       "    </tr>\n",
       "    <tr>\n",
       "      <th>39</th>\n",
       "      <td>(Oscillospira)</td>\n",
       "      <td>(Ruminococcus, Bacteroides)</td>\n",
       "      <td>1.000000</td>\n",
       "      <td>1.000000</td>\n",
       "      <td>1.000000</td>\n",
       "      <td>1.000000</td>\n",
       "      <td>1.0</td>\n",
       "      <td>0.0</td>\n",
       "      <td>inf</td>\n",
       "      <td>0.0</td>\n",
       "    </tr>\n",
       "    <tr>\n",
       "      <th>40</th>\n",
       "      <td>(Ruminococcus)</td>\n",
       "      <td>(Oscillospira, Bacteroides)</td>\n",
       "      <td>1.000000</td>\n",
       "      <td>1.000000</td>\n",
       "      <td>1.000000</td>\n",
       "      <td>1.000000</td>\n",
       "      <td>1.0</td>\n",
       "      <td>0.0</td>\n",
       "      <td>inf</td>\n",
       "      <td>0.0</td>\n",
       "    </tr>\n",
       "    <tr>\n",
       "      <th>12</th>\n",
       "      <td>(Oscillospira)</td>\n",
       "      <td>(Ruminococcus)</td>\n",
       "      <td>1.000000</td>\n",
       "      <td>1.000000</td>\n",
       "      <td>1.000000</td>\n",
       "      <td>1.000000</td>\n",
       "      <td>1.0</td>\n",
       "      <td>0.0</td>\n",
       "      <td>inf</td>\n",
       "      <td>0.0</td>\n",
       "    </tr>\n",
       "    <tr>\n",
       "      <th>13</th>\n",
       "      <td>(Ruminococcus)</td>\n",
       "      <td>(Oscillospira)</td>\n",
       "      <td>1.000000</td>\n",
       "      <td>1.000000</td>\n",
       "      <td>1.000000</td>\n",
       "      <td>1.000000</td>\n",
       "      <td>1.0</td>\n",
       "      <td>0.0</td>\n",
       "      <td>inf</td>\n",
       "      <td>0.0</td>\n",
       "    </tr>\n",
       "    <tr>\n",
       "      <th>41</th>\n",
       "      <td>(Bacteroides)</td>\n",
       "      <td>(Oscillospira, Ruminococcus)</td>\n",
       "      <td>1.000000</td>\n",
       "      <td>1.000000</td>\n",
       "      <td>1.000000</td>\n",
       "      <td>1.000000</td>\n",
       "      <td>1.0</td>\n",
       "      <td>0.0</td>\n",
       "      <td>inf</td>\n",
       "      <td>0.0</td>\n",
       "    </tr>\n",
       "    <tr>\n",
       "      <th>42</th>\n",
       "      <td>(Ruminococcus, Parabacteroides)</td>\n",
       "      <td>(Bacteroides)</td>\n",
       "      <td>0.972973</td>\n",
       "      <td>1.000000</td>\n",
       "      <td>0.972973</td>\n",
       "      <td>1.000000</td>\n",
       "      <td>1.0</td>\n",
       "      <td>0.0</td>\n",
       "      <td>inf</td>\n",
       "      <td>0.0</td>\n",
       "    </tr>\n",
       "    <tr>\n",
       "      <th>44</th>\n",
       "      <td>(Parabacteroides, Bacteroides)</td>\n",
       "      <td>(Ruminococcus)</td>\n",
       "      <td>0.972973</td>\n",
       "      <td>1.000000</td>\n",
       "      <td>0.972973</td>\n",
       "      <td>1.000000</td>\n",
       "      <td>1.0</td>\n",
       "      <td>0.0</td>\n",
       "      <td>inf</td>\n",
       "      <td>0.0</td>\n",
       "    </tr>\n",
       "    <tr>\n",
       "      <th>43</th>\n",
       "      <td>(Ruminococcus, Bacteroides)</td>\n",
       "      <td>(Parabacteroides)</td>\n",
       "      <td>1.000000</td>\n",
       "      <td>0.972973</td>\n",
       "      <td>0.972973</td>\n",
       "      <td>0.972973</td>\n",
       "      <td>1.0</td>\n",
       "      <td>0.0</td>\n",
       "      <td>1.0</td>\n",
       "      <td>0.0</td>\n",
       "    </tr>\n",
       "  </tbody>\n",
       "</table>\n",
       "</div>"
      ],
      "text/plain": [
       "                        antecedents                   consequents  \\\n",
       "9                     (Bacteroides)                (Oscillospira)   \n",
       "36     (Oscillospira, Ruminococcus)                 (Bacteroides)   \n",
       "37      (Oscillospira, Bacteroides)                (Ruminococcus)   \n",
       "38      (Ruminococcus, Bacteroides)                (Oscillospira)   \n",
       "6                    (Ruminococcus)                 (Bacteroides)   \n",
       "7                     (Bacteroides)                (Ruminococcus)   \n",
       "8                    (Oscillospira)                 (Bacteroides)   \n",
       "39                   (Oscillospira)   (Ruminococcus, Bacteroides)   \n",
       "40                   (Ruminococcus)   (Oscillospira, Bacteroides)   \n",
       "12                   (Oscillospira)                (Ruminococcus)   \n",
       "13                   (Ruminococcus)                (Oscillospira)   \n",
       "41                    (Bacteroides)  (Oscillospira, Ruminococcus)   \n",
       "42  (Ruminococcus, Parabacteroides)                 (Bacteroides)   \n",
       "44   (Parabacteroides, Bacteroides)                (Ruminococcus)   \n",
       "43      (Ruminococcus, Bacteroides)             (Parabacteroides)   \n",
       "\n",
       "    antecedent support  consequent support   support  confidence  lift  \\\n",
       "9             1.000000            1.000000  1.000000    1.000000   1.0   \n",
       "36            1.000000            1.000000  1.000000    1.000000   1.0   \n",
       "37            1.000000            1.000000  1.000000    1.000000   1.0   \n",
       "38            1.000000            1.000000  1.000000    1.000000   1.0   \n",
       "6             1.000000            1.000000  1.000000    1.000000   1.0   \n",
       "7             1.000000            1.000000  1.000000    1.000000   1.0   \n",
       "8             1.000000            1.000000  1.000000    1.000000   1.0   \n",
       "39            1.000000            1.000000  1.000000    1.000000   1.0   \n",
       "40            1.000000            1.000000  1.000000    1.000000   1.0   \n",
       "12            1.000000            1.000000  1.000000    1.000000   1.0   \n",
       "13            1.000000            1.000000  1.000000    1.000000   1.0   \n",
       "41            1.000000            1.000000  1.000000    1.000000   1.0   \n",
       "42            0.972973            1.000000  0.972973    1.000000   1.0   \n",
       "44            0.972973            1.000000  0.972973    1.000000   1.0   \n",
       "43            1.000000            0.972973  0.972973    0.972973   1.0   \n",
       "\n",
       "    leverage  conviction  zhangs_metric  \n",
       "9        0.0         inf            0.0  \n",
       "36       0.0         inf            0.0  \n",
       "37       0.0         inf            0.0  \n",
       "38       0.0         inf            0.0  \n",
       "6        0.0         inf            0.0  \n",
       "7        0.0         inf            0.0  \n",
       "8        0.0         inf            0.0  \n",
       "39       0.0         inf            0.0  \n",
       "40       0.0         inf            0.0  \n",
       "12       0.0         inf            0.0  \n",
       "13       0.0         inf            0.0  \n",
       "41       0.0         inf            0.0  \n",
       "42       0.0         inf            0.0  \n",
       "44       0.0         inf            0.0  \n",
       "43       0.0         1.0            0.0  "
      ]
     },
     "execution_count": 78,
     "metadata": {},
     "output_type": "execute_result"
    }
   ],
   "source": [
    "sup_sorted_rules = sup_rules.sort_values(by=\"support\", ascending=False)\n",
    "sup_sorted_rules.head(15)"
   ]
  },
  {
   "cell_type": "code",
   "execution_count": 81,
   "id": "8432c653",
   "metadata": {},
   "outputs": [
    {
     "data": {
      "text/html": [
       "<div>\n",
       "<style scoped>\n",
       "    .dataframe tbody tr th:only-of-type {\n",
       "        vertical-align: middle;\n",
       "    }\n",
       "\n",
       "    .dataframe tbody tr th {\n",
       "        vertical-align: top;\n",
       "    }\n",
       "\n",
       "    .dataframe thead th {\n",
       "        text-align: right;\n",
       "    }\n",
       "</style>\n",
       "<table border=\"1\" class=\"dataframe\">\n",
       "  <thead>\n",
       "    <tr style=\"text-align: right;\">\n",
       "      <th></th>\n",
       "      <th>antecedents</th>\n",
       "      <th>consequents</th>\n",
       "      <th>antecedent support</th>\n",
       "      <th>consequent support</th>\n",
       "      <th>support</th>\n",
       "      <th>confidence</th>\n",
       "      <th>lift</th>\n",
       "      <th>leverage</th>\n",
       "      <th>conviction</th>\n",
       "      <th>zhangs_metric</th>\n",
       "    </tr>\n",
       "  </thead>\n",
       "  <tbody>\n",
       "    <tr>\n",
       "      <th>0</th>\n",
       "      <td>(Blautia)</td>\n",
       "      <td>(Bacteroides)</td>\n",
       "      <td>0.972973</td>\n",
       "      <td>1.000000</td>\n",
       "      <td>0.972973</td>\n",
       "      <td>1.000000</td>\n",
       "      <td>1.0</td>\n",
       "      <td>0.0</td>\n",
       "      <td>inf</td>\n",
       "      <td>0.0</td>\n",
       "    </tr>\n",
       "    <tr>\n",
       "      <th>1</th>\n",
       "      <td>(Bacteroides)</td>\n",
       "      <td>(Blautia)</td>\n",
       "      <td>1.000000</td>\n",
       "      <td>0.972973</td>\n",
       "      <td>0.972973</td>\n",
       "      <td>0.972973</td>\n",
       "      <td>1.0</td>\n",
       "      <td>0.0</td>\n",
       "      <td>1.0</td>\n",
       "      <td>0.0</td>\n",
       "    </tr>\n",
       "    <tr>\n",
       "      <th>32</th>\n",
       "      <td>(Ruminococcus, Blautia)</td>\n",
       "      <td>(Oscillospira)</td>\n",
       "      <td>0.972973</td>\n",
       "      <td>1.000000</td>\n",
       "      <td>0.972973</td>\n",
       "      <td>1.000000</td>\n",
       "      <td>1.0</td>\n",
       "      <td>0.0</td>\n",
       "      <td>inf</td>\n",
       "      <td>0.0</td>\n",
       "    </tr>\n",
       "    <tr>\n",
       "      <th>33</th>\n",
       "      <td>(Oscillospira)</td>\n",
       "      <td>(Ruminococcus, Blautia)</td>\n",
       "      <td>1.000000</td>\n",
       "      <td>0.972973</td>\n",
       "      <td>0.972973</td>\n",
       "      <td>0.972973</td>\n",
       "      <td>1.0</td>\n",
       "      <td>0.0</td>\n",
       "      <td>1.0</td>\n",
       "      <td>0.0</td>\n",
       "    </tr>\n",
       "    <tr>\n",
       "      <th>34</th>\n",
       "      <td>(Ruminococcus)</td>\n",
       "      <td>(Oscillospira, Blautia)</td>\n",
       "      <td>1.000000</td>\n",
       "      <td>0.972973</td>\n",
       "      <td>0.972973</td>\n",
       "      <td>0.972973</td>\n",
       "      <td>1.0</td>\n",
       "      <td>0.0</td>\n",
       "      <td>1.0</td>\n",
       "      <td>0.0</td>\n",
       "    </tr>\n",
       "    <tr>\n",
       "      <th>35</th>\n",
       "      <td>(Blautia)</td>\n",
       "      <td>(Oscillospira, Ruminococcus)</td>\n",
       "      <td>0.972973</td>\n",
       "      <td>1.000000</td>\n",
       "      <td>0.972973</td>\n",
       "      <td>1.000000</td>\n",
       "      <td>1.0</td>\n",
       "      <td>0.0</td>\n",
       "      <td>inf</td>\n",
       "      <td>0.0</td>\n",
       "    </tr>\n",
       "    <tr>\n",
       "      <th>36</th>\n",
       "      <td>(Oscillospira, Ruminococcus)</td>\n",
       "      <td>(Bacteroides)</td>\n",
       "      <td>1.000000</td>\n",
       "      <td>1.000000</td>\n",
       "      <td>1.000000</td>\n",
       "      <td>1.000000</td>\n",
       "      <td>1.0</td>\n",
       "      <td>0.0</td>\n",
       "      <td>inf</td>\n",
       "      <td>0.0</td>\n",
       "    </tr>\n",
       "    <tr>\n",
       "      <th>37</th>\n",
       "      <td>(Oscillospira, Bacteroides)</td>\n",
       "      <td>(Ruminococcus)</td>\n",
       "      <td>1.000000</td>\n",
       "      <td>1.000000</td>\n",
       "      <td>1.000000</td>\n",
       "      <td>1.000000</td>\n",
       "      <td>1.0</td>\n",
       "      <td>0.0</td>\n",
       "      <td>inf</td>\n",
       "      <td>0.0</td>\n",
       "    </tr>\n",
       "    <tr>\n",
       "      <th>38</th>\n",
       "      <td>(Ruminococcus, Bacteroides)</td>\n",
       "      <td>(Oscillospira)</td>\n",
       "      <td>1.000000</td>\n",
       "      <td>1.000000</td>\n",
       "      <td>1.000000</td>\n",
       "      <td>1.000000</td>\n",
       "      <td>1.0</td>\n",
       "      <td>0.0</td>\n",
       "      <td>inf</td>\n",
       "      <td>0.0</td>\n",
       "    </tr>\n",
       "    <tr>\n",
       "      <th>39</th>\n",
       "      <td>(Oscillospira)</td>\n",
       "      <td>(Ruminococcus, Bacteroides)</td>\n",
       "      <td>1.000000</td>\n",
       "      <td>1.000000</td>\n",
       "      <td>1.000000</td>\n",
       "      <td>1.000000</td>\n",
       "      <td>1.0</td>\n",
       "      <td>0.0</td>\n",
       "      <td>inf</td>\n",
       "      <td>0.0</td>\n",
       "    </tr>\n",
       "    <tr>\n",
       "      <th>40</th>\n",
       "      <td>(Ruminococcus)</td>\n",
       "      <td>(Oscillospira, Bacteroides)</td>\n",
       "      <td>1.000000</td>\n",
       "      <td>1.000000</td>\n",
       "      <td>1.000000</td>\n",
       "      <td>1.000000</td>\n",
       "      <td>1.0</td>\n",
       "      <td>0.0</td>\n",
       "      <td>inf</td>\n",
       "      <td>0.0</td>\n",
       "    </tr>\n",
       "    <tr>\n",
       "      <th>41</th>\n",
       "      <td>(Bacteroides)</td>\n",
       "      <td>(Oscillospira, Ruminococcus)</td>\n",
       "      <td>1.000000</td>\n",
       "      <td>1.000000</td>\n",
       "      <td>1.000000</td>\n",
       "      <td>1.000000</td>\n",
       "      <td>1.0</td>\n",
       "      <td>0.0</td>\n",
       "      <td>inf</td>\n",
       "      <td>0.0</td>\n",
       "    </tr>\n",
       "    <tr>\n",
       "      <th>42</th>\n",
       "      <td>(Ruminococcus, Parabacteroides)</td>\n",
       "      <td>(Bacteroides)</td>\n",
       "      <td>0.972973</td>\n",
       "      <td>1.000000</td>\n",
       "      <td>0.972973</td>\n",
       "      <td>1.000000</td>\n",
       "      <td>1.0</td>\n",
       "      <td>0.0</td>\n",
       "      <td>inf</td>\n",
       "      <td>0.0</td>\n",
       "    </tr>\n",
       "    <tr>\n",
       "      <th>43</th>\n",
       "      <td>(Ruminococcus, Bacteroides)</td>\n",
       "      <td>(Parabacteroides)</td>\n",
       "      <td>1.000000</td>\n",
       "      <td>0.972973</td>\n",
       "      <td>0.972973</td>\n",
       "      <td>0.972973</td>\n",
       "      <td>1.0</td>\n",
       "      <td>0.0</td>\n",
       "      <td>1.0</td>\n",
       "      <td>0.0</td>\n",
       "    </tr>\n",
       "    <tr>\n",
       "      <th>44</th>\n",
       "      <td>(Parabacteroides, Bacteroides)</td>\n",
       "      <td>(Ruminococcus)</td>\n",
       "      <td>0.972973</td>\n",
       "      <td>1.000000</td>\n",
       "      <td>0.972973</td>\n",
       "      <td>1.000000</td>\n",
       "      <td>1.0</td>\n",
       "      <td>0.0</td>\n",
       "      <td>inf</td>\n",
       "      <td>0.0</td>\n",
       "    </tr>\n",
       "  </tbody>\n",
       "</table>\n",
       "</div>"
      ],
      "text/plain": [
       "                        antecedents                   consequents  \\\n",
       "0                         (Blautia)                 (Bacteroides)   \n",
       "1                     (Bacteroides)                     (Blautia)   \n",
       "32          (Ruminococcus, Blautia)                (Oscillospira)   \n",
       "33                   (Oscillospira)       (Ruminococcus, Blautia)   \n",
       "34                   (Ruminococcus)       (Oscillospira, Blautia)   \n",
       "35                        (Blautia)  (Oscillospira, Ruminococcus)   \n",
       "36     (Oscillospira, Ruminococcus)                 (Bacteroides)   \n",
       "37      (Oscillospira, Bacteroides)                (Ruminococcus)   \n",
       "38      (Ruminococcus, Bacteroides)                (Oscillospira)   \n",
       "39                   (Oscillospira)   (Ruminococcus, Bacteroides)   \n",
       "40                   (Ruminococcus)   (Oscillospira, Bacteroides)   \n",
       "41                    (Bacteroides)  (Oscillospira, Ruminococcus)   \n",
       "42  (Ruminococcus, Parabacteroides)                 (Bacteroides)   \n",
       "43      (Ruminococcus, Bacteroides)             (Parabacteroides)   \n",
       "44   (Parabacteroides, Bacteroides)                (Ruminococcus)   \n",
       "\n",
       "    antecedent support  consequent support   support  confidence  lift  \\\n",
       "0             0.972973            1.000000  0.972973    1.000000   1.0   \n",
       "1             1.000000            0.972973  0.972973    0.972973   1.0   \n",
       "32            0.972973            1.000000  0.972973    1.000000   1.0   \n",
       "33            1.000000            0.972973  0.972973    0.972973   1.0   \n",
       "34            1.000000            0.972973  0.972973    0.972973   1.0   \n",
       "35            0.972973            1.000000  0.972973    1.000000   1.0   \n",
       "36            1.000000            1.000000  1.000000    1.000000   1.0   \n",
       "37            1.000000            1.000000  1.000000    1.000000   1.0   \n",
       "38            1.000000            1.000000  1.000000    1.000000   1.0   \n",
       "39            1.000000            1.000000  1.000000    1.000000   1.0   \n",
       "40            1.000000            1.000000  1.000000    1.000000   1.0   \n",
       "41            1.000000            1.000000  1.000000    1.000000   1.0   \n",
       "42            0.972973            1.000000  0.972973    1.000000   1.0   \n",
       "43            1.000000            0.972973  0.972973    0.972973   1.0   \n",
       "44            0.972973            1.000000  0.972973    1.000000   1.0   \n",
       "\n",
       "    leverage  conviction  zhangs_metric  \n",
       "0        0.0         inf            0.0  \n",
       "1        0.0         1.0            0.0  \n",
       "32       0.0         inf            0.0  \n",
       "33       0.0         1.0            0.0  \n",
       "34       0.0         1.0            0.0  \n",
       "35       0.0         inf            0.0  \n",
       "36       0.0         inf            0.0  \n",
       "37       0.0         inf            0.0  \n",
       "38       0.0         inf            0.0  \n",
       "39       0.0         inf            0.0  \n",
       "40       0.0         inf            0.0  \n",
       "41       0.0         inf            0.0  \n",
       "42       0.0         inf            0.0  \n",
       "43       0.0         1.0            0.0  \n",
       "44       0.0         inf            0.0  "
      ]
     },
     "execution_count": 81,
     "metadata": {},
     "output_type": "execute_result"
    }
   ],
   "source": [
    "lift_sorted_rules = lift_rules.sort_values(by=\"lift\", ascending=False)\n",
    "lift_sorted_rules.head(15)"
   ]
  },
  {
   "cell_type": "code",
   "execution_count": 110,
   "id": "ca88b0aa",
   "metadata": {},
   "outputs": [
    {
     "data": {
      "application/vnd.plotly.v1+json": {
       "config": {
        "plotlyServerURL": "https://plot.ly"
       },
       "data": [
        {
         "customdata": [
          [
           "Sutterella",
           "Blautia"
          ],
          [
           "Blautia",
           "Sutterella"
          ],
          [
           "Sutterella",
           "Bacteroides"
          ],
          [
           "Bacteroides",
           "Sutterella"
          ],
          [
           "Ruminococcus",
           "Sutterella"
          ],
          [
           "Sutterella",
           "Ruminococcus"
          ],
          [
           "Oscillospira",
           "Sutterella"
          ],
          [
           "Sutterella",
           "Oscillospira"
          ],
          [
           "Sutterella",
           "Parabacteroides"
          ],
          [
           "Parabacteroides",
           "Sutterella"
          ],
          [
           "Blautia",
           "Lachnospira"
          ],
          [
           "Lachnospira",
           "Blautia"
          ],
          [
           "Bacteroides",
           "Lachnospira"
          ],
          [
           "Lachnospira",
           "Bacteroides"
          ],
          [
           "Alistipes",
           "Lachnospira"
          ],
          [
           "Lachnospira",
           "Alistipes"
          ],
          [
           "Ruminococcus",
           "Lachnospira"
          ],
          [
           "Lachnospira",
           "Ruminococcus"
          ],
          [
           "Subdoligranulum",
           "Lachnospira"
          ],
          [
           "Lachnospira",
           "Subdoligranulum"
          ],
          [
           "Oscillospira",
           "Lachnospira"
          ],
          [
           "Lachnospira",
           "Oscillospira"
          ],
          [
           "Clostridium",
           "Lachnospira"
          ],
          [
           "Lachnospira",
           "Clostridium"
          ],
          [
           "Parabacteroides",
           "Lachnospira"
          ],
          [
           "Lachnospira",
           "Parabacteroides"
          ],
          [
           "Faecalibacterium",
           "Lachnospira"
          ],
          [
           "Lachnospira",
           "Faecalibacterium"
          ],
          [
           "Blautia",
           "Dorea"
          ],
          [
           "Dorea",
           "Blautia"
          ],
          [
           "Blautia",
           "Bacteroides"
          ],
          [
           "Bacteroides",
           "Blautia"
          ],
          [
           "Blautia",
           "Alistipes"
          ],
          [
           "Alistipes",
           "Blautia"
          ],
          [
           "Ruminococcus",
           "Blautia"
          ],
          [
           "Blautia",
           "Ruminococcus"
          ],
          [
           "Subdoligranulum",
           "Blautia"
          ],
          [
           "Blautia",
           "Subdoligranulum"
          ],
          [
           "Oscillospira",
           "Blautia"
          ],
          [
           "Blautia",
           "Oscillospira"
          ],
          [
           "Clostridium",
           "Blautia"
          ],
          [
           "Blautia",
           "Clostridium"
          ],
          [
           "Parabacteroides",
           "Blautia"
          ],
          [
           "Blautia",
           "Parabacteroides"
          ],
          [
           "Faecalibacterium",
           "Blautia"
          ],
          [
           "Blautia",
           "Faecalibacterium"
          ],
          [
           "Bacteroides",
           "Dorea"
          ],
          [
           "Dorea",
           "Bacteroides"
          ],
          [
           "Ruminococcus",
           "Dorea"
          ],
          [
           "Dorea",
           "Ruminococcus"
          ],
          [
           "Oscillospira",
           "Dorea"
          ],
          [
           "Dorea",
           "Oscillospira"
          ],
          [
           "Clostridium",
           "Dorea"
          ],
          [
           "Dorea",
           "Clostridium"
          ],
          [
           "Faecalibacterium",
           "Dorea"
          ],
          [
           "Dorea",
           "Faecalibacterium"
          ],
          [
           "Alistipes",
           "Bacteroides"
          ],
          [
           "Bacteroides",
           "Alistipes"
          ],
          [
           "Ruminococcus",
           "Bacteroides"
          ],
          [
           "Bacteroides",
           "Ruminococcus"
          ],
          [
           "Subdoligranulum",
           "Bacteroides"
          ],
          [
           "Bacteroides",
           "Subdoligranulum"
          ],
          [
           "Oscillospira",
           "Bacteroides"
          ],
          [
           "Bacteroides",
           "Oscillospira"
          ],
          [
           "Clostridium",
           "Bacteroides"
          ],
          [
           "Bacteroides",
           "Clostridium"
          ],
          [
           "Parabacteroides",
           "Bacteroides"
          ],
          [
           "Bacteroides",
           "Parabacteroides"
          ],
          [
           "Faecalibacterium",
           "Bacteroides"
          ],
          [
           "Bacteroides",
           "Faecalibacterium"
          ],
          [
           "Ruminococcus",
           "Alistipes"
          ],
          [
           "Alistipes",
           "Ruminococcus"
          ],
          [
           "Subdoligranulum",
           "Alistipes"
          ],
          [
           "Alistipes",
           "Subdoligranulum"
          ],
          [
           "Oscillospira",
           "Alistipes"
          ],
          [
           "Alistipes",
           "Oscillospira"
          ],
          [
           "Clostridium",
           "Alistipes"
          ],
          [
           "Alistipes",
           "Clostridium"
          ],
          [
           "Parabacteroides",
           "Alistipes"
          ],
          [
           "Alistipes",
           "Parabacteroides"
          ],
          [
           "Faecalibacterium",
           "Alistipes"
          ],
          [
           "Alistipes",
           "Faecalibacterium"
          ],
          [
           "Ruminococcus",
           "Subdoligranulum"
          ],
          [
           "Subdoligranulum",
           "Ruminococcus"
          ],
          [
           "Oscillospira",
           "Ruminococcus"
          ],
          [
           "Ruminococcus",
           "Oscillospira"
          ],
          [
           "Ruminococcus",
           "Clostridium"
          ],
          [
           "Clostridium",
           "Ruminococcus"
          ],
          [
           "Ruminococcus",
           "Parabacteroides"
          ],
          [
           "Parabacteroides",
           "Ruminococcus"
          ],
          [
           "Ruminococcus",
           "Faecalibacterium"
          ],
          [
           "Faecalibacterium",
           "Ruminococcus"
          ],
          [
           "Oscillospira",
           "Subdoligranulum"
          ],
          [
           "Subdoligranulum",
           "Oscillospira"
          ],
          [
           "Subdoligranulum",
           "Clostridium"
          ],
          [
           "Clostridium",
           "Subdoligranulum"
          ],
          [
           "Subdoligranulum",
           "Parabacteroides"
          ],
          [
           "Parabacteroides",
           "Subdoligranulum"
          ],
          [
           "Subdoligranulum",
           "Faecalibacterium"
          ],
          [
           "Faecalibacterium",
           "Subdoligranulum"
          ],
          [
           "Oscillospira",
           "Clostridium"
          ],
          [
           "Clostridium",
           "Oscillospira"
          ],
          [
           "Oscillospira",
           "Parabacteroides"
          ],
          [
           "Parabacteroides",
           "Oscillospira"
          ],
          [
           "Oscillospira",
           "Faecalibacterium"
          ],
          [
           "Faecalibacterium",
           "Oscillospira"
          ],
          [
           "Clostridium",
           "Parabacteroides"
          ],
          [
           "Parabacteroides",
           "Clostridium"
          ],
          [
           "Clostridium",
           "Faecalibacterium"
          ],
          [
           "Faecalibacterium",
           "Clostridium"
          ],
          [
           "Parabacteroides",
           "Faecalibacterium"
          ],
          [
           "Faecalibacterium",
           "Parabacteroides"
          ],
          [
           "Blautia, Sutterella",
           "Bacteroides"
          ],
          [
           "Bacteroides, Sutterella",
           "Blautia"
          ],
          [
           "Bacteroides, Blautia",
           "Sutterella"
          ],
          [
           "Sutterella",
           "Bacteroides, Blautia"
          ],
          [
           "Blautia",
           "Bacteroides, Sutterella"
          ],
          [
           "Bacteroides",
           "Blautia, Sutterella"
          ],
          [
           "Ruminococcus, Sutterella",
           "Blautia"
          ],
          [
           "Blautia, Ruminococcus",
           "Sutterella"
          ],
          [
           "Blautia, Sutterella",
           "Ruminococcus"
          ],
          [
           "Ruminococcus",
           "Blautia, Sutterella"
          ],
          [
           "Sutterella",
           "Blautia, Ruminococcus"
          ],
          [
           "Blautia",
           "Ruminococcus, Sutterella"
          ],
          [
           "Oscillospira, Sutterella",
           "Blautia"
          ],
          [
           "Blautia, Oscillospira",
           "Sutterella"
          ],
          [
           "Blautia, Sutterella",
           "Oscillospira"
          ],
          [
           "Oscillospira",
           "Blautia, Sutterella"
          ],
          [
           "Sutterella",
           "Blautia, Oscillospira"
          ],
          [
           "Blautia",
           "Oscillospira, Sutterella"
          ],
          [
           "Ruminococcus, Sutterella",
           "Bacteroides"
          ],
          [
           "Bacteroides, Ruminococcus",
           "Sutterella"
          ],
          [
           "Bacteroides, Sutterella",
           "Ruminococcus"
          ],
          [
           "Ruminococcus",
           "Bacteroides, Sutterella"
          ],
          [
           "Sutterella",
           "Bacteroides, Ruminococcus"
          ],
          [
           "Bacteroides",
           "Ruminococcus, Sutterella"
          ],
          [
           "Oscillospira, Sutterella",
           "Bacteroides"
          ],
          [
           "Bacteroides, Oscillospira",
           "Sutterella"
          ],
          [
           "Bacteroides, Sutterella",
           "Oscillospira"
          ],
          [
           "Oscillospira",
           "Bacteroides, Sutterella"
          ],
          [
           "Sutterella",
           "Bacteroides, Oscillospira"
          ],
          [
           "Bacteroides",
           "Oscillospira, Sutterella"
          ],
          [
           "Parabacteroides, Sutterella",
           "Bacteroides"
          ],
          [
           "Bacteroides, Sutterella",
           "Parabacteroides"
          ],
          [
           "Bacteroides, Parabacteroides",
           "Sutterella"
          ],
          [
           "Sutterella",
           "Bacteroides, Parabacteroides"
          ],
          [
           "Parabacteroides",
           "Bacteroides, Sutterella"
          ],
          [
           "Bacteroides",
           "Parabacteroides, Sutterella"
          ],
          [
           "Oscillospira, Sutterella",
           "Ruminococcus"
          ],
          [
           "Oscillospira, Ruminococcus",
           "Sutterella"
          ],
          [
           "Ruminococcus, Sutterella",
           "Oscillospira"
          ],
          [
           "Oscillospira",
           "Ruminococcus, Sutterella"
          ],
          [
           "Sutterella",
           "Oscillospira, Ruminococcus"
          ],
          [
           "Ruminococcus",
           "Oscillospira, Sutterella"
          ],
          [
           "Ruminococcus, Sutterella",
           "Parabacteroides"
          ],
          [
           "Parabacteroides, Ruminococcus",
           "Sutterella"
          ],
          [
           "Parabacteroides, Sutterella",
           "Ruminococcus"
          ],
          [
           "Ruminococcus",
           "Parabacteroides, Sutterella"
          ],
          [
           "Sutterella",
           "Parabacteroides, Ruminococcus"
          ],
          [
           "Parabacteroides",
           "Ruminococcus, Sutterella"
          ],
          [
           "Oscillospira, Sutterella",
           "Parabacteroides"
          ],
          [
           "Oscillospira, Parabacteroides",
           "Sutterella"
          ],
          [
           "Parabacteroides, Sutterella",
           "Oscillospira"
          ],
          [
           "Oscillospira",
           "Parabacteroides, Sutterella"
          ],
          [
           "Sutterella",
           "Oscillospira, Parabacteroides"
          ],
          [
           "Parabacteroides",
           "Oscillospira, Sutterella"
          ],
          [
           "Blautia, Lachnospira",
           "Bacteroides"
          ],
          [
           "Bacteroides, Blautia",
           "Lachnospira"
          ],
          [
           "Bacteroides, Lachnospira",
           "Blautia"
          ],
          [
           "Blautia",
           "Bacteroides, Lachnospira"
          ],
          [
           "Lachnospira",
           "Bacteroides, Blautia"
          ],
          [
           "Bacteroides",
           "Blautia, Lachnospira"
          ],
          [
           "Alistipes, Blautia",
           "Lachnospira"
          ],
          [
           "Alistipes, Lachnospira",
           "Blautia"
          ],
          [
           "Blautia, Lachnospira",
           "Alistipes"
          ],
          [
           "Alistipes",
           "Blautia, Lachnospira"
          ],
          [
           "Blautia",
           "Alistipes, Lachnospira"
          ],
          [
           "Lachnospira",
           "Alistipes, Blautia"
          ],
          [
           "Blautia, Ruminococcus",
           "Lachnospira"
          ],
          [
           "Lachnospira, Ruminococcus",
           "Blautia"
          ],
          [
           "Blautia, Lachnospira",
           "Ruminococcus"
          ],
          [
           "Ruminococcus",
           "Blautia, Lachnospira"
          ],
          [
           "Blautia",
           "Lachnospira, Ruminococcus"
          ],
          [
           "Lachnospira",
           "Blautia, Ruminococcus"
          ],
          [
           "Blautia, Subdoligranulum",
           "Lachnospira"
          ],
          [
           "Lachnospira, Subdoligranulum",
           "Blautia"
          ],
          [
           "Blautia, Lachnospira",
           "Subdoligranulum"
          ],
          [
           "Subdoligranulum",
           "Blautia, Lachnospira"
          ],
          [
           "Blautia",
           "Lachnospira, Subdoligranulum"
          ],
          [
           "Lachnospira",
           "Blautia, Subdoligranulum"
          ],
          [
           "Blautia, Oscillospira",
           "Lachnospira"
          ],
          [
           "Lachnospira, Oscillospira",
           "Blautia"
          ],
          [
           "Blautia, Lachnospira",
           "Oscillospira"
          ],
          [
           "Oscillospira",
           "Blautia, Lachnospira"
          ],
          [
           "Blautia",
           "Lachnospira, Oscillospira"
          ],
          [
           "Lachnospira",
           "Blautia, Oscillospira"
          ],
          [
           "Blautia, Clostridium",
           "Lachnospira"
          ],
          [
           "Clostridium, Lachnospira",
           "Blautia"
          ],
          [
           "Blautia, Lachnospira",
           "Clostridium"
          ],
          [
           "Clostridium",
           "Blautia, Lachnospira"
          ],
          [
           "Blautia",
           "Clostridium, Lachnospira"
          ],
          [
           "Lachnospira",
           "Blautia, Clostridium"
          ],
          [
           "Blautia, Parabacteroides",
           "Lachnospira"
          ],
          [
           "Lachnospira, Parabacteroides",
           "Blautia"
          ],
          [
           "Blautia, Lachnospira",
           "Parabacteroides"
          ],
          [
           "Parabacteroides",
           "Blautia, Lachnospira"
          ],
          [
           "Blautia",
           "Lachnospira, Parabacteroides"
          ],
          [
           "Lachnospira",
           "Blautia, Parabacteroides"
          ],
          [
           "Blautia, Faecalibacterium",
           "Lachnospira"
          ],
          [
           "Faecalibacterium, Lachnospira",
           "Blautia"
          ],
          [
           "Blautia, Lachnospira",
           "Faecalibacterium"
          ],
          [
           "Faecalibacterium",
           "Blautia, Lachnospira"
          ],
          [
           "Blautia",
           "Faecalibacterium, Lachnospira"
          ],
          [
           "Lachnospira",
           "Blautia, Faecalibacterium"
          ],
          [
           "Alistipes, Bacteroides",
           "Lachnospira"
          ],
          [
           "Alistipes, Lachnospira",
           "Bacteroides"
          ],
          [
           "Bacteroides, Lachnospira",
           "Alistipes"
          ],
          [
           "Alistipes",
           "Bacteroides, Lachnospira"
          ],
          [
           "Bacteroides",
           "Alistipes, Lachnospira"
          ],
          [
           "Lachnospira",
           "Alistipes, Bacteroides"
          ],
          [
           "Bacteroides, Ruminococcus",
           "Lachnospira"
          ],
          [
           "Lachnospira, Ruminococcus",
           "Bacteroides"
          ],
          [
           "Bacteroides, Lachnospira",
           "Ruminococcus"
          ],
          [
           "Ruminococcus",
           "Bacteroides, Lachnospira"
          ],
          [
           "Bacteroides",
           "Lachnospira, Ruminococcus"
          ],
          [
           "Lachnospira",
           "Bacteroides, Ruminococcus"
          ],
          [
           "Bacteroides, Subdoligranulum",
           "Lachnospira"
          ],
          [
           "Lachnospira, Subdoligranulum",
           "Bacteroides"
          ],
          [
           "Bacteroides, Lachnospira",
           "Subdoligranulum"
          ],
          [
           "Subdoligranulum",
           "Bacteroides, Lachnospira"
          ],
          [
           "Bacteroides",
           "Lachnospira, Subdoligranulum"
          ],
          [
           "Lachnospira",
           "Bacteroides, Subdoligranulum"
          ],
          [
           "Bacteroides, Oscillospira",
           "Lachnospira"
          ],
          [
           "Lachnospira, Oscillospira",
           "Bacteroides"
          ],
          [
           "Bacteroides, Lachnospira",
           "Oscillospira"
          ],
          [
           "Oscillospira",
           "Bacteroides, Lachnospira"
          ],
          [
           "Bacteroides",
           "Lachnospira, Oscillospira"
          ],
          [
           "Lachnospira",
           "Bacteroides, Oscillospira"
          ],
          [
           "Bacteroides, Clostridium",
           "Lachnospira"
          ],
          [
           "Clostridium, Lachnospira",
           "Bacteroides"
          ],
          [
           "Bacteroides, Lachnospira",
           "Clostridium"
          ],
          [
           "Clostridium",
           "Bacteroides, Lachnospira"
          ],
          [
           "Bacteroides",
           "Clostridium, Lachnospira"
          ],
          [
           "Lachnospira",
           "Bacteroides, Clostridium"
          ],
          [
           "Bacteroides, Parabacteroides",
           "Lachnospira"
          ],
          [
           "Lachnospira, Parabacteroides",
           "Bacteroides"
          ],
          [
           "Bacteroides, Lachnospira",
           "Parabacteroides"
          ],
          [
           "Parabacteroides",
           "Bacteroides, Lachnospira"
          ],
          [
           "Bacteroides",
           "Lachnospira, Parabacteroides"
          ],
          [
           "Lachnospira",
           "Bacteroides, Parabacteroides"
          ],
          [
           "Faecalibacterium, Lachnospira",
           "Bacteroides"
          ],
          [
           "Bacteroides, Faecalibacterium",
           "Lachnospira"
          ],
          [
           "Bacteroides, Lachnospira",
           "Faecalibacterium"
          ],
          [
           "Faecalibacterium",
           "Bacteroides, Lachnospira"
          ],
          [
           "Lachnospira",
           "Bacteroides, Faecalibacterium"
          ],
          [
           "Bacteroides",
           "Faecalibacterium, Lachnospira"
          ],
          [
           "Alistipes, Ruminococcus",
           "Lachnospira"
          ],
          [
           "Alistipes, Lachnospira",
           "Ruminococcus"
          ],
          [
           "Lachnospira, Ruminococcus",
           "Alistipes"
          ],
          [
           "Alistipes",
           "Lachnospira, Ruminococcus"
          ],
          [
           "Ruminococcus",
           "Alistipes, Lachnospira"
          ],
          [
           "Lachnospira",
           "Alistipes, Ruminococcus"
          ],
          [
           "Alistipes, Subdoligranulum",
           "Lachnospira"
          ],
          [
           "Alistipes, Lachnospira",
           "Subdoligranulum"
          ],
          [
           "Lachnospira, Subdoligranulum",
           "Alistipes"
          ],
          [
           "Alistipes",
           "Lachnospira, Subdoligranulum"
          ],
          [
           "Subdoligranulum",
           "Alistipes, Lachnospira"
          ],
          [
           "Lachnospira",
           "Alistipes, Subdoligranulum"
          ],
          [
           "Alistipes, Oscillospira",
           "Lachnospira"
          ],
          [
           "Lachnospira, Oscillospira",
           "Alistipes"
          ],
          [
           "Alistipes, Lachnospira",
           "Oscillospira"
          ],
          [
           "Oscillospira",
           "Alistipes, Lachnospira"
          ],
          [
           "Alistipes",
           "Lachnospira, Oscillospira"
          ],
          [
           "Lachnospira",
           "Alistipes, Oscillospira"
          ],
          [
           "Alistipes, Clostridium",
           "Lachnospira"
          ],
          [
           "Alistipes, Lachnospira",
           "Clostridium"
          ],
          [
           "Clostridium, Lachnospira",
           "Alistipes"
          ],
          [
           "Alistipes",
           "Clostridium, Lachnospira"
          ],
          [
           "Clostridium",
           "Alistipes, Lachnospira"
          ],
          [
           "Lachnospira",
           "Alistipes, Clostridium"
          ],
          [
           "Alistipes, Parabacteroides",
           "Lachnospira"
          ],
          [
           "Alistipes, Lachnospira",
           "Parabacteroides"
          ],
          [
           "Lachnospira, Parabacteroides",
           "Alistipes"
          ],
          [
           "Alistipes",
           "Lachnospira, Parabacteroides"
          ],
          [
           "Parabacteroides",
           "Alistipes, Lachnospira"
          ],
          [
           "Lachnospira",
           "Alistipes, Parabacteroides"
          ],
          [
           "Alistipes, Faecalibacterium",
           "Lachnospira"
          ],
          [
           "Alistipes, Lachnospira",
           "Faecalibacterium"
          ],
          [
           "Faecalibacterium, Lachnospira",
           "Alistipes"
          ],
          [
           "Alistipes",
           "Faecalibacterium, Lachnospira"
          ],
          [
           "Faecalibacterium",
           "Alistipes, Lachnospira"
          ],
          [
           "Lachnospira",
           "Alistipes, Faecalibacterium"
          ],
          [
           "Ruminococcus, Subdoligranulum",
           "Lachnospira"
          ],
          [
           "Lachnospira, Ruminococcus",
           "Subdoligranulum"
          ],
          [
           "Lachnospira, Subdoligranulum",
           "Ruminococcus"
          ],
          [
           "Ruminococcus",
           "Lachnospira, Subdoligranulum"
          ],
          [
           "Subdoligranulum",
           "Lachnospira, Ruminococcus"
          ],
          [
           "Lachnospira",
           "Ruminococcus, Subdoligranulum"
          ],
          [
           "Oscillospira, Ruminococcus",
           "Lachnospira"
          ],
          [
           "Lachnospira, Oscillospira",
           "Ruminococcus"
          ],
          [
           "Lachnospira, Ruminococcus",
           "Oscillospira"
          ],
          [
           "Oscillospira",
           "Lachnospira, Ruminococcus"
          ],
          [
           "Ruminococcus",
           "Lachnospira, Oscillospira"
          ],
          [
           "Lachnospira",
           "Oscillospira, Ruminococcus"
          ],
          [
           "Clostridium, Ruminococcus",
           "Lachnospira"
          ],
          [
           "Lachnospira, Ruminococcus",
           "Clostridium"
          ],
          [
           "Clostridium, Lachnospira",
           "Ruminococcus"
          ],
          [
           "Ruminococcus",
           "Clostridium, Lachnospira"
          ],
          [
           "Clostridium",
           "Lachnospira, Ruminococcus"
          ],
          [
           "Lachnospira",
           "Clostridium, Ruminococcus"
          ],
          [
           "Parabacteroides, Ruminococcus",
           "Lachnospira"
          ],
          [
           "Lachnospira, Ruminococcus",
           "Parabacteroides"
          ],
          [
           "Lachnospira, Parabacteroides",
           "Ruminococcus"
          ],
          [
           "Ruminococcus",
           "Lachnospira, Parabacteroides"
          ],
          [
           "Parabacteroides",
           "Lachnospira, Ruminococcus"
          ],
          [
           "Lachnospira",
           "Parabacteroides, Ruminococcus"
          ],
          [
           "Faecalibacterium, Ruminococcus",
           "Lachnospira"
          ],
          [
           "Lachnospira, Ruminococcus",
           "Faecalibacterium"
          ],
          [
           "Faecalibacterium, Lachnospira",
           "Ruminococcus"
          ],
          [
           "Ruminococcus",
           "Faecalibacterium, Lachnospira"
          ],
          [
           "Faecalibacterium",
           "Lachnospira, Ruminococcus"
          ],
          [
           "Lachnospira",
           "Faecalibacterium, Ruminococcus"
          ],
          [
           "Oscillospira, Subdoligranulum",
           "Lachnospira"
          ],
          [
           "Lachnospira, Oscillospira",
           "Subdoligranulum"
          ],
          [
           "Lachnospira, Subdoligranulum",
           "Oscillospira"
          ],
          [
           "Oscillospira",
           "Lachnospira, Subdoligranulum"
          ],
          [
           "Subdoligranulum",
           "Lachnospira, Oscillospira"
          ],
          [
           "Lachnospira",
           "Oscillospira, Subdoligranulum"
          ],
          [
           "Clostridium, Subdoligranulum",
           "Lachnospira"
          ],
          [
           "Lachnospira, Subdoligranulum",
           "Clostridium"
          ],
          [
           "Clostridium, Lachnospira",
           "Subdoligranulum"
          ],
          [
           "Subdoligranulum",
           "Clostridium, Lachnospira"
          ],
          [
           "Clostridium",
           "Lachnospira, Subdoligranulum"
          ],
          [
           "Lachnospira",
           "Clostridium, Subdoligranulum"
          ],
          [
           "Parabacteroides, Subdoligranulum",
           "Lachnospira"
          ],
          [
           "Lachnospira, Subdoligranulum",
           "Parabacteroides"
          ],
          [
           "Lachnospira, Parabacteroides",
           "Subdoligranulum"
          ],
          [
           "Subdoligranulum",
           "Lachnospira, Parabacteroides"
          ],
          [
           "Parabacteroides",
           "Lachnospira, Subdoligranulum"
          ],
          [
           "Lachnospira",
           "Parabacteroides, Subdoligranulum"
          ],
          [
           "Faecalibacterium, Subdoligranulum",
           "Lachnospira"
          ],
          [
           "Lachnospira, Subdoligranulum",
           "Faecalibacterium"
          ],
          [
           "Faecalibacterium, Lachnospira",
           "Subdoligranulum"
          ],
          [
           "Subdoligranulum",
           "Faecalibacterium, Lachnospira"
          ],
          [
           "Faecalibacterium",
           "Lachnospira, Subdoligranulum"
          ],
          [
           "Lachnospira",
           "Faecalibacterium, Subdoligranulum"
          ],
          [
           "Clostridium, Oscillospira",
           "Lachnospira"
          ],
          [
           "Lachnospira, Oscillospira",
           "Clostridium"
          ],
          [
           "Clostridium, Lachnospira",
           "Oscillospira"
          ],
          [
           "Oscillospira",
           "Clostridium, Lachnospira"
          ],
          [
           "Clostridium",
           "Lachnospira, Oscillospira"
          ],
          [
           "Lachnospira",
           "Clostridium, Oscillospira"
          ],
          [
           "Oscillospira, Parabacteroides",
           "Lachnospira"
          ],
          [
           "Lachnospira, Oscillospira",
           "Parabacteroides"
          ],
          [
           "Lachnospira, Parabacteroides",
           "Oscillospira"
          ],
          [
           "Oscillospira",
           "Lachnospira, Parabacteroides"
          ],
          [
           "Parabacteroides",
           "Lachnospira, Oscillospira"
          ],
          [
           "Lachnospira",
           "Oscillospira, Parabacteroides"
          ],
          [
           "Faecalibacterium, Oscillospira",
           "Lachnospira"
          ],
          [
           "Lachnospira, Oscillospira",
           "Faecalibacterium"
          ],
          [
           "Faecalibacterium, Lachnospira",
           "Oscillospira"
          ],
          [
           "Oscillospira",
           "Faecalibacterium, Lachnospira"
          ],
          [
           "Faecalibacterium",
           "Lachnospira, Oscillospira"
          ],
          [
           "Lachnospira",
           "Faecalibacterium, Oscillospira"
          ],
          [
           "Clostridium, Parabacteroides",
           "Lachnospira"
          ],
          [
           "Clostridium, Lachnospira",
           "Parabacteroides"
          ],
          [
           "Lachnospira, Parabacteroides",
           "Clostridium"
          ],
          [
           "Clostridium",
           "Lachnospira, Parabacteroides"
          ],
          [
           "Parabacteroides",
           "Clostridium, Lachnospira"
          ],
          [
           "Lachnospira",
           "Clostridium, Parabacteroides"
          ],
          [
           "Clostridium, Faecalibacterium",
           "Lachnospira"
          ],
          [
           "Clostridium, Lachnospira",
           "Faecalibacterium"
          ],
          [
           "Faecalibacterium, Lachnospira",
           "Clostridium"
          ],
          [
           "Clostridium",
           "Faecalibacterium, Lachnospira"
          ],
          [
           "Faecalibacterium",
           "Clostridium, Lachnospira"
          ],
          [
           "Lachnospira",
           "Clostridium, Faecalibacterium"
          ],
          [
           "Faecalibacterium, Parabacteroides",
           "Lachnospira"
          ],
          [
           "Lachnospira, Parabacteroides",
           "Faecalibacterium"
          ],
          [
           "Faecalibacterium, Lachnospira",
           "Parabacteroides"
          ],
          [
           "Parabacteroides",
           "Faecalibacterium, Lachnospira"
          ],
          [
           "Faecalibacterium",
           "Lachnospira, Parabacteroides"
          ],
          [
           "Lachnospira",
           "Faecalibacterium, Parabacteroides"
          ],
          [
           "Blautia, Dorea",
           "Bacteroides"
          ],
          [
           "Bacteroides, Blautia",
           "Dorea"
          ],
          [
           "Bacteroides, Dorea",
           "Blautia"
          ],
          [
           "Blautia",
           "Bacteroides, Dorea"
          ],
          [
           "Dorea",
           "Bacteroides, Blautia"
          ],
          [
           "Bacteroides",
           "Blautia, Dorea"
          ],
          [
           "Blautia, Ruminococcus",
           "Dorea"
          ],
          [
           "Dorea, Ruminococcus",
           "Blautia"
          ],
          [
           "Blautia, Dorea",
           "Ruminococcus"
          ],
          [
           "Ruminococcus",
           "Blautia, Dorea"
          ],
          [
           "Blautia",
           "Dorea, Ruminococcus"
          ],
          [
           "Dorea",
           "Blautia, Ruminococcus"
          ],
          [
           "Blautia, Oscillospira",
           "Dorea"
          ],
          [
           "Dorea, Oscillospira",
           "Blautia"
          ],
          [
           "Blautia, Dorea",
           "Oscillospira"
          ],
          [
           "Oscillospira",
           "Blautia, Dorea"
          ],
          [
           "Blautia",
           "Dorea, Oscillospira"
          ],
          [
           "Dorea",
           "Blautia, Oscillospira"
          ],
          [
           "Alistipes, Blautia",
           "Bacteroides"
          ],
          [
           "Alistipes, Bacteroides",
           "Blautia"
          ],
          [
           "Bacteroides, Blautia",
           "Alistipes"
          ],
          [
           "Alistipes",
           "Bacteroides, Blautia"
          ],
          [
           "Blautia",
           "Alistipes, Bacteroides"
          ],
          [
           "Bacteroides",
           "Alistipes, Blautia"
          ],
          [
           "Blautia, Ruminococcus",
           "Bacteroides"
          ],
          [
           "Bacteroides, Ruminococcus",
           "Blautia"
          ],
          [
           "Bacteroides, Blautia",
           "Ruminococcus"
          ],
          [
           "Ruminococcus",
           "Bacteroides, Blautia"
          ],
          [
           "Blautia",
           "Bacteroides, Ruminococcus"
          ],
          [
           "Bacteroides",
           "Blautia, Ruminococcus"
          ],
          [
           "Blautia, Subdoligranulum",
           "Bacteroides"
          ],
          [
           "Bacteroides, Subdoligranulum",
           "Blautia"
          ],
          [
           "Bacteroides, Blautia",
           "Subdoligranulum"
          ],
          [
           "Subdoligranulum",
           "Bacteroides, Blautia"
          ],
          [
           "Blautia",
           "Bacteroides, Subdoligranulum"
          ],
          [
           "Bacteroides",
           "Blautia, Subdoligranulum"
          ],
          [
           "Blautia, Oscillospira",
           "Bacteroides"
          ],
          [
           "Bacteroides, Oscillospira",
           "Blautia"
          ],
          [
           "Bacteroides, Blautia",
           "Oscillospira"
          ],
          [
           "Oscillospira",
           "Bacteroides, Blautia"
          ],
          [
           "Blautia",
           "Bacteroides, Oscillospira"
          ],
          [
           "Bacteroides",
           "Blautia, Oscillospira"
          ],
          [
           "Blautia, Clostridium",
           "Bacteroides"
          ],
          [
           "Bacteroides, Clostridium",
           "Blautia"
          ],
          [
           "Bacteroides, Blautia",
           "Clostridium"
          ],
          [
           "Clostridium",
           "Bacteroides, Blautia"
          ],
          [
           "Blautia",
           "Bacteroides, Clostridium"
          ],
          [
           "Bacteroides",
           "Blautia, Clostridium"
          ],
          [
           "Blautia, Parabacteroides",
           "Bacteroides"
          ],
          [
           "Bacteroides, Parabacteroides",
           "Blautia"
          ],
          [
           "Bacteroides, Blautia",
           "Parabacteroides"
          ],
          [
           "Parabacteroides",
           "Bacteroides, Blautia"
          ],
          [
           "Blautia",
           "Bacteroides, Parabacteroides"
          ],
          [
           "Bacteroides",
           "Blautia, Parabacteroides"
          ],
          [
           "Blautia, Faecalibacterium",
           "Bacteroides"
          ],
          [
           "Bacteroides, Faecalibacterium",
           "Blautia"
          ],
          [
           "Bacteroides, Blautia",
           "Faecalibacterium"
          ],
          [
           "Faecalibacterium",
           "Bacteroides, Blautia"
          ],
          [
           "Blautia",
           "Bacteroides, Faecalibacterium"
          ],
          [
           "Bacteroides",
           "Blautia, Faecalibacterium"
          ],
          [
           "Blautia, Ruminococcus",
           "Alistipes"
          ],
          [
           "Alistipes, Ruminococcus",
           "Blautia"
          ],
          [
           "Alistipes, Blautia",
           "Ruminococcus"
          ],
          [
           "Ruminococcus",
           "Alistipes, Blautia"
          ],
          [
           "Blautia",
           "Alistipes, Ruminococcus"
          ],
          [
           "Alistipes",
           "Blautia, Ruminococcus"
          ],
          [
           "Blautia, Subdoligranulum",
           "Alistipes"
          ],
          [
           "Alistipes, Subdoligranulum",
           "Blautia"
          ],
          [
           "Alistipes, Blautia",
           "Subdoligranulum"
          ],
          [
           "Subdoligranulum",
           "Alistipes, Blautia"
          ],
          [
           "Blautia",
           "Alistipes, Subdoligranulum"
          ],
          [
           "Alistipes",
           "Blautia, Subdoligranulum"
          ],
          [
           "Blautia, Oscillospira",
           "Alistipes"
          ],
          [
           "Alistipes, Oscillospira",
           "Blautia"
          ],
          [
           "Alistipes, Blautia",
           "Oscillospira"
          ],
          [
           "Oscillospira",
           "Alistipes, Blautia"
          ],
          [
           "Blautia",
           "Alistipes, Oscillospira"
          ],
          [
           "Alistipes",
           "Blautia, Oscillospira"
          ],
          [
           "Blautia, Clostridium",
           "Alistipes"
          ],
          [
           "Alistipes, Clostridium",
           "Blautia"
          ],
          [
           "Alistipes, Blautia",
           "Clostridium"
          ],
          [
           "Clostridium",
           "Alistipes, Blautia"
          ],
          [
           "Blautia",
           "Alistipes, Clostridium"
          ],
          [
           "Alistipes",
           "Blautia, Clostridium"
          ],
          [
           "Blautia, Parabacteroides",
           "Alistipes"
          ],
          [
           "Alistipes, Parabacteroides",
           "Blautia"
          ],
          [
           "Alistipes, Blautia",
           "Parabacteroides"
          ],
          [
           "Parabacteroides",
           "Alistipes, Blautia"
          ],
          [
           "Blautia",
           "Alistipes, Parabacteroides"
          ],
          [
           "Alistipes",
           "Blautia, Parabacteroides"
          ],
          [
           "Blautia, Faecalibacterium",
           "Alistipes"
          ],
          [
           "Alistipes, Faecalibacterium",
           "Blautia"
          ],
          [
           "Alistipes, Blautia",
           "Faecalibacterium"
          ],
          [
           "Faecalibacterium",
           "Alistipes, Blautia"
          ],
          [
           "Blautia",
           "Alistipes, Faecalibacterium"
          ],
          [
           "Alistipes",
           "Blautia, Faecalibacterium"
          ],
          [
           "Ruminococcus, Subdoligranulum",
           "Blautia"
          ],
          [
           "Blautia, Ruminococcus",
           "Subdoligranulum"
          ],
          [
           "Blautia, Subdoligranulum",
           "Ruminococcus"
          ],
          [
           "Ruminococcus",
           "Blautia, Subdoligranulum"
          ],
          [
           "Subdoligranulum",
           "Blautia, Ruminococcus"
          ],
          [
           "Blautia",
           "Ruminococcus, Subdoligranulum"
          ],
          [
           "Oscillospira, Ruminococcus",
           "Blautia"
          ],
          [
           "Blautia, Oscillospira",
           "Ruminococcus"
          ],
          [
           "Blautia, Ruminococcus",
           "Oscillospira"
          ],
          [
           "Oscillospira",
           "Blautia, Ruminococcus"
          ],
          [
           "Ruminococcus",
           "Blautia, Oscillospira"
          ],
          [
           "Blautia",
           "Oscillospira, Ruminococcus"
          ],
          [
           "Clostridium, Ruminococcus",
           "Blautia"
          ],
          [
           "Blautia, Ruminococcus",
           "Clostridium"
          ],
          [
           "Blautia, Clostridium",
           "Ruminococcus"
          ],
          [
           "Ruminococcus",
           "Blautia, Clostridium"
          ],
          [
           "Clostridium",
           "Blautia, Ruminococcus"
          ],
          [
           "Blautia",
           "Clostridium, Ruminococcus"
          ],
          [
           "Parabacteroides, Ruminococcus",
           "Blautia"
          ],
          [
           "Blautia, Ruminococcus",
           "Parabacteroides"
          ],
          [
           "Blautia, Parabacteroides",
           "Ruminococcus"
          ],
          [
           "Ruminococcus",
           "Blautia, Parabacteroides"
          ],
          [
           "Parabacteroides",
           "Blautia, Ruminococcus"
          ],
          [
           "Blautia",
           "Parabacteroides, Ruminococcus"
          ],
          [
           "Faecalibacterium, Ruminococcus",
           "Blautia"
          ],
          [
           "Blautia, Faecalibacterium",
           "Ruminococcus"
          ],
          [
           "Blautia, Ruminococcus",
           "Faecalibacterium"
          ],
          [
           "Faecalibacterium",
           "Blautia, Ruminococcus"
          ],
          [
           "Ruminococcus",
           "Blautia, Faecalibacterium"
          ],
          [
           "Blautia",
           "Faecalibacterium, Ruminococcus"
          ],
          [
           "Oscillospira, Subdoligranulum",
           "Blautia"
          ],
          [
           "Blautia, Oscillospira",
           "Subdoligranulum"
          ],
          [
           "Blautia, Subdoligranulum",
           "Oscillospira"
          ],
          [
           "Oscillospira",
           "Blautia, Subdoligranulum"
          ],
          [
           "Subdoligranulum",
           "Blautia, Oscillospira"
          ],
          [
           "Blautia",
           "Oscillospira, Subdoligranulum"
          ],
          [
           "Clostridium, Subdoligranulum",
           "Blautia"
          ],
          [
           "Blautia, Subdoligranulum",
           "Clostridium"
          ],
          [
           "Blautia, Clostridium",
           "Subdoligranulum"
          ],
          [
           "Subdoligranulum",
           "Blautia, Clostridium"
          ],
          [
           "Clostridium",
           "Blautia, Subdoligranulum"
          ],
          [
           "Blautia",
           "Clostridium, Subdoligranulum"
          ],
          [
           "Parabacteroides, Subdoligranulum",
           "Blautia"
          ],
          [
           "Blautia, Subdoligranulum",
           "Parabacteroides"
          ],
          [
           "Blautia, Parabacteroides",
           "Subdoligranulum"
          ],
          [
           "Subdoligranulum",
           "Blautia, Parabacteroides"
          ],
          [
           "Parabacteroides",
           "Blautia, Subdoligranulum"
          ],
          [
           "Blautia",
           "Parabacteroides, Subdoligranulum"
          ],
          [
           "Faecalibacterium, Subdoligranulum",
           "Blautia"
          ],
          [
           "Blautia, Faecalibacterium",
           "Subdoligranulum"
          ],
          [
           "Blautia, Subdoligranulum",
           "Faecalibacterium"
          ],
          [
           "Faecalibacterium",
           "Blautia, Subdoligranulum"
          ],
          [
           "Subdoligranulum",
           "Blautia, Faecalibacterium"
          ],
          [
           "Blautia",
           "Faecalibacterium, Subdoligranulum"
          ],
          [
           "Clostridium, Oscillospira",
           "Blautia"
          ],
          [
           "Blautia, Oscillospira",
           "Clostridium"
          ],
          [
           "Blautia, Clostridium",
           "Oscillospira"
          ],
          [
           "Oscillospira",
           "Blautia, Clostridium"
          ],
          [
           "Clostridium",
           "Blautia, Oscillospira"
          ],
          [
           "Blautia",
           "Clostridium, Oscillospira"
          ],
          [
           "Oscillospira, Parabacteroides",
           "Blautia"
          ],
          [
           "Blautia, Oscillospira",
           "Parabacteroides"
          ],
          [
           "Blautia, Parabacteroides",
           "Oscillospira"
          ],
          [
           "Oscillospira",
           "Blautia, Parabacteroides"
          ],
          [
           "Parabacteroides",
           "Blautia, Oscillospira"
          ],
          [
           "Blautia",
           "Oscillospira, Parabacteroides"
          ],
          [
           "Blautia, Oscillospira",
           "Faecalibacterium"
          ],
          [
           "Faecalibacterium, Oscillospira",
           "Blautia"
          ],
          [
           "Blautia, Faecalibacterium",
           "Oscillospira"
          ],
          [
           "Oscillospira",
           "Blautia, Faecalibacterium"
          ],
          [
           "Blautia",
           "Faecalibacterium, Oscillospira"
          ],
          [
           "Faecalibacterium",
           "Blautia, Oscillospira"
          ],
          [
           "Clostridium, Parabacteroides",
           "Blautia"
          ],
          [
           "Blautia, Clostridium",
           "Parabacteroides"
          ],
          [
           "Blautia, Parabacteroides",
           "Clostridium"
          ],
          [
           "Clostridium",
           "Blautia, Parabacteroides"
          ],
          [
           "Parabacteroides",
           "Blautia, Clostridium"
          ],
          [
           "Blautia",
           "Clostridium, Parabacteroides"
          ],
          [
           "Clostridium, Faecalibacterium",
           "Blautia"
          ],
          [
           "Blautia, Faecalibacterium",
           "Clostridium"
          ],
          [
           "Blautia, Clostridium",
           "Faecalibacterium"
          ],
          [
           "Faecalibacterium",
           "Blautia, Clostridium"
          ],
          [
           "Clostridium",
           "Blautia, Faecalibacterium"
          ],
          [
           "Blautia",
           "Clostridium, Faecalibacterium"
          ],
          [
           "Faecalibacterium, Parabacteroides",
           "Blautia"
          ],
          [
           "Blautia, Faecalibacterium",
           "Parabacteroides"
          ],
          [
           "Blautia, Parabacteroides",
           "Faecalibacterium"
          ],
          [
           "Faecalibacterium",
           "Blautia, Parabacteroides"
          ],
          [
           "Parabacteroides",
           "Blautia, Faecalibacterium"
          ],
          [
           "Blautia",
           "Faecalibacterium, Parabacteroides"
          ],
          [
           "Bacteroides, Ruminococcus",
           "Dorea"
          ],
          [
           "Dorea, Ruminococcus",
           "Bacteroides"
          ],
          [
           "Bacteroides, Dorea",
           "Ruminococcus"
          ],
          [
           "Ruminococcus",
           "Bacteroides, Dorea"
          ],
          [
           "Bacteroides",
           "Dorea, Ruminococcus"
          ],
          [
           "Dorea",
           "Bacteroides, Ruminococcus"
          ],
          [
           "Bacteroides, Oscillospira",
           "Dorea"
          ],
          [
           "Dorea, Oscillospira",
           "Bacteroides"
          ],
          [
           "Bacteroides, Dorea",
           "Oscillospira"
          ],
          [
           "Oscillospira",
           "Bacteroides, Dorea"
          ],
          [
           "Bacteroides",
           "Dorea, Oscillospira"
          ],
          [
           "Dorea",
           "Bacteroides, Oscillospira"
          ],
          [
           "Bacteroides, Clostridium",
           "Dorea"
          ],
          [
           "Clostridium, Dorea",
           "Bacteroides"
          ],
          [
           "Bacteroides, Dorea",
           "Clostridium"
          ],
          [
           "Clostridium",
           "Bacteroides, Dorea"
          ],
          [
           "Bacteroides",
           "Clostridium, Dorea"
          ],
          [
           "Dorea",
           "Bacteroides, Clostridium"
          ],
          [
           "Dorea, Faecalibacterium",
           "Bacteroides"
          ],
          [
           "Bacteroides, Faecalibacterium",
           "Dorea"
          ],
          [
           "Bacteroides, Dorea",
           "Faecalibacterium"
          ],
          [
           "Faecalibacterium",
           "Bacteroides, Dorea"
          ],
          [
           "Dorea",
           "Bacteroides, Faecalibacterium"
          ],
          [
           "Bacteroides",
           "Dorea, Faecalibacterium"
          ],
          [
           "Oscillospira, Ruminococcus",
           "Dorea"
          ],
          [
           "Dorea, Oscillospira",
           "Ruminococcus"
          ],
          [
           "Dorea, Ruminococcus",
           "Oscillospira"
          ],
          [
           "Oscillospira",
           "Dorea, Ruminococcus"
          ],
          [
           "Ruminococcus",
           "Dorea, Oscillospira"
          ],
          [
           "Dorea",
           "Oscillospira, Ruminococcus"
          ],
          [
           "Clostridium, Ruminococcus",
           "Dorea"
          ],
          [
           "Dorea, Ruminococcus",
           "Clostridium"
          ],
          [
           "Clostridium, Dorea",
           "Ruminococcus"
          ],
          [
           "Ruminococcus",
           "Clostridium, Dorea"
          ],
          [
           "Clostridium",
           "Dorea, Ruminococcus"
          ],
          [
           "Dorea",
           "Clostridium, Ruminococcus"
          ],
          [
           "Faecalibacterium, Ruminococcus",
           "Dorea"
          ],
          [
           "Dorea, Ruminococcus",
           "Faecalibacterium"
          ],
          [
           "Dorea, Faecalibacterium",
           "Ruminococcus"
          ],
          [
           "Ruminococcus",
           "Dorea, Faecalibacterium"
          ],
          [
           "Faecalibacterium",
           "Dorea, Ruminococcus"
          ],
          [
           "Dorea",
           "Faecalibacterium, Ruminococcus"
          ],
          [
           "Clostridium, Oscillospira",
           "Dorea"
          ],
          [
           "Dorea, Oscillospira",
           "Clostridium"
          ],
          [
           "Clostridium, Dorea",
           "Oscillospira"
          ],
          [
           "Oscillospira",
           "Clostridium, Dorea"
          ],
          [
           "Clostridium",
           "Dorea, Oscillospira"
          ],
          [
           "Dorea",
           "Clostridium, Oscillospira"
          ],
          [
           "Faecalibacterium, Oscillospira",
           "Dorea"
          ],
          [
           "Dorea, Oscillospira",
           "Faecalibacterium"
          ],
          [
           "Dorea, Faecalibacterium",
           "Oscillospira"
          ],
          [
           "Oscillospira",
           "Dorea, Faecalibacterium"
          ],
          [
           "Faecalibacterium",
           "Dorea, Oscillospira"
          ],
          [
           "Dorea",
           "Faecalibacterium, Oscillospira"
          ],
          [
           "Alistipes, Ruminococcus",
           "Bacteroides"
          ],
          [
           "Alistipes, Bacteroides",
           "Ruminococcus"
          ],
          [
           "Bacteroides, Ruminococcus",
           "Alistipes"
          ],
          [
           "Alistipes",
           "Bacteroides, Ruminococcus"
          ],
          [
           "Ruminococcus",
           "Alistipes, Bacteroides"
          ],
          [
           "Bacteroides",
           "Alistipes, Ruminococcus"
          ],
          [
           "Alistipes, Subdoligranulum",
           "Bacteroides"
          ],
          [
           "Alistipes, Bacteroides",
           "Subdoligranulum"
          ],
          [
           "Bacteroides, Subdoligranulum",
           "Alistipes"
          ],
          [
           "Alistipes",
           "Bacteroides, Subdoligranulum"
          ],
          [
           "Subdoligranulum",
           "Alistipes, Bacteroides"
          ],
          [
           "Bacteroides",
           "Alistipes, Subdoligranulum"
          ],
          [
           "Alistipes, Oscillospira",
           "Bacteroides"
          ],
          [
           "Bacteroides, Oscillospira",
           "Alistipes"
          ],
          [
           "Alistipes, Bacteroides",
           "Oscillospira"
          ],
          [
           "Oscillospira",
           "Alistipes, Bacteroides"
          ],
          [
           "Alistipes",
           "Bacteroides, Oscillospira"
          ],
          [
           "Bacteroides",
           "Alistipes, Oscillospira"
          ],
          [
           "Alistipes, Clostridium",
           "Bacteroides"
          ],
          [
           "Alistipes, Bacteroides",
           "Clostridium"
          ],
          [
           "Bacteroides, Clostridium",
           "Alistipes"
          ],
          [
           "Alistipes",
           "Bacteroides, Clostridium"
          ],
          [
           "Clostridium",
           "Alistipes, Bacteroides"
          ],
          [
           "Bacteroides",
           "Alistipes, Clostridium"
          ],
          [
           "Alistipes, Parabacteroides",
           "Bacteroides"
          ],
          [
           "Alistipes, Bacteroides",
           "Parabacteroides"
          ],
          [
           "Bacteroides, Parabacteroides",
           "Alistipes"
          ],
          [
           "Alistipes",
           "Bacteroides, Parabacteroides"
          ],
          [
           "Parabacteroides",
           "Alistipes, Bacteroides"
          ],
          [
           "Bacteroides",
           "Alistipes, Parabacteroides"
          ],
          [
           "Alistipes, Faecalibacterium",
           "Bacteroides"
          ],
          [
           "Alistipes, Bacteroides",
           "Faecalibacterium"
          ],
          [
           "Bacteroides, Faecalibacterium",
           "Alistipes"
          ],
          [
           "Alistipes",
           "Bacteroides, Faecalibacterium"
          ],
          [
           "Faecalibacterium",
           "Alistipes, Bacteroides"
          ],
          [
           "Bacteroides",
           "Alistipes, Faecalibacterium"
          ],
          [
           "Ruminococcus, Subdoligranulum",
           "Bacteroides"
          ],
          [
           "Bacteroides, Ruminococcus",
           "Subdoligranulum"
          ],
          [
           "Bacteroides, Subdoligranulum",
           "Ruminococcus"
          ],
          [
           "Ruminococcus",
           "Bacteroides, Subdoligranulum"
          ],
          [
           "Subdoligranulum",
           "Bacteroides, Ruminococcus"
          ],
          [
           "Bacteroides",
           "Ruminococcus, Subdoligranulum"
          ],
          [
           "Oscillospira, Ruminococcus",
           "Bacteroides"
          ],
          [
           "Bacteroides, Oscillospira",
           "Ruminococcus"
          ],
          [
           "Bacteroides, Ruminococcus",
           "Oscillospira"
          ],
          [
           "Oscillospira",
           "Bacteroides, Ruminococcus"
          ],
          [
           "Ruminococcus",
           "Bacteroides, Oscillospira"
          ],
          [
           "Bacteroides",
           "Oscillospira, Ruminococcus"
          ],
          [
           "Clostridium, Ruminococcus",
           "Bacteroides"
          ],
          [
           "Bacteroides, Ruminococcus",
           "Clostridium"
          ],
          [
           "Bacteroides, Clostridium",
           "Ruminococcus"
          ],
          [
           "Ruminococcus",
           "Bacteroides, Clostridium"
          ],
          [
           "Clostridium",
           "Bacteroides, Ruminococcus"
          ],
          [
           "Bacteroides",
           "Clostridium, Ruminococcus"
          ],
          [
           "Parabacteroides, Ruminococcus",
           "Bacteroides"
          ],
          [
           "Bacteroides, Ruminococcus",
           "Parabacteroides"
          ],
          [
           "Bacteroides, Parabacteroides",
           "Ruminococcus"
          ],
          [
           "Ruminococcus",
           "Bacteroides, Parabacteroides"
          ],
          [
           "Parabacteroides",
           "Bacteroides, Ruminococcus"
          ],
          [
           "Bacteroides",
           "Parabacteroides, Ruminococcus"
          ],
          [
           "Faecalibacterium, Ruminococcus",
           "Bacteroides"
          ],
          [
           "Bacteroides, Ruminococcus",
           "Faecalibacterium"
          ],
          [
           "Bacteroides, Faecalibacterium",
           "Ruminococcus"
          ],
          [
           "Ruminococcus",
           "Bacteroides, Faecalibacterium"
          ],
          [
           "Faecalibacterium",
           "Bacteroides, Ruminococcus"
          ],
          [
           "Bacteroides",
           "Faecalibacterium, Ruminococcus"
          ],
          [
           "Oscillospira, Subdoligranulum",
           "Bacteroides"
          ],
          [
           "Bacteroides, Oscillospira",
           "Subdoligranulum"
          ],
          [
           "Bacteroides, Subdoligranulum",
           "Oscillospira"
          ],
          [
           "Oscillospira",
           "Bacteroides, Subdoligranulum"
          ],
          [
           "Subdoligranulum",
           "Bacteroides, Oscillospira"
          ],
          [
           "Bacteroides",
           "Oscillospira, Subdoligranulum"
          ],
          [
           "Clostridium, Subdoligranulum",
           "Bacteroides"
          ],
          [
           "Bacteroides, Subdoligranulum",
           "Clostridium"
          ],
          [
           "Bacteroides, Clostridium",
           "Subdoligranulum"
          ],
          [
           "Subdoligranulum",
           "Bacteroides, Clostridium"
          ],
          [
           "Clostridium",
           "Bacteroides, Subdoligranulum"
          ],
          [
           "Bacteroides",
           "Clostridium, Subdoligranulum"
          ],
          [
           "Parabacteroides, Subdoligranulum",
           "Bacteroides"
          ],
          [
           "Bacteroides, Subdoligranulum",
           "Parabacteroides"
          ],
          [
           "Bacteroides, Parabacteroides",
           "Subdoligranulum"
          ],
          [
           "Subdoligranulum",
           "Bacteroides, Parabacteroides"
          ],
          [
           "Parabacteroides",
           "Bacteroides, Subdoligranulum"
          ],
          [
           "Bacteroides",
           "Parabacteroides, Subdoligranulum"
          ],
          [
           "Faecalibacterium, Subdoligranulum",
           "Bacteroides"
          ],
          [
           "Bacteroides, Subdoligranulum",
           "Faecalibacterium"
          ],
          [
           "Bacteroides, Faecalibacterium",
           "Subdoligranulum"
          ],
          [
           "Subdoligranulum",
           "Bacteroides, Faecalibacterium"
          ],
          [
           "Faecalibacterium",
           "Bacteroides, Subdoligranulum"
          ],
          [
           "Bacteroides",
           "Faecalibacterium, Subdoligranulum"
          ],
          [
           "Clostridium, Oscillospira",
           "Bacteroides"
          ],
          [
           "Bacteroides, Oscillospira",
           "Clostridium"
          ],
          [
           "Bacteroides, Clostridium",
           "Oscillospira"
          ],
          [
           "Oscillospira",
           "Bacteroides, Clostridium"
          ],
          [
           "Clostridium",
           "Bacteroides, Oscillospira"
          ],
          [
           "Bacteroides",
           "Clostridium, Oscillospira"
          ],
          [
           "Oscillospira, Parabacteroides",
           "Bacteroides"
          ],
          [
           "Bacteroides, Oscillospira",
           "Parabacteroides"
          ],
          [
           "Bacteroides, Parabacteroides",
           "Oscillospira"
          ],
          [
           "Oscillospira",
           "Bacteroides, Parabacteroides"
          ],
          [
           "Parabacteroides",
           "Bacteroides, Oscillospira"
          ],
          [
           "Bacteroides",
           "Oscillospira, Parabacteroides"
          ],
          [
           "Faecalibacterium, Oscillospira",
           "Bacteroides"
          ],
          [
           "Bacteroides, Oscillospira",
           "Faecalibacterium"
          ],
          [
           "Bacteroides, Faecalibacterium",
           "Oscillospira"
          ],
          [
           "Oscillospira",
           "Bacteroides, Faecalibacterium"
          ],
          [
           "Faecalibacterium",
           "Bacteroides, Oscillospira"
          ],
          [
           "Bacteroides",
           "Faecalibacterium, Oscillospira"
          ],
          [
           "Clostridium, Parabacteroides",
           "Bacteroides"
          ],
          [
           "Bacteroides, Clostridium",
           "Parabacteroides"
          ],
          [
           "Bacteroides, Parabacteroides",
           "Clostridium"
          ],
          [
           "Clostridium",
           "Bacteroides, Parabacteroides"
          ],
          [
           "Parabacteroides",
           "Bacteroides, Clostridium"
          ],
          [
           "Bacteroides",
           "Clostridium, Parabacteroides"
          ],
          [
           "Clostridium, Faecalibacterium",
           "Bacteroides"
          ],
          [
           "Bacteroides, Clostridium",
           "Faecalibacterium"
          ],
          [
           "Bacteroides, Faecalibacterium",
           "Clostridium"
          ],
          [
           "Clostridium",
           "Bacteroides, Faecalibacterium"
          ],
          [
           "Faecalibacterium",
           "Bacteroides, Clostridium"
          ],
          [
           "Bacteroides",
           "Clostridium, Faecalibacterium"
          ],
          [
           "Faecalibacterium, Parabacteroides",
           "Bacteroides"
          ],
          [
           "Bacteroides, Parabacteroides",
           "Faecalibacterium"
          ],
          [
           "Bacteroides, Faecalibacterium",
           "Parabacteroides"
          ],
          [
           "Parabacteroides",
           "Bacteroides, Faecalibacterium"
          ],
          [
           "Faecalibacterium",
           "Bacteroides, Parabacteroides"
          ],
          [
           "Bacteroides",
           "Faecalibacterium, Parabacteroides"
          ],
          [
           "Ruminococcus, Subdoligranulum",
           "Alistipes"
          ],
          [
           "Alistipes, Ruminococcus",
           "Subdoligranulum"
          ],
          [
           "Alistipes, Subdoligranulum",
           "Ruminococcus"
          ],
          [
           "Ruminococcus",
           "Alistipes, Subdoligranulum"
          ],
          [
           "Subdoligranulum",
           "Alistipes, Ruminococcus"
          ],
          [
           "Alistipes",
           "Ruminococcus, Subdoligranulum"
          ],
          [
           "Oscillospira, Ruminococcus",
           "Alistipes"
          ],
          [
           "Alistipes, Oscillospira",
           "Ruminococcus"
          ],
          [
           "Alistipes, Ruminococcus",
           "Oscillospira"
          ],
          [
           "Oscillospira",
           "Alistipes, Ruminococcus"
          ],
          [
           "Ruminococcus",
           "Alistipes, Oscillospira"
          ],
          [
           "Alistipes",
           "Oscillospira, Ruminococcus"
          ],
          [
           "Clostridium, Ruminococcus",
           "Alistipes"
          ],
          [
           "Alistipes, Ruminococcus",
           "Clostridium"
          ],
          [
           "Alistipes, Clostridium",
           "Ruminococcus"
          ],
          [
           "Ruminococcus",
           "Alistipes, Clostridium"
          ],
          [
           "Clostridium",
           "Alistipes, Ruminococcus"
          ],
          [
           "Alistipes",
           "Clostridium, Ruminococcus"
          ],
          [
           "Parabacteroides, Ruminococcus",
           "Alistipes"
          ],
          [
           "Alistipes, Ruminococcus",
           "Parabacteroides"
          ],
          [
           "Alistipes, Parabacteroides",
           "Ruminococcus"
          ],
          [
           "Ruminococcus",
           "Alistipes, Parabacteroides"
          ],
          [
           "Parabacteroides",
           "Alistipes, Ruminococcus"
          ],
          [
           "Alistipes",
           "Parabacteroides, Ruminococcus"
          ],
          [
           "Faecalibacterium, Ruminococcus",
           "Alistipes"
          ],
          [
           "Alistipes, Ruminococcus",
           "Faecalibacterium"
          ],
          [
           "Alistipes, Faecalibacterium",
           "Ruminococcus"
          ],
          [
           "Ruminococcus",
           "Alistipes, Faecalibacterium"
          ],
          [
           "Faecalibacterium",
           "Alistipes, Ruminococcus"
          ],
          [
           "Alistipes",
           "Faecalibacterium, Ruminococcus"
          ],
          [
           "Oscillospira, Subdoligranulum",
           "Alistipes"
          ],
          [
           "Alistipes, Oscillospira",
           "Subdoligranulum"
          ],
          [
           "Alistipes, Subdoligranulum",
           "Oscillospira"
          ],
          [
           "Oscillospira",
           "Alistipes, Subdoligranulum"
          ],
          [
           "Subdoligranulum",
           "Alistipes, Oscillospira"
          ],
          [
           "Alistipes",
           "Oscillospira, Subdoligranulum"
          ],
          [
           "Clostridium, Subdoligranulum",
           "Alistipes"
          ],
          [
           "Alistipes, Subdoligranulum",
           "Clostridium"
          ],
          [
           "Alistipes, Clostridium",
           "Subdoligranulum"
          ],
          [
           "Subdoligranulum",
           "Alistipes, Clostridium"
          ],
          [
           "Clostridium",
           "Alistipes, Subdoligranulum"
          ],
          [
           "Alistipes",
           "Clostridium, Subdoligranulum"
          ],
          [
           "Parabacteroides, Subdoligranulum",
           "Alistipes"
          ],
          [
           "Alistipes, Subdoligranulum",
           "Parabacteroides"
          ],
          [
           "Alistipes, Parabacteroides",
           "Subdoligranulum"
          ],
          [
           "Subdoligranulum",
           "Alistipes, Parabacteroides"
          ],
          [
           "Parabacteroides",
           "Alistipes, Subdoligranulum"
          ],
          [
           "Alistipes",
           "Parabacteroides, Subdoligranulum"
          ],
          [
           "Faecalibacterium, Subdoligranulum",
           "Alistipes"
          ],
          [
           "Alistipes, Subdoligranulum",
           "Faecalibacterium"
          ],
          [
           "Alistipes, Faecalibacterium",
           "Subdoligranulum"
          ],
          [
           "Subdoligranulum",
           "Alistipes, Faecalibacterium"
          ],
          [
           "Faecalibacterium",
           "Alistipes, Subdoligranulum"
          ],
          [
           "Alistipes",
           "Faecalibacterium, Subdoligranulum"
          ],
          [
           "Clostridium, Oscillospira",
           "Alistipes"
          ],
          [
           "Alistipes, Oscillospira",
           "Clostridium"
          ],
          [
           "Alistipes, Clostridium",
           "Oscillospira"
          ],
          [
           "Oscillospira",
           "Alistipes, Clostridium"
          ],
          [
           "Clostridium",
           "Alistipes, Oscillospira"
          ],
          [
           "Alistipes",
           "Clostridium, Oscillospira"
          ],
          [
           "Oscillospira, Parabacteroides",
           "Alistipes"
          ],
          [
           "Alistipes, Oscillospira",
           "Parabacteroides"
          ],
          [
           "Alistipes, Parabacteroides",
           "Oscillospira"
          ],
          [
           "Oscillospira",
           "Alistipes, Parabacteroides"
          ],
          [
           "Parabacteroides",
           "Alistipes, Oscillospira"
          ],
          [
           "Alistipes",
           "Oscillospira, Parabacteroides"
          ],
          [
           "Faecalibacterium, Oscillospira",
           "Alistipes"
          ],
          [
           "Alistipes, Oscillospira",
           "Faecalibacterium"
          ],
          [
           "Alistipes, Faecalibacterium",
           "Oscillospira"
          ],
          [
           "Oscillospira",
           "Alistipes, Faecalibacterium"
          ],
          [
           "Faecalibacterium",
           "Alistipes, Oscillospira"
          ],
          [
           "Alistipes",
           "Faecalibacterium, Oscillospira"
          ],
          [
           "Clostridium, Parabacteroides",
           "Alistipes"
          ],
          [
           "Alistipes, Clostridium",
           "Parabacteroides"
          ],
          [
           "Alistipes, Parabacteroides",
           "Clostridium"
          ],
          [
           "Clostridium",
           "Alistipes, Parabacteroides"
          ],
          [
           "Parabacteroides",
           "Alistipes, Clostridium"
          ],
          [
           "Alistipes",
           "Clostridium, Parabacteroides"
          ],
          [
           "Clostridium, Faecalibacterium",
           "Alistipes"
          ],
          [
           "Alistipes, Clostridium",
           "Faecalibacterium"
          ],
          [
           "Alistipes, Faecalibacterium",
           "Clostridium"
          ],
          [
           "Clostridium",
           "Alistipes, Faecalibacterium"
          ],
          [
           "Faecalibacterium",
           "Alistipes, Clostridium"
          ],
          [
           "Alistipes",
           "Clostridium, Faecalibacterium"
          ],
          [
           "Faecalibacterium, Parabacteroides",
           "Alistipes"
          ],
          [
           "Alistipes, Parabacteroides",
           "Faecalibacterium"
          ],
          [
           "Alistipes, Faecalibacterium",
           "Parabacteroides"
          ],
          [
           "Parabacteroides",
           "Alistipes, Faecalibacterium"
          ],
          [
           "Faecalibacterium",
           "Alistipes, Parabacteroides"
          ],
          [
           "Alistipes",
           "Faecalibacterium, Parabacteroides"
          ],
          [
           "Oscillospira, Subdoligranulum",
           "Ruminococcus"
          ],
          [
           "Oscillospira, Ruminococcus",
           "Subdoligranulum"
          ],
          [
           "Ruminococcus, Subdoligranulum",
           "Oscillospira"
          ],
          [
           "Oscillospira",
           "Ruminococcus, Subdoligranulum"
          ],
          [
           "Subdoligranulum",
           "Oscillospira, Ruminococcus"
          ],
          [
           "Ruminococcus",
           "Oscillospira, Subdoligranulum"
          ],
          [
           "Ruminococcus, Subdoligranulum",
           "Clostridium"
          ],
          [
           "Clostridium, Ruminococcus",
           "Subdoligranulum"
          ],
          [
           "Clostridium, Subdoligranulum",
           "Ruminococcus"
          ],
          [
           "Ruminococcus",
           "Clostridium, Subdoligranulum"
          ],
          [
           "Subdoligranulum",
           "Clostridium, Ruminococcus"
          ],
          [
           "Clostridium",
           "Ruminococcus, Subdoligranulum"
          ],
          [
           "Ruminococcus, Subdoligranulum",
           "Parabacteroides"
          ],
          [
           "Parabacteroides, Ruminococcus",
           "Subdoligranulum"
          ],
          [
           "Parabacteroides, Subdoligranulum",
           "Ruminococcus"
          ],
          [
           "Ruminococcus",
           "Parabacteroides, Subdoligranulum"
          ],
          [
           "Subdoligranulum",
           "Parabacteroides, Ruminococcus"
          ],
          [
           "Parabacteroides",
           "Ruminococcus, Subdoligranulum"
          ],
          [
           "Ruminococcus, Subdoligranulum",
           "Faecalibacterium"
          ],
          [
           "Faecalibacterium, Ruminococcus",
           "Subdoligranulum"
          ],
          [
           "Faecalibacterium, Subdoligranulum",
           "Ruminococcus"
          ],
          [
           "Ruminococcus",
           "Faecalibacterium, Subdoligranulum"
          ],
          [
           "Subdoligranulum",
           "Faecalibacterium, Ruminococcus"
          ],
          [
           "Faecalibacterium",
           "Ruminococcus, Subdoligranulum"
          ],
          [
           "Clostridium, Oscillospira",
           "Ruminococcus"
          ],
          [
           "Oscillospira, Ruminococcus",
           "Clostridium"
          ],
          [
           "Clostridium, Ruminococcus",
           "Oscillospira"
          ],
          [
           "Oscillospira",
           "Clostridium, Ruminococcus"
          ],
          [
           "Clostridium",
           "Oscillospira, Ruminococcus"
          ],
          [
           "Ruminococcus",
           "Clostridium, Oscillospira"
          ],
          [
           "Oscillospira, Ruminococcus",
           "Parabacteroides"
          ],
          [
           "Oscillospira, Parabacteroides",
           "Ruminococcus"
          ],
          [
           "Parabacteroides, Ruminococcus",
           "Oscillospira"
          ],
          [
           "Oscillospira",
           "Parabacteroides, Ruminococcus"
          ],
          [
           "Ruminococcus",
           "Oscillospira, Parabacteroides"
          ],
          [
           "Parabacteroides",
           "Oscillospira, Ruminococcus"
          ],
          [
           "Oscillospira, Ruminococcus",
           "Faecalibacterium"
          ],
          [
           "Faecalibacterium, Oscillospira",
           "Ruminococcus"
          ],
          [
           "Faecalibacterium, Ruminococcus",
           "Oscillospira"
          ],
          [
           "Oscillospira",
           "Faecalibacterium, Ruminococcus"
          ],
          [
           "Ruminococcus",
           "Faecalibacterium, Oscillospira"
          ],
          [
           "Faecalibacterium",
           "Oscillospira, Ruminococcus"
          ],
          [
           "Clostridium, Ruminococcus",
           "Parabacteroides"
          ],
          [
           "Parabacteroides, Ruminococcus",
           "Clostridium"
          ],
          [
           "Clostridium, Parabacteroides",
           "Ruminococcus"
          ],
          [
           "Ruminococcus",
           "Clostridium, Parabacteroides"
          ],
          [
           "Clostridium",
           "Parabacteroides, Ruminococcus"
          ],
          [
           "Parabacteroides",
           "Clostridium, Ruminococcus"
          ],
          [
           "Clostridium, Ruminococcus",
           "Faecalibacterium"
          ],
          [
           "Faecalibacterium, Ruminococcus",
           "Clostridium"
          ],
          [
           "Clostridium, Faecalibacterium",
           "Ruminococcus"
          ],
          [
           "Ruminococcus",
           "Clostridium, Faecalibacterium"
          ],
          [
           "Clostridium",
           "Faecalibacterium, Ruminococcus"
          ],
          [
           "Faecalibacterium",
           "Clostridium, Ruminococcus"
          ],
          [
           "Parabacteroides, Ruminococcus",
           "Faecalibacterium"
          ],
          [
           "Faecalibacterium, Ruminococcus",
           "Parabacteroides"
          ],
          [
           "Faecalibacterium, Parabacteroides",
           "Ruminococcus"
          ],
          [
           "Ruminococcus",
           "Faecalibacterium, Parabacteroides"
          ],
          [
           "Parabacteroides",
           "Faecalibacterium, Ruminococcus"
          ],
          [
           "Faecalibacterium",
           "Parabacteroides, Ruminococcus"
          ],
          [
           "Oscillospira, Subdoligranulum",
           "Clostridium"
          ],
          [
           "Clostridium, Oscillospira",
           "Subdoligranulum"
          ],
          [
           "Clostridium, Subdoligranulum",
           "Oscillospira"
          ],
          [
           "Oscillospira",
           "Clostridium, Subdoligranulum"
          ],
          [
           "Subdoligranulum",
           "Clostridium, Oscillospira"
          ],
          [
           "Clostridium",
           "Oscillospira, Subdoligranulum"
          ],
          [
           "Oscillospira, Subdoligranulum",
           "Parabacteroides"
          ],
          [
           "Oscillospira, Parabacteroides",
           "Subdoligranulum"
          ],
          [
           "Parabacteroides, Subdoligranulum",
           "Oscillospira"
          ],
          [
           "Oscillospira",
           "Parabacteroides, Subdoligranulum"
          ],
          [
           "Subdoligranulum",
           "Oscillospira, Parabacteroides"
          ],
          [
           "Parabacteroides",
           "Oscillospira, Subdoligranulum"
          ],
          [
           "Oscillospira, Subdoligranulum",
           "Faecalibacterium"
          ],
          [
           "Faecalibacterium, Oscillospira",
           "Subdoligranulum"
          ],
          [
           "Faecalibacterium, Subdoligranulum",
           "Oscillospira"
          ],
          [
           "Oscillospira",
           "Faecalibacterium, Subdoligranulum"
          ],
          [
           "Subdoligranulum",
           "Faecalibacterium, Oscillospira"
          ],
          [
           "Faecalibacterium",
           "Oscillospira, Subdoligranulum"
          ],
          [
           "Clostridium, Subdoligranulum",
           "Parabacteroides"
          ],
          [
           "Parabacteroides, Subdoligranulum",
           "Clostridium"
          ],
          [
           "Clostridium, Parabacteroides",
           "Subdoligranulum"
          ],
          [
           "Subdoligranulum",
           "Clostridium, Parabacteroides"
          ],
          [
           "Clostridium",
           "Parabacteroides, Subdoligranulum"
          ],
          [
           "Parabacteroides",
           "Clostridium, Subdoligranulum"
          ],
          [
           "Clostridium, Subdoligranulum",
           "Faecalibacterium"
          ],
          [
           "Faecalibacterium, Subdoligranulum",
           "Clostridium"
          ],
          [
           "Clostridium, Faecalibacterium",
           "Subdoligranulum"
          ],
          [
           "Subdoligranulum",
           "Clostridium, Faecalibacterium"
          ],
          [
           "Clostridium",
           "Faecalibacterium, Subdoligranulum"
          ],
          [
           "Faecalibacterium",
           "Clostridium, Subdoligranulum"
          ],
          [
           "Parabacteroides, Subdoligranulum",
           "Faecalibacterium"
          ],
          [
           "Faecalibacterium, Subdoligranulum",
           "Parabacteroides"
          ],
          [
           "Faecalibacterium, Parabacteroides",
           "Subdoligranulum"
          ],
          [
           "Subdoligranulum",
           "Faecalibacterium, Parabacteroides"
          ],
          [
           "Parabacteroides",
           "Faecalibacterium, Subdoligranulum"
          ],
          [
           "Faecalibacterium",
           "Parabacteroides, Subdoligranulum"
          ],
          [
           "Clostridium, Oscillospira",
           "Parabacteroides"
          ],
          [
           "Oscillospira, Parabacteroides",
           "Clostridium"
          ],
          [
           "Clostridium, Parabacteroides",
           "Oscillospira"
          ],
          [
           "Oscillospira",
           "Clostridium, Parabacteroides"
          ],
          [
           "Clostridium",
           "Oscillospira, Parabacteroides"
          ],
          [
           "Parabacteroides",
           "Clostridium, Oscillospira"
          ],
          [
           "Clostridium, Oscillospira",
           "Faecalibacterium"
          ],
          [
           "Faecalibacterium, Oscillospira",
           "Clostridium"
          ],
          [
           "Clostridium, Faecalibacterium",
           "Oscillospira"
          ],
          [
           "Oscillospira",
           "Clostridium, Faecalibacterium"
          ],
          [
           "Clostridium",
           "Faecalibacterium, Oscillospira"
          ],
          [
           "Faecalibacterium",
           "Clostridium, Oscillospira"
          ],
          [
           "Oscillospira, Parabacteroides",
           "Faecalibacterium"
          ],
          [
           "Faecalibacterium, Oscillospira",
           "Parabacteroides"
          ],
          [
           "Faecalibacterium, Parabacteroides",
           "Oscillospira"
          ],
          [
           "Oscillospira",
           "Faecalibacterium, Parabacteroides"
          ],
          [
           "Parabacteroides",
           "Faecalibacterium, Oscillospira"
          ],
          [
           "Faecalibacterium",
           "Oscillospira, Parabacteroides"
          ],
          [
           "Clostridium, Parabacteroides",
           "Faecalibacterium"
          ],
          [
           "Clostridium, Faecalibacterium",
           "Parabacteroides"
          ],
          [
           "Faecalibacterium, Parabacteroides",
           "Clostridium"
          ],
          [
           "Clostridium",
           "Faecalibacterium, Parabacteroides"
          ],
          [
           "Parabacteroides",
           "Clostridium, Faecalibacterium"
          ],
          [
           "Faecalibacterium",
           "Clostridium, Parabacteroides"
          ]
         ],
         "hovertemplate": "support=%{x}<br>confidence=%{y}<br>lift=%{marker.color}<br>antecedents=%{customdata[0]}<br>consequents=%{customdata[1]}<extra></extra>",
         "legendgroup": "",
         "marker": {
          "color": [
           0.996153846153846,
           0.9961538461538461,
           1,
           1,
           1,
           1,
           1,
           1,
           0.996153846153846,
           0.9961538461538461,
           0.997549019607843,
           0.997549019607843,
           1,
           1,
           0.996271748135874,
           0.996271748135874,
           1,
           1,
           1.0105042016806722,
           1.0105042016806722,
           1,
           1,
           1.0115990057995028,
           1.011599005799503,
           0.997549019607843,
           0.997549019607843,
           1.0269262634631315,
           1.0269262634631318,
           1.0117187499999998,
           1.0117187499999998,
           1,
           1,
           0.9988262910798121,
           0.9988262910798122,
           1,
           1,
           0.9984126984126984,
           0.9984126984126984,
           1,
           1,
           1.0133020344287949,
           1.013302034428795,
           0.9992283950617283,
           0.9992283950617283,
           0.9988262910798122,
           0.9988262910798121,
           1,
           1,
           1,
           1,
           1,
           1,
           1.025968309859155,
           1.0259683098591548,
           1.025968309859155,
           1.0259683098591548,
           1,
           1,
           1,
           1,
           1,
           1,
           1,
           1,
           1,
           1,
           1,
           1,
           1,
           1,
           1,
           1,
           1.0124748490945676,
           1.0124748490945674,
           1,
           1,
           0.9982146399523905,
           0.9982146399523905,
           0.9988262910798121,
           0.9988262910798122,
           0.9982146399523905,
           0.9982146399523905,
           1,
           1,
           1,
           1,
           1,
           1,
           1,
           1,
           1,
           1,
           1,
           1,
           0.9975855130784708,
           0.9975855130784708,
           0.9984126984126984,
           0.9984126984126984,
           1.0124748490945676,
           1.0124748490945674,
           1,
           1,
           1,
           1,
           1,
           1,
           0.9988262910798122,
           0.9988262910798121,
           0.9982146399523905,
           0.9982146399523905,
           0.9988262910798121,
           0.9988262910798122,
           1,
           0.996153846153846,
           0.9961538461538461,
           0.996153846153846,
           0.9961538461538461,
           1,
           0.996153846153846,
           0.9961538461538461,
           1,
           1,
           0.996153846153846,
           0.9961538461538461,
           0.996153846153846,
           0.9961538461538461,
           1,
           1,
           0.996153846153846,
           0.9961538461538461,
           1,
           1,
           1,
           1,
           1,
           1,
           1,
           1,
           1,
           1,
           1,
           1,
           1,
           0.996153846153846,
           0.9961538461538461,
           0.996153846153846,
           0.9961538461538461,
           1,
           1,
           1,
           1,
           1,
           1,
           1,
           0.996153846153846,
           0.9961538461538461,
           1,
           1,
           0.996153846153846,
           0.9961538461538461,
           0.996153846153846,
           0.9961538461538461,
           1,
           1,
           0.996153846153846,
           0.9961538461538461,
           1,
           0.997549019607843,
           0.997549019607843,
           0.997549019607843,
           0.997549019607843,
           1,
           0.9936061381074167,
           0.996153846153846,
           0.9948783610755442,
           0.9948783610755442,
           0.9961538461538461,
           0.9936061381074168,
           0.997549019607843,
           0.997549019607843,
           1,
           1,
           0.997549019607843,
           0.997549019607843,
           1.0082179930795847,
           0.996153846153846,
           1.009090909090909,
           1.009090909090909,
           0.9961538461538461,
           1.0082179930795847,
           0.997549019607843,
           0.997549019607843,
           1,
           1,
           0.997549019607843,
           0.997549019607843,
           1.0105042016806722,
           1.012205387205387,
           1.0264618011096884,
           1.0264618011096884,
           1.0122053872053873,
           1.0105042016806722,
           0.9949579831932773,
           0.9966329966329966,
           0.9966329966329966,
           0.9966329966329965,
           0.9966329966329965,
           0.9949579831932773,
           1.025149190110827,
           0.9970978441127695,
           1.0264618011096884,
           1.0264618011096884,
           0.9970978441127696,
           1.025149190110827,
           0.996271748135874,
           1,
           0.996271748135874,
           0.996271748135874,
           1,
           0.996271748135874,
           1,
           1,
           1,
           1,
           1,
           1,
           1.0105042016806722,
           1,
           1.0105042016806722,
           1.0105042016806722,
           1,
           1.0105042016806722,
           1,
           1,
           1,
           1,
           1,
           1,
           1.0115990057995028,
           1,
           1.011599005799503,
           1.0115990057995028,
           1,
           1.011599005799503,
           0.997549019607843,
           1,
           0.997549019607843,
           0.997549019607843,
           1,
           0.997549019607843,
           1,
           1.0269262634631315,
           1.0269262634631318,
           1.0269262634631315,
           1.0269262634631318,
           1,
           0.996271748135874,
           1,
           0.996271748135874,
           0.996271748135874,
           1,
           0.996271748135874,
           1.0082179930795847,
           1.0246153846153845,
           1.0101841820151678,
           1.010184182015168,
           1.0246153846153845,
           1.0082179930795847,
           0.996271748135874,
           0.996271748135874,
           1,
           1,
           0.996271748135874,
           0.996271748135874,
           1.0082179930795847,
           1.0101841820151678,
           0.9948783610755442,
           0.9948783610755442,
           1.010184182015168,
           1.0082179930795847,
           0.9936061381074167,
           0.996153846153846,
           0.9948783610755442,
           0.9948783610755442,
           0.9961538461538461,
           0.9936061381074168,
           1.0242214532871972,
           1.0262188515709643,
           0.9955854530166073,
           0.9955854530166073,
           1.0262188515709643,
           1.0242214532871972,
           1.0105042016806722,
           1.0105042016806722,
           1,
           1,
           1.0105042016806722,
           1.0105042016806722,
           1,
           1,
           1,
           1,
           1,
           1,
           1.0115990057995028,
           1.011599005799503,
           1,
           1,
           1.0115990057995028,
           1.011599005799503,
           0.997549019607843,
           0.997549019607843,
           1,
           1,
           0.997549019607843,
           0.997549019607843,
           1.0269262634631315,
           1.0269262634631318,
           1,
           1,
           1.0269262634631315,
           1.0269262634631318,
           1.0105042016806722,
           1.0105042016806722,
           1,
           1,
           1.0105042016806722,
           1.0105042016806722,
           1.0232660228270412,
           1.0101841820151678,
           1.009090909090909,
           1.009090909090909,
           1.010184182015168,
           1.0232660228270412,
           1.0082179930795847,
           0.996153846153846,
           1.009090909090909,
           1.009090909090909,
           0.9961538461538461,
           1.0082179930795847,
           1.0242214532871972,
           1.0262188515709643,
           1.009808102345416,
           1.009808102345416,
           1.0262188515709643,
           1.0242214532871972,
           1.0115990057995028,
           1.011599005799503,
           1,
           1,
           1.0115990057995028,
           1.011599005799503,
           0.997549019607843,
           0.997549019607843,
           1,
           1,
           0.997549019607843,
           0.997549019607843,
           1.0269262634631315,
           1.0269262634631318,
           1,
           1,
           1.0269262634631315,
           1.0269262634631318,
           1.0093776641091219,
           0.9966329966329966,
           1.0106700810926164,
           1.0106700810926164,
           0.9966329966329965,
           1.0093776641091219,
           1.0402249134948096,
           1.0264618011096884,
           1.0111414757199917,
           1.0111414757199917,
           1.0264618011096884,
           1.0402249134948096,
           1.025149190110827,
           1.0264618011096884,
           0.9970978441127695,
           0.9970978441127696,
           1.0264618011096884,
           1.025149190110827,
           1,
           1.0117187499999998,
           1.0117187499999998,
           1.0117187499999998,
           1.0117187499999998,
           1,
           1.0117187499999998,
           1.0117187499999998,
           1,
           1,
           1.0117187499999998,
           1.0117187499999998,
           1.0117187499999998,
           1.0117187499999998,
           1,
           1,
           1.0117187499999998,
           1.0117187499999998,
           1,
           0.9988262910798122,
           0.9988262910798121,
           0.9988262910798122,
           0.9988262910798121,
           1,
           1,
           1,
           1,
           1,
           1,
           1,
           1,
           0.9984126984126984,
           0.9984126984126984,
           0.9984126984126984,
           0.9984126984126984,
           1,
           1,
           1,
           1,
           1,
           1,
           1,
           1,
           1.0133020344287949,
           1.013302034428795,
           1.0133020344287949,
           1.013302034428795,
           1,
           1,
           0.9992283950617283,
           0.9992283950617283,
           0.9992283950617283,
           0.9992283950617283,
           1,
           1,
           0.9988262910798122,
           0.9988262910798121,
           0.9988262910798122,
           0.9988262910798121,
           1,
           0.9988262910798121,
           0.9988262910798122,
           1,
           1,
           0.9988262910798121,
           0.9988262910798122,
           1.011599005799503,
           0.997549019607843,
           1.0111801242236025,
           1.0111801242236025,
           0.997549019607843,
           1.0115990057995028,
           0.9988262910798121,
           0.9988262910798122,
           1,
           1,
           0.9988262910798121,
           0.9988262910798122,
           0.9975855130784708,
           1.0126633986928104,
           1.012043274137579,
           1.012043274137579,
           1.0126633986928104,
           0.9975855130784708,
           0.9975855130784708,
           0.9979871175523348,
           0.9979871175523348,
           0.9979871175523348,
           0.9979871175523348,
           0.9975855130784708,
           0.9969381506429883,
           0.997549019607843,
           0.9969381506429883,
           0.9969381506429883,
           0.997549019607843,
           0.9969381506429883,
           0.9984126984126984,
           0.9984126984126984,
           1,
           1,
           0.9984126984126984,
           0.9984126984126984,
           1,
           1,
           1,
           1,
           1,
           1,
           1.0133020344287949,
           1.013302034428795,
           1,
           1,
           1.0133020344287949,
           1.013302034428795,
           0.9992283950617283,
           0.9992283950617283,
           1,
           1,
           0.9992283950617283,
           0.9992283950617283,
           0.9988262910798122,
           1,
           0.9988262910798121,
           0.9988262910798122,
           1,
           0.9988262910798121,
           0.9984126984126984,
           0.9984126984126984,
           1,
           1,
           0.9984126984126984,
           0.9984126984126984,
           1.0124378109452736,
           1.011599005799503,
           0.996734693877551,
           0.996734693877551,
           1.0115990057995028,
           1.0124378109452736,
           0.997549019607843,
           0.997549019607843,
           0.996734693877551,
           0.996734693877551,
           0.997549019607843,
           0.997549019607843,
           0.997549019607843,
           1.0111801242236025,
           1.011599005799503,
           1.0115990057995028,
           1.0111801242236025,
           0.997549019607843,
           1.0133020344287949,
           1.013302034428795,
           1,
           1,
           1.0133020344287949,
           1.013302034428795,
           0.9992283950617283,
           0.9992283950617283,
           1,
           1,
           0.9992283950617283,
           0.9992283950617283,
           0.9988262910798121,
           0.9988262910798122,
           1,
           1,
           0.9988262910798121,
           0.9988262910798122,
           1.0128824476650564,
           0.9984126984126984,
           1.0124748490945676,
           1.0124748490945674,
           0.9984126984126984,
           1.0128824476650564,
           1.0126633986928104,
           1.012043274137579,
           0.9975855130784708,
           0.9975855130784708,
           1.012043274137579,
           1.0126633986928104,
           0.9979871175523348,
           0.9979871175523348,
           0.9975855130784708,
           0.9975855130784708,
           0.9979871175523348,
           0.9979871175523348,
           1,
           1,
           1,
           1,
           1,
           1,
           1,
           1,
           1,
           1,
           1,
           1,
           1.025968309859155,
           1,
           1.0259683098591548,
           1.025968309859155,
           1,
           1.0259683098591548,
           1,
           1.025968309859155,
           1.0259683098591548,
           1.025968309859155,
           1.0259683098591548,
           1,
           1,
           1,
           1,
           1,
           1,
           1,
           1.025968309859155,
           1.0259683098591548,
           1,
           1,
           1.025968309859155,
           1.0259683098591548,
           1.025968309859155,
           1.0259683098591548,
           1,
           1,
           1.025968309859155,
           1.0259683098591548,
           1.025968309859155,
           1.0259683098591548,
           1,
           1,
           1.025968309859155,
           1.0259683098591548,
           1.025968309859155,
           1.0259683098591548,
           1,
           1,
           1.025968309859155,
           1.0259683098591548,
           1,
           1,
           1,
           1,
           1,
           1,
           1,
           1.0124748490945674,
           1.0124748490945676,
           1.0124748490945674,
           1.0124748490945676,
           1,
           1,
           1,
           1,
           1,
           1,
           1,
           1,
           0.9982146399523905,
           0.9982146399523905,
           0.9982146399523905,
           0.9982146399523905,
           1,
           1,
           0.9988262910798122,
           0.9988262910798121,
           0.9988262910798122,
           0.9988262910798121,
           1,
           1,
           0.9982146399523905,
           0.9982146399523905,
           0.9982146399523905,
           0.9982146399523905,
           1,
           1,
           1,
           1,
           1,
           1,
           1,
           1,
           1,
           1,
           1,
           1,
           1,
           1,
           1,
           1,
           1,
           1,
           1,
           1,
           1,
           1,
           1,
           1,
           1,
           1,
           1,
           1,
           1,
           1,
           1,
           1,
           1,
           1,
           1,
           1,
           1,
           1,
           0.9975855130784708,
           0.9975855130784708,
           0.9975855130784708,
           0.9975855130784708,
           1,
           1,
           0.9984126984126984,
           0.9984126984126984,
           0.9984126984126984,
           0.9984126984126984,
           1,
           1,
           1.0124748490945676,
           1.0124748490945674,
           1.0124748490945676,
           1.0124748490945674,
           1,
           1,
           1,
           1,
           1,
           1,
           1,
           1,
           1,
           1,
           1,
           1,
           1,
           1,
           1,
           1,
           1,
           1,
           1,
           1,
           0.9988262910798122,
           0.9988262910798121,
           0.9988262910798122,
           0.9988262910798121,
           1,
           1,
           0.9982146399523905,
           0.9982146399523905,
           0.9982146399523905,
           0.9982146399523905,
           1,
           1,
           0.9988262910798121,
           0.9988262910798122,
           0.9988262910798121,
           0.9988262910798122,
           1,
           1.0124748490945676,
           1.0124748490945674,
           1,
           1,
           1.0124748490945676,
           1.0124748490945674,
           1,
           1,
           1,
           1,
           1,
           1,
           0.9982146399523905,
           0.9982146399523905,
           1,
           1,
           0.9982146399523905,
           0.9982146399523905,
           0.9988262910798121,
           0.9988262910798122,
           1,
           1,
           0.9988262910798121,
           0.9988262910798122,
           0.9982146399523905,
           0.9982146399523905,
           1,
           1,
           0.9982146399523905,
           0.9982146399523905,
           1.0124748490945676,
           1.0124748490945674,
           1,
           1,
           1.0124748490945676,
           1.0124748490945674,
           1.0111414757199917,
           0.996271748135874,
           1.0105042016806722,
           1.0105042016806722,
           0.996271748135874,
           1.0111414757199917,
           1.011599005799503,
           0.997549019607843,
           1.0111801242236025,
           1.0111801242236025,
           0.997549019607843,
           1.0115990057995028,
           1.011599005799503,
           1.011599005799503,
           1.0260504201680671,
           1.0260504201680671,
           1.0115990057995028,
           1.0115990057995028,
           0.9982146399523905,
           0.9982146399523905,
           1,
           1,
           0.9982146399523905,
           0.9982146399523905,
           0.9988262910798121,
           0.9988262910798122,
           1,
           1,
           0.9988262910798121,
           0.9988262910798122,
           0.9982146399523905,
           0.9982146399523905,
           1,
           1,
           0.9982146399523905,
           0.9982146399523905,
           0.9969381506429883,
           0.997549019607843,
           0.9969381506429883,
           0.9969381506429883,
           0.997549019607843,
           0.9969381506429883,
           0.996271748135874,
           0.996271748135874,
           0.996271748135874,
           0.996271748135874,
           0.996271748135874,
           0.996271748135874,
           0.9969381506429883,
           0.9969381506429883,
           0.997549019607843,
           0.997549019607843,
           0.9969381506429883,
           0.9969381506429883,
           1,
           1,
           1,
           1,
           1,
           1,
           0.9975855130784708,
           0.9975855130784708,
           1,
           1,
           0.9975855130784708,
           0.9975855130784708,
           0.9984126984126984,
           0.9984126984126984,
           1,
           1,
           0.9984126984126984,
           0.9984126984126984,
           1.0124748490945676,
           1.0124748490945674,
           1,
           1,
           1.0124748490945676,
           1.0124748490945674,
           1,
           1,
           1,
           1,
           1,
           1,
           1,
           1,
           1,
           1,
           1,
           1,
           1,
           1,
           1,
           1,
           1,
           1,
           0.9988262910798122,
           0.9988262910798121,
           1,
           1,
           0.9988262910798122,
           0.9988262910798121,
           0.9982146399523905,
           0.9982146399523905,
           1,
           1,
           0.9982146399523905,
           0.9982146399523905,
           0.9988262910798121,
           0.9988262910798122,
           1,
           1,
           0.9988262910798121,
           0.9988262910798122,
           0.9975855130784708,
           0.9975855130784708,
           1,
           1,
           0.9975855130784708,
           0.9975855130784708,
           0.9984126984126984,
           0.9984126984126984,
           1,
           1,
           0.9984126984126984,
           0.9984126984126984,
           1.0124748490945676,
           1.0124748490945674,
           1,
           1,
           1.0124748490945676,
           1.0124748490945674,
           0.9970978441127695,
           0.996271748135874,
           0.9958592132505175,
           0.9958592132505176,
           0.996271748135874,
           0.9970978441127696,
           1.0111414757199917,
           0.996271748135874,
           1.0105042016806722,
           1.0105042016806722,
           0.996271748135874,
           1.0111414757199917,
           1.011599005799503,
           0.997549019607843,
           1.0111801242236025,
           1.0111801242236025,
           0.997549019607843,
           1.0115990057995028,
           0.9988262910798122,
           0.9988262910798121,
           1,
           1,
           0.9988262910798122,
           0.9988262910798121,
           0.9982146399523905,
           0.9982146399523905,
           1,
           1,
           0.9982146399523905,
           0.9982146399523905,
           0.9988262910798121,
           0.9988262910798122,
           1,
           1,
           0.9988262910798121,
           0.9988262910798122,
           0.9969381506429883,
           0.997549019607843,
           0.9969381506429883,
           0.9969381506429883,
           0.997549019607843,
           0.9969381506429883
          ],
          "coloraxis": "coloraxis",
          "size": [
           0.996153846153846,
           0.9961538461538461,
           1,
           1,
           1,
           1,
           1,
           1,
           0.996153846153846,
           0.9961538461538461,
           0.997549019607843,
           0.997549019607843,
           1,
           1,
           0.996271748135874,
           0.996271748135874,
           1,
           1,
           1.0105042016806722,
           1.0105042016806722,
           1,
           1,
           1.0115990057995028,
           1.011599005799503,
           0.997549019607843,
           0.997549019607843,
           1.0269262634631315,
           1.0269262634631318,
           1.0117187499999998,
           1.0117187499999998,
           1,
           1,
           0.9988262910798121,
           0.9988262910798122,
           1,
           1,
           0.9984126984126984,
           0.9984126984126984,
           1,
           1,
           1.0133020344287949,
           1.013302034428795,
           0.9992283950617283,
           0.9992283950617283,
           0.9988262910798122,
           0.9988262910798121,
           1,
           1,
           1,
           1,
           1,
           1,
           1.025968309859155,
           1.0259683098591548,
           1.025968309859155,
           1.0259683098591548,
           1,
           1,
           1,
           1,
           1,
           1,
           1,
           1,
           1,
           1,
           1,
           1,
           1,
           1,
           1,
           1,
           1.0124748490945676,
           1.0124748490945674,
           1,
           1,
           0.9982146399523905,
           0.9982146399523905,
           0.9988262910798121,
           0.9988262910798122,
           0.9982146399523905,
           0.9982146399523905,
           1,
           1,
           1,
           1,
           1,
           1,
           1,
           1,
           1,
           1,
           1,
           1,
           0.9975855130784708,
           0.9975855130784708,
           0.9984126984126984,
           0.9984126984126984,
           1.0124748490945676,
           1.0124748490945674,
           1,
           1,
           1,
           1,
           1,
           1,
           0.9988262910798122,
           0.9988262910798121,
           0.9982146399523905,
           0.9982146399523905,
           0.9988262910798121,
           0.9988262910798122,
           1,
           0.996153846153846,
           0.9961538461538461,
           0.996153846153846,
           0.9961538461538461,
           1,
           0.996153846153846,
           0.9961538461538461,
           1,
           1,
           0.996153846153846,
           0.9961538461538461,
           0.996153846153846,
           0.9961538461538461,
           1,
           1,
           0.996153846153846,
           0.9961538461538461,
           1,
           1,
           1,
           1,
           1,
           1,
           1,
           1,
           1,
           1,
           1,
           1,
           1,
           0.996153846153846,
           0.9961538461538461,
           0.996153846153846,
           0.9961538461538461,
           1,
           1,
           1,
           1,
           1,
           1,
           1,
           0.996153846153846,
           0.9961538461538461,
           1,
           1,
           0.996153846153846,
           0.9961538461538461,
           0.996153846153846,
           0.9961538461538461,
           1,
           1,
           0.996153846153846,
           0.9961538461538461,
           1,
           0.997549019607843,
           0.997549019607843,
           0.997549019607843,
           0.997549019607843,
           1,
           0.9936061381074167,
           0.996153846153846,
           0.9948783610755442,
           0.9948783610755442,
           0.9961538461538461,
           0.9936061381074168,
           0.997549019607843,
           0.997549019607843,
           1,
           1,
           0.997549019607843,
           0.997549019607843,
           1.0082179930795847,
           0.996153846153846,
           1.009090909090909,
           1.009090909090909,
           0.9961538461538461,
           1.0082179930795847,
           0.997549019607843,
           0.997549019607843,
           1,
           1,
           0.997549019607843,
           0.997549019607843,
           1.0105042016806722,
           1.012205387205387,
           1.0264618011096884,
           1.0264618011096884,
           1.0122053872053873,
           1.0105042016806722,
           0.9949579831932773,
           0.9966329966329966,
           0.9966329966329966,
           0.9966329966329965,
           0.9966329966329965,
           0.9949579831932773,
           1.025149190110827,
           0.9970978441127695,
           1.0264618011096884,
           1.0264618011096884,
           0.9970978441127696,
           1.025149190110827,
           0.996271748135874,
           1,
           0.996271748135874,
           0.996271748135874,
           1,
           0.996271748135874,
           1,
           1,
           1,
           1,
           1,
           1,
           1.0105042016806722,
           1,
           1.0105042016806722,
           1.0105042016806722,
           1,
           1.0105042016806722,
           1,
           1,
           1,
           1,
           1,
           1,
           1.0115990057995028,
           1,
           1.011599005799503,
           1.0115990057995028,
           1,
           1.011599005799503,
           0.997549019607843,
           1,
           0.997549019607843,
           0.997549019607843,
           1,
           0.997549019607843,
           1,
           1.0269262634631315,
           1.0269262634631318,
           1.0269262634631315,
           1.0269262634631318,
           1,
           0.996271748135874,
           1,
           0.996271748135874,
           0.996271748135874,
           1,
           0.996271748135874,
           1.0082179930795847,
           1.0246153846153845,
           1.0101841820151678,
           1.010184182015168,
           1.0246153846153845,
           1.0082179930795847,
           0.996271748135874,
           0.996271748135874,
           1,
           1,
           0.996271748135874,
           0.996271748135874,
           1.0082179930795847,
           1.0101841820151678,
           0.9948783610755442,
           0.9948783610755442,
           1.010184182015168,
           1.0082179930795847,
           0.9936061381074167,
           0.996153846153846,
           0.9948783610755442,
           0.9948783610755442,
           0.9961538461538461,
           0.9936061381074168,
           1.0242214532871972,
           1.0262188515709643,
           0.9955854530166073,
           0.9955854530166073,
           1.0262188515709643,
           1.0242214532871972,
           1.0105042016806722,
           1.0105042016806722,
           1,
           1,
           1.0105042016806722,
           1.0105042016806722,
           1,
           1,
           1,
           1,
           1,
           1,
           1.0115990057995028,
           1.011599005799503,
           1,
           1,
           1.0115990057995028,
           1.011599005799503,
           0.997549019607843,
           0.997549019607843,
           1,
           1,
           0.997549019607843,
           0.997549019607843,
           1.0269262634631315,
           1.0269262634631318,
           1,
           1,
           1.0269262634631315,
           1.0269262634631318,
           1.0105042016806722,
           1.0105042016806722,
           1,
           1,
           1.0105042016806722,
           1.0105042016806722,
           1.0232660228270412,
           1.0101841820151678,
           1.009090909090909,
           1.009090909090909,
           1.010184182015168,
           1.0232660228270412,
           1.0082179930795847,
           0.996153846153846,
           1.009090909090909,
           1.009090909090909,
           0.9961538461538461,
           1.0082179930795847,
           1.0242214532871972,
           1.0262188515709643,
           1.009808102345416,
           1.009808102345416,
           1.0262188515709643,
           1.0242214532871972,
           1.0115990057995028,
           1.011599005799503,
           1,
           1,
           1.0115990057995028,
           1.011599005799503,
           0.997549019607843,
           0.997549019607843,
           1,
           1,
           0.997549019607843,
           0.997549019607843,
           1.0269262634631315,
           1.0269262634631318,
           1,
           1,
           1.0269262634631315,
           1.0269262634631318,
           1.0093776641091219,
           0.9966329966329966,
           1.0106700810926164,
           1.0106700810926164,
           0.9966329966329965,
           1.0093776641091219,
           1.0402249134948096,
           1.0264618011096884,
           1.0111414757199917,
           1.0111414757199917,
           1.0264618011096884,
           1.0402249134948096,
           1.025149190110827,
           1.0264618011096884,
           0.9970978441127695,
           0.9970978441127696,
           1.0264618011096884,
           1.025149190110827,
           1,
           1.0117187499999998,
           1.0117187499999998,
           1.0117187499999998,
           1.0117187499999998,
           1,
           1.0117187499999998,
           1.0117187499999998,
           1,
           1,
           1.0117187499999998,
           1.0117187499999998,
           1.0117187499999998,
           1.0117187499999998,
           1,
           1,
           1.0117187499999998,
           1.0117187499999998,
           1,
           0.9988262910798122,
           0.9988262910798121,
           0.9988262910798122,
           0.9988262910798121,
           1,
           1,
           1,
           1,
           1,
           1,
           1,
           1,
           0.9984126984126984,
           0.9984126984126984,
           0.9984126984126984,
           0.9984126984126984,
           1,
           1,
           1,
           1,
           1,
           1,
           1,
           1,
           1.0133020344287949,
           1.013302034428795,
           1.0133020344287949,
           1.013302034428795,
           1,
           1,
           0.9992283950617283,
           0.9992283950617283,
           0.9992283950617283,
           0.9992283950617283,
           1,
           1,
           0.9988262910798122,
           0.9988262910798121,
           0.9988262910798122,
           0.9988262910798121,
           1,
           0.9988262910798121,
           0.9988262910798122,
           1,
           1,
           0.9988262910798121,
           0.9988262910798122,
           1.011599005799503,
           0.997549019607843,
           1.0111801242236025,
           1.0111801242236025,
           0.997549019607843,
           1.0115990057995028,
           0.9988262910798121,
           0.9988262910798122,
           1,
           1,
           0.9988262910798121,
           0.9988262910798122,
           0.9975855130784708,
           1.0126633986928104,
           1.012043274137579,
           1.012043274137579,
           1.0126633986928104,
           0.9975855130784708,
           0.9975855130784708,
           0.9979871175523348,
           0.9979871175523348,
           0.9979871175523348,
           0.9979871175523348,
           0.9975855130784708,
           0.9969381506429883,
           0.997549019607843,
           0.9969381506429883,
           0.9969381506429883,
           0.997549019607843,
           0.9969381506429883,
           0.9984126984126984,
           0.9984126984126984,
           1,
           1,
           0.9984126984126984,
           0.9984126984126984,
           1,
           1,
           1,
           1,
           1,
           1,
           1.0133020344287949,
           1.013302034428795,
           1,
           1,
           1.0133020344287949,
           1.013302034428795,
           0.9992283950617283,
           0.9992283950617283,
           1,
           1,
           0.9992283950617283,
           0.9992283950617283,
           0.9988262910798122,
           1,
           0.9988262910798121,
           0.9988262910798122,
           1,
           0.9988262910798121,
           0.9984126984126984,
           0.9984126984126984,
           1,
           1,
           0.9984126984126984,
           0.9984126984126984,
           1.0124378109452736,
           1.011599005799503,
           0.996734693877551,
           0.996734693877551,
           1.0115990057995028,
           1.0124378109452736,
           0.997549019607843,
           0.997549019607843,
           0.996734693877551,
           0.996734693877551,
           0.997549019607843,
           0.997549019607843,
           0.997549019607843,
           1.0111801242236025,
           1.011599005799503,
           1.0115990057995028,
           1.0111801242236025,
           0.997549019607843,
           1.0133020344287949,
           1.013302034428795,
           1,
           1,
           1.0133020344287949,
           1.013302034428795,
           0.9992283950617283,
           0.9992283950617283,
           1,
           1,
           0.9992283950617283,
           0.9992283950617283,
           0.9988262910798121,
           0.9988262910798122,
           1,
           1,
           0.9988262910798121,
           0.9988262910798122,
           1.0128824476650564,
           0.9984126984126984,
           1.0124748490945676,
           1.0124748490945674,
           0.9984126984126984,
           1.0128824476650564,
           1.0126633986928104,
           1.012043274137579,
           0.9975855130784708,
           0.9975855130784708,
           1.012043274137579,
           1.0126633986928104,
           0.9979871175523348,
           0.9979871175523348,
           0.9975855130784708,
           0.9975855130784708,
           0.9979871175523348,
           0.9979871175523348,
           1,
           1,
           1,
           1,
           1,
           1,
           1,
           1,
           1,
           1,
           1,
           1,
           1.025968309859155,
           1,
           1.0259683098591548,
           1.025968309859155,
           1,
           1.0259683098591548,
           1,
           1.025968309859155,
           1.0259683098591548,
           1.025968309859155,
           1.0259683098591548,
           1,
           1,
           1,
           1,
           1,
           1,
           1,
           1.025968309859155,
           1.0259683098591548,
           1,
           1,
           1.025968309859155,
           1.0259683098591548,
           1.025968309859155,
           1.0259683098591548,
           1,
           1,
           1.025968309859155,
           1.0259683098591548,
           1.025968309859155,
           1.0259683098591548,
           1,
           1,
           1.025968309859155,
           1.0259683098591548,
           1.025968309859155,
           1.0259683098591548,
           1,
           1,
           1.025968309859155,
           1.0259683098591548,
           1,
           1,
           1,
           1,
           1,
           1,
           1,
           1.0124748490945674,
           1.0124748490945676,
           1.0124748490945674,
           1.0124748490945676,
           1,
           1,
           1,
           1,
           1,
           1,
           1,
           1,
           0.9982146399523905,
           0.9982146399523905,
           0.9982146399523905,
           0.9982146399523905,
           1,
           1,
           0.9988262910798122,
           0.9988262910798121,
           0.9988262910798122,
           0.9988262910798121,
           1,
           1,
           0.9982146399523905,
           0.9982146399523905,
           0.9982146399523905,
           0.9982146399523905,
           1,
           1,
           1,
           1,
           1,
           1,
           1,
           1,
           1,
           1,
           1,
           1,
           1,
           1,
           1,
           1,
           1,
           1,
           1,
           1,
           1,
           1,
           1,
           1,
           1,
           1,
           1,
           1,
           1,
           1,
           1,
           1,
           1,
           1,
           1,
           1,
           1,
           1,
           0.9975855130784708,
           0.9975855130784708,
           0.9975855130784708,
           0.9975855130784708,
           1,
           1,
           0.9984126984126984,
           0.9984126984126984,
           0.9984126984126984,
           0.9984126984126984,
           1,
           1,
           1.0124748490945676,
           1.0124748490945674,
           1.0124748490945676,
           1.0124748490945674,
           1,
           1,
           1,
           1,
           1,
           1,
           1,
           1,
           1,
           1,
           1,
           1,
           1,
           1,
           1,
           1,
           1,
           1,
           1,
           1,
           0.9988262910798122,
           0.9988262910798121,
           0.9988262910798122,
           0.9988262910798121,
           1,
           1,
           0.9982146399523905,
           0.9982146399523905,
           0.9982146399523905,
           0.9982146399523905,
           1,
           1,
           0.9988262910798121,
           0.9988262910798122,
           0.9988262910798121,
           0.9988262910798122,
           1,
           1.0124748490945676,
           1.0124748490945674,
           1,
           1,
           1.0124748490945676,
           1.0124748490945674,
           1,
           1,
           1,
           1,
           1,
           1,
           0.9982146399523905,
           0.9982146399523905,
           1,
           1,
           0.9982146399523905,
           0.9982146399523905,
           0.9988262910798121,
           0.9988262910798122,
           1,
           1,
           0.9988262910798121,
           0.9988262910798122,
           0.9982146399523905,
           0.9982146399523905,
           1,
           1,
           0.9982146399523905,
           0.9982146399523905,
           1.0124748490945676,
           1.0124748490945674,
           1,
           1,
           1.0124748490945676,
           1.0124748490945674,
           1.0111414757199917,
           0.996271748135874,
           1.0105042016806722,
           1.0105042016806722,
           0.996271748135874,
           1.0111414757199917,
           1.011599005799503,
           0.997549019607843,
           1.0111801242236025,
           1.0111801242236025,
           0.997549019607843,
           1.0115990057995028,
           1.011599005799503,
           1.011599005799503,
           1.0260504201680671,
           1.0260504201680671,
           1.0115990057995028,
           1.0115990057995028,
           0.9982146399523905,
           0.9982146399523905,
           1,
           1,
           0.9982146399523905,
           0.9982146399523905,
           0.9988262910798121,
           0.9988262910798122,
           1,
           1,
           0.9988262910798121,
           0.9988262910798122,
           0.9982146399523905,
           0.9982146399523905,
           1,
           1,
           0.9982146399523905,
           0.9982146399523905,
           0.9969381506429883,
           0.997549019607843,
           0.9969381506429883,
           0.9969381506429883,
           0.997549019607843,
           0.9969381506429883,
           0.996271748135874,
           0.996271748135874,
           0.996271748135874,
           0.996271748135874,
           0.996271748135874,
           0.996271748135874,
           0.9969381506429883,
           0.9969381506429883,
           0.997549019607843,
           0.997549019607843,
           0.9969381506429883,
           0.9969381506429883,
           1,
           1,
           1,
           1,
           1,
           1,
           0.9975855130784708,
           0.9975855130784708,
           1,
           1,
           0.9975855130784708,
           0.9975855130784708,
           0.9984126984126984,
           0.9984126984126984,
           1,
           1,
           0.9984126984126984,
           0.9984126984126984,
           1.0124748490945676,
           1.0124748490945674,
           1,
           1,
           1.0124748490945676,
           1.0124748490945674,
           1,
           1,
           1,
           1,
           1,
           1,
           1,
           1,
           1,
           1,
           1,
           1,
           1,
           1,
           1,
           1,
           1,
           1,
           0.9988262910798122,
           0.9988262910798121,
           1,
           1,
           0.9988262910798122,
           0.9988262910798121,
           0.9982146399523905,
           0.9982146399523905,
           1,
           1,
           0.9982146399523905,
           0.9982146399523905,
           0.9988262910798121,
           0.9988262910798122,
           1,
           1,
           0.9988262910798121,
           0.9988262910798122,
           0.9975855130784708,
           0.9975855130784708,
           1,
           1,
           0.9975855130784708,
           0.9975855130784708,
           0.9984126984126984,
           0.9984126984126984,
           1,
           1,
           0.9984126984126984,
           0.9984126984126984,
           1.0124748490945676,
           1.0124748490945674,
           1,
           1,
           1.0124748490945676,
           1.0124748490945674,
           0.9970978441127695,
           0.996271748135874,
           0.9958592132505175,
           0.9958592132505176,
           0.996271748135874,
           0.9970978441127696,
           1.0111414757199917,
           0.996271748135874,
           1.0105042016806722,
           1.0105042016806722,
           0.996271748135874,
           1.0111414757199917,
           1.011599005799503,
           0.997549019607843,
           1.0111801242236025,
           1.0111801242236025,
           0.997549019607843,
           1.0115990057995028,
           0.9988262910798122,
           0.9988262910798121,
           1,
           1,
           0.9988262910798122,
           0.9988262910798121,
           0.9982146399523905,
           0.9982146399523905,
           1,
           1,
           0.9982146399523905,
           0.9982146399523905,
           0.9988262910798121,
           0.9988262910798122,
           1,
           1,
           0.9988262910798121,
           0.9988262910798122,
           0.9969381506429883,
           0.997549019607843,
           0.9969381506429883,
           0.9969381506429883,
           0.997549019607843,
           0.9969381506429883
          ],
          "sizemode": "area",
          "sizeref": 0.002600562283737024,
          "symbol": "circle"
         },
         "mode": "markers",
         "name": "",
         "orientation": "v",
         "showlegend": false,
         "type": "scatter",
         "x": [
          0.8513513513513513,
          0.8513513513513513,
          0.8783783783783784,
          0.8783783783783784,
          0.8783783783783784,
          0.8783783783783784,
          0.8783783783783784,
          0.8783783783783784,
          0.8513513513513513,
          0.8513513513513513,
          0.8918918918918919,
          0.8918918918918919,
          0.918918918918919,
          0.918918918918919,
          0.8783783783783784,
          0.8783783783783784,
          0.918918918918919,
          0.918918918918919,
          0.8783783783783784,
          0.8783783783783784,
          0.918918918918919,
          0.918918918918919,
          0.8918918918918919,
          0.8918918918918919,
          0.8918918918918919,
          0.8918918918918919,
          0.9054054054054054,
          0.9054054054054054,
          0.8513513513513513,
          0.8513513513513513,
          0.972972972972973,
          0.972972972972973,
          0.9324324324324325,
          0.9324324324324325,
          0.972972972972973,
          0.972972972972973,
          0.918918918918919,
          0.918918918918919,
          0.972972972972973,
          0.972972972972973,
          0.9459459459459459,
          0.9459459459459459,
          0.9459459459459459,
          0.9459459459459459,
          0.9324324324324325,
          0.9324324324324325,
          0.8648648648648649,
          0.8648648648648649,
          0.8648648648648649,
          0.8648648648648649,
          0.8648648648648649,
          0.8648648648648649,
          0.8513513513513513,
          0.8513513513513513,
          0.8513513513513513,
          0.8513513513513513,
          0.9594594594594594,
          0.9594594594594594,
          1,
          1,
          0.9459459459459459,
          0.9459459459459459,
          1,
          1,
          0.9594594594594594,
          0.9594594594594594,
          0.972972972972973,
          0.972972972972973,
          0.9594594594594594,
          0.9594594594594594,
          0.9594594594594594,
          0.9594594594594594,
          0.918918918918919,
          0.918918918918919,
          0.9594594594594594,
          0.9594594594594594,
          0.918918918918919,
          0.918918918918919,
          0.9324324324324325,
          0.9324324324324325,
          0.918918918918919,
          0.918918918918919,
          0.9459459459459459,
          0.9459459459459459,
          1,
          1,
          0.9594594594594594,
          0.9594594594594594,
          0.972972972972973,
          0.972972972972973,
          0.9594594594594594,
          0.9594594594594594,
          0.9459459459459459,
          0.9459459459459459,
          0.9054054054054054,
          0.9054054054054054,
          0.918918918918919,
          0.918918918918919,
          0.918918918918919,
          0.918918918918919,
          0.9594594594594594,
          0.9594594594594594,
          0.972972972972973,
          0.972972972972973,
          0.9594594594594594,
          0.9594594594594594,
          0.9324324324324325,
          0.9324324324324325,
          0.918918918918919,
          0.918918918918919,
          0.9324324324324325,
          0.9324324324324325,
          0.8513513513513513,
          0.8513513513513513,
          0.8513513513513513,
          0.8513513513513513,
          0.8513513513513513,
          0.8513513513513513,
          0.8513513513513513,
          0.8513513513513513,
          0.8513513513513513,
          0.8513513513513513,
          0.8513513513513513,
          0.8513513513513513,
          0.8513513513513513,
          0.8513513513513513,
          0.8513513513513513,
          0.8513513513513513,
          0.8513513513513513,
          0.8513513513513513,
          0.8783783783783784,
          0.8783783783783784,
          0.8783783783783784,
          0.8783783783783784,
          0.8783783783783784,
          0.8783783783783784,
          0.8783783783783784,
          0.8783783783783784,
          0.8783783783783784,
          0.8783783783783784,
          0.8783783783783784,
          0.8783783783783784,
          0.8513513513513513,
          0.8513513513513513,
          0.8513513513513513,
          0.8513513513513513,
          0.8513513513513513,
          0.8513513513513513,
          0.8783783783783784,
          0.8783783783783784,
          0.8783783783783784,
          0.8783783783783784,
          0.8783783783783784,
          0.8783783783783784,
          0.8513513513513513,
          0.8513513513513513,
          0.8513513513513513,
          0.8513513513513513,
          0.8513513513513513,
          0.8513513513513513,
          0.8513513513513513,
          0.8513513513513513,
          0.8513513513513513,
          0.8513513513513513,
          0.8513513513513513,
          0.8513513513513513,
          0.8918918918918919,
          0.8918918918918919,
          0.8918918918918919,
          0.8918918918918919,
          0.8918918918918919,
          0.8918918918918919,
          0.8513513513513513,
          0.8513513513513513,
          0.8513513513513513,
          0.8513513513513513,
          0.8513513513513513,
          0.8513513513513513,
          0.8918918918918919,
          0.8918918918918919,
          0.8918918918918919,
          0.8918918918918919,
          0.8918918918918919,
          0.8918918918918919,
          0.8513513513513513,
          0.8513513513513513,
          0.8513513513513513,
          0.8513513513513513,
          0.8513513513513513,
          0.8513513513513513,
          0.8918918918918919,
          0.8918918918918919,
          0.8918918918918919,
          0.8918918918918919,
          0.8918918918918919,
          0.8918918918918919,
          0.8783783783783784,
          0.8783783783783784,
          0.8783783783783784,
          0.8783783783783784,
          0.8783783783783784,
          0.8783783783783784,
          0.8648648648648649,
          0.8648648648648649,
          0.8648648648648649,
          0.8648648648648649,
          0.8648648648648649,
          0.8648648648648649,
          0.8783783783783784,
          0.8783783783783784,
          0.8783783783783784,
          0.8783783783783784,
          0.8783783783783784,
          0.8783783783783784,
          0.8783783783783784,
          0.8783783783783784,
          0.8783783783783784,
          0.8783783783783784,
          0.8783783783783784,
          0.8783783783783784,
          0.918918918918919,
          0.918918918918919,
          0.918918918918919,
          0.918918918918919,
          0.918918918918919,
          0.918918918918919,
          0.8783783783783784,
          0.8783783783783784,
          0.8783783783783784,
          0.8783783783783784,
          0.8783783783783784,
          0.8783783783783784,
          0.918918918918919,
          0.918918918918919,
          0.918918918918919,
          0.918918918918919,
          0.918918918918919,
          0.918918918918919,
          0.8918918918918919,
          0.8918918918918919,
          0.8918918918918919,
          0.8918918918918919,
          0.8918918918918919,
          0.8918918918918919,
          0.8918918918918919,
          0.8918918918918919,
          0.8918918918918919,
          0.8918918918918919,
          0.8918918918918919,
          0.8918918918918919,
          0.9054054054054054,
          0.9054054054054054,
          0.9054054054054054,
          0.9054054054054054,
          0.9054054054054054,
          0.9054054054054054,
          0.8783783783783784,
          0.8783783783783784,
          0.8783783783783784,
          0.8783783783783784,
          0.8783783783783784,
          0.8783783783783784,
          0.8513513513513513,
          0.8513513513513513,
          0.8513513513513513,
          0.8513513513513513,
          0.8513513513513513,
          0.8513513513513513,
          0.8783783783783784,
          0.8783783783783784,
          0.8783783783783784,
          0.8783783783783784,
          0.8783783783783784,
          0.8783783783783784,
          0.8513513513513513,
          0.8513513513513513,
          0.8513513513513513,
          0.8513513513513513,
          0.8513513513513513,
          0.8513513513513513,
          0.8513513513513513,
          0.8513513513513513,
          0.8513513513513513,
          0.8513513513513513,
          0.8513513513513513,
          0.8513513513513513,
          0.8648648648648649,
          0.8648648648648649,
          0.8648648648648649,
          0.8648648648648649,
          0.8648648648648649,
          0.8648648648648649,
          0.8783783783783784,
          0.8783783783783784,
          0.8783783783783784,
          0.8783783783783784,
          0.8783783783783784,
          0.8783783783783784,
          0.918918918918919,
          0.918918918918919,
          0.918918918918919,
          0.918918918918919,
          0.918918918918919,
          0.918918918918919,
          0.8918918918918919,
          0.8918918918918919,
          0.8918918918918919,
          0.8918918918918919,
          0.8918918918918919,
          0.8918918918918919,
          0.8918918918918919,
          0.8918918918918919,
          0.8918918918918919,
          0.8918918918918919,
          0.8918918918918919,
          0.8918918918918919,
          0.9054054054054054,
          0.9054054054054054,
          0.9054054054054054,
          0.9054054054054054,
          0.9054054054054054,
          0.9054054054054054,
          0.8783783783783784,
          0.8783783783783784,
          0.8783783783783784,
          0.8783783783783784,
          0.8783783783783784,
          0.8783783783783784,
          0.8513513513513513,
          0.8513513513513513,
          0.8513513513513513,
          0.8513513513513513,
          0.8513513513513513,
          0.8513513513513513,
          0.8513513513513513,
          0.8513513513513513,
          0.8513513513513513,
          0.8513513513513513,
          0.8513513513513513,
          0.8513513513513513,
          0.8648648648648649,
          0.8648648648648649,
          0.8648648648648649,
          0.8648648648648649,
          0.8648648648648649,
          0.8648648648648649,
          0.8918918918918919,
          0.8918918918918919,
          0.8918918918918919,
          0.8918918918918919,
          0.8918918918918919,
          0.8918918918918919,
          0.8918918918918919,
          0.8918918918918919,
          0.8918918918918919,
          0.8918918918918919,
          0.8918918918918919,
          0.8918918918918919,
          0.9054054054054054,
          0.9054054054054054,
          0.9054054054054054,
          0.9054054054054054,
          0.9054054054054054,
          0.9054054054054054,
          0.8648648648648649,
          0.8648648648648649,
          0.8648648648648649,
          0.8648648648648649,
          0.8648648648648649,
          0.8648648648648649,
          0.8783783783783784,
          0.8783783783783784,
          0.8783783783783784,
          0.8783783783783784,
          0.8783783783783784,
          0.8783783783783784,
          0.8783783783783784,
          0.8783783783783784,
          0.8783783783783784,
          0.8783783783783784,
          0.8783783783783784,
          0.8783783783783784,
          0.8513513513513513,
          0.8513513513513513,
          0.8513513513513513,
          0.8513513513513513,
          0.8513513513513513,
          0.8513513513513513,
          0.8513513513513513,
          0.8513513513513513,
          0.8513513513513513,
          0.8513513513513513,
          0.8513513513513513,
          0.8513513513513513,
          0.8513513513513513,
          0.8513513513513513,
          0.8513513513513513,
          0.8513513513513513,
          0.8513513513513513,
          0.8513513513513513,
          0.9324324324324325,
          0.9324324324324325,
          0.9324324324324325,
          0.9324324324324325,
          0.9324324324324325,
          0.9324324324324325,
          0.972972972972973,
          0.972972972972973,
          0.972972972972973,
          0.972972972972973,
          0.972972972972973,
          0.972972972972973,
          0.918918918918919,
          0.918918918918919,
          0.918918918918919,
          0.918918918918919,
          0.918918918918919,
          0.918918918918919,
          0.972972972972973,
          0.972972972972973,
          0.972972972972973,
          0.972972972972973,
          0.972972972972973,
          0.972972972972973,
          0.9459459459459459,
          0.9459459459459459,
          0.9459459459459459,
          0.9459459459459459,
          0.9459459459459459,
          0.9459459459459459,
          0.9459459459459459,
          0.9459459459459459,
          0.9459459459459459,
          0.9459459459459459,
          0.9459459459459459,
          0.9459459459459459,
          0.9324324324324325,
          0.9324324324324325,
          0.9324324324324325,
          0.9324324324324325,
          0.9324324324324325,
          0.9324324324324325,
          0.9324324324324325,
          0.9324324324324325,
          0.9324324324324325,
          0.9324324324324325,
          0.9324324324324325,
          0.9324324324324325,
          0.8918918918918919,
          0.8918918918918919,
          0.8918918918918919,
          0.8918918918918919,
          0.8918918918918919,
          0.8918918918918919,
          0.9324324324324325,
          0.9324324324324325,
          0.9324324324324325,
          0.9324324324324325,
          0.9324324324324325,
          0.9324324324324325,
          0.9054054054054054,
          0.9054054054054054,
          0.9054054054054054,
          0.9054054054054054,
          0.9054054054054054,
          0.9054054054054054,
          0.9054054054054054,
          0.9054054054054054,
          0.9054054054054054,
          0.9054054054054054,
          0.9054054054054054,
          0.9054054054054054,
          0.8918918918918919,
          0.8918918918918919,
          0.8918918918918919,
          0.8918918918918919,
          0.8918918918918919,
          0.8918918918918919,
          0.918918918918919,
          0.918918918918919,
          0.918918918918919,
          0.918918918918919,
          0.918918918918919,
          0.918918918918919,
          0.972972972972973,
          0.972972972972973,
          0.972972972972973,
          0.972972972972973,
          0.972972972972973,
          0.972972972972973,
          0.9459459459459459,
          0.9459459459459459,
          0.9459459459459459,
          0.9459459459459459,
          0.9459459459459459,
          0.9459459459459459,
          0.9459459459459459,
          0.9459459459459459,
          0.9459459459459459,
          0.9459459459459459,
          0.9459459459459459,
          0.9459459459459459,
          0.9324324324324325,
          0.9324324324324325,
          0.9324324324324325,
          0.9324324324324325,
          0.9324324324324325,
          0.9324324324324325,
          0.918918918918919,
          0.918918918918919,
          0.918918918918919,
          0.918918918918919,
          0.918918918918919,
          0.918918918918919,
          0.8918918918918919,
          0.8918918918918919,
          0.8918918918918919,
          0.8918918918918919,
          0.8918918918918919,
          0.8918918918918919,
          0.8918918918918919,
          0.8918918918918919,
          0.8918918918918919,
          0.8918918918918919,
          0.8918918918918919,
          0.8918918918918919,
          0.8918918918918919,
          0.8918918918918919,
          0.8918918918918919,
          0.8918918918918919,
          0.8918918918918919,
          0.8918918918918919,
          0.9459459459459459,
          0.9459459459459459,
          0.9459459459459459,
          0.9459459459459459,
          0.9459459459459459,
          0.9459459459459459,
          0.9459459459459459,
          0.9459459459459459,
          0.9459459459459459,
          0.9459459459459459,
          0.9459459459459459,
          0.9459459459459459,
          0.9324324324324325,
          0.9324324324324325,
          0.9324324324324325,
          0.9324324324324325,
          0.9324324324324325,
          0.9324324324324325,
          0.918918918918919,
          0.918918918918919,
          0.918918918918919,
          0.918918918918919,
          0.918918918918919,
          0.918918918918919,
          0.9054054054054054,
          0.9054054054054054,
          0.9054054054054054,
          0.9054054054054054,
          0.9054054054054054,
          0.9054054054054054,
          0.9054054054054054,
          0.9054054054054054,
          0.9054054054054054,
          0.9054054054054054,
          0.9054054054054054,
          0.9054054054054054,
          0.8648648648648649,
          0.8648648648648649,
          0.8648648648648649,
          0.8648648648648649,
          0.8648648648648649,
          0.8648648648648649,
          0.8648648648648649,
          0.8648648648648649,
          0.8648648648648649,
          0.8648648648648649,
          0.8648648648648649,
          0.8648648648648649,
          0.8513513513513513,
          0.8513513513513513,
          0.8513513513513513,
          0.8513513513513513,
          0.8513513513513513,
          0.8513513513513513,
          0.8513513513513513,
          0.8513513513513513,
          0.8513513513513513,
          0.8513513513513513,
          0.8513513513513513,
          0.8513513513513513,
          0.8648648648648649,
          0.8648648648648649,
          0.8648648648648649,
          0.8648648648648649,
          0.8648648648648649,
          0.8648648648648649,
          0.8513513513513513,
          0.8513513513513513,
          0.8513513513513513,
          0.8513513513513513,
          0.8513513513513513,
          0.8513513513513513,
          0.8513513513513513,
          0.8513513513513513,
          0.8513513513513513,
          0.8513513513513513,
          0.8513513513513513,
          0.8513513513513513,
          0.8513513513513513,
          0.8513513513513513,
          0.8513513513513513,
          0.8513513513513513,
          0.8513513513513513,
          0.8513513513513513,
          0.8513513513513513,
          0.8513513513513513,
          0.8513513513513513,
          0.8513513513513513,
          0.8513513513513513,
          0.8513513513513513,
          0.9594594594594594,
          0.9594594594594594,
          0.9594594594594594,
          0.9594594594594594,
          0.9594594594594594,
          0.9594594594594594,
          0.918918918918919,
          0.918918918918919,
          0.918918918918919,
          0.918918918918919,
          0.918918918918919,
          0.918918918918919,
          0.9594594594594594,
          0.9594594594594594,
          0.9594594594594594,
          0.9594594594594594,
          0.9594594594594594,
          0.9594594594594594,
          0.918918918918919,
          0.918918918918919,
          0.918918918918919,
          0.918918918918919,
          0.918918918918919,
          0.918918918918919,
          0.9324324324324325,
          0.9324324324324325,
          0.9324324324324325,
          0.9324324324324325,
          0.9324324324324325,
          0.9324324324324325,
          0.918918918918919,
          0.918918918918919,
          0.918918918918919,
          0.918918918918919,
          0.918918918918919,
          0.918918918918919,
          0.9459459459459459,
          0.9459459459459459,
          0.9459459459459459,
          0.9459459459459459,
          0.9459459459459459,
          0.9459459459459459,
          1,
          1,
          1,
          1,
          1,
          1,
          0.9594594594594594,
          0.9594594594594594,
          0.9594594594594594,
          0.9594594594594594,
          0.9594594594594594,
          0.9594594594594594,
          0.972972972972973,
          0.972972972972973,
          0.972972972972973,
          0.972972972972973,
          0.972972972972973,
          0.972972972972973,
          0.9594594594594594,
          0.9594594594594594,
          0.9594594594594594,
          0.9594594594594594,
          0.9594594594594594,
          0.9594594594594594,
          0.9459459459459459,
          0.9459459459459459,
          0.9459459459459459,
          0.9459459459459459,
          0.9459459459459459,
          0.9459459459459459,
          0.9054054054054054,
          0.9054054054054054,
          0.9054054054054054,
          0.9054054054054054,
          0.9054054054054054,
          0.9054054054054054,
          0.918918918918919,
          0.918918918918919,
          0.918918918918919,
          0.918918918918919,
          0.918918918918919,
          0.918918918918919,
          0.918918918918919,
          0.918918918918919,
          0.918918918918919,
          0.918918918918919,
          0.918918918918919,
          0.918918918918919,
          0.9594594594594594,
          0.9594594594594594,
          0.9594594594594594,
          0.9594594594594594,
          0.9594594594594594,
          0.9594594594594594,
          0.972972972972973,
          0.972972972972973,
          0.972972972972973,
          0.972972972972973,
          0.972972972972973,
          0.972972972972973,
          0.9594594594594594,
          0.9594594594594594,
          0.9594594594594594,
          0.9594594594594594,
          0.9594594594594594,
          0.9594594594594594,
          0.9324324324324325,
          0.9324324324324325,
          0.9324324324324325,
          0.9324324324324325,
          0.9324324324324325,
          0.9324324324324325,
          0.918918918918919,
          0.918918918918919,
          0.918918918918919,
          0.918918918918919,
          0.918918918918919,
          0.918918918918919,
          0.9324324324324325,
          0.9324324324324325,
          0.9324324324324325,
          0.9324324324324325,
          0.9324324324324325,
          0.9324324324324325,
          0.918918918918919,
          0.918918918918919,
          0.918918918918919,
          0.918918918918919,
          0.918918918918919,
          0.918918918918919,
          0.9594594594594594,
          0.9594594594594594,
          0.9594594594594594,
          0.9594594594594594,
          0.9594594594594594,
          0.9594594594594594,
          0.918918918918919,
          0.918918918918919,
          0.918918918918919,
          0.918918918918919,
          0.918918918918919,
          0.918918918918919,
          0.9324324324324325,
          0.9324324324324325,
          0.9324324324324325,
          0.9324324324324325,
          0.9324324324324325,
          0.9324324324324325,
          0.918918918918919,
          0.918918918918919,
          0.918918918918919,
          0.918918918918919,
          0.918918918918919,
          0.918918918918919,
          0.918918918918919,
          0.918918918918919,
          0.918918918918919,
          0.918918918918919,
          0.918918918918919,
          0.918918918918919,
          0.8783783783783784,
          0.8783783783783784,
          0.8783783783783784,
          0.8783783783783784,
          0.8783783783783784,
          0.8783783783783784,
          0.8918918918918919,
          0.8918918918918919,
          0.8918918918918919,
          0.8918918918918919,
          0.8918918918918919,
          0.8918918918918919,
          0.8918918918918919,
          0.8918918918918919,
          0.8918918918918919,
          0.8918918918918919,
          0.8918918918918919,
          0.8918918918918919,
          0.918918918918919,
          0.918918918918919,
          0.918918918918919,
          0.918918918918919,
          0.918918918918919,
          0.918918918918919,
          0.9324324324324325,
          0.9324324324324325,
          0.9324324324324325,
          0.9324324324324325,
          0.9324324324324325,
          0.9324324324324325,
          0.918918918918919,
          0.918918918918919,
          0.918918918918919,
          0.918918918918919,
          0.918918918918919,
          0.918918918918919,
          0.8918918918918919,
          0.8918918918918919,
          0.8918918918918919,
          0.8918918918918919,
          0.8918918918918919,
          0.8918918918918919,
          0.8783783783783784,
          0.8783783783783784,
          0.8783783783783784,
          0.8783783783783784,
          0.8783783783783784,
          0.8783783783783784,
          0.8918918918918919,
          0.8918918918918919,
          0.8918918918918919,
          0.8918918918918919,
          0.8918918918918919,
          0.8918918918918919,
          0.9459459459459459,
          0.9459459459459459,
          0.9459459459459459,
          0.9459459459459459,
          0.9459459459459459,
          0.9459459459459459,
          0.9054054054054054,
          0.9054054054054054,
          0.9054054054054054,
          0.9054054054054054,
          0.9054054054054054,
          0.9054054054054054,
          0.918918918918919,
          0.918918918918919,
          0.918918918918919,
          0.918918918918919,
          0.918918918918919,
          0.918918918918919,
          0.918918918918919,
          0.918918918918919,
          0.918918918918919,
          0.918918918918919,
          0.918918918918919,
          0.918918918918919,
          0.9594594594594594,
          0.9594594594594594,
          0.9594594594594594,
          0.9594594594594594,
          0.9594594594594594,
          0.9594594594594594,
          0.972972972972973,
          0.972972972972973,
          0.972972972972973,
          0.972972972972973,
          0.972972972972973,
          0.972972972972973,
          0.9594594594594594,
          0.9594594594594594,
          0.9594594594594594,
          0.9594594594594594,
          0.9594594594594594,
          0.9594594594594594,
          0.9324324324324325,
          0.9324324324324325,
          0.9324324324324325,
          0.9324324324324325,
          0.9324324324324325,
          0.9324324324324325,
          0.918918918918919,
          0.918918918918919,
          0.918918918918919,
          0.918918918918919,
          0.918918918918919,
          0.918918918918919,
          0.9324324324324325,
          0.9324324324324325,
          0.9324324324324325,
          0.9324324324324325,
          0.9324324324324325,
          0.9324324324324325,
          0.9054054054054054,
          0.9054054054054054,
          0.9054054054054054,
          0.9054054054054054,
          0.9054054054054054,
          0.9054054054054054,
          0.918918918918919,
          0.918918918918919,
          0.918918918918919,
          0.918918918918919,
          0.918918918918919,
          0.918918918918919,
          0.918918918918919,
          0.918918918918919,
          0.918918918918919,
          0.918918918918919,
          0.918918918918919,
          0.918918918918919,
          0.8783783783783784,
          0.8783783783783784,
          0.8783783783783784,
          0.8783783783783784,
          0.8783783783783784,
          0.8783783783783784,
          0.8783783783783784,
          0.8783783783783784,
          0.8783783783783784,
          0.8783783783783784,
          0.8783783783783784,
          0.8783783783783784,
          0.8918918918918919,
          0.8918918918918919,
          0.8918918918918919,
          0.8918918918918919,
          0.8918918918918919,
          0.8918918918918919,
          0.9324324324324325,
          0.9324324324324325,
          0.9324324324324325,
          0.9324324324324325,
          0.9324324324324325,
          0.9324324324324325,
          0.918918918918919,
          0.918918918918919,
          0.918918918918919,
          0.918918918918919,
          0.918918918918919,
          0.918918918918919,
          0.9324324324324325,
          0.9324324324324325,
          0.9324324324324325,
          0.9324324324324325,
          0.9324324324324325,
          0.9324324324324325,
          0.8918918918918919,
          0.8918918918918919,
          0.8918918918918919,
          0.8918918918918919,
          0.8918918918918919,
          0.8918918918918919
         ],
         "xaxis": "x",
         "y": [
          0.9692307692307691,
          0.8749999999999999,
          1,
          0.8783783783783784,
          0.8783783783783784,
          1,
          0.8783783783783784,
          1,
          0.9692307692307691,
          0.8749999999999999,
          0.9166666666666666,
          0.9705882352941176,
          0.918918918918919,
          1,
          0.9154929577464789,
          0.9558823529411764,
          0.918918918918919,
          1,
          0.9285714285714286,
          0.9558823529411764,
          0.918918918918919,
          1,
          0.9295774647887324,
          0.9705882352941176,
          0.9166666666666666,
          0.9705882352941176,
          0.9436619718309859,
          0.9852941176470588,
          0.8749999999999999,
          0.9843749999999999,
          1,
          0.972972972972973,
          0.9583333333333333,
          0.971830985915493,
          0.972972972972973,
          1,
          0.9714285714285715,
          0.9444444444444444,
          0.972972972972973,
          1,
          0.9859154929577465,
          0.9722222222222222,
          0.9722222222222222,
          0.9722222222222222,
          0.971830985915493,
          0.9583333333333333,
          0.8648648648648649,
          1,
          0.8648648648648649,
          1,
          0.8648648648648649,
          1,
          0.8873239436619719,
          0.9843749999999999,
          0.8873239436619719,
          0.9843749999999999,
          1,
          0.9594594594594594,
          1,
          1,
          1,
          0.9459459459459459,
          1,
          1,
          1,
          0.9594594594594594,
          1,
          0.972972972972973,
          1,
          0.9594594594594594,
          0.9594594594594594,
          1,
          0.9714285714285715,
          0.9577464788732395,
          0.9594594594594594,
          1,
          0.9577464788732395,
          0.9577464788732395,
          0.9583333333333333,
          0.971830985915493,
          0.9577464788732395,
          0.9577464788732395,
          0.9459459459459459,
          1,
          1,
          1,
          0.9594594594594594,
          1,
          0.972972972972973,
          1,
          0.9594594594594594,
          1,
          0.9459459459459459,
          1,
          0.9571428571428571,
          0.9436619718309859,
          0.9714285714285715,
          0.9444444444444444,
          0.9714285714285715,
          0.9577464788732395,
          0.9594594594594594,
          1,
          0.972972972972973,
          1,
          0.9594594594594594,
          1,
          0.971830985915493,
          0.9583333333333333,
          0.9577464788732395,
          0.9577464788732395,
          0.9583333333333333,
          0.971830985915493,
          1,
          0.9692307692307691,
          0.8749999999999999,
          0.9692307692307691,
          0.8749999999999999,
          0.8513513513513513,
          0.9692307692307691,
          0.8749999999999999,
          1,
          0.8513513513513513,
          0.9692307692307691,
          0.8749999999999999,
          0.9692307692307691,
          0.8749999999999999,
          1,
          0.8513513513513513,
          0.9692307692307691,
          0.8749999999999999,
          1,
          0.8783783783783784,
          1,
          0.8783783783783784,
          1,
          0.8783783783783784,
          1,
          0.8783783783783784,
          1,
          0.8783783783783784,
          1,
          0.8783783783783784,
          1,
          0.9692307692307691,
          0.8749999999999999,
          0.9692307692307691,
          0.8749999999999999,
          0.8513513513513513,
          1,
          0.8783783783783784,
          1,
          0.8783783783783784,
          1,
          0.8783783783783784,
          0.9692307692307691,
          0.8749999999999999,
          1,
          0.8513513513513513,
          0.9692307692307691,
          0.8749999999999999,
          0.9692307692307691,
          0.8749999999999999,
          1,
          0.8513513513513513,
          0.9692307692307691,
          0.8749999999999999,
          1,
          0.9166666666666666,
          0.9705882352941176,
          0.9166666666666666,
          0.9705882352941176,
          0.8918918918918919,
          0.9130434782608695,
          0.9692307692307691,
          0.9545454545454545,
          0.8873239436619719,
          0.8749999999999999,
          0.926470588235294,
          0.9166666666666666,
          0.9705882352941176,
          1,
          0.8918918918918919,
          0.9166666666666666,
          0.9705882352941176,
          0.926470588235294,
          0.9692307692307691,
          0.9545454545454545,
          0.8999999999999999,
          0.8749999999999999,
          0.926470588235294,
          0.9166666666666666,
          0.9705882352941176,
          1,
          0.8918918918918919,
          0.9166666666666666,
          0.9705882352941176,
          0.9285714285714286,
          0.9848484848484849,
          0.9848484848484849,
          0.9154929577464789,
          0.9027777777777778,
          0.9558823529411764,
          0.9142857142857144,
          0.9696969696969697,
          0.9696969696969697,
          0.8888888888888888,
          0.8888888888888888,
          0.9411764705882353,
          0.9420289855072463,
          0.9701492537313433,
          0.9848484848484849,
          0.9154929577464789,
          0.9027777777777778,
          0.9558823529411764,
          0.9154929577464789,
          1,
          0.9558823529411764,
          0.9154929577464789,
          0.8783783783783784,
          0.9558823529411764,
          0.918918918918919,
          1,
          1,
          0.918918918918919,
          0.918918918918919,
          1,
          0.9285714285714286,
          1,
          0.9558823529411764,
          0.9285714285714286,
          0.8783783783783784,
          0.9558823529411764,
          0.918918918918919,
          1,
          1,
          0.918918918918919,
          0.918918918918919,
          1,
          0.9295774647887324,
          1,
          0.9705882352941176,
          0.9295774647887324,
          0.8918918918918919,
          0.9705882352941176,
          0.9166666666666666,
          1,
          0.9705882352941176,
          0.9166666666666666,
          0.8918918918918919,
          0.9705882352941176,
          1,
          0.9436619718309859,
          0.9852941176470588,
          0.9436619718309859,
          0.9852941176470588,
          0.9054054054054054,
          0.9154929577464789,
          1,
          0.9558823529411764,
          0.9154929577464789,
          0.8783783783783784,
          0.9558823529411764,
          0.926470588235294,
          0.9692307692307691,
          0.9692307692307691,
          0.8873239436619719,
          0.8999999999999999,
          0.926470588235294,
          0.9154929577464789,
          0.9558823529411764,
          1,
          0.8783783783783784,
          0.9154929577464789,
          0.9558823529411764,
          0.926470588235294,
          0.9692307692307691,
          0.9545454545454545,
          0.8873239436619719,
          0.8873239436619719,
          0.926470588235294,
          0.9130434782608695,
          0.9692307692307691,
          0.9545454545454545,
          0.8873239436619719,
          0.8749999999999999,
          0.926470588235294,
          0.9411764705882353,
          0.9846153846153847,
          0.955223880597015,
          0.9014084507042255,
          0.9014084507042255,
          0.9411764705882353,
          0.9285714285714286,
          0.9558823529411764,
          1,
          0.8783783783783784,
          0.9285714285714286,
          0.9558823529411764,
          0.918918918918919,
          1,
          1,
          0.918918918918919,
          0.918918918918919,
          1,
          0.9295774647887324,
          0.9705882352941176,
          1,
          0.8918918918918919,
          0.9295774647887324,
          0.9705882352941176,
          0.9166666666666666,
          0.9705882352941176,
          1,
          0.8918918918918919,
          0.9166666666666666,
          0.9705882352941176,
          0.9436619718309859,
          0.9852941176470588,
          1,
          0.9054054054054054,
          0.9436619718309859,
          0.9852941176470588,
          0.9285714285714286,
          0.9558823529411764,
          1,
          0.8783783783783784,
          0.9285714285714286,
          0.9558823529411764,
          0.9402985074626866,
          0.9692307692307691,
          0.9545454545454545,
          0.8999999999999999,
          0.8873239436619719,
          0.926470588235294,
          0.926470588235294,
          0.9692307692307691,
          0.9545454545454545,
          0.8999999999999999,
          0.8749999999999999,
          0.926470588235294,
          0.9411764705882353,
          0.9846153846153847,
          0.955223880597015,
          0.9142857142857144,
          0.9014084507042255,
          0.9411764705882353,
          0.9295774647887324,
          0.9705882352941176,
          1,
          0.8918918918918919,
          0.9295774647887324,
          0.9705882352941176,
          0.9166666666666666,
          0.9705882352941176,
          1,
          0.8918918918918919,
          0.9166666666666666,
          0.9705882352941176,
          0.9436619718309859,
          0.9852941176470588,
          1,
          0.9054054054054054,
          0.9436619718309859,
          0.9852941176470588,
          0.927536231884058,
          0.9696969696969697,
          0.9696969696969697,
          0.9014084507042255,
          0.8888888888888888,
          0.9411764705882353,
          0.9558823529411764,
          0.9848484848484849,
          0.9701492537313433,
          0.9154929577464789,
          0.9154929577464789,
          0.9558823529411764,
          0.9420289855072463,
          0.9848484848484849,
          0.9701492537313433,
          0.9027777777777778,
          0.9154929577464789,
          0.9558823529411764,
          1,
          0.8749999999999999,
          0.9843749999999999,
          0.8749999999999999,
          0.9843749999999999,
          0.8513513513513513,
          0.8749999999999999,
          0.9843749999999999,
          1,
          0.8513513513513513,
          0.8749999999999999,
          0.9843749999999999,
          0.8749999999999999,
          0.9843749999999999,
          1,
          0.8513513513513513,
          0.8749999999999999,
          0.9843749999999999,
          1,
          0.971830985915493,
          0.9583333333333333,
          0.971830985915493,
          0.9583333333333333,
          0.9324324324324325,
          1,
          0.972972972972973,
          1,
          0.972972972972973,
          1,
          0.972972972972973,
          1,
          0.9714285714285715,
          0.9444444444444444,
          0.9714285714285715,
          0.9444444444444444,
          0.918918918918919,
          1,
          0.972972972972973,
          1,
          0.972972972972973,
          1,
          0.972972972972973,
          1,
          0.9859154929577465,
          0.9722222222222222,
          0.9859154929577465,
          0.9722222222222222,
          0.9459459459459459,
          1,
          0.9722222222222222,
          0.9722222222222222,
          0.9722222222222222,
          0.9722222222222222,
          0.9459459459459459,
          1,
          0.971830985915493,
          0.9583333333333333,
          0.971830985915493,
          0.9583333333333333,
          0.9324324324324325,
          0.9583333333333333,
          0.971830985915493,
          1,
          0.9324324324324325,
          0.9583333333333333,
          0.971830985915493,
          0.9705882352941176,
          0.9705882352941176,
          0.9565217391304347,
          0.9428571428571428,
          0.9166666666666666,
          0.9295774647887324,
          0.9583333333333333,
          0.971830985915493,
          1,
          0.9324324324324325,
          0.9583333333333333,
          0.971830985915493,
          0.9571428571428571,
          0.9852941176470588,
          0.9710144927536232,
          0.9436619718309859,
          0.9305555555555555,
          0.9436619718309859,
          0.9571428571428571,
          0.9710144927536232,
          0.9710144927536232,
          0.9305555555555555,
          0.9305555555555555,
          0.9436619718309859,
          0.9565217391304347,
          0.9705882352941176,
          0.9565217391304347,
          0.9295774647887324,
          0.9166666666666666,
          0.9295774647887324,
          0.9714285714285715,
          0.9444444444444444,
          1,
          0.918918918918919,
          0.9714285714285715,
          0.9444444444444444,
          0.972972972972973,
          1,
          1,
          0.972972972972973,
          0.972972972972973,
          1,
          0.9859154929577465,
          0.9722222222222222,
          1,
          0.9459459459459459,
          0.9859154929577465,
          0.9722222222222222,
          0.9722222222222222,
          0.9722222222222222,
          1,
          0.9459459459459459,
          0.9722222222222222,
          0.9722222222222222,
          0.971830985915493,
          1,
          0.9583333333333333,
          0.971830985915493,
          0.9324324324324325,
          0.9583333333333333,
          0.9714285714285715,
          0.9444444444444444,
          1,
          0.918918918918919,
          0.9714285714285715,
          0.9444444444444444,
          0.9850746268656717,
          0.9705882352941176,
          0.9428571428571428,
          0.9428571428571428,
          0.9295774647887324,
          0.9166666666666666,
          0.9705882352941176,
          0.9705882352941176,
          0.9428571428571428,
          0.9428571428571428,
          0.9166666666666666,
          0.9166666666666666,
          0.9705882352941176,
          0.9565217391304347,
          0.9705882352941176,
          0.9295774647887324,
          0.9428571428571428,
          0.9166666666666666,
          0.9859154929577465,
          0.9722222222222222,
          1,
          0.9459459459459459,
          0.9859154929577465,
          0.9722222222222222,
          0.9722222222222222,
          0.9722222222222222,
          1,
          0.9459459459459459,
          0.9722222222222222,
          0.9722222222222222,
          0.9583333333333333,
          0.971830985915493,
          1,
          0.9324324324324325,
          0.9583333333333333,
          0.971830985915493,
          0.9855072463768116,
          0.9714285714285715,
          0.9714285714285715,
          0.9577464788732395,
          0.9444444444444444,
          0.9444444444444444,
          0.9852941176470588,
          0.9710144927536232,
          0.9571428571428571,
          0.9436619718309859,
          0.9436619718309859,
          0.9305555555555555,
          0.9710144927536232,
          0.9710144927536232,
          0.9571428571428571,
          0.9436619718309859,
          0.9305555555555555,
          0.9305555555555555,
          0.8648648648648649,
          1,
          1,
          0.8648648648648649,
          0.8648648648648649,
          1,
          0.8648648648648649,
          1,
          1,
          0.8648648648648649,
          0.8648648648648649,
          1,
          0.8873239436619719,
          1,
          0.9843749999999999,
          0.8873239436619719,
          0.8513513513513513,
          0.9843749999999999,
          1,
          0.8873239436619719,
          0.9843749999999999,
          0.8873239436619719,
          0.9843749999999999,
          0.8513513513513513,
          0.8648648648648649,
          1,
          1,
          0.8648648648648649,
          0.8648648648648649,
          1,
          0.8873239436619719,
          0.9843749999999999,
          1,
          0.8513513513513513,
          0.8873239436619719,
          0.9843749999999999,
          0.8873239436619719,
          0.9843749999999999,
          1,
          0.8513513513513513,
          0.8873239436619719,
          0.9843749999999999,
          0.8873239436619719,
          0.9843749999999999,
          1,
          0.8513513513513513,
          0.8873239436619719,
          0.9843749999999999,
          0.8873239436619719,
          0.9843749999999999,
          1,
          0.8513513513513513,
          0.8873239436619719,
          0.9843749999999999,
          1,
          1,
          0.9594594594594594,
          1,
          0.9594594594594594,
          0.9594594594594594,
          1,
          0.9577464788732395,
          0.9714285714285715,
          0.9577464788732395,
          0.9714285714285715,
          0.918918918918919,
          1,
          0.9594594594594594,
          1,
          0.9594594594594594,
          1,
          0.9594594594594594,
          1,
          0.9577464788732395,
          0.9577464788732395,
          0.9577464788732395,
          0.9577464788732395,
          0.918918918918919,
          1,
          0.971830985915493,
          0.9583333333333333,
          0.971830985915493,
          0.9583333333333333,
          0.9324324324324325,
          1,
          0.9577464788732395,
          0.9577464788732395,
          0.9577464788732395,
          0.9577464788732395,
          0.918918918918919,
          1,
          0.9459459459459459,
          1,
          0.9459459459459459,
          1,
          0.9459459459459459,
          1,
          1,
          1,
          1,
          1,
          1,
          1,
          0.9594594594594594,
          1,
          0.9594594594594594,
          1,
          0.9594594594594594,
          1,
          0.972972972972973,
          1,
          0.972972972972973,
          1,
          0.972972972972973,
          1,
          0.9594594594594594,
          1,
          0.9594594594594594,
          1,
          0.9594594594594594,
          1,
          0.9459459459459459,
          1,
          0.9459459459459459,
          1,
          0.9459459459459459,
          1,
          0.9571428571428571,
          0.9436619718309859,
          0.9571428571428571,
          0.9436619718309859,
          0.9054054054054054,
          1,
          0.9714285714285715,
          0.9444444444444444,
          0.9714285714285715,
          0.9444444444444444,
          0.918918918918919,
          1,
          0.9714285714285715,
          0.9577464788732395,
          0.9714285714285715,
          0.9577464788732395,
          0.918918918918919,
          1,
          0.9594594594594594,
          1,
          0.9594594594594594,
          1,
          0.9594594594594594,
          1,
          0.972972972972973,
          1,
          0.972972972972973,
          1,
          0.972972972972973,
          1,
          0.9594594594594594,
          1,
          0.9594594594594594,
          1,
          0.9594594594594594,
          1,
          0.971830985915493,
          0.9583333333333333,
          0.971830985915493,
          0.9583333333333333,
          0.9324324324324325,
          1,
          0.9577464788732395,
          0.9577464788732395,
          0.9577464788732395,
          0.9577464788732395,
          0.918918918918919,
          1,
          0.9583333333333333,
          0.971830985915493,
          0.9583333333333333,
          0.971830985915493,
          0.9324324324324325,
          0.9714285714285715,
          0.9577464788732395,
          1,
          0.918918918918919,
          0.9714285714285715,
          0.9577464788732395,
          0.9594594594594594,
          1,
          1,
          0.9594594594594594,
          0.9594594594594594,
          1,
          0.9577464788732395,
          0.9577464788732395,
          1,
          0.918918918918919,
          0.9577464788732395,
          0.9577464788732395,
          0.9583333333333333,
          0.971830985915493,
          1,
          0.9324324324324325,
          0.9583333333333333,
          0.971830985915493,
          0.9577464788732395,
          0.9577464788732395,
          1,
          0.918918918918919,
          0.9577464788732395,
          0.9577464788732395,
          0.9714285714285715,
          0.9577464788732395,
          1,
          0.918918918918919,
          0.9714285714285715,
          0.9577464788732395,
          0.9701492537313433,
          0.9558823529411764,
          0.9558823529411764,
          0.9285714285714286,
          0.9154929577464789,
          0.9154929577464789,
          0.9705882352941176,
          0.9705882352941176,
          0.9565217391304347,
          0.9428571428571428,
          0.9166666666666666,
          0.9295774647887324,
          0.9705882352941176,
          0.9705882352941176,
          0.9705882352941176,
          0.9428571428571428,
          0.9295774647887324,
          0.9295774647887324,
          0.9577464788732395,
          0.9577464788732395,
          1,
          0.918918918918919,
          0.9577464788732395,
          0.9577464788732395,
          0.9583333333333333,
          0.971830985915493,
          1,
          0.9324324324324325,
          0.9583333333333333,
          0.971830985915493,
          0.9577464788732395,
          0.9577464788732395,
          1,
          0.918918918918919,
          0.9577464788732395,
          0.9577464788732395,
          0.9565217391304347,
          0.9705882352941176,
          0.9565217391304347,
          0.9295774647887324,
          0.9166666666666666,
          0.9295774647887324,
          0.9558823529411764,
          0.9558823529411764,
          0.9558823529411764,
          0.9154929577464789,
          0.9154929577464789,
          0.9154929577464789,
          0.9565217391304347,
          0.9565217391304347,
          0.9705882352941176,
          0.9166666666666666,
          0.9295774647887324,
          0.9295774647887324,
          1,
          0.9459459459459459,
          1,
          0.9459459459459459,
          1,
          0.9459459459459459,
          0.9571428571428571,
          0.9436619718309859,
          1,
          0.9054054054054054,
          0.9571428571428571,
          0.9436619718309859,
          0.9714285714285715,
          0.9444444444444444,
          1,
          0.918918918918919,
          0.9714285714285715,
          0.9444444444444444,
          0.9714285714285715,
          0.9577464788732395,
          1,
          0.918918918918919,
          0.9714285714285715,
          0.9577464788732395,
          1,
          0.9594594594594594,
          1,
          0.9594594594594594,
          1,
          0.9594594594594594,
          0.972972972972973,
          1,
          1,
          0.972972972972973,
          0.972972972972973,
          1,
          0.9594594594594594,
          1,
          1,
          0.9594594594594594,
          0.9594594594594594,
          1,
          0.971830985915493,
          0.9583333333333333,
          1,
          0.9324324324324325,
          0.971830985915493,
          0.9583333333333333,
          0.9577464788732395,
          0.9577464788732395,
          1,
          0.918918918918919,
          0.9577464788732395,
          0.9577464788732395,
          0.9583333333333333,
          0.971830985915493,
          1,
          0.9324324324324325,
          0.9583333333333333,
          0.971830985915493,
          0.9571428571428571,
          0.9436619718309859,
          1,
          0.9054054054054054,
          0.9571428571428571,
          0.9436619718309859,
          0.9714285714285715,
          0.9444444444444444,
          1,
          0.918918918918919,
          0.9714285714285715,
          0.9444444444444444,
          0.9714285714285715,
          0.9577464788732395,
          1,
          0.918918918918919,
          0.9714285714285715,
          0.9577464788732395,
          0.9701492537313433,
          0.9558823529411764,
          0.9420289855072463,
          0.9285714285714286,
          0.9154929577464789,
          0.9027777777777778,
          0.9701492537313433,
          0.9558823529411764,
          0.9558823529411764,
          0.9285714285714286,
          0.9154929577464789,
          0.9154929577464789,
          0.9705882352941176,
          0.9705882352941176,
          0.9565217391304347,
          0.9428571428571428,
          0.9166666666666666,
          0.9295774647887324,
          0.971830985915493,
          0.9583333333333333,
          1,
          0.9324324324324325,
          0.971830985915493,
          0.9583333333333333,
          0.9577464788732395,
          0.9577464788732395,
          1,
          0.918918918918919,
          0.9577464788732395,
          0.9577464788732395,
          0.9583333333333333,
          0.971830985915493,
          1,
          0.9324324324324325,
          0.9583333333333333,
          0.971830985915493,
          0.9565217391304347,
          0.9705882352941176,
          0.9565217391304347,
          0.9295774647887324,
          0.9166666666666666,
          0.9295774647887324
         ],
         "yaxis": "y"
        }
       ],
       "layout": {
        "coloraxis": {
         "colorbar": {
          "title": {
           "text": "lift"
          }
         },
         "colorscale": [
          [
           0,
           "#0d0887"
          ],
          [
           0.1111111111111111,
           "#46039f"
          ],
          [
           0.2222222222222222,
           "#7201a8"
          ],
          [
           0.3333333333333333,
           "#9c179e"
          ],
          [
           0.4444444444444444,
           "#bd3786"
          ],
          [
           0.5555555555555556,
           "#d8576b"
          ],
          [
           0.6666666666666666,
           "#ed7953"
          ],
          [
           0.7777777777777778,
           "#fb9f3a"
          ],
          [
           0.8888888888888888,
           "#fdca26"
          ],
          [
           1,
           "#f0f921"
          ]
         ]
        },
        "legend": {
         "itemsizing": "constant",
         "tracegroupgap": 0
        },
        "template": {
         "data": {
          "bar": [
           {
            "error_x": {
             "color": "#2a3f5f"
            },
            "error_y": {
             "color": "#2a3f5f"
            },
            "marker": {
             "line": {
              "color": "#E5ECF6",
              "width": 0.5
             },
             "pattern": {
              "fillmode": "overlay",
              "size": 10,
              "solidity": 0.2
             }
            },
            "type": "bar"
           }
          ],
          "barpolar": [
           {
            "marker": {
             "line": {
              "color": "#E5ECF6",
              "width": 0.5
             },
             "pattern": {
              "fillmode": "overlay",
              "size": 10,
              "solidity": 0.2
             }
            },
            "type": "barpolar"
           }
          ],
          "carpet": [
           {
            "aaxis": {
             "endlinecolor": "#2a3f5f",
             "gridcolor": "white",
             "linecolor": "white",
             "minorgridcolor": "white",
             "startlinecolor": "#2a3f5f"
            },
            "baxis": {
             "endlinecolor": "#2a3f5f",
             "gridcolor": "white",
             "linecolor": "white",
             "minorgridcolor": "white",
             "startlinecolor": "#2a3f5f"
            },
            "type": "carpet"
           }
          ],
          "choropleth": [
           {
            "colorbar": {
             "outlinewidth": 0,
             "ticks": ""
            },
            "type": "choropleth"
           }
          ],
          "contour": [
           {
            "colorbar": {
             "outlinewidth": 0,
             "ticks": ""
            },
            "colorscale": [
             [
              0,
              "#0d0887"
             ],
             [
              0.1111111111111111,
              "#46039f"
             ],
             [
              0.2222222222222222,
              "#7201a8"
             ],
             [
              0.3333333333333333,
              "#9c179e"
             ],
             [
              0.4444444444444444,
              "#bd3786"
             ],
             [
              0.5555555555555556,
              "#d8576b"
             ],
             [
              0.6666666666666666,
              "#ed7953"
             ],
             [
              0.7777777777777778,
              "#fb9f3a"
             ],
             [
              0.8888888888888888,
              "#fdca26"
             ],
             [
              1,
              "#f0f921"
             ]
            ],
            "type": "contour"
           }
          ],
          "contourcarpet": [
           {
            "colorbar": {
             "outlinewidth": 0,
             "ticks": ""
            },
            "type": "contourcarpet"
           }
          ],
          "heatmap": [
           {
            "colorbar": {
             "outlinewidth": 0,
             "ticks": ""
            },
            "colorscale": [
             [
              0,
              "#0d0887"
             ],
             [
              0.1111111111111111,
              "#46039f"
             ],
             [
              0.2222222222222222,
              "#7201a8"
             ],
             [
              0.3333333333333333,
              "#9c179e"
             ],
             [
              0.4444444444444444,
              "#bd3786"
             ],
             [
              0.5555555555555556,
              "#d8576b"
             ],
             [
              0.6666666666666666,
              "#ed7953"
             ],
             [
              0.7777777777777778,
              "#fb9f3a"
             ],
             [
              0.8888888888888888,
              "#fdca26"
             ],
             [
              1,
              "#f0f921"
             ]
            ],
            "type": "heatmap"
           }
          ],
          "heatmapgl": [
           {
            "colorbar": {
             "outlinewidth": 0,
             "ticks": ""
            },
            "colorscale": [
             [
              0,
              "#0d0887"
             ],
             [
              0.1111111111111111,
              "#46039f"
             ],
             [
              0.2222222222222222,
              "#7201a8"
             ],
             [
              0.3333333333333333,
              "#9c179e"
             ],
             [
              0.4444444444444444,
              "#bd3786"
             ],
             [
              0.5555555555555556,
              "#d8576b"
             ],
             [
              0.6666666666666666,
              "#ed7953"
             ],
             [
              0.7777777777777778,
              "#fb9f3a"
             ],
             [
              0.8888888888888888,
              "#fdca26"
             ],
             [
              1,
              "#f0f921"
             ]
            ],
            "type": "heatmapgl"
           }
          ],
          "histogram": [
           {
            "marker": {
             "pattern": {
              "fillmode": "overlay",
              "size": 10,
              "solidity": 0.2
             }
            },
            "type": "histogram"
           }
          ],
          "histogram2d": [
           {
            "colorbar": {
             "outlinewidth": 0,
             "ticks": ""
            },
            "colorscale": [
             [
              0,
              "#0d0887"
             ],
             [
              0.1111111111111111,
              "#46039f"
             ],
             [
              0.2222222222222222,
              "#7201a8"
             ],
             [
              0.3333333333333333,
              "#9c179e"
             ],
             [
              0.4444444444444444,
              "#bd3786"
             ],
             [
              0.5555555555555556,
              "#d8576b"
             ],
             [
              0.6666666666666666,
              "#ed7953"
             ],
             [
              0.7777777777777778,
              "#fb9f3a"
             ],
             [
              0.8888888888888888,
              "#fdca26"
             ],
             [
              1,
              "#f0f921"
             ]
            ],
            "type": "histogram2d"
           }
          ],
          "histogram2dcontour": [
           {
            "colorbar": {
             "outlinewidth": 0,
             "ticks": ""
            },
            "colorscale": [
             [
              0,
              "#0d0887"
             ],
             [
              0.1111111111111111,
              "#46039f"
             ],
             [
              0.2222222222222222,
              "#7201a8"
             ],
             [
              0.3333333333333333,
              "#9c179e"
             ],
             [
              0.4444444444444444,
              "#bd3786"
             ],
             [
              0.5555555555555556,
              "#d8576b"
             ],
             [
              0.6666666666666666,
              "#ed7953"
             ],
             [
              0.7777777777777778,
              "#fb9f3a"
             ],
             [
              0.8888888888888888,
              "#fdca26"
             ],
             [
              1,
              "#f0f921"
             ]
            ],
            "type": "histogram2dcontour"
           }
          ],
          "mesh3d": [
           {
            "colorbar": {
             "outlinewidth": 0,
             "ticks": ""
            },
            "type": "mesh3d"
           }
          ],
          "parcoords": [
           {
            "line": {
             "colorbar": {
              "outlinewidth": 0,
              "ticks": ""
             }
            },
            "type": "parcoords"
           }
          ],
          "pie": [
           {
            "automargin": true,
            "type": "pie"
           }
          ],
          "scatter": [
           {
            "fillpattern": {
             "fillmode": "overlay",
             "size": 10,
             "solidity": 0.2
            },
            "type": "scatter"
           }
          ],
          "scatter3d": [
           {
            "line": {
             "colorbar": {
              "outlinewidth": 0,
              "ticks": ""
             }
            },
            "marker": {
             "colorbar": {
              "outlinewidth": 0,
              "ticks": ""
             }
            },
            "type": "scatter3d"
           }
          ],
          "scattercarpet": [
           {
            "marker": {
             "colorbar": {
              "outlinewidth": 0,
              "ticks": ""
             }
            },
            "type": "scattercarpet"
           }
          ],
          "scattergeo": [
           {
            "marker": {
             "colorbar": {
              "outlinewidth": 0,
              "ticks": ""
             }
            },
            "type": "scattergeo"
           }
          ],
          "scattergl": [
           {
            "marker": {
             "colorbar": {
              "outlinewidth": 0,
              "ticks": ""
             }
            },
            "type": "scattergl"
           }
          ],
          "scattermapbox": [
           {
            "marker": {
             "colorbar": {
              "outlinewidth": 0,
              "ticks": ""
             }
            },
            "type": "scattermapbox"
           }
          ],
          "scatterpolar": [
           {
            "marker": {
             "colorbar": {
              "outlinewidth": 0,
              "ticks": ""
             }
            },
            "type": "scatterpolar"
           }
          ],
          "scatterpolargl": [
           {
            "marker": {
             "colorbar": {
              "outlinewidth": 0,
              "ticks": ""
             }
            },
            "type": "scatterpolargl"
           }
          ],
          "scatterternary": [
           {
            "marker": {
             "colorbar": {
              "outlinewidth": 0,
              "ticks": ""
             }
            },
            "type": "scatterternary"
           }
          ],
          "surface": [
           {
            "colorbar": {
             "outlinewidth": 0,
             "ticks": ""
            },
            "colorscale": [
             [
              0,
              "#0d0887"
             ],
             [
              0.1111111111111111,
              "#46039f"
             ],
             [
              0.2222222222222222,
              "#7201a8"
             ],
             [
              0.3333333333333333,
              "#9c179e"
             ],
             [
              0.4444444444444444,
              "#bd3786"
             ],
             [
              0.5555555555555556,
              "#d8576b"
             ],
             [
              0.6666666666666666,
              "#ed7953"
             ],
             [
              0.7777777777777778,
              "#fb9f3a"
             ],
             [
              0.8888888888888888,
              "#fdca26"
             ],
             [
              1,
              "#f0f921"
             ]
            ],
            "type": "surface"
           }
          ],
          "table": [
           {
            "cells": {
             "fill": {
              "color": "#EBF0F8"
             },
             "line": {
              "color": "white"
             }
            },
            "header": {
             "fill": {
              "color": "#C8D4E3"
             },
             "line": {
              "color": "white"
             }
            },
            "type": "table"
           }
          ]
         },
         "layout": {
          "annotationdefaults": {
           "arrowcolor": "#2a3f5f",
           "arrowhead": 0,
           "arrowwidth": 1
          },
          "autotypenumbers": "strict",
          "coloraxis": {
           "colorbar": {
            "outlinewidth": 0,
            "ticks": ""
           }
          },
          "colorscale": {
           "diverging": [
            [
             0,
             "#8e0152"
            ],
            [
             0.1,
             "#c51b7d"
            ],
            [
             0.2,
             "#de77ae"
            ],
            [
             0.3,
             "#f1b6da"
            ],
            [
             0.4,
             "#fde0ef"
            ],
            [
             0.5,
             "#f7f7f7"
            ],
            [
             0.6,
             "#e6f5d0"
            ],
            [
             0.7,
             "#b8e186"
            ],
            [
             0.8,
             "#7fbc41"
            ],
            [
             0.9,
             "#4d9221"
            ],
            [
             1,
             "#276419"
            ]
           ],
           "sequential": [
            [
             0,
             "#0d0887"
            ],
            [
             0.1111111111111111,
             "#46039f"
            ],
            [
             0.2222222222222222,
             "#7201a8"
            ],
            [
             0.3333333333333333,
             "#9c179e"
            ],
            [
             0.4444444444444444,
             "#bd3786"
            ],
            [
             0.5555555555555556,
             "#d8576b"
            ],
            [
             0.6666666666666666,
             "#ed7953"
            ],
            [
             0.7777777777777778,
             "#fb9f3a"
            ],
            [
             0.8888888888888888,
             "#fdca26"
            ],
            [
             1,
             "#f0f921"
            ]
           ],
           "sequentialminus": [
            [
             0,
             "#0d0887"
            ],
            [
             0.1111111111111111,
             "#46039f"
            ],
            [
             0.2222222222222222,
             "#7201a8"
            ],
            [
             0.3333333333333333,
             "#9c179e"
            ],
            [
             0.4444444444444444,
             "#bd3786"
            ],
            [
             0.5555555555555556,
             "#d8576b"
            ],
            [
             0.6666666666666666,
             "#ed7953"
            ],
            [
             0.7777777777777778,
             "#fb9f3a"
            ],
            [
             0.8888888888888888,
             "#fdca26"
            ],
            [
             1,
             "#f0f921"
            ]
           ]
          },
          "colorway": [
           "#636efa",
           "#EF553B",
           "#00cc96",
           "#ab63fa",
           "#FFA15A",
           "#19d3f3",
           "#FF6692",
           "#B6E880",
           "#FF97FF",
           "#FECB52"
          ],
          "font": {
           "color": "#2a3f5f"
          },
          "geo": {
           "bgcolor": "white",
           "lakecolor": "white",
           "landcolor": "#E5ECF6",
           "showlakes": true,
           "showland": true,
           "subunitcolor": "white"
          },
          "hoverlabel": {
           "align": "left"
          },
          "hovermode": "closest",
          "mapbox": {
           "style": "light"
          },
          "paper_bgcolor": "white",
          "plot_bgcolor": "#E5ECF6",
          "polar": {
           "angularaxis": {
            "gridcolor": "white",
            "linecolor": "white",
            "ticks": ""
           },
           "bgcolor": "#E5ECF6",
           "radialaxis": {
            "gridcolor": "white",
            "linecolor": "white",
            "ticks": ""
           }
          },
          "scene": {
           "xaxis": {
            "backgroundcolor": "#E5ECF6",
            "gridcolor": "white",
            "gridwidth": 2,
            "linecolor": "white",
            "showbackground": true,
            "ticks": "",
            "zerolinecolor": "white"
           },
           "yaxis": {
            "backgroundcolor": "#E5ECF6",
            "gridcolor": "white",
            "gridwidth": 2,
            "linecolor": "white",
            "showbackground": true,
            "ticks": "",
            "zerolinecolor": "white"
           },
           "zaxis": {
            "backgroundcolor": "#E5ECF6",
            "gridcolor": "white",
            "gridwidth": 2,
            "linecolor": "white",
            "showbackground": true,
            "ticks": "",
            "zerolinecolor": "white"
           }
          },
          "shapedefaults": {
           "line": {
            "color": "#2a3f5f"
           }
          },
          "ternary": {
           "aaxis": {
            "gridcolor": "white",
            "linecolor": "white",
            "ticks": ""
           },
           "baxis": {
            "gridcolor": "white",
            "linecolor": "white",
            "ticks": ""
           },
           "bgcolor": "#E5ECF6",
           "caxis": {
            "gridcolor": "white",
            "linecolor": "white",
            "ticks": ""
           }
          },
          "title": {
           "x": 0.05
          },
          "xaxis": {
           "automargin": true,
           "gridcolor": "white",
           "linecolor": "white",
           "ticks": "",
           "title": {
            "standoff": 15
           },
           "zerolinecolor": "white",
           "zerolinewidth": 2
          },
          "yaxis": {
           "automargin": true,
           "gridcolor": "white",
           "linecolor": "white",
           "ticks": "",
           "title": {
            "standoff": 15
           },
           "zerolinecolor": "white",
           "zerolinewidth": 2
          }
         }
        },
        "title": {
         "text": "Support vs Confidence"
        },
        "xaxis": {
         "anchor": "y",
         "domain": [
          0,
          1
         ],
         "title": {
          "text": "support"
         }
        },
        "yaxis": {
         "anchor": "x",
         "domain": [
          0,
          1
         ],
         "title": {
          "text": "confidence"
         }
        }
       }
      },
      "text/html": [
       "<div>                            <div id=\"28fd9be2-b2ab-4525-a152-07cf7874dfa7\" class=\"plotly-graph-div\" style=\"height:525px; width:100%;\"></div>            <script type=\"text/javascript\">                require([\"plotly\"], function(Plotly) {                    window.PLOTLYENV=window.PLOTLYENV || {};                                    if (document.getElementById(\"28fd9be2-b2ab-4525-a152-07cf7874dfa7\")) {                    Plotly.newPlot(                        \"28fd9be2-b2ab-4525-a152-07cf7874dfa7\",                        [{\"customdata\":[[\"Sutterella\",\"Blautia\"],[\"Blautia\",\"Sutterella\"],[\"Sutterella\",\"Bacteroides\"],[\"Bacteroides\",\"Sutterella\"],[\"Ruminococcus\",\"Sutterella\"],[\"Sutterella\",\"Ruminococcus\"],[\"Oscillospira\",\"Sutterella\"],[\"Sutterella\",\"Oscillospira\"],[\"Sutterella\",\"Parabacteroides\"],[\"Parabacteroides\",\"Sutterella\"],[\"Blautia\",\"Lachnospira\"],[\"Lachnospira\",\"Blautia\"],[\"Bacteroides\",\"Lachnospira\"],[\"Lachnospira\",\"Bacteroides\"],[\"Alistipes\",\"Lachnospira\"],[\"Lachnospira\",\"Alistipes\"],[\"Ruminococcus\",\"Lachnospira\"],[\"Lachnospira\",\"Ruminococcus\"],[\"Subdoligranulum\",\"Lachnospira\"],[\"Lachnospira\",\"Subdoligranulum\"],[\"Oscillospira\",\"Lachnospira\"],[\"Lachnospira\",\"Oscillospira\"],[\"Clostridium\",\"Lachnospira\"],[\"Lachnospira\",\"Clostridium\"],[\"Parabacteroides\",\"Lachnospira\"],[\"Lachnospira\",\"Parabacteroides\"],[\"Faecalibacterium\",\"Lachnospira\"],[\"Lachnospira\",\"Faecalibacterium\"],[\"Blautia\",\"Dorea\"],[\"Dorea\",\"Blautia\"],[\"Blautia\",\"Bacteroides\"],[\"Bacteroides\",\"Blautia\"],[\"Blautia\",\"Alistipes\"],[\"Alistipes\",\"Blautia\"],[\"Ruminococcus\",\"Blautia\"],[\"Blautia\",\"Ruminococcus\"],[\"Subdoligranulum\",\"Blautia\"],[\"Blautia\",\"Subdoligranulum\"],[\"Oscillospira\",\"Blautia\"],[\"Blautia\",\"Oscillospira\"],[\"Clostridium\",\"Blautia\"],[\"Blautia\",\"Clostridium\"],[\"Parabacteroides\",\"Blautia\"],[\"Blautia\",\"Parabacteroides\"],[\"Faecalibacterium\",\"Blautia\"],[\"Blautia\",\"Faecalibacterium\"],[\"Bacteroides\",\"Dorea\"],[\"Dorea\",\"Bacteroides\"],[\"Ruminococcus\",\"Dorea\"],[\"Dorea\",\"Ruminococcus\"],[\"Oscillospira\",\"Dorea\"],[\"Dorea\",\"Oscillospira\"],[\"Clostridium\",\"Dorea\"],[\"Dorea\",\"Clostridium\"],[\"Faecalibacterium\",\"Dorea\"],[\"Dorea\",\"Faecalibacterium\"],[\"Alistipes\",\"Bacteroides\"],[\"Bacteroides\",\"Alistipes\"],[\"Ruminococcus\",\"Bacteroides\"],[\"Bacteroides\",\"Ruminococcus\"],[\"Subdoligranulum\",\"Bacteroides\"],[\"Bacteroides\",\"Subdoligranulum\"],[\"Oscillospira\",\"Bacteroides\"],[\"Bacteroides\",\"Oscillospira\"],[\"Clostridium\",\"Bacteroides\"],[\"Bacteroides\",\"Clostridium\"],[\"Parabacteroides\",\"Bacteroides\"],[\"Bacteroides\",\"Parabacteroides\"],[\"Faecalibacterium\",\"Bacteroides\"],[\"Bacteroides\",\"Faecalibacterium\"],[\"Ruminococcus\",\"Alistipes\"],[\"Alistipes\",\"Ruminococcus\"],[\"Subdoligranulum\",\"Alistipes\"],[\"Alistipes\",\"Subdoligranulum\"],[\"Oscillospira\",\"Alistipes\"],[\"Alistipes\",\"Oscillospira\"],[\"Clostridium\",\"Alistipes\"],[\"Alistipes\",\"Clostridium\"],[\"Parabacteroides\",\"Alistipes\"],[\"Alistipes\",\"Parabacteroides\"],[\"Faecalibacterium\",\"Alistipes\"],[\"Alistipes\",\"Faecalibacterium\"],[\"Ruminococcus\",\"Subdoligranulum\"],[\"Subdoligranulum\",\"Ruminococcus\"],[\"Oscillospira\",\"Ruminococcus\"],[\"Ruminococcus\",\"Oscillospira\"],[\"Ruminococcus\",\"Clostridium\"],[\"Clostridium\",\"Ruminococcus\"],[\"Ruminococcus\",\"Parabacteroides\"],[\"Parabacteroides\",\"Ruminococcus\"],[\"Ruminococcus\",\"Faecalibacterium\"],[\"Faecalibacterium\",\"Ruminococcus\"],[\"Oscillospira\",\"Subdoligranulum\"],[\"Subdoligranulum\",\"Oscillospira\"],[\"Subdoligranulum\",\"Clostridium\"],[\"Clostridium\",\"Subdoligranulum\"],[\"Subdoligranulum\",\"Parabacteroides\"],[\"Parabacteroides\",\"Subdoligranulum\"],[\"Subdoligranulum\",\"Faecalibacterium\"],[\"Faecalibacterium\",\"Subdoligranulum\"],[\"Oscillospira\",\"Clostridium\"],[\"Clostridium\",\"Oscillospira\"],[\"Oscillospira\",\"Parabacteroides\"],[\"Parabacteroides\",\"Oscillospira\"],[\"Oscillospira\",\"Faecalibacterium\"],[\"Faecalibacterium\",\"Oscillospira\"],[\"Clostridium\",\"Parabacteroides\"],[\"Parabacteroides\",\"Clostridium\"],[\"Clostridium\",\"Faecalibacterium\"],[\"Faecalibacterium\",\"Clostridium\"],[\"Parabacteroides\",\"Faecalibacterium\"],[\"Faecalibacterium\",\"Parabacteroides\"],[\"Blautia, Sutterella\",\"Bacteroides\"],[\"Bacteroides, Sutterella\",\"Blautia\"],[\"Bacteroides, Blautia\",\"Sutterella\"],[\"Sutterella\",\"Bacteroides, Blautia\"],[\"Blautia\",\"Bacteroides, Sutterella\"],[\"Bacteroides\",\"Blautia, Sutterella\"],[\"Ruminococcus, Sutterella\",\"Blautia\"],[\"Blautia, Ruminococcus\",\"Sutterella\"],[\"Blautia, Sutterella\",\"Ruminococcus\"],[\"Ruminococcus\",\"Blautia, Sutterella\"],[\"Sutterella\",\"Blautia, Ruminococcus\"],[\"Blautia\",\"Ruminococcus, Sutterella\"],[\"Oscillospira, Sutterella\",\"Blautia\"],[\"Blautia, Oscillospira\",\"Sutterella\"],[\"Blautia, Sutterella\",\"Oscillospira\"],[\"Oscillospira\",\"Blautia, Sutterella\"],[\"Sutterella\",\"Blautia, Oscillospira\"],[\"Blautia\",\"Oscillospira, Sutterella\"],[\"Ruminococcus, Sutterella\",\"Bacteroides\"],[\"Bacteroides, Ruminococcus\",\"Sutterella\"],[\"Bacteroides, Sutterella\",\"Ruminococcus\"],[\"Ruminococcus\",\"Bacteroides, Sutterella\"],[\"Sutterella\",\"Bacteroides, Ruminococcus\"],[\"Bacteroides\",\"Ruminococcus, Sutterella\"],[\"Oscillospira, Sutterella\",\"Bacteroides\"],[\"Bacteroides, Oscillospira\",\"Sutterella\"],[\"Bacteroides, Sutterella\",\"Oscillospira\"],[\"Oscillospira\",\"Bacteroides, Sutterella\"],[\"Sutterella\",\"Bacteroides, Oscillospira\"],[\"Bacteroides\",\"Oscillospira, Sutterella\"],[\"Parabacteroides, Sutterella\",\"Bacteroides\"],[\"Bacteroides, Sutterella\",\"Parabacteroides\"],[\"Bacteroides, Parabacteroides\",\"Sutterella\"],[\"Sutterella\",\"Bacteroides, Parabacteroides\"],[\"Parabacteroides\",\"Bacteroides, Sutterella\"],[\"Bacteroides\",\"Parabacteroides, Sutterella\"],[\"Oscillospira, Sutterella\",\"Ruminococcus\"],[\"Oscillospira, Ruminococcus\",\"Sutterella\"],[\"Ruminococcus, Sutterella\",\"Oscillospira\"],[\"Oscillospira\",\"Ruminococcus, Sutterella\"],[\"Sutterella\",\"Oscillospira, Ruminococcus\"],[\"Ruminococcus\",\"Oscillospira, Sutterella\"],[\"Ruminococcus, Sutterella\",\"Parabacteroides\"],[\"Parabacteroides, Ruminococcus\",\"Sutterella\"],[\"Parabacteroides, Sutterella\",\"Ruminococcus\"],[\"Ruminococcus\",\"Parabacteroides, Sutterella\"],[\"Sutterella\",\"Parabacteroides, Ruminococcus\"],[\"Parabacteroides\",\"Ruminococcus, Sutterella\"],[\"Oscillospira, Sutterella\",\"Parabacteroides\"],[\"Oscillospira, Parabacteroides\",\"Sutterella\"],[\"Parabacteroides, Sutterella\",\"Oscillospira\"],[\"Oscillospira\",\"Parabacteroides, Sutterella\"],[\"Sutterella\",\"Oscillospira, Parabacteroides\"],[\"Parabacteroides\",\"Oscillospira, Sutterella\"],[\"Blautia, Lachnospira\",\"Bacteroides\"],[\"Bacteroides, Blautia\",\"Lachnospira\"],[\"Bacteroides, Lachnospira\",\"Blautia\"],[\"Blautia\",\"Bacteroides, Lachnospira\"],[\"Lachnospira\",\"Bacteroides, Blautia\"],[\"Bacteroides\",\"Blautia, Lachnospira\"],[\"Alistipes, Blautia\",\"Lachnospira\"],[\"Alistipes, Lachnospira\",\"Blautia\"],[\"Blautia, Lachnospira\",\"Alistipes\"],[\"Alistipes\",\"Blautia, Lachnospira\"],[\"Blautia\",\"Alistipes, Lachnospira\"],[\"Lachnospira\",\"Alistipes, Blautia\"],[\"Blautia, Ruminococcus\",\"Lachnospira\"],[\"Lachnospira, Ruminococcus\",\"Blautia\"],[\"Blautia, Lachnospira\",\"Ruminococcus\"],[\"Ruminococcus\",\"Blautia, Lachnospira\"],[\"Blautia\",\"Lachnospira, Ruminococcus\"],[\"Lachnospira\",\"Blautia, Ruminococcus\"],[\"Blautia, Subdoligranulum\",\"Lachnospira\"],[\"Lachnospira, Subdoligranulum\",\"Blautia\"],[\"Blautia, Lachnospira\",\"Subdoligranulum\"],[\"Subdoligranulum\",\"Blautia, Lachnospira\"],[\"Blautia\",\"Lachnospira, Subdoligranulum\"],[\"Lachnospira\",\"Blautia, Subdoligranulum\"],[\"Blautia, Oscillospira\",\"Lachnospira\"],[\"Lachnospira, Oscillospira\",\"Blautia\"],[\"Blautia, Lachnospira\",\"Oscillospira\"],[\"Oscillospira\",\"Blautia, Lachnospira\"],[\"Blautia\",\"Lachnospira, Oscillospira\"],[\"Lachnospira\",\"Blautia, Oscillospira\"],[\"Blautia, Clostridium\",\"Lachnospira\"],[\"Clostridium, Lachnospira\",\"Blautia\"],[\"Blautia, Lachnospira\",\"Clostridium\"],[\"Clostridium\",\"Blautia, Lachnospira\"],[\"Blautia\",\"Clostridium, Lachnospira\"],[\"Lachnospira\",\"Blautia, Clostridium\"],[\"Blautia, Parabacteroides\",\"Lachnospira\"],[\"Lachnospira, Parabacteroides\",\"Blautia\"],[\"Blautia, Lachnospira\",\"Parabacteroides\"],[\"Parabacteroides\",\"Blautia, Lachnospira\"],[\"Blautia\",\"Lachnospira, Parabacteroides\"],[\"Lachnospira\",\"Blautia, Parabacteroides\"],[\"Blautia, Faecalibacterium\",\"Lachnospira\"],[\"Faecalibacterium, Lachnospira\",\"Blautia\"],[\"Blautia, Lachnospira\",\"Faecalibacterium\"],[\"Faecalibacterium\",\"Blautia, Lachnospira\"],[\"Blautia\",\"Faecalibacterium, Lachnospira\"],[\"Lachnospira\",\"Blautia, Faecalibacterium\"],[\"Alistipes, Bacteroides\",\"Lachnospira\"],[\"Alistipes, Lachnospira\",\"Bacteroides\"],[\"Bacteroides, Lachnospira\",\"Alistipes\"],[\"Alistipes\",\"Bacteroides, Lachnospira\"],[\"Bacteroides\",\"Alistipes, Lachnospira\"],[\"Lachnospira\",\"Alistipes, Bacteroides\"],[\"Bacteroides, Ruminococcus\",\"Lachnospira\"],[\"Lachnospira, Ruminococcus\",\"Bacteroides\"],[\"Bacteroides, Lachnospira\",\"Ruminococcus\"],[\"Ruminococcus\",\"Bacteroides, Lachnospira\"],[\"Bacteroides\",\"Lachnospira, Ruminococcus\"],[\"Lachnospira\",\"Bacteroides, Ruminococcus\"],[\"Bacteroides, Subdoligranulum\",\"Lachnospira\"],[\"Lachnospira, Subdoligranulum\",\"Bacteroides\"],[\"Bacteroides, Lachnospira\",\"Subdoligranulum\"],[\"Subdoligranulum\",\"Bacteroides, Lachnospira\"],[\"Bacteroides\",\"Lachnospira, Subdoligranulum\"],[\"Lachnospira\",\"Bacteroides, Subdoligranulum\"],[\"Bacteroides, Oscillospira\",\"Lachnospira\"],[\"Lachnospira, Oscillospira\",\"Bacteroides\"],[\"Bacteroides, Lachnospira\",\"Oscillospira\"],[\"Oscillospira\",\"Bacteroides, Lachnospira\"],[\"Bacteroides\",\"Lachnospira, Oscillospira\"],[\"Lachnospira\",\"Bacteroides, Oscillospira\"],[\"Bacteroides, Clostridium\",\"Lachnospira\"],[\"Clostridium, Lachnospira\",\"Bacteroides\"],[\"Bacteroides, Lachnospira\",\"Clostridium\"],[\"Clostridium\",\"Bacteroides, Lachnospira\"],[\"Bacteroides\",\"Clostridium, Lachnospira\"],[\"Lachnospira\",\"Bacteroides, Clostridium\"],[\"Bacteroides, Parabacteroides\",\"Lachnospira\"],[\"Lachnospira, Parabacteroides\",\"Bacteroides\"],[\"Bacteroides, Lachnospira\",\"Parabacteroides\"],[\"Parabacteroides\",\"Bacteroides, Lachnospira\"],[\"Bacteroides\",\"Lachnospira, Parabacteroides\"],[\"Lachnospira\",\"Bacteroides, Parabacteroides\"],[\"Faecalibacterium, Lachnospira\",\"Bacteroides\"],[\"Bacteroides, Faecalibacterium\",\"Lachnospira\"],[\"Bacteroides, Lachnospira\",\"Faecalibacterium\"],[\"Faecalibacterium\",\"Bacteroides, Lachnospira\"],[\"Lachnospira\",\"Bacteroides, Faecalibacterium\"],[\"Bacteroides\",\"Faecalibacterium, Lachnospira\"],[\"Alistipes, Ruminococcus\",\"Lachnospira\"],[\"Alistipes, Lachnospira\",\"Ruminococcus\"],[\"Lachnospira, Ruminococcus\",\"Alistipes\"],[\"Alistipes\",\"Lachnospira, Ruminococcus\"],[\"Ruminococcus\",\"Alistipes, Lachnospira\"],[\"Lachnospira\",\"Alistipes, Ruminococcus\"],[\"Alistipes, Subdoligranulum\",\"Lachnospira\"],[\"Alistipes, Lachnospira\",\"Subdoligranulum\"],[\"Lachnospira, Subdoligranulum\",\"Alistipes\"],[\"Alistipes\",\"Lachnospira, Subdoligranulum\"],[\"Subdoligranulum\",\"Alistipes, Lachnospira\"],[\"Lachnospira\",\"Alistipes, Subdoligranulum\"],[\"Alistipes, Oscillospira\",\"Lachnospira\"],[\"Lachnospira, Oscillospira\",\"Alistipes\"],[\"Alistipes, Lachnospira\",\"Oscillospira\"],[\"Oscillospira\",\"Alistipes, Lachnospira\"],[\"Alistipes\",\"Lachnospira, Oscillospira\"],[\"Lachnospira\",\"Alistipes, Oscillospira\"],[\"Alistipes, Clostridium\",\"Lachnospira\"],[\"Alistipes, Lachnospira\",\"Clostridium\"],[\"Clostridium, Lachnospira\",\"Alistipes\"],[\"Alistipes\",\"Clostridium, Lachnospira\"],[\"Clostridium\",\"Alistipes, Lachnospira\"],[\"Lachnospira\",\"Alistipes, Clostridium\"],[\"Alistipes, Parabacteroides\",\"Lachnospira\"],[\"Alistipes, Lachnospira\",\"Parabacteroides\"],[\"Lachnospira, Parabacteroides\",\"Alistipes\"],[\"Alistipes\",\"Lachnospira, Parabacteroides\"],[\"Parabacteroides\",\"Alistipes, Lachnospira\"],[\"Lachnospira\",\"Alistipes, Parabacteroides\"],[\"Alistipes, Faecalibacterium\",\"Lachnospira\"],[\"Alistipes, Lachnospira\",\"Faecalibacterium\"],[\"Faecalibacterium, Lachnospira\",\"Alistipes\"],[\"Alistipes\",\"Faecalibacterium, Lachnospira\"],[\"Faecalibacterium\",\"Alistipes, Lachnospira\"],[\"Lachnospira\",\"Alistipes, Faecalibacterium\"],[\"Ruminococcus, Subdoligranulum\",\"Lachnospira\"],[\"Lachnospira, Ruminococcus\",\"Subdoligranulum\"],[\"Lachnospira, Subdoligranulum\",\"Ruminococcus\"],[\"Ruminococcus\",\"Lachnospira, Subdoligranulum\"],[\"Subdoligranulum\",\"Lachnospira, Ruminococcus\"],[\"Lachnospira\",\"Ruminococcus, Subdoligranulum\"],[\"Oscillospira, Ruminococcus\",\"Lachnospira\"],[\"Lachnospira, Oscillospira\",\"Ruminococcus\"],[\"Lachnospira, Ruminococcus\",\"Oscillospira\"],[\"Oscillospira\",\"Lachnospira, Ruminococcus\"],[\"Ruminococcus\",\"Lachnospira, Oscillospira\"],[\"Lachnospira\",\"Oscillospira, Ruminococcus\"],[\"Clostridium, Ruminococcus\",\"Lachnospira\"],[\"Lachnospira, Ruminococcus\",\"Clostridium\"],[\"Clostridium, Lachnospira\",\"Ruminococcus\"],[\"Ruminococcus\",\"Clostridium, Lachnospira\"],[\"Clostridium\",\"Lachnospira, Ruminococcus\"],[\"Lachnospira\",\"Clostridium, Ruminococcus\"],[\"Parabacteroides, Ruminococcus\",\"Lachnospira\"],[\"Lachnospira, Ruminococcus\",\"Parabacteroides\"],[\"Lachnospira, Parabacteroides\",\"Ruminococcus\"],[\"Ruminococcus\",\"Lachnospira, Parabacteroides\"],[\"Parabacteroides\",\"Lachnospira, Ruminococcus\"],[\"Lachnospira\",\"Parabacteroides, Ruminococcus\"],[\"Faecalibacterium, Ruminococcus\",\"Lachnospira\"],[\"Lachnospira, Ruminococcus\",\"Faecalibacterium\"],[\"Faecalibacterium, Lachnospira\",\"Ruminococcus\"],[\"Ruminococcus\",\"Faecalibacterium, Lachnospira\"],[\"Faecalibacterium\",\"Lachnospira, Ruminococcus\"],[\"Lachnospira\",\"Faecalibacterium, Ruminococcus\"],[\"Oscillospira, Subdoligranulum\",\"Lachnospira\"],[\"Lachnospira, Oscillospira\",\"Subdoligranulum\"],[\"Lachnospira, Subdoligranulum\",\"Oscillospira\"],[\"Oscillospira\",\"Lachnospira, Subdoligranulum\"],[\"Subdoligranulum\",\"Lachnospira, Oscillospira\"],[\"Lachnospira\",\"Oscillospira, Subdoligranulum\"],[\"Clostridium, Subdoligranulum\",\"Lachnospira\"],[\"Lachnospira, Subdoligranulum\",\"Clostridium\"],[\"Clostridium, Lachnospira\",\"Subdoligranulum\"],[\"Subdoligranulum\",\"Clostridium, Lachnospira\"],[\"Clostridium\",\"Lachnospira, Subdoligranulum\"],[\"Lachnospira\",\"Clostridium, Subdoligranulum\"],[\"Parabacteroides, Subdoligranulum\",\"Lachnospira\"],[\"Lachnospira, Subdoligranulum\",\"Parabacteroides\"],[\"Lachnospira, Parabacteroides\",\"Subdoligranulum\"],[\"Subdoligranulum\",\"Lachnospira, Parabacteroides\"],[\"Parabacteroides\",\"Lachnospira, Subdoligranulum\"],[\"Lachnospira\",\"Parabacteroides, Subdoligranulum\"],[\"Faecalibacterium, Subdoligranulum\",\"Lachnospira\"],[\"Lachnospira, Subdoligranulum\",\"Faecalibacterium\"],[\"Faecalibacterium, Lachnospira\",\"Subdoligranulum\"],[\"Subdoligranulum\",\"Faecalibacterium, Lachnospira\"],[\"Faecalibacterium\",\"Lachnospira, Subdoligranulum\"],[\"Lachnospira\",\"Faecalibacterium, Subdoligranulum\"],[\"Clostridium, Oscillospira\",\"Lachnospira\"],[\"Lachnospira, Oscillospira\",\"Clostridium\"],[\"Clostridium, Lachnospira\",\"Oscillospira\"],[\"Oscillospira\",\"Clostridium, Lachnospira\"],[\"Clostridium\",\"Lachnospira, Oscillospira\"],[\"Lachnospira\",\"Clostridium, Oscillospira\"],[\"Oscillospira, Parabacteroides\",\"Lachnospira\"],[\"Lachnospira, Oscillospira\",\"Parabacteroides\"],[\"Lachnospira, Parabacteroides\",\"Oscillospira\"],[\"Oscillospira\",\"Lachnospira, Parabacteroides\"],[\"Parabacteroides\",\"Lachnospira, Oscillospira\"],[\"Lachnospira\",\"Oscillospira, Parabacteroides\"],[\"Faecalibacterium, Oscillospira\",\"Lachnospira\"],[\"Lachnospira, Oscillospira\",\"Faecalibacterium\"],[\"Faecalibacterium, Lachnospira\",\"Oscillospira\"],[\"Oscillospira\",\"Faecalibacterium, Lachnospira\"],[\"Faecalibacterium\",\"Lachnospira, Oscillospira\"],[\"Lachnospira\",\"Faecalibacterium, Oscillospira\"],[\"Clostridium, Parabacteroides\",\"Lachnospira\"],[\"Clostridium, Lachnospira\",\"Parabacteroides\"],[\"Lachnospira, Parabacteroides\",\"Clostridium\"],[\"Clostridium\",\"Lachnospira, Parabacteroides\"],[\"Parabacteroides\",\"Clostridium, Lachnospira\"],[\"Lachnospira\",\"Clostridium, Parabacteroides\"],[\"Clostridium, Faecalibacterium\",\"Lachnospira\"],[\"Clostridium, Lachnospira\",\"Faecalibacterium\"],[\"Faecalibacterium, Lachnospira\",\"Clostridium\"],[\"Clostridium\",\"Faecalibacterium, Lachnospira\"],[\"Faecalibacterium\",\"Clostridium, Lachnospira\"],[\"Lachnospira\",\"Clostridium, Faecalibacterium\"],[\"Faecalibacterium, Parabacteroides\",\"Lachnospira\"],[\"Lachnospira, Parabacteroides\",\"Faecalibacterium\"],[\"Faecalibacterium, Lachnospira\",\"Parabacteroides\"],[\"Parabacteroides\",\"Faecalibacterium, Lachnospira\"],[\"Faecalibacterium\",\"Lachnospira, Parabacteroides\"],[\"Lachnospira\",\"Faecalibacterium, Parabacteroides\"],[\"Blautia, Dorea\",\"Bacteroides\"],[\"Bacteroides, Blautia\",\"Dorea\"],[\"Bacteroides, Dorea\",\"Blautia\"],[\"Blautia\",\"Bacteroides, Dorea\"],[\"Dorea\",\"Bacteroides, Blautia\"],[\"Bacteroides\",\"Blautia, Dorea\"],[\"Blautia, Ruminococcus\",\"Dorea\"],[\"Dorea, Ruminococcus\",\"Blautia\"],[\"Blautia, Dorea\",\"Ruminococcus\"],[\"Ruminococcus\",\"Blautia, Dorea\"],[\"Blautia\",\"Dorea, Ruminococcus\"],[\"Dorea\",\"Blautia, Ruminococcus\"],[\"Blautia, Oscillospira\",\"Dorea\"],[\"Dorea, Oscillospira\",\"Blautia\"],[\"Blautia, Dorea\",\"Oscillospira\"],[\"Oscillospira\",\"Blautia, Dorea\"],[\"Blautia\",\"Dorea, Oscillospira\"],[\"Dorea\",\"Blautia, Oscillospira\"],[\"Alistipes, Blautia\",\"Bacteroides\"],[\"Alistipes, Bacteroides\",\"Blautia\"],[\"Bacteroides, Blautia\",\"Alistipes\"],[\"Alistipes\",\"Bacteroides, Blautia\"],[\"Blautia\",\"Alistipes, Bacteroides\"],[\"Bacteroides\",\"Alistipes, Blautia\"],[\"Blautia, Ruminococcus\",\"Bacteroides\"],[\"Bacteroides, Ruminococcus\",\"Blautia\"],[\"Bacteroides, Blautia\",\"Ruminococcus\"],[\"Ruminococcus\",\"Bacteroides, Blautia\"],[\"Blautia\",\"Bacteroides, Ruminococcus\"],[\"Bacteroides\",\"Blautia, Ruminococcus\"],[\"Blautia, Subdoligranulum\",\"Bacteroides\"],[\"Bacteroides, Subdoligranulum\",\"Blautia\"],[\"Bacteroides, Blautia\",\"Subdoligranulum\"],[\"Subdoligranulum\",\"Bacteroides, Blautia\"],[\"Blautia\",\"Bacteroides, Subdoligranulum\"],[\"Bacteroides\",\"Blautia, Subdoligranulum\"],[\"Blautia, Oscillospira\",\"Bacteroides\"],[\"Bacteroides, Oscillospira\",\"Blautia\"],[\"Bacteroides, Blautia\",\"Oscillospira\"],[\"Oscillospira\",\"Bacteroides, Blautia\"],[\"Blautia\",\"Bacteroides, Oscillospira\"],[\"Bacteroides\",\"Blautia, Oscillospira\"],[\"Blautia, Clostridium\",\"Bacteroides\"],[\"Bacteroides, Clostridium\",\"Blautia\"],[\"Bacteroides, Blautia\",\"Clostridium\"],[\"Clostridium\",\"Bacteroides, Blautia\"],[\"Blautia\",\"Bacteroides, Clostridium\"],[\"Bacteroides\",\"Blautia, Clostridium\"],[\"Blautia, Parabacteroides\",\"Bacteroides\"],[\"Bacteroides, Parabacteroides\",\"Blautia\"],[\"Bacteroides, Blautia\",\"Parabacteroides\"],[\"Parabacteroides\",\"Bacteroides, Blautia\"],[\"Blautia\",\"Bacteroides, Parabacteroides\"],[\"Bacteroides\",\"Blautia, Parabacteroides\"],[\"Blautia, Faecalibacterium\",\"Bacteroides\"],[\"Bacteroides, Faecalibacterium\",\"Blautia\"],[\"Bacteroides, Blautia\",\"Faecalibacterium\"],[\"Faecalibacterium\",\"Bacteroides, Blautia\"],[\"Blautia\",\"Bacteroides, Faecalibacterium\"],[\"Bacteroides\",\"Blautia, Faecalibacterium\"],[\"Blautia, Ruminococcus\",\"Alistipes\"],[\"Alistipes, Ruminococcus\",\"Blautia\"],[\"Alistipes, Blautia\",\"Ruminococcus\"],[\"Ruminococcus\",\"Alistipes, Blautia\"],[\"Blautia\",\"Alistipes, Ruminococcus\"],[\"Alistipes\",\"Blautia, Ruminococcus\"],[\"Blautia, Subdoligranulum\",\"Alistipes\"],[\"Alistipes, Subdoligranulum\",\"Blautia\"],[\"Alistipes, Blautia\",\"Subdoligranulum\"],[\"Subdoligranulum\",\"Alistipes, Blautia\"],[\"Blautia\",\"Alistipes, Subdoligranulum\"],[\"Alistipes\",\"Blautia, Subdoligranulum\"],[\"Blautia, Oscillospira\",\"Alistipes\"],[\"Alistipes, Oscillospira\",\"Blautia\"],[\"Alistipes, Blautia\",\"Oscillospira\"],[\"Oscillospira\",\"Alistipes, Blautia\"],[\"Blautia\",\"Alistipes, Oscillospira\"],[\"Alistipes\",\"Blautia, Oscillospira\"],[\"Blautia, Clostridium\",\"Alistipes\"],[\"Alistipes, Clostridium\",\"Blautia\"],[\"Alistipes, Blautia\",\"Clostridium\"],[\"Clostridium\",\"Alistipes, Blautia\"],[\"Blautia\",\"Alistipes, Clostridium\"],[\"Alistipes\",\"Blautia, Clostridium\"],[\"Blautia, Parabacteroides\",\"Alistipes\"],[\"Alistipes, Parabacteroides\",\"Blautia\"],[\"Alistipes, Blautia\",\"Parabacteroides\"],[\"Parabacteroides\",\"Alistipes, Blautia\"],[\"Blautia\",\"Alistipes, Parabacteroides\"],[\"Alistipes\",\"Blautia, Parabacteroides\"],[\"Blautia, Faecalibacterium\",\"Alistipes\"],[\"Alistipes, Faecalibacterium\",\"Blautia\"],[\"Alistipes, Blautia\",\"Faecalibacterium\"],[\"Faecalibacterium\",\"Alistipes, Blautia\"],[\"Blautia\",\"Alistipes, Faecalibacterium\"],[\"Alistipes\",\"Blautia, Faecalibacterium\"],[\"Ruminococcus, Subdoligranulum\",\"Blautia\"],[\"Blautia, Ruminococcus\",\"Subdoligranulum\"],[\"Blautia, Subdoligranulum\",\"Ruminococcus\"],[\"Ruminococcus\",\"Blautia, Subdoligranulum\"],[\"Subdoligranulum\",\"Blautia, Ruminococcus\"],[\"Blautia\",\"Ruminococcus, Subdoligranulum\"],[\"Oscillospira, Ruminococcus\",\"Blautia\"],[\"Blautia, Oscillospira\",\"Ruminococcus\"],[\"Blautia, Ruminococcus\",\"Oscillospira\"],[\"Oscillospira\",\"Blautia, Ruminococcus\"],[\"Ruminococcus\",\"Blautia, Oscillospira\"],[\"Blautia\",\"Oscillospira, Ruminococcus\"],[\"Clostridium, Ruminococcus\",\"Blautia\"],[\"Blautia, Ruminococcus\",\"Clostridium\"],[\"Blautia, Clostridium\",\"Ruminococcus\"],[\"Ruminococcus\",\"Blautia, Clostridium\"],[\"Clostridium\",\"Blautia, Ruminococcus\"],[\"Blautia\",\"Clostridium, Ruminococcus\"],[\"Parabacteroides, Ruminococcus\",\"Blautia\"],[\"Blautia, Ruminococcus\",\"Parabacteroides\"],[\"Blautia, Parabacteroides\",\"Ruminococcus\"],[\"Ruminococcus\",\"Blautia, Parabacteroides\"],[\"Parabacteroides\",\"Blautia, Ruminococcus\"],[\"Blautia\",\"Parabacteroides, Ruminococcus\"],[\"Faecalibacterium, Ruminococcus\",\"Blautia\"],[\"Blautia, Faecalibacterium\",\"Ruminococcus\"],[\"Blautia, Ruminococcus\",\"Faecalibacterium\"],[\"Faecalibacterium\",\"Blautia, Ruminococcus\"],[\"Ruminococcus\",\"Blautia, Faecalibacterium\"],[\"Blautia\",\"Faecalibacterium, Ruminococcus\"],[\"Oscillospira, Subdoligranulum\",\"Blautia\"],[\"Blautia, Oscillospira\",\"Subdoligranulum\"],[\"Blautia, Subdoligranulum\",\"Oscillospira\"],[\"Oscillospira\",\"Blautia, Subdoligranulum\"],[\"Subdoligranulum\",\"Blautia, Oscillospira\"],[\"Blautia\",\"Oscillospira, Subdoligranulum\"],[\"Clostridium, Subdoligranulum\",\"Blautia\"],[\"Blautia, Subdoligranulum\",\"Clostridium\"],[\"Blautia, Clostridium\",\"Subdoligranulum\"],[\"Subdoligranulum\",\"Blautia, Clostridium\"],[\"Clostridium\",\"Blautia, Subdoligranulum\"],[\"Blautia\",\"Clostridium, Subdoligranulum\"],[\"Parabacteroides, Subdoligranulum\",\"Blautia\"],[\"Blautia, Subdoligranulum\",\"Parabacteroides\"],[\"Blautia, Parabacteroides\",\"Subdoligranulum\"],[\"Subdoligranulum\",\"Blautia, Parabacteroides\"],[\"Parabacteroides\",\"Blautia, Subdoligranulum\"],[\"Blautia\",\"Parabacteroides, Subdoligranulum\"],[\"Faecalibacterium, Subdoligranulum\",\"Blautia\"],[\"Blautia, Faecalibacterium\",\"Subdoligranulum\"],[\"Blautia, Subdoligranulum\",\"Faecalibacterium\"],[\"Faecalibacterium\",\"Blautia, Subdoligranulum\"],[\"Subdoligranulum\",\"Blautia, Faecalibacterium\"],[\"Blautia\",\"Faecalibacterium, Subdoligranulum\"],[\"Clostridium, Oscillospira\",\"Blautia\"],[\"Blautia, Oscillospira\",\"Clostridium\"],[\"Blautia, Clostridium\",\"Oscillospira\"],[\"Oscillospira\",\"Blautia, Clostridium\"],[\"Clostridium\",\"Blautia, Oscillospira\"],[\"Blautia\",\"Clostridium, Oscillospira\"],[\"Oscillospira, Parabacteroides\",\"Blautia\"],[\"Blautia, Oscillospira\",\"Parabacteroides\"],[\"Blautia, Parabacteroides\",\"Oscillospira\"],[\"Oscillospira\",\"Blautia, Parabacteroides\"],[\"Parabacteroides\",\"Blautia, Oscillospira\"],[\"Blautia\",\"Oscillospira, Parabacteroides\"],[\"Blautia, Oscillospira\",\"Faecalibacterium\"],[\"Faecalibacterium, Oscillospira\",\"Blautia\"],[\"Blautia, Faecalibacterium\",\"Oscillospira\"],[\"Oscillospira\",\"Blautia, Faecalibacterium\"],[\"Blautia\",\"Faecalibacterium, Oscillospira\"],[\"Faecalibacterium\",\"Blautia, Oscillospira\"],[\"Clostridium, Parabacteroides\",\"Blautia\"],[\"Blautia, Clostridium\",\"Parabacteroides\"],[\"Blautia, Parabacteroides\",\"Clostridium\"],[\"Clostridium\",\"Blautia, Parabacteroides\"],[\"Parabacteroides\",\"Blautia, Clostridium\"],[\"Blautia\",\"Clostridium, Parabacteroides\"],[\"Clostridium, Faecalibacterium\",\"Blautia\"],[\"Blautia, Faecalibacterium\",\"Clostridium\"],[\"Blautia, Clostridium\",\"Faecalibacterium\"],[\"Faecalibacterium\",\"Blautia, Clostridium\"],[\"Clostridium\",\"Blautia, Faecalibacterium\"],[\"Blautia\",\"Clostridium, Faecalibacterium\"],[\"Faecalibacterium, Parabacteroides\",\"Blautia\"],[\"Blautia, Faecalibacterium\",\"Parabacteroides\"],[\"Blautia, Parabacteroides\",\"Faecalibacterium\"],[\"Faecalibacterium\",\"Blautia, Parabacteroides\"],[\"Parabacteroides\",\"Blautia, Faecalibacterium\"],[\"Blautia\",\"Faecalibacterium, Parabacteroides\"],[\"Bacteroides, Ruminococcus\",\"Dorea\"],[\"Dorea, Ruminococcus\",\"Bacteroides\"],[\"Bacteroides, Dorea\",\"Ruminococcus\"],[\"Ruminococcus\",\"Bacteroides, Dorea\"],[\"Bacteroides\",\"Dorea, Ruminococcus\"],[\"Dorea\",\"Bacteroides, Ruminococcus\"],[\"Bacteroides, Oscillospira\",\"Dorea\"],[\"Dorea, Oscillospira\",\"Bacteroides\"],[\"Bacteroides, Dorea\",\"Oscillospira\"],[\"Oscillospira\",\"Bacteroides, Dorea\"],[\"Bacteroides\",\"Dorea, Oscillospira\"],[\"Dorea\",\"Bacteroides, Oscillospira\"],[\"Bacteroides, Clostridium\",\"Dorea\"],[\"Clostridium, Dorea\",\"Bacteroides\"],[\"Bacteroides, Dorea\",\"Clostridium\"],[\"Clostridium\",\"Bacteroides, Dorea\"],[\"Bacteroides\",\"Clostridium, Dorea\"],[\"Dorea\",\"Bacteroides, Clostridium\"],[\"Dorea, Faecalibacterium\",\"Bacteroides\"],[\"Bacteroides, Faecalibacterium\",\"Dorea\"],[\"Bacteroides, Dorea\",\"Faecalibacterium\"],[\"Faecalibacterium\",\"Bacteroides, Dorea\"],[\"Dorea\",\"Bacteroides, Faecalibacterium\"],[\"Bacteroides\",\"Dorea, Faecalibacterium\"],[\"Oscillospira, Ruminococcus\",\"Dorea\"],[\"Dorea, Oscillospira\",\"Ruminococcus\"],[\"Dorea, Ruminococcus\",\"Oscillospira\"],[\"Oscillospira\",\"Dorea, Ruminococcus\"],[\"Ruminococcus\",\"Dorea, Oscillospira\"],[\"Dorea\",\"Oscillospira, Ruminococcus\"],[\"Clostridium, Ruminococcus\",\"Dorea\"],[\"Dorea, Ruminococcus\",\"Clostridium\"],[\"Clostridium, Dorea\",\"Ruminococcus\"],[\"Ruminococcus\",\"Clostridium, Dorea\"],[\"Clostridium\",\"Dorea, Ruminococcus\"],[\"Dorea\",\"Clostridium, Ruminococcus\"],[\"Faecalibacterium, Ruminococcus\",\"Dorea\"],[\"Dorea, Ruminococcus\",\"Faecalibacterium\"],[\"Dorea, Faecalibacterium\",\"Ruminococcus\"],[\"Ruminococcus\",\"Dorea, Faecalibacterium\"],[\"Faecalibacterium\",\"Dorea, Ruminococcus\"],[\"Dorea\",\"Faecalibacterium, Ruminococcus\"],[\"Clostridium, Oscillospira\",\"Dorea\"],[\"Dorea, Oscillospira\",\"Clostridium\"],[\"Clostridium, Dorea\",\"Oscillospira\"],[\"Oscillospira\",\"Clostridium, Dorea\"],[\"Clostridium\",\"Dorea, Oscillospira\"],[\"Dorea\",\"Clostridium, Oscillospira\"],[\"Faecalibacterium, Oscillospira\",\"Dorea\"],[\"Dorea, Oscillospira\",\"Faecalibacterium\"],[\"Dorea, Faecalibacterium\",\"Oscillospira\"],[\"Oscillospira\",\"Dorea, Faecalibacterium\"],[\"Faecalibacterium\",\"Dorea, Oscillospira\"],[\"Dorea\",\"Faecalibacterium, Oscillospira\"],[\"Alistipes, Ruminococcus\",\"Bacteroides\"],[\"Alistipes, Bacteroides\",\"Ruminococcus\"],[\"Bacteroides, Ruminococcus\",\"Alistipes\"],[\"Alistipes\",\"Bacteroides, Ruminococcus\"],[\"Ruminococcus\",\"Alistipes, Bacteroides\"],[\"Bacteroides\",\"Alistipes, Ruminococcus\"],[\"Alistipes, Subdoligranulum\",\"Bacteroides\"],[\"Alistipes, Bacteroides\",\"Subdoligranulum\"],[\"Bacteroides, Subdoligranulum\",\"Alistipes\"],[\"Alistipes\",\"Bacteroides, Subdoligranulum\"],[\"Subdoligranulum\",\"Alistipes, Bacteroides\"],[\"Bacteroides\",\"Alistipes, Subdoligranulum\"],[\"Alistipes, Oscillospira\",\"Bacteroides\"],[\"Bacteroides, Oscillospira\",\"Alistipes\"],[\"Alistipes, Bacteroides\",\"Oscillospira\"],[\"Oscillospira\",\"Alistipes, Bacteroides\"],[\"Alistipes\",\"Bacteroides, Oscillospira\"],[\"Bacteroides\",\"Alistipes, Oscillospira\"],[\"Alistipes, Clostridium\",\"Bacteroides\"],[\"Alistipes, Bacteroides\",\"Clostridium\"],[\"Bacteroides, Clostridium\",\"Alistipes\"],[\"Alistipes\",\"Bacteroides, Clostridium\"],[\"Clostridium\",\"Alistipes, Bacteroides\"],[\"Bacteroides\",\"Alistipes, Clostridium\"],[\"Alistipes, Parabacteroides\",\"Bacteroides\"],[\"Alistipes, Bacteroides\",\"Parabacteroides\"],[\"Bacteroides, Parabacteroides\",\"Alistipes\"],[\"Alistipes\",\"Bacteroides, Parabacteroides\"],[\"Parabacteroides\",\"Alistipes, Bacteroides\"],[\"Bacteroides\",\"Alistipes, Parabacteroides\"],[\"Alistipes, Faecalibacterium\",\"Bacteroides\"],[\"Alistipes, Bacteroides\",\"Faecalibacterium\"],[\"Bacteroides, Faecalibacterium\",\"Alistipes\"],[\"Alistipes\",\"Bacteroides, Faecalibacterium\"],[\"Faecalibacterium\",\"Alistipes, Bacteroides\"],[\"Bacteroides\",\"Alistipes, Faecalibacterium\"],[\"Ruminococcus, Subdoligranulum\",\"Bacteroides\"],[\"Bacteroides, Ruminococcus\",\"Subdoligranulum\"],[\"Bacteroides, Subdoligranulum\",\"Ruminococcus\"],[\"Ruminococcus\",\"Bacteroides, Subdoligranulum\"],[\"Subdoligranulum\",\"Bacteroides, Ruminococcus\"],[\"Bacteroides\",\"Ruminococcus, Subdoligranulum\"],[\"Oscillospira, Ruminococcus\",\"Bacteroides\"],[\"Bacteroides, Oscillospira\",\"Ruminococcus\"],[\"Bacteroides, Ruminococcus\",\"Oscillospira\"],[\"Oscillospira\",\"Bacteroides, Ruminococcus\"],[\"Ruminococcus\",\"Bacteroides, Oscillospira\"],[\"Bacteroides\",\"Oscillospira, Ruminococcus\"],[\"Clostridium, Ruminococcus\",\"Bacteroides\"],[\"Bacteroides, Ruminococcus\",\"Clostridium\"],[\"Bacteroides, Clostridium\",\"Ruminococcus\"],[\"Ruminococcus\",\"Bacteroides, Clostridium\"],[\"Clostridium\",\"Bacteroides, Ruminococcus\"],[\"Bacteroides\",\"Clostridium, Ruminococcus\"],[\"Parabacteroides, Ruminococcus\",\"Bacteroides\"],[\"Bacteroides, Ruminococcus\",\"Parabacteroides\"],[\"Bacteroides, Parabacteroides\",\"Ruminococcus\"],[\"Ruminococcus\",\"Bacteroides, Parabacteroides\"],[\"Parabacteroides\",\"Bacteroides, Ruminococcus\"],[\"Bacteroides\",\"Parabacteroides, Ruminococcus\"],[\"Faecalibacterium, Ruminococcus\",\"Bacteroides\"],[\"Bacteroides, Ruminococcus\",\"Faecalibacterium\"],[\"Bacteroides, Faecalibacterium\",\"Ruminococcus\"],[\"Ruminococcus\",\"Bacteroides, Faecalibacterium\"],[\"Faecalibacterium\",\"Bacteroides, Ruminococcus\"],[\"Bacteroides\",\"Faecalibacterium, Ruminococcus\"],[\"Oscillospira, Subdoligranulum\",\"Bacteroides\"],[\"Bacteroides, Oscillospira\",\"Subdoligranulum\"],[\"Bacteroides, Subdoligranulum\",\"Oscillospira\"],[\"Oscillospira\",\"Bacteroides, Subdoligranulum\"],[\"Subdoligranulum\",\"Bacteroides, Oscillospira\"],[\"Bacteroides\",\"Oscillospira, Subdoligranulum\"],[\"Clostridium, Subdoligranulum\",\"Bacteroides\"],[\"Bacteroides, Subdoligranulum\",\"Clostridium\"],[\"Bacteroides, Clostridium\",\"Subdoligranulum\"],[\"Subdoligranulum\",\"Bacteroides, Clostridium\"],[\"Clostridium\",\"Bacteroides, Subdoligranulum\"],[\"Bacteroides\",\"Clostridium, Subdoligranulum\"],[\"Parabacteroides, Subdoligranulum\",\"Bacteroides\"],[\"Bacteroides, Subdoligranulum\",\"Parabacteroides\"],[\"Bacteroides, Parabacteroides\",\"Subdoligranulum\"],[\"Subdoligranulum\",\"Bacteroides, Parabacteroides\"],[\"Parabacteroides\",\"Bacteroides, Subdoligranulum\"],[\"Bacteroides\",\"Parabacteroides, Subdoligranulum\"],[\"Faecalibacterium, Subdoligranulum\",\"Bacteroides\"],[\"Bacteroides, Subdoligranulum\",\"Faecalibacterium\"],[\"Bacteroides, Faecalibacterium\",\"Subdoligranulum\"],[\"Subdoligranulum\",\"Bacteroides, Faecalibacterium\"],[\"Faecalibacterium\",\"Bacteroides, Subdoligranulum\"],[\"Bacteroides\",\"Faecalibacterium, Subdoligranulum\"],[\"Clostridium, Oscillospira\",\"Bacteroides\"],[\"Bacteroides, Oscillospira\",\"Clostridium\"],[\"Bacteroides, Clostridium\",\"Oscillospira\"],[\"Oscillospira\",\"Bacteroides, Clostridium\"],[\"Clostridium\",\"Bacteroides, Oscillospira\"],[\"Bacteroides\",\"Clostridium, Oscillospira\"],[\"Oscillospira, Parabacteroides\",\"Bacteroides\"],[\"Bacteroides, Oscillospira\",\"Parabacteroides\"],[\"Bacteroides, Parabacteroides\",\"Oscillospira\"],[\"Oscillospira\",\"Bacteroides, Parabacteroides\"],[\"Parabacteroides\",\"Bacteroides, Oscillospira\"],[\"Bacteroides\",\"Oscillospira, Parabacteroides\"],[\"Faecalibacterium, Oscillospira\",\"Bacteroides\"],[\"Bacteroides, Oscillospira\",\"Faecalibacterium\"],[\"Bacteroides, Faecalibacterium\",\"Oscillospira\"],[\"Oscillospira\",\"Bacteroides, Faecalibacterium\"],[\"Faecalibacterium\",\"Bacteroides, Oscillospira\"],[\"Bacteroides\",\"Faecalibacterium, Oscillospira\"],[\"Clostridium, Parabacteroides\",\"Bacteroides\"],[\"Bacteroides, Clostridium\",\"Parabacteroides\"],[\"Bacteroides, Parabacteroides\",\"Clostridium\"],[\"Clostridium\",\"Bacteroides, Parabacteroides\"],[\"Parabacteroides\",\"Bacteroides, Clostridium\"],[\"Bacteroides\",\"Clostridium, Parabacteroides\"],[\"Clostridium, Faecalibacterium\",\"Bacteroides\"],[\"Bacteroides, Clostridium\",\"Faecalibacterium\"],[\"Bacteroides, Faecalibacterium\",\"Clostridium\"],[\"Clostridium\",\"Bacteroides, Faecalibacterium\"],[\"Faecalibacterium\",\"Bacteroides, Clostridium\"],[\"Bacteroides\",\"Clostridium, Faecalibacterium\"],[\"Faecalibacterium, Parabacteroides\",\"Bacteroides\"],[\"Bacteroides, Parabacteroides\",\"Faecalibacterium\"],[\"Bacteroides, Faecalibacterium\",\"Parabacteroides\"],[\"Parabacteroides\",\"Bacteroides, Faecalibacterium\"],[\"Faecalibacterium\",\"Bacteroides, Parabacteroides\"],[\"Bacteroides\",\"Faecalibacterium, Parabacteroides\"],[\"Ruminococcus, Subdoligranulum\",\"Alistipes\"],[\"Alistipes, Ruminococcus\",\"Subdoligranulum\"],[\"Alistipes, Subdoligranulum\",\"Ruminococcus\"],[\"Ruminococcus\",\"Alistipes, Subdoligranulum\"],[\"Subdoligranulum\",\"Alistipes, Ruminococcus\"],[\"Alistipes\",\"Ruminococcus, Subdoligranulum\"],[\"Oscillospira, Ruminococcus\",\"Alistipes\"],[\"Alistipes, Oscillospira\",\"Ruminococcus\"],[\"Alistipes, Ruminococcus\",\"Oscillospira\"],[\"Oscillospira\",\"Alistipes, Ruminococcus\"],[\"Ruminococcus\",\"Alistipes, Oscillospira\"],[\"Alistipes\",\"Oscillospira, Ruminococcus\"],[\"Clostridium, Ruminococcus\",\"Alistipes\"],[\"Alistipes, Ruminococcus\",\"Clostridium\"],[\"Alistipes, Clostridium\",\"Ruminococcus\"],[\"Ruminococcus\",\"Alistipes, Clostridium\"],[\"Clostridium\",\"Alistipes, Ruminococcus\"],[\"Alistipes\",\"Clostridium, Ruminococcus\"],[\"Parabacteroides, Ruminococcus\",\"Alistipes\"],[\"Alistipes, Ruminococcus\",\"Parabacteroides\"],[\"Alistipes, Parabacteroides\",\"Ruminococcus\"],[\"Ruminococcus\",\"Alistipes, Parabacteroides\"],[\"Parabacteroides\",\"Alistipes, Ruminococcus\"],[\"Alistipes\",\"Parabacteroides, Ruminococcus\"],[\"Faecalibacterium, Ruminococcus\",\"Alistipes\"],[\"Alistipes, Ruminococcus\",\"Faecalibacterium\"],[\"Alistipes, Faecalibacterium\",\"Ruminococcus\"],[\"Ruminococcus\",\"Alistipes, Faecalibacterium\"],[\"Faecalibacterium\",\"Alistipes, Ruminococcus\"],[\"Alistipes\",\"Faecalibacterium, Ruminococcus\"],[\"Oscillospira, Subdoligranulum\",\"Alistipes\"],[\"Alistipes, Oscillospira\",\"Subdoligranulum\"],[\"Alistipes, Subdoligranulum\",\"Oscillospira\"],[\"Oscillospira\",\"Alistipes, Subdoligranulum\"],[\"Subdoligranulum\",\"Alistipes, Oscillospira\"],[\"Alistipes\",\"Oscillospira, Subdoligranulum\"],[\"Clostridium, Subdoligranulum\",\"Alistipes\"],[\"Alistipes, Subdoligranulum\",\"Clostridium\"],[\"Alistipes, Clostridium\",\"Subdoligranulum\"],[\"Subdoligranulum\",\"Alistipes, Clostridium\"],[\"Clostridium\",\"Alistipes, Subdoligranulum\"],[\"Alistipes\",\"Clostridium, Subdoligranulum\"],[\"Parabacteroides, Subdoligranulum\",\"Alistipes\"],[\"Alistipes, Subdoligranulum\",\"Parabacteroides\"],[\"Alistipes, Parabacteroides\",\"Subdoligranulum\"],[\"Subdoligranulum\",\"Alistipes, Parabacteroides\"],[\"Parabacteroides\",\"Alistipes, Subdoligranulum\"],[\"Alistipes\",\"Parabacteroides, Subdoligranulum\"],[\"Faecalibacterium, Subdoligranulum\",\"Alistipes\"],[\"Alistipes, Subdoligranulum\",\"Faecalibacterium\"],[\"Alistipes, Faecalibacterium\",\"Subdoligranulum\"],[\"Subdoligranulum\",\"Alistipes, Faecalibacterium\"],[\"Faecalibacterium\",\"Alistipes, Subdoligranulum\"],[\"Alistipes\",\"Faecalibacterium, Subdoligranulum\"],[\"Clostridium, Oscillospira\",\"Alistipes\"],[\"Alistipes, Oscillospira\",\"Clostridium\"],[\"Alistipes, Clostridium\",\"Oscillospira\"],[\"Oscillospira\",\"Alistipes, Clostridium\"],[\"Clostridium\",\"Alistipes, Oscillospira\"],[\"Alistipes\",\"Clostridium, Oscillospira\"],[\"Oscillospira, Parabacteroides\",\"Alistipes\"],[\"Alistipes, Oscillospira\",\"Parabacteroides\"],[\"Alistipes, Parabacteroides\",\"Oscillospira\"],[\"Oscillospira\",\"Alistipes, Parabacteroides\"],[\"Parabacteroides\",\"Alistipes, Oscillospira\"],[\"Alistipes\",\"Oscillospira, Parabacteroides\"],[\"Faecalibacterium, Oscillospira\",\"Alistipes\"],[\"Alistipes, Oscillospira\",\"Faecalibacterium\"],[\"Alistipes, Faecalibacterium\",\"Oscillospira\"],[\"Oscillospira\",\"Alistipes, Faecalibacterium\"],[\"Faecalibacterium\",\"Alistipes, Oscillospira\"],[\"Alistipes\",\"Faecalibacterium, Oscillospira\"],[\"Clostridium, Parabacteroides\",\"Alistipes\"],[\"Alistipes, Clostridium\",\"Parabacteroides\"],[\"Alistipes, Parabacteroides\",\"Clostridium\"],[\"Clostridium\",\"Alistipes, Parabacteroides\"],[\"Parabacteroides\",\"Alistipes, Clostridium\"],[\"Alistipes\",\"Clostridium, Parabacteroides\"],[\"Clostridium, Faecalibacterium\",\"Alistipes\"],[\"Alistipes, Clostridium\",\"Faecalibacterium\"],[\"Alistipes, Faecalibacterium\",\"Clostridium\"],[\"Clostridium\",\"Alistipes, Faecalibacterium\"],[\"Faecalibacterium\",\"Alistipes, Clostridium\"],[\"Alistipes\",\"Clostridium, Faecalibacterium\"],[\"Faecalibacterium, Parabacteroides\",\"Alistipes\"],[\"Alistipes, Parabacteroides\",\"Faecalibacterium\"],[\"Alistipes, Faecalibacterium\",\"Parabacteroides\"],[\"Parabacteroides\",\"Alistipes, Faecalibacterium\"],[\"Faecalibacterium\",\"Alistipes, Parabacteroides\"],[\"Alistipes\",\"Faecalibacterium, Parabacteroides\"],[\"Oscillospira, Subdoligranulum\",\"Ruminococcus\"],[\"Oscillospira, Ruminococcus\",\"Subdoligranulum\"],[\"Ruminococcus, Subdoligranulum\",\"Oscillospira\"],[\"Oscillospira\",\"Ruminococcus, Subdoligranulum\"],[\"Subdoligranulum\",\"Oscillospira, Ruminococcus\"],[\"Ruminococcus\",\"Oscillospira, Subdoligranulum\"],[\"Ruminococcus, Subdoligranulum\",\"Clostridium\"],[\"Clostridium, Ruminococcus\",\"Subdoligranulum\"],[\"Clostridium, Subdoligranulum\",\"Ruminococcus\"],[\"Ruminococcus\",\"Clostridium, Subdoligranulum\"],[\"Subdoligranulum\",\"Clostridium, Ruminococcus\"],[\"Clostridium\",\"Ruminococcus, Subdoligranulum\"],[\"Ruminococcus, Subdoligranulum\",\"Parabacteroides\"],[\"Parabacteroides, Ruminococcus\",\"Subdoligranulum\"],[\"Parabacteroides, Subdoligranulum\",\"Ruminococcus\"],[\"Ruminococcus\",\"Parabacteroides, Subdoligranulum\"],[\"Subdoligranulum\",\"Parabacteroides, Ruminococcus\"],[\"Parabacteroides\",\"Ruminococcus, Subdoligranulum\"],[\"Ruminococcus, Subdoligranulum\",\"Faecalibacterium\"],[\"Faecalibacterium, Ruminococcus\",\"Subdoligranulum\"],[\"Faecalibacterium, Subdoligranulum\",\"Ruminococcus\"],[\"Ruminococcus\",\"Faecalibacterium, Subdoligranulum\"],[\"Subdoligranulum\",\"Faecalibacterium, Ruminococcus\"],[\"Faecalibacterium\",\"Ruminococcus, Subdoligranulum\"],[\"Clostridium, Oscillospira\",\"Ruminococcus\"],[\"Oscillospira, Ruminococcus\",\"Clostridium\"],[\"Clostridium, Ruminococcus\",\"Oscillospira\"],[\"Oscillospira\",\"Clostridium, Ruminococcus\"],[\"Clostridium\",\"Oscillospira, Ruminococcus\"],[\"Ruminococcus\",\"Clostridium, Oscillospira\"],[\"Oscillospira, Ruminococcus\",\"Parabacteroides\"],[\"Oscillospira, Parabacteroides\",\"Ruminococcus\"],[\"Parabacteroides, Ruminococcus\",\"Oscillospira\"],[\"Oscillospira\",\"Parabacteroides, Ruminococcus\"],[\"Ruminococcus\",\"Oscillospira, Parabacteroides\"],[\"Parabacteroides\",\"Oscillospira, Ruminococcus\"],[\"Oscillospira, Ruminococcus\",\"Faecalibacterium\"],[\"Faecalibacterium, Oscillospira\",\"Ruminococcus\"],[\"Faecalibacterium, Ruminococcus\",\"Oscillospira\"],[\"Oscillospira\",\"Faecalibacterium, Ruminococcus\"],[\"Ruminococcus\",\"Faecalibacterium, Oscillospira\"],[\"Faecalibacterium\",\"Oscillospira, Ruminococcus\"],[\"Clostridium, Ruminococcus\",\"Parabacteroides\"],[\"Parabacteroides, Ruminococcus\",\"Clostridium\"],[\"Clostridium, Parabacteroides\",\"Ruminococcus\"],[\"Ruminococcus\",\"Clostridium, Parabacteroides\"],[\"Clostridium\",\"Parabacteroides, Ruminococcus\"],[\"Parabacteroides\",\"Clostridium, Ruminococcus\"],[\"Clostridium, Ruminococcus\",\"Faecalibacterium\"],[\"Faecalibacterium, Ruminococcus\",\"Clostridium\"],[\"Clostridium, Faecalibacterium\",\"Ruminococcus\"],[\"Ruminococcus\",\"Clostridium, Faecalibacterium\"],[\"Clostridium\",\"Faecalibacterium, Ruminococcus\"],[\"Faecalibacterium\",\"Clostridium, Ruminococcus\"],[\"Parabacteroides, Ruminococcus\",\"Faecalibacterium\"],[\"Faecalibacterium, Ruminococcus\",\"Parabacteroides\"],[\"Faecalibacterium, Parabacteroides\",\"Ruminococcus\"],[\"Ruminococcus\",\"Faecalibacterium, Parabacteroides\"],[\"Parabacteroides\",\"Faecalibacterium, Ruminococcus\"],[\"Faecalibacterium\",\"Parabacteroides, Ruminococcus\"],[\"Oscillospira, Subdoligranulum\",\"Clostridium\"],[\"Clostridium, Oscillospira\",\"Subdoligranulum\"],[\"Clostridium, Subdoligranulum\",\"Oscillospira\"],[\"Oscillospira\",\"Clostridium, Subdoligranulum\"],[\"Subdoligranulum\",\"Clostridium, Oscillospira\"],[\"Clostridium\",\"Oscillospira, Subdoligranulum\"],[\"Oscillospira, Subdoligranulum\",\"Parabacteroides\"],[\"Oscillospira, Parabacteroides\",\"Subdoligranulum\"],[\"Parabacteroides, Subdoligranulum\",\"Oscillospira\"],[\"Oscillospira\",\"Parabacteroides, Subdoligranulum\"],[\"Subdoligranulum\",\"Oscillospira, Parabacteroides\"],[\"Parabacteroides\",\"Oscillospira, Subdoligranulum\"],[\"Oscillospira, Subdoligranulum\",\"Faecalibacterium\"],[\"Faecalibacterium, Oscillospira\",\"Subdoligranulum\"],[\"Faecalibacterium, Subdoligranulum\",\"Oscillospira\"],[\"Oscillospira\",\"Faecalibacterium, Subdoligranulum\"],[\"Subdoligranulum\",\"Faecalibacterium, Oscillospira\"],[\"Faecalibacterium\",\"Oscillospira, Subdoligranulum\"],[\"Clostridium, Subdoligranulum\",\"Parabacteroides\"],[\"Parabacteroides, Subdoligranulum\",\"Clostridium\"],[\"Clostridium, Parabacteroides\",\"Subdoligranulum\"],[\"Subdoligranulum\",\"Clostridium, Parabacteroides\"],[\"Clostridium\",\"Parabacteroides, Subdoligranulum\"],[\"Parabacteroides\",\"Clostridium, Subdoligranulum\"],[\"Clostridium, Subdoligranulum\",\"Faecalibacterium\"],[\"Faecalibacterium, Subdoligranulum\",\"Clostridium\"],[\"Clostridium, Faecalibacterium\",\"Subdoligranulum\"],[\"Subdoligranulum\",\"Clostridium, Faecalibacterium\"],[\"Clostridium\",\"Faecalibacterium, Subdoligranulum\"],[\"Faecalibacterium\",\"Clostridium, Subdoligranulum\"],[\"Parabacteroides, Subdoligranulum\",\"Faecalibacterium\"],[\"Faecalibacterium, Subdoligranulum\",\"Parabacteroides\"],[\"Faecalibacterium, Parabacteroides\",\"Subdoligranulum\"],[\"Subdoligranulum\",\"Faecalibacterium, Parabacteroides\"],[\"Parabacteroides\",\"Faecalibacterium, Subdoligranulum\"],[\"Faecalibacterium\",\"Parabacteroides, Subdoligranulum\"],[\"Clostridium, Oscillospira\",\"Parabacteroides\"],[\"Oscillospira, Parabacteroides\",\"Clostridium\"],[\"Clostridium, Parabacteroides\",\"Oscillospira\"],[\"Oscillospira\",\"Clostridium, Parabacteroides\"],[\"Clostridium\",\"Oscillospira, Parabacteroides\"],[\"Parabacteroides\",\"Clostridium, Oscillospira\"],[\"Clostridium, Oscillospira\",\"Faecalibacterium\"],[\"Faecalibacterium, Oscillospira\",\"Clostridium\"],[\"Clostridium, Faecalibacterium\",\"Oscillospira\"],[\"Oscillospira\",\"Clostridium, Faecalibacterium\"],[\"Clostridium\",\"Faecalibacterium, Oscillospira\"],[\"Faecalibacterium\",\"Clostridium, Oscillospira\"],[\"Oscillospira, Parabacteroides\",\"Faecalibacterium\"],[\"Faecalibacterium, Oscillospira\",\"Parabacteroides\"],[\"Faecalibacterium, Parabacteroides\",\"Oscillospira\"],[\"Oscillospira\",\"Faecalibacterium, Parabacteroides\"],[\"Parabacteroides\",\"Faecalibacterium, Oscillospira\"],[\"Faecalibacterium\",\"Oscillospira, Parabacteroides\"],[\"Clostridium, Parabacteroides\",\"Faecalibacterium\"],[\"Clostridium, Faecalibacterium\",\"Parabacteroides\"],[\"Faecalibacterium, Parabacteroides\",\"Clostridium\"],[\"Clostridium\",\"Faecalibacterium, Parabacteroides\"],[\"Parabacteroides\",\"Clostridium, Faecalibacterium\"],[\"Faecalibacterium\",\"Clostridium, Parabacteroides\"]],\"hovertemplate\":\"support=%{x}\\u003cbr\\u003econfidence=%{y}\\u003cbr\\u003elift=%{marker.color}\\u003cbr\\u003eantecedents=%{customdata[0]}\\u003cbr\\u003econsequents=%{customdata[1]}\\u003cextra\\u003e\\u003c\\u002fextra\\u003e\",\"legendgroup\":\"\",\"marker\":{\"color\":[0.996153846153846,0.9961538461538461,1.0,1.0,1.0,1.0,1.0,1.0,0.996153846153846,0.9961538461538461,0.997549019607843,0.997549019607843,1.0,1.0,0.996271748135874,0.996271748135874,1.0,1.0,1.0105042016806722,1.0105042016806722,1.0,1.0,1.0115990057995028,1.011599005799503,0.997549019607843,0.997549019607843,1.0269262634631315,1.0269262634631318,1.0117187499999998,1.0117187499999998,1.0,1.0,0.9988262910798121,0.9988262910798122,1.0,1.0,0.9984126984126984,0.9984126984126984,1.0,1.0,1.0133020344287949,1.013302034428795,0.9992283950617283,0.9992283950617283,0.9988262910798122,0.9988262910798121,1.0,1.0,1.0,1.0,1.0,1.0,1.025968309859155,1.0259683098591548,1.025968309859155,1.0259683098591548,1.0,1.0,1.0,1.0,1.0,1.0,1.0,1.0,1.0,1.0,1.0,1.0,1.0,1.0,1.0,1.0,1.0124748490945676,1.0124748490945674,1.0,1.0,0.9982146399523905,0.9982146399523905,0.9988262910798121,0.9988262910798122,0.9982146399523905,0.9982146399523905,1.0,1.0,1.0,1.0,1.0,1.0,1.0,1.0,1.0,1.0,1.0,1.0,0.9975855130784708,0.9975855130784708,0.9984126984126984,0.9984126984126984,1.0124748490945676,1.0124748490945674,1.0,1.0,1.0,1.0,1.0,1.0,0.9988262910798122,0.9988262910798121,0.9982146399523905,0.9982146399523905,0.9988262910798121,0.9988262910798122,1.0,0.996153846153846,0.9961538461538461,0.996153846153846,0.9961538461538461,1.0,0.996153846153846,0.9961538461538461,1.0,1.0,0.996153846153846,0.9961538461538461,0.996153846153846,0.9961538461538461,1.0,1.0,0.996153846153846,0.9961538461538461,1.0,1.0,1.0,1.0,1.0,1.0,1.0,1.0,1.0,1.0,1.0,1.0,1.0,0.996153846153846,0.9961538461538461,0.996153846153846,0.9961538461538461,1.0,1.0,1.0,1.0,1.0,1.0,1.0,0.996153846153846,0.9961538461538461,1.0,1.0,0.996153846153846,0.9961538461538461,0.996153846153846,0.9961538461538461,1.0,1.0,0.996153846153846,0.9961538461538461,1.0,0.997549019607843,0.997549019607843,0.997549019607843,0.997549019607843,1.0,0.9936061381074167,0.996153846153846,0.9948783610755442,0.9948783610755442,0.9961538461538461,0.9936061381074168,0.997549019607843,0.997549019607843,1.0,1.0,0.997549019607843,0.997549019607843,1.0082179930795847,0.996153846153846,1.009090909090909,1.009090909090909,0.9961538461538461,1.0082179930795847,0.997549019607843,0.997549019607843,1.0,1.0,0.997549019607843,0.997549019607843,1.0105042016806722,1.012205387205387,1.0264618011096884,1.0264618011096884,1.0122053872053873,1.0105042016806722,0.9949579831932773,0.9966329966329966,0.9966329966329966,0.9966329966329965,0.9966329966329965,0.9949579831932773,1.025149190110827,0.9970978441127695,1.0264618011096884,1.0264618011096884,0.9970978441127696,1.025149190110827,0.996271748135874,1.0,0.996271748135874,0.996271748135874,1.0,0.996271748135874,1.0,1.0,1.0,1.0,1.0,1.0,1.0105042016806722,1.0,1.0105042016806722,1.0105042016806722,1.0,1.0105042016806722,1.0,1.0,1.0,1.0,1.0,1.0,1.0115990057995028,1.0,1.011599005799503,1.0115990057995028,1.0,1.011599005799503,0.997549019607843,1.0,0.997549019607843,0.997549019607843,1.0,0.997549019607843,1.0,1.0269262634631315,1.0269262634631318,1.0269262634631315,1.0269262634631318,1.0,0.996271748135874,1.0,0.996271748135874,0.996271748135874,1.0,0.996271748135874,1.0082179930795847,1.0246153846153845,1.0101841820151678,1.010184182015168,1.0246153846153845,1.0082179930795847,0.996271748135874,0.996271748135874,1.0,1.0,0.996271748135874,0.996271748135874,1.0082179930795847,1.0101841820151678,0.9948783610755442,0.9948783610755442,1.010184182015168,1.0082179930795847,0.9936061381074167,0.996153846153846,0.9948783610755442,0.9948783610755442,0.9961538461538461,0.9936061381074168,1.0242214532871972,1.0262188515709643,0.9955854530166073,0.9955854530166073,1.0262188515709643,1.0242214532871972,1.0105042016806722,1.0105042016806722,1.0,1.0,1.0105042016806722,1.0105042016806722,1.0,1.0,1.0,1.0,1.0,1.0,1.0115990057995028,1.011599005799503,1.0,1.0,1.0115990057995028,1.011599005799503,0.997549019607843,0.997549019607843,1.0,1.0,0.997549019607843,0.997549019607843,1.0269262634631315,1.0269262634631318,1.0,1.0,1.0269262634631315,1.0269262634631318,1.0105042016806722,1.0105042016806722,1.0,1.0,1.0105042016806722,1.0105042016806722,1.0232660228270412,1.0101841820151678,1.009090909090909,1.009090909090909,1.010184182015168,1.0232660228270412,1.0082179930795847,0.996153846153846,1.009090909090909,1.009090909090909,0.9961538461538461,1.0082179930795847,1.0242214532871972,1.0262188515709643,1.009808102345416,1.009808102345416,1.0262188515709643,1.0242214532871972,1.0115990057995028,1.011599005799503,1.0,1.0,1.0115990057995028,1.011599005799503,0.997549019607843,0.997549019607843,1.0,1.0,0.997549019607843,0.997549019607843,1.0269262634631315,1.0269262634631318,1.0,1.0,1.0269262634631315,1.0269262634631318,1.0093776641091219,0.9966329966329966,1.0106700810926164,1.0106700810926164,0.9966329966329965,1.0093776641091219,1.0402249134948096,1.0264618011096884,1.0111414757199917,1.0111414757199917,1.0264618011096884,1.0402249134948096,1.025149190110827,1.0264618011096884,0.9970978441127695,0.9970978441127696,1.0264618011096884,1.025149190110827,1.0,1.0117187499999998,1.0117187499999998,1.0117187499999998,1.0117187499999998,1.0,1.0117187499999998,1.0117187499999998,1.0,1.0,1.0117187499999998,1.0117187499999998,1.0117187499999998,1.0117187499999998,1.0,1.0,1.0117187499999998,1.0117187499999998,1.0,0.9988262910798122,0.9988262910798121,0.9988262910798122,0.9988262910798121,1.0,1.0,1.0,1.0,1.0,1.0,1.0,1.0,0.9984126984126984,0.9984126984126984,0.9984126984126984,0.9984126984126984,1.0,1.0,1.0,1.0,1.0,1.0,1.0,1.0,1.0133020344287949,1.013302034428795,1.0133020344287949,1.013302034428795,1.0,1.0,0.9992283950617283,0.9992283950617283,0.9992283950617283,0.9992283950617283,1.0,1.0,0.9988262910798122,0.9988262910798121,0.9988262910798122,0.9988262910798121,1.0,0.9988262910798121,0.9988262910798122,1.0,1.0,0.9988262910798121,0.9988262910798122,1.011599005799503,0.997549019607843,1.0111801242236025,1.0111801242236025,0.997549019607843,1.0115990057995028,0.9988262910798121,0.9988262910798122,1.0,1.0,0.9988262910798121,0.9988262910798122,0.9975855130784708,1.0126633986928104,1.012043274137579,1.012043274137579,1.0126633986928104,0.9975855130784708,0.9975855130784708,0.9979871175523348,0.9979871175523348,0.9979871175523348,0.9979871175523348,0.9975855130784708,0.9969381506429883,0.997549019607843,0.9969381506429883,0.9969381506429883,0.997549019607843,0.9969381506429883,0.9984126984126984,0.9984126984126984,1.0,1.0,0.9984126984126984,0.9984126984126984,1.0,1.0,1.0,1.0,1.0,1.0,1.0133020344287949,1.013302034428795,1.0,1.0,1.0133020344287949,1.013302034428795,0.9992283950617283,0.9992283950617283,1.0,1.0,0.9992283950617283,0.9992283950617283,0.9988262910798122,1.0,0.9988262910798121,0.9988262910798122,1.0,0.9988262910798121,0.9984126984126984,0.9984126984126984,1.0,1.0,0.9984126984126984,0.9984126984126984,1.0124378109452736,1.011599005799503,0.996734693877551,0.996734693877551,1.0115990057995028,1.0124378109452736,0.997549019607843,0.997549019607843,0.996734693877551,0.996734693877551,0.997549019607843,0.997549019607843,0.997549019607843,1.0111801242236025,1.011599005799503,1.0115990057995028,1.0111801242236025,0.997549019607843,1.0133020344287949,1.013302034428795,1.0,1.0,1.0133020344287949,1.013302034428795,0.9992283950617283,0.9992283950617283,1.0,1.0,0.9992283950617283,0.9992283950617283,0.9988262910798121,0.9988262910798122,1.0,1.0,0.9988262910798121,0.9988262910798122,1.0128824476650564,0.9984126984126984,1.0124748490945676,1.0124748490945674,0.9984126984126984,1.0128824476650564,1.0126633986928104,1.012043274137579,0.9975855130784708,0.9975855130784708,1.012043274137579,1.0126633986928104,0.9979871175523348,0.9979871175523348,0.9975855130784708,0.9975855130784708,0.9979871175523348,0.9979871175523348,1.0,1.0,1.0,1.0,1.0,1.0,1.0,1.0,1.0,1.0,1.0,1.0,1.025968309859155,1.0,1.0259683098591548,1.025968309859155,1.0,1.0259683098591548,1.0,1.025968309859155,1.0259683098591548,1.025968309859155,1.0259683098591548,1.0,1.0,1.0,1.0,1.0,1.0,1.0,1.025968309859155,1.0259683098591548,1.0,1.0,1.025968309859155,1.0259683098591548,1.025968309859155,1.0259683098591548,1.0,1.0,1.025968309859155,1.0259683098591548,1.025968309859155,1.0259683098591548,1.0,1.0,1.025968309859155,1.0259683098591548,1.025968309859155,1.0259683098591548,1.0,1.0,1.025968309859155,1.0259683098591548,1.0,1.0,1.0,1.0,1.0,1.0,1.0,1.0124748490945674,1.0124748490945676,1.0124748490945674,1.0124748490945676,1.0,1.0,1.0,1.0,1.0,1.0,1.0,1.0,0.9982146399523905,0.9982146399523905,0.9982146399523905,0.9982146399523905,1.0,1.0,0.9988262910798122,0.9988262910798121,0.9988262910798122,0.9988262910798121,1.0,1.0,0.9982146399523905,0.9982146399523905,0.9982146399523905,0.9982146399523905,1.0,1.0,1.0,1.0,1.0,1.0,1.0,1.0,1.0,1.0,1.0,1.0,1.0,1.0,1.0,1.0,1.0,1.0,1.0,1.0,1.0,1.0,1.0,1.0,1.0,1.0,1.0,1.0,1.0,1.0,1.0,1.0,1.0,1.0,1.0,1.0,1.0,1.0,0.9975855130784708,0.9975855130784708,0.9975855130784708,0.9975855130784708,1.0,1.0,0.9984126984126984,0.9984126984126984,0.9984126984126984,0.9984126984126984,1.0,1.0,1.0124748490945676,1.0124748490945674,1.0124748490945676,1.0124748490945674,1.0,1.0,1.0,1.0,1.0,1.0,1.0,1.0,1.0,1.0,1.0,1.0,1.0,1.0,1.0,1.0,1.0,1.0,1.0,1.0,0.9988262910798122,0.9988262910798121,0.9988262910798122,0.9988262910798121,1.0,1.0,0.9982146399523905,0.9982146399523905,0.9982146399523905,0.9982146399523905,1.0,1.0,0.9988262910798121,0.9988262910798122,0.9988262910798121,0.9988262910798122,1.0,1.0124748490945676,1.0124748490945674,1.0,1.0,1.0124748490945676,1.0124748490945674,1.0,1.0,1.0,1.0,1.0,1.0,0.9982146399523905,0.9982146399523905,1.0,1.0,0.9982146399523905,0.9982146399523905,0.9988262910798121,0.9988262910798122,1.0,1.0,0.9988262910798121,0.9988262910798122,0.9982146399523905,0.9982146399523905,1.0,1.0,0.9982146399523905,0.9982146399523905,1.0124748490945676,1.0124748490945674,1.0,1.0,1.0124748490945676,1.0124748490945674,1.0111414757199917,0.996271748135874,1.0105042016806722,1.0105042016806722,0.996271748135874,1.0111414757199917,1.011599005799503,0.997549019607843,1.0111801242236025,1.0111801242236025,0.997549019607843,1.0115990057995028,1.011599005799503,1.011599005799503,1.0260504201680671,1.0260504201680671,1.0115990057995028,1.0115990057995028,0.9982146399523905,0.9982146399523905,1.0,1.0,0.9982146399523905,0.9982146399523905,0.9988262910798121,0.9988262910798122,1.0,1.0,0.9988262910798121,0.9988262910798122,0.9982146399523905,0.9982146399523905,1.0,1.0,0.9982146399523905,0.9982146399523905,0.9969381506429883,0.997549019607843,0.9969381506429883,0.9969381506429883,0.997549019607843,0.9969381506429883,0.996271748135874,0.996271748135874,0.996271748135874,0.996271748135874,0.996271748135874,0.996271748135874,0.9969381506429883,0.9969381506429883,0.997549019607843,0.997549019607843,0.9969381506429883,0.9969381506429883,1.0,1.0,1.0,1.0,1.0,1.0,0.9975855130784708,0.9975855130784708,1.0,1.0,0.9975855130784708,0.9975855130784708,0.9984126984126984,0.9984126984126984,1.0,1.0,0.9984126984126984,0.9984126984126984,1.0124748490945676,1.0124748490945674,1.0,1.0,1.0124748490945676,1.0124748490945674,1.0,1.0,1.0,1.0,1.0,1.0,1.0,1.0,1.0,1.0,1.0,1.0,1.0,1.0,1.0,1.0,1.0,1.0,0.9988262910798122,0.9988262910798121,1.0,1.0,0.9988262910798122,0.9988262910798121,0.9982146399523905,0.9982146399523905,1.0,1.0,0.9982146399523905,0.9982146399523905,0.9988262910798121,0.9988262910798122,1.0,1.0,0.9988262910798121,0.9988262910798122,0.9975855130784708,0.9975855130784708,1.0,1.0,0.9975855130784708,0.9975855130784708,0.9984126984126984,0.9984126984126984,1.0,1.0,0.9984126984126984,0.9984126984126984,1.0124748490945676,1.0124748490945674,1.0,1.0,1.0124748490945676,1.0124748490945674,0.9970978441127695,0.996271748135874,0.9958592132505175,0.9958592132505176,0.996271748135874,0.9970978441127696,1.0111414757199917,0.996271748135874,1.0105042016806722,1.0105042016806722,0.996271748135874,1.0111414757199917,1.011599005799503,0.997549019607843,1.0111801242236025,1.0111801242236025,0.997549019607843,1.0115990057995028,0.9988262910798122,0.9988262910798121,1.0,1.0,0.9988262910798122,0.9988262910798121,0.9982146399523905,0.9982146399523905,1.0,1.0,0.9982146399523905,0.9982146399523905,0.9988262910798121,0.9988262910798122,1.0,1.0,0.9988262910798121,0.9988262910798122,0.9969381506429883,0.997549019607843,0.9969381506429883,0.9969381506429883,0.997549019607843,0.9969381506429883],\"coloraxis\":\"coloraxis\",\"size\":[0.996153846153846,0.9961538461538461,1.0,1.0,1.0,1.0,1.0,1.0,0.996153846153846,0.9961538461538461,0.997549019607843,0.997549019607843,1.0,1.0,0.996271748135874,0.996271748135874,1.0,1.0,1.0105042016806722,1.0105042016806722,1.0,1.0,1.0115990057995028,1.011599005799503,0.997549019607843,0.997549019607843,1.0269262634631315,1.0269262634631318,1.0117187499999998,1.0117187499999998,1.0,1.0,0.9988262910798121,0.9988262910798122,1.0,1.0,0.9984126984126984,0.9984126984126984,1.0,1.0,1.0133020344287949,1.013302034428795,0.9992283950617283,0.9992283950617283,0.9988262910798122,0.9988262910798121,1.0,1.0,1.0,1.0,1.0,1.0,1.025968309859155,1.0259683098591548,1.025968309859155,1.0259683098591548,1.0,1.0,1.0,1.0,1.0,1.0,1.0,1.0,1.0,1.0,1.0,1.0,1.0,1.0,1.0,1.0,1.0124748490945676,1.0124748490945674,1.0,1.0,0.9982146399523905,0.9982146399523905,0.9988262910798121,0.9988262910798122,0.9982146399523905,0.9982146399523905,1.0,1.0,1.0,1.0,1.0,1.0,1.0,1.0,1.0,1.0,1.0,1.0,0.9975855130784708,0.9975855130784708,0.9984126984126984,0.9984126984126984,1.0124748490945676,1.0124748490945674,1.0,1.0,1.0,1.0,1.0,1.0,0.9988262910798122,0.9988262910798121,0.9982146399523905,0.9982146399523905,0.9988262910798121,0.9988262910798122,1.0,0.996153846153846,0.9961538461538461,0.996153846153846,0.9961538461538461,1.0,0.996153846153846,0.9961538461538461,1.0,1.0,0.996153846153846,0.9961538461538461,0.996153846153846,0.9961538461538461,1.0,1.0,0.996153846153846,0.9961538461538461,1.0,1.0,1.0,1.0,1.0,1.0,1.0,1.0,1.0,1.0,1.0,1.0,1.0,0.996153846153846,0.9961538461538461,0.996153846153846,0.9961538461538461,1.0,1.0,1.0,1.0,1.0,1.0,1.0,0.996153846153846,0.9961538461538461,1.0,1.0,0.996153846153846,0.9961538461538461,0.996153846153846,0.9961538461538461,1.0,1.0,0.996153846153846,0.9961538461538461,1.0,0.997549019607843,0.997549019607843,0.997549019607843,0.997549019607843,1.0,0.9936061381074167,0.996153846153846,0.9948783610755442,0.9948783610755442,0.9961538461538461,0.9936061381074168,0.997549019607843,0.997549019607843,1.0,1.0,0.997549019607843,0.997549019607843,1.0082179930795847,0.996153846153846,1.009090909090909,1.009090909090909,0.9961538461538461,1.0082179930795847,0.997549019607843,0.997549019607843,1.0,1.0,0.997549019607843,0.997549019607843,1.0105042016806722,1.012205387205387,1.0264618011096884,1.0264618011096884,1.0122053872053873,1.0105042016806722,0.9949579831932773,0.9966329966329966,0.9966329966329966,0.9966329966329965,0.9966329966329965,0.9949579831932773,1.025149190110827,0.9970978441127695,1.0264618011096884,1.0264618011096884,0.9970978441127696,1.025149190110827,0.996271748135874,1.0,0.996271748135874,0.996271748135874,1.0,0.996271748135874,1.0,1.0,1.0,1.0,1.0,1.0,1.0105042016806722,1.0,1.0105042016806722,1.0105042016806722,1.0,1.0105042016806722,1.0,1.0,1.0,1.0,1.0,1.0,1.0115990057995028,1.0,1.011599005799503,1.0115990057995028,1.0,1.011599005799503,0.997549019607843,1.0,0.997549019607843,0.997549019607843,1.0,0.997549019607843,1.0,1.0269262634631315,1.0269262634631318,1.0269262634631315,1.0269262634631318,1.0,0.996271748135874,1.0,0.996271748135874,0.996271748135874,1.0,0.996271748135874,1.0082179930795847,1.0246153846153845,1.0101841820151678,1.010184182015168,1.0246153846153845,1.0082179930795847,0.996271748135874,0.996271748135874,1.0,1.0,0.996271748135874,0.996271748135874,1.0082179930795847,1.0101841820151678,0.9948783610755442,0.9948783610755442,1.010184182015168,1.0082179930795847,0.9936061381074167,0.996153846153846,0.9948783610755442,0.9948783610755442,0.9961538461538461,0.9936061381074168,1.0242214532871972,1.0262188515709643,0.9955854530166073,0.9955854530166073,1.0262188515709643,1.0242214532871972,1.0105042016806722,1.0105042016806722,1.0,1.0,1.0105042016806722,1.0105042016806722,1.0,1.0,1.0,1.0,1.0,1.0,1.0115990057995028,1.011599005799503,1.0,1.0,1.0115990057995028,1.011599005799503,0.997549019607843,0.997549019607843,1.0,1.0,0.997549019607843,0.997549019607843,1.0269262634631315,1.0269262634631318,1.0,1.0,1.0269262634631315,1.0269262634631318,1.0105042016806722,1.0105042016806722,1.0,1.0,1.0105042016806722,1.0105042016806722,1.0232660228270412,1.0101841820151678,1.009090909090909,1.009090909090909,1.010184182015168,1.0232660228270412,1.0082179930795847,0.996153846153846,1.009090909090909,1.009090909090909,0.9961538461538461,1.0082179930795847,1.0242214532871972,1.0262188515709643,1.009808102345416,1.009808102345416,1.0262188515709643,1.0242214532871972,1.0115990057995028,1.011599005799503,1.0,1.0,1.0115990057995028,1.011599005799503,0.997549019607843,0.997549019607843,1.0,1.0,0.997549019607843,0.997549019607843,1.0269262634631315,1.0269262634631318,1.0,1.0,1.0269262634631315,1.0269262634631318,1.0093776641091219,0.9966329966329966,1.0106700810926164,1.0106700810926164,0.9966329966329965,1.0093776641091219,1.0402249134948096,1.0264618011096884,1.0111414757199917,1.0111414757199917,1.0264618011096884,1.0402249134948096,1.025149190110827,1.0264618011096884,0.9970978441127695,0.9970978441127696,1.0264618011096884,1.025149190110827,1.0,1.0117187499999998,1.0117187499999998,1.0117187499999998,1.0117187499999998,1.0,1.0117187499999998,1.0117187499999998,1.0,1.0,1.0117187499999998,1.0117187499999998,1.0117187499999998,1.0117187499999998,1.0,1.0,1.0117187499999998,1.0117187499999998,1.0,0.9988262910798122,0.9988262910798121,0.9988262910798122,0.9988262910798121,1.0,1.0,1.0,1.0,1.0,1.0,1.0,1.0,0.9984126984126984,0.9984126984126984,0.9984126984126984,0.9984126984126984,1.0,1.0,1.0,1.0,1.0,1.0,1.0,1.0,1.0133020344287949,1.013302034428795,1.0133020344287949,1.013302034428795,1.0,1.0,0.9992283950617283,0.9992283950617283,0.9992283950617283,0.9992283950617283,1.0,1.0,0.9988262910798122,0.9988262910798121,0.9988262910798122,0.9988262910798121,1.0,0.9988262910798121,0.9988262910798122,1.0,1.0,0.9988262910798121,0.9988262910798122,1.011599005799503,0.997549019607843,1.0111801242236025,1.0111801242236025,0.997549019607843,1.0115990057995028,0.9988262910798121,0.9988262910798122,1.0,1.0,0.9988262910798121,0.9988262910798122,0.9975855130784708,1.0126633986928104,1.012043274137579,1.012043274137579,1.0126633986928104,0.9975855130784708,0.9975855130784708,0.9979871175523348,0.9979871175523348,0.9979871175523348,0.9979871175523348,0.9975855130784708,0.9969381506429883,0.997549019607843,0.9969381506429883,0.9969381506429883,0.997549019607843,0.9969381506429883,0.9984126984126984,0.9984126984126984,1.0,1.0,0.9984126984126984,0.9984126984126984,1.0,1.0,1.0,1.0,1.0,1.0,1.0133020344287949,1.013302034428795,1.0,1.0,1.0133020344287949,1.013302034428795,0.9992283950617283,0.9992283950617283,1.0,1.0,0.9992283950617283,0.9992283950617283,0.9988262910798122,1.0,0.9988262910798121,0.9988262910798122,1.0,0.9988262910798121,0.9984126984126984,0.9984126984126984,1.0,1.0,0.9984126984126984,0.9984126984126984,1.0124378109452736,1.011599005799503,0.996734693877551,0.996734693877551,1.0115990057995028,1.0124378109452736,0.997549019607843,0.997549019607843,0.996734693877551,0.996734693877551,0.997549019607843,0.997549019607843,0.997549019607843,1.0111801242236025,1.011599005799503,1.0115990057995028,1.0111801242236025,0.997549019607843,1.0133020344287949,1.013302034428795,1.0,1.0,1.0133020344287949,1.013302034428795,0.9992283950617283,0.9992283950617283,1.0,1.0,0.9992283950617283,0.9992283950617283,0.9988262910798121,0.9988262910798122,1.0,1.0,0.9988262910798121,0.9988262910798122,1.0128824476650564,0.9984126984126984,1.0124748490945676,1.0124748490945674,0.9984126984126984,1.0128824476650564,1.0126633986928104,1.012043274137579,0.9975855130784708,0.9975855130784708,1.012043274137579,1.0126633986928104,0.9979871175523348,0.9979871175523348,0.9975855130784708,0.9975855130784708,0.9979871175523348,0.9979871175523348,1.0,1.0,1.0,1.0,1.0,1.0,1.0,1.0,1.0,1.0,1.0,1.0,1.025968309859155,1.0,1.0259683098591548,1.025968309859155,1.0,1.0259683098591548,1.0,1.025968309859155,1.0259683098591548,1.025968309859155,1.0259683098591548,1.0,1.0,1.0,1.0,1.0,1.0,1.0,1.025968309859155,1.0259683098591548,1.0,1.0,1.025968309859155,1.0259683098591548,1.025968309859155,1.0259683098591548,1.0,1.0,1.025968309859155,1.0259683098591548,1.025968309859155,1.0259683098591548,1.0,1.0,1.025968309859155,1.0259683098591548,1.025968309859155,1.0259683098591548,1.0,1.0,1.025968309859155,1.0259683098591548,1.0,1.0,1.0,1.0,1.0,1.0,1.0,1.0124748490945674,1.0124748490945676,1.0124748490945674,1.0124748490945676,1.0,1.0,1.0,1.0,1.0,1.0,1.0,1.0,0.9982146399523905,0.9982146399523905,0.9982146399523905,0.9982146399523905,1.0,1.0,0.9988262910798122,0.9988262910798121,0.9988262910798122,0.9988262910798121,1.0,1.0,0.9982146399523905,0.9982146399523905,0.9982146399523905,0.9982146399523905,1.0,1.0,1.0,1.0,1.0,1.0,1.0,1.0,1.0,1.0,1.0,1.0,1.0,1.0,1.0,1.0,1.0,1.0,1.0,1.0,1.0,1.0,1.0,1.0,1.0,1.0,1.0,1.0,1.0,1.0,1.0,1.0,1.0,1.0,1.0,1.0,1.0,1.0,0.9975855130784708,0.9975855130784708,0.9975855130784708,0.9975855130784708,1.0,1.0,0.9984126984126984,0.9984126984126984,0.9984126984126984,0.9984126984126984,1.0,1.0,1.0124748490945676,1.0124748490945674,1.0124748490945676,1.0124748490945674,1.0,1.0,1.0,1.0,1.0,1.0,1.0,1.0,1.0,1.0,1.0,1.0,1.0,1.0,1.0,1.0,1.0,1.0,1.0,1.0,0.9988262910798122,0.9988262910798121,0.9988262910798122,0.9988262910798121,1.0,1.0,0.9982146399523905,0.9982146399523905,0.9982146399523905,0.9982146399523905,1.0,1.0,0.9988262910798121,0.9988262910798122,0.9988262910798121,0.9988262910798122,1.0,1.0124748490945676,1.0124748490945674,1.0,1.0,1.0124748490945676,1.0124748490945674,1.0,1.0,1.0,1.0,1.0,1.0,0.9982146399523905,0.9982146399523905,1.0,1.0,0.9982146399523905,0.9982146399523905,0.9988262910798121,0.9988262910798122,1.0,1.0,0.9988262910798121,0.9988262910798122,0.9982146399523905,0.9982146399523905,1.0,1.0,0.9982146399523905,0.9982146399523905,1.0124748490945676,1.0124748490945674,1.0,1.0,1.0124748490945676,1.0124748490945674,1.0111414757199917,0.996271748135874,1.0105042016806722,1.0105042016806722,0.996271748135874,1.0111414757199917,1.011599005799503,0.997549019607843,1.0111801242236025,1.0111801242236025,0.997549019607843,1.0115990057995028,1.011599005799503,1.011599005799503,1.0260504201680671,1.0260504201680671,1.0115990057995028,1.0115990057995028,0.9982146399523905,0.9982146399523905,1.0,1.0,0.9982146399523905,0.9982146399523905,0.9988262910798121,0.9988262910798122,1.0,1.0,0.9988262910798121,0.9988262910798122,0.9982146399523905,0.9982146399523905,1.0,1.0,0.9982146399523905,0.9982146399523905,0.9969381506429883,0.997549019607843,0.9969381506429883,0.9969381506429883,0.997549019607843,0.9969381506429883,0.996271748135874,0.996271748135874,0.996271748135874,0.996271748135874,0.996271748135874,0.996271748135874,0.9969381506429883,0.9969381506429883,0.997549019607843,0.997549019607843,0.9969381506429883,0.9969381506429883,1.0,1.0,1.0,1.0,1.0,1.0,0.9975855130784708,0.9975855130784708,1.0,1.0,0.9975855130784708,0.9975855130784708,0.9984126984126984,0.9984126984126984,1.0,1.0,0.9984126984126984,0.9984126984126984,1.0124748490945676,1.0124748490945674,1.0,1.0,1.0124748490945676,1.0124748490945674,1.0,1.0,1.0,1.0,1.0,1.0,1.0,1.0,1.0,1.0,1.0,1.0,1.0,1.0,1.0,1.0,1.0,1.0,0.9988262910798122,0.9988262910798121,1.0,1.0,0.9988262910798122,0.9988262910798121,0.9982146399523905,0.9982146399523905,1.0,1.0,0.9982146399523905,0.9982146399523905,0.9988262910798121,0.9988262910798122,1.0,1.0,0.9988262910798121,0.9988262910798122,0.9975855130784708,0.9975855130784708,1.0,1.0,0.9975855130784708,0.9975855130784708,0.9984126984126984,0.9984126984126984,1.0,1.0,0.9984126984126984,0.9984126984126984,1.0124748490945676,1.0124748490945674,1.0,1.0,1.0124748490945676,1.0124748490945674,0.9970978441127695,0.996271748135874,0.9958592132505175,0.9958592132505176,0.996271748135874,0.9970978441127696,1.0111414757199917,0.996271748135874,1.0105042016806722,1.0105042016806722,0.996271748135874,1.0111414757199917,1.011599005799503,0.997549019607843,1.0111801242236025,1.0111801242236025,0.997549019607843,1.0115990057995028,0.9988262910798122,0.9988262910798121,1.0,1.0,0.9988262910798122,0.9988262910798121,0.9982146399523905,0.9982146399523905,1.0,1.0,0.9982146399523905,0.9982146399523905,0.9988262910798121,0.9988262910798122,1.0,1.0,0.9988262910798121,0.9988262910798122,0.9969381506429883,0.997549019607843,0.9969381506429883,0.9969381506429883,0.997549019607843,0.9969381506429883],\"sizemode\":\"area\",\"sizeref\":0.002600562283737024,\"symbol\":\"circle\"},\"mode\":\"markers\",\"name\":\"\",\"orientation\":\"v\",\"showlegend\":false,\"x\":[0.8513513513513513,0.8513513513513513,0.8783783783783784,0.8783783783783784,0.8783783783783784,0.8783783783783784,0.8783783783783784,0.8783783783783784,0.8513513513513513,0.8513513513513513,0.8918918918918919,0.8918918918918919,0.918918918918919,0.918918918918919,0.8783783783783784,0.8783783783783784,0.918918918918919,0.918918918918919,0.8783783783783784,0.8783783783783784,0.918918918918919,0.918918918918919,0.8918918918918919,0.8918918918918919,0.8918918918918919,0.8918918918918919,0.9054054054054054,0.9054054054054054,0.8513513513513513,0.8513513513513513,0.972972972972973,0.972972972972973,0.9324324324324325,0.9324324324324325,0.972972972972973,0.972972972972973,0.918918918918919,0.918918918918919,0.972972972972973,0.972972972972973,0.9459459459459459,0.9459459459459459,0.9459459459459459,0.9459459459459459,0.9324324324324325,0.9324324324324325,0.8648648648648649,0.8648648648648649,0.8648648648648649,0.8648648648648649,0.8648648648648649,0.8648648648648649,0.8513513513513513,0.8513513513513513,0.8513513513513513,0.8513513513513513,0.9594594594594594,0.9594594594594594,1.0,1.0,0.9459459459459459,0.9459459459459459,1.0,1.0,0.9594594594594594,0.9594594594594594,0.972972972972973,0.972972972972973,0.9594594594594594,0.9594594594594594,0.9594594594594594,0.9594594594594594,0.918918918918919,0.918918918918919,0.9594594594594594,0.9594594594594594,0.918918918918919,0.918918918918919,0.9324324324324325,0.9324324324324325,0.918918918918919,0.918918918918919,0.9459459459459459,0.9459459459459459,1.0,1.0,0.9594594594594594,0.9594594594594594,0.972972972972973,0.972972972972973,0.9594594594594594,0.9594594594594594,0.9459459459459459,0.9459459459459459,0.9054054054054054,0.9054054054054054,0.918918918918919,0.918918918918919,0.918918918918919,0.918918918918919,0.9594594594594594,0.9594594594594594,0.972972972972973,0.972972972972973,0.9594594594594594,0.9594594594594594,0.9324324324324325,0.9324324324324325,0.918918918918919,0.918918918918919,0.9324324324324325,0.9324324324324325,0.8513513513513513,0.8513513513513513,0.8513513513513513,0.8513513513513513,0.8513513513513513,0.8513513513513513,0.8513513513513513,0.8513513513513513,0.8513513513513513,0.8513513513513513,0.8513513513513513,0.8513513513513513,0.8513513513513513,0.8513513513513513,0.8513513513513513,0.8513513513513513,0.8513513513513513,0.8513513513513513,0.8783783783783784,0.8783783783783784,0.8783783783783784,0.8783783783783784,0.8783783783783784,0.8783783783783784,0.8783783783783784,0.8783783783783784,0.8783783783783784,0.8783783783783784,0.8783783783783784,0.8783783783783784,0.8513513513513513,0.8513513513513513,0.8513513513513513,0.8513513513513513,0.8513513513513513,0.8513513513513513,0.8783783783783784,0.8783783783783784,0.8783783783783784,0.8783783783783784,0.8783783783783784,0.8783783783783784,0.8513513513513513,0.8513513513513513,0.8513513513513513,0.8513513513513513,0.8513513513513513,0.8513513513513513,0.8513513513513513,0.8513513513513513,0.8513513513513513,0.8513513513513513,0.8513513513513513,0.8513513513513513,0.8918918918918919,0.8918918918918919,0.8918918918918919,0.8918918918918919,0.8918918918918919,0.8918918918918919,0.8513513513513513,0.8513513513513513,0.8513513513513513,0.8513513513513513,0.8513513513513513,0.8513513513513513,0.8918918918918919,0.8918918918918919,0.8918918918918919,0.8918918918918919,0.8918918918918919,0.8918918918918919,0.8513513513513513,0.8513513513513513,0.8513513513513513,0.8513513513513513,0.8513513513513513,0.8513513513513513,0.8918918918918919,0.8918918918918919,0.8918918918918919,0.8918918918918919,0.8918918918918919,0.8918918918918919,0.8783783783783784,0.8783783783783784,0.8783783783783784,0.8783783783783784,0.8783783783783784,0.8783783783783784,0.8648648648648649,0.8648648648648649,0.8648648648648649,0.8648648648648649,0.8648648648648649,0.8648648648648649,0.8783783783783784,0.8783783783783784,0.8783783783783784,0.8783783783783784,0.8783783783783784,0.8783783783783784,0.8783783783783784,0.8783783783783784,0.8783783783783784,0.8783783783783784,0.8783783783783784,0.8783783783783784,0.918918918918919,0.918918918918919,0.918918918918919,0.918918918918919,0.918918918918919,0.918918918918919,0.8783783783783784,0.8783783783783784,0.8783783783783784,0.8783783783783784,0.8783783783783784,0.8783783783783784,0.918918918918919,0.918918918918919,0.918918918918919,0.918918918918919,0.918918918918919,0.918918918918919,0.8918918918918919,0.8918918918918919,0.8918918918918919,0.8918918918918919,0.8918918918918919,0.8918918918918919,0.8918918918918919,0.8918918918918919,0.8918918918918919,0.8918918918918919,0.8918918918918919,0.8918918918918919,0.9054054054054054,0.9054054054054054,0.9054054054054054,0.9054054054054054,0.9054054054054054,0.9054054054054054,0.8783783783783784,0.8783783783783784,0.8783783783783784,0.8783783783783784,0.8783783783783784,0.8783783783783784,0.8513513513513513,0.8513513513513513,0.8513513513513513,0.8513513513513513,0.8513513513513513,0.8513513513513513,0.8783783783783784,0.8783783783783784,0.8783783783783784,0.8783783783783784,0.8783783783783784,0.8783783783783784,0.8513513513513513,0.8513513513513513,0.8513513513513513,0.8513513513513513,0.8513513513513513,0.8513513513513513,0.8513513513513513,0.8513513513513513,0.8513513513513513,0.8513513513513513,0.8513513513513513,0.8513513513513513,0.8648648648648649,0.8648648648648649,0.8648648648648649,0.8648648648648649,0.8648648648648649,0.8648648648648649,0.8783783783783784,0.8783783783783784,0.8783783783783784,0.8783783783783784,0.8783783783783784,0.8783783783783784,0.918918918918919,0.918918918918919,0.918918918918919,0.918918918918919,0.918918918918919,0.918918918918919,0.8918918918918919,0.8918918918918919,0.8918918918918919,0.8918918918918919,0.8918918918918919,0.8918918918918919,0.8918918918918919,0.8918918918918919,0.8918918918918919,0.8918918918918919,0.8918918918918919,0.8918918918918919,0.9054054054054054,0.9054054054054054,0.9054054054054054,0.9054054054054054,0.9054054054054054,0.9054054054054054,0.8783783783783784,0.8783783783783784,0.8783783783783784,0.8783783783783784,0.8783783783783784,0.8783783783783784,0.8513513513513513,0.8513513513513513,0.8513513513513513,0.8513513513513513,0.8513513513513513,0.8513513513513513,0.8513513513513513,0.8513513513513513,0.8513513513513513,0.8513513513513513,0.8513513513513513,0.8513513513513513,0.8648648648648649,0.8648648648648649,0.8648648648648649,0.8648648648648649,0.8648648648648649,0.8648648648648649,0.8918918918918919,0.8918918918918919,0.8918918918918919,0.8918918918918919,0.8918918918918919,0.8918918918918919,0.8918918918918919,0.8918918918918919,0.8918918918918919,0.8918918918918919,0.8918918918918919,0.8918918918918919,0.9054054054054054,0.9054054054054054,0.9054054054054054,0.9054054054054054,0.9054054054054054,0.9054054054054054,0.8648648648648649,0.8648648648648649,0.8648648648648649,0.8648648648648649,0.8648648648648649,0.8648648648648649,0.8783783783783784,0.8783783783783784,0.8783783783783784,0.8783783783783784,0.8783783783783784,0.8783783783783784,0.8783783783783784,0.8783783783783784,0.8783783783783784,0.8783783783783784,0.8783783783783784,0.8783783783783784,0.8513513513513513,0.8513513513513513,0.8513513513513513,0.8513513513513513,0.8513513513513513,0.8513513513513513,0.8513513513513513,0.8513513513513513,0.8513513513513513,0.8513513513513513,0.8513513513513513,0.8513513513513513,0.8513513513513513,0.8513513513513513,0.8513513513513513,0.8513513513513513,0.8513513513513513,0.8513513513513513,0.9324324324324325,0.9324324324324325,0.9324324324324325,0.9324324324324325,0.9324324324324325,0.9324324324324325,0.972972972972973,0.972972972972973,0.972972972972973,0.972972972972973,0.972972972972973,0.972972972972973,0.918918918918919,0.918918918918919,0.918918918918919,0.918918918918919,0.918918918918919,0.918918918918919,0.972972972972973,0.972972972972973,0.972972972972973,0.972972972972973,0.972972972972973,0.972972972972973,0.9459459459459459,0.9459459459459459,0.9459459459459459,0.9459459459459459,0.9459459459459459,0.9459459459459459,0.9459459459459459,0.9459459459459459,0.9459459459459459,0.9459459459459459,0.9459459459459459,0.9459459459459459,0.9324324324324325,0.9324324324324325,0.9324324324324325,0.9324324324324325,0.9324324324324325,0.9324324324324325,0.9324324324324325,0.9324324324324325,0.9324324324324325,0.9324324324324325,0.9324324324324325,0.9324324324324325,0.8918918918918919,0.8918918918918919,0.8918918918918919,0.8918918918918919,0.8918918918918919,0.8918918918918919,0.9324324324324325,0.9324324324324325,0.9324324324324325,0.9324324324324325,0.9324324324324325,0.9324324324324325,0.9054054054054054,0.9054054054054054,0.9054054054054054,0.9054054054054054,0.9054054054054054,0.9054054054054054,0.9054054054054054,0.9054054054054054,0.9054054054054054,0.9054054054054054,0.9054054054054054,0.9054054054054054,0.8918918918918919,0.8918918918918919,0.8918918918918919,0.8918918918918919,0.8918918918918919,0.8918918918918919,0.918918918918919,0.918918918918919,0.918918918918919,0.918918918918919,0.918918918918919,0.918918918918919,0.972972972972973,0.972972972972973,0.972972972972973,0.972972972972973,0.972972972972973,0.972972972972973,0.9459459459459459,0.9459459459459459,0.9459459459459459,0.9459459459459459,0.9459459459459459,0.9459459459459459,0.9459459459459459,0.9459459459459459,0.9459459459459459,0.9459459459459459,0.9459459459459459,0.9459459459459459,0.9324324324324325,0.9324324324324325,0.9324324324324325,0.9324324324324325,0.9324324324324325,0.9324324324324325,0.918918918918919,0.918918918918919,0.918918918918919,0.918918918918919,0.918918918918919,0.918918918918919,0.8918918918918919,0.8918918918918919,0.8918918918918919,0.8918918918918919,0.8918918918918919,0.8918918918918919,0.8918918918918919,0.8918918918918919,0.8918918918918919,0.8918918918918919,0.8918918918918919,0.8918918918918919,0.8918918918918919,0.8918918918918919,0.8918918918918919,0.8918918918918919,0.8918918918918919,0.8918918918918919,0.9459459459459459,0.9459459459459459,0.9459459459459459,0.9459459459459459,0.9459459459459459,0.9459459459459459,0.9459459459459459,0.9459459459459459,0.9459459459459459,0.9459459459459459,0.9459459459459459,0.9459459459459459,0.9324324324324325,0.9324324324324325,0.9324324324324325,0.9324324324324325,0.9324324324324325,0.9324324324324325,0.918918918918919,0.918918918918919,0.918918918918919,0.918918918918919,0.918918918918919,0.918918918918919,0.9054054054054054,0.9054054054054054,0.9054054054054054,0.9054054054054054,0.9054054054054054,0.9054054054054054,0.9054054054054054,0.9054054054054054,0.9054054054054054,0.9054054054054054,0.9054054054054054,0.9054054054054054,0.8648648648648649,0.8648648648648649,0.8648648648648649,0.8648648648648649,0.8648648648648649,0.8648648648648649,0.8648648648648649,0.8648648648648649,0.8648648648648649,0.8648648648648649,0.8648648648648649,0.8648648648648649,0.8513513513513513,0.8513513513513513,0.8513513513513513,0.8513513513513513,0.8513513513513513,0.8513513513513513,0.8513513513513513,0.8513513513513513,0.8513513513513513,0.8513513513513513,0.8513513513513513,0.8513513513513513,0.8648648648648649,0.8648648648648649,0.8648648648648649,0.8648648648648649,0.8648648648648649,0.8648648648648649,0.8513513513513513,0.8513513513513513,0.8513513513513513,0.8513513513513513,0.8513513513513513,0.8513513513513513,0.8513513513513513,0.8513513513513513,0.8513513513513513,0.8513513513513513,0.8513513513513513,0.8513513513513513,0.8513513513513513,0.8513513513513513,0.8513513513513513,0.8513513513513513,0.8513513513513513,0.8513513513513513,0.8513513513513513,0.8513513513513513,0.8513513513513513,0.8513513513513513,0.8513513513513513,0.8513513513513513,0.9594594594594594,0.9594594594594594,0.9594594594594594,0.9594594594594594,0.9594594594594594,0.9594594594594594,0.918918918918919,0.918918918918919,0.918918918918919,0.918918918918919,0.918918918918919,0.918918918918919,0.9594594594594594,0.9594594594594594,0.9594594594594594,0.9594594594594594,0.9594594594594594,0.9594594594594594,0.918918918918919,0.918918918918919,0.918918918918919,0.918918918918919,0.918918918918919,0.918918918918919,0.9324324324324325,0.9324324324324325,0.9324324324324325,0.9324324324324325,0.9324324324324325,0.9324324324324325,0.918918918918919,0.918918918918919,0.918918918918919,0.918918918918919,0.918918918918919,0.918918918918919,0.9459459459459459,0.9459459459459459,0.9459459459459459,0.9459459459459459,0.9459459459459459,0.9459459459459459,1.0,1.0,1.0,1.0,1.0,1.0,0.9594594594594594,0.9594594594594594,0.9594594594594594,0.9594594594594594,0.9594594594594594,0.9594594594594594,0.972972972972973,0.972972972972973,0.972972972972973,0.972972972972973,0.972972972972973,0.972972972972973,0.9594594594594594,0.9594594594594594,0.9594594594594594,0.9594594594594594,0.9594594594594594,0.9594594594594594,0.9459459459459459,0.9459459459459459,0.9459459459459459,0.9459459459459459,0.9459459459459459,0.9459459459459459,0.9054054054054054,0.9054054054054054,0.9054054054054054,0.9054054054054054,0.9054054054054054,0.9054054054054054,0.918918918918919,0.918918918918919,0.918918918918919,0.918918918918919,0.918918918918919,0.918918918918919,0.918918918918919,0.918918918918919,0.918918918918919,0.918918918918919,0.918918918918919,0.918918918918919,0.9594594594594594,0.9594594594594594,0.9594594594594594,0.9594594594594594,0.9594594594594594,0.9594594594594594,0.972972972972973,0.972972972972973,0.972972972972973,0.972972972972973,0.972972972972973,0.972972972972973,0.9594594594594594,0.9594594594594594,0.9594594594594594,0.9594594594594594,0.9594594594594594,0.9594594594594594,0.9324324324324325,0.9324324324324325,0.9324324324324325,0.9324324324324325,0.9324324324324325,0.9324324324324325,0.918918918918919,0.918918918918919,0.918918918918919,0.918918918918919,0.918918918918919,0.918918918918919,0.9324324324324325,0.9324324324324325,0.9324324324324325,0.9324324324324325,0.9324324324324325,0.9324324324324325,0.918918918918919,0.918918918918919,0.918918918918919,0.918918918918919,0.918918918918919,0.918918918918919,0.9594594594594594,0.9594594594594594,0.9594594594594594,0.9594594594594594,0.9594594594594594,0.9594594594594594,0.918918918918919,0.918918918918919,0.918918918918919,0.918918918918919,0.918918918918919,0.918918918918919,0.9324324324324325,0.9324324324324325,0.9324324324324325,0.9324324324324325,0.9324324324324325,0.9324324324324325,0.918918918918919,0.918918918918919,0.918918918918919,0.918918918918919,0.918918918918919,0.918918918918919,0.918918918918919,0.918918918918919,0.918918918918919,0.918918918918919,0.918918918918919,0.918918918918919,0.8783783783783784,0.8783783783783784,0.8783783783783784,0.8783783783783784,0.8783783783783784,0.8783783783783784,0.8918918918918919,0.8918918918918919,0.8918918918918919,0.8918918918918919,0.8918918918918919,0.8918918918918919,0.8918918918918919,0.8918918918918919,0.8918918918918919,0.8918918918918919,0.8918918918918919,0.8918918918918919,0.918918918918919,0.918918918918919,0.918918918918919,0.918918918918919,0.918918918918919,0.918918918918919,0.9324324324324325,0.9324324324324325,0.9324324324324325,0.9324324324324325,0.9324324324324325,0.9324324324324325,0.918918918918919,0.918918918918919,0.918918918918919,0.918918918918919,0.918918918918919,0.918918918918919,0.8918918918918919,0.8918918918918919,0.8918918918918919,0.8918918918918919,0.8918918918918919,0.8918918918918919,0.8783783783783784,0.8783783783783784,0.8783783783783784,0.8783783783783784,0.8783783783783784,0.8783783783783784,0.8918918918918919,0.8918918918918919,0.8918918918918919,0.8918918918918919,0.8918918918918919,0.8918918918918919,0.9459459459459459,0.9459459459459459,0.9459459459459459,0.9459459459459459,0.9459459459459459,0.9459459459459459,0.9054054054054054,0.9054054054054054,0.9054054054054054,0.9054054054054054,0.9054054054054054,0.9054054054054054,0.918918918918919,0.918918918918919,0.918918918918919,0.918918918918919,0.918918918918919,0.918918918918919,0.918918918918919,0.918918918918919,0.918918918918919,0.918918918918919,0.918918918918919,0.918918918918919,0.9594594594594594,0.9594594594594594,0.9594594594594594,0.9594594594594594,0.9594594594594594,0.9594594594594594,0.972972972972973,0.972972972972973,0.972972972972973,0.972972972972973,0.972972972972973,0.972972972972973,0.9594594594594594,0.9594594594594594,0.9594594594594594,0.9594594594594594,0.9594594594594594,0.9594594594594594,0.9324324324324325,0.9324324324324325,0.9324324324324325,0.9324324324324325,0.9324324324324325,0.9324324324324325,0.918918918918919,0.918918918918919,0.918918918918919,0.918918918918919,0.918918918918919,0.918918918918919,0.9324324324324325,0.9324324324324325,0.9324324324324325,0.9324324324324325,0.9324324324324325,0.9324324324324325,0.9054054054054054,0.9054054054054054,0.9054054054054054,0.9054054054054054,0.9054054054054054,0.9054054054054054,0.918918918918919,0.918918918918919,0.918918918918919,0.918918918918919,0.918918918918919,0.918918918918919,0.918918918918919,0.918918918918919,0.918918918918919,0.918918918918919,0.918918918918919,0.918918918918919,0.8783783783783784,0.8783783783783784,0.8783783783783784,0.8783783783783784,0.8783783783783784,0.8783783783783784,0.8783783783783784,0.8783783783783784,0.8783783783783784,0.8783783783783784,0.8783783783783784,0.8783783783783784,0.8918918918918919,0.8918918918918919,0.8918918918918919,0.8918918918918919,0.8918918918918919,0.8918918918918919,0.9324324324324325,0.9324324324324325,0.9324324324324325,0.9324324324324325,0.9324324324324325,0.9324324324324325,0.918918918918919,0.918918918918919,0.918918918918919,0.918918918918919,0.918918918918919,0.918918918918919,0.9324324324324325,0.9324324324324325,0.9324324324324325,0.9324324324324325,0.9324324324324325,0.9324324324324325,0.8918918918918919,0.8918918918918919,0.8918918918918919,0.8918918918918919,0.8918918918918919,0.8918918918918919],\"xaxis\":\"x\",\"y\":[0.9692307692307691,0.8749999999999999,1.0,0.8783783783783784,0.8783783783783784,1.0,0.8783783783783784,1.0,0.9692307692307691,0.8749999999999999,0.9166666666666666,0.9705882352941176,0.918918918918919,1.0,0.9154929577464789,0.9558823529411764,0.918918918918919,1.0,0.9285714285714286,0.9558823529411764,0.918918918918919,1.0,0.9295774647887324,0.9705882352941176,0.9166666666666666,0.9705882352941176,0.9436619718309859,0.9852941176470588,0.8749999999999999,0.9843749999999999,1.0,0.972972972972973,0.9583333333333333,0.971830985915493,0.972972972972973,1.0,0.9714285714285715,0.9444444444444444,0.972972972972973,1.0,0.9859154929577465,0.9722222222222222,0.9722222222222222,0.9722222222222222,0.971830985915493,0.9583333333333333,0.8648648648648649,1.0,0.8648648648648649,1.0,0.8648648648648649,1.0,0.8873239436619719,0.9843749999999999,0.8873239436619719,0.9843749999999999,1.0,0.9594594594594594,1.0,1.0,1.0,0.9459459459459459,1.0,1.0,1.0,0.9594594594594594,1.0,0.972972972972973,1.0,0.9594594594594594,0.9594594594594594,1.0,0.9714285714285715,0.9577464788732395,0.9594594594594594,1.0,0.9577464788732395,0.9577464788732395,0.9583333333333333,0.971830985915493,0.9577464788732395,0.9577464788732395,0.9459459459459459,1.0,1.0,1.0,0.9594594594594594,1.0,0.972972972972973,1.0,0.9594594594594594,1.0,0.9459459459459459,1.0,0.9571428571428571,0.9436619718309859,0.9714285714285715,0.9444444444444444,0.9714285714285715,0.9577464788732395,0.9594594594594594,1.0,0.972972972972973,1.0,0.9594594594594594,1.0,0.971830985915493,0.9583333333333333,0.9577464788732395,0.9577464788732395,0.9583333333333333,0.971830985915493,1.0,0.9692307692307691,0.8749999999999999,0.9692307692307691,0.8749999999999999,0.8513513513513513,0.9692307692307691,0.8749999999999999,1.0,0.8513513513513513,0.9692307692307691,0.8749999999999999,0.9692307692307691,0.8749999999999999,1.0,0.8513513513513513,0.9692307692307691,0.8749999999999999,1.0,0.8783783783783784,1.0,0.8783783783783784,1.0,0.8783783783783784,1.0,0.8783783783783784,1.0,0.8783783783783784,1.0,0.8783783783783784,1.0,0.9692307692307691,0.8749999999999999,0.9692307692307691,0.8749999999999999,0.8513513513513513,1.0,0.8783783783783784,1.0,0.8783783783783784,1.0,0.8783783783783784,0.9692307692307691,0.8749999999999999,1.0,0.8513513513513513,0.9692307692307691,0.8749999999999999,0.9692307692307691,0.8749999999999999,1.0,0.8513513513513513,0.9692307692307691,0.8749999999999999,1.0,0.9166666666666666,0.9705882352941176,0.9166666666666666,0.9705882352941176,0.8918918918918919,0.9130434782608695,0.9692307692307691,0.9545454545454545,0.8873239436619719,0.8749999999999999,0.926470588235294,0.9166666666666666,0.9705882352941176,1.0,0.8918918918918919,0.9166666666666666,0.9705882352941176,0.926470588235294,0.9692307692307691,0.9545454545454545,0.8999999999999999,0.8749999999999999,0.926470588235294,0.9166666666666666,0.9705882352941176,1.0,0.8918918918918919,0.9166666666666666,0.9705882352941176,0.9285714285714286,0.9848484848484849,0.9848484848484849,0.9154929577464789,0.9027777777777778,0.9558823529411764,0.9142857142857144,0.9696969696969697,0.9696969696969697,0.8888888888888888,0.8888888888888888,0.9411764705882353,0.9420289855072463,0.9701492537313433,0.9848484848484849,0.9154929577464789,0.9027777777777778,0.9558823529411764,0.9154929577464789,1.0,0.9558823529411764,0.9154929577464789,0.8783783783783784,0.9558823529411764,0.918918918918919,1.0,1.0,0.918918918918919,0.918918918918919,1.0,0.9285714285714286,1.0,0.9558823529411764,0.9285714285714286,0.8783783783783784,0.9558823529411764,0.918918918918919,1.0,1.0,0.918918918918919,0.918918918918919,1.0,0.9295774647887324,1.0,0.9705882352941176,0.9295774647887324,0.8918918918918919,0.9705882352941176,0.9166666666666666,1.0,0.9705882352941176,0.9166666666666666,0.8918918918918919,0.9705882352941176,1.0,0.9436619718309859,0.9852941176470588,0.9436619718309859,0.9852941176470588,0.9054054054054054,0.9154929577464789,1.0,0.9558823529411764,0.9154929577464789,0.8783783783783784,0.9558823529411764,0.926470588235294,0.9692307692307691,0.9692307692307691,0.8873239436619719,0.8999999999999999,0.926470588235294,0.9154929577464789,0.9558823529411764,1.0,0.8783783783783784,0.9154929577464789,0.9558823529411764,0.926470588235294,0.9692307692307691,0.9545454545454545,0.8873239436619719,0.8873239436619719,0.926470588235294,0.9130434782608695,0.9692307692307691,0.9545454545454545,0.8873239436619719,0.8749999999999999,0.926470588235294,0.9411764705882353,0.9846153846153847,0.955223880597015,0.9014084507042255,0.9014084507042255,0.9411764705882353,0.9285714285714286,0.9558823529411764,1.0,0.8783783783783784,0.9285714285714286,0.9558823529411764,0.918918918918919,1.0,1.0,0.918918918918919,0.918918918918919,1.0,0.9295774647887324,0.9705882352941176,1.0,0.8918918918918919,0.9295774647887324,0.9705882352941176,0.9166666666666666,0.9705882352941176,1.0,0.8918918918918919,0.9166666666666666,0.9705882352941176,0.9436619718309859,0.9852941176470588,1.0,0.9054054054054054,0.9436619718309859,0.9852941176470588,0.9285714285714286,0.9558823529411764,1.0,0.8783783783783784,0.9285714285714286,0.9558823529411764,0.9402985074626866,0.9692307692307691,0.9545454545454545,0.8999999999999999,0.8873239436619719,0.926470588235294,0.926470588235294,0.9692307692307691,0.9545454545454545,0.8999999999999999,0.8749999999999999,0.926470588235294,0.9411764705882353,0.9846153846153847,0.955223880597015,0.9142857142857144,0.9014084507042255,0.9411764705882353,0.9295774647887324,0.9705882352941176,1.0,0.8918918918918919,0.9295774647887324,0.9705882352941176,0.9166666666666666,0.9705882352941176,1.0,0.8918918918918919,0.9166666666666666,0.9705882352941176,0.9436619718309859,0.9852941176470588,1.0,0.9054054054054054,0.9436619718309859,0.9852941176470588,0.927536231884058,0.9696969696969697,0.9696969696969697,0.9014084507042255,0.8888888888888888,0.9411764705882353,0.9558823529411764,0.9848484848484849,0.9701492537313433,0.9154929577464789,0.9154929577464789,0.9558823529411764,0.9420289855072463,0.9848484848484849,0.9701492537313433,0.9027777777777778,0.9154929577464789,0.9558823529411764,1.0,0.8749999999999999,0.9843749999999999,0.8749999999999999,0.9843749999999999,0.8513513513513513,0.8749999999999999,0.9843749999999999,1.0,0.8513513513513513,0.8749999999999999,0.9843749999999999,0.8749999999999999,0.9843749999999999,1.0,0.8513513513513513,0.8749999999999999,0.9843749999999999,1.0,0.971830985915493,0.9583333333333333,0.971830985915493,0.9583333333333333,0.9324324324324325,1.0,0.972972972972973,1.0,0.972972972972973,1.0,0.972972972972973,1.0,0.9714285714285715,0.9444444444444444,0.9714285714285715,0.9444444444444444,0.918918918918919,1.0,0.972972972972973,1.0,0.972972972972973,1.0,0.972972972972973,1.0,0.9859154929577465,0.9722222222222222,0.9859154929577465,0.9722222222222222,0.9459459459459459,1.0,0.9722222222222222,0.9722222222222222,0.9722222222222222,0.9722222222222222,0.9459459459459459,1.0,0.971830985915493,0.9583333333333333,0.971830985915493,0.9583333333333333,0.9324324324324325,0.9583333333333333,0.971830985915493,1.0,0.9324324324324325,0.9583333333333333,0.971830985915493,0.9705882352941176,0.9705882352941176,0.9565217391304347,0.9428571428571428,0.9166666666666666,0.9295774647887324,0.9583333333333333,0.971830985915493,1.0,0.9324324324324325,0.9583333333333333,0.971830985915493,0.9571428571428571,0.9852941176470588,0.9710144927536232,0.9436619718309859,0.9305555555555555,0.9436619718309859,0.9571428571428571,0.9710144927536232,0.9710144927536232,0.9305555555555555,0.9305555555555555,0.9436619718309859,0.9565217391304347,0.9705882352941176,0.9565217391304347,0.9295774647887324,0.9166666666666666,0.9295774647887324,0.9714285714285715,0.9444444444444444,1.0,0.918918918918919,0.9714285714285715,0.9444444444444444,0.972972972972973,1.0,1.0,0.972972972972973,0.972972972972973,1.0,0.9859154929577465,0.9722222222222222,1.0,0.9459459459459459,0.9859154929577465,0.9722222222222222,0.9722222222222222,0.9722222222222222,1.0,0.9459459459459459,0.9722222222222222,0.9722222222222222,0.971830985915493,1.0,0.9583333333333333,0.971830985915493,0.9324324324324325,0.9583333333333333,0.9714285714285715,0.9444444444444444,1.0,0.918918918918919,0.9714285714285715,0.9444444444444444,0.9850746268656717,0.9705882352941176,0.9428571428571428,0.9428571428571428,0.9295774647887324,0.9166666666666666,0.9705882352941176,0.9705882352941176,0.9428571428571428,0.9428571428571428,0.9166666666666666,0.9166666666666666,0.9705882352941176,0.9565217391304347,0.9705882352941176,0.9295774647887324,0.9428571428571428,0.9166666666666666,0.9859154929577465,0.9722222222222222,1.0,0.9459459459459459,0.9859154929577465,0.9722222222222222,0.9722222222222222,0.9722222222222222,1.0,0.9459459459459459,0.9722222222222222,0.9722222222222222,0.9583333333333333,0.971830985915493,1.0,0.9324324324324325,0.9583333333333333,0.971830985915493,0.9855072463768116,0.9714285714285715,0.9714285714285715,0.9577464788732395,0.9444444444444444,0.9444444444444444,0.9852941176470588,0.9710144927536232,0.9571428571428571,0.9436619718309859,0.9436619718309859,0.9305555555555555,0.9710144927536232,0.9710144927536232,0.9571428571428571,0.9436619718309859,0.9305555555555555,0.9305555555555555,0.8648648648648649,1.0,1.0,0.8648648648648649,0.8648648648648649,1.0,0.8648648648648649,1.0,1.0,0.8648648648648649,0.8648648648648649,1.0,0.8873239436619719,1.0,0.9843749999999999,0.8873239436619719,0.8513513513513513,0.9843749999999999,1.0,0.8873239436619719,0.9843749999999999,0.8873239436619719,0.9843749999999999,0.8513513513513513,0.8648648648648649,1.0,1.0,0.8648648648648649,0.8648648648648649,1.0,0.8873239436619719,0.9843749999999999,1.0,0.8513513513513513,0.8873239436619719,0.9843749999999999,0.8873239436619719,0.9843749999999999,1.0,0.8513513513513513,0.8873239436619719,0.9843749999999999,0.8873239436619719,0.9843749999999999,1.0,0.8513513513513513,0.8873239436619719,0.9843749999999999,0.8873239436619719,0.9843749999999999,1.0,0.8513513513513513,0.8873239436619719,0.9843749999999999,1.0,1.0,0.9594594594594594,1.0,0.9594594594594594,0.9594594594594594,1.0,0.9577464788732395,0.9714285714285715,0.9577464788732395,0.9714285714285715,0.918918918918919,1.0,0.9594594594594594,1.0,0.9594594594594594,1.0,0.9594594594594594,1.0,0.9577464788732395,0.9577464788732395,0.9577464788732395,0.9577464788732395,0.918918918918919,1.0,0.971830985915493,0.9583333333333333,0.971830985915493,0.9583333333333333,0.9324324324324325,1.0,0.9577464788732395,0.9577464788732395,0.9577464788732395,0.9577464788732395,0.918918918918919,1.0,0.9459459459459459,1.0,0.9459459459459459,1.0,0.9459459459459459,1.0,1.0,1.0,1.0,1.0,1.0,1.0,0.9594594594594594,1.0,0.9594594594594594,1.0,0.9594594594594594,1.0,0.972972972972973,1.0,0.972972972972973,1.0,0.972972972972973,1.0,0.9594594594594594,1.0,0.9594594594594594,1.0,0.9594594594594594,1.0,0.9459459459459459,1.0,0.9459459459459459,1.0,0.9459459459459459,1.0,0.9571428571428571,0.9436619718309859,0.9571428571428571,0.9436619718309859,0.9054054054054054,1.0,0.9714285714285715,0.9444444444444444,0.9714285714285715,0.9444444444444444,0.918918918918919,1.0,0.9714285714285715,0.9577464788732395,0.9714285714285715,0.9577464788732395,0.918918918918919,1.0,0.9594594594594594,1.0,0.9594594594594594,1.0,0.9594594594594594,1.0,0.972972972972973,1.0,0.972972972972973,1.0,0.972972972972973,1.0,0.9594594594594594,1.0,0.9594594594594594,1.0,0.9594594594594594,1.0,0.971830985915493,0.9583333333333333,0.971830985915493,0.9583333333333333,0.9324324324324325,1.0,0.9577464788732395,0.9577464788732395,0.9577464788732395,0.9577464788732395,0.918918918918919,1.0,0.9583333333333333,0.971830985915493,0.9583333333333333,0.971830985915493,0.9324324324324325,0.9714285714285715,0.9577464788732395,1.0,0.918918918918919,0.9714285714285715,0.9577464788732395,0.9594594594594594,1.0,1.0,0.9594594594594594,0.9594594594594594,1.0,0.9577464788732395,0.9577464788732395,1.0,0.918918918918919,0.9577464788732395,0.9577464788732395,0.9583333333333333,0.971830985915493,1.0,0.9324324324324325,0.9583333333333333,0.971830985915493,0.9577464788732395,0.9577464788732395,1.0,0.918918918918919,0.9577464788732395,0.9577464788732395,0.9714285714285715,0.9577464788732395,1.0,0.918918918918919,0.9714285714285715,0.9577464788732395,0.9701492537313433,0.9558823529411764,0.9558823529411764,0.9285714285714286,0.9154929577464789,0.9154929577464789,0.9705882352941176,0.9705882352941176,0.9565217391304347,0.9428571428571428,0.9166666666666666,0.9295774647887324,0.9705882352941176,0.9705882352941176,0.9705882352941176,0.9428571428571428,0.9295774647887324,0.9295774647887324,0.9577464788732395,0.9577464788732395,1.0,0.918918918918919,0.9577464788732395,0.9577464788732395,0.9583333333333333,0.971830985915493,1.0,0.9324324324324325,0.9583333333333333,0.971830985915493,0.9577464788732395,0.9577464788732395,1.0,0.918918918918919,0.9577464788732395,0.9577464788732395,0.9565217391304347,0.9705882352941176,0.9565217391304347,0.9295774647887324,0.9166666666666666,0.9295774647887324,0.9558823529411764,0.9558823529411764,0.9558823529411764,0.9154929577464789,0.9154929577464789,0.9154929577464789,0.9565217391304347,0.9565217391304347,0.9705882352941176,0.9166666666666666,0.9295774647887324,0.9295774647887324,1.0,0.9459459459459459,1.0,0.9459459459459459,1.0,0.9459459459459459,0.9571428571428571,0.9436619718309859,1.0,0.9054054054054054,0.9571428571428571,0.9436619718309859,0.9714285714285715,0.9444444444444444,1.0,0.918918918918919,0.9714285714285715,0.9444444444444444,0.9714285714285715,0.9577464788732395,1.0,0.918918918918919,0.9714285714285715,0.9577464788732395,1.0,0.9594594594594594,1.0,0.9594594594594594,1.0,0.9594594594594594,0.972972972972973,1.0,1.0,0.972972972972973,0.972972972972973,1.0,0.9594594594594594,1.0,1.0,0.9594594594594594,0.9594594594594594,1.0,0.971830985915493,0.9583333333333333,1.0,0.9324324324324325,0.971830985915493,0.9583333333333333,0.9577464788732395,0.9577464788732395,1.0,0.918918918918919,0.9577464788732395,0.9577464788732395,0.9583333333333333,0.971830985915493,1.0,0.9324324324324325,0.9583333333333333,0.971830985915493,0.9571428571428571,0.9436619718309859,1.0,0.9054054054054054,0.9571428571428571,0.9436619718309859,0.9714285714285715,0.9444444444444444,1.0,0.918918918918919,0.9714285714285715,0.9444444444444444,0.9714285714285715,0.9577464788732395,1.0,0.918918918918919,0.9714285714285715,0.9577464788732395,0.9701492537313433,0.9558823529411764,0.9420289855072463,0.9285714285714286,0.9154929577464789,0.9027777777777778,0.9701492537313433,0.9558823529411764,0.9558823529411764,0.9285714285714286,0.9154929577464789,0.9154929577464789,0.9705882352941176,0.9705882352941176,0.9565217391304347,0.9428571428571428,0.9166666666666666,0.9295774647887324,0.971830985915493,0.9583333333333333,1.0,0.9324324324324325,0.971830985915493,0.9583333333333333,0.9577464788732395,0.9577464788732395,1.0,0.918918918918919,0.9577464788732395,0.9577464788732395,0.9583333333333333,0.971830985915493,1.0,0.9324324324324325,0.9583333333333333,0.971830985915493,0.9565217391304347,0.9705882352941176,0.9565217391304347,0.9295774647887324,0.9166666666666666,0.9295774647887324],\"yaxis\":\"y\",\"type\":\"scatter\"}],                        {\"template\":{\"data\":{\"histogram2dcontour\":[{\"type\":\"histogram2dcontour\",\"colorbar\":{\"outlinewidth\":0,\"ticks\":\"\"},\"colorscale\":[[0.0,\"#0d0887\"],[0.1111111111111111,\"#46039f\"],[0.2222222222222222,\"#7201a8\"],[0.3333333333333333,\"#9c179e\"],[0.4444444444444444,\"#bd3786\"],[0.5555555555555556,\"#d8576b\"],[0.6666666666666666,\"#ed7953\"],[0.7777777777777778,\"#fb9f3a\"],[0.8888888888888888,\"#fdca26\"],[1.0,\"#f0f921\"]]}],\"choropleth\":[{\"type\":\"choropleth\",\"colorbar\":{\"outlinewidth\":0,\"ticks\":\"\"}}],\"histogram2d\":[{\"type\":\"histogram2d\",\"colorbar\":{\"outlinewidth\":0,\"ticks\":\"\"},\"colorscale\":[[0.0,\"#0d0887\"],[0.1111111111111111,\"#46039f\"],[0.2222222222222222,\"#7201a8\"],[0.3333333333333333,\"#9c179e\"],[0.4444444444444444,\"#bd3786\"],[0.5555555555555556,\"#d8576b\"],[0.6666666666666666,\"#ed7953\"],[0.7777777777777778,\"#fb9f3a\"],[0.8888888888888888,\"#fdca26\"],[1.0,\"#f0f921\"]]}],\"heatmap\":[{\"type\":\"heatmap\",\"colorbar\":{\"outlinewidth\":0,\"ticks\":\"\"},\"colorscale\":[[0.0,\"#0d0887\"],[0.1111111111111111,\"#46039f\"],[0.2222222222222222,\"#7201a8\"],[0.3333333333333333,\"#9c179e\"],[0.4444444444444444,\"#bd3786\"],[0.5555555555555556,\"#d8576b\"],[0.6666666666666666,\"#ed7953\"],[0.7777777777777778,\"#fb9f3a\"],[0.8888888888888888,\"#fdca26\"],[1.0,\"#f0f921\"]]}],\"heatmapgl\":[{\"type\":\"heatmapgl\",\"colorbar\":{\"outlinewidth\":0,\"ticks\":\"\"},\"colorscale\":[[0.0,\"#0d0887\"],[0.1111111111111111,\"#46039f\"],[0.2222222222222222,\"#7201a8\"],[0.3333333333333333,\"#9c179e\"],[0.4444444444444444,\"#bd3786\"],[0.5555555555555556,\"#d8576b\"],[0.6666666666666666,\"#ed7953\"],[0.7777777777777778,\"#fb9f3a\"],[0.8888888888888888,\"#fdca26\"],[1.0,\"#f0f921\"]]}],\"contourcarpet\":[{\"type\":\"contourcarpet\",\"colorbar\":{\"outlinewidth\":0,\"ticks\":\"\"}}],\"contour\":[{\"type\":\"contour\",\"colorbar\":{\"outlinewidth\":0,\"ticks\":\"\"},\"colorscale\":[[0.0,\"#0d0887\"],[0.1111111111111111,\"#46039f\"],[0.2222222222222222,\"#7201a8\"],[0.3333333333333333,\"#9c179e\"],[0.4444444444444444,\"#bd3786\"],[0.5555555555555556,\"#d8576b\"],[0.6666666666666666,\"#ed7953\"],[0.7777777777777778,\"#fb9f3a\"],[0.8888888888888888,\"#fdca26\"],[1.0,\"#f0f921\"]]}],\"surface\":[{\"type\":\"surface\",\"colorbar\":{\"outlinewidth\":0,\"ticks\":\"\"},\"colorscale\":[[0.0,\"#0d0887\"],[0.1111111111111111,\"#46039f\"],[0.2222222222222222,\"#7201a8\"],[0.3333333333333333,\"#9c179e\"],[0.4444444444444444,\"#bd3786\"],[0.5555555555555556,\"#d8576b\"],[0.6666666666666666,\"#ed7953\"],[0.7777777777777778,\"#fb9f3a\"],[0.8888888888888888,\"#fdca26\"],[1.0,\"#f0f921\"]]}],\"mesh3d\":[{\"type\":\"mesh3d\",\"colorbar\":{\"outlinewidth\":0,\"ticks\":\"\"}}],\"scatter\":[{\"fillpattern\":{\"fillmode\":\"overlay\",\"size\":10,\"solidity\":0.2},\"type\":\"scatter\"}],\"parcoords\":[{\"type\":\"parcoords\",\"line\":{\"colorbar\":{\"outlinewidth\":0,\"ticks\":\"\"}}}],\"scatterpolargl\":[{\"type\":\"scatterpolargl\",\"marker\":{\"colorbar\":{\"outlinewidth\":0,\"ticks\":\"\"}}}],\"bar\":[{\"error_x\":{\"color\":\"#2a3f5f\"},\"error_y\":{\"color\":\"#2a3f5f\"},\"marker\":{\"line\":{\"color\":\"#E5ECF6\",\"width\":0.5},\"pattern\":{\"fillmode\":\"overlay\",\"size\":10,\"solidity\":0.2}},\"type\":\"bar\"}],\"scattergeo\":[{\"type\":\"scattergeo\",\"marker\":{\"colorbar\":{\"outlinewidth\":0,\"ticks\":\"\"}}}],\"scatterpolar\":[{\"type\":\"scatterpolar\",\"marker\":{\"colorbar\":{\"outlinewidth\":0,\"ticks\":\"\"}}}],\"histogram\":[{\"marker\":{\"pattern\":{\"fillmode\":\"overlay\",\"size\":10,\"solidity\":0.2}},\"type\":\"histogram\"}],\"scattergl\":[{\"type\":\"scattergl\",\"marker\":{\"colorbar\":{\"outlinewidth\":0,\"ticks\":\"\"}}}],\"scatter3d\":[{\"type\":\"scatter3d\",\"line\":{\"colorbar\":{\"outlinewidth\":0,\"ticks\":\"\"}},\"marker\":{\"colorbar\":{\"outlinewidth\":0,\"ticks\":\"\"}}}],\"scattermapbox\":[{\"type\":\"scattermapbox\",\"marker\":{\"colorbar\":{\"outlinewidth\":0,\"ticks\":\"\"}}}],\"scatterternary\":[{\"type\":\"scatterternary\",\"marker\":{\"colorbar\":{\"outlinewidth\":0,\"ticks\":\"\"}}}],\"scattercarpet\":[{\"type\":\"scattercarpet\",\"marker\":{\"colorbar\":{\"outlinewidth\":0,\"ticks\":\"\"}}}],\"carpet\":[{\"aaxis\":{\"endlinecolor\":\"#2a3f5f\",\"gridcolor\":\"white\",\"linecolor\":\"white\",\"minorgridcolor\":\"white\",\"startlinecolor\":\"#2a3f5f\"},\"baxis\":{\"endlinecolor\":\"#2a3f5f\",\"gridcolor\":\"white\",\"linecolor\":\"white\",\"minorgridcolor\":\"white\",\"startlinecolor\":\"#2a3f5f\"},\"type\":\"carpet\"}],\"table\":[{\"cells\":{\"fill\":{\"color\":\"#EBF0F8\"},\"line\":{\"color\":\"white\"}},\"header\":{\"fill\":{\"color\":\"#C8D4E3\"},\"line\":{\"color\":\"white\"}},\"type\":\"table\"}],\"barpolar\":[{\"marker\":{\"line\":{\"color\":\"#E5ECF6\",\"width\":0.5},\"pattern\":{\"fillmode\":\"overlay\",\"size\":10,\"solidity\":0.2}},\"type\":\"barpolar\"}],\"pie\":[{\"automargin\":true,\"type\":\"pie\"}]},\"layout\":{\"autotypenumbers\":\"strict\",\"colorway\":[\"#636efa\",\"#EF553B\",\"#00cc96\",\"#ab63fa\",\"#FFA15A\",\"#19d3f3\",\"#FF6692\",\"#B6E880\",\"#FF97FF\",\"#FECB52\"],\"font\":{\"color\":\"#2a3f5f\"},\"hovermode\":\"closest\",\"hoverlabel\":{\"align\":\"left\"},\"paper_bgcolor\":\"white\",\"plot_bgcolor\":\"#E5ECF6\",\"polar\":{\"bgcolor\":\"#E5ECF6\",\"angularaxis\":{\"gridcolor\":\"white\",\"linecolor\":\"white\",\"ticks\":\"\"},\"radialaxis\":{\"gridcolor\":\"white\",\"linecolor\":\"white\",\"ticks\":\"\"}},\"ternary\":{\"bgcolor\":\"#E5ECF6\",\"aaxis\":{\"gridcolor\":\"white\",\"linecolor\":\"white\",\"ticks\":\"\"},\"baxis\":{\"gridcolor\":\"white\",\"linecolor\":\"white\",\"ticks\":\"\"},\"caxis\":{\"gridcolor\":\"white\",\"linecolor\":\"white\",\"ticks\":\"\"}},\"coloraxis\":{\"colorbar\":{\"outlinewidth\":0,\"ticks\":\"\"}},\"colorscale\":{\"sequential\":[[0.0,\"#0d0887\"],[0.1111111111111111,\"#46039f\"],[0.2222222222222222,\"#7201a8\"],[0.3333333333333333,\"#9c179e\"],[0.4444444444444444,\"#bd3786\"],[0.5555555555555556,\"#d8576b\"],[0.6666666666666666,\"#ed7953\"],[0.7777777777777778,\"#fb9f3a\"],[0.8888888888888888,\"#fdca26\"],[1.0,\"#f0f921\"]],\"sequentialminus\":[[0.0,\"#0d0887\"],[0.1111111111111111,\"#46039f\"],[0.2222222222222222,\"#7201a8\"],[0.3333333333333333,\"#9c179e\"],[0.4444444444444444,\"#bd3786\"],[0.5555555555555556,\"#d8576b\"],[0.6666666666666666,\"#ed7953\"],[0.7777777777777778,\"#fb9f3a\"],[0.8888888888888888,\"#fdca26\"],[1.0,\"#f0f921\"]],\"diverging\":[[0,\"#8e0152\"],[0.1,\"#c51b7d\"],[0.2,\"#de77ae\"],[0.3,\"#f1b6da\"],[0.4,\"#fde0ef\"],[0.5,\"#f7f7f7\"],[0.6,\"#e6f5d0\"],[0.7,\"#b8e186\"],[0.8,\"#7fbc41\"],[0.9,\"#4d9221\"],[1,\"#276419\"]]},\"xaxis\":{\"gridcolor\":\"white\",\"linecolor\":\"white\",\"ticks\":\"\",\"title\":{\"standoff\":15},\"zerolinecolor\":\"white\",\"automargin\":true,\"zerolinewidth\":2},\"yaxis\":{\"gridcolor\":\"white\",\"linecolor\":\"white\",\"ticks\":\"\",\"title\":{\"standoff\":15},\"zerolinecolor\":\"white\",\"automargin\":true,\"zerolinewidth\":2},\"scene\":{\"xaxis\":{\"backgroundcolor\":\"#E5ECF6\",\"gridcolor\":\"white\",\"linecolor\":\"white\",\"showbackground\":true,\"ticks\":\"\",\"zerolinecolor\":\"white\",\"gridwidth\":2},\"yaxis\":{\"backgroundcolor\":\"#E5ECF6\",\"gridcolor\":\"white\",\"linecolor\":\"white\",\"showbackground\":true,\"ticks\":\"\",\"zerolinecolor\":\"white\",\"gridwidth\":2},\"zaxis\":{\"backgroundcolor\":\"#E5ECF6\",\"gridcolor\":\"white\",\"linecolor\":\"white\",\"showbackground\":true,\"ticks\":\"\",\"zerolinecolor\":\"white\",\"gridwidth\":2}},\"shapedefaults\":{\"line\":{\"color\":\"#2a3f5f\"}},\"annotationdefaults\":{\"arrowcolor\":\"#2a3f5f\",\"arrowhead\":0,\"arrowwidth\":1},\"geo\":{\"bgcolor\":\"white\",\"landcolor\":\"#E5ECF6\",\"subunitcolor\":\"white\",\"showland\":true,\"showlakes\":true,\"lakecolor\":\"white\"},\"title\":{\"x\":0.05},\"mapbox\":{\"style\":\"light\"}}},\"xaxis\":{\"anchor\":\"y\",\"domain\":[0.0,1.0],\"title\":{\"text\":\"support\"}},\"yaxis\":{\"anchor\":\"x\",\"domain\":[0.0,1.0],\"title\":{\"text\":\"confidence\"}},\"coloraxis\":{\"colorbar\":{\"title\":{\"text\":\"lift\"}},\"colorscale\":[[0.0,\"#0d0887\"],[0.1111111111111111,\"#46039f\"],[0.2222222222222222,\"#7201a8\"],[0.3333333333333333,\"#9c179e\"],[0.4444444444444444,\"#bd3786\"],[0.5555555555555556,\"#d8576b\"],[0.6666666666666666,\"#ed7953\"],[0.7777777777777778,\"#fb9f3a\"],[0.8888888888888888,\"#fdca26\"],[1.0,\"#f0f921\"]]},\"legend\":{\"tracegroupgap\":0,\"itemsizing\":\"constant\"},\"title\":{\"text\":\"Support vs Confidence\"}},                        {\"responsive\": true}                    ).then(function(){\n",
       "                            \n",
       "var gd = document.getElementById('28fd9be2-b2ab-4525-a152-07cf7874dfa7');\n",
       "var x = new MutationObserver(function (mutations, observer) {{\n",
       "        var display = window.getComputedStyle(gd).display;\n",
       "        if (!display || display === 'none') {{\n",
       "            console.log([gd, 'removed!']);\n",
       "            Plotly.purge(gd);\n",
       "            observer.disconnect();\n",
       "        }}\n",
       "}});\n",
       "\n",
       "// Listen for the removal of the full notebook cells\n",
       "var notebookContainer = gd.closest('#notebook-container');\n",
       "if (notebookContainer) {{\n",
       "    x.observe(notebookContainer, {childList: true});\n",
       "}}\n",
       "\n",
       "// Listen for the clearing of the current output cell\n",
       "var outputEl = gd.closest('.output');\n",
       "if (outputEl) {{\n",
       "    x.observe(outputEl, {childList: true});\n",
       "}}\n",
       "\n",
       "                        })                };                });            </script>        </div>"
      ]
     },
     "metadata": {},
     "output_type": "display_data"
    }
   ],
   "source": [
    "# doing this because plotly cannot serialize frozensets \n",
    "conf_rules[\"antecedents\"] = conf_rules[\"antecedents\"].apply(lambda x: \", \".join(sorted(x)))\n",
    "conf_rules[\"consequents\"] = conf_rules[\"consequents\"].apply(lambda x: \", \".join(sorted(x)))\n",
    "\n",
    "fig = px.scatter(conf_rules, \n",
    "                 x=\"support\", \n",
    "                 y=\"confidence\", \n",
    "                 size=\"lift\", \n",
    "                 color=\"lift\",\n",
    "                 hover_data=[\"antecedents\", \"consequents\"],\n",
    "                 title=\"Support vs Confidence\")\n",
    "\n",
    "fig.write_html(\"supvsconf.html\")\n",
    "fig.show()\n"
   ]
  },
  {
   "cell_type": "code",
   "execution_count": 115,
   "id": "5b1fe7d7",
   "metadata": {},
   "outputs": [
    {
     "data": {
      "application/vnd.plotly.v1+json": {
       "config": {
        "plotlyServerURL": "https://plot.ly"
       },
       "data": [
        {
         "hoverinfo": "none",
         "line": {
          "color": "#888",
          "width": 1
         },
         "mode": "lines",
         "type": "scatter",
         "x": [
          -0.18542568881725235,
          -0.15304405802579532,
          null,
          -0.18542568881725235,
          0.3215147822834065,
          null,
          -0.18542568881725235,
          -0.3726817271453247,
          null,
          -0.15304405802579532,
          -0.18542568881725235,
          null,
          -0.15304405802579532,
          0.3215147822834065,
          null,
          -0.15304405802579532,
          -0.5537139768311226,
          null,
          0.3215147822834065,
          -0.15304405802579532,
          null,
          0.3215147822834065,
          -0.18542568881725235,
          null,
          0.3215147822834065,
          0.9433506685360878,
          null,
          -0.5537139768311226,
          -0.15304405802579532,
          null,
          -0.3726817271453247,
          -0.18542568881725235,
          null,
          0.9433506685360878,
          0.3215147822834065,
          null
         ],
         "y": [
          0.14227887895692898,
          -0.43086374107385356,
          null,
          0.14227887895692898,
          0.12414766289977111,
          null,
          0.14227887895692898,
          0.7537583885143152,
          null,
          -0.43086374107385356,
          0.14227887895692898,
          null,
          -0.43086374107385356,
          0.12414766289977111,
          null,
          -0.43086374107385356,
          -1,
          null,
          0.12414766289977111,
          -0.43086374107385356,
          null,
          0.12414766289977111,
          0.14227887895692898,
          null,
          0.12414766289977111,
          0.41067881070283857,
          null,
          -1,
          -0.43086374107385356,
          null,
          0.7537583885143152,
          0.14227887895692898,
          null,
          0.41067881070283857,
          0.12414766289977111,
          null
         ]
        },
        {
         "hoverinfo": "text",
         "marker": {
          "color": "lightblue",
          "size": 10
         },
         "mode": "markers+text",
         "text": [
          "Ruminococcus",
          "Bacteroides",
          "Oscillospira",
          "Oscillospira, Ruminococcus",
          "Oscillospira, Bacteroides",
          "Ruminococcus, Bacteroides"
         ],
         "type": "scatter",
         "x": [
          -0.18542568881725235,
          -0.15304405802579532,
          0.3215147822834065,
          -0.5537139768311226,
          -0.3726817271453247,
          0.9433506685360878
         ],
         "y": [
          0.14227887895692898,
          -0.43086374107385356,
          0.12414766289977111,
          -1,
          0.7537583885143152,
          0.41067881070283857
         ]
        }
       ],
       "layout": {
        "showlegend": false,
        "template": {
         "data": {
          "bar": [
           {
            "error_x": {
             "color": "#2a3f5f"
            },
            "error_y": {
             "color": "#2a3f5f"
            },
            "marker": {
             "line": {
              "color": "#E5ECF6",
              "width": 0.5
             },
             "pattern": {
              "fillmode": "overlay",
              "size": 10,
              "solidity": 0.2
             }
            },
            "type": "bar"
           }
          ],
          "barpolar": [
           {
            "marker": {
             "line": {
              "color": "#E5ECF6",
              "width": 0.5
             },
             "pattern": {
              "fillmode": "overlay",
              "size": 10,
              "solidity": 0.2
             }
            },
            "type": "barpolar"
           }
          ],
          "carpet": [
           {
            "aaxis": {
             "endlinecolor": "#2a3f5f",
             "gridcolor": "white",
             "linecolor": "white",
             "minorgridcolor": "white",
             "startlinecolor": "#2a3f5f"
            },
            "baxis": {
             "endlinecolor": "#2a3f5f",
             "gridcolor": "white",
             "linecolor": "white",
             "minorgridcolor": "white",
             "startlinecolor": "#2a3f5f"
            },
            "type": "carpet"
           }
          ],
          "choropleth": [
           {
            "colorbar": {
             "outlinewidth": 0,
             "ticks": ""
            },
            "type": "choropleth"
           }
          ],
          "contour": [
           {
            "colorbar": {
             "outlinewidth": 0,
             "ticks": ""
            },
            "colorscale": [
             [
              0,
              "#0d0887"
             ],
             [
              0.1111111111111111,
              "#46039f"
             ],
             [
              0.2222222222222222,
              "#7201a8"
             ],
             [
              0.3333333333333333,
              "#9c179e"
             ],
             [
              0.4444444444444444,
              "#bd3786"
             ],
             [
              0.5555555555555556,
              "#d8576b"
             ],
             [
              0.6666666666666666,
              "#ed7953"
             ],
             [
              0.7777777777777778,
              "#fb9f3a"
             ],
             [
              0.8888888888888888,
              "#fdca26"
             ],
             [
              1,
              "#f0f921"
             ]
            ],
            "type": "contour"
           }
          ],
          "contourcarpet": [
           {
            "colorbar": {
             "outlinewidth": 0,
             "ticks": ""
            },
            "type": "contourcarpet"
           }
          ],
          "heatmap": [
           {
            "colorbar": {
             "outlinewidth": 0,
             "ticks": ""
            },
            "colorscale": [
             [
              0,
              "#0d0887"
             ],
             [
              0.1111111111111111,
              "#46039f"
             ],
             [
              0.2222222222222222,
              "#7201a8"
             ],
             [
              0.3333333333333333,
              "#9c179e"
             ],
             [
              0.4444444444444444,
              "#bd3786"
             ],
             [
              0.5555555555555556,
              "#d8576b"
             ],
             [
              0.6666666666666666,
              "#ed7953"
             ],
             [
              0.7777777777777778,
              "#fb9f3a"
             ],
             [
              0.8888888888888888,
              "#fdca26"
             ],
             [
              1,
              "#f0f921"
             ]
            ],
            "type": "heatmap"
           }
          ],
          "heatmapgl": [
           {
            "colorbar": {
             "outlinewidth": 0,
             "ticks": ""
            },
            "colorscale": [
             [
              0,
              "#0d0887"
             ],
             [
              0.1111111111111111,
              "#46039f"
             ],
             [
              0.2222222222222222,
              "#7201a8"
             ],
             [
              0.3333333333333333,
              "#9c179e"
             ],
             [
              0.4444444444444444,
              "#bd3786"
             ],
             [
              0.5555555555555556,
              "#d8576b"
             ],
             [
              0.6666666666666666,
              "#ed7953"
             ],
             [
              0.7777777777777778,
              "#fb9f3a"
             ],
             [
              0.8888888888888888,
              "#fdca26"
             ],
             [
              1,
              "#f0f921"
             ]
            ],
            "type": "heatmapgl"
           }
          ],
          "histogram": [
           {
            "marker": {
             "pattern": {
              "fillmode": "overlay",
              "size": 10,
              "solidity": 0.2
             }
            },
            "type": "histogram"
           }
          ],
          "histogram2d": [
           {
            "colorbar": {
             "outlinewidth": 0,
             "ticks": ""
            },
            "colorscale": [
             [
              0,
              "#0d0887"
             ],
             [
              0.1111111111111111,
              "#46039f"
             ],
             [
              0.2222222222222222,
              "#7201a8"
             ],
             [
              0.3333333333333333,
              "#9c179e"
             ],
             [
              0.4444444444444444,
              "#bd3786"
             ],
             [
              0.5555555555555556,
              "#d8576b"
             ],
             [
              0.6666666666666666,
              "#ed7953"
             ],
             [
              0.7777777777777778,
              "#fb9f3a"
             ],
             [
              0.8888888888888888,
              "#fdca26"
             ],
             [
              1,
              "#f0f921"
             ]
            ],
            "type": "histogram2d"
           }
          ],
          "histogram2dcontour": [
           {
            "colorbar": {
             "outlinewidth": 0,
             "ticks": ""
            },
            "colorscale": [
             [
              0,
              "#0d0887"
             ],
             [
              0.1111111111111111,
              "#46039f"
             ],
             [
              0.2222222222222222,
              "#7201a8"
             ],
             [
              0.3333333333333333,
              "#9c179e"
             ],
             [
              0.4444444444444444,
              "#bd3786"
             ],
             [
              0.5555555555555556,
              "#d8576b"
             ],
             [
              0.6666666666666666,
              "#ed7953"
             ],
             [
              0.7777777777777778,
              "#fb9f3a"
             ],
             [
              0.8888888888888888,
              "#fdca26"
             ],
             [
              1,
              "#f0f921"
             ]
            ],
            "type": "histogram2dcontour"
           }
          ],
          "mesh3d": [
           {
            "colorbar": {
             "outlinewidth": 0,
             "ticks": ""
            },
            "type": "mesh3d"
           }
          ],
          "parcoords": [
           {
            "line": {
             "colorbar": {
              "outlinewidth": 0,
              "ticks": ""
             }
            },
            "type": "parcoords"
           }
          ],
          "pie": [
           {
            "automargin": true,
            "type": "pie"
           }
          ],
          "scatter": [
           {
            "fillpattern": {
             "fillmode": "overlay",
             "size": 10,
             "solidity": 0.2
            },
            "type": "scatter"
           }
          ],
          "scatter3d": [
           {
            "line": {
             "colorbar": {
              "outlinewidth": 0,
              "ticks": ""
             }
            },
            "marker": {
             "colorbar": {
              "outlinewidth": 0,
              "ticks": ""
             }
            },
            "type": "scatter3d"
           }
          ],
          "scattercarpet": [
           {
            "marker": {
             "colorbar": {
              "outlinewidth": 0,
              "ticks": ""
             }
            },
            "type": "scattercarpet"
           }
          ],
          "scattergeo": [
           {
            "marker": {
             "colorbar": {
              "outlinewidth": 0,
              "ticks": ""
             }
            },
            "type": "scattergeo"
           }
          ],
          "scattergl": [
           {
            "marker": {
             "colorbar": {
              "outlinewidth": 0,
              "ticks": ""
             }
            },
            "type": "scattergl"
           }
          ],
          "scattermapbox": [
           {
            "marker": {
             "colorbar": {
              "outlinewidth": 0,
              "ticks": ""
             }
            },
            "type": "scattermapbox"
           }
          ],
          "scatterpolar": [
           {
            "marker": {
             "colorbar": {
              "outlinewidth": 0,
              "ticks": ""
             }
            },
            "type": "scatterpolar"
           }
          ],
          "scatterpolargl": [
           {
            "marker": {
             "colorbar": {
              "outlinewidth": 0,
              "ticks": ""
             }
            },
            "type": "scatterpolargl"
           }
          ],
          "scatterternary": [
           {
            "marker": {
             "colorbar": {
              "outlinewidth": 0,
              "ticks": ""
             }
            },
            "type": "scatterternary"
           }
          ],
          "surface": [
           {
            "colorbar": {
             "outlinewidth": 0,
             "ticks": ""
            },
            "colorscale": [
             [
              0,
              "#0d0887"
             ],
             [
              0.1111111111111111,
              "#46039f"
             ],
             [
              0.2222222222222222,
              "#7201a8"
             ],
             [
              0.3333333333333333,
              "#9c179e"
             ],
             [
              0.4444444444444444,
              "#bd3786"
             ],
             [
              0.5555555555555556,
              "#d8576b"
             ],
             [
              0.6666666666666666,
              "#ed7953"
             ],
             [
              0.7777777777777778,
              "#fb9f3a"
             ],
             [
              0.8888888888888888,
              "#fdca26"
             ],
             [
              1,
              "#f0f921"
             ]
            ],
            "type": "surface"
           }
          ],
          "table": [
           {
            "cells": {
             "fill": {
              "color": "#EBF0F8"
             },
             "line": {
              "color": "white"
             }
            },
            "header": {
             "fill": {
              "color": "#C8D4E3"
             },
             "line": {
              "color": "white"
             }
            },
            "type": "table"
           }
          ]
         },
         "layout": {
          "annotationdefaults": {
           "arrowcolor": "#2a3f5f",
           "arrowhead": 0,
           "arrowwidth": 1
          },
          "autotypenumbers": "strict",
          "coloraxis": {
           "colorbar": {
            "outlinewidth": 0,
            "ticks": ""
           }
          },
          "colorscale": {
           "diverging": [
            [
             0,
             "#8e0152"
            ],
            [
             0.1,
             "#c51b7d"
            ],
            [
             0.2,
             "#de77ae"
            ],
            [
             0.3,
             "#f1b6da"
            ],
            [
             0.4,
             "#fde0ef"
            ],
            [
             0.5,
             "#f7f7f7"
            ],
            [
             0.6,
             "#e6f5d0"
            ],
            [
             0.7,
             "#b8e186"
            ],
            [
             0.8,
             "#7fbc41"
            ],
            [
             0.9,
             "#4d9221"
            ],
            [
             1,
             "#276419"
            ]
           ],
           "sequential": [
            [
             0,
             "#0d0887"
            ],
            [
             0.1111111111111111,
             "#46039f"
            ],
            [
             0.2222222222222222,
             "#7201a8"
            ],
            [
             0.3333333333333333,
             "#9c179e"
            ],
            [
             0.4444444444444444,
             "#bd3786"
            ],
            [
             0.5555555555555556,
             "#d8576b"
            ],
            [
             0.6666666666666666,
             "#ed7953"
            ],
            [
             0.7777777777777778,
             "#fb9f3a"
            ],
            [
             0.8888888888888888,
             "#fdca26"
            ],
            [
             1,
             "#f0f921"
            ]
           ],
           "sequentialminus": [
            [
             0,
             "#0d0887"
            ],
            [
             0.1111111111111111,
             "#46039f"
            ],
            [
             0.2222222222222222,
             "#7201a8"
            ],
            [
             0.3333333333333333,
             "#9c179e"
            ],
            [
             0.4444444444444444,
             "#bd3786"
            ],
            [
             0.5555555555555556,
             "#d8576b"
            ],
            [
             0.6666666666666666,
             "#ed7953"
            ],
            [
             0.7777777777777778,
             "#fb9f3a"
            ],
            [
             0.8888888888888888,
             "#fdca26"
            ],
            [
             1,
             "#f0f921"
            ]
           ]
          },
          "colorway": [
           "#636efa",
           "#EF553B",
           "#00cc96",
           "#ab63fa",
           "#FFA15A",
           "#19d3f3",
           "#FF6692",
           "#B6E880",
           "#FF97FF",
           "#FECB52"
          ],
          "font": {
           "color": "#2a3f5f"
          },
          "geo": {
           "bgcolor": "white",
           "lakecolor": "white",
           "landcolor": "#E5ECF6",
           "showlakes": true,
           "showland": true,
           "subunitcolor": "white"
          },
          "hoverlabel": {
           "align": "left"
          },
          "hovermode": "closest",
          "mapbox": {
           "style": "light"
          },
          "paper_bgcolor": "white",
          "plot_bgcolor": "#E5ECF6",
          "polar": {
           "angularaxis": {
            "gridcolor": "white",
            "linecolor": "white",
            "ticks": ""
           },
           "bgcolor": "#E5ECF6",
           "radialaxis": {
            "gridcolor": "white",
            "linecolor": "white",
            "ticks": ""
           }
          },
          "scene": {
           "xaxis": {
            "backgroundcolor": "#E5ECF6",
            "gridcolor": "white",
            "gridwidth": 2,
            "linecolor": "white",
            "showbackground": true,
            "ticks": "",
            "zerolinecolor": "white"
           },
           "yaxis": {
            "backgroundcolor": "#E5ECF6",
            "gridcolor": "white",
            "gridwidth": 2,
            "linecolor": "white",
            "showbackground": true,
            "ticks": "",
            "zerolinecolor": "white"
           },
           "zaxis": {
            "backgroundcolor": "#E5ECF6",
            "gridcolor": "white",
            "gridwidth": 2,
            "linecolor": "white",
            "showbackground": true,
            "ticks": "",
            "zerolinecolor": "white"
           }
          },
          "shapedefaults": {
           "line": {
            "color": "#2a3f5f"
           }
          },
          "ternary": {
           "aaxis": {
            "gridcolor": "white",
            "linecolor": "white",
            "ticks": ""
           },
           "baxis": {
            "gridcolor": "white",
            "linecolor": "white",
            "ticks": ""
           },
           "bgcolor": "#E5ECF6",
           "caxis": {
            "gridcolor": "white",
            "linecolor": "white",
            "ticks": ""
           }
          },
          "title": {
           "x": 0.05
          },
          "xaxis": {
           "automargin": true,
           "gridcolor": "white",
           "linecolor": "white",
           "ticks": "",
           "title": {
            "standoff": 15
           },
           "zerolinecolor": "white",
           "zerolinewidth": 2
          },
          "yaxis": {
           "automargin": true,
           "gridcolor": "white",
           "linecolor": "white",
           "ticks": "",
           "title": {
            "standoff": 15
           },
           "zerolinecolor": "white",
           "zerolinewidth": 2
          }
         }
        },
        "title": {
         "text": "Association Rule Network Graph"
        }
       }
      },
      "text/html": [
       "<div>                            <div id=\"6919b833-ad94-47f7-bc25-37d2d9847550\" class=\"plotly-graph-div\" style=\"height:525px; width:100%;\"></div>            <script type=\"text/javascript\">                require([\"plotly\"], function(Plotly) {                    window.PLOTLYENV=window.PLOTLYENV || {};                                    if (document.getElementById(\"6919b833-ad94-47f7-bc25-37d2d9847550\")) {                    Plotly.newPlot(                        \"6919b833-ad94-47f7-bc25-37d2d9847550\",                        [{\"hoverinfo\":\"none\",\"line\":{\"color\":\"#888\",\"width\":1},\"mode\":\"lines\",\"x\":[-0.18542568881725235,-0.15304405802579532,null,-0.18542568881725235,0.3215147822834065,null,-0.18542568881725235,-0.3726817271453247,null,-0.15304405802579532,-0.18542568881725235,null,-0.15304405802579532,0.3215147822834065,null,-0.15304405802579532,-0.5537139768311226,null,0.3215147822834065,-0.15304405802579532,null,0.3215147822834065,-0.18542568881725235,null,0.3215147822834065,0.9433506685360878,null,-0.5537139768311226,-0.15304405802579532,null,-0.3726817271453247,-0.18542568881725235,null,0.9433506685360878,0.3215147822834065,null],\"y\":[0.14227887895692898,-0.43086374107385356,null,0.14227887895692898,0.12414766289977111,null,0.14227887895692898,0.7537583885143152,null,-0.43086374107385356,0.14227887895692898,null,-0.43086374107385356,0.12414766289977111,null,-0.43086374107385356,-1.0,null,0.12414766289977111,-0.43086374107385356,null,0.12414766289977111,0.14227887895692898,null,0.12414766289977111,0.41067881070283857,null,-1.0,-0.43086374107385356,null,0.7537583885143152,0.14227887895692898,null,0.41067881070283857,0.12414766289977111,null],\"type\":\"scatter\"},{\"hoverinfo\":\"text\",\"marker\":{\"color\":\"lightblue\",\"size\":10},\"mode\":\"markers+text\",\"text\":[\"Ruminococcus\",\"Bacteroides\",\"Oscillospira\",\"Oscillospira, Ruminococcus\",\"Oscillospira, Bacteroides\",\"Ruminococcus, Bacteroides\"],\"x\":[-0.18542568881725235,-0.15304405802579532,0.3215147822834065,-0.5537139768311226,-0.3726817271453247,0.9433506685360878],\"y\":[0.14227887895692898,-0.43086374107385356,0.12414766289977111,-1.0,0.7537583885143152,0.41067881070283857],\"type\":\"scatter\"}],                        {\"template\":{\"data\":{\"histogram2dcontour\":[{\"type\":\"histogram2dcontour\",\"colorbar\":{\"outlinewidth\":0,\"ticks\":\"\"},\"colorscale\":[[0.0,\"#0d0887\"],[0.1111111111111111,\"#46039f\"],[0.2222222222222222,\"#7201a8\"],[0.3333333333333333,\"#9c179e\"],[0.4444444444444444,\"#bd3786\"],[0.5555555555555556,\"#d8576b\"],[0.6666666666666666,\"#ed7953\"],[0.7777777777777778,\"#fb9f3a\"],[0.8888888888888888,\"#fdca26\"],[1.0,\"#f0f921\"]]}],\"choropleth\":[{\"type\":\"choropleth\",\"colorbar\":{\"outlinewidth\":0,\"ticks\":\"\"}}],\"histogram2d\":[{\"type\":\"histogram2d\",\"colorbar\":{\"outlinewidth\":0,\"ticks\":\"\"},\"colorscale\":[[0.0,\"#0d0887\"],[0.1111111111111111,\"#46039f\"],[0.2222222222222222,\"#7201a8\"],[0.3333333333333333,\"#9c179e\"],[0.4444444444444444,\"#bd3786\"],[0.5555555555555556,\"#d8576b\"],[0.6666666666666666,\"#ed7953\"],[0.7777777777777778,\"#fb9f3a\"],[0.8888888888888888,\"#fdca26\"],[1.0,\"#f0f921\"]]}],\"heatmap\":[{\"type\":\"heatmap\",\"colorbar\":{\"outlinewidth\":0,\"ticks\":\"\"},\"colorscale\":[[0.0,\"#0d0887\"],[0.1111111111111111,\"#46039f\"],[0.2222222222222222,\"#7201a8\"],[0.3333333333333333,\"#9c179e\"],[0.4444444444444444,\"#bd3786\"],[0.5555555555555556,\"#d8576b\"],[0.6666666666666666,\"#ed7953\"],[0.7777777777777778,\"#fb9f3a\"],[0.8888888888888888,\"#fdca26\"],[1.0,\"#f0f921\"]]}],\"heatmapgl\":[{\"type\":\"heatmapgl\",\"colorbar\":{\"outlinewidth\":0,\"ticks\":\"\"},\"colorscale\":[[0.0,\"#0d0887\"],[0.1111111111111111,\"#46039f\"],[0.2222222222222222,\"#7201a8\"],[0.3333333333333333,\"#9c179e\"],[0.4444444444444444,\"#bd3786\"],[0.5555555555555556,\"#d8576b\"],[0.6666666666666666,\"#ed7953\"],[0.7777777777777778,\"#fb9f3a\"],[0.8888888888888888,\"#fdca26\"],[1.0,\"#f0f921\"]]}],\"contourcarpet\":[{\"type\":\"contourcarpet\",\"colorbar\":{\"outlinewidth\":0,\"ticks\":\"\"}}],\"contour\":[{\"type\":\"contour\",\"colorbar\":{\"outlinewidth\":0,\"ticks\":\"\"},\"colorscale\":[[0.0,\"#0d0887\"],[0.1111111111111111,\"#46039f\"],[0.2222222222222222,\"#7201a8\"],[0.3333333333333333,\"#9c179e\"],[0.4444444444444444,\"#bd3786\"],[0.5555555555555556,\"#d8576b\"],[0.6666666666666666,\"#ed7953\"],[0.7777777777777778,\"#fb9f3a\"],[0.8888888888888888,\"#fdca26\"],[1.0,\"#f0f921\"]]}],\"surface\":[{\"type\":\"surface\",\"colorbar\":{\"outlinewidth\":0,\"ticks\":\"\"},\"colorscale\":[[0.0,\"#0d0887\"],[0.1111111111111111,\"#46039f\"],[0.2222222222222222,\"#7201a8\"],[0.3333333333333333,\"#9c179e\"],[0.4444444444444444,\"#bd3786\"],[0.5555555555555556,\"#d8576b\"],[0.6666666666666666,\"#ed7953\"],[0.7777777777777778,\"#fb9f3a\"],[0.8888888888888888,\"#fdca26\"],[1.0,\"#f0f921\"]]}],\"mesh3d\":[{\"type\":\"mesh3d\",\"colorbar\":{\"outlinewidth\":0,\"ticks\":\"\"}}],\"scatter\":[{\"fillpattern\":{\"fillmode\":\"overlay\",\"size\":10,\"solidity\":0.2},\"type\":\"scatter\"}],\"parcoords\":[{\"type\":\"parcoords\",\"line\":{\"colorbar\":{\"outlinewidth\":0,\"ticks\":\"\"}}}],\"scatterpolargl\":[{\"type\":\"scatterpolargl\",\"marker\":{\"colorbar\":{\"outlinewidth\":0,\"ticks\":\"\"}}}],\"bar\":[{\"error_x\":{\"color\":\"#2a3f5f\"},\"error_y\":{\"color\":\"#2a3f5f\"},\"marker\":{\"line\":{\"color\":\"#E5ECF6\",\"width\":0.5},\"pattern\":{\"fillmode\":\"overlay\",\"size\":10,\"solidity\":0.2}},\"type\":\"bar\"}],\"scattergeo\":[{\"type\":\"scattergeo\",\"marker\":{\"colorbar\":{\"outlinewidth\":0,\"ticks\":\"\"}}}],\"scatterpolar\":[{\"type\":\"scatterpolar\",\"marker\":{\"colorbar\":{\"outlinewidth\":0,\"ticks\":\"\"}}}],\"histogram\":[{\"marker\":{\"pattern\":{\"fillmode\":\"overlay\",\"size\":10,\"solidity\":0.2}},\"type\":\"histogram\"}],\"scattergl\":[{\"type\":\"scattergl\",\"marker\":{\"colorbar\":{\"outlinewidth\":0,\"ticks\":\"\"}}}],\"scatter3d\":[{\"type\":\"scatter3d\",\"line\":{\"colorbar\":{\"outlinewidth\":0,\"ticks\":\"\"}},\"marker\":{\"colorbar\":{\"outlinewidth\":0,\"ticks\":\"\"}}}],\"scattermapbox\":[{\"type\":\"scattermapbox\",\"marker\":{\"colorbar\":{\"outlinewidth\":0,\"ticks\":\"\"}}}],\"scatterternary\":[{\"type\":\"scatterternary\",\"marker\":{\"colorbar\":{\"outlinewidth\":0,\"ticks\":\"\"}}}],\"scattercarpet\":[{\"type\":\"scattercarpet\",\"marker\":{\"colorbar\":{\"outlinewidth\":0,\"ticks\":\"\"}}}],\"carpet\":[{\"aaxis\":{\"endlinecolor\":\"#2a3f5f\",\"gridcolor\":\"white\",\"linecolor\":\"white\",\"minorgridcolor\":\"white\",\"startlinecolor\":\"#2a3f5f\"},\"baxis\":{\"endlinecolor\":\"#2a3f5f\",\"gridcolor\":\"white\",\"linecolor\":\"white\",\"minorgridcolor\":\"white\",\"startlinecolor\":\"#2a3f5f\"},\"type\":\"carpet\"}],\"table\":[{\"cells\":{\"fill\":{\"color\":\"#EBF0F8\"},\"line\":{\"color\":\"white\"}},\"header\":{\"fill\":{\"color\":\"#C8D4E3\"},\"line\":{\"color\":\"white\"}},\"type\":\"table\"}],\"barpolar\":[{\"marker\":{\"line\":{\"color\":\"#E5ECF6\",\"width\":0.5},\"pattern\":{\"fillmode\":\"overlay\",\"size\":10,\"solidity\":0.2}},\"type\":\"barpolar\"}],\"pie\":[{\"automargin\":true,\"type\":\"pie\"}]},\"layout\":{\"autotypenumbers\":\"strict\",\"colorway\":[\"#636efa\",\"#EF553B\",\"#00cc96\",\"#ab63fa\",\"#FFA15A\",\"#19d3f3\",\"#FF6692\",\"#B6E880\",\"#FF97FF\",\"#FECB52\"],\"font\":{\"color\":\"#2a3f5f\"},\"hovermode\":\"closest\",\"hoverlabel\":{\"align\":\"left\"},\"paper_bgcolor\":\"white\",\"plot_bgcolor\":\"#E5ECF6\",\"polar\":{\"bgcolor\":\"#E5ECF6\",\"angularaxis\":{\"gridcolor\":\"white\",\"linecolor\":\"white\",\"ticks\":\"\"},\"radialaxis\":{\"gridcolor\":\"white\",\"linecolor\":\"white\",\"ticks\":\"\"}},\"ternary\":{\"bgcolor\":\"#E5ECF6\",\"aaxis\":{\"gridcolor\":\"white\",\"linecolor\":\"white\",\"ticks\":\"\"},\"baxis\":{\"gridcolor\":\"white\",\"linecolor\":\"white\",\"ticks\":\"\"},\"caxis\":{\"gridcolor\":\"white\",\"linecolor\":\"white\",\"ticks\":\"\"}},\"coloraxis\":{\"colorbar\":{\"outlinewidth\":0,\"ticks\":\"\"}},\"colorscale\":{\"sequential\":[[0.0,\"#0d0887\"],[0.1111111111111111,\"#46039f\"],[0.2222222222222222,\"#7201a8\"],[0.3333333333333333,\"#9c179e\"],[0.4444444444444444,\"#bd3786\"],[0.5555555555555556,\"#d8576b\"],[0.6666666666666666,\"#ed7953\"],[0.7777777777777778,\"#fb9f3a\"],[0.8888888888888888,\"#fdca26\"],[1.0,\"#f0f921\"]],\"sequentialminus\":[[0.0,\"#0d0887\"],[0.1111111111111111,\"#46039f\"],[0.2222222222222222,\"#7201a8\"],[0.3333333333333333,\"#9c179e\"],[0.4444444444444444,\"#bd3786\"],[0.5555555555555556,\"#d8576b\"],[0.6666666666666666,\"#ed7953\"],[0.7777777777777778,\"#fb9f3a\"],[0.8888888888888888,\"#fdca26\"],[1.0,\"#f0f921\"]],\"diverging\":[[0,\"#8e0152\"],[0.1,\"#c51b7d\"],[0.2,\"#de77ae\"],[0.3,\"#f1b6da\"],[0.4,\"#fde0ef\"],[0.5,\"#f7f7f7\"],[0.6,\"#e6f5d0\"],[0.7,\"#b8e186\"],[0.8,\"#7fbc41\"],[0.9,\"#4d9221\"],[1,\"#276419\"]]},\"xaxis\":{\"gridcolor\":\"white\",\"linecolor\":\"white\",\"ticks\":\"\",\"title\":{\"standoff\":15},\"zerolinecolor\":\"white\",\"automargin\":true,\"zerolinewidth\":2},\"yaxis\":{\"gridcolor\":\"white\",\"linecolor\":\"white\",\"ticks\":\"\",\"title\":{\"standoff\":15},\"zerolinecolor\":\"white\",\"automargin\":true,\"zerolinewidth\":2},\"scene\":{\"xaxis\":{\"backgroundcolor\":\"#E5ECF6\",\"gridcolor\":\"white\",\"linecolor\":\"white\",\"showbackground\":true,\"ticks\":\"\",\"zerolinecolor\":\"white\",\"gridwidth\":2},\"yaxis\":{\"backgroundcolor\":\"#E5ECF6\",\"gridcolor\":\"white\",\"linecolor\":\"white\",\"showbackground\":true,\"ticks\":\"\",\"zerolinecolor\":\"white\",\"gridwidth\":2},\"zaxis\":{\"backgroundcolor\":\"#E5ECF6\",\"gridcolor\":\"white\",\"linecolor\":\"white\",\"showbackground\":true,\"ticks\":\"\",\"zerolinecolor\":\"white\",\"gridwidth\":2}},\"shapedefaults\":{\"line\":{\"color\":\"#2a3f5f\"}},\"annotationdefaults\":{\"arrowcolor\":\"#2a3f5f\",\"arrowhead\":0,\"arrowwidth\":1},\"geo\":{\"bgcolor\":\"white\",\"landcolor\":\"#E5ECF6\",\"subunitcolor\":\"white\",\"showland\":true,\"showlakes\":true,\"lakecolor\":\"white\"},\"title\":{\"x\":0.05},\"mapbox\":{\"style\":\"light\"}}},\"showlegend\":false,\"title\":{\"text\":\"Association Rule Network Graph\"}},                        {\"responsive\": true}                    ).then(function(){\n",
       "                            \n",
       "var gd = document.getElementById('6919b833-ad94-47f7-bc25-37d2d9847550');\n",
       "var x = new MutationObserver(function (mutations, observer) {{\n",
       "        var display = window.getComputedStyle(gd).display;\n",
       "        if (!display || display === 'none') {{\n",
       "            console.log([gd, 'removed!']);\n",
       "            Plotly.purge(gd);\n",
       "            observer.disconnect();\n",
       "        }}\n",
       "}});\n",
       "\n",
       "// Listen for the removal of the full notebook cells\n",
       "var notebookContainer = gd.closest('#notebook-container');\n",
       "if (notebookContainer) {{\n",
       "    x.observe(notebookContainer, {childList: true});\n",
       "}}\n",
       "\n",
       "// Listen for the clearing of the current output cell\n",
       "var outputEl = gd.closest('.output');\n",
       "if (outputEl) {{\n",
       "    x.observe(outputEl, {childList: true});\n",
       "}}\n",
       "\n",
       "                        })                };                });            </script>        </div>"
      ]
     },
     "metadata": {},
     "output_type": "display_data"
    }
   ],
   "source": [
    "\n",
    "# Create a directed graph\n",
    "G = nx.DiGraph()\n",
    "\n",
    "# Add edges\n",
    "for _, row in conf_rules.iterrows():\n",
    "    G.add_edge(\", \".join(row[\"antecedents\"]), \", \".join(row[\"consequents\"]), weight=row[\"confidence\"])\n",
    "\n",
    "# Get positions\n",
    "pos = nx.spring_layout(G, k=0.5)\n",
    "\n",
    "# Create edge traces\n",
    "edge_x, edge_y = [], []\n",
    "for edge in G.edges(data=True):\n",
    "    x0, y0 = pos[edge[0]]\n",
    "    x1, y1 = pos[edge[1]]\n",
    "    edge_x.extend([x0, x1, None])\n",
    "    edge_y.extend([y0, y1, None])\n",
    "\n",
    "edge_trace = go.Scatter(x=edge_x, y=edge_y, line=dict(width=1, color='#888'),\n",
    "                         hoverinfo='none', mode='lines')\n",
    "\n",
    "# Create node traces\n",
    "node_x, node_y, text = [], [], []\n",
    "for node in G.nodes():\n",
    "    x, y = pos[node]\n",
    "    node_x.append(x)\n",
    "    node_y.append(y)\n",
    "    text.append(node)\n",
    "\n",
    "node_trace = go.Scatter(x=node_x, y=node_y, mode='markers+text', \n",
    "                        marker=dict(size=10, color='lightblue'),\n",
    "                        text=text, hoverinfo=\"text\")\n",
    "\n",
    "# Create figure\n",
    "fig = go.Figure(data=[edge_trace, node_trace])\n",
    "fig.update_layout(showlegend=False, title=\"Association Rule Network Graph\")\n",
    "fig.write_image(\"networkgraph.jpg\")\n",
    "fig.show()\n"
   ]
  },
  {
   "cell_type": "code",
   "execution_count": 24,
   "id": "a0cc9e4a",
   "metadata": {},
   "outputs": [
    {
     "name": "stderr",
     "output_type": "stream",
     "text": [
      "/var/folders/gw/6zvc4vx95yx8vrymkvc5m8zm0000gn/T/ipykernel_3458/1292819354.py:5: FutureWarning:\n",
      "\n",
      "\n",
      "\n",
      "Passing `palette` without assigning `hue` is deprecated and will be removed in v0.14.0. Assign the `x` variable to `hue` and set `legend=False` for the same effect.\n",
      "\n",
      "\n"
     ]
    },
    {
     "data": {
      "image/png": "[encoded data removed]",
      "text/plain": [
       "<Figure size 1000x600 with 1 Axes>"
      ]
     },
     "metadata": {},
     "output_type": "display_data"
    }
   ],
   "source": [
    "item_frequencies = ohe_df.sum(axis=0) / len(ohe_df)  # relative frequencies\n",
    "item_frequencies_sorted = item_frequencies.sort_values(ascending=False).head(20)\n",
    "\n",
    "plt.figure(figsize=(10, 6))\n",
    "sns.barplot(x=item_frequencies_sorted.index, y=item_frequencies_sorted.values, palette=\"Pastel2\")\n",
    "plt.title(\"Relative Item Frequency Plot\")\n",
    "plt.ylabel(\"Item Frequency (Relative)\")\n",
    "plt.xticks(rotation=90)\n",
    "plt.show()"
   ]
  },
  {
   "cell_type": "code",
   "execution_count": null,
   "id": "f4809cc6",
   "metadata": {},
   "outputs": [],
   "source": []
  }
 ],
 "metadata": {
  "kernelspec": {
   "display_name": "Python 3 (ipykernel)",
   "language": "python",
   "name": "python3"
  },
  "language_info": {
   "codemirror_mode": {
    "name": "ipython",
    "version": 3
   },
   "file_extension": ".py",
   "mimetype": "text/x-python",
   "name": "python",
   "nbconvert_exporter": "python",
   "pygments_lexer": "ipython3",
   "version": "3.11.5"
  }
 },
 "nbformat": 4,
 "nbformat_minor": 5
}
