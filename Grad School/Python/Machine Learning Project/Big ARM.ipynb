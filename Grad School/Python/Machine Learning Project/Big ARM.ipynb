{
 "cells": [
  {
   "cell_type": "code",
   "execution_count": 1,
   "id": "19508f73",
   "metadata": {},
   "outputs": [],
   "source": [
    "import pandas as pd\n",
    "from mlxtend.frequent_patterns import apriori, association_rules, fpgrowth\n",
    "from matplotlib import pyplot as plt\n",
    "import plotly.express as px\n",
    "import networkx as nx\n",
    "import plotly.graph_objects as go\n",
    "import seaborn as sns"
   ]
  },
  {
   "cell_type": "code",
   "execution_count": 2,
   "id": "e91130d4",
   "metadata": {},
   "outputs": [
    {
     "data": {
      "text/html": [
       "<div>\n",
       "<style scoped>\n",
       "    .dataframe tbody tr th:only-of-type {\n",
       "        vertical-align: middle;\n",
       "    }\n",
       "\n",
       "    .dataframe tbody tr th {\n",
       "        vertical-align: top;\n",
       "    }\n",
       "\n",
       "    .dataframe thead th {\n",
       "        text-align: right;\n",
       "    }\n",
       "</style>\n",
       "<table border=\"1\" class=\"dataframe\">\n",
       "  <thead>\n",
       "    <tr style=\"text-align: right;\">\n",
       "      <th></th>\n",
       "      <th>0</th>\n",
       "      <th>1</th>\n",
       "      <th>2</th>\n",
       "      <th>3</th>\n",
       "      <th>4</th>\n",
       "      <th>5</th>\n",
       "      <th>6</th>\n",
       "      <th>7</th>\n",
       "      <th>8</th>\n",
       "      <th>9</th>\n",
       "      <th>...</th>\n",
       "      <th>24</th>\n",
       "      <th>25</th>\n",
       "      <th>26</th>\n",
       "      <th>27</th>\n",
       "      <th>28</th>\n",
       "      <th>29</th>\n",
       "      <th>30</th>\n",
       "      <th>31</th>\n",
       "      <th>32</th>\n",
       "      <th>33</th>\n",
       "    </tr>\n",
       "  </thead>\n",
       "  <tbody>\n",
       "    <tr>\n",
       "      <th>0</th>\n",
       "      <td>Health</td>\n",
       "      <td>Alistipes</td>\n",
       "      <td>Bacteroides</td>\n",
       "      <td>Bifidobacterium</td>\n",
       "      <td>Blautia</td>\n",
       "      <td>Clostridium</td>\n",
       "      <td>Dorea</td>\n",
       "      <td>Eubacterium</td>\n",
       "      <td>Faecalibacterium</td>\n",
       "      <td>Oscillibacter</td>\n",
       "      <td>...</td>\n",
       "      <td>0</td>\n",
       "      <td>0</td>\n",
       "      <td>0</td>\n",
       "      <td>0</td>\n",
       "      <td>0</td>\n",
       "      <td>0</td>\n",
       "      <td>0</td>\n",
       "      <td>0</td>\n",
       "      <td>0</td>\n",
       "      <td>0</td>\n",
       "    </tr>\n",
       "    <tr>\n",
       "      <th>1</th>\n",
       "      <td>Health</td>\n",
       "      <td>Alistipes</td>\n",
       "      <td>Bacteroides</td>\n",
       "      <td>Bifidobacterium</td>\n",
       "      <td>Blautia</td>\n",
       "      <td>Clostridium</td>\n",
       "      <td>Dorea</td>\n",
       "      <td>Eubacterium</td>\n",
       "      <td>Faecalibacterium</td>\n",
       "      <td>Oscillibacter</td>\n",
       "      <td>...</td>\n",
       "      <td>0</td>\n",
       "      <td>0</td>\n",
       "      <td>0</td>\n",
       "      <td>0</td>\n",
       "      <td>0</td>\n",
       "      <td>0</td>\n",
       "      <td>0</td>\n",
       "      <td>0</td>\n",
       "      <td>0</td>\n",
       "      <td>0</td>\n",
       "    </tr>\n",
       "    <tr>\n",
       "      <th>2</th>\n",
       "      <td>Health</td>\n",
       "      <td>Alistipes</td>\n",
       "      <td>Bacteroides</td>\n",
       "      <td>Bifidobacterium</td>\n",
       "      <td>Blautia</td>\n",
       "      <td>Clostridium</td>\n",
       "      <td>Dorea</td>\n",
       "      <td>Eubacterium</td>\n",
       "      <td>Faecalibacterium</td>\n",
       "      <td>Oscillibacter</td>\n",
       "      <td>...</td>\n",
       "      <td>0</td>\n",
       "      <td>0</td>\n",
       "      <td>0</td>\n",
       "      <td>0</td>\n",
       "      <td>0</td>\n",
       "      <td>0</td>\n",
       "      <td>0</td>\n",
       "      <td>0</td>\n",
       "      <td>0</td>\n",
       "      <td>0</td>\n",
       "    </tr>\n",
       "    <tr>\n",
       "      <th>3</th>\n",
       "      <td>Health</td>\n",
       "      <td>Alistipes</td>\n",
       "      <td>Bacteroides</td>\n",
       "      <td>Bifidobacterium</td>\n",
       "      <td>Blautia</td>\n",
       "      <td>Clostridium</td>\n",
       "      <td>Dorea</td>\n",
       "      <td>Eubacterium</td>\n",
       "      <td>Faecalibacterium</td>\n",
       "      <td>Oscillibacter</td>\n",
       "      <td>...</td>\n",
       "      <td>0</td>\n",
       "      <td>0</td>\n",
       "      <td>0</td>\n",
       "      <td>0</td>\n",
       "      <td>0</td>\n",
       "      <td>0</td>\n",
       "      <td>0</td>\n",
       "      <td>0</td>\n",
       "      <td>0</td>\n",
       "      <td>0</td>\n",
       "    </tr>\n",
       "    <tr>\n",
       "      <th>4</th>\n",
       "      <td>Health</td>\n",
       "      <td>Alistipes</td>\n",
       "      <td>Bacteroides</td>\n",
       "      <td>Bifidobacterium</td>\n",
       "      <td>Blautia</td>\n",
       "      <td>Clostridium</td>\n",
       "      <td>Dorea</td>\n",
       "      <td>Eubacterium</td>\n",
       "      <td>Faecalibacterium</td>\n",
       "      <td>Oscillibacter</td>\n",
       "      <td>...</td>\n",
       "      <td>0</td>\n",
       "      <td>0</td>\n",
       "      <td>0</td>\n",
       "      <td>0</td>\n",
       "      <td>0</td>\n",
       "      <td>0</td>\n",
       "      <td>0</td>\n",
       "      <td>0</td>\n",
       "      <td>0</td>\n",
       "      <td>0</td>\n",
       "    </tr>\n",
       "    <tr>\n",
       "      <th>...</th>\n",
       "      <td>...</td>\n",
       "      <td>...</td>\n",
       "      <td>...</td>\n",
       "      <td>...</td>\n",
       "      <td>...</td>\n",
       "      <td>...</td>\n",
       "      <td>...</td>\n",
       "      <td>...</td>\n",
       "      <td>...</td>\n",
       "      <td>...</td>\n",
       "      <td>...</td>\n",
       "      <td>...</td>\n",
       "      <td>...</td>\n",
       "      <td>...</td>\n",
       "      <td>...</td>\n",
       "      <td>...</td>\n",
       "      <td>...</td>\n",
       "      <td>...</td>\n",
       "      <td>...</td>\n",
       "      <td>...</td>\n",
       "      <td>...</td>\n",
       "    </tr>\n",
       "    <tr>\n",
       "      <th>1603</th>\n",
       "      <td>Bipolar Disorder</td>\n",
       "      <td>Eubacterium</td>\n",
       "      <td>Oscillibacter</td>\n",
       "      <td>0</td>\n",
       "      <td>0</td>\n",
       "      <td>0</td>\n",
       "      <td>0</td>\n",
       "      <td>0</td>\n",
       "      <td>0</td>\n",
       "      <td>0</td>\n",
       "      <td>...</td>\n",
       "      <td>0</td>\n",
       "      <td>0</td>\n",
       "      <td>0</td>\n",
       "      <td>0</td>\n",
       "      <td>0</td>\n",
       "      <td>0</td>\n",
       "      <td>0</td>\n",
       "      <td>0</td>\n",
       "      <td>0</td>\n",
       "      <td>0</td>\n",
       "    </tr>\n",
       "    <tr>\n",
       "      <th>1604</th>\n",
       "      <td>Health</td>\n",
       "      <td>Bacteroides</td>\n",
       "      <td>Paraprevotella</td>\n",
       "      <td>0</td>\n",
       "      <td>0</td>\n",
       "      <td>0</td>\n",
       "      <td>0</td>\n",
       "      <td>0</td>\n",
       "      <td>0</td>\n",
       "      <td>0</td>\n",
       "      <td>...</td>\n",
       "      <td>0</td>\n",
       "      <td>0</td>\n",
       "      <td>0</td>\n",
       "      <td>0</td>\n",
       "      <td>0</td>\n",
       "      <td>0</td>\n",
       "      <td>0</td>\n",
       "      <td>0</td>\n",
       "      <td>0</td>\n",
       "      <td>0</td>\n",
       "    </tr>\n",
       "    <tr>\n",
       "      <th>1605</th>\n",
       "      <td>Bipolar Disorder</td>\n",
       "      <td>Odoribacter</td>\n",
       "      <td>0</td>\n",
       "      <td>0</td>\n",
       "      <td>0</td>\n",
       "      <td>0</td>\n",
       "      <td>0</td>\n",
       "      <td>0</td>\n",
       "      <td>0</td>\n",
       "      <td>0</td>\n",
       "      <td>...</td>\n",
       "      <td>0</td>\n",
       "      <td>0</td>\n",
       "      <td>0</td>\n",
       "      <td>0</td>\n",
       "      <td>0</td>\n",
       "      <td>0</td>\n",
       "      <td>0</td>\n",
       "      <td>0</td>\n",
       "      <td>0</td>\n",
       "      <td>0</td>\n",
       "    </tr>\n",
       "    <tr>\n",
       "      <th>1606</th>\n",
       "      <td>Bipolar Disorder</td>\n",
       "      <td>Bacteroides</td>\n",
       "      <td>Prevotella</td>\n",
       "      <td>0</td>\n",
       "      <td>0</td>\n",
       "      <td>0</td>\n",
       "      <td>0</td>\n",
       "      <td>0</td>\n",
       "      <td>0</td>\n",
       "      <td>0</td>\n",
       "      <td>...</td>\n",
       "      <td>0</td>\n",
       "      <td>0</td>\n",
       "      <td>0</td>\n",
       "      <td>0</td>\n",
       "      <td>0</td>\n",
       "      <td>0</td>\n",
       "      <td>0</td>\n",
       "      <td>0</td>\n",
       "      <td>0</td>\n",
       "      <td>0</td>\n",
       "    </tr>\n",
       "    <tr>\n",
       "      <th>1607</th>\n",
       "      <td>Bipolar Disorder</td>\n",
       "      <td>Blautia</td>\n",
       "      <td>Roseburia</td>\n",
       "      <td>0</td>\n",
       "      <td>0</td>\n",
       "      <td>0</td>\n",
       "      <td>0</td>\n",
       "      <td>0</td>\n",
       "      <td>0</td>\n",
       "      <td>0</td>\n",
       "      <td>...</td>\n",
       "      <td>0</td>\n",
       "      <td>0</td>\n",
       "      <td>0</td>\n",
       "      <td>0</td>\n",
       "      <td>0</td>\n",
       "      <td>0</td>\n",
       "      <td>0</td>\n",
       "      <td>0</td>\n",
       "      <td>0</td>\n",
       "      <td>0</td>\n",
       "    </tr>\n",
       "  </tbody>\n",
       "</table>\n",
       "<p>1608 rows × 34 columns</p>\n",
       "</div>"
      ],
      "text/plain": [
       "                     0            1               2                3        4  \\\n",
       "0               Health    Alistipes     Bacteroides  Bifidobacterium  Blautia   \n",
       "1               Health    Alistipes     Bacteroides  Bifidobacterium  Blautia   \n",
       "2               Health    Alistipes     Bacteroides  Bifidobacterium  Blautia   \n",
       "3               Health    Alistipes     Bacteroides  Bifidobacterium  Blautia   \n",
       "4               Health    Alistipes     Bacteroides  Bifidobacterium  Blautia   \n",
       "...                ...          ...             ...              ...      ...   \n",
       "1603  Bipolar Disorder  Eubacterium   Oscillibacter                0        0   \n",
       "1604            Health  Bacteroides  Paraprevotella                0        0   \n",
       "1605  Bipolar Disorder  Odoribacter               0                0        0   \n",
       "1606  Bipolar Disorder  Bacteroides      Prevotella                0        0   \n",
       "1607  Bipolar Disorder      Blautia       Roseburia                0        0   \n",
       "\n",
       "                5      6            7                 8              9  ...  \\\n",
       "0     Clostridium  Dorea  Eubacterium  Faecalibacterium  Oscillibacter  ...   \n",
       "1     Clostridium  Dorea  Eubacterium  Faecalibacterium  Oscillibacter  ...   \n",
       "2     Clostridium  Dorea  Eubacterium  Faecalibacterium  Oscillibacter  ...   \n",
       "3     Clostridium  Dorea  Eubacterium  Faecalibacterium  Oscillibacter  ...   \n",
       "4     Clostridium  Dorea  Eubacterium  Faecalibacterium  Oscillibacter  ...   \n",
       "...           ...    ...          ...               ...            ...  ...   \n",
       "1603            0      0            0                 0              0  ...   \n",
       "1604            0      0            0                 0              0  ...   \n",
       "1605            0      0            0                 0              0  ...   \n",
       "1606            0      0            0                 0              0  ...   \n",
       "1607            0      0            0                 0              0  ...   \n",
       "\n",
       "     24 25 26 27 28 29 30 31 32 33  \n",
       "0     0  0  0  0  0  0  0  0  0  0  \n",
       "1     0  0  0  0  0  0  0  0  0  0  \n",
       "2     0  0  0  0  0  0  0  0  0  0  \n",
       "3     0  0  0  0  0  0  0  0  0  0  \n",
       "4     0  0  0  0  0  0  0  0  0  0  \n",
       "...  .. .. .. .. .. .. .. .. .. ..  \n",
       "1603  0  0  0  0  0  0  0  0  0  0  \n",
       "1604  0  0  0  0  0  0  0  0  0  0  \n",
       "1605  0  0  0  0  0  0  0  0  0  0  \n",
       "1606  0  0  0  0  0  0  0  0  0  0  \n",
       "1607  0  0  0  0  0  0  0  0  0  0  \n",
       "\n",
       "[1608 rows x 34 columns]"
      ]
     },
     "execution_count": 2,
     "metadata": {},
     "output_type": "execute_result"
    }
   ],
   "source": [
    "df = pd.read_csv('col_names_trans_data(Sheet1)id.csv')\n",
    "df.fillna(0, inplace=True)\n",
    "df = df.drop(['ID'], axis=1)\n",
    "df"
   ]
  },
  {
   "cell_type": "code",
   "execution_count": 3,
   "id": "4d5fe0ff",
   "metadata": {},
   "outputs": [
    {
     "data": {
      "text/plain": [
       "0    [Health, Alistipes, Bacteroides, Bifidobacteri...\n",
       "1    [Health, Alistipes, Bacteroides, Bifidobacteri...\n",
       "2    [Health, Alistipes, Bacteroides, Bifidobacteri...\n",
       "3    [Health, Alistipes, Bacteroides, Bifidobacteri...\n",
       "4    [Health, Alistipes, Bacteroides, Bifidobacteri...\n",
       "dtype: object"
      ]
     },
     "execution_count": 3,
     "metadata": {},
     "output_type": "execute_result"
    }
   ],
   "source": [
    "df_list = df.values.tolist()\n",
    "df_list_transp = df.apply(lambda row: row.tolist(), axis=1)\n",
    "df_list_transp.head()"
   ]
  },
  {
   "cell_type": "code",
   "execution_count": 4,
   "id": "2a5563dd",
   "metadata": {},
   "outputs": [
    {
     "name": "stdout",
     "output_type": "stream",
     "text": [
      "{0, 'Blautia', 'Acinetobacter', 'Paraprevotella', 'Streptococcus', 'Ruminiclostridium', 'Odoribacter', 'Anaerofilum', 'Barnesiella', 'Phocaeicola', 'Lactobacillus', 'Desulfovibrio', 'Flavonifractor', 'Bifidobacterium', 'Bipolar Disorder', 'Clostridium', 'Health', 'Anaerotruncus', 'Ruminococcus', 'Parabacteroides', 'Prevotella', 'Pseudomonas', 'Oscillospira', 'Ligilactobacillus', 'Coprococcus', 'Agathobacter', 'Collinsella', 'Sporobacter', 'Akkermansia', 'Oscillibacter', 'Sutterella', 'Anaerobutyricum', 'Depression', 'Roseburia', 'Bacteroides', 'Eubacterium', 'Ruminococcaceae', 'Holdemania', 'Epilepsy', 'Erysipelatoclostridium', 'Mediterraneibacter', 'Lachnospira', 'Veillonella', 'Lachnoclostridium', 'Bacillus', 'Corynebacterium', 'Intestinibacter', 'Schizophrenia', 'Parkinsons', 'Dialister', 'Eggerthella', 'Alzheimers', 'Alistipes', 'Tidjanibacter', 'Dorea', 'Anaerostipes', 'Bipolar Disorder, Depression, Epilepsy, Schizophrenia', 'Parasutterella', 'Escherichia', 'Faecalibacterium', 'Bipolar Disorder, Depression, Schizophrenia', 'Subdoligranulum'}\n"
     ]
    }
   ],
   "source": [
    "items = set()\n",
    "for col in df:\n",
    "    items.update(df[col].unique())\n",
    "print(items)"
   ]
  },
  {
   "cell_type": "code",
   "execution_count": 7,
   "id": "2612d916",
   "metadata": {},
   "outputs": [
    {
     "data": {
      "text/html": [
       "<div>\n",
       "<style scoped>\n",
       "    .dataframe tbody tr th:only-of-type {\n",
       "        vertical-align: middle;\n",
       "    }\n",
       "\n",
       "    .dataframe tbody tr th {\n",
       "        vertical-align: top;\n",
       "    }\n",
       "\n",
       "    .dataframe thead th {\n",
       "        text-align: right;\n",
       "    }\n",
       "</style>\n",
       "<table border=\"1\" class=\"dataframe\">\n",
       "  <thead>\n",
       "    <tr style=\"text-align: right;\">\n",
       "      <th></th>\n",
       "      <th>Acinetobacter</th>\n",
       "      <th>Paraprevotella</th>\n",
       "      <th>Streptococcus</th>\n",
       "      <th>Ruminiclostridium</th>\n",
       "      <th>Odoribacter</th>\n",
       "      <th>Anaerofilum</th>\n",
       "      <th>Barnesiella</th>\n",
       "      <th>Phocaeicola</th>\n",
       "      <th>Lactobacillus</th>\n",
       "      <th>Desulfovibrio</th>\n",
       "      <th>...</th>\n",
       "      <th>Roseburia</th>\n",
       "      <th>Bacteroides</th>\n",
       "      <th>Clostridium</th>\n",
       "      <th>Eubacterium</th>\n",
       "      <th>Health</th>\n",
       "      <th>Parabacteroides</th>\n",
       "      <th>Dorea</th>\n",
       "      <th>Ruminococcus</th>\n",
       "      <th>Faecalibacterium</th>\n",
       "      <th>Oscillibacter</th>\n",
       "    </tr>\n",
       "  </thead>\n",
       "  <tbody>\n",
       "    <tr>\n",
       "      <th>0</th>\n",
       "      <td>0</td>\n",
       "      <td>0</td>\n",
       "      <td>0</td>\n",
       "      <td>0</td>\n",
       "      <td>0</td>\n",
       "      <td>0</td>\n",
       "      <td>0</td>\n",
       "      <td>0</td>\n",
       "      <td>0</td>\n",
       "      <td>0</td>\n",
       "      <td>...</td>\n",
       "      <td>1</td>\n",
       "      <td>1</td>\n",
       "      <td>1</td>\n",
       "      <td>1</td>\n",
       "      <td>1</td>\n",
       "      <td>1</td>\n",
       "      <td>1</td>\n",
       "      <td>1</td>\n",
       "      <td>1</td>\n",
       "      <td>1</td>\n",
       "    </tr>\n",
       "    <tr>\n",
       "      <th>1</th>\n",
       "      <td>0</td>\n",
       "      <td>0</td>\n",
       "      <td>0</td>\n",
       "      <td>0</td>\n",
       "      <td>0</td>\n",
       "      <td>0</td>\n",
       "      <td>0</td>\n",
       "      <td>0</td>\n",
       "      <td>0</td>\n",
       "      <td>0</td>\n",
       "      <td>...</td>\n",
       "      <td>1</td>\n",
       "      <td>1</td>\n",
       "      <td>1</td>\n",
       "      <td>1</td>\n",
       "      <td>1</td>\n",
       "      <td>1</td>\n",
       "      <td>1</td>\n",
       "      <td>1</td>\n",
       "      <td>1</td>\n",
       "      <td>1</td>\n",
       "    </tr>\n",
       "    <tr>\n",
       "      <th>2</th>\n",
       "      <td>0</td>\n",
       "      <td>0</td>\n",
       "      <td>0</td>\n",
       "      <td>0</td>\n",
       "      <td>0</td>\n",
       "      <td>0</td>\n",
       "      <td>0</td>\n",
       "      <td>0</td>\n",
       "      <td>0</td>\n",
       "      <td>0</td>\n",
       "      <td>...</td>\n",
       "      <td>1</td>\n",
       "      <td>1</td>\n",
       "      <td>1</td>\n",
       "      <td>1</td>\n",
       "      <td>1</td>\n",
       "      <td>1</td>\n",
       "      <td>1</td>\n",
       "      <td>1</td>\n",
       "      <td>1</td>\n",
       "      <td>1</td>\n",
       "    </tr>\n",
       "    <tr>\n",
       "      <th>3</th>\n",
       "      <td>0</td>\n",
       "      <td>0</td>\n",
       "      <td>0</td>\n",
       "      <td>0</td>\n",
       "      <td>0</td>\n",
       "      <td>0</td>\n",
       "      <td>0</td>\n",
       "      <td>0</td>\n",
       "      <td>0</td>\n",
       "      <td>0</td>\n",
       "      <td>...</td>\n",
       "      <td>1</td>\n",
       "      <td>1</td>\n",
       "      <td>1</td>\n",
       "      <td>1</td>\n",
       "      <td>1</td>\n",
       "      <td>1</td>\n",
       "      <td>1</td>\n",
       "      <td>1</td>\n",
       "      <td>1</td>\n",
       "      <td>1</td>\n",
       "    </tr>\n",
       "    <tr>\n",
       "      <th>4</th>\n",
       "      <td>0</td>\n",
       "      <td>0</td>\n",
       "      <td>0</td>\n",
       "      <td>0</td>\n",
       "      <td>0</td>\n",
       "      <td>0</td>\n",
       "      <td>0</td>\n",
       "      <td>0</td>\n",
       "      <td>0</td>\n",
       "      <td>0</td>\n",
       "      <td>...</td>\n",
       "      <td>1</td>\n",
       "      <td>1</td>\n",
       "      <td>1</td>\n",
       "      <td>1</td>\n",
       "      <td>1</td>\n",
       "      <td>1</td>\n",
       "      <td>1</td>\n",
       "      <td>1</td>\n",
       "      <td>1</td>\n",
       "      <td>1</td>\n",
       "    </tr>\n",
       "  </tbody>\n",
       "</table>\n",
       "<p>5 rows × 61 columns</p>\n",
       "</div>"
      ],
      "text/plain": [
       "   Acinetobacter  Paraprevotella  Streptococcus  Ruminiclostridium  \\\n",
       "0              0               0              0                  0   \n",
       "1              0               0              0                  0   \n",
       "2              0               0              0                  0   \n",
       "3              0               0              0                  0   \n",
       "4              0               0              0                  0   \n",
       "\n",
       "   Odoribacter  Anaerofilum  Barnesiella  Phocaeicola  Lactobacillus  \\\n",
       "0            0            0            0            0              0   \n",
       "1            0            0            0            0              0   \n",
       "2            0            0            0            0              0   \n",
       "3            0            0            0            0              0   \n",
       "4            0            0            0            0              0   \n",
       "\n",
       "   Desulfovibrio  ...  Roseburia  Bacteroides  Clostridium  Eubacterium  \\\n",
       "0              0  ...          1            1            1            1   \n",
       "1              0  ...          1            1            1            1   \n",
       "2              0  ...          1            1            1            1   \n",
       "3              0  ...          1            1            1            1   \n",
       "4              0  ...          1            1            1            1   \n",
       "\n",
       "   Health  Parabacteroides  Dorea  Ruminococcus  Faecalibacterium  \\\n",
       "0       1                1      1             1                 1   \n",
       "1       1                1      1             1                 1   \n",
       "2       1                1      1             1                 1   \n",
       "3       1                1      1             1                 1   \n",
       "4       1                1      1             1                 1   \n",
       "\n",
       "   Oscillibacter  \n",
       "0              1  \n",
       "1              1  \n",
       "2              1  \n",
       "3              1  \n",
       "4              1  \n",
       "\n",
       "[5 rows x 61 columns]"
      ]
     },
     "execution_count": 7,
     "metadata": {},
     "output_type": "execute_result"
    }
   ],
   "source": [
    "itemset = set(items)\n",
    "encoded_vals = []\n",
    "for index, row in df.iterrows():\n",
    "    rowset = set(row)\n",
    "    labels = {}\n",
    "    uncommons = list(itemset - rowset)\n",
    "    commons = list(itemset.intersection(rowset))\n",
    "    for uc in uncommons:\n",
    "        labels[uc] = 0\n",
    "    for com in commons:\n",
    "        labels[com] = 1\n",
    "    encoded_vals.append(labels)\n",
    "\n",
    "ohe_df = pd.DataFrame(encoded_vals).drop(columns=0)\n",
    "ohe_df.head()\n"
   ]
  },
  {
   "cell_type": "code",
   "execution_count": 8,
   "id": "6ae4c163",
   "metadata": {},
   "outputs": [
    {
     "data": {
      "text/plain": [
       "Acinetobacter        bool\n",
       "Paraprevotella       bool\n",
       "Streptococcus        bool\n",
       "Ruminiclostridium    bool\n",
       "Odoribacter          bool\n",
       "                     ... \n",
       "Parabacteroides      bool\n",
       "Dorea                bool\n",
       "Ruminococcus         bool\n",
       "Faecalibacterium     bool\n",
       "Oscillibacter        bool\n",
       "Length: 61, dtype: object"
      ]
     },
     "execution_count": 8,
     "metadata": {},
     "output_type": "execute_result"
    }
   ],
   "source": [
    "ohe_df = ohe_df.astype(bool)\n",
    "ohe_df.dtypes"
   ]
  },
  {
   "cell_type": "code",
   "execution_count": 87,
   "id": "e00efe7e",
   "metadata": {},
   "outputs": [
    {
     "name": "stdout",
     "output_type": "stream",
     "text": [
      "\r",
      "Processing 132 combinations | Sampling itemset size 2\r",
      "Processing 471 combinations | Sampling itemset size 3\n"
     ]
    }
   ],
   "source": [
    "freq_items = apriori(ohe_df, min_support=0.75, use_colnames=True, verbose=1, max_len=3)"
   ]
  },
  {
   "cell_type": "code",
   "execution_count": 88,
   "id": "51f17981",
   "metadata": {},
   "outputs": [
    {
     "data": {
      "text/plain": [
       "734"
      ]
     },
     "execution_count": 88,
     "metadata": {},
     "output_type": "execute_result"
    }
   ],
   "source": [
    "conf_rules = association_rules(freq_items, metric=\"confidence\", min_threshold=0.75)\n",
    "\n",
    "len(conf_rules)"
   ]
  },
  {
   "cell_type": "code",
   "execution_count": 52,
   "id": "e3cd0629",
   "metadata": {},
   "outputs": [
    {
     "data": {
      "text/plain": [
       "734"
      ]
     },
     "execution_count": 52,
     "metadata": {},
     "output_type": "execute_result"
    }
   ],
   "source": [
    "sup_rules = association_rules(freq_items, metric='support', min_threshold=0.75)\n",
    "len(sup_rules)"
   ]
  },
  {
   "cell_type": "code",
   "execution_count": 53,
   "id": "0ab2fa22",
   "metadata": {},
   "outputs": [
    {
     "data": {
      "text/plain": [
       "39734"
      ]
     },
     "execution_count": 53,
     "metadata": {},
     "output_type": "execute_result"
    }
   ],
   "source": [
    "lift_rules = association_rules(freq_items, metric='lift', min_threshold=0.75)\n",
    "len(lift_rules)"
   ]
  },
  {
   "cell_type": "code",
   "execution_count": 54,
   "id": "2941b95b",
   "metadata": {},
   "outputs": [
    {
     "data": {
      "text/html": [
       "<div>\n",
       "<style scoped>\n",
       "    .dataframe tbody tr th:only-of-type {\n",
       "        vertical-align: middle;\n",
       "    }\n",
       "\n",
       "    .dataframe tbody tr th {\n",
       "        vertical-align: top;\n",
       "    }\n",
       "\n",
       "    .dataframe thead th {\n",
       "        text-align: right;\n",
       "    }\n",
       "</style>\n",
       "<table border=\"1\" class=\"dataframe\">\n",
       "  <thead>\n",
       "    <tr style=\"text-align: right;\">\n",
       "      <th></th>\n",
       "      <th>antecedents</th>\n",
       "      <th>consequents</th>\n",
       "      <th>antecedent support</th>\n",
       "      <th>consequent support</th>\n",
       "      <th>support</th>\n",
       "      <th>confidence</th>\n",
       "      <th>lift</th>\n",
       "      <th>leverage</th>\n",
       "      <th>conviction</th>\n",
       "      <th>zhangs_metric</th>\n",
       "    </tr>\n",
       "  </thead>\n",
       "  <tbody>\n",
       "    <tr>\n",
       "      <th>20580</th>\n",
       "      <td>(Bipolar Disorder, Depression, Epilepsy, Schiz...</td>\n",
       "      <td>(Lachnoclostridium)</td>\n",
       "      <td>0.017413</td>\n",
       "      <td>0.731343</td>\n",
       "      <td>0.017413</td>\n",
       "      <td>1.0</td>\n",
       "      <td>1.367347</td>\n",
       "      <td>0.004678</td>\n",
       "      <td>inf</td>\n",
       "      <td>0.273418</td>\n",
       "    </tr>\n",
       "    <tr>\n",
       "      <th>8297</th>\n",
       "      <td>(Barnesiella, Roseburia)</td>\n",
       "      <td>(Bacteroides)</td>\n",
       "      <td>0.598881</td>\n",
       "      <td>0.935945</td>\n",
       "      <td>0.598881</td>\n",
       "      <td>1.0</td>\n",
       "      <td>1.068439</td>\n",
       "      <td>0.038361</td>\n",
       "      <td>inf</td>\n",
       "      <td>0.159690</td>\n",
       "    </tr>\n",
       "    <tr>\n",
       "      <th>13606</th>\n",
       "      <td>(Bipolar Disorder, Depression, Epilepsy, Schiz...</td>\n",
       "      <td>(Faecalibacterium)</td>\n",
       "      <td>0.012438</td>\n",
       "      <td>0.906716</td>\n",
       "      <td>0.012438</td>\n",
       "      <td>1.0</td>\n",
       "      <td>1.102881</td>\n",
       "      <td>0.001160</td>\n",
       "      <td>inf</td>\n",
       "      <td>0.094458</td>\n",
       "    </tr>\n",
       "    <tr>\n",
       "      <th>13605</th>\n",
       "      <td>(Bipolar Disorder, Depression, Epilepsy, Schiz...</td>\n",
       "      <td>(Ruminococcus)</td>\n",
       "      <td>0.012438</td>\n",
       "      <td>0.886194</td>\n",
       "      <td>0.012438</td>\n",
       "      <td>1.0</td>\n",
       "      <td>1.128421</td>\n",
       "      <td>0.001415</td>\n",
       "      <td>inf</td>\n",
       "      <td>0.115239</td>\n",
       "    </tr>\n",
       "    <tr>\n",
       "      <th>13604</th>\n",
       "      <td>(Bipolar Disorder, Depression, Epilepsy, Schiz...</td>\n",
       "      <td>(Parabacteroides)</td>\n",
       "      <td>0.012438</td>\n",
       "      <td>0.859453</td>\n",
       "      <td>0.012438</td>\n",
       "      <td>1.0</td>\n",
       "      <td>1.163531</td>\n",
       "      <td>0.001748</td>\n",
       "      <td>inf</td>\n",
       "      <td>0.142317</td>\n",
       "    </tr>\n",
       "  </tbody>\n",
       "</table>\n",
       "</div>"
      ],
      "text/plain": [
       "                                             antecedents          consequents  \\\n",
       "20580  (Bipolar Disorder, Depression, Epilepsy, Schiz...  (Lachnoclostridium)   \n",
       "8297                            (Barnesiella, Roseburia)        (Bacteroides)   \n",
       "13606  (Bipolar Disorder, Depression, Epilepsy, Schiz...   (Faecalibacterium)   \n",
       "13605  (Bipolar Disorder, Depression, Epilepsy, Schiz...       (Ruminococcus)   \n",
       "13604  (Bipolar Disorder, Depression, Epilepsy, Schiz...    (Parabacteroides)   \n",
       "\n",
       "       antecedent support  consequent support   support  confidence      lift  \\\n",
       "20580            0.017413            0.731343  0.017413         1.0  1.367347   \n",
       "8297             0.598881            0.935945  0.598881         1.0  1.068439   \n",
       "13606            0.012438            0.906716  0.012438         1.0  1.102881   \n",
       "13605            0.012438            0.886194  0.012438         1.0  1.128421   \n",
       "13604            0.012438            0.859453  0.012438         1.0  1.163531   \n",
       "\n",
       "       leverage  conviction  zhangs_metric  \n",
       "20580  0.004678         inf       0.273418  \n",
       "8297   0.038361         inf       0.159690  \n",
       "13606  0.001160         inf       0.094458  \n",
       "13605  0.001415         inf       0.115239  \n",
       "13604  0.001748         inf       0.142317  "
      ]
     },
     "execution_count": 54,
     "metadata": {},
     "output_type": "execute_result"
    }
   ],
   "source": [
    "conf_sorted_rules = conf_rules.sort_values(by=\"confidence\", ascending=False)\n",
    "conf_sorted_rules.head(5)"
   ]
  },
  {
   "cell_type": "code",
   "execution_count": 55,
   "id": "a279436f",
   "metadata": {},
   "outputs": [
    {
     "data": {
      "text/html": [
       "<div>\n",
       "<style scoped>\n",
       "    .dataframe tbody tr th:only-of-type {\n",
       "        vertical-align: middle;\n",
       "    }\n",
       "\n",
       "    .dataframe tbody tr th {\n",
       "        vertical-align: top;\n",
       "    }\n",
       "\n",
       "    .dataframe thead th {\n",
       "        text-align: right;\n",
       "    }\n",
       "</style>\n",
       "<table border=\"1\" class=\"dataframe\">\n",
       "  <thead>\n",
       "    <tr style=\"text-align: right;\">\n",
       "      <th></th>\n",
       "      <th>antecedents</th>\n",
       "      <th>consequents</th>\n",
       "      <th>antecedent support</th>\n",
       "      <th>consequent support</th>\n",
       "      <th>support</th>\n",
       "      <th>confidence</th>\n",
       "      <th>lift</th>\n",
       "      <th>leverage</th>\n",
       "      <th>conviction</th>\n",
       "      <th>zhangs_metric</th>\n",
       "    </tr>\n",
       "  </thead>\n",
       "  <tbody>\n",
       "    <tr>\n",
       "      <th>63</th>\n",
       "      <td>(Faecalibacterium)</td>\n",
       "      <td>(Bacteroides)</td>\n",
       "      <td>0.906716</td>\n",
       "      <td>0.935945</td>\n",
       "      <td>0.898632</td>\n",
       "      <td>0.991084</td>\n",
       "      <td>1.058912</td>\n",
       "      <td>0.049995</td>\n",
       "      <td>7.183984</td>\n",
       "      <td>0.596401</td>\n",
       "    </tr>\n",
       "    <tr>\n",
       "      <th>62</th>\n",
       "      <td>(Bacteroides)</td>\n",
       "      <td>(Faecalibacterium)</td>\n",
       "      <td>0.935945</td>\n",
       "      <td>0.906716</td>\n",
       "      <td>0.898632</td>\n",
       "      <td>0.960133</td>\n",
       "      <td>1.058912</td>\n",
       "      <td>0.049995</td>\n",
       "      <td>2.339863</td>\n",
       "      <td>0.868546</td>\n",
       "    </tr>\n",
       "    <tr>\n",
       "      <th>6</th>\n",
       "      <td>(Blautia)</td>\n",
       "      <td>(Bacteroides)</td>\n",
       "      <td>0.891791</td>\n",
       "      <td>0.935945</td>\n",
       "      <td>0.872512</td>\n",
       "      <td>0.978382</td>\n",
       "      <td>1.045341</td>\n",
       "      <td>0.037845</td>\n",
       "      <td>2.963048</td>\n",
       "      <td>0.400841</td>\n",
       "    </tr>\n",
       "    <tr>\n",
       "      <th>7</th>\n",
       "      <td>(Bacteroides)</td>\n",
       "      <td>(Blautia)</td>\n",
       "      <td>0.935945</td>\n",
       "      <td>0.891791</td>\n",
       "      <td>0.872512</td>\n",
       "      <td>0.932226</td>\n",
       "      <td>1.045341</td>\n",
       "      <td>0.037845</td>\n",
       "      <td>1.596613</td>\n",
       "      <td>0.677148</td>\n",
       "    </tr>\n",
       "    <tr>\n",
       "      <th>60</th>\n",
       "      <td>(Ruminococcus)</td>\n",
       "      <td>(Bacteroides)</td>\n",
       "      <td>0.886194</td>\n",
       "      <td>0.935945</td>\n",
       "      <td>0.868781</td>\n",
       "      <td>0.980351</td>\n",
       "      <td>1.047445</td>\n",
       "      <td>0.039352</td>\n",
       "      <td>3.259928</td>\n",
       "      <td>0.398007</td>\n",
       "    </tr>\n",
       "  </tbody>\n",
       "</table>\n",
       "</div>"
      ],
      "text/plain": [
       "           antecedents         consequents  antecedent support  \\\n",
       "63  (Faecalibacterium)       (Bacteroides)            0.906716   \n",
       "62       (Bacteroides)  (Faecalibacterium)            0.935945   \n",
       "6            (Blautia)       (Bacteroides)            0.891791   \n",
       "7        (Bacteroides)           (Blautia)            0.935945   \n",
       "60      (Ruminococcus)       (Bacteroides)            0.886194   \n",
       "\n",
       "    consequent support   support  confidence      lift  leverage  conviction  \\\n",
       "63            0.935945  0.898632    0.991084  1.058912  0.049995    7.183984   \n",
       "62            0.906716  0.898632    0.960133  1.058912  0.049995    2.339863   \n",
       "6             0.935945  0.872512    0.978382  1.045341  0.037845    2.963048   \n",
       "7             0.891791  0.872512    0.932226  1.045341  0.037845    1.596613   \n",
       "60            0.935945  0.868781    0.980351  1.047445  0.039352    3.259928   \n",
       "\n",
       "    zhangs_metric  \n",
       "63       0.596401  \n",
       "62       0.868546  \n",
       "6        0.400841  \n",
       "7        0.677148  \n",
       "60       0.398007  "
      ]
     },
     "execution_count": 55,
     "metadata": {},
     "output_type": "execute_result"
    }
   ],
   "source": [
    "sup_sorted_rules = sup_rules.sort_values(by=\"support\", ascending=False)\n",
    "sup_sorted_rules.head(5)"
   ]
  },
  {
   "cell_type": "code",
   "execution_count": 56,
   "id": "8432c653",
   "metadata": {},
   "outputs": [
    {
     "data": {
      "text/html": [
       "<div>\n",
       "<style scoped>\n",
       "    .dataframe tbody tr th:only-of-type {\n",
       "        vertical-align: middle;\n",
       "    }\n",
       "\n",
       "    .dataframe tbody tr th {\n",
       "        vertical-align: top;\n",
       "    }\n",
       "\n",
       "    .dataframe thead th {\n",
       "        text-align: right;\n",
       "    }\n",
       "</style>\n",
       "<table border=\"1\" class=\"dataframe\">\n",
       "  <thead>\n",
       "    <tr style=\"text-align: right;\">\n",
       "      <th></th>\n",
       "      <th>antecedents</th>\n",
       "      <th>consequents</th>\n",
       "      <th>antecedent support</th>\n",
       "      <th>consequent support</th>\n",
       "      <th>support</th>\n",
       "      <th>confidence</th>\n",
       "      <th>lift</th>\n",
       "      <th>leverage</th>\n",
       "      <th>conviction</th>\n",
       "      <th>zhangs_metric</th>\n",
       "    </tr>\n",
       "  </thead>\n",
       "  <tbody>\n",
       "    <tr>\n",
       "      <th>31221</th>\n",
       "      <td>(Corynebacterium)</td>\n",
       "      <td>(Bifidobacterium, Epilepsy)</td>\n",
       "      <td>0.011194</td>\n",
       "      <td>0.021144</td>\n",
       "      <td>0.010572</td>\n",
       "      <td>0.944444</td>\n",
       "      <td>44.666667</td>\n",
       "      <td>0.010335</td>\n",
       "      <td>17.619403</td>\n",
       "      <td>0.988679</td>\n",
       "    </tr>\n",
       "    <tr>\n",
       "      <th>31328</th>\n",
       "      <td>(Eggerthella)</td>\n",
       "      <td>(Epilepsy, Eubacterium)</td>\n",
       "      <td>0.011194</td>\n",
       "      <td>0.021144</td>\n",
       "      <td>0.010572</td>\n",
       "      <td>0.944444</td>\n",
       "      <td>44.666667</td>\n",
       "      <td>0.010335</td>\n",
       "      <td>17.619403</td>\n",
       "      <td>0.988679</td>\n",
       "    </tr>\n",
       "    <tr>\n",
       "      <th>31325</th>\n",
       "      <td>(Epilepsy, Eubacterium)</td>\n",
       "      <td>(Eggerthella)</td>\n",
       "      <td>0.021144</td>\n",
       "      <td>0.011194</td>\n",
       "      <td>0.010572</td>\n",
       "      <td>0.500000</td>\n",
       "      <td>44.666667</td>\n",
       "      <td>0.010335</td>\n",
       "      <td>1.977612</td>\n",
       "      <td>0.998729</td>\n",
       "    </tr>\n",
       "    <tr>\n",
       "      <th>31330</th>\n",
       "      <td>(Parabacteroides, Epilepsy)</td>\n",
       "      <td>(Eggerthella)</td>\n",
       "      <td>0.021144</td>\n",
       "      <td>0.011194</td>\n",
       "      <td>0.010572</td>\n",
       "      <td>0.500000</td>\n",
       "      <td>44.666667</td>\n",
       "      <td>0.010335</td>\n",
       "      <td>1.977612</td>\n",
       "      <td>0.998729</td>\n",
       "    </tr>\n",
       "    <tr>\n",
       "      <th>31216</th>\n",
       "      <td>(Bifidobacterium, Epilepsy)</td>\n",
       "      <td>(Corynebacterium)</td>\n",
       "      <td>0.021144</td>\n",
       "      <td>0.011194</td>\n",
       "      <td>0.010572</td>\n",
       "      <td>0.500000</td>\n",
       "      <td>44.666667</td>\n",
       "      <td>0.010335</td>\n",
       "      <td>1.977612</td>\n",
       "      <td>0.998729</td>\n",
       "    </tr>\n",
       "  </tbody>\n",
       "</table>\n",
       "</div>"
      ],
      "text/plain": [
       "                       antecedents                  consequents  \\\n",
       "31221            (Corynebacterium)  (Bifidobacterium, Epilepsy)   \n",
       "31328                (Eggerthella)      (Epilepsy, Eubacterium)   \n",
       "31325      (Epilepsy, Eubacterium)                (Eggerthella)   \n",
       "31330  (Parabacteroides, Epilepsy)                (Eggerthella)   \n",
       "31216  (Bifidobacterium, Epilepsy)            (Corynebacterium)   \n",
       "\n",
       "       antecedent support  consequent support   support  confidence  \\\n",
       "31221            0.011194            0.021144  0.010572    0.944444   \n",
       "31328            0.011194            0.021144  0.010572    0.944444   \n",
       "31325            0.021144            0.011194  0.010572    0.500000   \n",
       "31330            0.021144            0.011194  0.010572    0.500000   \n",
       "31216            0.021144            0.011194  0.010572    0.500000   \n",
       "\n",
       "            lift  leverage  conviction  zhangs_metric  \n",
       "31221  44.666667  0.010335   17.619403       0.988679  \n",
       "31328  44.666667  0.010335   17.619403       0.988679  \n",
       "31325  44.666667  0.010335    1.977612       0.998729  \n",
       "31330  44.666667  0.010335    1.977612       0.998729  \n",
       "31216  44.666667  0.010335    1.977612       0.998729  "
      ]
     },
     "execution_count": 56,
     "metadata": {},
     "output_type": "execute_result"
    }
   ],
   "source": [
    "lift_sorted_rules = lift_rules.sort_values(by=\"lift\", ascending=False)\n",
    "lift_sorted_rules.head(5)"
   ]
  },
  {
   "cell_type": "code",
   "execution_count": 59,
   "id": "d239a736",
   "metadata": {},
   "outputs": [],
   "source": [
    "sch_rules = conf_rules[conf_rules['consequents'].apply(lambda x: 'Epilepsy' in x)]\n",
    "# = conf_rules[conf_rules['consequents'].apply(lambda x: x == frozenset({'Beer'}))]\n",
    "\n",
    "sch_rules = sch_rules.sort_values(by=\"confidence\", ascending=False)\n",
    "\n",
    "#sch_rules"
   ]
  },
  {
   "cell_type": "code",
   "execution_count": 60,
   "id": "dd50e736",
   "metadata": {},
   "outputs": [],
   "source": [
    "bread_rules = conf_rules[conf_rules['antecedents'].apply(lambda x: 'Parkinsons' in x)]\n",
    "#bread_rules = conf_rules[conf_rules['antecedents'].apply(lambda x: x == frozenset({'Bread'}))]\n",
    "# the bottom line filters for only bread \n",
    "\n",
    "bread_rules = bread_rules.sort_values(by=\"confidence\", ascending=False)\n",
    "\n",
    "#bread_rules\n",
    "\n",
    "# for this and the cell above to run, really lower the min_support in the frequent itemsets to 0.01 "
   ]
  },
  {
   "cell_type": "code",
   "execution_count": 89,
   "id": "ca88b0aa",
   "metadata": {},
   "outputs": [
    {
     "data": {
      "application/vnd.plotly.v1+json": {
       "config": {
        "plotlyServerURL": "https://plot.ly"
       },
       "data": [
        {
         "customdata": [
          [
           "Streptococcus",
           "Bacteroides"
          ],
          [
           "Bacteroides",
           "Streptococcus"
          ],
          [
           "Blautia",
           "Alistipes"
          ],
          [
           "Alistipes",
           "Blautia"
          ],
          [
           "Blautia",
           "Roseburia"
          ],
          [
           "Roseburia",
           "Blautia"
          ],
          [
           "Blautia",
           "Bacteroides"
          ],
          [
           "Bacteroides",
           "Blautia"
          ],
          [
           "Clostridium",
           "Blautia"
          ],
          [
           "Blautia",
           "Clostridium"
          ],
          [
           "Blautia",
           "Eubacterium"
          ],
          [
           "Eubacterium",
           "Blautia"
          ],
          [
           "Blautia",
           "Parabacteroides"
          ],
          [
           "Parabacteroides",
           "Blautia"
          ],
          [
           "Blautia",
           "Dorea"
          ],
          [
           "Dorea",
           "Blautia"
          ],
          [
           "Blautia",
           "Ruminococcus"
          ],
          [
           "Ruminococcus",
           "Blautia"
          ],
          [
           "Blautia",
           "Faecalibacterium"
          ],
          [
           "Faecalibacterium",
           "Blautia"
          ],
          [
           "Oscillibacter",
           "Blautia"
          ],
          [
           "Blautia",
           "Oscillibacter"
          ],
          [
           "Alistipes",
           "Roseburia"
          ],
          [
           "Roseburia",
           "Alistipes"
          ],
          [
           "Alistipes",
           "Bacteroides"
          ],
          [
           "Bacteroides",
           "Alistipes"
          ],
          [
           "Clostridium",
           "Alistipes"
          ],
          [
           "Alistipes",
           "Clostridium"
          ],
          [
           "Alistipes",
           "Eubacterium"
          ],
          [
           "Eubacterium",
           "Alistipes"
          ],
          [
           "Alistipes",
           "Parabacteroides"
          ],
          [
           "Parabacteroides",
           "Alistipes"
          ],
          [
           "Alistipes",
           "Ruminococcus"
          ],
          [
           "Ruminococcus",
           "Alistipes"
          ],
          [
           "Alistipes",
           "Faecalibacterium"
          ],
          [
           "Faecalibacterium",
           "Alistipes"
          ],
          [
           "Oscillibacter",
           "Alistipes"
          ],
          [
           "Alistipes",
           "Oscillibacter"
          ],
          [
           "Roseburia",
           "Bacteroides"
          ],
          [
           "Bacteroides",
           "Roseburia"
          ],
          [
           "Clostridium",
           "Roseburia"
          ],
          [
           "Roseburia",
           "Clostridium"
          ],
          [
           "Roseburia",
           "Eubacterium"
          ],
          [
           "Eubacterium",
           "Roseburia"
          ],
          [
           "Parabacteroides",
           "Roseburia"
          ],
          [
           "Roseburia",
           "Parabacteroides"
          ],
          [
           "Ruminococcus",
           "Roseburia"
          ],
          [
           "Roseburia",
           "Ruminococcus"
          ],
          [
           "Roseburia",
           "Faecalibacterium"
          ],
          [
           "Faecalibacterium",
           "Roseburia"
          ],
          [
           "Oscillibacter",
           "Roseburia"
          ],
          [
           "Roseburia",
           "Oscillibacter"
          ],
          [
           "Clostridium",
           "Bacteroides"
          ],
          [
           "Bacteroides",
           "Clostridium"
          ],
          [
           "Eubacterium",
           "Bacteroides"
          ],
          [
           "Bacteroides",
           "Eubacterium"
          ],
          [
           "Parabacteroides",
           "Bacteroides"
          ],
          [
           "Bacteroides",
           "Parabacteroides"
          ],
          [
           "Dorea",
           "Bacteroides"
          ],
          [
           "Bacteroides",
           "Dorea"
          ],
          [
           "Ruminococcus",
           "Bacteroides"
          ],
          [
           "Bacteroides",
           "Ruminococcus"
          ],
          [
           "Bacteroides",
           "Faecalibacterium"
          ],
          [
           "Faecalibacterium",
           "Bacteroides"
          ],
          [
           "Oscillibacter",
           "Bacteroides"
          ],
          [
           "Bacteroides",
           "Oscillibacter"
          ],
          [
           "Clostridium",
           "Eubacterium"
          ],
          [
           "Eubacterium",
           "Clostridium"
          ],
          [
           "Clostridium",
           "Parabacteroides"
          ],
          [
           "Parabacteroides",
           "Clostridium"
          ],
          [
           "Clostridium",
           "Ruminococcus"
          ],
          [
           "Ruminococcus",
           "Clostridium"
          ],
          [
           "Clostridium",
           "Faecalibacterium"
          ],
          [
           "Faecalibacterium",
           "Clostridium"
          ],
          [
           "Parabacteroides",
           "Eubacterium"
          ],
          [
           "Eubacterium",
           "Parabacteroides"
          ],
          [
           "Ruminococcus",
           "Eubacterium"
          ],
          [
           "Eubacterium",
           "Ruminococcus"
          ],
          [
           "Eubacterium",
           "Faecalibacterium"
          ],
          [
           "Faecalibacterium",
           "Eubacterium"
          ],
          [
           "Oscillibacter",
           "Eubacterium"
          ],
          [
           "Eubacterium",
           "Oscillibacter"
          ],
          [
           "Parabacteroides",
           "Ruminococcus"
          ],
          [
           "Ruminococcus",
           "Parabacteroides"
          ],
          [
           "Parabacteroides",
           "Faecalibacterium"
          ],
          [
           "Faecalibacterium",
           "Parabacteroides"
          ],
          [
           "Oscillibacter",
           "Parabacteroides"
          ],
          [
           "Parabacteroides",
           "Oscillibacter"
          ],
          [
           "Ruminococcus",
           "Dorea"
          ],
          [
           "Dorea",
           "Ruminococcus"
          ],
          [
           "Dorea",
           "Faecalibacterium"
          ],
          [
           "Faecalibacterium",
           "Dorea"
          ],
          [
           "Ruminococcus",
           "Faecalibacterium"
          ],
          [
           "Faecalibacterium",
           "Ruminococcus"
          ],
          [
           "Oscillibacter",
           "Ruminococcus"
          ],
          [
           "Ruminococcus",
           "Oscillibacter"
          ],
          [
           "Oscillibacter",
           "Faecalibacterium"
          ],
          [
           "Faecalibacterium",
           "Oscillibacter"
          ],
          [
           "Alistipes, Blautia",
           "Roseburia"
          ],
          [
           "Blautia, Roseburia",
           "Alistipes"
          ],
          [
           "Alistipes, Roseburia",
           "Blautia"
          ],
          [
           "Blautia",
           "Alistipes, Roseburia"
          ],
          [
           "Alistipes",
           "Blautia, Roseburia"
          ],
          [
           "Roseburia",
           "Alistipes, Blautia"
          ],
          [
           "Alistipes, Blautia",
           "Bacteroides"
          ],
          [
           "Bacteroides, Blautia",
           "Alistipes"
          ],
          [
           "Alistipes, Bacteroides",
           "Blautia"
          ],
          [
           "Blautia",
           "Alistipes, Bacteroides"
          ],
          [
           "Alistipes",
           "Bacteroides, Blautia"
          ],
          [
           "Bacteroides",
           "Alistipes, Blautia"
          ],
          [
           "Blautia, Clostridium",
           "Alistipes"
          ],
          [
           "Alistipes, Clostridium",
           "Blautia"
          ],
          [
           "Alistipes, Blautia",
           "Clostridium"
          ],
          [
           "Clostridium",
           "Alistipes, Blautia"
          ],
          [
           "Blautia",
           "Alistipes, Clostridium"
          ],
          [
           "Alistipes",
           "Blautia, Clostridium"
          ],
          [
           "Alistipes, Blautia",
           "Eubacterium"
          ],
          [
           "Blautia, Eubacterium",
           "Alistipes"
          ],
          [
           "Alistipes, Eubacterium",
           "Blautia"
          ],
          [
           "Blautia",
           "Alistipes, Eubacterium"
          ],
          [
           "Alistipes",
           "Blautia, Eubacterium"
          ],
          [
           "Eubacterium",
           "Alistipes, Blautia"
          ],
          [
           "Blautia, Parabacteroides",
           "Alistipes"
          ],
          [
           "Alistipes, Parabacteroides",
           "Blautia"
          ],
          [
           "Alistipes, Blautia",
           "Parabacteroides"
          ],
          [
           "Parabacteroides",
           "Alistipes, Blautia"
          ],
          [
           "Blautia",
           "Alistipes, Parabacteroides"
          ],
          [
           "Alistipes",
           "Blautia, Parabacteroides"
          ],
          [
           "Alistipes, Blautia",
           "Ruminococcus"
          ],
          [
           "Blautia, Ruminococcus",
           "Alistipes"
          ],
          [
           "Alistipes, Ruminococcus",
           "Blautia"
          ],
          [
           "Blautia",
           "Alistipes, Ruminococcus"
          ],
          [
           "Alistipes",
           "Blautia, Ruminococcus"
          ],
          [
           "Ruminococcus",
           "Alistipes, Blautia"
          ],
          [
           "Alistipes, Blautia",
           "Faecalibacterium"
          ],
          [
           "Blautia, Faecalibacterium",
           "Alistipes"
          ],
          [
           "Alistipes, Faecalibacterium",
           "Blautia"
          ],
          [
           "Blautia",
           "Alistipes, Faecalibacterium"
          ],
          [
           "Alistipes",
           "Blautia, Faecalibacterium"
          ],
          [
           "Faecalibacterium",
           "Alistipes, Blautia"
          ],
          [
           "Blautia, Oscillibacter",
           "Alistipes"
          ],
          [
           "Alistipes, Oscillibacter",
           "Blautia"
          ],
          [
           "Alistipes, Blautia",
           "Oscillibacter"
          ],
          [
           "Oscillibacter",
           "Alistipes, Blautia"
          ],
          [
           "Blautia",
           "Alistipes, Oscillibacter"
          ],
          [
           "Alistipes",
           "Blautia, Oscillibacter"
          ],
          [
           "Blautia, Roseburia",
           "Bacteroides"
          ],
          [
           "Bacteroides, Blautia",
           "Roseburia"
          ],
          [
           "Bacteroides, Roseburia",
           "Blautia"
          ],
          [
           "Blautia",
           "Bacteroides, Roseburia"
          ],
          [
           "Roseburia",
           "Bacteroides, Blautia"
          ],
          [
           "Bacteroides",
           "Blautia, Roseburia"
          ],
          [
           "Blautia, Roseburia",
           "Eubacterium"
          ],
          [
           "Blautia, Eubacterium",
           "Roseburia"
          ],
          [
           "Eubacterium, Roseburia",
           "Blautia"
          ],
          [
           "Blautia",
           "Eubacterium, Roseburia"
          ],
          [
           "Roseburia",
           "Blautia, Eubacterium"
          ],
          [
           "Eubacterium",
           "Blautia, Roseburia"
          ],
          [
           "Blautia, Parabacteroides",
           "Roseburia"
          ],
          [
           "Blautia, Roseburia",
           "Parabacteroides"
          ],
          [
           "Parabacteroides, Roseburia",
           "Blautia"
          ],
          [
           "Blautia",
           "Parabacteroides, Roseburia"
          ],
          [
           "Parabacteroides",
           "Blautia, Roseburia"
          ],
          [
           "Roseburia",
           "Blautia, Parabacteroides"
          ],
          [
           "Blautia, Ruminococcus",
           "Roseburia"
          ],
          [
           "Blautia, Roseburia",
           "Ruminococcus"
          ],
          [
           "Roseburia, Ruminococcus",
           "Blautia"
          ],
          [
           "Blautia",
           "Roseburia, Ruminococcus"
          ],
          [
           "Ruminococcus",
           "Blautia, Roseburia"
          ],
          [
           "Roseburia",
           "Blautia, Ruminococcus"
          ],
          [
           "Blautia, Roseburia",
           "Faecalibacterium"
          ],
          [
           "Blautia, Faecalibacterium",
           "Roseburia"
          ],
          [
           "Faecalibacterium, Roseburia",
           "Blautia"
          ],
          [
           "Blautia",
           "Faecalibacterium, Roseburia"
          ],
          [
           "Roseburia",
           "Blautia, Faecalibacterium"
          ],
          [
           "Faecalibacterium",
           "Blautia, Roseburia"
          ],
          [
           "Blautia, Oscillibacter",
           "Roseburia"
          ],
          [
           "Oscillibacter, Roseburia",
           "Blautia"
          ],
          [
           "Blautia, Roseburia",
           "Oscillibacter"
          ],
          [
           "Oscillibacter",
           "Blautia, Roseburia"
          ],
          [
           "Blautia",
           "Oscillibacter, Roseburia"
          ],
          [
           "Roseburia",
           "Blautia, Oscillibacter"
          ],
          [
           "Blautia, Clostridium",
           "Bacteroides"
          ],
          [
           "Bacteroides, Clostridium",
           "Blautia"
          ],
          [
           "Bacteroides, Blautia",
           "Clostridium"
          ],
          [
           "Clostridium",
           "Bacteroides, Blautia"
          ],
          [
           "Blautia",
           "Bacteroides, Clostridium"
          ],
          [
           "Bacteroides",
           "Blautia, Clostridium"
          ],
          [
           "Blautia, Eubacterium",
           "Bacteroides"
          ],
          [
           "Bacteroides, Blautia",
           "Eubacterium"
          ],
          [
           "Bacteroides, Eubacterium",
           "Blautia"
          ],
          [
           "Blautia",
           "Bacteroides, Eubacterium"
          ],
          [
           "Eubacterium",
           "Bacteroides, Blautia"
          ],
          [
           "Bacteroides",
           "Blautia, Eubacterium"
          ],
          [
           "Blautia, Parabacteroides",
           "Bacteroides"
          ],
          [
           "Bacteroides, Blautia",
           "Parabacteroides"
          ],
          [
           "Bacteroides, Parabacteroides",
           "Blautia"
          ],
          [
           "Blautia",
           "Bacteroides, Parabacteroides"
          ],
          [
           "Parabacteroides",
           "Bacteroides, Blautia"
          ],
          [
           "Bacteroides",
           "Blautia, Parabacteroides"
          ],
          [
           "Blautia, Ruminococcus",
           "Bacteroides"
          ],
          [
           "Bacteroides, Blautia",
           "Ruminococcus"
          ],
          [
           "Bacteroides, Ruminococcus",
           "Blautia"
          ],
          [
           "Blautia",
           "Bacteroides, Ruminococcus"
          ],
          [
           "Ruminococcus",
           "Bacteroides, Blautia"
          ],
          [
           "Bacteroides",
           "Blautia, Ruminococcus"
          ],
          [
           "Bacteroides, Blautia",
           "Faecalibacterium"
          ],
          [
           "Blautia, Faecalibacterium",
           "Bacteroides"
          ],
          [
           "Bacteroides, Faecalibacterium",
           "Blautia"
          ],
          [
           "Blautia",
           "Bacteroides, Faecalibacterium"
          ],
          [
           "Bacteroides",
           "Blautia, Faecalibacterium"
          ],
          [
           "Faecalibacterium",
           "Bacteroides, Blautia"
          ],
          [
           "Blautia, Oscillibacter",
           "Bacteroides"
          ],
          [
           "Bacteroides, Oscillibacter",
           "Blautia"
          ],
          [
           "Bacteroides, Blautia",
           "Oscillibacter"
          ],
          [
           "Oscillibacter",
           "Bacteroides, Blautia"
          ],
          [
           "Blautia",
           "Bacteroides, Oscillibacter"
          ],
          [
           "Bacteroides",
           "Blautia, Oscillibacter"
          ],
          [
           "Blautia, Clostridium",
           "Eubacterium"
          ],
          [
           "Clostridium, Eubacterium",
           "Blautia"
          ],
          [
           "Blautia, Eubacterium",
           "Clostridium"
          ],
          [
           "Clostridium",
           "Blautia, Eubacterium"
          ],
          [
           "Blautia",
           "Clostridium, Eubacterium"
          ],
          [
           "Eubacterium",
           "Blautia, Clostridium"
          ],
          [
           "Blautia, Clostridium",
           "Parabacteroides"
          ],
          [
           "Clostridium, Parabacteroides",
           "Blautia"
          ],
          [
           "Blautia, Parabacteroides",
           "Clostridium"
          ],
          [
           "Clostridium",
           "Blautia, Parabacteroides"
          ],
          [
           "Blautia",
           "Clostridium, Parabacteroides"
          ],
          [
           "Parabacteroides",
           "Blautia, Clostridium"
          ],
          [
           "Blautia, Clostridium",
           "Ruminococcus"
          ],
          [
           "Clostridium, Ruminococcus",
           "Blautia"
          ],
          [
           "Blautia, Ruminococcus",
           "Clostridium"
          ],
          [
           "Clostridium",
           "Blautia, Ruminococcus"
          ],
          [
           "Blautia",
           "Clostridium, Ruminococcus"
          ],
          [
           "Ruminococcus",
           "Blautia, Clostridium"
          ],
          [
           "Blautia, Clostridium",
           "Faecalibacterium"
          ],
          [
           "Clostridium, Faecalibacterium",
           "Blautia"
          ],
          [
           "Blautia, Faecalibacterium",
           "Clostridium"
          ],
          [
           "Clostridium",
           "Blautia, Faecalibacterium"
          ],
          [
           "Blautia",
           "Clostridium, Faecalibacterium"
          ],
          [
           "Faecalibacterium",
           "Blautia, Clostridium"
          ],
          [
           "Blautia, Parabacteroides",
           "Eubacterium"
          ],
          [
           "Blautia, Eubacterium",
           "Parabacteroides"
          ],
          [
           "Eubacterium, Parabacteroides",
           "Blautia"
          ],
          [
           "Blautia",
           "Eubacterium, Parabacteroides"
          ],
          [
           "Parabacteroides",
           "Blautia, Eubacterium"
          ],
          [
           "Eubacterium",
           "Blautia, Parabacteroides"
          ],
          [
           "Blautia, Ruminococcus",
           "Eubacterium"
          ],
          [
           "Blautia, Eubacterium",
           "Ruminococcus"
          ],
          [
           "Eubacterium, Ruminococcus",
           "Blautia"
          ],
          [
           "Blautia",
           "Eubacterium, Ruminococcus"
          ],
          [
           "Ruminococcus",
           "Blautia, Eubacterium"
          ],
          [
           "Eubacterium",
           "Blautia, Ruminococcus"
          ],
          [
           "Blautia, Eubacterium",
           "Faecalibacterium"
          ],
          [
           "Blautia, Faecalibacterium",
           "Eubacterium"
          ],
          [
           "Eubacterium, Faecalibacterium",
           "Blautia"
          ],
          [
           "Blautia",
           "Eubacterium, Faecalibacterium"
          ],
          [
           "Eubacterium",
           "Blautia, Faecalibacterium"
          ],
          [
           "Faecalibacterium",
           "Blautia, Eubacterium"
          ],
          [
           "Blautia, Oscillibacter",
           "Eubacterium"
          ],
          [
           "Eubacterium, Oscillibacter",
           "Blautia"
          ],
          [
           "Blautia, Eubacterium",
           "Oscillibacter"
          ],
          [
           "Oscillibacter",
           "Blautia, Eubacterium"
          ],
          [
           "Blautia",
           "Eubacterium, Oscillibacter"
          ],
          [
           "Eubacterium",
           "Blautia, Oscillibacter"
          ],
          [
           "Blautia, Parabacteroides",
           "Ruminococcus"
          ],
          [
           "Blautia, Ruminococcus",
           "Parabacteroides"
          ],
          [
           "Parabacteroides, Ruminococcus",
           "Blautia"
          ],
          [
           "Blautia",
           "Parabacteroides, Ruminococcus"
          ],
          [
           "Parabacteroides",
           "Blautia, Ruminococcus"
          ],
          [
           "Ruminococcus",
           "Blautia, Parabacteroides"
          ],
          [
           "Blautia, Parabacteroides",
           "Faecalibacterium"
          ],
          [
           "Blautia, Faecalibacterium",
           "Parabacteroides"
          ],
          [
           "Faecalibacterium, Parabacteroides",
           "Blautia"
          ],
          [
           "Blautia",
           "Faecalibacterium, Parabacteroides"
          ],
          [
           "Parabacteroides",
           "Blautia, Faecalibacterium"
          ],
          [
           "Faecalibacterium",
           "Blautia, Parabacteroides"
          ],
          [
           "Blautia, Oscillibacter",
           "Parabacteroides"
          ],
          [
           "Oscillibacter, Parabacteroides",
           "Blautia"
          ],
          [
           "Blautia, Parabacteroides",
           "Oscillibacter"
          ],
          [
           "Oscillibacter",
           "Blautia, Parabacteroides"
          ],
          [
           "Blautia",
           "Oscillibacter, Parabacteroides"
          ],
          [
           "Parabacteroides",
           "Blautia, Oscillibacter"
          ],
          [
           "Blautia, Ruminococcus",
           "Faecalibacterium"
          ],
          [
           "Blautia, Faecalibacterium",
           "Ruminococcus"
          ],
          [
           "Faecalibacterium, Ruminococcus",
           "Blautia"
          ],
          [
           "Blautia",
           "Faecalibacterium, Ruminococcus"
          ],
          [
           "Ruminococcus",
           "Blautia, Faecalibacterium"
          ],
          [
           "Faecalibacterium",
           "Blautia, Ruminococcus"
          ],
          [
           "Blautia, Oscillibacter",
           "Ruminococcus"
          ],
          [
           "Oscillibacter, Ruminococcus",
           "Blautia"
          ],
          [
           "Blautia, Ruminococcus",
           "Oscillibacter"
          ],
          [
           "Oscillibacter",
           "Blautia, Ruminococcus"
          ],
          [
           "Blautia",
           "Oscillibacter, Ruminococcus"
          ],
          [
           "Ruminococcus",
           "Blautia, Oscillibacter"
          ],
          [
           "Blautia, Oscillibacter",
           "Faecalibacterium"
          ],
          [
           "Faecalibacterium, Oscillibacter",
           "Blautia"
          ],
          [
           "Blautia, Faecalibacterium",
           "Oscillibacter"
          ],
          [
           "Oscillibacter",
           "Blautia, Faecalibacterium"
          ],
          [
           "Blautia",
           "Faecalibacterium, Oscillibacter"
          ],
          [
           "Faecalibacterium",
           "Blautia, Oscillibacter"
          ],
          [
           "Alistipes, Roseburia",
           "Bacteroides"
          ],
          [
           "Alistipes, Bacteroides",
           "Roseburia"
          ],
          [
           "Bacteroides, Roseburia",
           "Alistipes"
          ],
          [
           "Alistipes",
           "Bacteroides, Roseburia"
          ],
          [
           "Roseburia",
           "Alistipes, Bacteroides"
          ],
          [
           "Bacteroides",
           "Alistipes, Roseburia"
          ],
          [
           "Alistipes, Roseburia",
           "Eubacterium"
          ],
          [
           "Alistipes, Eubacterium",
           "Roseburia"
          ],
          [
           "Eubacterium, Roseburia",
           "Alistipes"
          ],
          [
           "Alistipes",
           "Eubacterium, Roseburia"
          ],
          [
           "Roseburia",
           "Alistipes, Eubacterium"
          ],
          [
           "Eubacterium",
           "Alistipes, Roseburia"
          ],
          [
           "Alistipes, Parabacteroides",
           "Roseburia"
          ],
          [
           "Alistipes, Roseburia",
           "Parabacteroides"
          ],
          [
           "Parabacteroides, Roseburia",
           "Alistipes"
          ],
          [
           "Alistipes",
           "Parabacteroides, Roseburia"
          ],
          [
           "Parabacteroides",
           "Alistipes, Roseburia"
          ],
          [
           "Roseburia",
           "Alistipes, Parabacteroides"
          ],
          [
           "Alistipes, Roseburia",
           "Ruminococcus"
          ],
          [
           "Alistipes, Ruminococcus",
           "Roseburia"
          ],
          [
           "Roseburia, Ruminococcus",
           "Alistipes"
          ],
          [
           "Alistipes",
           "Roseburia, Ruminococcus"
          ],
          [
           "Roseburia",
           "Alistipes, Ruminococcus"
          ],
          [
           "Ruminococcus",
           "Alistipes, Roseburia"
          ],
          [
           "Alistipes, Roseburia",
           "Faecalibacterium"
          ],
          [
           "Alistipes, Faecalibacterium",
           "Roseburia"
          ],
          [
           "Faecalibacterium, Roseburia",
           "Alistipes"
          ],
          [
           "Alistipes",
           "Faecalibacterium, Roseburia"
          ],
          [
           "Roseburia",
           "Alistipes, Faecalibacterium"
          ],
          [
           "Faecalibacterium",
           "Alistipes, Roseburia"
          ],
          [
           "Alistipes, Oscillibacter",
           "Roseburia"
          ],
          [
           "Oscillibacter, Roseburia",
           "Alistipes"
          ],
          [
           "Alistipes, Roseburia",
           "Oscillibacter"
          ],
          [
           "Oscillibacter",
           "Alistipes, Roseburia"
          ],
          [
           "Alistipes",
           "Oscillibacter, Roseburia"
          ],
          [
           "Roseburia",
           "Alistipes, Oscillibacter"
          ],
          [
           "Alistipes, Clostridium",
           "Bacteroides"
          ],
          [
           "Bacteroides, Clostridium",
           "Alistipes"
          ],
          [
           "Alistipes, Bacteroides",
           "Clostridium"
          ],
          [
           "Clostridium",
           "Alistipes, Bacteroides"
          ],
          [
           "Alistipes",
           "Bacteroides, Clostridium"
          ],
          [
           "Bacteroides",
           "Alistipes, Clostridium"
          ],
          [
           "Alistipes, Eubacterium",
           "Bacteroides"
          ],
          [
           "Bacteroides, Eubacterium",
           "Alistipes"
          ],
          [
           "Alistipes, Bacteroides",
           "Eubacterium"
          ],
          [
           "Eubacterium",
           "Alistipes, Bacteroides"
          ],
          [
           "Alistipes",
           "Bacteroides, Eubacterium"
          ],
          [
           "Bacteroides",
           "Alistipes, Eubacterium"
          ],
          [
           "Alistipes, Parabacteroides",
           "Bacteroides"
          ],
          [
           "Alistipes, Bacteroides",
           "Parabacteroides"
          ],
          [
           "Bacteroides, Parabacteroides",
           "Alistipes"
          ],
          [
           "Alistipes",
           "Bacteroides, Parabacteroides"
          ],
          [
           "Parabacteroides",
           "Alistipes, Bacteroides"
          ],
          [
           "Bacteroides",
           "Alistipes, Parabacteroides"
          ],
          [
           "Alistipes, Ruminococcus",
           "Bacteroides"
          ],
          [
           "Alistipes, Bacteroides",
           "Ruminococcus"
          ],
          [
           "Bacteroides, Ruminococcus",
           "Alistipes"
          ],
          [
           "Alistipes",
           "Bacteroides, Ruminococcus"
          ],
          [
           "Ruminococcus",
           "Alistipes, Bacteroides"
          ],
          [
           "Bacteroides",
           "Alistipes, Ruminococcus"
          ],
          [
           "Alistipes, Bacteroides",
           "Faecalibacterium"
          ],
          [
           "Bacteroides, Faecalibacterium",
           "Alistipes"
          ],
          [
           "Alistipes, Faecalibacterium",
           "Bacteroides"
          ],
          [
           "Bacteroides",
           "Alistipes, Faecalibacterium"
          ],
          [
           "Alistipes",
           "Bacteroides, Faecalibacterium"
          ],
          [
           "Faecalibacterium",
           "Alistipes, Bacteroides"
          ],
          [
           "Alistipes, Oscillibacter",
           "Bacteroides"
          ],
          [
           "Bacteroides, Oscillibacter",
           "Alistipes"
          ],
          [
           "Alistipes, Bacteroides",
           "Oscillibacter"
          ],
          [
           "Oscillibacter",
           "Alistipes, Bacteroides"
          ],
          [
           "Alistipes",
           "Bacteroides, Oscillibacter"
          ],
          [
           "Bacteroides",
           "Alistipes, Oscillibacter"
          ],
          [
           "Alistipes, Parabacteroides",
           "Clostridium"
          ],
          [
           "Alistipes, Clostridium",
           "Parabacteroides"
          ],
          [
           "Clostridium, Parabacteroides",
           "Alistipes"
          ],
          [
           "Alistipes",
           "Clostridium, Parabacteroides"
          ],
          [
           "Parabacteroides",
           "Alistipes, Clostridium"
          ],
          [
           "Clostridium",
           "Alistipes, Parabacteroides"
          ],
          [
           "Alistipes, Clostridium",
           "Ruminococcus"
          ],
          [
           "Clostridium, Ruminococcus",
           "Alistipes"
          ],
          [
           "Alistipes, Ruminococcus",
           "Clostridium"
          ],
          [
           "Clostridium",
           "Alistipes, Ruminococcus"
          ],
          [
           "Alistipes",
           "Clostridium, Ruminococcus"
          ],
          [
           "Ruminococcus",
           "Alistipes, Clostridium"
          ],
          [
           "Alistipes, Clostridium",
           "Faecalibacterium"
          ],
          [
           "Clostridium, Faecalibacterium",
           "Alistipes"
          ],
          [
           "Alistipes, Faecalibacterium",
           "Clostridium"
          ],
          [
           "Clostridium",
           "Alistipes, Faecalibacterium"
          ],
          [
           "Alistipes",
           "Clostridium, Faecalibacterium"
          ],
          [
           "Faecalibacterium",
           "Alistipes, Clostridium"
          ],
          [
           "Alistipes, Parabacteroides",
           "Eubacterium"
          ],
          [
           "Alistipes, Eubacterium",
           "Parabacteroides"
          ],
          [
           "Eubacterium, Parabacteroides",
           "Alistipes"
          ],
          [
           "Alistipes",
           "Eubacterium, Parabacteroides"
          ],
          [
           "Parabacteroides",
           "Alistipes, Eubacterium"
          ],
          [
           "Eubacterium",
           "Alistipes, Parabacteroides"
          ],
          [
           "Alistipes, Ruminococcus",
           "Eubacterium"
          ],
          [
           "Alistipes, Eubacterium",
           "Ruminococcus"
          ],
          [
           "Eubacterium, Ruminococcus",
           "Alistipes"
          ],
          [
           "Alistipes",
           "Eubacterium, Ruminococcus"
          ],
          [
           "Ruminococcus",
           "Alistipes, Eubacterium"
          ],
          [
           "Eubacterium",
           "Alistipes, Ruminococcus"
          ],
          [
           "Alistipes, Eubacterium",
           "Faecalibacterium"
          ],
          [
           "Eubacterium, Faecalibacterium",
           "Alistipes"
          ],
          [
           "Alistipes, Faecalibacterium",
           "Eubacterium"
          ],
          [
           "Eubacterium",
           "Alistipes, Faecalibacterium"
          ],
          [
           "Alistipes",
           "Eubacterium, Faecalibacterium"
          ],
          [
           "Faecalibacterium",
           "Alistipes, Eubacterium"
          ],
          [
           "Alistipes, Oscillibacter",
           "Eubacterium"
          ],
          [
           "Eubacterium, Oscillibacter",
           "Alistipes"
          ],
          [
           "Alistipes, Eubacterium",
           "Oscillibacter"
          ],
          [
           "Oscillibacter",
           "Alistipes, Eubacterium"
          ],
          [
           "Alistipes",
           "Eubacterium, Oscillibacter"
          ],
          [
           "Eubacterium",
           "Alistipes, Oscillibacter"
          ],
          [
           "Alistipes, Parabacteroides",
           "Ruminococcus"
          ],
          [
           "Alistipes, Ruminococcus",
           "Parabacteroides"
          ],
          [
           "Parabacteroides, Ruminococcus",
           "Alistipes"
          ],
          [
           "Alistipes",
           "Parabacteroides, Ruminococcus"
          ],
          [
           "Parabacteroides",
           "Alistipes, Ruminococcus"
          ],
          [
           "Ruminococcus",
           "Alistipes, Parabacteroides"
          ],
          [
           "Alistipes, Parabacteroides",
           "Faecalibacterium"
          ],
          [
           "Alistipes, Faecalibacterium",
           "Parabacteroides"
          ],
          [
           "Faecalibacterium, Parabacteroides",
           "Alistipes"
          ],
          [
           "Alistipes",
           "Faecalibacterium, Parabacteroides"
          ],
          [
           "Parabacteroides",
           "Alistipes, Faecalibacterium"
          ],
          [
           "Faecalibacterium",
           "Alistipes, Parabacteroides"
          ],
          [
           "Alistipes, Oscillibacter",
           "Parabacteroides"
          ],
          [
           "Alistipes, Parabacteroides",
           "Oscillibacter"
          ],
          [
           "Oscillibacter, Parabacteroides",
           "Alistipes"
          ],
          [
           "Alistipes",
           "Oscillibacter, Parabacteroides"
          ],
          [
           "Oscillibacter",
           "Alistipes, Parabacteroides"
          ],
          [
           "Parabacteroides",
           "Alistipes, Oscillibacter"
          ],
          [
           "Alistipes, Ruminococcus",
           "Faecalibacterium"
          ],
          [
           "Alistipes, Faecalibacterium",
           "Ruminococcus"
          ],
          [
           "Faecalibacterium, Ruminococcus",
           "Alistipes"
          ],
          [
           "Alistipes",
           "Faecalibacterium, Ruminococcus"
          ],
          [
           "Ruminococcus",
           "Alistipes, Faecalibacterium"
          ],
          [
           "Faecalibacterium",
           "Alistipes, Ruminococcus"
          ],
          [
           "Alistipes, Oscillibacter",
           "Ruminococcus"
          ],
          [
           "Oscillibacter, Ruminococcus",
           "Alistipes"
          ],
          [
           "Alistipes, Ruminococcus",
           "Oscillibacter"
          ],
          [
           "Oscillibacter",
           "Alistipes, Ruminococcus"
          ],
          [
           "Alistipes",
           "Oscillibacter, Ruminococcus"
          ],
          [
           "Ruminococcus",
           "Alistipes, Oscillibacter"
          ],
          [
           "Alistipes, Oscillibacter",
           "Faecalibacterium"
          ],
          [
           "Faecalibacterium, Oscillibacter",
           "Alistipes"
          ],
          [
           "Alistipes, Faecalibacterium",
           "Oscillibacter"
          ],
          [
           "Oscillibacter",
           "Alistipes, Faecalibacterium"
          ],
          [
           "Alistipes",
           "Faecalibacterium, Oscillibacter"
          ],
          [
           "Faecalibacterium",
           "Alistipes, Oscillibacter"
          ],
          [
           "Clostridium, Roseburia",
           "Bacteroides"
          ],
          [
           "Bacteroides, Clostridium",
           "Roseburia"
          ],
          [
           "Bacteroides, Roseburia",
           "Clostridium"
          ],
          [
           "Clostridium",
           "Bacteroides, Roseburia"
          ],
          [
           "Roseburia",
           "Bacteroides, Clostridium"
          ],
          [
           "Bacteroides",
           "Clostridium, Roseburia"
          ],
          [
           "Eubacterium, Roseburia",
           "Bacteroides"
          ],
          [
           "Bacteroides, Eubacterium",
           "Roseburia"
          ],
          [
           "Bacteroides, Roseburia",
           "Eubacterium"
          ],
          [
           "Eubacterium",
           "Bacteroides, Roseburia"
          ],
          [
           "Roseburia",
           "Bacteroides, Eubacterium"
          ],
          [
           "Bacteroides",
           "Eubacterium, Roseburia"
          ],
          [
           "Parabacteroides, Roseburia",
           "Bacteroides"
          ],
          [
           "Bacteroides, Parabacteroides",
           "Roseburia"
          ],
          [
           "Bacteroides, Roseburia",
           "Parabacteroides"
          ],
          [
           "Parabacteroides",
           "Bacteroides, Roseburia"
          ],
          [
           "Roseburia",
           "Bacteroides, Parabacteroides"
          ],
          [
           "Bacteroides",
           "Parabacteroides, Roseburia"
          ],
          [
           "Roseburia, Ruminococcus",
           "Bacteroides"
          ],
          [
           "Bacteroides, Ruminococcus",
           "Roseburia"
          ],
          [
           "Bacteroides, Roseburia",
           "Ruminococcus"
          ],
          [
           "Ruminococcus",
           "Bacteroides, Roseburia"
          ],
          [
           "Roseburia",
           "Bacteroides, Ruminococcus"
          ],
          [
           "Bacteroides",
           "Roseburia, Ruminococcus"
          ],
          [
           "Bacteroides, Roseburia",
           "Faecalibacterium"
          ],
          [
           "Bacteroides, Faecalibacterium",
           "Roseburia"
          ],
          [
           "Faecalibacterium, Roseburia",
           "Bacteroides"
          ],
          [
           "Bacteroides",
           "Faecalibacterium, Roseburia"
          ],
          [
           "Roseburia",
           "Bacteroides, Faecalibacterium"
          ],
          [
           "Faecalibacterium",
           "Bacteroides, Roseburia"
          ],
          [
           "Oscillibacter, Roseburia",
           "Bacteroides"
          ],
          [
           "Bacteroides, Oscillibacter",
           "Roseburia"
          ],
          [
           "Bacteroides, Roseburia",
           "Oscillibacter"
          ],
          [
           "Oscillibacter",
           "Bacteroides, Roseburia"
          ],
          [
           "Roseburia",
           "Bacteroides, Oscillibacter"
          ],
          [
           "Bacteroides",
           "Oscillibacter, Roseburia"
          ],
          [
           "Clostridium, Roseburia",
           "Faecalibacterium"
          ],
          [
           "Clostridium, Faecalibacterium",
           "Roseburia"
          ],
          [
           "Faecalibacterium, Roseburia",
           "Clostridium"
          ],
          [
           "Clostridium",
           "Faecalibacterium, Roseburia"
          ],
          [
           "Roseburia",
           "Clostridium, Faecalibacterium"
          ],
          [
           "Faecalibacterium",
           "Clostridium, Roseburia"
          ],
          [
           "Parabacteroides, Roseburia",
           "Eubacterium"
          ],
          [
           "Eubacterium, Parabacteroides",
           "Roseburia"
          ],
          [
           "Eubacterium, Roseburia",
           "Parabacteroides"
          ],
          [
           "Parabacteroides",
           "Eubacterium, Roseburia"
          ],
          [
           "Roseburia",
           "Eubacterium, Parabacteroides"
          ],
          [
           "Eubacterium",
           "Parabacteroides, Roseburia"
          ],
          [
           "Roseburia, Ruminococcus",
           "Eubacterium"
          ],
          [
           "Eubacterium, Ruminococcus",
           "Roseburia"
          ],
          [
           "Eubacterium, Roseburia",
           "Ruminococcus"
          ],
          [
           "Ruminococcus",
           "Eubacterium, Roseburia"
          ],
          [
           "Roseburia",
           "Eubacterium, Ruminococcus"
          ],
          [
           "Eubacterium",
           "Roseburia, Ruminococcus"
          ],
          [
           "Eubacterium, Roseburia",
           "Faecalibacterium"
          ],
          [
           "Eubacterium, Faecalibacterium",
           "Roseburia"
          ],
          [
           "Faecalibacterium, Roseburia",
           "Eubacterium"
          ],
          [
           "Eubacterium",
           "Faecalibacterium, Roseburia"
          ],
          [
           "Roseburia",
           "Eubacterium, Faecalibacterium"
          ],
          [
           "Faecalibacterium",
           "Eubacterium, Roseburia"
          ],
          [
           "Oscillibacter, Roseburia",
           "Eubacterium"
          ],
          [
           "Eubacterium, Oscillibacter",
           "Roseburia"
          ],
          [
           "Eubacterium, Roseburia",
           "Oscillibacter"
          ],
          [
           "Oscillibacter",
           "Eubacterium, Roseburia"
          ],
          [
           "Roseburia",
           "Eubacterium, Oscillibacter"
          ],
          [
           "Eubacterium",
           "Oscillibacter, Roseburia"
          ],
          [
           "Parabacteroides, Roseburia",
           "Ruminococcus"
          ],
          [
           "Parabacteroides, Ruminococcus",
           "Roseburia"
          ],
          [
           "Roseburia, Ruminococcus",
           "Parabacteroides"
          ],
          [
           "Parabacteroides",
           "Roseburia, Ruminococcus"
          ],
          [
           "Roseburia",
           "Parabacteroides, Ruminococcus"
          ],
          [
           "Ruminococcus",
           "Parabacteroides, Roseburia"
          ],
          [
           "Parabacteroides, Roseburia",
           "Faecalibacterium"
          ],
          [
           "Faecalibacterium, Parabacteroides",
           "Roseburia"
          ],
          [
           "Faecalibacterium, Roseburia",
           "Parabacteroides"
          ],
          [
           "Parabacteroides",
           "Faecalibacterium, Roseburia"
          ],
          [
           "Roseburia",
           "Faecalibacterium, Parabacteroides"
          ],
          [
           "Faecalibacterium",
           "Parabacteroides, Roseburia"
          ],
          [
           "Oscillibacter, Parabacteroides",
           "Roseburia"
          ],
          [
           "Oscillibacter, Roseburia",
           "Parabacteroides"
          ],
          [
           "Parabacteroides, Roseburia",
           "Oscillibacter"
          ],
          [
           "Oscillibacter",
           "Parabacteroides, Roseburia"
          ],
          [
           "Parabacteroides",
           "Oscillibacter, Roseburia"
          ],
          [
           "Roseburia",
           "Oscillibacter, Parabacteroides"
          ],
          [
           "Roseburia, Ruminococcus",
           "Faecalibacterium"
          ],
          [
           "Faecalibacterium, Ruminococcus",
           "Roseburia"
          ],
          [
           "Faecalibacterium, Roseburia",
           "Ruminococcus"
          ],
          [
           "Ruminococcus",
           "Faecalibacterium, Roseburia"
          ],
          [
           "Roseburia",
           "Faecalibacterium, Ruminococcus"
          ],
          [
           "Faecalibacterium",
           "Roseburia, Ruminococcus"
          ],
          [
           "Oscillibacter, Ruminococcus",
           "Roseburia"
          ],
          [
           "Oscillibacter, Roseburia",
           "Ruminococcus"
          ],
          [
           "Roseburia, Ruminococcus",
           "Oscillibacter"
          ],
          [
           "Oscillibacter",
           "Roseburia, Ruminococcus"
          ],
          [
           "Ruminococcus",
           "Oscillibacter, Roseburia"
          ],
          [
           "Roseburia",
           "Oscillibacter, Ruminococcus"
          ],
          [
           "Oscillibacter, Roseburia",
           "Faecalibacterium"
          ],
          [
           "Faecalibacterium, Oscillibacter",
           "Roseburia"
          ],
          [
           "Faecalibacterium, Roseburia",
           "Oscillibacter"
          ],
          [
           "Oscillibacter",
           "Faecalibacterium, Roseburia"
          ],
          [
           "Roseburia",
           "Faecalibacterium, Oscillibacter"
          ],
          [
           "Faecalibacterium",
           "Oscillibacter, Roseburia"
          ],
          [
           "Clostridium, Eubacterium",
           "Bacteroides"
          ],
          [
           "Bacteroides, Clostridium",
           "Eubacterium"
          ],
          [
           "Bacteroides, Eubacterium",
           "Clostridium"
          ],
          [
           "Clostridium",
           "Bacteroides, Eubacterium"
          ],
          [
           "Eubacterium",
           "Bacteroides, Clostridium"
          ],
          [
           "Bacteroides",
           "Clostridium, Eubacterium"
          ],
          [
           "Clostridium, Parabacteroides",
           "Bacteroides"
          ],
          [
           "Bacteroides, Clostridium",
           "Parabacteroides"
          ],
          [
           "Bacteroides, Parabacteroides",
           "Clostridium"
          ],
          [
           "Clostridium",
           "Bacteroides, Parabacteroides"
          ],
          [
           "Parabacteroides",
           "Bacteroides, Clostridium"
          ],
          [
           "Bacteroides",
           "Clostridium, Parabacteroides"
          ],
          [
           "Clostridium, Ruminococcus",
           "Bacteroides"
          ],
          [
           "Bacteroides, Clostridium",
           "Ruminococcus"
          ],
          [
           "Bacteroides, Ruminococcus",
           "Clostridium"
          ],
          [
           "Clostridium",
           "Bacteroides, Ruminococcus"
          ],
          [
           "Ruminococcus",
           "Bacteroides, Clostridium"
          ],
          [
           "Bacteroides",
           "Clostridium, Ruminococcus"
          ],
          [
           "Bacteroides, Clostridium",
           "Faecalibacterium"
          ],
          [
           "Clostridium, Faecalibacterium",
           "Bacteroides"
          ],
          [
           "Bacteroides, Faecalibacterium",
           "Clostridium"
          ],
          [
           "Clostridium",
           "Bacteroides, Faecalibacterium"
          ],
          [
           "Bacteroides",
           "Clostridium, Faecalibacterium"
          ],
          [
           "Faecalibacterium",
           "Bacteroides, Clostridium"
          ],
          [
           "Eubacterium, Parabacteroides",
           "Bacteroides"
          ],
          [
           "Bacteroides, Eubacterium",
           "Parabacteroides"
          ],
          [
           "Bacteroides, Parabacteroides",
           "Eubacterium"
          ],
          [
           "Eubacterium",
           "Bacteroides, Parabacteroides"
          ],
          [
           "Parabacteroides",
           "Bacteroides, Eubacterium"
          ],
          [
           "Bacteroides",
           "Eubacterium, Parabacteroides"
          ],
          [
           "Eubacterium, Ruminococcus",
           "Bacteroides"
          ],
          [
           "Bacteroides, Eubacterium",
           "Ruminococcus"
          ],
          [
           "Bacteroides, Ruminococcus",
           "Eubacterium"
          ],
          [
           "Eubacterium",
           "Bacteroides, Ruminococcus"
          ],
          [
           "Ruminococcus",
           "Bacteroides, Eubacterium"
          ],
          [
           "Bacteroides",
           "Eubacterium, Ruminococcus"
          ],
          [
           "Bacteroides, Eubacterium",
           "Faecalibacterium"
          ],
          [
           "Bacteroides, Faecalibacterium",
           "Eubacterium"
          ],
          [
           "Eubacterium, Faecalibacterium",
           "Bacteroides"
          ],
          [
           "Bacteroides",
           "Eubacterium, Faecalibacterium"
          ],
          [
           "Eubacterium",
           "Bacteroides, Faecalibacterium"
          ],
          [
           "Faecalibacterium",
           "Bacteroides, Eubacterium"
          ],
          [
           "Eubacterium, Oscillibacter",
           "Bacteroides"
          ],
          [
           "Bacteroides, Oscillibacter",
           "Eubacterium"
          ],
          [
           "Bacteroides, Eubacterium",
           "Oscillibacter"
          ],
          [
           "Oscillibacter",
           "Bacteroides, Eubacterium"
          ],
          [
           "Eubacterium",
           "Bacteroides, Oscillibacter"
          ],
          [
           "Bacteroides",
           "Eubacterium, Oscillibacter"
          ],
          [
           "Parabacteroides, Ruminococcus",
           "Bacteroides"
          ],
          [
           "Bacteroides, Parabacteroides",
           "Ruminococcus"
          ],
          [
           "Bacteroides, Ruminococcus",
           "Parabacteroides"
          ],
          [
           "Parabacteroides",
           "Bacteroides, Ruminococcus"
          ],
          [
           "Ruminococcus",
           "Bacteroides, Parabacteroides"
          ],
          [
           "Bacteroides",
           "Parabacteroides, Ruminococcus"
          ],
          [
           "Bacteroides, Parabacteroides",
           "Faecalibacterium"
          ],
          [
           "Bacteroides, Faecalibacterium",
           "Parabacteroides"
          ],
          [
           "Faecalibacterium, Parabacteroides",
           "Bacteroides"
          ],
          [
           "Bacteroides",
           "Faecalibacterium, Parabacteroides"
          ],
          [
           "Parabacteroides",
           "Bacteroides, Faecalibacterium"
          ],
          [
           "Faecalibacterium",
           "Bacteroides, Parabacteroides"
          ],
          [
           "Oscillibacter, Parabacteroides",
           "Bacteroides"
          ],
          [
           "Bacteroides, Oscillibacter",
           "Parabacteroides"
          ],
          [
           "Bacteroides, Parabacteroides",
           "Oscillibacter"
          ],
          [
           "Oscillibacter",
           "Bacteroides, Parabacteroides"
          ],
          [
           "Parabacteroides",
           "Bacteroides, Oscillibacter"
          ],
          [
           "Bacteroides",
           "Oscillibacter, Parabacteroides"
          ],
          [
           "Dorea, Ruminococcus",
           "Bacteroides"
          ],
          [
           "Bacteroides, Ruminococcus",
           "Dorea"
          ],
          [
           "Bacteroides, Dorea",
           "Ruminococcus"
          ],
          [
           "Ruminococcus",
           "Bacteroides, Dorea"
          ],
          [
           "Dorea",
           "Bacteroides, Ruminococcus"
          ],
          [
           "Bacteroides",
           "Dorea, Ruminococcus"
          ],
          [
           "Bacteroides, Dorea",
           "Faecalibacterium"
          ],
          [
           "Bacteroides, Faecalibacterium",
           "Dorea"
          ],
          [
           "Dorea, Faecalibacterium",
           "Bacteroides"
          ],
          [
           "Bacteroides",
           "Dorea, Faecalibacterium"
          ],
          [
           "Dorea",
           "Bacteroides, Faecalibacterium"
          ],
          [
           "Faecalibacterium",
           "Bacteroides, Dorea"
          ],
          [
           "Bacteroides, Ruminococcus",
           "Faecalibacterium"
          ],
          [
           "Bacteroides, Faecalibacterium",
           "Ruminococcus"
          ],
          [
           "Faecalibacterium, Ruminococcus",
           "Bacteroides"
          ],
          [
           "Bacteroides",
           "Faecalibacterium, Ruminococcus"
          ],
          [
           "Ruminococcus",
           "Bacteroides, Faecalibacterium"
          ],
          [
           "Faecalibacterium",
           "Bacteroides, Ruminococcus"
          ],
          [
           "Oscillibacter, Ruminococcus",
           "Bacteroides"
          ],
          [
           "Bacteroides, Oscillibacter",
           "Ruminococcus"
          ],
          [
           "Bacteroides, Ruminococcus",
           "Oscillibacter"
          ],
          [
           "Oscillibacter",
           "Bacteroides, Ruminococcus"
          ],
          [
           "Ruminococcus",
           "Bacteroides, Oscillibacter"
          ],
          [
           "Bacteroides",
           "Oscillibacter, Ruminococcus"
          ],
          [
           "Bacteroides, Oscillibacter",
           "Faecalibacterium"
          ],
          [
           "Faecalibacterium, Oscillibacter",
           "Bacteroides"
          ],
          [
           "Bacteroides, Faecalibacterium",
           "Oscillibacter"
          ],
          [
           "Oscillibacter",
           "Bacteroides, Faecalibacterium"
          ],
          [
           "Bacteroides",
           "Faecalibacterium, Oscillibacter"
          ],
          [
           "Faecalibacterium",
           "Bacteroides, Oscillibacter"
          ],
          [
           "Clostridium, Parabacteroides",
           "Ruminococcus"
          ],
          [
           "Clostridium, Ruminococcus",
           "Parabacteroides"
          ],
          [
           "Parabacteroides, Ruminococcus",
           "Clostridium"
          ],
          [
           "Clostridium",
           "Parabacteroides, Ruminococcus"
          ],
          [
           "Parabacteroides",
           "Clostridium, Ruminococcus"
          ],
          [
           "Ruminococcus",
           "Clostridium, Parabacteroides"
          ],
          [
           "Clostridium, Parabacteroides",
           "Faecalibacterium"
          ],
          [
           "Clostridium, Faecalibacterium",
           "Parabacteroides"
          ],
          [
           "Faecalibacterium, Parabacteroides",
           "Clostridium"
          ],
          [
           "Clostridium",
           "Faecalibacterium, Parabacteroides"
          ],
          [
           "Parabacteroides",
           "Clostridium, Faecalibacterium"
          ],
          [
           "Faecalibacterium",
           "Clostridium, Parabacteroides"
          ],
          [
           "Clostridium, Ruminococcus",
           "Faecalibacterium"
          ],
          [
           "Clostridium, Faecalibacterium",
           "Ruminococcus"
          ],
          [
           "Faecalibacterium, Ruminococcus",
           "Clostridium"
          ],
          [
           "Clostridium",
           "Faecalibacterium, Ruminococcus"
          ],
          [
           "Ruminococcus",
           "Clostridium, Faecalibacterium"
          ],
          [
           "Faecalibacterium",
           "Clostridium, Ruminococcus"
          ],
          [
           "Parabacteroides, Ruminococcus",
           "Eubacterium"
          ],
          [
           "Eubacterium, Parabacteroides",
           "Ruminococcus"
          ],
          [
           "Eubacterium, Ruminococcus",
           "Parabacteroides"
          ],
          [
           "Parabacteroides",
           "Eubacterium, Ruminococcus"
          ],
          [
           "Ruminococcus",
           "Eubacterium, Parabacteroides"
          ],
          [
           "Eubacterium",
           "Parabacteroides, Ruminococcus"
          ],
          [
           "Eubacterium, Parabacteroides",
           "Faecalibacterium"
          ],
          [
           "Eubacterium, Faecalibacterium",
           "Parabacteroides"
          ],
          [
           "Faecalibacterium, Parabacteroides",
           "Eubacterium"
          ],
          [
           "Eubacterium",
           "Faecalibacterium, Parabacteroides"
          ],
          [
           "Parabacteroides",
           "Eubacterium, Faecalibacterium"
          ],
          [
           "Faecalibacterium",
           "Eubacterium, Parabacteroides"
          ],
          [
           "Oscillibacter, Parabacteroides",
           "Eubacterium"
          ],
          [
           "Eubacterium, Oscillibacter",
           "Parabacteroides"
          ],
          [
           "Eubacterium, Parabacteroides",
           "Oscillibacter"
          ],
          [
           "Oscillibacter",
           "Eubacterium, Parabacteroides"
          ],
          [
           "Parabacteroides",
           "Eubacterium, Oscillibacter"
          ],
          [
           "Eubacterium",
           "Oscillibacter, Parabacteroides"
          ],
          [
           "Eubacterium, Ruminococcus",
           "Faecalibacterium"
          ],
          [
           "Eubacterium, Faecalibacterium",
           "Ruminococcus"
          ],
          [
           "Faecalibacterium, Ruminococcus",
           "Eubacterium"
          ],
          [
           "Eubacterium",
           "Faecalibacterium, Ruminococcus"
          ],
          [
           "Ruminococcus",
           "Eubacterium, Faecalibacterium"
          ],
          [
           "Faecalibacterium",
           "Eubacterium, Ruminococcus"
          ],
          [
           "Oscillibacter, Ruminococcus",
           "Eubacterium"
          ],
          [
           "Eubacterium, Oscillibacter",
           "Ruminococcus"
          ],
          [
           "Eubacterium, Ruminococcus",
           "Oscillibacter"
          ],
          [
           "Oscillibacter",
           "Eubacterium, Ruminococcus"
          ],
          [
           "Ruminococcus",
           "Eubacterium, Oscillibacter"
          ],
          [
           "Eubacterium",
           "Oscillibacter, Ruminococcus"
          ],
          [
           "Eubacterium, Oscillibacter",
           "Faecalibacterium"
          ],
          [
           "Faecalibacterium, Oscillibacter",
           "Eubacterium"
          ],
          [
           "Eubacterium, Faecalibacterium",
           "Oscillibacter"
          ],
          [
           "Oscillibacter",
           "Eubacterium, Faecalibacterium"
          ],
          [
           "Eubacterium",
           "Faecalibacterium, Oscillibacter"
          ],
          [
           "Faecalibacterium",
           "Eubacterium, Oscillibacter"
          ],
          [
           "Parabacteroides, Ruminococcus",
           "Faecalibacterium"
          ],
          [
           "Faecalibacterium, Parabacteroides",
           "Ruminococcus"
          ],
          [
           "Faecalibacterium, Ruminococcus",
           "Parabacteroides"
          ],
          [
           "Parabacteroides",
           "Faecalibacterium, Ruminococcus"
          ],
          [
           "Ruminococcus",
           "Faecalibacterium, Parabacteroides"
          ],
          [
           "Faecalibacterium",
           "Parabacteroides, Ruminococcus"
          ],
          [
           "Oscillibacter, Parabacteroides",
           "Ruminococcus"
          ],
          [
           "Oscillibacter, Ruminococcus",
           "Parabacteroides"
          ],
          [
           "Parabacteroides, Ruminococcus",
           "Oscillibacter"
          ],
          [
           "Oscillibacter",
           "Parabacteroides, Ruminococcus"
          ],
          [
           "Parabacteroides",
           "Oscillibacter, Ruminococcus"
          ],
          [
           "Ruminococcus",
           "Oscillibacter, Parabacteroides"
          ],
          [
           "Oscillibacter, Parabacteroides",
           "Faecalibacterium"
          ],
          [
           "Faecalibacterium, Oscillibacter",
           "Parabacteroides"
          ],
          [
           "Faecalibacterium, Parabacteroides",
           "Oscillibacter"
          ],
          [
           "Oscillibacter",
           "Faecalibacterium, Parabacteroides"
          ],
          [
           "Parabacteroides",
           "Faecalibacterium, Oscillibacter"
          ],
          [
           "Faecalibacterium",
           "Oscillibacter, Parabacteroides"
          ],
          [
           "Dorea, Ruminococcus",
           "Faecalibacterium"
          ],
          [
           "Faecalibacterium, Ruminococcus",
           "Dorea"
          ],
          [
           "Dorea, Faecalibacterium",
           "Ruminococcus"
          ],
          [
           "Ruminococcus",
           "Dorea, Faecalibacterium"
          ],
          [
           "Dorea",
           "Faecalibacterium, Ruminococcus"
          ],
          [
           "Faecalibacterium",
           "Dorea, Ruminococcus"
          ],
          [
           "Oscillibacter, Ruminococcus",
           "Faecalibacterium"
          ],
          [
           "Faecalibacterium, Oscillibacter",
           "Ruminococcus"
          ],
          [
           "Faecalibacterium, Ruminococcus",
           "Oscillibacter"
          ],
          [
           "Oscillibacter",
           "Faecalibacterium, Ruminococcus"
          ],
          [
           "Ruminococcus",
           "Faecalibacterium, Oscillibacter"
          ],
          [
           "Faecalibacterium",
           "Oscillibacter, Ruminococcus"
          ]
         ],
         "hovertemplate": "support=%{x}<br>confidence=%{y}<br>lift=%{marker.color}<br>antecedents=%{customdata[0]}<br>consequents=%{customdata[1]}<extra></extra>",
         "legendgroup": "",
         "marker": {
          "color": [
           1.0666725240932429,
           1.0666725240932429,
           1.116442235661691,
           1.116442235661691,
           1.0809080021305355,
           1.0809080021305353,
           1.0453411918430893,
           1.0453411918430893,
           1.0637499731394875,
           1.0637499731394875,
           1.10796974477611,
           1.10796974477611,
           1.1148478041041727,
           1.1148478041041727,
           1.0794113633110647,
           1.0794113633110647,
           1.069403215150848,
           1.069403215150848,
           1.0744241839856283,
           1.0744241839856283,
           1.110047350663914,
           1.110047350663914,
           1.0876350771662955,
           1.0876350771662955,
           1.0668833147151418,
           1.0668833147151415,
           1.084443191393247,
           1.084443191393247,
           1.1249585120298846,
           1.1249585120298844,
           1.1432074267405634,
           1.1432074267405634,
           1.0881789626905694,
           1.0881789626905694,
           1.098064585691951,
           1.098064585691951,
           1.1403908144730568,
           1.1403908144730568,
           1.0503560611060996,
           1.0503560611060996,
           1.062556786986245,
           1.0625567869862447,
           1.1400203314219166,
           1.1400203314219164,
           1.0839075722870206,
           1.0839075722870204,
           1.0777708067077185,
           1.0777708067077185,
           1.078534507035856,
           1.078534507035856,
           1.1401466768577841,
           1.1401466768577841,
           1.0511930152121933,
           1.0511930152121933,
           1.0533116140436003,
           1.0533116140436005,
           1.0653460967061075,
           1.0653460967061077,
           1.0616386111529588,
           1.0616386111529588,
           1.0474446581570205,
           1.0474446581570205,
           1.0589119943125112,
           1.0589119943125112,
           1.0601624844630988,
           1.0601624844630988,
           1.0689841051507099,
           1.0689841051507099,
           1.0781656620653557,
           1.0781656620653557,
           1.0770915550063715,
           1.0770915550063715,
           1.0753693287320092,
           1.0753693287320092,
           1.1193134639316227,
           1.1193134639316227,
           1.0729249352890422,
           1.0729249352890424,
           1.081513372952353,
           1.081513372952353,
           1.1815053430778946,
           1.1815053430778946,
           1.083512834183868,
           1.0835128341838678,
           1.0956983676070347,
           1.0956983676070347,
           1.135591947368008,
           1.135591947368008,
           1.0978989239207804,
           1.0978989239207806,
           1.0897197913904357,
           1.0897197913904357,
           1.0765663129015957,
           1.0765663129015957,
           1.0777251416690448,
           1.0777251416690448,
           1.0934835343132099,
           1.0934835343132099,
           1.091540477389205,
           1.1274242474749157,
           1.1204510745154161,
           1.1204510745154164,
           1.1274242474749157,
           1.091540477389205,
           1.0676575158827302,
           1.140276450650042,
           1.1172524000634325,
           1.1172524000634325,
           1.140276450650042,
           1.0676575158827302,
           1.1422473040929155,
           1.1204510745154161,
           1.0883371304269478,
           1.0883371304269478,
           1.1204510745154164,
           1.1422473040929155,
           1.128140769210657,
           1.13676750512096,
           1.1196004021925983,
           1.1196004021925983,
           1.13676750512096,
           1.128140769210657,
           1.146456652873388,
           1.1180164264683092,
           1.144819356640516,
           1.144819356640516,
           1.1180164264683092,
           1.146456652873388,
           1.0913019390581717,
           1.1393042019722954,
           1.119646325096708,
           1.119646325096708,
           1.1393042019722952,
           1.0913019390581717,
           1.0996558611893243,
           1.1426606608671732,
           1.1180601433849617,
           1.1180601433849617,
           1.1426606608671732,
           1.0996558611893243,
           1.15015956974257,
           1.119556179364203,
           1.1435715547583132,
           1.1435715547583132,
           1.119556179364203,
           1.15015956974257,
           1.0529421013923055,
           1.0887675259102616,
           1.0835692631473455,
           1.0835692631473457,
           1.0887675259102618,
           1.0529421013923055,
           1.178088986473419,
           1.1493146078264893,
           1.1170027214450517,
           1.1170027214450517,
           1.1493146078264893,
           1.178088986473419,
           1.0893573813264956,
           1.123562488262392,
           1.1204531783960288,
           1.1204531783960288,
           1.1235624882623922,
           1.0893573813264954,
           1.093545279852898,
           1.0819059863398954,
           1.0850552185209303,
           1.0850552185209301,
           1.0819059863398954,
           1.093545279852898,
           1.0835171048911507,
           1.0900557960056318,
           1.085901565023565,
           1.085901565023565,
           1.0900557960056316,
           1.0835171048911507,
           1.1508185734470595,
           1.1204375142945553,
           1.1818425860774238,
           1.1818425860774235,
           1.1204375142945553,
           1.1508185734470595,
           1.0634805867525883,
           1.076184325068097,
           1.0822088083966388,
           1.0822088083966388,
           1.076184325068097,
           1.063480586752588,
           1.0587694111633918,
           1.1222024764901273,
           1.113710756269035,
           1.113710756269035,
           1.1222024764901273,
           1.058769411163392,
           1.06843853820598,
           1.1394809344870873,
           1.118083937062385,
           1.118083937062385,
           1.1394809344870873,
           1.06843853820598,
           1.0613627862973312,
           1.0857936001800654,
           1.083613121961885,
           1.083613121961885,
           1.0857936001800654,
           1.0613627862973314,
           1.095805871603765,
           1.0661441104217153,
           1.0817622446468127,
           1.0817622446468127,
           1.0661441104217153,
           1.095805871603765,
           1.06843853820598,
           1.1187128256886127,
           1.1345744125816484,
           1.1345744125816484,
           1.1187128256886127,
           1.06843853820598,
           1.1222229522027933,
           1.1167281435807093,
           1.0774343260640789,
           1.0774343260640789,
           1.1167281435807093,
           1.1222229522027936,
           1.135635163403521,
           1.1204510745154161,
           1.0835845665386206,
           1.0835845665386206,
           1.1204510745154164,
           1.1356351634035209,
           1.0917670045182564,
           1.078243642643734,
           1.0859955396403533,
           1.0859955396403533,
           1.078243642643734,
           1.0917670045182564,
           1.0934980696946839,
           1.0816828332247166,
           1.082634363227774,
           1.082634363227774,
           1.0816828332247166,
           1.0934980696946839,
           1.124086451167846,
           1.1310645598548894,
           1.1196017488308179,
           1.1196017488308179,
           1.1310645598548894,
           1.124086451167846,
           1.1232682925224453,
           1.0841692466460269,
           1.1195813276321138,
           1.119581327632114,
           1.0841692466460269,
           1.123268292522445,
           1.092068102961349,
           1.1261645403659322,
           1.1187826684132212,
           1.1187826684132212,
           1.1261645403659322,
           1.092068102961349,
           1.1888359466286043,
           1.116934595903986,
           1.191065188513587,
           1.191065188513587,
           1.116934595903986,
           1.1888359466286043,
           1.0881789626905694,
           1.1344214322909179,
           1.1196488760945034,
           1.1196488760945034,
           1.134421432290918,
           1.0881789626905694,
           1.0988672644826616,
           1.140210519336971,
           1.1180720835479223,
           1.1180720835479223,
           1.140210519336971,
           1.0988672644826616,
           1.145322489689706,
           1.1195590090987582,
           1.1403908144730568,
           1.1403908144730568,
           1.119559009098758,
           1.145322489689706,
           1.0923306594960587,
           1.0872260106242702,
           1.085062671266871,
           1.085062671266871,
           1.0872260106242702,
           1.092330659496059,
           1.086921999835269,
           1.1195200331198867,
           1.128231960781296,
           1.1282319607812963,
           1.1195200331198867,
           1.086921999835269,
           1.102880658436214,
           1.119586820083682,
           1.1394473162863654,
           1.1394473162863654,
           1.119586820083682,
           1.102880658436214,
           1.0675925852857853,
           1.0883581436358838,
           1.1054833564312423,
           1.1054833564312423,
           1.0883581436358838,
           1.0675925852857853,
           1.1925194076979446,
           1.1529544637815081,
           1.1377217600988867,
           1.1377217600988867,
           1.1529544637815081,
           1.1925194076979444,
           1.0903180443136293,
           1.1460274791946679,
           1.1499686113813061,
           1.1499686113813061,
           1.1460274791946679,
           1.0903180443136293,
           1.0980439221569365,
           1.097495106001916,
           1.108093741799611,
           1.108093741799611,
           1.097495106001916,
           1.0980439221569365,
           1.102880658436214,
           1.0924054064521125,
           1.1121866590436384,
           1.1121866590436384,
           1.0924054064521125,
           1.102880658436214,
           1.1512439591909789,
           1.1514904730479227,
           1.2070850451968773,
           1.2070850451968773,
           1.1514904730479225,
           1.1512439591909789,
           1.06843853820598,
           1.1022342057188632,
           1.0860240123719545,
           1.0860240123719545,
           1.1022342057188632,
           1.06843853820598,
           1.0676102912771384,
           1.1402297940039674,
           1.125725061154971,
           1.1257250611549712,
           1.1402297940039676,
           1.0676102912771384,
           1.06843853820598,
           1.144873909869923,
           1.1465258808094765,
           1.1465258808094765,
           1.144873909869923,
           1.0684385382059802,
           1.0676321694979,
           1.0889427650759553,
           1.1091515505778133,
           1.1091515505778133,
           1.0889427650759553,
           1.0676321694979,
           1.098861414054158,
           1.1071334673093487,
           1.0676575158827302,
           1.0676575158827302,
           1.1071334673093487,
           1.098861414054158,
           1.06843853820598,
           1.1492931627515348,
           1.1420531917536296,
           1.1420531917536296,
           1.1492931627515348,
           1.0684385382059802,
           1.0862443955327301,
           1.1451062352403314,
           1.1517735204527932,
           1.1517735204527932,
           1.1451062352403314,
           1.0862443955327301,
           1.0971504771429763,
           1.104639024734081,
           1.0933839062002522,
           1.0933839062002522,
           1.104639024734081,
           1.0971504771429763,
           1.099387766406329,
           1.1086642943277443,
           1.0857499581676129,
           1.0857499581676127,
           1.1086642943277443,
           1.099387766406329,
           1.1272064911409174,
           1.1454918722444722,
           1.1512689462486343,
           1.1512689462486343,
           1.1454918722444722,
           1.1272064911409174,
           1.1285797036245537,
           1.0916817625458997,
           1.144624988022067,
           1.1446249880220667,
           1.0916817625458997,
           1.1285797036245537,
           1.1020257121893642,
           1.1462948460997333,
           1.129016654901038,
           1.129016654901038,
           1.1462948460997333,
           1.1020257121893642,
           1.1924967836250382,
           1.1509997701677777,
           1.2088555833768664,
           1.2088555833768664,
           1.1509997701677777,
           1.1924967836250382,
           1.089135282651072,
           1.1442121071457827,
           1.1491396359783206,
           1.1491396359783206,
           1.1442121071457827,
           1.089135282651072,
           1.0996128638926992,
           1.144819356640516,
           1.1472916540772287,
           1.1472916540772287,
           1.144819356640516,
           1.0996128638926992,
           1.1487326263864954,
           1.1459024012393493,
           1.1535870243293824,
           1.1535870243293824,
           1.145902401239349,
           1.1487326263864954,
           1.0995512073918783,
           1.0896522006771314,
           1.1114117894512132,
           1.1114117894512132,
           1.0896522006771314,
           1.0995512073918783,
           1.0880562296042173,
           1.1513226164040558,
           1.1402621925375969,
           1.1402621925375969,
           1.151322616404056,
           1.088056229604217,
           1.102880658436214,
           1.1501910480349344,
           1.1453925285716227,
           1.1453925285716227,
           1.1501910480349347,
           1.1028806584362139,
           1.0649469089961567,
           1.0764593652722014,
           1.0773171192464668,
           1.0773171192464668,
           1.0764593652722014,
           1.0649469089961567,
           1.0610016110258922,
           1.1483433697246375,
           1.1515746450467172,
           1.1515746450467175,
           1.1483433697246375,
           1.061001611025892,
           1.06843853820598,
           1.087053893251569,
           1.1025676577380694,
           1.1025676577380696,
           1.087053893251569,
           1.0684385382059802,
           1.0643228273500247,
           1.0951376412084552,
           1.092102111566341,
           1.092102111566341,
           1.0951376412084552,
           1.064322827350025,
           1.0954510731623173,
           1.0865999068111858,
           1.0668306547775286,
           1.0668306547775286,
           1.0865999068111858,
           1.0954510731623173,
           1.06843853820598,
           1.1490471193000775,
           1.159774950486324,
           1.159774950486324,
           1.1490471193000775,
           1.06843853820598,
           1.0965733344092095,
           1.0835081564754325,
           1.080328381988344,
           1.080328381988344,
           1.0835081564754325,
           1.0965733344092095,
           1.1896935323242526,
           1.1520613929342725,
           1.1311358164803693,
           1.1311358164803693,
           1.1520613929342722,
           1.1896935323242526,
           1.151132431184971,
           1.1563315271924544,
           1.088276142793178,
           1.088276142793178,
           1.1563315271924544,
           1.151132431184971,
           1.0917921444689513,
           1.1508551567731502,
           1.154033769213431,
           1.154033769213431,
           1.1508551567731502,
           1.0917921444689513,
           1.1933956613203887,
           1.1516207737887767,
           1.1935279222027926,
           1.1935279222027926,
           1.1516207737887767,
           1.1933956613203887,
           1.096333250187079,
           1.096732658937902,
           1.1025757092621622,
           1.1025757092621622,
           1.096732658937902,
           1.096333250187079,
           1.1020095046775755,
           1.0901507952968716,
           1.1074995181517937,
           1.1074995181517937,
           1.0901507952968716,
           1.1020095046775755,
           1.150355653666912,
           1.1457601407159577,
           1.2052084977661608,
           1.2052084977661608,
           1.1457601407159577,
           1.150355653666912,
           1.0960832429758984,
           1.0973095728929114,
           1.0953071165498396,
           1.0953071165498396,
           1.0973095728929114,
           1.0960832429758984,
           1.1592322249256557,
           1.0957657810120156,
           1.1591831083750368,
           1.1591831083750368,
           1.0957657810120156,
           1.1592322249256555,
           1.102880658436214,
           1.1499448123620308,
           1.1658836221593143,
           1.1658836221593143,
           1.1499448123620308,
           1.102880658436214,
           1.0640452876376991,
           1.0820538979852437,
           1.0798774878011856,
           1.0798774878011856,
           1.0820538979852437,
           1.064045287637699,
           1.06843853820598,
           1.095853689332647,
           1.0812953156562564,
           1.0812953156562564,
           1.095853689332647,
           1.06843853820598,
           1.061047341554286,
           1.0871886651752423,
           1.0910792490563839,
           1.0910792490563839,
           1.0871886651752423,
           1.061047341554286,
           1.09218904877203,
           1.0676345964917544,
           1.0842274953225002,
           1.0842274953225002,
           1.0676345964917544,
           1.09218904877203,
           1.06843853820598,
           1.1353882604657881,
           1.1225625596179263,
           1.1225625596179263,
           1.1353882604657881,
           1.06843853820598,
           1.0634145325404347,
           1.0832159764490592,
           1.0892832949464843,
           1.0892832949464843,
           1.0832159764490594,
           1.0634145325404347,
           1.0945444478660233,
           1.0887556144575827,
           1.0660028880428964,
           1.0660028880428964,
           1.088755614457583,
           1.0945444478660233,
           1.0659206154922192,
           1.187922531647337,
           1.1956489283035703,
           1.1956489283035703,
           1.187922531647337,
           1.0659206154922192,
           1.06843853820598,
           1.0866580093193798,
           1.1052296268518338,
           1.1052296268518338,
           1.0866580093193798,
           1.0684385382059802,
           1.0988789143925413,
           1.1055558615716654,
           1.06843853820598,
           1.0684385382059802,
           1.1055558615716654,
           1.0988789143925413,
           1.06843853820598,
           1.1444568337643235,
           1.1388882955461446,
           1.1388882955461443,
           1.1444568337643235,
           1.06843853820598,
           1.0631968119351414,
           1.114409841750905,
           1.0995103451181998,
           1.0995103451181998,
           1.114409841750905,
           1.0631968119351414,
           1.0940505490812404,
           1.0968676449942605,
           1.0658577687900237,
           1.0658577687900237,
           1.0968676449942605,
           1.0940505490812404,
           1.0957754859767108,
           1.0839089419049355,
           1.066134213536952,
           1.066134213536952,
           1.0839089419049355,
           1.0957754859767108,
           1.066705466773367,
           1.084376515058137,
           1.0975427592711393,
           1.0975427592711393,
           1.0843765150581373,
           1.066705466773367,
           1.10201970554126,
           1.06843853820598,
           1.1033211024419791,
           1.1033211024419793,
           1.06843853820598,
           1.10201970554126,
           1.094470142101096,
           1.0955615795931215,
           1.089068895301103,
           1.0890688953011027,
           1.0955615795931217,
           1.094470142101096,
           1.099387766406329,
           1.1022465560103623,
           1.0817960253265073,
           1.081796025326507,
           1.1022465560103623,
           1.099387766406329,
           1.0901648937347972,
           1.0919108154132509,
           1.0906967704027517,
           1.0906967704027515,
           1.0919108154132509,
           1.0901648937347972,
           1.1250728591210637,
           1.0890880182640954,
           1.1361753671250154,
           1.1361753671250154,
           1.0890880182640954,
           1.1250728591210635,
           1.1011720904138496,
           1.1396592753553065,
           1.124905159435266,
           1.1249051594352661,
           1.1396592753553065,
           1.1011720904138496,
           1.1887020083741395,
           1.142508949653439,
           1.2059896284891949,
           1.2059896284891949,
           1.142508949653439,
           1.1887020083741395,
           1.095966046157617,
           1.0872628379459286,
           1.0922590508924201,
           1.09225905089242,
           1.0872628379459288,
           1.095966046157617,
           1.1923809109402026,
           1.087645429362881,
           1.197715556699504,
           1.197715556699504,
           1.087645429362881,
           1.1923809109402026,
           1.1002815681178255,
           1.1888505961251863,
           1.2020087630285894,
           1.2020087630285892,
           1.1888505961251865,
           1.1002815681178255,
           1.0995562254040023,
           1.0873277877870204,
           1.106651088608701,
           1.106651088608701,
           1.0873277877870204,
           1.0995562254040023,
           1.086329156223893,
           1.1446579413452769,
           1.1385436361057393,
           1.1385436361057393,
           1.144657941345277,
           1.086329156223893,
           1.102880658436214,
           1.1453509406657019,
           1.143035740176684,
           1.143035740176684,
           1.1453509406657019,
           1.102880658436214,
           1.0956663941128373,
           1.1173774812166175,
           1.1038901601830664,
           1.1038901601830664,
           1.1173774812166175,
           1.0956663941128373,
           1.1010917198175016,
           1.0852236842105265,
           1.1022769480242858,
           1.1022769480242858,
           1.0852236842105263,
           1.1010917198175016
          ],
          "coloraxis": "coloraxis",
          "size": [
           1.0666725240932429,
           1.0666725240932429,
           1.116442235661691,
           1.116442235661691,
           1.0809080021305355,
           1.0809080021305353,
           1.0453411918430893,
           1.0453411918430893,
           1.0637499731394875,
           1.0637499731394875,
           1.10796974477611,
           1.10796974477611,
           1.1148478041041727,
           1.1148478041041727,
           1.0794113633110647,
           1.0794113633110647,
           1.069403215150848,
           1.069403215150848,
           1.0744241839856283,
           1.0744241839856283,
           1.110047350663914,
           1.110047350663914,
           1.0876350771662955,
           1.0876350771662955,
           1.0668833147151418,
           1.0668833147151415,
           1.084443191393247,
           1.084443191393247,
           1.1249585120298846,
           1.1249585120298844,
           1.1432074267405634,
           1.1432074267405634,
           1.0881789626905694,
           1.0881789626905694,
           1.098064585691951,
           1.098064585691951,
           1.1403908144730568,
           1.1403908144730568,
           1.0503560611060996,
           1.0503560611060996,
           1.062556786986245,
           1.0625567869862447,
           1.1400203314219166,
           1.1400203314219164,
           1.0839075722870206,
           1.0839075722870204,
           1.0777708067077185,
           1.0777708067077185,
           1.078534507035856,
           1.078534507035856,
           1.1401466768577841,
           1.1401466768577841,
           1.0511930152121933,
           1.0511930152121933,
           1.0533116140436003,
           1.0533116140436005,
           1.0653460967061075,
           1.0653460967061077,
           1.0616386111529588,
           1.0616386111529588,
           1.0474446581570205,
           1.0474446581570205,
           1.0589119943125112,
           1.0589119943125112,
           1.0601624844630988,
           1.0601624844630988,
           1.0689841051507099,
           1.0689841051507099,
           1.0781656620653557,
           1.0781656620653557,
           1.0770915550063715,
           1.0770915550063715,
           1.0753693287320092,
           1.0753693287320092,
           1.1193134639316227,
           1.1193134639316227,
           1.0729249352890422,
           1.0729249352890424,
           1.081513372952353,
           1.081513372952353,
           1.1815053430778946,
           1.1815053430778946,
           1.083512834183868,
           1.0835128341838678,
           1.0956983676070347,
           1.0956983676070347,
           1.135591947368008,
           1.135591947368008,
           1.0978989239207804,
           1.0978989239207806,
           1.0897197913904357,
           1.0897197913904357,
           1.0765663129015957,
           1.0765663129015957,
           1.0777251416690448,
           1.0777251416690448,
           1.0934835343132099,
           1.0934835343132099,
           1.091540477389205,
           1.1274242474749157,
           1.1204510745154161,
           1.1204510745154164,
           1.1274242474749157,
           1.091540477389205,
           1.0676575158827302,
           1.140276450650042,
           1.1172524000634325,
           1.1172524000634325,
           1.140276450650042,
           1.0676575158827302,
           1.1422473040929155,
           1.1204510745154161,
           1.0883371304269478,
           1.0883371304269478,
           1.1204510745154164,
           1.1422473040929155,
           1.128140769210657,
           1.13676750512096,
           1.1196004021925983,
           1.1196004021925983,
           1.13676750512096,
           1.128140769210657,
           1.146456652873388,
           1.1180164264683092,
           1.144819356640516,
           1.144819356640516,
           1.1180164264683092,
           1.146456652873388,
           1.0913019390581717,
           1.1393042019722954,
           1.119646325096708,
           1.119646325096708,
           1.1393042019722952,
           1.0913019390581717,
           1.0996558611893243,
           1.1426606608671732,
           1.1180601433849617,
           1.1180601433849617,
           1.1426606608671732,
           1.0996558611893243,
           1.15015956974257,
           1.119556179364203,
           1.1435715547583132,
           1.1435715547583132,
           1.119556179364203,
           1.15015956974257,
           1.0529421013923055,
           1.0887675259102616,
           1.0835692631473455,
           1.0835692631473457,
           1.0887675259102618,
           1.0529421013923055,
           1.178088986473419,
           1.1493146078264893,
           1.1170027214450517,
           1.1170027214450517,
           1.1493146078264893,
           1.178088986473419,
           1.0893573813264956,
           1.123562488262392,
           1.1204531783960288,
           1.1204531783960288,
           1.1235624882623922,
           1.0893573813264954,
           1.093545279852898,
           1.0819059863398954,
           1.0850552185209303,
           1.0850552185209301,
           1.0819059863398954,
           1.093545279852898,
           1.0835171048911507,
           1.0900557960056318,
           1.085901565023565,
           1.085901565023565,
           1.0900557960056316,
           1.0835171048911507,
           1.1508185734470595,
           1.1204375142945553,
           1.1818425860774238,
           1.1818425860774235,
           1.1204375142945553,
           1.1508185734470595,
           1.0634805867525883,
           1.076184325068097,
           1.0822088083966388,
           1.0822088083966388,
           1.076184325068097,
           1.063480586752588,
           1.0587694111633918,
           1.1222024764901273,
           1.113710756269035,
           1.113710756269035,
           1.1222024764901273,
           1.058769411163392,
           1.06843853820598,
           1.1394809344870873,
           1.118083937062385,
           1.118083937062385,
           1.1394809344870873,
           1.06843853820598,
           1.0613627862973312,
           1.0857936001800654,
           1.083613121961885,
           1.083613121961885,
           1.0857936001800654,
           1.0613627862973314,
           1.095805871603765,
           1.0661441104217153,
           1.0817622446468127,
           1.0817622446468127,
           1.0661441104217153,
           1.095805871603765,
           1.06843853820598,
           1.1187128256886127,
           1.1345744125816484,
           1.1345744125816484,
           1.1187128256886127,
           1.06843853820598,
           1.1222229522027933,
           1.1167281435807093,
           1.0774343260640789,
           1.0774343260640789,
           1.1167281435807093,
           1.1222229522027936,
           1.135635163403521,
           1.1204510745154161,
           1.0835845665386206,
           1.0835845665386206,
           1.1204510745154164,
           1.1356351634035209,
           1.0917670045182564,
           1.078243642643734,
           1.0859955396403533,
           1.0859955396403533,
           1.078243642643734,
           1.0917670045182564,
           1.0934980696946839,
           1.0816828332247166,
           1.082634363227774,
           1.082634363227774,
           1.0816828332247166,
           1.0934980696946839,
           1.124086451167846,
           1.1310645598548894,
           1.1196017488308179,
           1.1196017488308179,
           1.1310645598548894,
           1.124086451167846,
           1.1232682925224453,
           1.0841692466460269,
           1.1195813276321138,
           1.119581327632114,
           1.0841692466460269,
           1.123268292522445,
           1.092068102961349,
           1.1261645403659322,
           1.1187826684132212,
           1.1187826684132212,
           1.1261645403659322,
           1.092068102961349,
           1.1888359466286043,
           1.116934595903986,
           1.191065188513587,
           1.191065188513587,
           1.116934595903986,
           1.1888359466286043,
           1.0881789626905694,
           1.1344214322909179,
           1.1196488760945034,
           1.1196488760945034,
           1.134421432290918,
           1.0881789626905694,
           1.0988672644826616,
           1.140210519336971,
           1.1180720835479223,
           1.1180720835479223,
           1.140210519336971,
           1.0988672644826616,
           1.145322489689706,
           1.1195590090987582,
           1.1403908144730568,
           1.1403908144730568,
           1.119559009098758,
           1.145322489689706,
           1.0923306594960587,
           1.0872260106242702,
           1.085062671266871,
           1.085062671266871,
           1.0872260106242702,
           1.092330659496059,
           1.086921999835269,
           1.1195200331198867,
           1.128231960781296,
           1.1282319607812963,
           1.1195200331198867,
           1.086921999835269,
           1.102880658436214,
           1.119586820083682,
           1.1394473162863654,
           1.1394473162863654,
           1.119586820083682,
           1.102880658436214,
           1.0675925852857853,
           1.0883581436358838,
           1.1054833564312423,
           1.1054833564312423,
           1.0883581436358838,
           1.0675925852857853,
           1.1925194076979446,
           1.1529544637815081,
           1.1377217600988867,
           1.1377217600988867,
           1.1529544637815081,
           1.1925194076979444,
           1.0903180443136293,
           1.1460274791946679,
           1.1499686113813061,
           1.1499686113813061,
           1.1460274791946679,
           1.0903180443136293,
           1.0980439221569365,
           1.097495106001916,
           1.108093741799611,
           1.108093741799611,
           1.097495106001916,
           1.0980439221569365,
           1.102880658436214,
           1.0924054064521125,
           1.1121866590436384,
           1.1121866590436384,
           1.0924054064521125,
           1.102880658436214,
           1.1512439591909789,
           1.1514904730479227,
           1.2070850451968773,
           1.2070850451968773,
           1.1514904730479225,
           1.1512439591909789,
           1.06843853820598,
           1.1022342057188632,
           1.0860240123719545,
           1.0860240123719545,
           1.1022342057188632,
           1.06843853820598,
           1.0676102912771384,
           1.1402297940039674,
           1.125725061154971,
           1.1257250611549712,
           1.1402297940039676,
           1.0676102912771384,
           1.06843853820598,
           1.144873909869923,
           1.1465258808094765,
           1.1465258808094765,
           1.144873909869923,
           1.0684385382059802,
           1.0676321694979,
           1.0889427650759553,
           1.1091515505778133,
           1.1091515505778133,
           1.0889427650759553,
           1.0676321694979,
           1.098861414054158,
           1.1071334673093487,
           1.0676575158827302,
           1.0676575158827302,
           1.1071334673093487,
           1.098861414054158,
           1.06843853820598,
           1.1492931627515348,
           1.1420531917536296,
           1.1420531917536296,
           1.1492931627515348,
           1.0684385382059802,
           1.0862443955327301,
           1.1451062352403314,
           1.1517735204527932,
           1.1517735204527932,
           1.1451062352403314,
           1.0862443955327301,
           1.0971504771429763,
           1.104639024734081,
           1.0933839062002522,
           1.0933839062002522,
           1.104639024734081,
           1.0971504771429763,
           1.099387766406329,
           1.1086642943277443,
           1.0857499581676129,
           1.0857499581676127,
           1.1086642943277443,
           1.099387766406329,
           1.1272064911409174,
           1.1454918722444722,
           1.1512689462486343,
           1.1512689462486343,
           1.1454918722444722,
           1.1272064911409174,
           1.1285797036245537,
           1.0916817625458997,
           1.144624988022067,
           1.1446249880220667,
           1.0916817625458997,
           1.1285797036245537,
           1.1020257121893642,
           1.1462948460997333,
           1.129016654901038,
           1.129016654901038,
           1.1462948460997333,
           1.1020257121893642,
           1.1924967836250382,
           1.1509997701677777,
           1.2088555833768664,
           1.2088555833768664,
           1.1509997701677777,
           1.1924967836250382,
           1.089135282651072,
           1.1442121071457827,
           1.1491396359783206,
           1.1491396359783206,
           1.1442121071457827,
           1.089135282651072,
           1.0996128638926992,
           1.144819356640516,
           1.1472916540772287,
           1.1472916540772287,
           1.144819356640516,
           1.0996128638926992,
           1.1487326263864954,
           1.1459024012393493,
           1.1535870243293824,
           1.1535870243293824,
           1.145902401239349,
           1.1487326263864954,
           1.0995512073918783,
           1.0896522006771314,
           1.1114117894512132,
           1.1114117894512132,
           1.0896522006771314,
           1.0995512073918783,
           1.0880562296042173,
           1.1513226164040558,
           1.1402621925375969,
           1.1402621925375969,
           1.151322616404056,
           1.088056229604217,
           1.102880658436214,
           1.1501910480349344,
           1.1453925285716227,
           1.1453925285716227,
           1.1501910480349347,
           1.1028806584362139,
           1.0649469089961567,
           1.0764593652722014,
           1.0773171192464668,
           1.0773171192464668,
           1.0764593652722014,
           1.0649469089961567,
           1.0610016110258922,
           1.1483433697246375,
           1.1515746450467172,
           1.1515746450467175,
           1.1483433697246375,
           1.061001611025892,
           1.06843853820598,
           1.087053893251569,
           1.1025676577380694,
           1.1025676577380696,
           1.087053893251569,
           1.0684385382059802,
           1.0643228273500247,
           1.0951376412084552,
           1.092102111566341,
           1.092102111566341,
           1.0951376412084552,
           1.064322827350025,
           1.0954510731623173,
           1.0865999068111858,
           1.0668306547775286,
           1.0668306547775286,
           1.0865999068111858,
           1.0954510731623173,
           1.06843853820598,
           1.1490471193000775,
           1.159774950486324,
           1.159774950486324,
           1.1490471193000775,
           1.06843853820598,
           1.0965733344092095,
           1.0835081564754325,
           1.080328381988344,
           1.080328381988344,
           1.0835081564754325,
           1.0965733344092095,
           1.1896935323242526,
           1.1520613929342725,
           1.1311358164803693,
           1.1311358164803693,
           1.1520613929342722,
           1.1896935323242526,
           1.151132431184971,
           1.1563315271924544,
           1.088276142793178,
           1.088276142793178,
           1.1563315271924544,
           1.151132431184971,
           1.0917921444689513,
           1.1508551567731502,
           1.154033769213431,
           1.154033769213431,
           1.1508551567731502,
           1.0917921444689513,
           1.1933956613203887,
           1.1516207737887767,
           1.1935279222027926,
           1.1935279222027926,
           1.1516207737887767,
           1.1933956613203887,
           1.096333250187079,
           1.096732658937902,
           1.1025757092621622,
           1.1025757092621622,
           1.096732658937902,
           1.096333250187079,
           1.1020095046775755,
           1.0901507952968716,
           1.1074995181517937,
           1.1074995181517937,
           1.0901507952968716,
           1.1020095046775755,
           1.150355653666912,
           1.1457601407159577,
           1.2052084977661608,
           1.2052084977661608,
           1.1457601407159577,
           1.150355653666912,
           1.0960832429758984,
           1.0973095728929114,
           1.0953071165498396,
           1.0953071165498396,
           1.0973095728929114,
           1.0960832429758984,
           1.1592322249256557,
           1.0957657810120156,
           1.1591831083750368,
           1.1591831083750368,
           1.0957657810120156,
           1.1592322249256555,
           1.102880658436214,
           1.1499448123620308,
           1.1658836221593143,
           1.1658836221593143,
           1.1499448123620308,
           1.102880658436214,
           1.0640452876376991,
           1.0820538979852437,
           1.0798774878011856,
           1.0798774878011856,
           1.0820538979852437,
           1.064045287637699,
           1.06843853820598,
           1.095853689332647,
           1.0812953156562564,
           1.0812953156562564,
           1.095853689332647,
           1.06843853820598,
           1.061047341554286,
           1.0871886651752423,
           1.0910792490563839,
           1.0910792490563839,
           1.0871886651752423,
           1.061047341554286,
           1.09218904877203,
           1.0676345964917544,
           1.0842274953225002,
           1.0842274953225002,
           1.0676345964917544,
           1.09218904877203,
           1.06843853820598,
           1.1353882604657881,
           1.1225625596179263,
           1.1225625596179263,
           1.1353882604657881,
           1.06843853820598,
           1.0634145325404347,
           1.0832159764490592,
           1.0892832949464843,
           1.0892832949464843,
           1.0832159764490594,
           1.0634145325404347,
           1.0945444478660233,
           1.0887556144575827,
           1.0660028880428964,
           1.0660028880428964,
           1.088755614457583,
           1.0945444478660233,
           1.0659206154922192,
           1.187922531647337,
           1.1956489283035703,
           1.1956489283035703,
           1.187922531647337,
           1.0659206154922192,
           1.06843853820598,
           1.0866580093193798,
           1.1052296268518338,
           1.1052296268518338,
           1.0866580093193798,
           1.0684385382059802,
           1.0988789143925413,
           1.1055558615716654,
           1.06843853820598,
           1.0684385382059802,
           1.1055558615716654,
           1.0988789143925413,
           1.06843853820598,
           1.1444568337643235,
           1.1388882955461446,
           1.1388882955461443,
           1.1444568337643235,
           1.06843853820598,
           1.0631968119351414,
           1.114409841750905,
           1.0995103451181998,
           1.0995103451181998,
           1.114409841750905,
           1.0631968119351414,
           1.0940505490812404,
           1.0968676449942605,
           1.0658577687900237,
           1.0658577687900237,
           1.0968676449942605,
           1.0940505490812404,
           1.0957754859767108,
           1.0839089419049355,
           1.066134213536952,
           1.066134213536952,
           1.0839089419049355,
           1.0957754859767108,
           1.066705466773367,
           1.084376515058137,
           1.0975427592711393,
           1.0975427592711393,
           1.0843765150581373,
           1.066705466773367,
           1.10201970554126,
           1.06843853820598,
           1.1033211024419791,
           1.1033211024419793,
           1.06843853820598,
           1.10201970554126,
           1.094470142101096,
           1.0955615795931215,
           1.089068895301103,
           1.0890688953011027,
           1.0955615795931217,
           1.094470142101096,
           1.099387766406329,
           1.1022465560103623,
           1.0817960253265073,
           1.081796025326507,
           1.1022465560103623,
           1.099387766406329,
           1.0901648937347972,
           1.0919108154132509,
           1.0906967704027517,
           1.0906967704027515,
           1.0919108154132509,
           1.0901648937347972,
           1.1250728591210637,
           1.0890880182640954,
           1.1361753671250154,
           1.1361753671250154,
           1.0890880182640954,
           1.1250728591210635,
           1.1011720904138496,
           1.1396592753553065,
           1.124905159435266,
           1.1249051594352661,
           1.1396592753553065,
           1.1011720904138496,
           1.1887020083741395,
           1.142508949653439,
           1.2059896284891949,
           1.2059896284891949,
           1.142508949653439,
           1.1887020083741395,
           1.095966046157617,
           1.0872628379459286,
           1.0922590508924201,
           1.09225905089242,
           1.0872628379459288,
           1.095966046157617,
           1.1923809109402026,
           1.087645429362881,
           1.197715556699504,
           1.197715556699504,
           1.087645429362881,
           1.1923809109402026,
           1.1002815681178255,
           1.1888505961251863,
           1.2020087630285894,
           1.2020087630285892,
           1.1888505961251865,
           1.1002815681178255,
           1.0995562254040023,
           1.0873277877870204,
           1.106651088608701,
           1.106651088608701,
           1.0873277877870204,
           1.0995562254040023,
           1.086329156223893,
           1.1446579413452769,
           1.1385436361057393,
           1.1385436361057393,
           1.144657941345277,
           1.086329156223893,
           1.102880658436214,
           1.1453509406657019,
           1.143035740176684,
           1.143035740176684,
           1.1453509406657019,
           1.102880658436214,
           1.0956663941128373,
           1.1173774812166175,
           1.1038901601830664,
           1.1038901601830664,
           1.1173774812166175,
           1.0956663941128373,
           1.1010917198175016,
           1.0852236842105265,
           1.1022769480242858,
           1.1022769480242858,
           1.0852236842105263,
           1.1010917198175016
          ],
          "sizemode": "area",
          "sizeref": 0.003022138958442166,
          "symbol": "circle"
         },
         "mode": "markers",
         "name": "",
         "orientation": "v",
         "showlegend": false,
         "type": "scatter",
         "x": [
          0.7512437810945274,
          0.7512437810945274,
          0.8507462686567164,
          0.8507462686567164,
          0.8146766169154229,
          0.8146766169154229,
          0.8725124378109452,
          0.8725124378109452,
          0.8041044776119403,
          0.8041044776119403,
          0.8246268656716418,
          0.8246268656716418,
          0.8544776119402985,
          0.8544776119402985,
          0.7524875621890548,
          0.7524875621890548,
          0.8451492537313433,
          0.8451492537313433,
          0.8687810945273632,
          0.8687810945273632,
          0.7947761194029851,
          0.7947761194029851,
          0.7854477611940298,
          0.7854477611940298,
          0.8532338308457711,
          0.8532338308457711,
          0.7854477611940298,
          0.7854477611940298,
          0.8022388059701493,
          0.8022388059701493,
          0.8395522388059702,
          0.8395522388059702,
          0.8240049751243781,
          0.8240049751243781,
          0.8507462686567164,
          0.8507462686567164,
          0.7823383084577115,
          0.7823383084577115,
          0.8308457711442786,
          0.8308457711442786,
          0.7611940298507462,
          0.7611940298507462,
          0.8041044776119403,
          0.8041044776119403,
          0.7873134328358209,
          0.7873134328358209,
          0.8072139303482587,
          0.8072139303482587,
          0.8264925373134329,
          0.8264925373134329,
          0.7736318407960199,
          0.7736318407960199,
          0.8339552238805971,
          0.8339552238805971,
          0.8227611940298507,
          0.8227611940298507,
          0.8569651741293532,
          0.8569651741293532,
          0.7767412935323383,
          0.7767412935323383,
          0.8687810945273632,
          0.8687810945273632,
          0.8986318407960199,
          0.8986318407960199,
          0.7966417910447762,
          0.7966417910447762,
          0.7562189054726368,
          0.7562189054726368,
          0.7854477611940298,
          0.7854477611940298,
          0.8090796019900498,
          0.8090796019900498,
          0.8264925373134329,
          0.8264925373134329,
          0.802860696517413,
          0.802860696517413,
          0.7935323383084577,
          0.7935323383084577,
          0.818407960199005,
          0.818407960199005,
          0.7916666666666666,
          0.7916666666666666,
          0.8252487562189055,
          0.8252487562189055,
          0.8538557213930348,
          0.8538557213930348,
          0.7835820895522388,
          0.7835820895522388,
          0.7605721393034826,
          0.7605721393034826,
          0.7723880597014925,
          0.7723880597014925,
          0.8650497512437811,
          0.8650497512437811,
          0.7667910447761194,
          0.7667910447761194,
          0.7960199004975125,
          0.7960199004975125,
          0.7848258706467661,
          0.7848258706467661,
          0.7848258706467661,
          0.7848258706467661,
          0.7848258706467661,
          0.7848258706467661,
          0.8501243781094527,
          0.8501243781094527,
          0.8501243781094527,
          0.8501243781094527,
          0.8501243781094527,
          0.8501243781094527,
          0.7848258706467661,
          0.7848258706467661,
          0.7848258706467661,
          0.7848258706467661,
          0.7848258706467661,
          0.7848258706467661,
          0.8009950248756219,
          0.8009950248756219,
          0.8009950248756219,
          0.8009950248756219,
          0.8009950248756219,
          0.8009950248756219,
          0.8370646766169154,
          0.8370646766169154,
          0.8370646766169154,
          0.8370646766169154,
          0.8370646766169154,
          0.8370646766169154,
          0.8227611940298507,
          0.8227611940298507,
          0.8227611940298507,
          0.8227611940298507,
          0.8227611940298507,
          0.8227611940298507,
          0.8482587064676617,
          0.8482587064676617,
          0.8482587064676617,
          0.8482587064676617,
          0.8482587064676617,
          0.8482587064676617,
          0.7810945273631841,
          0.7810945273631841,
          0.7810945273631841,
          0.7810945273631841,
          0.7810945273631841,
          0.7810945273631841,
          0.802860696517413,
          0.802860696517413,
          0.802860696517413,
          0.802860696517413,
          0.802860696517413,
          0.802860696517413,
          0.8009950248756219,
          0.8009950248756219,
          0.8009950248756219,
          0.8009950248756219,
          0.8009950248756219,
          0.8009950248756219,
          0.7866915422885572,
          0.7866915422885572,
          0.7866915422885572,
          0.7866915422885572,
          0.7866915422885572,
          0.7866915422885572,
          0.7810945273631841,
          0.7810945273631841,
          0.7810945273631841,
          0.7810945273631841,
          0.7810945273631841,
          0.7810945273631841,
          0.8003731343283582,
          0.8003731343283582,
          0.8003731343283582,
          0.8003731343283582,
          0.8003731343283582,
          0.8003731343283582,
          0.7730099502487562,
          0.7730099502487562,
          0.7730099502487562,
          0.7730099502487562,
          0.7730099502487562,
          0.7730099502487562,
          0.8003731343283582,
          0.8003731343283582,
          0.8003731343283582,
          0.8003731343283582,
          0.8003731343283582,
          0.8003731343283582,
          0.8171641791044776,
          0.8171641791044776,
          0.8171641791044776,
          0.8171641791044776,
          0.8171641791044776,
          0.8171641791044776,
          0.8544776119402985,
          0.8544776119402985,
          0.8544776119402985,
          0.8544776119402985,
          0.8544776119402985,
          0.8544776119402985,
          0.8395522388059702,
          0.8395522388059702,
          0.8395522388059702,
          0.8395522388059702,
          0.8395522388059702,
          0.8395522388059702,
          0.8669154228855721,
          0.8669154228855721,
          0.8669154228855721,
          0.8669154228855721,
          0.8669154228855721,
          0.8669154228855721,
          0.7947761194029851,
          0.7947761194029851,
          0.7947761194029851,
          0.7947761194029851,
          0.7947761194029851,
          0.7947761194029851,
          0.7531094527363185,
          0.7531094527363185,
          0.7531094527363185,
          0.7531094527363185,
          0.7531094527363185,
          0.7531094527363185,
          0.7848258706467661,
          0.7848258706467661,
          0.7848258706467661,
          0.7848258706467661,
          0.7848258706467661,
          0.7848258706467661,
          0.7779850746268657,
          0.7779850746268657,
          0.7779850746268657,
          0.7779850746268657,
          0.7779850746268657,
          0.7779850746268657,
          0.7972636815920398,
          0.7972636815920398,
          0.7972636815920398,
          0.7972636815920398,
          0.7972636815920398,
          0.7972636815920398,
          0.8016169154228856,
          0.8016169154228856,
          0.8016169154228856,
          0.8016169154228856,
          0.8016169154228856,
          0.8016169154228856,
          0.7922885572139303,
          0.7922885572139303,
          0.7922885572139303,
          0.7922885572139303,
          0.7922885572139303,
          0.7922885572139303,
          0.8165422885572139,
          0.8165422885572139,
          0.8165422885572139,
          0.8165422885572139,
          0.8165422885572139,
          0.8165422885572139,
          0.7885572139303483,
          0.7885572139303483,
          0.7885572139303483,
          0.7885572139303483,
          0.7885572139303483,
          0.7885572139303483,
          0.8240049751243781,
          0.8240049751243781,
          0.8240049751243781,
          0.8240049751243781,
          0.8240049751243781,
          0.8240049751243781,
          0.8513681592039801,
          0.8513681592039801,
          0.8513681592039801,
          0.8513681592039801,
          0.8513681592039801,
          0.8513681592039801,
          0.7823383084577115,
          0.7823383084577115,
          0.7823383084577115,
          0.7823383084577115,
          0.7823383084577115,
          0.7823383084577115,
          0.8370646766169154,
          0.8370646766169154,
          0.8370646766169154,
          0.8370646766169154,
          0.8370646766169154,
          0.8370646766169154,
          0.7655472636815921,
          0.7655472636815921,
          0.7655472636815921,
          0.7655472636815921,
          0.7655472636815921,
          0.7655472636815921,
          0.7947761194029851,
          0.7947761194029851,
          0.7947761194029851,
          0.7947761194029851,
          0.7947761194029851,
          0.7947761194029851,
          0.7848258706467661,
          0.7848258706467661,
          0.7848258706467661,
          0.7848258706467661,
          0.7848258706467661,
          0.7848258706467661,
          0.7817164179104478,
          0.7817164179104478,
          0.7817164179104478,
          0.7817164179104478,
          0.7817164179104478,
          0.7817164179104478,
          0.7736318407960199,
          0.7736318407960199,
          0.7736318407960199,
          0.7736318407960199,
          0.7736318407960199,
          0.7736318407960199,
          0.7643034825870647,
          0.7643034825870647,
          0.7643034825870647,
          0.7643034825870647,
          0.7643034825870647,
          0.7643034825870647,
          0.7854477611940298,
          0.7854477611940298,
          0.7854477611940298,
          0.7854477611940298,
          0.7854477611940298,
          0.7854477611940298,
          0.7611940298507462,
          0.7611940298507462,
          0.7611940298507462,
          0.7611940298507462,
          0.7611940298507462,
          0.7611940298507462,
          0.7854477611940298,
          0.7854477611940298,
          0.7854477611940298,
          0.7854477611940298,
          0.7854477611940298,
          0.7854477611940298,
          0.8016169154228856,
          0.8016169154228856,
          0.8016169154228856,
          0.8016169154228856,
          0.8016169154228856,
          0.8016169154228856,
          0.8395522388059702,
          0.8395522388059702,
          0.8395522388059702,
          0.8395522388059702,
          0.8395522388059702,
          0.8395522388059702,
          0.8233830845771144,
          0.8233830845771144,
          0.8233830845771144,
          0.8233830845771144,
          0.8233830845771144,
          0.8233830845771144,
          0.8501243781094527,
          0.8501243781094527,
          0.8501243781094527,
          0.8501243781094527,
          0.8501243781094527,
          0.8501243781094527,
          0.7823383084577115,
          0.7823383084577115,
          0.7823383084577115,
          0.7823383084577115,
          0.7823383084577115,
          0.7823383084577115,
          0.7730099502487562,
          0.7730099502487562,
          0.7730099502487562,
          0.7730099502487562,
          0.7730099502487562,
          0.7730099502487562,
          0.763681592039801,
          0.763681592039801,
          0.763681592039801,
          0.763681592039801,
          0.763681592039801,
          0.763681592039801,
          0.7829601990049752,
          0.7829601990049752,
          0.7829601990049752,
          0.7829601990049752,
          0.7829601990049752,
          0.7829601990049752,
          0.7898009950248757,
          0.7898009950248757,
          0.7898009950248757,
          0.7898009950248757,
          0.7898009950248757,
          0.7898009950248757,
          0.7761194029850746,
          0.7761194029850746,
          0.7761194029850746,
          0.7761194029850746,
          0.7761194029850746,
          0.7761194029850746,
          0.8016169154228856,
          0.8016169154228856,
          0.8016169154228856,
          0.8016169154228856,
          0.8016169154228856,
          0.8016169154228856,
          0.7786069651741293,
          0.7786069651741293,
          0.7786069651741293,
          0.7786069651741293,
          0.7786069651741293,
          0.7786069651741293,
          0.8103233830845771,
          0.8103233830845771,
          0.8103233830845771,
          0.8103233830845771,
          0.8103233830845771,
          0.8103233830845771,
          0.8370646766169154,
          0.8370646766169154,
          0.8370646766169154,
          0.8370646766169154,
          0.8370646766169154,
          0.8370646766169154,
          0.7723880597014925,
          0.7723880597014925,
          0.7723880597014925,
          0.7723880597014925,
          0.7723880597014925,
          0.7723880597014925,
          0.8215174129353234,
          0.8215174129353234,
          0.8215174129353234,
          0.8215174129353234,
          0.8215174129353234,
          0.8215174129353234,
          0.7543532338308457,
          0.7543532338308457,
          0.7543532338308457,
          0.7543532338308457,
          0.7543532338308457,
          0.7543532338308457,
          0.7823383084577115,
          0.7823383084577115,
          0.7823383084577115,
          0.7823383084577115,
          0.7823383084577115,
          0.7823383084577115,
          0.7587064676616916,
          0.7587064676616916,
          0.7587064676616916,
          0.7587064676616916,
          0.7587064676616916,
          0.7587064676616916,
          0.7985074626865671,
          0.7985074626865671,
          0.7985074626865671,
          0.7985074626865671,
          0.7985074626865671,
          0.7985074626865671,
          0.7873134328358209,
          0.7873134328358209,
          0.7873134328358209,
          0.7873134328358209,
          0.7873134328358209,
          0.7873134328358209,
          0.8041044776119403,
          0.8041044776119403,
          0.8041044776119403,
          0.8041044776119403,
          0.8041044776119403,
          0.8041044776119403,
          0.8252487562189055,
          0.8252487562189055,
          0.8252487562189055,
          0.8252487562189055,
          0.8252487562189055,
          0.8252487562189055,
          0.7736318407960199,
          0.7736318407960199,
          0.7736318407960199,
          0.7736318407960199,
          0.7736318407960199,
          0.7736318407960199,
          0.7568407960199005,
          0.7568407960199005,
          0.7568407960199005,
          0.7568407960199005,
          0.7568407960199005,
          0.7568407960199005,
          0.7817164179104478,
          0.7817164179104478,
          0.7817164179104478,
          0.7817164179104478,
          0.7817164179104478,
          0.7817164179104478,
          0.775497512437811,
          0.775497512437811,
          0.775497512437811,
          0.775497512437811,
          0.775497512437811,
          0.775497512437811,
          0.7960199004975125,
          0.7960199004975125,
          0.7960199004975125,
          0.7960199004975125,
          0.7960199004975125,
          0.7960199004975125,
          0.7705223880597015,
          0.7705223880597015,
          0.7705223880597015,
          0.7705223880597015,
          0.7705223880597015,
          0.7705223880597015,
          0.7649253731343284,
          0.7649253731343284,
          0.7649253731343284,
          0.7649253731343284,
          0.7649253731343284,
          0.7649253731343284,
          0.7866915422885572,
          0.7866915422885572,
          0.7866915422885572,
          0.7866915422885572,
          0.7866915422885572,
          0.7866915422885572,
          0.7618159203980099,
          0.7618159203980099,
          0.7618159203980099,
          0.7618159203980099,
          0.7618159203980099,
          0.7618159203980099,
          0.8022388059701493,
          0.8022388059701493,
          0.8022388059701493,
          0.8022388059701493,
          0.8022388059701493,
          0.8022388059701493,
          0.7512437810945274,
          0.7512437810945274,
          0.7512437810945274,
          0.7512437810945274,
          0.7512437810945274,
          0.7512437810945274,
          0.7736318407960199,
          0.7736318407960199,
          0.7736318407960199,
          0.7736318407960199,
          0.7736318407960199,
          0.7736318407960199,
          0.7531094527363185,
          0.7531094527363185,
          0.7531094527363185,
          0.7531094527363185,
          0.7531094527363185,
          0.7531094527363185,
          0.7854477611940298,
          0.7854477611940298,
          0.7854477611940298,
          0.7854477611940298,
          0.7854477611940298,
          0.7854477611940298,
          0.8034825870646766,
          0.8034825870646766,
          0.8034825870646766,
          0.8034825870646766,
          0.8034825870646766,
          0.8034825870646766,
          0.8258706467661692,
          0.8258706467661692,
          0.8258706467661692,
          0.8258706467661692,
          0.8258706467661692,
          0.8258706467661692,
          0.802860696517413,
          0.802860696517413,
          0.802860696517413,
          0.802860696517413,
          0.802860696517413,
          0.802860696517413,
          0.7898009950248757,
          0.7898009950248757,
          0.7898009950248757,
          0.7898009950248757,
          0.7898009950248757,
          0.7898009950248757,
          0.8165422885572139,
          0.8165422885572139,
          0.8165422885572139,
          0.8165422885572139,
          0.8165422885572139,
          0.8165422885572139,
          0.7898009950248757,
          0.7898009950248757,
          0.7898009950248757,
          0.7898009950248757,
          0.7898009950248757,
          0.7898009950248757,
          0.8252487562189055,
          0.8252487562189055,
          0.8252487562189055,
          0.8252487562189055,
          0.8252487562189055,
          0.8252487562189055,
          0.8538557213930348,
          0.8538557213930348,
          0.8538557213930348,
          0.8538557213930348,
          0.8538557213930348,
          0.8538557213930348,
          0.7835820895522388,
          0.7835820895522388,
          0.7835820895522388,
          0.7835820895522388,
          0.7835820895522388,
          0.7835820895522388,
          0.7568407960199005,
          0.7568407960199005,
          0.7568407960199005,
          0.7568407960199005,
          0.7568407960199005,
          0.7568407960199005,
          0.7705223880597015,
          0.7705223880597015,
          0.7705223880597015,
          0.7705223880597015,
          0.7705223880597015,
          0.7705223880597015,
          0.8631840796019901,
          0.8631840796019901,
          0.8631840796019901,
          0.8631840796019901,
          0.8631840796019901,
          0.8631840796019901,
          0.7655472636815921,
          0.7655472636815921,
          0.7655472636815921,
          0.7655472636815921,
          0.7655472636815921,
          0.7655472636815921,
          0.7960199004975125,
          0.7960199004975125,
          0.7960199004975125,
          0.7960199004975125,
          0.7960199004975125,
          0.7960199004975125,
          0.7618159203980099,
          0.7618159203980099,
          0.7618159203980099,
          0.7618159203980099,
          0.7618159203980099,
          0.7618159203980099,
          0.7829601990049752,
          0.7829601990049752,
          0.7829601990049752,
          0.7829601990049752,
          0.7829601990049752,
          0.7829601990049752,
          0.7997512437810945,
          0.7997512437810945,
          0.7997512437810945,
          0.7997512437810945,
          0.7997512437810945,
          0.7997512437810945,
          0.7748756218905473,
          0.7748756218905473,
          0.7748756218905473,
          0.7748756218905473,
          0.7748756218905473,
          0.7748756218905473,
          0.8016169154228856,
          0.8016169154228856,
          0.8016169154228856,
          0.8016169154228856,
          0.8016169154228856,
          0.8016169154228856,
          0.777363184079602,
          0.777363184079602,
          0.777363184079602,
          0.777363184079602,
          0.777363184079602,
          0.777363184079602,
          0.7885572139303483,
          0.7885572139303483,
          0.7885572139303483,
          0.7885572139303483,
          0.7885572139303483,
          0.7885572139303483,
          0.7630597014925373,
          0.7630597014925373,
          0.7630597014925373,
          0.7630597014925373,
          0.7630597014925373,
          0.7630597014925373,
          0.7898009950248757,
          0.7898009950248757,
          0.7898009950248757,
          0.7898009950248757,
          0.7898009950248757,
          0.7898009950248757,
          0.8227611940298507,
          0.8227611940298507,
          0.8227611940298507,
          0.8227611940298507,
          0.8227611940298507,
          0.8227611940298507,
          0.7543532338308457,
          0.7543532338308457,
          0.7543532338308457,
          0.7543532338308457,
          0.7543532338308457,
          0.7543532338308457,
          0.7835820895522388,
          0.7835820895522388,
          0.7835820895522388,
          0.7835820895522388,
          0.7835820895522388,
          0.7835820895522388,
          0.7555970149253731,
          0.7555970149253731,
          0.7555970149253731,
          0.7555970149253731,
          0.7555970149253731,
          0.7555970149253731,
          0.7655472636815921,
          0.7655472636815921,
          0.7655472636815921,
          0.7655472636815921,
          0.7655472636815921,
          0.7655472636815921
         ],
         "xaxis": "x",
         "y": [
          0.9983471074380165,
          0.8026578073089702,
          0.9539748953974896,
          0.9956331877729259,
          0.9135285913528592,
          0.963944076526858,
          0.9783821478382148,
          0.9322259136212624,
          0.9486426999266324,
          0.901673640167364,
          0.9246861924686193,
          0.9880774962742176,
          0.9581589958158996,
          0.9942112879884226,
          0.8437935843793585,
          0.9626093874303898,
          0.9476987447698746,
          0.9536842105263158,
          0.9741980474198048,
          0.958161865569273,
          0.9899302865995352,
          0.891213389121339,
          0.9192139737991266,
          0.9293598233995585,
          0.9985443959243085,
          0.9116279069767441,
          0.9266324284666178,
          0.9192139737991266,
          0.9388646288209608,
          0.9612518628912072,
          0.9825327510917031,
          0.9768451519536904,
          0.9643377001455604,
          0.9298245614035088,
          0.9956331877729259,
          0.9382716049382717,
          0.9744384198295895,
          0.9155749636098982,
          0.9830757910228108,
          0.8877076411960133,
          0.8980190755685987,
          0.9006622516556291,
          0.9514348785871964,
          0.9634873323397913,
          0.9160636758321274,
          0.9315673289183223,
          0.9108771929824562,
          0.9551140544518028,
          0.977924944812362,
          0.911522633744856,
          0.9635941130906274,
          0.9153789551140544,
          0.983859134262656,
          0.891029900332226,
          0.9858420268256334,
          0.8790697674418605,
          0.9971056439942113,
          0.9156146179401994,
          0.9936356404136834,
          0.8299003322259136,
          0.9803508771929825,
          0.9282392026578073,
          0.9601328903654485,
          0.9910836762688614,
          0.9922540666150271,
          0.8511627906976745,
          0.8921496698459281,
          0.9061102831594635,
          0.9266324284666178,
          0.9138929088277858,
          0.9545121056493031,
          0.912982456140351,
          0.9750550256786501,
          0.911522633744856,
          0.9341534008683069,
          0.9619970193740687,
          0.895438596491228,
          0.9508196721311476,
          0.9806259314456036,
          0.9026063100137174,
          0.9860573199070487,
          0.9485842026825634,
          0.9602026049204053,
          0.9312280701754386,
          0.9934876989869754,
          0.9417009602194787,
          0.975987606506584,
          0.9117221418234444,
          0.8582456140350877,
          0.9729514717581543,
          0.9880668257756563,
          0.8518518518518517,
          0.9761403508771931,
          0.9540466392318244,
          0.9550735863671571,
          0.8652631578947368,
          0.9914794732765299,
          0.8779149519890261,
          0.9225146198830408,
          0.9633587786259541,
          0.9992082343626286,
          0.8800557880055788,
          0.9184861717612809,
          0.9286239882266372,
          0.9992690058479532,
          0.9743406985032075,
          0.9963556851311954,
          0.9532775453277545,
          0.9949053857350801,
          0.9083056478405316,
          0.9760247486465584,
          0.9992082343626286,
          0.9225146198830408,
          0.925898752751284,
          0.8800557880055788,
          0.9184861717612809,
          0.9415204678362573,
          0.971342383107089,
          0.9984496124031007,
          0.898186889818689,
          0.9374090247452693,
          0.9597615499254845,
          0.9796215429403202,
          0.9970370370370369,
          0.9839181286549707,
          0.9739507959479017,
          0.9386331938633194,
          0.9796215429403202,
          0.9671052631578947,
          0.9735099337748344,
          0.9984905660377358,
          0.9225941422594142,
          0.962882096069869,
          0.9284210526315789,
          0.9970760233918128,
          0.9763779527559054,
          0.9970760233918128,
          0.9511854951185496,
          0.992721979621543,
          0.9355281207133058,
          0.9827856025039123,
          0.9984101748807631,
          0.9181286549707602,
          0.9728892331525948,
          0.8758716875871688,
          0.9141193595342068,
          0.9854961832061069,
          0.9201710620099787,
          0.9663173652694611,
          0.9002789400278941,
          0.9499632082413539,
          0.8578073089700997,
          0.983206106870229,
          0.971342383107089,
          0.9961330239752514,
          0.898186889818689,
          0.9477557027225901,
          0.9597615499254845,
          0.9206695778748181,
          0.965648854961832,
          0.9992101105845181,
          0.8821478382147838,
          0.9153400868306802,
          0.930831493745401,
          0.9242089771891097,
          0.9587786259541984,
          0.9676425269645609,
          0.8758716875871688,
          0.8814035087719299,
          0.9242089771891097,
          0.982442748091603,
          0.9212598425196851,
          0.9683972911963883,
          0.8974895397489541,
          0.9470198675496688,
          0.8827160493827161,
          0.9726134585289514,
          0.9991961414790996,
          0.948854961832061,
          0.96281951975213,
          0.8668061366806137,
          0.9146431199411331,
          0.9953596287703017,
          0.959731543624161,
          0.917320028510335,
          0.9442406456346295,
          0.8974895397489541,
          0.8551495016611296,
          0.9909502262443438,
          0.9365645046329295,
          0.9931972789115646,
          0.9163179916317992,
          0.9791356184798808,
          0.8730897009966777,
          1,
          0.9793300071275838,
          0.9970972423802612,
          0.9581589958158996,
          0.9942112879884226,
          0.9129568106312292,
          0.9933774834437086,
          0.9622238061297221,
          0.9663564781675018,
          0.9414225941422595,
          0.9473684210526316,
          0.8970099667774087,
          0.9935851746258019,
          0.9978525411596277,
          0.9647058823529412,
          0.9721059972105998,
          0.9262458471760797,
          0.9561042524005486,
          1,
          0.9976580796252927,
          0.9109052031361369,
          0.9899302865995352,
          0.891213389121339,
          0.8491694352159469,
          0.9365815931941223,
          0.995888157894737,
          0.9132730015082957,
          0.8884812912692591,
          0.8444909344490935,
          0.9023845007451566,
          0.9760247486465584,
          0.9992082343626286,
          0.9184861717612809,
          0.925898752751284,
          0.8800557880055788,
          0.9131693198263386,
          0.9675174013921115,
          0.9615680245964643,
          0.9205298013245033,
          0.917828319882612,
          0.8723849372384939,
          0.8778947368421054,
          0.991492652745553,
          0.9646350639578629,
          0.9176807444523979,
          0.9405722670579604,
          0.8940027894002789,
          0.8792866941015088,
          0.938136826783115,
          0.9720965309200603,
          0.9984508133230054,
          0.898884239888424,
          0.9327062228654125,
          0.9605067064083459,
          0.9374540103016924,
          0.9607843137254902,
          0.9984326018808777,
          0.8884239888423989,
          0.8940350877192983,
          0.9493293591654247,
          0.9901960784313725,
          0.9398711524695776,
          0.9977203647416413,
          0.9156206415620641,
          0.9783904619970194,
          0.9005486968449931,
          0.9921752738654147,
          0.9960722702278084,
          0.9562594268476622,
          0.9821843532145623,
          0.8842398884239889,
          0.9448584202682564,
          0.9643377001455604,
          0.9749816041206769,
          0.9984928409947249,
          0.9239888423988842,
          0.9587554269175109,
          0.9298245614035088,
          0.9963609898107715,
          0.9799570508231926,
          0.9970866715222142,
          0.9546722454672246,
          0.9905933429811867,
          0.9389574759945131,
          0.9843505477308294,
          0.9984126984126984,
          0.9155749636098982,
          0.9744384198295895,
          0.8772663877266388,
          0.91027496382055,
          0.9904341427520235,
          0.9634931997136722,
          0.9676491732566498,
          0.9386331938633194,
          0.9445614035087719,
          0.9231824417009602,
          0.9632237871674492,
          0.9983779399837795,
          0.905813097866078,
          0.9535243996901627,
          0.8584379358437937,
          0.8638596491228071,
          1,
          0.9984375,
          0.9148174659985684,
          0.9899302865995352,
          0.891213389121339,
          0.8765432098765432,
          0.9992082343626286,
          0.9198250728862973,
          0.9446107784431137,
          0.9184861717612809,
          0.9286239882266372,
          0.8385382059800665,
          0.9952494061757721,
          0.9744186046511627,
          0.9721577726218098,
          0.9148471615720525,
          0.9249448123620309,
          0.936661698956781,
          0.9214814814814815,
          0.9849564528899446,
          0.9826224328593997,
          0.9053857350800583,
          0.9001447178002895,
          0.9153789551140544,
          0.9730799683293746,
          0.9275471698113208,
          0.9468412942989214,
          0.8944687045123727,
          0.9043414275202355,
          0.8624561403508773,
          1,
          0.9232456140350876,
          0.9503386004514672,
          0.9192139737991266,
          0.9293598233995585,
          0.8662551440329218,
          0.9729729729729729,
          0.9839228295819936,
          0.9691211401425178,
          0.9481022463206815,
          0.8908296943231441,
          0.9006622516556291,
          1,
          0.9418344519015659,
          0.9205539358600583,
          0.9266324284666178,
          0.9192139737991266,
          0.839202657807309,
          0.9992248062015504,
          0.9743008314436886,
          0.9395043731778426,
          0.9605067064083459,
          0.938136826783115,
          0.8564784053156147,
          1,
          0.9839650145772596,
          0.9796806966618288,
          0.9825327510917031,
          0.9768451519536904,
          0.8970099667774087,
          0.999245283018868,
          0.9650145772594753,
          0.9477451682176091,
          0.9636098981077147,
          0.9291228070175439,
          0.879734219269103,
          0.9963556851311954,
          0.9460207612456748,
          0.9992690058479532,
          0.9083056478405316,
          0.9949053857350801,
          0.9375857338820301,
          1,
          0.9820452771272443,
          0.9169096209912537,
          0.9744384198295895,
          0.9155749636098982,
          0.8358803986710964,
          0.9207407407407406,
          0.9841646872525732,
          0.9841646872525732,
          0.9046579330422125,
          0.8994211287988423,
          0.9119589141599413,
          0.9722882026920032,
          0.9438893159108378,
          0.9267924528301887,
          0.9009537784299341,
          0.893740902474527,
          0.8617543859649123,
          0.9968329374505147,
          0.9473288186606471,
          0.9203216374269007,
          0.9236977256052825,
          0.9163027656477439,
          0.8635116598079561,
          0.9407407407407408,
          0.9844961240310077,
          0.9837335398915569,
          0.9243085880640467,
          0.9189580318379161,
          0.9463487332339793,
          0.9418867924528302,
          0.9674418604651163,
          0.9780564263322884,
          0.9082969432314411,
          0.8757894736842106,
          0.9299552906110284,
          0.9992248062015504,
          0.979483282674772,
          0.9422514619883041,
          0.9605067064083459,
          0.938136826783115,
          0.8840877914951989,
          0.9952305246422892,
          0.983503534956795,
          0.9705426356589146,
          0.9697908597986056,
          0.9112081513828238,
          0.9329359165424739,
          0.9651851851851851,
          0.9833962264150943,
          0.9819140919366993,
          0.9483260553129549,
          0.942836468885673,
          0.9143859649122806,
          0.9970370370370369,
          0.9839181286549707,
          0.9803350327749454,
          0.9796215429403202,
          0.9739507959479017,
          0.9231824417009602,
          0.9872813990461048,
          0.9199999999999999,
          0.9857142857142857,
          0.9039301310043668,
          0.9620449264136327,
          0.8986975397973951,
          0.9969811320754718,
          0.9656432748538012,
          0.9496764917325665,
          0.9614264919941776,
          0.9270175438596492,
          0.9060356652949246,
          0.9642289348171701,
          0.9837793998377939,
          0.9154716981132075,
          0.9395817195972114,
          0.8828238719068413,
          0.8512280701754386,
          1,
          0.9828125,
          0.9195906432748538,
          0.9744384198295895,
          0.9155749636098982,
          0.8628257887517147,
          0.996732026143791,
          0.9097688292319165,
          0.9131736526946108,
          0.8950843727072635,
          0.8977189109639441,
          0.8106312292358805,
          0.9930394431554525,
          0.9705215419501134,
          0.9610778443113772,
          0.9567809239940388,
          0.944812362030905,
          0.8531561461794019,
          1,
          0.9187227866473149,
          0.9476047904191617,
          0.9160636758321274,
          0.9315673289183223,
          0.8411960132890366,
          0.9961479198767333,
          0.9255547602004295,
          0.967814371257485,
          0.9073684210526316,
          0.9514348785871964,
          0.8591362126245847,
          0.9932634730538922,
          0.9183391003460208,
          0.9984951091045899,
          0.8817275747508306,
          0.9764532744665195,
          0.9101508916323731,
          1,
          0.9711163153786103,
          0.9311377245508982,
          0.9635941130906274,
          0.9153789551140544,
          0.826578073089701,
          0.994281045751634,
          0.9157261098570354,
          0.9157261098570354,
          0.892883345561262,
          0.8955114054451803,
          0.8347050754458162,
          0.9928909952606635,
          0.9736638264910922,
          0.9721577726218098,
          0.9095513748191029,
          0.9249448123620309,
          0.936661698956781,
          0.960708782742681,
          0.9772727272727273,
          0.9644238205723125,
          0.8750877192982457,
          0.9175864606328182,
          0.929210134128167,
          0.9899458623356536,
          0.9726443768996961,
          0.963130173062453,
          0.9538002980625933,
          0.94186902133922,
          0.8779149519890261,
          0.9959807073954985,
          0.9732914375490967,
          0.9582366589327147,
          0.959721146398141,
          0.9116997792494481,
          0.9232488822652758,
          0.9715639810426541,
          0.9269027882441598,
          0.9476117103235747,
          0.890014471780029,
          0.9050772626931568,
          0.8631578947368421,
          0.9992101105845181,
          0.9213401310997815,
          0.9518434913468773,
          0.9153400868306802,
          0.930831493745401,
          0.8676268861454046,
          0.9722222222222222,
          0.9847266881028939,
          0.9676145339652449,
          0.9488768396591789,
          0.8863965267727931,
          0.9013980868285504,
          0.9938366718027736,
          0.9273903666427031,
          0.9706546275395034,
          0.9052631578947369,
          0.9492273730684327,
          0.8847736625514404,
          0.9797242497972426,
          0.9710610932475885,
          0.9306625577812019,
          0.935708752904725,
          0.8477192982456141,
          0.8888888888888888,
          1,
          0.9718749999999999,
          0.9360421369450714,
          0.9635941130906274,
          0.9153789551140544,
          0.8532235939643347,
          0.995888157894737,
          0.9030574198359433,
          0.9153439153439155,
          0.8884812912692591,
          0.9023845007451566,
          0.8046511627906977,
          1,
          0.9418344519015659,
          0.9165457184325109,
          0.9266324284666178,
          0.9138929088277858,
          0.839202657807309,
          0.9930822444273635,
          0.9634601043997016,
          0.924838940586972,
          0.9479090242112986,
          0.9066666666666666,
          0.8584717607973422,
          0.9903057419835943,
          0.999247554552295,
          0.9190311418685122,
          0.9743213499633163,
          0.8823920265780731,
          0.9108367626886146,
          1,
          0.9758125472411188,
          0.9368650217706822,
          0.9619970193740687,
          0.9341534008683069,
          0.8578073089700997,
          0.9952978056426333,
          0.9599395313681028,
          0.9090909090909092,
          0.9463487332339793,
          0.8912280701754387,
          0.8438538205980067,
          0.9924414210128496,
          0.9086505190311418,
          0.9977203647416413,
          0.8724252491694352,
          0.9783904619970194,
          0.9005486968449931,
          0.9976433621366851,
          0.9914129586260734,
          0.9599395313681028,
          0.9837335398915569,
          0.9463487332339793,
          0.8438538205980067,
          1,
          0.9629898403483309,
          0.9498926270579814,
          0.9602026049204053,
          0.9312280701754386,
          0.8817275747508306,
          0.9963715529753265,
          0.9501730103806229,
          1,
          0.9122923588039867,
          0.9934876989869754,
          0.9417009602194787,
          1,
          0.9836065573770492,
          0.9143686502177069,
          0.975987606506584,
          0.9117221418234444,
          0.8372093023255814,
          0.9950940310711366,
          0.8711524695776665,
          0.9743795036028823,
          0.8540350877192983,
          0.9681782020684169,
          0.8086378737541529,
          0.9919935948759008,
          0.857439446366782,
          0.997584541062802,
          0.8232558139534885,
          0.9856801909307876,
          0.8497942386831276,
          0.9935576234788833,
          0.9605536332179931,
          0.9978432782171099,
          0.9222591362126247,
          0.9740350877192983,
          0.9519890260631001,
          0.9983779399837795,
          0.960967993754879,
          0.8811739441660702,
          0.9535243996901627,
          0.8638596491228071,
          0.8179401993355483,
          0.9992193598750976,
          1,
          0.8858131487889274,
          0.9914794732765299,
          0.8504983388704319,
          0.8779149519890261,
          0.9699129057798892,
          0.9415833973866256,
          0.9231348907309721,
          0.8987527512839325,
          0.8863965267727931,
          0.8596491228070176,
          0.9968329374505147,
          0.9473288186606471,
          0.9169701383831028,
          0.9236977256052825,
          0.9109985528219972,
          0.8635116598079561,
          0.9884704073789392,
          0.9676448457486831,
          0.9245147375988497,
          0.9435069699192957,
          0.9024561403508772,
          0.8820301783264746,
          0.9389600602863603,
          0.9651432997676219,
          0.9764890282131662,
          0.9015918958031839,
          0.8743859649122807,
          0.9284649776453056,
          0.9984508133230054,
          0.979483282674772,
          0.9388201019664968,
          0.9605067064083459,
          0.9327062228654125,
          0.8840877914951989,
          0.9920634920634921,
          0.9819324430479184,
          0.9682416731216111,
          0.9682416731216111,
          0.9044862518089726,
          0.9314456035767512,
          0.993730407523511,
          0.9635258358662614,
          0.9115744069015097,
          0.9448584202682564,
          0.8898245614035089,
          0.869684499314129,
          0.9951338199513382,
          0.9638648860958366,
          0.9615987460815048,
          0.9504260263361735,
          0.8610526315789474,
          0.9143070044709389,
          0.9976433621366851,
          0.9921875,
          0.9650455927051672,
          0.9837335398915569,
          0.9463487332339793,
          0.8710562414266119,
          0.9969856819894498,
          0.9635833940276767,
          0.9511143062544931,
          0.9573082489146165,
          0.9284210526315789,
          0.9074074074074073,
          0.9626984126984126,
          0.9837793998377939,
          0.9140919366993218,
          0.9395817195972114,
          0.877713458755427,
          0.8512280701754386,
          1,
          0.984375,
          0.9176984705025493,
          0.975987606506584,
          0.9117221418234444,
          0.8641975308641976,
          0.9934587080948487,
          0.8734723220704529,
          0.9782608695652174,
          0.8526315789473684,
          0.9665871121718377,
          0.8333333333333333,
          0.9983779399837795,
          0.9617187500000001,
          0.8849748382458663,
          0.9535243996901627,
          0.8638596491228071,
          0.8443072702331962
         ],
         "yaxis": "y"
        }
       ],
       "layout": {
        "coloraxis": {
         "colorbar": {
          "title": {
           "text": "lift"
          }
         },
         "colorscale": [
          [
           0,
           "#0d0887"
          ],
          [
           0.1111111111111111,
           "#46039f"
          ],
          [
           0.2222222222222222,
           "#7201a8"
          ],
          [
           0.3333333333333333,
           "#9c179e"
          ],
          [
           0.4444444444444444,
           "#bd3786"
          ],
          [
           0.5555555555555556,
           "#d8576b"
          ],
          [
           0.6666666666666666,
           "#ed7953"
          ],
          [
           0.7777777777777778,
           "#fb9f3a"
          ],
          [
           0.8888888888888888,
           "#fdca26"
          ],
          [
           1,
           "#f0f921"
          ]
         ]
        },
        "legend": {
         "itemsizing": "constant",
         "tracegroupgap": 0
        },
        "template": {
         "data": {
          "bar": [
           {
            "error_x": {
             "color": "#2a3f5f"
            },
            "error_y": {
             "color": "#2a3f5f"
            },
            "marker": {
             "line": {
              "color": "#E5ECF6",
              "width": 0.5
             },
             "pattern": {
              "fillmode": "overlay",
              "size": 10,
              "solidity": 0.2
             }
            },
            "type": "bar"
           }
          ],
          "barpolar": [
           {
            "marker": {
             "line": {
              "color": "#E5ECF6",
              "width": 0.5
             },
             "pattern": {
              "fillmode": "overlay",
              "size": 10,
              "solidity": 0.2
             }
            },
            "type": "barpolar"
           }
          ],
          "carpet": [
           {
            "aaxis": {
             "endlinecolor": "#2a3f5f",
             "gridcolor": "white",
             "linecolor": "white",
             "minorgridcolor": "white",
             "startlinecolor": "#2a3f5f"
            },
            "baxis": {
             "endlinecolor": "#2a3f5f",
             "gridcolor": "white",
             "linecolor": "white",
             "minorgridcolor": "white",
             "startlinecolor": "#2a3f5f"
            },
            "type": "carpet"
           }
          ],
          "choropleth": [
           {
            "colorbar": {
             "outlinewidth": 0,
             "ticks": ""
            },
            "type": "choropleth"
           }
          ],
          "contour": [
           {
            "colorbar": {
             "outlinewidth": 0,
             "ticks": ""
            },
            "colorscale": [
             [
              0,
              "#0d0887"
             ],
             [
              0.1111111111111111,
              "#46039f"
             ],
             [
              0.2222222222222222,
              "#7201a8"
             ],
             [
              0.3333333333333333,
              "#9c179e"
             ],
             [
              0.4444444444444444,
              "#bd3786"
             ],
             [
              0.5555555555555556,
              "#d8576b"
             ],
             [
              0.6666666666666666,
              "#ed7953"
             ],
             [
              0.7777777777777778,
              "#fb9f3a"
             ],
             [
              0.8888888888888888,
              "#fdca26"
             ],
             [
              1,
              "#f0f921"
             ]
            ],
            "type": "contour"
           }
          ],
          "contourcarpet": [
           {
            "colorbar": {
             "outlinewidth": 0,
             "ticks": ""
            },
            "type": "contourcarpet"
           }
          ],
          "heatmap": [
           {
            "colorbar": {
             "outlinewidth": 0,
             "ticks": ""
            },
            "colorscale": [
             [
              0,
              "#0d0887"
             ],
             [
              0.1111111111111111,
              "#46039f"
             ],
             [
              0.2222222222222222,
              "#7201a8"
             ],
             [
              0.3333333333333333,
              "#9c179e"
             ],
             [
              0.4444444444444444,
              "#bd3786"
             ],
             [
              0.5555555555555556,
              "#d8576b"
             ],
             [
              0.6666666666666666,
              "#ed7953"
             ],
             [
              0.7777777777777778,
              "#fb9f3a"
             ],
             [
              0.8888888888888888,
              "#fdca26"
             ],
             [
              1,
              "#f0f921"
             ]
            ],
            "type": "heatmap"
           }
          ],
          "heatmapgl": [
           {
            "colorbar": {
             "outlinewidth": 0,
             "ticks": ""
            },
            "colorscale": [
             [
              0,
              "#0d0887"
             ],
             [
              0.1111111111111111,
              "#46039f"
             ],
             [
              0.2222222222222222,
              "#7201a8"
             ],
             [
              0.3333333333333333,
              "#9c179e"
             ],
             [
              0.4444444444444444,
              "#bd3786"
             ],
             [
              0.5555555555555556,
              "#d8576b"
             ],
             [
              0.6666666666666666,
              "#ed7953"
             ],
             [
              0.7777777777777778,
              "#fb9f3a"
             ],
             [
              0.8888888888888888,
              "#fdca26"
             ],
             [
              1,
              "#f0f921"
             ]
            ],
            "type": "heatmapgl"
           }
          ],
          "histogram": [
           {
            "marker": {
             "pattern": {
              "fillmode": "overlay",
              "size": 10,
              "solidity": 0.2
             }
            },
            "type": "histogram"
           }
          ],
          "histogram2d": [
           {
            "colorbar": {
             "outlinewidth": 0,
             "ticks": ""
            },
            "colorscale": [
             [
              0,
              "#0d0887"
             ],
             [
              0.1111111111111111,
              "#46039f"
             ],
             [
              0.2222222222222222,
              "#7201a8"
             ],
             [
              0.3333333333333333,
              "#9c179e"
             ],
             [
              0.4444444444444444,
              "#bd3786"
             ],
             [
              0.5555555555555556,
              "#d8576b"
             ],
             [
              0.6666666666666666,
              "#ed7953"
             ],
             [
              0.7777777777777778,
              "#fb9f3a"
             ],
             [
              0.8888888888888888,
              "#fdca26"
             ],
             [
              1,
              "#f0f921"
             ]
            ],
            "type": "histogram2d"
           }
          ],
          "histogram2dcontour": [
           {
            "colorbar": {
             "outlinewidth": 0,
             "ticks": ""
            },
            "colorscale": [
             [
              0,
              "#0d0887"
             ],
             [
              0.1111111111111111,
              "#46039f"
             ],
             [
              0.2222222222222222,
              "#7201a8"
             ],
             [
              0.3333333333333333,
              "#9c179e"
             ],
             [
              0.4444444444444444,
              "#bd3786"
             ],
             [
              0.5555555555555556,
              "#d8576b"
             ],
             [
              0.6666666666666666,
              "#ed7953"
             ],
             [
              0.7777777777777778,
              "#fb9f3a"
             ],
             [
              0.8888888888888888,
              "#fdca26"
             ],
             [
              1,
              "#f0f921"
             ]
            ],
            "type": "histogram2dcontour"
           }
          ],
          "mesh3d": [
           {
            "colorbar": {
             "outlinewidth": 0,
             "ticks": ""
            },
            "type": "mesh3d"
           }
          ],
          "parcoords": [
           {
            "line": {
             "colorbar": {
              "outlinewidth": 0,
              "ticks": ""
             }
            },
            "type": "parcoords"
           }
          ],
          "pie": [
           {
            "automargin": true,
            "type": "pie"
           }
          ],
          "scatter": [
           {
            "fillpattern": {
             "fillmode": "overlay",
             "size": 10,
             "solidity": 0.2
            },
            "type": "scatter"
           }
          ],
          "scatter3d": [
           {
            "line": {
             "colorbar": {
              "outlinewidth": 0,
              "ticks": ""
             }
            },
            "marker": {
             "colorbar": {
              "outlinewidth": 0,
              "ticks": ""
             }
            },
            "type": "scatter3d"
           }
          ],
          "scattercarpet": [
           {
            "marker": {
             "colorbar": {
              "outlinewidth": 0,
              "ticks": ""
             }
            },
            "type": "scattercarpet"
           }
          ],
          "scattergeo": [
           {
            "marker": {
             "colorbar": {
              "outlinewidth": 0,
              "ticks": ""
             }
            },
            "type": "scattergeo"
           }
          ],
          "scattergl": [
           {
            "marker": {
             "colorbar": {
              "outlinewidth": 0,
              "ticks": ""
             }
            },
            "type": "scattergl"
           }
          ],
          "scattermapbox": [
           {
            "marker": {
             "colorbar": {
              "outlinewidth": 0,
              "ticks": ""
             }
            },
            "type": "scattermapbox"
           }
          ],
          "scatterpolar": [
           {
            "marker": {
             "colorbar": {
              "outlinewidth": 0,
              "ticks": ""
             }
            },
            "type": "scatterpolar"
           }
          ],
          "scatterpolargl": [
           {
            "marker": {
             "colorbar": {
              "outlinewidth": 0,
              "ticks": ""
             }
            },
            "type": "scatterpolargl"
           }
          ],
          "scatterternary": [
           {
            "marker": {
             "colorbar": {
              "outlinewidth": 0,
              "ticks": ""
             }
            },
            "type": "scatterternary"
           }
          ],
          "surface": [
           {
            "colorbar": {
             "outlinewidth": 0,
             "ticks": ""
            },
            "colorscale": [
             [
              0,
              "#0d0887"
             ],
             [
              0.1111111111111111,
              "#46039f"
             ],
             [
              0.2222222222222222,
              "#7201a8"
             ],
             [
              0.3333333333333333,
              "#9c179e"
             ],
             [
              0.4444444444444444,
              "#bd3786"
             ],
             [
              0.5555555555555556,
              "#d8576b"
             ],
             [
              0.6666666666666666,
              "#ed7953"
             ],
             [
              0.7777777777777778,
              "#fb9f3a"
             ],
             [
              0.8888888888888888,
              "#fdca26"
             ],
             [
              1,
              "#f0f921"
             ]
            ],
            "type": "surface"
           }
          ],
          "table": [
           {
            "cells": {
             "fill": {
              "color": "#EBF0F8"
             },
             "line": {
              "color": "white"
             }
            },
            "header": {
             "fill": {
              "color": "#C8D4E3"
             },
             "line": {
              "color": "white"
             }
            },
            "type": "table"
           }
          ]
         },
         "layout": {
          "annotationdefaults": {
           "arrowcolor": "#2a3f5f",
           "arrowhead": 0,
           "arrowwidth": 1
          },
          "autotypenumbers": "strict",
          "coloraxis": {
           "colorbar": {
            "outlinewidth": 0,
            "ticks": ""
           }
          },
          "colorscale": {
           "diverging": [
            [
             0,
             "#8e0152"
            ],
            [
             0.1,
             "#c51b7d"
            ],
            [
             0.2,
             "#de77ae"
            ],
            [
             0.3,
             "#f1b6da"
            ],
            [
             0.4,
             "#fde0ef"
            ],
            [
             0.5,
             "#f7f7f7"
            ],
            [
             0.6,
             "#e6f5d0"
            ],
            [
             0.7,
             "#b8e186"
            ],
            [
             0.8,
             "#7fbc41"
            ],
            [
             0.9,
             "#4d9221"
            ],
            [
             1,
             "#276419"
            ]
           ],
           "sequential": [
            [
             0,
             "#0d0887"
            ],
            [
             0.1111111111111111,
             "#46039f"
            ],
            [
             0.2222222222222222,
             "#7201a8"
            ],
            [
             0.3333333333333333,
             "#9c179e"
            ],
            [
             0.4444444444444444,
             "#bd3786"
            ],
            [
             0.5555555555555556,
             "#d8576b"
            ],
            [
             0.6666666666666666,
             "#ed7953"
            ],
            [
             0.7777777777777778,
             "#fb9f3a"
            ],
            [
             0.8888888888888888,
             "#fdca26"
            ],
            [
             1,
             "#f0f921"
            ]
           ],
           "sequentialminus": [
            [
             0,
             "#0d0887"
            ],
            [
             0.1111111111111111,
             "#46039f"
            ],
            [
             0.2222222222222222,
             "#7201a8"
            ],
            [
             0.3333333333333333,
             "#9c179e"
            ],
            [
             0.4444444444444444,
             "#bd3786"
            ],
            [
             0.5555555555555556,
             "#d8576b"
            ],
            [
             0.6666666666666666,
             "#ed7953"
            ],
            [
             0.7777777777777778,
             "#fb9f3a"
            ],
            [
             0.8888888888888888,
             "#fdca26"
            ],
            [
             1,
             "#f0f921"
            ]
           ]
          },
          "colorway": [
           "#636efa",
           "#EF553B",
           "#00cc96",
           "#ab63fa",
           "#FFA15A",
           "#19d3f3",
           "#FF6692",
           "#B6E880",
           "#FF97FF",
           "#FECB52"
          ],
          "font": {
           "color": "#2a3f5f"
          },
          "geo": {
           "bgcolor": "white",
           "lakecolor": "white",
           "landcolor": "#E5ECF6",
           "showlakes": true,
           "showland": true,
           "subunitcolor": "white"
          },
          "hoverlabel": {
           "align": "left"
          },
          "hovermode": "closest",
          "mapbox": {
           "style": "light"
          },
          "paper_bgcolor": "white",
          "plot_bgcolor": "#E5ECF6",
          "polar": {
           "angularaxis": {
            "gridcolor": "white",
            "linecolor": "white",
            "ticks": ""
           },
           "bgcolor": "#E5ECF6",
           "radialaxis": {
            "gridcolor": "white",
            "linecolor": "white",
            "ticks": ""
           }
          },
          "scene": {
           "xaxis": {
            "backgroundcolor": "#E5ECF6",
            "gridcolor": "white",
            "gridwidth": 2,
            "linecolor": "white",
            "showbackground": true,
            "ticks": "",
            "zerolinecolor": "white"
           },
           "yaxis": {
            "backgroundcolor": "#E5ECF6",
            "gridcolor": "white",
            "gridwidth": 2,
            "linecolor": "white",
            "showbackground": true,
            "ticks": "",
            "zerolinecolor": "white"
           },
           "zaxis": {
            "backgroundcolor": "#E5ECF6",
            "gridcolor": "white",
            "gridwidth": 2,
            "linecolor": "white",
            "showbackground": true,
            "ticks": "",
            "zerolinecolor": "white"
           }
          },
          "shapedefaults": {
           "line": {
            "color": "#2a3f5f"
           }
          },
          "ternary": {
           "aaxis": {
            "gridcolor": "white",
            "linecolor": "white",
            "ticks": ""
           },
           "baxis": {
            "gridcolor": "white",
            "linecolor": "white",
            "ticks": ""
           },
           "bgcolor": "#E5ECF6",
           "caxis": {
            "gridcolor": "white",
            "linecolor": "white",
            "ticks": ""
           }
          },
          "title": {
           "x": 0.05
          },
          "xaxis": {
           "automargin": true,
           "gridcolor": "white",
           "linecolor": "white",
           "ticks": "",
           "title": {
            "standoff": 15
           },
           "zerolinecolor": "white",
           "zerolinewidth": 2
          },
          "yaxis": {
           "automargin": true,
           "gridcolor": "white",
           "linecolor": "white",
           "ticks": "",
           "title": {
            "standoff": 15
           },
           "zerolinecolor": "white",
           "zerolinewidth": 2
          }
         }
        },
        "title": {
         "text": "Support vs Confidence (Bubble Size = Lift)"
        },
        "xaxis": {
         "anchor": "y",
         "domain": [
          0,
          1
         ],
         "title": {
          "text": "support"
         }
        },
        "yaxis": {
         "anchor": "x",
         "domain": [
          0,
          1
         ],
         "title": {
          "text": "confidence"
         }
        }
       }
      },
      "text/html": [
       "<div>                            <div id=\"16db0182-ddbc-4279-9419-e76998a6b6f9\" class=\"plotly-graph-div\" style=\"height:525px; width:100%;\"></div>            <script type=\"text/javascript\">                require([\"plotly\"], function(Plotly) {                    window.PLOTLYENV=window.PLOTLYENV || {};                                    if (document.getElementById(\"16db0182-ddbc-4279-9419-e76998a6b6f9\")) {                    Plotly.newPlot(                        \"16db0182-ddbc-4279-9419-e76998a6b6f9\",                        [{\"customdata\":[[\"Streptococcus\",\"Bacteroides\"],[\"Bacteroides\",\"Streptococcus\"],[\"Blautia\",\"Alistipes\"],[\"Alistipes\",\"Blautia\"],[\"Blautia\",\"Roseburia\"],[\"Roseburia\",\"Blautia\"],[\"Blautia\",\"Bacteroides\"],[\"Bacteroides\",\"Blautia\"],[\"Clostridium\",\"Blautia\"],[\"Blautia\",\"Clostridium\"],[\"Blautia\",\"Eubacterium\"],[\"Eubacterium\",\"Blautia\"],[\"Blautia\",\"Parabacteroides\"],[\"Parabacteroides\",\"Blautia\"],[\"Blautia\",\"Dorea\"],[\"Dorea\",\"Blautia\"],[\"Blautia\",\"Ruminococcus\"],[\"Ruminococcus\",\"Blautia\"],[\"Blautia\",\"Faecalibacterium\"],[\"Faecalibacterium\",\"Blautia\"],[\"Oscillibacter\",\"Blautia\"],[\"Blautia\",\"Oscillibacter\"],[\"Alistipes\",\"Roseburia\"],[\"Roseburia\",\"Alistipes\"],[\"Alistipes\",\"Bacteroides\"],[\"Bacteroides\",\"Alistipes\"],[\"Clostridium\",\"Alistipes\"],[\"Alistipes\",\"Clostridium\"],[\"Alistipes\",\"Eubacterium\"],[\"Eubacterium\",\"Alistipes\"],[\"Alistipes\",\"Parabacteroides\"],[\"Parabacteroides\",\"Alistipes\"],[\"Alistipes\",\"Ruminococcus\"],[\"Ruminococcus\",\"Alistipes\"],[\"Alistipes\",\"Faecalibacterium\"],[\"Faecalibacterium\",\"Alistipes\"],[\"Oscillibacter\",\"Alistipes\"],[\"Alistipes\",\"Oscillibacter\"],[\"Roseburia\",\"Bacteroides\"],[\"Bacteroides\",\"Roseburia\"],[\"Clostridium\",\"Roseburia\"],[\"Roseburia\",\"Clostridium\"],[\"Roseburia\",\"Eubacterium\"],[\"Eubacterium\",\"Roseburia\"],[\"Parabacteroides\",\"Roseburia\"],[\"Roseburia\",\"Parabacteroides\"],[\"Ruminococcus\",\"Roseburia\"],[\"Roseburia\",\"Ruminococcus\"],[\"Roseburia\",\"Faecalibacterium\"],[\"Faecalibacterium\",\"Roseburia\"],[\"Oscillibacter\",\"Roseburia\"],[\"Roseburia\",\"Oscillibacter\"],[\"Clostridium\",\"Bacteroides\"],[\"Bacteroides\",\"Clostridium\"],[\"Eubacterium\",\"Bacteroides\"],[\"Bacteroides\",\"Eubacterium\"],[\"Parabacteroides\",\"Bacteroides\"],[\"Bacteroides\",\"Parabacteroides\"],[\"Dorea\",\"Bacteroides\"],[\"Bacteroides\",\"Dorea\"],[\"Ruminococcus\",\"Bacteroides\"],[\"Bacteroides\",\"Ruminococcus\"],[\"Bacteroides\",\"Faecalibacterium\"],[\"Faecalibacterium\",\"Bacteroides\"],[\"Oscillibacter\",\"Bacteroides\"],[\"Bacteroides\",\"Oscillibacter\"],[\"Clostridium\",\"Eubacterium\"],[\"Eubacterium\",\"Clostridium\"],[\"Clostridium\",\"Parabacteroides\"],[\"Parabacteroides\",\"Clostridium\"],[\"Clostridium\",\"Ruminococcus\"],[\"Ruminococcus\",\"Clostridium\"],[\"Clostridium\",\"Faecalibacterium\"],[\"Faecalibacterium\",\"Clostridium\"],[\"Parabacteroides\",\"Eubacterium\"],[\"Eubacterium\",\"Parabacteroides\"],[\"Ruminococcus\",\"Eubacterium\"],[\"Eubacterium\",\"Ruminococcus\"],[\"Eubacterium\",\"Faecalibacterium\"],[\"Faecalibacterium\",\"Eubacterium\"],[\"Oscillibacter\",\"Eubacterium\"],[\"Eubacterium\",\"Oscillibacter\"],[\"Parabacteroides\",\"Ruminococcus\"],[\"Ruminococcus\",\"Parabacteroides\"],[\"Parabacteroides\",\"Faecalibacterium\"],[\"Faecalibacterium\",\"Parabacteroides\"],[\"Oscillibacter\",\"Parabacteroides\"],[\"Parabacteroides\",\"Oscillibacter\"],[\"Ruminococcus\",\"Dorea\"],[\"Dorea\",\"Ruminococcus\"],[\"Dorea\",\"Faecalibacterium\"],[\"Faecalibacterium\",\"Dorea\"],[\"Ruminococcus\",\"Faecalibacterium\"],[\"Faecalibacterium\",\"Ruminococcus\"],[\"Oscillibacter\",\"Ruminococcus\"],[\"Ruminococcus\",\"Oscillibacter\"],[\"Oscillibacter\",\"Faecalibacterium\"],[\"Faecalibacterium\",\"Oscillibacter\"],[\"Alistipes, Blautia\",\"Roseburia\"],[\"Blautia, Roseburia\",\"Alistipes\"],[\"Alistipes, Roseburia\",\"Blautia\"],[\"Blautia\",\"Alistipes, Roseburia\"],[\"Alistipes\",\"Blautia, Roseburia\"],[\"Roseburia\",\"Alistipes, Blautia\"],[\"Alistipes, Blautia\",\"Bacteroides\"],[\"Bacteroides, Blautia\",\"Alistipes\"],[\"Alistipes, Bacteroides\",\"Blautia\"],[\"Blautia\",\"Alistipes, Bacteroides\"],[\"Alistipes\",\"Bacteroides, Blautia\"],[\"Bacteroides\",\"Alistipes, Blautia\"],[\"Blautia, Clostridium\",\"Alistipes\"],[\"Alistipes, Clostridium\",\"Blautia\"],[\"Alistipes, Blautia\",\"Clostridium\"],[\"Clostridium\",\"Alistipes, Blautia\"],[\"Blautia\",\"Alistipes, Clostridium\"],[\"Alistipes\",\"Blautia, Clostridium\"],[\"Alistipes, Blautia\",\"Eubacterium\"],[\"Blautia, Eubacterium\",\"Alistipes\"],[\"Alistipes, Eubacterium\",\"Blautia\"],[\"Blautia\",\"Alistipes, Eubacterium\"],[\"Alistipes\",\"Blautia, Eubacterium\"],[\"Eubacterium\",\"Alistipes, Blautia\"],[\"Blautia, Parabacteroides\",\"Alistipes\"],[\"Alistipes, Parabacteroides\",\"Blautia\"],[\"Alistipes, Blautia\",\"Parabacteroides\"],[\"Parabacteroides\",\"Alistipes, Blautia\"],[\"Blautia\",\"Alistipes, Parabacteroides\"],[\"Alistipes\",\"Blautia, Parabacteroides\"],[\"Alistipes, Blautia\",\"Ruminococcus\"],[\"Blautia, Ruminococcus\",\"Alistipes\"],[\"Alistipes, Ruminococcus\",\"Blautia\"],[\"Blautia\",\"Alistipes, Ruminococcus\"],[\"Alistipes\",\"Blautia, Ruminococcus\"],[\"Ruminococcus\",\"Alistipes, Blautia\"],[\"Alistipes, Blautia\",\"Faecalibacterium\"],[\"Blautia, Faecalibacterium\",\"Alistipes\"],[\"Alistipes, Faecalibacterium\",\"Blautia\"],[\"Blautia\",\"Alistipes, Faecalibacterium\"],[\"Alistipes\",\"Blautia, Faecalibacterium\"],[\"Faecalibacterium\",\"Alistipes, Blautia\"],[\"Blautia, Oscillibacter\",\"Alistipes\"],[\"Alistipes, Oscillibacter\",\"Blautia\"],[\"Alistipes, Blautia\",\"Oscillibacter\"],[\"Oscillibacter\",\"Alistipes, Blautia\"],[\"Blautia\",\"Alistipes, Oscillibacter\"],[\"Alistipes\",\"Blautia, Oscillibacter\"],[\"Blautia, Roseburia\",\"Bacteroides\"],[\"Bacteroides, Blautia\",\"Roseburia\"],[\"Bacteroides, Roseburia\",\"Blautia\"],[\"Blautia\",\"Bacteroides, Roseburia\"],[\"Roseburia\",\"Bacteroides, Blautia\"],[\"Bacteroides\",\"Blautia, Roseburia\"],[\"Blautia, Roseburia\",\"Eubacterium\"],[\"Blautia, Eubacterium\",\"Roseburia\"],[\"Eubacterium, Roseburia\",\"Blautia\"],[\"Blautia\",\"Eubacterium, Roseburia\"],[\"Roseburia\",\"Blautia, Eubacterium\"],[\"Eubacterium\",\"Blautia, Roseburia\"],[\"Blautia, Parabacteroides\",\"Roseburia\"],[\"Blautia, Roseburia\",\"Parabacteroides\"],[\"Parabacteroides, Roseburia\",\"Blautia\"],[\"Blautia\",\"Parabacteroides, Roseburia\"],[\"Parabacteroides\",\"Blautia, Roseburia\"],[\"Roseburia\",\"Blautia, Parabacteroides\"],[\"Blautia, Ruminococcus\",\"Roseburia\"],[\"Blautia, Roseburia\",\"Ruminococcus\"],[\"Roseburia, Ruminococcus\",\"Blautia\"],[\"Blautia\",\"Roseburia, Ruminococcus\"],[\"Ruminococcus\",\"Blautia, Roseburia\"],[\"Roseburia\",\"Blautia, Ruminococcus\"],[\"Blautia, Roseburia\",\"Faecalibacterium\"],[\"Blautia, Faecalibacterium\",\"Roseburia\"],[\"Faecalibacterium, Roseburia\",\"Blautia\"],[\"Blautia\",\"Faecalibacterium, Roseburia\"],[\"Roseburia\",\"Blautia, Faecalibacterium\"],[\"Faecalibacterium\",\"Blautia, Roseburia\"],[\"Blautia, Oscillibacter\",\"Roseburia\"],[\"Oscillibacter, Roseburia\",\"Blautia\"],[\"Blautia, Roseburia\",\"Oscillibacter\"],[\"Oscillibacter\",\"Blautia, Roseburia\"],[\"Blautia\",\"Oscillibacter, Roseburia\"],[\"Roseburia\",\"Blautia, Oscillibacter\"],[\"Blautia, Clostridium\",\"Bacteroides\"],[\"Bacteroides, Clostridium\",\"Blautia\"],[\"Bacteroides, Blautia\",\"Clostridium\"],[\"Clostridium\",\"Bacteroides, Blautia\"],[\"Blautia\",\"Bacteroides, Clostridium\"],[\"Bacteroides\",\"Blautia, Clostridium\"],[\"Blautia, Eubacterium\",\"Bacteroides\"],[\"Bacteroides, Blautia\",\"Eubacterium\"],[\"Bacteroides, Eubacterium\",\"Blautia\"],[\"Blautia\",\"Bacteroides, Eubacterium\"],[\"Eubacterium\",\"Bacteroides, Blautia\"],[\"Bacteroides\",\"Blautia, Eubacterium\"],[\"Blautia, Parabacteroides\",\"Bacteroides\"],[\"Bacteroides, Blautia\",\"Parabacteroides\"],[\"Bacteroides, Parabacteroides\",\"Blautia\"],[\"Blautia\",\"Bacteroides, Parabacteroides\"],[\"Parabacteroides\",\"Bacteroides, Blautia\"],[\"Bacteroides\",\"Blautia, Parabacteroides\"],[\"Blautia, Ruminococcus\",\"Bacteroides\"],[\"Bacteroides, Blautia\",\"Ruminococcus\"],[\"Bacteroides, Ruminococcus\",\"Blautia\"],[\"Blautia\",\"Bacteroides, Ruminococcus\"],[\"Ruminococcus\",\"Bacteroides, Blautia\"],[\"Bacteroides\",\"Blautia, Ruminococcus\"],[\"Bacteroides, Blautia\",\"Faecalibacterium\"],[\"Blautia, Faecalibacterium\",\"Bacteroides\"],[\"Bacteroides, Faecalibacterium\",\"Blautia\"],[\"Blautia\",\"Bacteroides, Faecalibacterium\"],[\"Bacteroides\",\"Blautia, Faecalibacterium\"],[\"Faecalibacterium\",\"Bacteroides, Blautia\"],[\"Blautia, Oscillibacter\",\"Bacteroides\"],[\"Bacteroides, Oscillibacter\",\"Blautia\"],[\"Bacteroides, Blautia\",\"Oscillibacter\"],[\"Oscillibacter\",\"Bacteroides, Blautia\"],[\"Blautia\",\"Bacteroides, Oscillibacter\"],[\"Bacteroides\",\"Blautia, Oscillibacter\"],[\"Blautia, Clostridium\",\"Eubacterium\"],[\"Clostridium, Eubacterium\",\"Blautia\"],[\"Blautia, Eubacterium\",\"Clostridium\"],[\"Clostridium\",\"Blautia, Eubacterium\"],[\"Blautia\",\"Clostridium, Eubacterium\"],[\"Eubacterium\",\"Blautia, Clostridium\"],[\"Blautia, Clostridium\",\"Parabacteroides\"],[\"Clostridium, Parabacteroides\",\"Blautia\"],[\"Blautia, Parabacteroides\",\"Clostridium\"],[\"Clostridium\",\"Blautia, Parabacteroides\"],[\"Blautia\",\"Clostridium, Parabacteroides\"],[\"Parabacteroides\",\"Blautia, Clostridium\"],[\"Blautia, Clostridium\",\"Ruminococcus\"],[\"Clostridium, Ruminococcus\",\"Blautia\"],[\"Blautia, Ruminococcus\",\"Clostridium\"],[\"Clostridium\",\"Blautia, Ruminococcus\"],[\"Blautia\",\"Clostridium, Ruminococcus\"],[\"Ruminococcus\",\"Blautia, Clostridium\"],[\"Blautia, Clostridium\",\"Faecalibacterium\"],[\"Clostridium, Faecalibacterium\",\"Blautia\"],[\"Blautia, Faecalibacterium\",\"Clostridium\"],[\"Clostridium\",\"Blautia, Faecalibacterium\"],[\"Blautia\",\"Clostridium, Faecalibacterium\"],[\"Faecalibacterium\",\"Blautia, Clostridium\"],[\"Blautia, Parabacteroides\",\"Eubacterium\"],[\"Blautia, Eubacterium\",\"Parabacteroides\"],[\"Eubacterium, Parabacteroides\",\"Blautia\"],[\"Blautia\",\"Eubacterium, Parabacteroides\"],[\"Parabacteroides\",\"Blautia, Eubacterium\"],[\"Eubacterium\",\"Blautia, Parabacteroides\"],[\"Blautia, Ruminococcus\",\"Eubacterium\"],[\"Blautia, Eubacterium\",\"Ruminococcus\"],[\"Eubacterium, Ruminococcus\",\"Blautia\"],[\"Blautia\",\"Eubacterium, Ruminococcus\"],[\"Ruminococcus\",\"Blautia, Eubacterium\"],[\"Eubacterium\",\"Blautia, Ruminococcus\"],[\"Blautia, Eubacterium\",\"Faecalibacterium\"],[\"Blautia, Faecalibacterium\",\"Eubacterium\"],[\"Eubacterium, Faecalibacterium\",\"Blautia\"],[\"Blautia\",\"Eubacterium, Faecalibacterium\"],[\"Eubacterium\",\"Blautia, Faecalibacterium\"],[\"Faecalibacterium\",\"Blautia, Eubacterium\"],[\"Blautia, Oscillibacter\",\"Eubacterium\"],[\"Eubacterium, Oscillibacter\",\"Blautia\"],[\"Blautia, Eubacterium\",\"Oscillibacter\"],[\"Oscillibacter\",\"Blautia, Eubacterium\"],[\"Blautia\",\"Eubacterium, Oscillibacter\"],[\"Eubacterium\",\"Blautia, Oscillibacter\"],[\"Blautia, Parabacteroides\",\"Ruminococcus\"],[\"Blautia, Ruminococcus\",\"Parabacteroides\"],[\"Parabacteroides, Ruminococcus\",\"Blautia\"],[\"Blautia\",\"Parabacteroides, Ruminococcus\"],[\"Parabacteroides\",\"Blautia, Ruminococcus\"],[\"Ruminococcus\",\"Blautia, Parabacteroides\"],[\"Blautia, Parabacteroides\",\"Faecalibacterium\"],[\"Blautia, Faecalibacterium\",\"Parabacteroides\"],[\"Faecalibacterium, Parabacteroides\",\"Blautia\"],[\"Blautia\",\"Faecalibacterium, Parabacteroides\"],[\"Parabacteroides\",\"Blautia, Faecalibacterium\"],[\"Faecalibacterium\",\"Blautia, Parabacteroides\"],[\"Blautia, Oscillibacter\",\"Parabacteroides\"],[\"Oscillibacter, Parabacteroides\",\"Blautia\"],[\"Blautia, Parabacteroides\",\"Oscillibacter\"],[\"Oscillibacter\",\"Blautia, Parabacteroides\"],[\"Blautia\",\"Oscillibacter, Parabacteroides\"],[\"Parabacteroides\",\"Blautia, Oscillibacter\"],[\"Blautia, Ruminococcus\",\"Faecalibacterium\"],[\"Blautia, Faecalibacterium\",\"Ruminococcus\"],[\"Faecalibacterium, Ruminococcus\",\"Blautia\"],[\"Blautia\",\"Faecalibacterium, Ruminococcus\"],[\"Ruminococcus\",\"Blautia, Faecalibacterium\"],[\"Faecalibacterium\",\"Blautia, Ruminococcus\"],[\"Blautia, Oscillibacter\",\"Ruminococcus\"],[\"Oscillibacter, Ruminococcus\",\"Blautia\"],[\"Blautia, Ruminococcus\",\"Oscillibacter\"],[\"Oscillibacter\",\"Blautia, Ruminococcus\"],[\"Blautia\",\"Oscillibacter, Ruminococcus\"],[\"Ruminococcus\",\"Blautia, Oscillibacter\"],[\"Blautia, Oscillibacter\",\"Faecalibacterium\"],[\"Faecalibacterium, Oscillibacter\",\"Blautia\"],[\"Blautia, Faecalibacterium\",\"Oscillibacter\"],[\"Oscillibacter\",\"Blautia, Faecalibacterium\"],[\"Blautia\",\"Faecalibacterium, Oscillibacter\"],[\"Faecalibacterium\",\"Blautia, Oscillibacter\"],[\"Alistipes, Roseburia\",\"Bacteroides\"],[\"Alistipes, Bacteroides\",\"Roseburia\"],[\"Bacteroides, Roseburia\",\"Alistipes\"],[\"Alistipes\",\"Bacteroides, Roseburia\"],[\"Roseburia\",\"Alistipes, Bacteroides\"],[\"Bacteroides\",\"Alistipes, Roseburia\"],[\"Alistipes, Roseburia\",\"Eubacterium\"],[\"Alistipes, Eubacterium\",\"Roseburia\"],[\"Eubacterium, Roseburia\",\"Alistipes\"],[\"Alistipes\",\"Eubacterium, Roseburia\"],[\"Roseburia\",\"Alistipes, Eubacterium\"],[\"Eubacterium\",\"Alistipes, Roseburia\"],[\"Alistipes, Parabacteroides\",\"Roseburia\"],[\"Alistipes, Roseburia\",\"Parabacteroides\"],[\"Parabacteroides, Roseburia\",\"Alistipes\"],[\"Alistipes\",\"Parabacteroides, Roseburia\"],[\"Parabacteroides\",\"Alistipes, Roseburia\"],[\"Roseburia\",\"Alistipes, Parabacteroides\"],[\"Alistipes, Roseburia\",\"Ruminococcus\"],[\"Alistipes, Ruminococcus\",\"Roseburia\"],[\"Roseburia, Ruminococcus\",\"Alistipes\"],[\"Alistipes\",\"Roseburia, Ruminococcus\"],[\"Roseburia\",\"Alistipes, Ruminococcus\"],[\"Ruminococcus\",\"Alistipes, Roseburia\"],[\"Alistipes, Roseburia\",\"Faecalibacterium\"],[\"Alistipes, Faecalibacterium\",\"Roseburia\"],[\"Faecalibacterium, Roseburia\",\"Alistipes\"],[\"Alistipes\",\"Faecalibacterium, Roseburia\"],[\"Roseburia\",\"Alistipes, Faecalibacterium\"],[\"Faecalibacterium\",\"Alistipes, Roseburia\"],[\"Alistipes, Oscillibacter\",\"Roseburia\"],[\"Oscillibacter, Roseburia\",\"Alistipes\"],[\"Alistipes, Roseburia\",\"Oscillibacter\"],[\"Oscillibacter\",\"Alistipes, Roseburia\"],[\"Alistipes\",\"Oscillibacter, Roseburia\"],[\"Roseburia\",\"Alistipes, Oscillibacter\"],[\"Alistipes, Clostridium\",\"Bacteroides\"],[\"Bacteroides, Clostridium\",\"Alistipes\"],[\"Alistipes, Bacteroides\",\"Clostridium\"],[\"Clostridium\",\"Alistipes, Bacteroides\"],[\"Alistipes\",\"Bacteroides, Clostridium\"],[\"Bacteroides\",\"Alistipes, Clostridium\"],[\"Alistipes, Eubacterium\",\"Bacteroides\"],[\"Bacteroides, Eubacterium\",\"Alistipes\"],[\"Alistipes, Bacteroides\",\"Eubacterium\"],[\"Eubacterium\",\"Alistipes, Bacteroides\"],[\"Alistipes\",\"Bacteroides, Eubacterium\"],[\"Bacteroides\",\"Alistipes, Eubacterium\"],[\"Alistipes, Parabacteroides\",\"Bacteroides\"],[\"Alistipes, Bacteroides\",\"Parabacteroides\"],[\"Bacteroides, Parabacteroides\",\"Alistipes\"],[\"Alistipes\",\"Bacteroides, Parabacteroides\"],[\"Parabacteroides\",\"Alistipes, Bacteroides\"],[\"Bacteroides\",\"Alistipes, Parabacteroides\"],[\"Alistipes, Ruminococcus\",\"Bacteroides\"],[\"Alistipes, Bacteroides\",\"Ruminococcus\"],[\"Bacteroides, Ruminococcus\",\"Alistipes\"],[\"Alistipes\",\"Bacteroides, Ruminococcus\"],[\"Ruminococcus\",\"Alistipes, Bacteroides\"],[\"Bacteroides\",\"Alistipes, Ruminococcus\"],[\"Alistipes, Bacteroides\",\"Faecalibacterium\"],[\"Bacteroides, Faecalibacterium\",\"Alistipes\"],[\"Alistipes, Faecalibacterium\",\"Bacteroides\"],[\"Bacteroides\",\"Alistipes, Faecalibacterium\"],[\"Alistipes\",\"Bacteroides, Faecalibacterium\"],[\"Faecalibacterium\",\"Alistipes, Bacteroides\"],[\"Alistipes, Oscillibacter\",\"Bacteroides\"],[\"Bacteroides, Oscillibacter\",\"Alistipes\"],[\"Alistipes, Bacteroides\",\"Oscillibacter\"],[\"Oscillibacter\",\"Alistipes, Bacteroides\"],[\"Alistipes\",\"Bacteroides, Oscillibacter\"],[\"Bacteroides\",\"Alistipes, Oscillibacter\"],[\"Alistipes, Parabacteroides\",\"Clostridium\"],[\"Alistipes, Clostridium\",\"Parabacteroides\"],[\"Clostridium, Parabacteroides\",\"Alistipes\"],[\"Alistipes\",\"Clostridium, Parabacteroides\"],[\"Parabacteroides\",\"Alistipes, Clostridium\"],[\"Clostridium\",\"Alistipes, Parabacteroides\"],[\"Alistipes, Clostridium\",\"Ruminococcus\"],[\"Clostridium, Ruminococcus\",\"Alistipes\"],[\"Alistipes, Ruminococcus\",\"Clostridium\"],[\"Clostridium\",\"Alistipes, Ruminococcus\"],[\"Alistipes\",\"Clostridium, Ruminococcus\"],[\"Ruminococcus\",\"Alistipes, Clostridium\"],[\"Alistipes, Clostridium\",\"Faecalibacterium\"],[\"Clostridium, Faecalibacterium\",\"Alistipes\"],[\"Alistipes, Faecalibacterium\",\"Clostridium\"],[\"Clostridium\",\"Alistipes, Faecalibacterium\"],[\"Alistipes\",\"Clostridium, Faecalibacterium\"],[\"Faecalibacterium\",\"Alistipes, Clostridium\"],[\"Alistipes, Parabacteroides\",\"Eubacterium\"],[\"Alistipes, Eubacterium\",\"Parabacteroides\"],[\"Eubacterium, Parabacteroides\",\"Alistipes\"],[\"Alistipes\",\"Eubacterium, Parabacteroides\"],[\"Parabacteroides\",\"Alistipes, Eubacterium\"],[\"Eubacterium\",\"Alistipes, Parabacteroides\"],[\"Alistipes, Ruminococcus\",\"Eubacterium\"],[\"Alistipes, Eubacterium\",\"Ruminococcus\"],[\"Eubacterium, Ruminococcus\",\"Alistipes\"],[\"Alistipes\",\"Eubacterium, Ruminococcus\"],[\"Ruminococcus\",\"Alistipes, Eubacterium\"],[\"Eubacterium\",\"Alistipes, Ruminococcus\"],[\"Alistipes, Eubacterium\",\"Faecalibacterium\"],[\"Eubacterium, Faecalibacterium\",\"Alistipes\"],[\"Alistipes, Faecalibacterium\",\"Eubacterium\"],[\"Eubacterium\",\"Alistipes, Faecalibacterium\"],[\"Alistipes\",\"Eubacterium, Faecalibacterium\"],[\"Faecalibacterium\",\"Alistipes, Eubacterium\"],[\"Alistipes, Oscillibacter\",\"Eubacterium\"],[\"Eubacterium, Oscillibacter\",\"Alistipes\"],[\"Alistipes, Eubacterium\",\"Oscillibacter\"],[\"Oscillibacter\",\"Alistipes, Eubacterium\"],[\"Alistipes\",\"Eubacterium, Oscillibacter\"],[\"Eubacterium\",\"Alistipes, Oscillibacter\"],[\"Alistipes, Parabacteroides\",\"Ruminococcus\"],[\"Alistipes, Ruminococcus\",\"Parabacteroides\"],[\"Parabacteroides, Ruminococcus\",\"Alistipes\"],[\"Alistipes\",\"Parabacteroides, Ruminococcus\"],[\"Parabacteroides\",\"Alistipes, Ruminococcus\"],[\"Ruminococcus\",\"Alistipes, Parabacteroides\"],[\"Alistipes, Parabacteroides\",\"Faecalibacterium\"],[\"Alistipes, Faecalibacterium\",\"Parabacteroides\"],[\"Faecalibacterium, Parabacteroides\",\"Alistipes\"],[\"Alistipes\",\"Faecalibacterium, Parabacteroides\"],[\"Parabacteroides\",\"Alistipes, Faecalibacterium\"],[\"Faecalibacterium\",\"Alistipes, Parabacteroides\"],[\"Alistipes, Oscillibacter\",\"Parabacteroides\"],[\"Alistipes, Parabacteroides\",\"Oscillibacter\"],[\"Oscillibacter, Parabacteroides\",\"Alistipes\"],[\"Alistipes\",\"Oscillibacter, Parabacteroides\"],[\"Oscillibacter\",\"Alistipes, Parabacteroides\"],[\"Parabacteroides\",\"Alistipes, Oscillibacter\"],[\"Alistipes, Ruminococcus\",\"Faecalibacterium\"],[\"Alistipes, Faecalibacterium\",\"Ruminococcus\"],[\"Faecalibacterium, Ruminococcus\",\"Alistipes\"],[\"Alistipes\",\"Faecalibacterium, Ruminococcus\"],[\"Ruminococcus\",\"Alistipes, Faecalibacterium\"],[\"Faecalibacterium\",\"Alistipes, Ruminococcus\"],[\"Alistipes, Oscillibacter\",\"Ruminococcus\"],[\"Oscillibacter, Ruminococcus\",\"Alistipes\"],[\"Alistipes, Ruminococcus\",\"Oscillibacter\"],[\"Oscillibacter\",\"Alistipes, Ruminococcus\"],[\"Alistipes\",\"Oscillibacter, Ruminococcus\"],[\"Ruminococcus\",\"Alistipes, Oscillibacter\"],[\"Alistipes, Oscillibacter\",\"Faecalibacterium\"],[\"Faecalibacterium, Oscillibacter\",\"Alistipes\"],[\"Alistipes, Faecalibacterium\",\"Oscillibacter\"],[\"Oscillibacter\",\"Alistipes, Faecalibacterium\"],[\"Alistipes\",\"Faecalibacterium, Oscillibacter\"],[\"Faecalibacterium\",\"Alistipes, Oscillibacter\"],[\"Clostridium, Roseburia\",\"Bacteroides\"],[\"Bacteroides, Clostridium\",\"Roseburia\"],[\"Bacteroides, Roseburia\",\"Clostridium\"],[\"Clostridium\",\"Bacteroides, Roseburia\"],[\"Roseburia\",\"Bacteroides, Clostridium\"],[\"Bacteroides\",\"Clostridium, Roseburia\"],[\"Eubacterium, Roseburia\",\"Bacteroides\"],[\"Bacteroides, Eubacterium\",\"Roseburia\"],[\"Bacteroides, Roseburia\",\"Eubacterium\"],[\"Eubacterium\",\"Bacteroides, Roseburia\"],[\"Roseburia\",\"Bacteroides, Eubacterium\"],[\"Bacteroides\",\"Eubacterium, Roseburia\"],[\"Parabacteroides, Roseburia\",\"Bacteroides\"],[\"Bacteroides, Parabacteroides\",\"Roseburia\"],[\"Bacteroides, Roseburia\",\"Parabacteroides\"],[\"Parabacteroides\",\"Bacteroides, Roseburia\"],[\"Roseburia\",\"Bacteroides, Parabacteroides\"],[\"Bacteroides\",\"Parabacteroides, Roseburia\"],[\"Roseburia, Ruminococcus\",\"Bacteroides\"],[\"Bacteroides, Ruminococcus\",\"Roseburia\"],[\"Bacteroides, Roseburia\",\"Ruminococcus\"],[\"Ruminococcus\",\"Bacteroides, Roseburia\"],[\"Roseburia\",\"Bacteroides, Ruminococcus\"],[\"Bacteroides\",\"Roseburia, Ruminococcus\"],[\"Bacteroides, Roseburia\",\"Faecalibacterium\"],[\"Bacteroides, Faecalibacterium\",\"Roseburia\"],[\"Faecalibacterium, Roseburia\",\"Bacteroides\"],[\"Bacteroides\",\"Faecalibacterium, Roseburia\"],[\"Roseburia\",\"Bacteroides, Faecalibacterium\"],[\"Faecalibacterium\",\"Bacteroides, Roseburia\"],[\"Oscillibacter, Roseburia\",\"Bacteroides\"],[\"Bacteroides, Oscillibacter\",\"Roseburia\"],[\"Bacteroides, Roseburia\",\"Oscillibacter\"],[\"Oscillibacter\",\"Bacteroides, Roseburia\"],[\"Roseburia\",\"Bacteroides, Oscillibacter\"],[\"Bacteroides\",\"Oscillibacter, Roseburia\"],[\"Clostridium, Roseburia\",\"Faecalibacterium\"],[\"Clostridium, Faecalibacterium\",\"Roseburia\"],[\"Faecalibacterium, Roseburia\",\"Clostridium\"],[\"Clostridium\",\"Faecalibacterium, Roseburia\"],[\"Roseburia\",\"Clostridium, Faecalibacterium\"],[\"Faecalibacterium\",\"Clostridium, Roseburia\"],[\"Parabacteroides, Roseburia\",\"Eubacterium\"],[\"Eubacterium, Parabacteroides\",\"Roseburia\"],[\"Eubacterium, Roseburia\",\"Parabacteroides\"],[\"Parabacteroides\",\"Eubacterium, Roseburia\"],[\"Roseburia\",\"Eubacterium, Parabacteroides\"],[\"Eubacterium\",\"Parabacteroides, Roseburia\"],[\"Roseburia, Ruminococcus\",\"Eubacterium\"],[\"Eubacterium, Ruminococcus\",\"Roseburia\"],[\"Eubacterium, Roseburia\",\"Ruminococcus\"],[\"Ruminococcus\",\"Eubacterium, Roseburia\"],[\"Roseburia\",\"Eubacterium, Ruminococcus\"],[\"Eubacterium\",\"Roseburia, Ruminococcus\"],[\"Eubacterium, Roseburia\",\"Faecalibacterium\"],[\"Eubacterium, Faecalibacterium\",\"Roseburia\"],[\"Faecalibacterium, Roseburia\",\"Eubacterium\"],[\"Eubacterium\",\"Faecalibacterium, Roseburia\"],[\"Roseburia\",\"Eubacterium, Faecalibacterium\"],[\"Faecalibacterium\",\"Eubacterium, Roseburia\"],[\"Oscillibacter, Roseburia\",\"Eubacterium\"],[\"Eubacterium, Oscillibacter\",\"Roseburia\"],[\"Eubacterium, Roseburia\",\"Oscillibacter\"],[\"Oscillibacter\",\"Eubacterium, Roseburia\"],[\"Roseburia\",\"Eubacterium, Oscillibacter\"],[\"Eubacterium\",\"Oscillibacter, Roseburia\"],[\"Parabacteroides, Roseburia\",\"Ruminococcus\"],[\"Parabacteroides, Ruminococcus\",\"Roseburia\"],[\"Roseburia, Ruminococcus\",\"Parabacteroides\"],[\"Parabacteroides\",\"Roseburia, Ruminococcus\"],[\"Roseburia\",\"Parabacteroides, Ruminococcus\"],[\"Ruminococcus\",\"Parabacteroides, Roseburia\"],[\"Parabacteroides, Roseburia\",\"Faecalibacterium\"],[\"Faecalibacterium, Parabacteroides\",\"Roseburia\"],[\"Faecalibacterium, Roseburia\",\"Parabacteroides\"],[\"Parabacteroides\",\"Faecalibacterium, Roseburia\"],[\"Roseburia\",\"Faecalibacterium, Parabacteroides\"],[\"Faecalibacterium\",\"Parabacteroides, Roseburia\"],[\"Oscillibacter, Parabacteroides\",\"Roseburia\"],[\"Oscillibacter, Roseburia\",\"Parabacteroides\"],[\"Parabacteroides, Roseburia\",\"Oscillibacter\"],[\"Oscillibacter\",\"Parabacteroides, Roseburia\"],[\"Parabacteroides\",\"Oscillibacter, Roseburia\"],[\"Roseburia\",\"Oscillibacter, Parabacteroides\"],[\"Roseburia, Ruminococcus\",\"Faecalibacterium\"],[\"Faecalibacterium, Ruminococcus\",\"Roseburia\"],[\"Faecalibacterium, Roseburia\",\"Ruminococcus\"],[\"Ruminococcus\",\"Faecalibacterium, Roseburia\"],[\"Roseburia\",\"Faecalibacterium, Ruminococcus\"],[\"Faecalibacterium\",\"Roseburia, Ruminococcus\"],[\"Oscillibacter, Ruminococcus\",\"Roseburia\"],[\"Oscillibacter, Roseburia\",\"Ruminococcus\"],[\"Roseburia, Ruminococcus\",\"Oscillibacter\"],[\"Oscillibacter\",\"Roseburia, Ruminococcus\"],[\"Ruminococcus\",\"Oscillibacter, Roseburia\"],[\"Roseburia\",\"Oscillibacter, Ruminococcus\"],[\"Oscillibacter, Roseburia\",\"Faecalibacterium\"],[\"Faecalibacterium, Oscillibacter\",\"Roseburia\"],[\"Faecalibacterium, Roseburia\",\"Oscillibacter\"],[\"Oscillibacter\",\"Faecalibacterium, Roseburia\"],[\"Roseburia\",\"Faecalibacterium, Oscillibacter\"],[\"Faecalibacterium\",\"Oscillibacter, Roseburia\"],[\"Clostridium, Eubacterium\",\"Bacteroides\"],[\"Bacteroides, Clostridium\",\"Eubacterium\"],[\"Bacteroides, Eubacterium\",\"Clostridium\"],[\"Clostridium\",\"Bacteroides, Eubacterium\"],[\"Eubacterium\",\"Bacteroides, Clostridium\"],[\"Bacteroides\",\"Clostridium, Eubacterium\"],[\"Clostridium, Parabacteroides\",\"Bacteroides\"],[\"Bacteroides, Clostridium\",\"Parabacteroides\"],[\"Bacteroides, Parabacteroides\",\"Clostridium\"],[\"Clostridium\",\"Bacteroides, Parabacteroides\"],[\"Parabacteroides\",\"Bacteroides, Clostridium\"],[\"Bacteroides\",\"Clostridium, Parabacteroides\"],[\"Clostridium, Ruminococcus\",\"Bacteroides\"],[\"Bacteroides, Clostridium\",\"Ruminococcus\"],[\"Bacteroides, Ruminococcus\",\"Clostridium\"],[\"Clostridium\",\"Bacteroides, Ruminococcus\"],[\"Ruminococcus\",\"Bacteroides, Clostridium\"],[\"Bacteroides\",\"Clostridium, Ruminococcus\"],[\"Bacteroides, Clostridium\",\"Faecalibacterium\"],[\"Clostridium, Faecalibacterium\",\"Bacteroides\"],[\"Bacteroides, Faecalibacterium\",\"Clostridium\"],[\"Clostridium\",\"Bacteroides, Faecalibacterium\"],[\"Bacteroides\",\"Clostridium, Faecalibacterium\"],[\"Faecalibacterium\",\"Bacteroides, Clostridium\"],[\"Eubacterium, Parabacteroides\",\"Bacteroides\"],[\"Bacteroides, Eubacterium\",\"Parabacteroides\"],[\"Bacteroides, Parabacteroides\",\"Eubacterium\"],[\"Eubacterium\",\"Bacteroides, Parabacteroides\"],[\"Parabacteroides\",\"Bacteroides, Eubacterium\"],[\"Bacteroides\",\"Eubacterium, Parabacteroides\"],[\"Eubacterium, Ruminococcus\",\"Bacteroides\"],[\"Bacteroides, Eubacterium\",\"Ruminococcus\"],[\"Bacteroides, Ruminococcus\",\"Eubacterium\"],[\"Eubacterium\",\"Bacteroides, Ruminococcus\"],[\"Ruminococcus\",\"Bacteroides, Eubacterium\"],[\"Bacteroides\",\"Eubacterium, Ruminococcus\"],[\"Bacteroides, Eubacterium\",\"Faecalibacterium\"],[\"Bacteroides, Faecalibacterium\",\"Eubacterium\"],[\"Eubacterium, Faecalibacterium\",\"Bacteroides\"],[\"Bacteroides\",\"Eubacterium, Faecalibacterium\"],[\"Eubacterium\",\"Bacteroides, Faecalibacterium\"],[\"Faecalibacterium\",\"Bacteroides, Eubacterium\"],[\"Eubacterium, Oscillibacter\",\"Bacteroides\"],[\"Bacteroides, Oscillibacter\",\"Eubacterium\"],[\"Bacteroides, Eubacterium\",\"Oscillibacter\"],[\"Oscillibacter\",\"Bacteroides, Eubacterium\"],[\"Eubacterium\",\"Bacteroides, Oscillibacter\"],[\"Bacteroides\",\"Eubacterium, Oscillibacter\"],[\"Parabacteroides, Ruminococcus\",\"Bacteroides\"],[\"Bacteroides, Parabacteroides\",\"Ruminococcus\"],[\"Bacteroides, Ruminococcus\",\"Parabacteroides\"],[\"Parabacteroides\",\"Bacteroides, Ruminococcus\"],[\"Ruminococcus\",\"Bacteroides, Parabacteroides\"],[\"Bacteroides\",\"Parabacteroides, Ruminococcus\"],[\"Bacteroides, Parabacteroides\",\"Faecalibacterium\"],[\"Bacteroides, Faecalibacterium\",\"Parabacteroides\"],[\"Faecalibacterium, Parabacteroides\",\"Bacteroides\"],[\"Bacteroides\",\"Faecalibacterium, Parabacteroides\"],[\"Parabacteroides\",\"Bacteroides, Faecalibacterium\"],[\"Faecalibacterium\",\"Bacteroides, Parabacteroides\"],[\"Oscillibacter, Parabacteroides\",\"Bacteroides\"],[\"Bacteroides, Oscillibacter\",\"Parabacteroides\"],[\"Bacteroides, Parabacteroides\",\"Oscillibacter\"],[\"Oscillibacter\",\"Bacteroides, Parabacteroides\"],[\"Parabacteroides\",\"Bacteroides, Oscillibacter\"],[\"Bacteroides\",\"Oscillibacter, Parabacteroides\"],[\"Dorea, Ruminococcus\",\"Bacteroides\"],[\"Bacteroides, Ruminococcus\",\"Dorea\"],[\"Bacteroides, Dorea\",\"Ruminococcus\"],[\"Ruminococcus\",\"Bacteroides, Dorea\"],[\"Dorea\",\"Bacteroides, Ruminococcus\"],[\"Bacteroides\",\"Dorea, Ruminococcus\"],[\"Bacteroides, Dorea\",\"Faecalibacterium\"],[\"Bacteroides, Faecalibacterium\",\"Dorea\"],[\"Dorea, Faecalibacterium\",\"Bacteroides\"],[\"Bacteroides\",\"Dorea, Faecalibacterium\"],[\"Dorea\",\"Bacteroides, Faecalibacterium\"],[\"Faecalibacterium\",\"Bacteroides, Dorea\"],[\"Bacteroides, Ruminococcus\",\"Faecalibacterium\"],[\"Bacteroides, Faecalibacterium\",\"Ruminococcus\"],[\"Faecalibacterium, Ruminococcus\",\"Bacteroides\"],[\"Bacteroides\",\"Faecalibacterium, Ruminococcus\"],[\"Ruminococcus\",\"Bacteroides, Faecalibacterium\"],[\"Faecalibacterium\",\"Bacteroides, Ruminococcus\"],[\"Oscillibacter, Ruminococcus\",\"Bacteroides\"],[\"Bacteroides, Oscillibacter\",\"Ruminococcus\"],[\"Bacteroides, Ruminococcus\",\"Oscillibacter\"],[\"Oscillibacter\",\"Bacteroides, Ruminococcus\"],[\"Ruminococcus\",\"Bacteroides, Oscillibacter\"],[\"Bacteroides\",\"Oscillibacter, Ruminococcus\"],[\"Bacteroides, Oscillibacter\",\"Faecalibacterium\"],[\"Faecalibacterium, Oscillibacter\",\"Bacteroides\"],[\"Bacteroides, Faecalibacterium\",\"Oscillibacter\"],[\"Oscillibacter\",\"Bacteroides, Faecalibacterium\"],[\"Bacteroides\",\"Faecalibacterium, Oscillibacter\"],[\"Faecalibacterium\",\"Bacteroides, Oscillibacter\"],[\"Clostridium, Parabacteroides\",\"Ruminococcus\"],[\"Clostridium, Ruminococcus\",\"Parabacteroides\"],[\"Parabacteroides, Ruminococcus\",\"Clostridium\"],[\"Clostridium\",\"Parabacteroides, Ruminococcus\"],[\"Parabacteroides\",\"Clostridium, Ruminococcus\"],[\"Ruminococcus\",\"Clostridium, Parabacteroides\"],[\"Clostridium, Parabacteroides\",\"Faecalibacterium\"],[\"Clostridium, Faecalibacterium\",\"Parabacteroides\"],[\"Faecalibacterium, Parabacteroides\",\"Clostridium\"],[\"Clostridium\",\"Faecalibacterium, Parabacteroides\"],[\"Parabacteroides\",\"Clostridium, Faecalibacterium\"],[\"Faecalibacterium\",\"Clostridium, Parabacteroides\"],[\"Clostridium, Ruminococcus\",\"Faecalibacterium\"],[\"Clostridium, Faecalibacterium\",\"Ruminococcus\"],[\"Faecalibacterium, Ruminococcus\",\"Clostridium\"],[\"Clostridium\",\"Faecalibacterium, Ruminococcus\"],[\"Ruminococcus\",\"Clostridium, Faecalibacterium\"],[\"Faecalibacterium\",\"Clostridium, Ruminococcus\"],[\"Parabacteroides, Ruminococcus\",\"Eubacterium\"],[\"Eubacterium, Parabacteroides\",\"Ruminococcus\"],[\"Eubacterium, Ruminococcus\",\"Parabacteroides\"],[\"Parabacteroides\",\"Eubacterium, Ruminococcus\"],[\"Ruminococcus\",\"Eubacterium, Parabacteroides\"],[\"Eubacterium\",\"Parabacteroides, Ruminococcus\"],[\"Eubacterium, Parabacteroides\",\"Faecalibacterium\"],[\"Eubacterium, Faecalibacterium\",\"Parabacteroides\"],[\"Faecalibacterium, Parabacteroides\",\"Eubacterium\"],[\"Eubacterium\",\"Faecalibacterium, Parabacteroides\"],[\"Parabacteroides\",\"Eubacterium, Faecalibacterium\"],[\"Faecalibacterium\",\"Eubacterium, Parabacteroides\"],[\"Oscillibacter, Parabacteroides\",\"Eubacterium\"],[\"Eubacterium, Oscillibacter\",\"Parabacteroides\"],[\"Eubacterium, Parabacteroides\",\"Oscillibacter\"],[\"Oscillibacter\",\"Eubacterium, Parabacteroides\"],[\"Parabacteroides\",\"Eubacterium, Oscillibacter\"],[\"Eubacterium\",\"Oscillibacter, Parabacteroides\"],[\"Eubacterium, Ruminococcus\",\"Faecalibacterium\"],[\"Eubacterium, Faecalibacterium\",\"Ruminococcus\"],[\"Faecalibacterium, Ruminococcus\",\"Eubacterium\"],[\"Eubacterium\",\"Faecalibacterium, Ruminococcus\"],[\"Ruminococcus\",\"Eubacterium, Faecalibacterium\"],[\"Faecalibacterium\",\"Eubacterium, Ruminococcus\"],[\"Oscillibacter, Ruminococcus\",\"Eubacterium\"],[\"Eubacterium, Oscillibacter\",\"Ruminococcus\"],[\"Eubacterium, Ruminococcus\",\"Oscillibacter\"],[\"Oscillibacter\",\"Eubacterium, Ruminococcus\"],[\"Ruminococcus\",\"Eubacterium, Oscillibacter\"],[\"Eubacterium\",\"Oscillibacter, Ruminococcus\"],[\"Eubacterium, Oscillibacter\",\"Faecalibacterium\"],[\"Faecalibacterium, Oscillibacter\",\"Eubacterium\"],[\"Eubacterium, Faecalibacterium\",\"Oscillibacter\"],[\"Oscillibacter\",\"Eubacterium, Faecalibacterium\"],[\"Eubacterium\",\"Faecalibacterium, Oscillibacter\"],[\"Faecalibacterium\",\"Eubacterium, Oscillibacter\"],[\"Parabacteroides, Ruminococcus\",\"Faecalibacterium\"],[\"Faecalibacterium, Parabacteroides\",\"Ruminococcus\"],[\"Faecalibacterium, Ruminococcus\",\"Parabacteroides\"],[\"Parabacteroides\",\"Faecalibacterium, Ruminococcus\"],[\"Ruminococcus\",\"Faecalibacterium, Parabacteroides\"],[\"Faecalibacterium\",\"Parabacteroides, Ruminococcus\"],[\"Oscillibacter, Parabacteroides\",\"Ruminococcus\"],[\"Oscillibacter, Ruminococcus\",\"Parabacteroides\"],[\"Parabacteroides, Ruminococcus\",\"Oscillibacter\"],[\"Oscillibacter\",\"Parabacteroides, Ruminococcus\"],[\"Parabacteroides\",\"Oscillibacter, Ruminococcus\"],[\"Ruminococcus\",\"Oscillibacter, Parabacteroides\"],[\"Oscillibacter, Parabacteroides\",\"Faecalibacterium\"],[\"Faecalibacterium, Oscillibacter\",\"Parabacteroides\"],[\"Faecalibacterium, Parabacteroides\",\"Oscillibacter\"],[\"Oscillibacter\",\"Faecalibacterium, Parabacteroides\"],[\"Parabacteroides\",\"Faecalibacterium, Oscillibacter\"],[\"Faecalibacterium\",\"Oscillibacter, Parabacteroides\"],[\"Dorea, Ruminococcus\",\"Faecalibacterium\"],[\"Faecalibacterium, Ruminococcus\",\"Dorea\"],[\"Dorea, Faecalibacterium\",\"Ruminococcus\"],[\"Ruminococcus\",\"Dorea, Faecalibacterium\"],[\"Dorea\",\"Faecalibacterium, Ruminococcus\"],[\"Faecalibacterium\",\"Dorea, Ruminococcus\"],[\"Oscillibacter, Ruminococcus\",\"Faecalibacterium\"],[\"Faecalibacterium, Oscillibacter\",\"Ruminococcus\"],[\"Faecalibacterium, Ruminococcus\",\"Oscillibacter\"],[\"Oscillibacter\",\"Faecalibacterium, Ruminococcus\"],[\"Ruminococcus\",\"Faecalibacterium, Oscillibacter\"],[\"Faecalibacterium\",\"Oscillibacter, Ruminococcus\"]],\"hovertemplate\":\"support=%{x}\\u003cbr\\u003econfidence=%{y}\\u003cbr\\u003elift=%{marker.color}\\u003cbr\\u003eantecedents=%{customdata[0]}\\u003cbr\\u003econsequents=%{customdata[1]}\\u003cextra\\u003e\\u003c\\u002fextra\\u003e\",\"legendgroup\":\"\",\"marker\":{\"color\":[1.0666725240932429,1.0666725240932429,1.116442235661691,1.116442235661691,1.0809080021305355,1.0809080021305353,1.0453411918430893,1.0453411918430893,1.0637499731394875,1.0637499731394875,1.10796974477611,1.10796974477611,1.1148478041041727,1.1148478041041727,1.0794113633110647,1.0794113633110647,1.069403215150848,1.069403215150848,1.0744241839856283,1.0744241839856283,1.110047350663914,1.110047350663914,1.0876350771662955,1.0876350771662955,1.0668833147151418,1.0668833147151415,1.084443191393247,1.084443191393247,1.1249585120298846,1.1249585120298844,1.1432074267405634,1.1432074267405634,1.0881789626905694,1.0881789626905694,1.098064585691951,1.098064585691951,1.1403908144730568,1.1403908144730568,1.0503560611060996,1.0503560611060996,1.062556786986245,1.0625567869862447,1.1400203314219166,1.1400203314219164,1.0839075722870206,1.0839075722870204,1.0777708067077185,1.0777708067077185,1.078534507035856,1.078534507035856,1.1401466768577841,1.1401466768577841,1.0511930152121933,1.0511930152121933,1.0533116140436003,1.0533116140436005,1.0653460967061075,1.0653460967061077,1.0616386111529588,1.0616386111529588,1.0474446581570205,1.0474446581570205,1.0589119943125112,1.0589119943125112,1.0601624844630988,1.0601624844630988,1.0689841051507099,1.0689841051507099,1.0781656620653557,1.0781656620653557,1.0770915550063715,1.0770915550063715,1.0753693287320092,1.0753693287320092,1.1193134639316227,1.1193134639316227,1.0729249352890422,1.0729249352890424,1.081513372952353,1.081513372952353,1.1815053430778946,1.1815053430778946,1.083512834183868,1.0835128341838678,1.0956983676070347,1.0956983676070347,1.135591947368008,1.135591947368008,1.0978989239207804,1.0978989239207806,1.0897197913904357,1.0897197913904357,1.0765663129015957,1.0765663129015957,1.0777251416690448,1.0777251416690448,1.0934835343132099,1.0934835343132099,1.091540477389205,1.1274242474749157,1.1204510745154161,1.1204510745154164,1.1274242474749157,1.091540477389205,1.0676575158827302,1.140276450650042,1.1172524000634325,1.1172524000634325,1.140276450650042,1.0676575158827302,1.1422473040929155,1.1204510745154161,1.0883371304269478,1.0883371304269478,1.1204510745154164,1.1422473040929155,1.128140769210657,1.13676750512096,1.1196004021925983,1.1196004021925983,1.13676750512096,1.128140769210657,1.146456652873388,1.1180164264683092,1.144819356640516,1.144819356640516,1.1180164264683092,1.146456652873388,1.0913019390581717,1.1393042019722954,1.119646325096708,1.119646325096708,1.1393042019722952,1.0913019390581717,1.0996558611893243,1.1426606608671732,1.1180601433849617,1.1180601433849617,1.1426606608671732,1.0996558611893243,1.15015956974257,1.119556179364203,1.1435715547583132,1.1435715547583132,1.119556179364203,1.15015956974257,1.0529421013923055,1.0887675259102616,1.0835692631473455,1.0835692631473457,1.0887675259102618,1.0529421013923055,1.178088986473419,1.1493146078264893,1.1170027214450517,1.1170027214450517,1.1493146078264893,1.178088986473419,1.0893573813264956,1.123562488262392,1.1204531783960288,1.1204531783960288,1.1235624882623922,1.0893573813264954,1.093545279852898,1.0819059863398954,1.0850552185209303,1.0850552185209301,1.0819059863398954,1.093545279852898,1.0835171048911507,1.0900557960056318,1.085901565023565,1.085901565023565,1.0900557960056316,1.0835171048911507,1.1508185734470595,1.1204375142945553,1.1818425860774238,1.1818425860774235,1.1204375142945553,1.1508185734470595,1.0634805867525883,1.076184325068097,1.0822088083966388,1.0822088083966388,1.076184325068097,1.063480586752588,1.0587694111633918,1.1222024764901273,1.113710756269035,1.113710756269035,1.1222024764901273,1.058769411163392,1.06843853820598,1.1394809344870873,1.118083937062385,1.118083937062385,1.1394809344870873,1.06843853820598,1.0613627862973312,1.0857936001800654,1.083613121961885,1.083613121961885,1.0857936001800654,1.0613627862973314,1.095805871603765,1.0661441104217153,1.0817622446468127,1.0817622446468127,1.0661441104217153,1.095805871603765,1.06843853820598,1.1187128256886127,1.1345744125816484,1.1345744125816484,1.1187128256886127,1.06843853820598,1.1222229522027933,1.1167281435807093,1.0774343260640789,1.0774343260640789,1.1167281435807093,1.1222229522027936,1.135635163403521,1.1204510745154161,1.0835845665386206,1.0835845665386206,1.1204510745154164,1.1356351634035209,1.0917670045182564,1.078243642643734,1.0859955396403533,1.0859955396403533,1.078243642643734,1.0917670045182564,1.0934980696946839,1.0816828332247166,1.082634363227774,1.082634363227774,1.0816828332247166,1.0934980696946839,1.124086451167846,1.1310645598548894,1.1196017488308179,1.1196017488308179,1.1310645598548894,1.124086451167846,1.1232682925224453,1.0841692466460269,1.1195813276321138,1.119581327632114,1.0841692466460269,1.123268292522445,1.092068102961349,1.1261645403659322,1.1187826684132212,1.1187826684132212,1.1261645403659322,1.092068102961349,1.1888359466286043,1.116934595903986,1.191065188513587,1.191065188513587,1.116934595903986,1.1888359466286043,1.0881789626905694,1.1344214322909179,1.1196488760945034,1.1196488760945034,1.134421432290918,1.0881789626905694,1.0988672644826616,1.140210519336971,1.1180720835479223,1.1180720835479223,1.140210519336971,1.0988672644826616,1.145322489689706,1.1195590090987582,1.1403908144730568,1.1403908144730568,1.119559009098758,1.145322489689706,1.0923306594960587,1.0872260106242702,1.085062671266871,1.085062671266871,1.0872260106242702,1.092330659496059,1.086921999835269,1.1195200331198867,1.128231960781296,1.1282319607812963,1.1195200331198867,1.086921999835269,1.102880658436214,1.119586820083682,1.1394473162863654,1.1394473162863654,1.119586820083682,1.102880658436214,1.0675925852857853,1.0883581436358838,1.1054833564312423,1.1054833564312423,1.0883581436358838,1.0675925852857853,1.1925194076979446,1.1529544637815081,1.1377217600988867,1.1377217600988867,1.1529544637815081,1.1925194076979444,1.0903180443136293,1.1460274791946679,1.1499686113813061,1.1499686113813061,1.1460274791946679,1.0903180443136293,1.0980439221569365,1.097495106001916,1.108093741799611,1.108093741799611,1.097495106001916,1.0980439221569365,1.102880658436214,1.0924054064521125,1.1121866590436384,1.1121866590436384,1.0924054064521125,1.102880658436214,1.1512439591909789,1.1514904730479227,1.2070850451968773,1.2070850451968773,1.1514904730479225,1.1512439591909789,1.06843853820598,1.1022342057188632,1.0860240123719545,1.0860240123719545,1.1022342057188632,1.06843853820598,1.0676102912771384,1.1402297940039674,1.125725061154971,1.1257250611549712,1.1402297940039676,1.0676102912771384,1.06843853820598,1.144873909869923,1.1465258808094765,1.1465258808094765,1.144873909869923,1.0684385382059802,1.0676321694979,1.0889427650759553,1.1091515505778133,1.1091515505778133,1.0889427650759553,1.0676321694979,1.098861414054158,1.1071334673093487,1.0676575158827302,1.0676575158827302,1.1071334673093487,1.098861414054158,1.06843853820598,1.1492931627515348,1.1420531917536296,1.1420531917536296,1.1492931627515348,1.0684385382059802,1.0862443955327301,1.1451062352403314,1.1517735204527932,1.1517735204527932,1.1451062352403314,1.0862443955327301,1.0971504771429763,1.104639024734081,1.0933839062002522,1.0933839062002522,1.104639024734081,1.0971504771429763,1.099387766406329,1.1086642943277443,1.0857499581676129,1.0857499581676127,1.1086642943277443,1.099387766406329,1.1272064911409174,1.1454918722444722,1.1512689462486343,1.1512689462486343,1.1454918722444722,1.1272064911409174,1.1285797036245537,1.0916817625458997,1.144624988022067,1.1446249880220667,1.0916817625458997,1.1285797036245537,1.1020257121893642,1.1462948460997333,1.129016654901038,1.129016654901038,1.1462948460997333,1.1020257121893642,1.1924967836250382,1.1509997701677777,1.2088555833768664,1.2088555833768664,1.1509997701677777,1.1924967836250382,1.089135282651072,1.1442121071457827,1.1491396359783206,1.1491396359783206,1.1442121071457827,1.089135282651072,1.0996128638926992,1.144819356640516,1.1472916540772287,1.1472916540772287,1.144819356640516,1.0996128638926992,1.1487326263864954,1.1459024012393493,1.1535870243293824,1.1535870243293824,1.145902401239349,1.1487326263864954,1.0995512073918783,1.0896522006771314,1.1114117894512132,1.1114117894512132,1.0896522006771314,1.0995512073918783,1.0880562296042173,1.1513226164040558,1.1402621925375969,1.1402621925375969,1.151322616404056,1.088056229604217,1.102880658436214,1.1501910480349344,1.1453925285716227,1.1453925285716227,1.1501910480349347,1.1028806584362139,1.0649469089961567,1.0764593652722014,1.0773171192464668,1.0773171192464668,1.0764593652722014,1.0649469089961567,1.0610016110258922,1.1483433697246375,1.1515746450467172,1.1515746450467175,1.1483433697246375,1.061001611025892,1.06843853820598,1.087053893251569,1.1025676577380694,1.1025676577380696,1.087053893251569,1.0684385382059802,1.0643228273500247,1.0951376412084552,1.092102111566341,1.092102111566341,1.0951376412084552,1.064322827350025,1.0954510731623173,1.0865999068111858,1.0668306547775286,1.0668306547775286,1.0865999068111858,1.0954510731623173,1.06843853820598,1.1490471193000775,1.159774950486324,1.159774950486324,1.1490471193000775,1.06843853820598,1.0965733344092095,1.0835081564754325,1.080328381988344,1.080328381988344,1.0835081564754325,1.0965733344092095,1.1896935323242526,1.1520613929342725,1.1311358164803693,1.1311358164803693,1.1520613929342722,1.1896935323242526,1.151132431184971,1.1563315271924544,1.088276142793178,1.088276142793178,1.1563315271924544,1.151132431184971,1.0917921444689513,1.1508551567731502,1.154033769213431,1.154033769213431,1.1508551567731502,1.0917921444689513,1.1933956613203887,1.1516207737887767,1.1935279222027926,1.1935279222027926,1.1516207737887767,1.1933956613203887,1.096333250187079,1.096732658937902,1.1025757092621622,1.1025757092621622,1.096732658937902,1.096333250187079,1.1020095046775755,1.0901507952968716,1.1074995181517937,1.1074995181517937,1.0901507952968716,1.1020095046775755,1.150355653666912,1.1457601407159577,1.2052084977661608,1.2052084977661608,1.1457601407159577,1.150355653666912,1.0960832429758984,1.0973095728929114,1.0953071165498396,1.0953071165498396,1.0973095728929114,1.0960832429758984,1.1592322249256557,1.0957657810120156,1.1591831083750368,1.1591831083750368,1.0957657810120156,1.1592322249256555,1.102880658436214,1.1499448123620308,1.1658836221593143,1.1658836221593143,1.1499448123620308,1.102880658436214,1.0640452876376991,1.0820538979852437,1.0798774878011856,1.0798774878011856,1.0820538979852437,1.064045287637699,1.06843853820598,1.095853689332647,1.0812953156562564,1.0812953156562564,1.095853689332647,1.06843853820598,1.061047341554286,1.0871886651752423,1.0910792490563839,1.0910792490563839,1.0871886651752423,1.061047341554286,1.09218904877203,1.0676345964917544,1.0842274953225002,1.0842274953225002,1.0676345964917544,1.09218904877203,1.06843853820598,1.1353882604657881,1.1225625596179263,1.1225625596179263,1.1353882604657881,1.06843853820598,1.0634145325404347,1.0832159764490592,1.0892832949464843,1.0892832949464843,1.0832159764490594,1.0634145325404347,1.0945444478660233,1.0887556144575827,1.0660028880428964,1.0660028880428964,1.088755614457583,1.0945444478660233,1.0659206154922192,1.187922531647337,1.1956489283035703,1.1956489283035703,1.187922531647337,1.0659206154922192,1.06843853820598,1.0866580093193798,1.1052296268518338,1.1052296268518338,1.0866580093193798,1.0684385382059802,1.0988789143925413,1.1055558615716654,1.06843853820598,1.0684385382059802,1.1055558615716654,1.0988789143925413,1.06843853820598,1.1444568337643235,1.1388882955461446,1.1388882955461443,1.1444568337643235,1.06843853820598,1.0631968119351414,1.114409841750905,1.0995103451181998,1.0995103451181998,1.114409841750905,1.0631968119351414,1.0940505490812404,1.0968676449942605,1.0658577687900237,1.0658577687900237,1.0968676449942605,1.0940505490812404,1.0957754859767108,1.0839089419049355,1.066134213536952,1.066134213536952,1.0839089419049355,1.0957754859767108,1.066705466773367,1.084376515058137,1.0975427592711393,1.0975427592711393,1.0843765150581373,1.066705466773367,1.10201970554126,1.06843853820598,1.1033211024419791,1.1033211024419793,1.06843853820598,1.10201970554126,1.094470142101096,1.0955615795931215,1.089068895301103,1.0890688953011027,1.0955615795931217,1.094470142101096,1.099387766406329,1.1022465560103623,1.0817960253265073,1.081796025326507,1.1022465560103623,1.099387766406329,1.0901648937347972,1.0919108154132509,1.0906967704027517,1.0906967704027515,1.0919108154132509,1.0901648937347972,1.1250728591210637,1.0890880182640954,1.1361753671250154,1.1361753671250154,1.0890880182640954,1.1250728591210635,1.1011720904138496,1.1396592753553065,1.124905159435266,1.1249051594352661,1.1396592753553065,1.1011720904138496,1.1887020083741395,1.142508949653439,1.2059896284891949,1.2059896284891949,1.142508949653439,1.1887020083741395,1.095966046157617,1.0872628379459286,1.0922590508924201,1.09225905089242,1.0872628379459288,1.095966046157617,1.1923809109402026,1.087645429362881,1.197715556699504,1.197715556699504,1.087645429362881,1.1923809109402026,1.1002815681178255,1.1888505961251863,1.2020087630285894,1.2020087630285892,1.1888505961251865,1.1002815681178255,1.0995562254040023,1.0873277877870204,1.106651088608701,1.106651088608701,1.0873277877870204,1.0995562254040023,1.086329156223893,1.1446579413452769,1.1385436361057393,1.1385436361057393,1.144657941345277,1.086329156223893,1.102880658436214,1.1453509406657019,1.143035740176684,1.143035740176684,1.1453509406657019,1.102880658436214,1.0956663941128373,1.1173774812166175,1.1038901601830664,1.1038901601830664,1.1173774812166175,1.0956663941128373,1.1010917198175016,1.0852236842105265,1.1022769480242858,1.1022769480242858,1.0852236842105263,1.1010917198175016],\"coloraxis\":\"coloraxis\",\"size\":[1.0666725240932429,1.0666725240932429,1.116442235661691,1.116442235661691,1.0809080021305355,1.0809080021305353,1.0453411918430893,1.0453411918430893,1.0637499731394875,1.0637499731394875,1.10796974477611,1.10796974477611,1.1148478041041727,1.1148478041041727,1.0794113633110647,1.0794113633110647,1.069403215150848,1.069403215150848,1.0744241839856283,1.0744241839856283,1.110047350663914,1.110047350663914,1.0876350771662955,1.0876350771662955,1.0668833147151418,1.0668833147151415,1.084443191393247,1.084443191393247,1.1249585120298846,1.1249585120298844,1.1432074267405634,1.1432074267405634,1.0881789626905694,1.0881789626905694,1.098064585691951,1.098064585691951,1.1403908144730568,1.1403908144730568,1.0503560611060996,1.0503560611060996,1.062556786986245,1.0625567869862447,1.1400203314219166,1.1400203314219164,1.0839075722870206,1.0839075722870204,1.0777708067077185,1.0777708067077185,1.078534507035856,1.078534507035856,1.1401466768577841,1.1401466768577841,1.0511930152121933,1.0511930152121933,1.0533116140436003,1.0533116140436005,1.0653460967061075,1.0653460967061077,1.0616386111529588,1.0616386111529588,1.0474446581570205,1.0474446581570205,1.0589119943125112,1.0589119943125112,1.0601624844630988,1.0601624844630988,1.0689841051507099,1.0689841051507099,1.0781656620653557,1.0781656620653557,1.0770915550063715,1.0770915550063715,1.0753693287320092,1.0753693287320092,1.1193134639316227,1.1193134639316227,1.0729249352890422,1.0729249352890424,1.081513372952353,1.081513372952353,1.1815053430778946,1.1815053430778946,1.083512834183868,1.0835128341838678,1.0956983676070347,1.0956983676070347,1.135591947368008,1.135591947368008,1.0978989239207804,1.0978989239207806,1.0897197913904357,1.0897197913904357,1.0765663129015957,1.0765663129015957,1.0777251416690448,1.0777251416690448,1.0934835343132099,1.0934835343132099,1.091540477389205,1.1274242474749157,1.1204510745154161,1.1204510745154164,1.1274242474749157,1.091540477389205,1.0676575158827302,1.140276450650042,1.1172524000634325,1.1172524000634325,1.140276450650042,1.0676575158827302,1.1422473040929155,1.1204510745154161,1.0883371304269478,1.0883371304269478,1.1204510745154164,1.1422473040929155,1.128140769210657,1.13676750512096,1.1196004021925983,1.1196004021925983,1.13676750512096,1.128140769210657,1.146456652873388,1.1180164264683092,1.144819356640516,1.144819356640516,1.1180164264683092,1.146456652873388,1.0913019390581717,1.1393042019722954,1.119646325096708,1.119646325096708,1.1393042019722952,1.0913019390581717,1.0996558611893243,1.1426606608671732,1.1180601433849617,1.1180601433849617,1.1426606608671732,1.0996558611893243,1.15015956974257,1.119556179364203,1.1435715547583132,1.1435715547583132,1.119556179364203,1.15015956974257,1.0529421013923055,1.0887675259102616,1.0835692631473455,1.0835692631473457,1.0887675259102618,1.0529421013923055,1.178088986473419,1.1493146078264893,1.1170027214450517,1.1170027214450517,1.1493146078264893,1.178088986473419,1.0893573813264956,1.123562488262392,1.1204531783960288,1.1204531783960288,1.1235624882623922,1.0893573813264954,1.093545279852898,1.0819059863398954,1.0850552185209303,1.0850552185209301,1.0819059863398954,1.093545279852898,1.0835171048911507,1.0900557960056318,1.085901565023565,1.085901565023565,1.0900557960056316,1.0835171048911507,1.1508185734470595,1.1204375142945553,1.1818425860774238,1.1818425860774235,1.1204375142945553,1.1508185734470595,1.0634805867525883,1.076184325068097,1.0822088083966388,1.0822088083966388,1.076184325068097,1.063480586752588,1.0587694111633918,1.1222024764901273,1.113710756269035,1.113710756269035,1.1222024764901273,1.058769411163392,1.06843853820598,1.1394809344870873,1.118083937062385,1.118083937062385,1.1394809344870873,1.06843853820598,1.0613627862973312,1.0857936001800654,1.083613121961885,1.083613121961885,1.0857936001800654,1.0613627862973314,1.095805871603765,1.0661441104217153,1.0817622446468127,1.0817622446468127,1.0661441104217153,1.095805871603765,1.06843853820598,1.1187128256886127,1.1345744125816484,1.1345744125816484,1.1187128256886127,1.06843853820598,1.1222229522027933,1.1167281435807093,1.0774343260640789,1.0774343260640789,1.1167281435807093,1.1222229522027936,1.135635163403521,1.1204510745154161,1.0835845665386206,1.0835845665386206,1.1204510745154164,1.1356351634035209,1.0917670045182564,1.078243642643734,1.0859955396403533,1.0859955396403533,1.078243642643734,1.0917670045182564,1.0934980696946839,1.0816828332247166,1.082634363227774,1.082634363227774,1.0816828332247166,1.0934980696946839,1.124086451167846,1.1310645598548894,1.1196017488308179,1.1196017488308179,1.1310645598548894,1.124086451167846,1.1232682925224453,1.0841692466460269,1.1195813276321138,1.119581327632114,1.0841692466460269,1.123268292522445,1.092068102961349,1.1261645403659322,1.1187826684132212,1.1187826684132212,1.1261645403659322,1.092068102961349,1.1888359466286043,1.116934595903986,1.191065188513587,1.191065188513587,1.116934595903986,1.1888359466286043,1.0881789626905694,1.1344214322909179,1.1196488760945034,1.1196488760945034,1.134421432290918,1.0881789626905694,1.0988672644826616,1.140210519336971,1.1180720835479223,1.1180720835479223,1.140210519336971,1.0988672644826616,1.145322489689706,1.1195590090987582,1.1403908144730568,1.1403908144730568,1.119559009098758,1.145322489689706,1.0923306594960587,1.0872260106242702,1.085062671266871,1.085062671266871,1.0872260106242702,1.092330659496059,1.086921999835269,1.1195200331198867,1.128231960781296,1.1282319607812963,1.1195200331198867,1.086921999835269,1.102880658436214,1.119586820083682,1.1394473162863654,1.1394473162863654,1.119586820083682,1.102880658436214,1.0675925852857853,1.0883581436358838,1.1054833564312423,1.1054833564312423,1.0883581436358838,1.0675925852857853,1.1925194076979446,1.1529544637815081,1.1377217600988867,1.1377217600988867,1.1529544637815081,1.1925194076979444,1.0903180443136293,1.1460274791946679,1.1499686113813061,1.1499686113813061,1.1460274791946679,1.0903180443136293,1.0980439221569365,1.097495106001916,1.108093741799611,1.108093741799611,1.097495106001916,1.0980439221569365,1.102880658436214,1.0924054064521125,1.1121866590436384,1.1121866590436384,1.0924054064521125,1.102880658436214,1.1512439591909789,1.1514904730479227,1.2070850451968773,1.2070850451968773,1.1514904730479225,1.1512439591909789,1.06843853820598,1.1022342057188632,1.0860240123719545,1.0860240123719545,1.1022342057188632,1.06843853820598,1.0676102912771384,1.1402297940039674,1.125725061154971,1.1257250611549712,1.1402297940039676,1.0676102912771384,1.06843853820598,1.144873909869923,1.1465258808094765,1.1465258808094765,1.144873909869923,1.0684385382059802,1.0676321694979,1.0889427650759553,1.1091515505778133,1.1091515505778133,1.0889427650759553,1.0676321694979,1.098861414054158,1.1071334673093487,1.0676575158827302,1.0676575158827302,1.1071334673093487,1.098861414054158,1.06843853820598,1.1492931627515348,1.1420531917536296,1.1420531917536296,1.1492931627515348,1.0684385382059802,1.0862443955327301,1.1451062352403314,1.1517735204527932,1.1517735204527932,1.1451062352403314,1.0862443955327301,1.0971504771429763,1.104639024734081,1.0933839062002522,1.0933839062002522,1.104639024734081,1.0971504771429763,1.099387766406329,1.1086642943277443,1.0857499581676129,1.0857499581676127,1.1086642943277443,1.099387766406329,1.1272064911409174,1.1454918722444722,1.1512689462486343,1.1512689462486343,1.1454918722444722,1.1272064911409174,1.1285797036245537,1.0916817625458997,1.144624988022067,1.1446249880220667,1.0916817625458997,1.1285797036245537,1.1020257121893642,1.1462948460997333,1.129016654901038,1.129016654901038,1.1462948460997333,1.1020257121893642,1.1924967836250382,1.1509997701677777,1.2088555833768664,1.2088555833768664,1.1509997701677777,1.1924967836250382,1.089135282651072,1.1442121071457827,1.1491396359783206,1.1491396359783206,1.1442121071457827,1.089135282651072,1.0996128638926992,1.144819356640516,1.1472916540772287,1.1472916540772287,1.144819356640516,1.0996128638926992,1.1487326263864954,1.1459024012393493,1.1535870243293824,1.1535870243293824,1.145902401239349,1.1487326263864954,1.0995512073918783,1.0896522006771314,1.1114117894512132,1.1114117894512132,1.0896522006771314,1.0995512073918783,1.0880562296042173,1.1513226164040558,1.1402621925375969,1.1402621925375969,1.151322616404056,1.088056229604217,1.102880658436214,1.1501910480349344,1.1453925285716227,1.1453925285716227,1.1501910480349347,1.1028806584362139,1.0649469089961567,1.0764593652722014,1.0773171192464668,1.0773171192464668,1.0764593652722014,1.0649469089961567,1.0610016110258922,1.1483433697246375,1.1515746450467172,1.1515746450467175,1.1483433697246375,1.061001611025892,1.06843853820598,1.087053893251569,1.1025676577380694,1.1025676577380696,1.087053893251569,1.0684385382059802,1.0643228273500247,1.0951376412084552,1.092102111566341,1.092102111566341,1.0951376412084552,1.064322827350025,1.0954510731623173,1.0865999068111858,1.0668306547775286,1.0668306547775286,1.0865999068111858,1.0954510731623173,1.06843853820598,1.1490471193000775,1.159774950486324,1.159774950486324,1.1490471193000775,1.06843853820598,1.0965733344092095,1.0835081564754325,1.080328381988344,1.080328381988344,1.0835081564754325,1.0965733344092095,1.1896935323242526,1.1520613929342725,1.1311358164803693,1.1311358164803693,1.1520613929342722,1.1896935323242526,1.151132431184971,1.1563315271924544,1.088276142793178,1.088276142793178,1.1563315271924544,1.151132431184971,1.0917921444689513,1.1508551567731502,1.154033769213431,1.154033769213431,1.1508551567731502,1.0917921444689513,1.1933956613203887,1.1516207737887767,1.1935279222027926,1.1935279222027926,1.1516207737887767,1.1933956613203887,1.096333250187079,1.096732658937902,1.1025757092621622,1.1025757092621622,1.096732658937902,1.096333250187079,1.1020095046775755,1.0901507952968716,1.1074995181517937,1.1074995181517937,1.0901507952968716,1.1020095046775755,1.150355653666912,1.1457601407159577,1.2052084977661608,1.2052084977661608,1.1457601407159577,1.150355653666912,1.0960832429758984,1.0973095728929114,1.0953071165498396,1.0953071165498396,1.0973095728929114,1.0960832429758984,1.1592322249256557,1.0957657810120156,1.1591831083750368,1.1591831083750368,1.0957657810120156,1.1592322249256555,1.102880658436214,1.1499448123620308,1.1658836221593143,1.1658836221593143,1.1499448123620308,1.102880658436214,1.0640452876376991,1.0820538979852437,1.0798774878011856,1.0798774878011856,1.0820538979852437,1.064045287637699,1.06843853820598,1.095853689332647,1.0812953156562564,1.0812953156562564,1.095853689332647,1.06843853820598,1.061047341554286,1.0871886651752423,1.0910792490563839,1.0910792490563839,1.0871886651752423,1.061047341554286,1.09218904877203,1.0676345964917544,1.0842274953225002,1.0842274953225002,1.0676345964917544,1.09218904877203,1.06843853820598,1.1353882604657881,1.1225625596179263,1.1225625596179263,1.1353882604657881,1.06843853820598,1.0634145325404347,1.0832159764490592,1.0892832949464843,1.0892832949464843,1.0832159764490594,1.0634145325404347,1.0945444478660233,1.0887556144575827,1.0660028880428964,1.0660028880428964,1.088755614457583,1.0945444478660233,1.0659206154922192,1.187922531647337,1.1956489283035703,1.1956489283035703,1.187922531647337,1.0659206154922192,1.06843853820598,1.0866580093193798,1.1052296268518338,1.1052296268518338,1.0866580093193798,1.0684385382059802,1.0988789143925413,1.1055558615716654,1.06843853820598,1.0684385382059802,1.1055558615716654,1.0988789143925413,1.06843853820598,1.1444568337643235,1.1388882955461446,1.1388882955461443,1.1444568337643235,1.06843853820598,1.0631968119351414,1.114409841750905,1.0995103451181998,1.0995103451181998,1.114409841750905,1.0631968119351414,1.0940505490812404,1.0968676449942605,1.0658577687900237,1.0658577687900237,1.0968676449942605,1.0940505490812404,1.0957754859767108,1.0839089419049355,1.066134213536952,1.066134213536952,1.0839089419049355,1.0957754859767108,1.066705466773367,1.084376515058137,1.0975427592711393,1.0975427592711393,1.0843765150581373,1.066705466773367,1.10201970554126,1.06843853820598,1.1033211024419791,1.1033211024419793,1.06843853820598,1.10201970554126,1.094470142101096,1.0955615795931215,1.089068895301103,1.0890688953011027,1.0955615795931217,1.094470142101096,1.099387766406329,1.1022465560103623,1.0817960253265073,1.081796025326507,1.1022465560103623,1.099387766406329,1.0901648937347972,1.0919108154132509,1.0906967704027517,1.0906967704027515,1.0919108154132509,1.0901648937347972,1.1250728591210637,1.0890880182640954,1.1361753671250154,1.1361753671250154,1.0890880182640954,1.1250728591210635,1.1011720904138496,1.1396592753553065,1.124905159435266,1.1249051594352661,1.1396592753553065,1.1011720904138496,1.1887020083741395,1.142508949653439,1.2059896284891949,1.2059896284891949,1.142508949653439,1.1887020083741395,1.095966046157617,1.0872628379459286,1.0922590508924201,1.09225905089242,1.0872628379459288,1.095966046157617,1.1923809109402026,1.087645429362881,1.197715556699504,1.197715556699504,1.087645429362881,1.1923809109402026,1.1002815681178255,1.1888505961251863,1.2020087630285894,1.2020087630285892,1.1888505961251865,1.1002815681178255,1.0995562254040023,1.0873277877870204,1.106651088608701,1.106651088608701,1.0873277877870204,1.0995562254040023,1.086329156223893,1.1446579413452769,1.1385436361057393,1.1385436361057393,1.144657941345277,1.086329156223893,1.102880658436214,1.1453509406657019,1.143035740176684,1.143035740176684,1.1453509406657019,1.102880658436214,1.0956663941128373,1.1173774812166175,1.1038901601830664,1.1038901601830664,1.1173774812166175,1.0956663941128373,1.1010917198175016,1.0852236842105265,1.1022769480242858,1.1022769480242858,1.0852236842105263,1.1010917198175016],\"sizemode\":\"area\",\"sizeref\":0.003022138958442166,\"symbol\":\"circle\"},\"mode\":\"markers\",\"name\":\"\",\"orientation\":\"v\",\"showlegend\":false,\"x\":[0.7512437810945274,0.7512437810945274,0.8507462686567164,0.8507462686567164,0.8146766169154229,0.8146766169154229,0.8725124378109452,0.8725124378109452,0.8041044776119403,0.8041044776119403,0.8246268656716418,0.8246268656716418,0.8544776119402985,0.8544776119402985,0.7524875621890548,0.7524875621890548,0.8451492537313433,0.8451492537313433,0.8687810945273632,0.8687810945273632,0.7947761194029851,0.7947761194029851,0.7854477611940298,0.7854477611940298,0.8532338308457711,0.8532338308457711,0.7854477611940298,0.7854477611940298,0.8022388059701493,0.8022388059701493,0.8395522388059702,0.8395522388059702,0.8240049751243781,0.8240049751243781,0.8507462686567164,0.8507462686567164,0.7823383084577115,0.7823383084577115,0.8308457711442786,0.8308457711442786,0.7611940298507462,0.7611940298507462,0.8041044776119403,0.8041044776119403,0.7873134328358209,0.7873134328358209,0.8072139303482587,0.8072139303482587,0.8264925373134329,0.8264925373134329,0.7736318407960199,0.7736318407960199,0.8339552238805971,0.8339552238805971,0.8227611940298507,0.8227611940298507,0.8569651741293532,0.8569651741293532,0.7767412935323383,0.7767412935323383,0.8687810945273632,0.8687810945273632,0.8986318407960199,0.8986318407960199,0.7966417910447762,0.7966417910447762,0.7562189054726368,0.7562189054726368,0.7854477611940298,0.7854477611940298,0.8090796019900498,0.8090796019900498,0.8264925373134329,0.8264925373134329,0.802860696517413,0.802860696517413,0.7935323383084577,0.7935323383084577,0.818407960199005,0.818407960199005,0.7916666666666666,0.7916666666666666,0.8252487562189055,0.8252487562189055,0.8538557213930348,0.8538557213930348,0.7835820895522388,0.7835820895522388,0.7605721393034826,0.7605721393034826,0.7723880597014925,0.7723880597014925,0.8650497512437811,0.8650497512437811,0.7667910447761194,0.7667910447761194,0.7960199004975125,0.7960199004975125,0.7848258706467661,0.7848258706467661,0.7848258706467661,0.7848258706467661,0.7848258706467661,0.7848258706467661,0.8501243781094527,0.8501243781094527,0.8501243781094527,0.8501243781094527,0.8501243781094527,0.8501243781094527,0.7848258706467661,0.7848258706467661,0.7848258706467661,0.7848258706467661,0.7848258706467661,0.7848258706467661,0.8009950248756219,0.8009950248756219,0.8009950248756219,0.8009950248756219,0.8009950248756219,0.8009950248756219,0.8370646766169154,0.8370646766169154,0.8370646766169154,0.8370646766169154,0.8370646766169154,0.8370646766169154,0.8227611940298507,0.8227611940298507,0.8227611940298507,0.8227611940298507,0.8227611940298507,0.8227611940298507,0.8482587064676617,0.8482587064676617,0.8482587064676617,0.8482587064676617,0.8482587064676617,0.8482587064676617,0.7810945273631841,0.7810945273631841,0.7810945273631841,0.7810945273631841,0.7810945273631841,0.7810945273631841,0.802860696517413,0.802860696517413,0.802860696517413,0.802860696517413,0.802860696517413,0.802860696517413,0.8009950248756219,0.8009950248756219,0.8009950248756219,0.8009950248756219,0.8009950248756219,0.8009950248756219,0.7866915422885572,0.7866915422885572,0.7866915422885572,0.7866915422885572,0.7866915422885572,0.7866915422885572,0.7810945273631841,0.7810945273631841,0.7810945273631841,0.7810945273631841,0.7810945273631841,0.7810945273631841,0.8003731343283582,0.8003731343283582,0.8003731343283582,0.8003731343283582,0.8003731343283582,0.8003731343283582,0.7730099502487562,0.7730099502487562,0.7730099502487562,0.7730099502487562,0.7730099502487562,0.7730099502487562,0.8003731343283582,0.8003731343283582,0.8003731343283582,0.8003731343283582,0.8003731343283582,0.8003731343283582,0.8171641791044776,0.8171641791044776,0.8171641791044776,0.8171641791044776,0.8171641791044776,0.8171641791044776,0.8544776119402985,0.8544776119402985,0.8544776119402985,0.8544776119402985,0.8544776119402985,0.8544776119402985,0.8395522388059702,0.8395522388059702,0.8395522388059702,0.8395522388059702,0.8395522388059702,0.8395522388059702,0.8669154228855721,0.8669154228855721,0.8669154228855721,0.8669154228855721,0.8669154228855721,0.8669154228855721,0.7947761194029851,0.7947761194029851,0.7947761194029851,0.7947761194029851,0.7947761194029851,0.7947761194029851,0.7531094527363185,0.7531094527363185,0.7531094527363185,0.7531094527363185,0.7531094527363185,0.7531094527363185,0.7848258706467661,0.7848258706467661,0.7848258706467661,0.7848258706467661,0.7848258706467661,0.7848258706467661,0.7779850746268657,0.7779850746268657,0.7779850746268657,0.7779850746268657,0.7779850746268657,0.7779850746268657,0.7972636815920398,0.7972636815920398,0.7972636815920398,0.7972636815920398,0.7972636815920398,0.7972636815920398,0.8016169154228856,0.8016169154228856,0.8016169154228856,0.8016169154228856,0.8016169154228856,0.8016169154228856,0.7922885572139303,0.7922885572139303,0.7922885572139303,0.7922885572139303,0.7922885572139303,0.7922885572139303,0.8165422885572139,0.8165422885572139,0.8165422885572139,0.8165422885572139,0.8165422885572139,0.8165422885572139,0.7885572139303483,0.7885572139303483,0.7885572139303483,0.7885572139303483,0.7885572139303483,0.7885572139303483,0.8240049751243781,0.8240049751243781,0.8240049751243781,0.8240049751243781,0.8240049751243781,0.8240049751243781,0.8513681592039801,0.8513681592039801,0.8513681592039801,0.8513681592039801,0.8513681592039801,0.8513681592039801,0.7823383084577115,0.7823383084577115,0.7823383084577115,0.7823383084577115,0.7823383084577115,0.7823383084577115,0.8370646766169154,0.8370646766169154,0.8370646766169154,0.8370646766169154,0.8370646766169154,0.8370646766169154,0.7655472636815921,0.7655472636815921,0.7655472636815921,0.7655472636815921,0.7655472636815921,0.7655472636815921,0.7947761194029851,0.7947761194029851,0.7947761194029851,0.7947761194029851,0.7947761194029851,0.7947761194029851,0.7848258706467661,0.7848258706467661,0.7848258706467661,0.7848258706467661,0.7848258706467661,0.7848258706467661,0.7817164179104478,0.7817164179104478,0.7817164179104478,0.7817164179104478,0.7817164179104478,0.7817164179104478,0.7736318407960199,0.7736318407960199,0.7736318407960199,0.7736318407960199,0.7736318407960199,0.7736318407960199,0.7643034825870647,0.7643034825870647,0.7643034825870647,0.7643034825870647,0.7643034825870647,0.7643034825870647,0.7854477611940298,0.7854477611940298,0.7854477611940298,0.7854477611940298,0.7854477611940298,0.7854477611940298,0.7611940298507462,0.7611940298507462,0.7611940298507462,0.7611940298507462,0.7611940298507462,0.7611940298507462,0.7854477611940298,0.7854477611940298,0.7854477611940298,0.7854477611940298,0.7854477611940298,0.7854477611940298,0.8016169154228856,0.8016169154228856,0.8016169154228856,0.8016169154228856,0.8016169154228856,0.8016169154228856,0.8395522388059702,0.8395522388059702,0.8395522388059702,0.8395522388059702,0.8395522388059702,0.8395522388059702,0.8233830845771144,0.8233830845771144,0.8233830845771144,0.8233830845771144,0.8233830845771144,0.8233830845771144,0.8501243781094527,0.8501243781094527,0.8501243781094527,0.8501243781094527,0.8501243781094527,0.8501243781094527,0.7823383084577115,0.7823383084577115,0.7823383084577115,0.7823383084577115,0.7823383084577115,0.7823383084577115,0.7730099502487562,0.7730099502487562,0.7730099502487562,0.7730099502487562,0.7730099502487562,0.7730099502487562,0.763681592039801,0.763681592039801,0.763681592039801,0.763681592039801,0.763681592039801,0.763681592039801,0.7829601990049752,0.7829601990049752,0.7829601990049752,0.7829601990049752,0.7829601990049752,0.7829601990049752,0.7898009950248757,0.7898009950248757,0.7898009950248757,0.7898009950248757,0.7898009950248757,0.7898009950248757,0.7761194029850746,0.7761194029850746,0.7761194029850746,0.7761194029850746,0.7761194029850746,0.7761194029850746,0.8016169154228856,0.8016169154228856,0.8016169154228856,0.8016169154228856,0.8016169154228856,0.8016169154228856,0.7786069651741293,0.7786069651741293,0.7786069651741293,0.7786069651741293,0.7786069651741293,0.7786069651741293,0.8103233830845771,0.8103233830845771,0.8103233830845771,0.8103233830845771,0.8103233830845771,0.8103233830845771,0.8370646766169154,0.8370646766169154,0.8370646766169154,0.8370646766169154,0.8370646766169154,0.8370646766169154,0.7723880597014925,0.7723880597014925,0.7723880597014925,0.7723880597014925,0.7723880597014925,0.7723880597014925,0.8215174129353234,0.8215174129353234,0.8215174129353234,0.8215174129353234,0.8215174129353234,0.8215174129353234,0.7543532338308457,0.7543532338308457,0.7543532338308457,0.7543532338308457,0.7543532338308457,0.7543532338308457,0.7823383084577115,0.7823383084577115,0.7823383084577115,0.7823383084577115,0.7823383084577115,0.7823383084577115,0.7587064676616916,0.7587064676616916,0.7587064676616916,0.7587064676616916,0.7587064676616916,0.7587064676616916,0.7985074626865671,0.7985074626865671,0.7985074626865671,0.7985074626865671,0.7985074626865671,0.7985074626865671,0.7873134328358209,0.7873134328358209,0.7873134328358209,0.7873134328358209,0.7873134328358209,0.7873134328358209,0.8041044776119403,0.8041044776119403,0.8041044776119403,0.8041044776119403,0.8041044776119403,0.8041044776119403,0.8252487562189055,0.8252487562189055,0.8252487562189055,0.8252487562189055,0.8252487562189055,0.8252487562189055,0.7736318407960199,0.7736318407960199,0.7736318407960199,0.7736318407960199,0.7736318407960199,0.7736318407960199,0.7568407960199005,0.7568407960199005,0.7568407960199005,0.7568407960199005,0.7568407960199005,0.7568407960199005,0.7817164179104478,0.7817164179104478,0.7817164179104478,0.7817164179104478,0.7817164179104478,0.7817164179104478,0.775497512437811,0.775497512437811,0.775497512437811,0.775497512437811,0.775497512437811,0.775497512437811,0.7960199004975125,0.7960199004975125,0.7960199004975125,0.7960199004975125,0.7960199004975125,0.7960199004975125,0.7705223880597015,0.7705223880597015,0.7705223880597015,0.7705223880597015,0.7705223880597015,0.7705223880597015,0.7649253731343284,0.7649253731343284,0.7649253731343284,0.7649253731343284,0.7649253731343284,0.7649253731343284,0.7866915422885572,0.7866915422885572,0.7866915422885572,0.7866915422885572,0.7866915422885572,0.7866915422885572,0.7618159203980099,0.7618159203980099,0.7618159203980099,0.7618159203980099,0.7618159203980099,0.7618159203980099,0.8022388059701493,0.8022388059701493,0.8022388059701493,0.8022388059701493,0.8022388059701493,0.8022388059701493,0.7512437810945274,0.7512437810945274,0.7512437810945274,0.7512437810945274,0.7512437810945274,0.7512437810945274,0.7736318407960199,0.7736318407960199,0.7736318407960199,0.7736318407960199,0.7736318407960199,0.7736318407960199,0.7531094527363185,0.7531094527363185,0.7531094527363185,0.7531094527363185,0.7531094527363185,0.7531094527363185,0.7854477611940298,0.7854477611940298,0.7854477611940298,0.7854477611940298,0.7854477611940298,0.7854477611940298,0.8034825870646766,0.8034825870646766,0.8034825870646766,0.8034825870646766,0.8034825870646766,0.8034825870646766,0.8258706467661692,0.8258706467661692,0.8258706467661692,0.8258706467661692,0.8258706467661692,0.8258706467661692,0.802860696517413,0.802860696517413,0.802860696517413,0.802860696517413,0.802860696517413,0.802860696517413,0.7898009950248757,0.7898009950248757,0.7898009950248757,0.7898009950248757,0.7898009950248757,0.7898009950248757,0.8165422885572139,0.8165422885572139,0.8165422885572139,0.8165422885572139,0.8165422885572139,0.8165422885572139,0.7898009950248757,0.7898009950248757,0.7898009950248757,0.7898009950248757,0.7898009950248757,0.7898009950248757,0.8252487562189055,0.8252487562189055,0.8252487562189055,0.8252487562189055,0.8252487562189055,0.8252487562189055,0.8538557213930348,0.8538557213930348,0.8538557213930348,0.8538557213930348,0.8538557213930348,0.8538557213930348,0.7835820895522388,0.7835820895522388,0.7835820895522388,0.7835820895522388,0.7835820895522388,0.7835820895522388,0.7568407960199005,0.7568407960199005,0.7568407960199005,0.7568407960199005,0.7568407960199005,0.7568407960199005,0.7705223880597015,0.7705223880597015,0.7705223880597015,0.7705223880597015,0.7705223880597015,0.7705223880597015,0.8631840796019901,0.8631840796019901,0.8631840796019901,0.8631840796019901,0.8631840796019901,0.8631840796019901,0.7655472636815921,0.7655472636815921,0.7655472636815921,0.7655472636815921,0.7655472636815921,0.7655472636815921,0.7960199004975125,0.7960199004975125,0.7960199004975125,0.7960199004975125,0.7960199004975125,0.7960199004975125,0.7618159203980099,0.7618159203980099,0.7618159203980099,0.7618159203980099,0.7618159203980099,0.7618159203980099,0.7829601990049752,0.7829601990049752,0.7829601990049752,0.7829601990049752,0.7829601990049752,0.7829601990049752,0.7997512437810945,0.7997512437810945,0.7997512437810945,0.7997512437810945,0.7997512437810945,0.7997512437810945,0.7748756218905473,0.7748756218905473,0.7748756218905473,0.7748756218905473,0.7748756218905473,0.7748756218905473,0.8016169154228856,0.8016169154228856,0.8016169154228856,0.8016169154228856,0.8016169154228856,0.8016169154228856,0.777363184079602,0.777363184079602,0.777363184079602,0.777363184079602,0.777363184079602,0.777363184079602,0.7885572139303483,0.7885572139303483,0.7885572139303483,0.7885572139303483,0.7885572139303483,0.7885572139303483,0.7630597014925373,0.7630597014925373,0.7630597014925373,0.7630597014925373,0.7630597014925373,0.7630597014925373,0.7898009950248757,0.7898009950248757,0.7898009950248757,0.7898009950248757,0.7898009950248757,0.7898009950248757,0.8227611940298507,0.8227611940298507,0.8227611940298507,0.8227611940298507,0.8227611940298507,0.8227611940298507,0.7543532338308457,0.7543532338308457,0.7543532338308457,0.7543532338308457,0.7543532338308457,0.7543532338308457,0.7835820895522388,0.7835820895522388,0.7835820895522388,0.7835820895522388,0.7835820895522388,0.7835820895522388,0.7555970149253731,0.7555970149253731,0.7555970149253731,0.7555970149253731,0.7555970149253731,0.7555970149253731,0.7655472636815921,0.7655472636815921,0.7655472636815921,0.7655472636815921,0.7655472636815921,0.7655472636815921],\"xaxis\":\"x\",\"y\":[0.9983471074380165,0.8026578073089702,0.9539748953974896,0.9956331877729259,0.9135285913528592,0.963944076526858,0.9783821478382148,0.9322259136212624,0.9486426999266324,0.901673640167364,0.9246861924686193,0.9880774962742176,0.9581589958158996,0.9942112879884226,0.8437935843793585,0.9626093874303898,0.9476987447698746,0.9536842105263158,0.9741980474198048,0.958161865569273,0.9899302865995352,0.891213389121339,0.9192139737991266,0.9293598233995585,0.9985443959243085,0.9116279069767441,0.9266324284666178,0.9192139737991266,0.9388646288209608,0.9612518628912072,0.9825327510917031,0.9768451519536904,0.9643377001455604,0.9298245614035088,0.9956331877729259,0.9382716049382717,0.9744384198295895,0.9155749636098982,0.9830757910228108,0.8877076411960133,0.8980190755685987,0.9006622516556291,0.9514348785871964,0.9634873323397913,0.9160636758321274,0.9315673289183223,0.9108771929824562,0.9551140544518028,0.977924944812362,0.911522633744856,0.9635941130906274,0.9153789551140544,0.983859134262656,0.891029900332226,0.9858420268256334,0.8790697674418605,0.9971056439942113,0.9156146179401994,0.9936356404136834,0.8299003322259136,0.9803508771929825,0.9282392026578073,0.9601328903654485,0.9910836762688614,0.9922540666150271,0.8511627906976745,0.8921496698459281,0.9061102831594635,0.9266324284666178,0.9138929088277858,0.9545121056493031,0.912982456140351,0.9750550256786501,0.911522633744856,0.9341534008683069,0.9619970193740687,0.895438596491228,0.9508196721311476,0.9806259314456036,0.9026063100137174,0.9860573199070487,0.9485842026825634,0.9602026049204053,0.9312280701754386,0.9934876989869754,0.9417009602194787,0.975987606506584,0.9117221418234444,0.8582456140350877,0.9729514717581543,0.9880668257756563,0.8518518518518517,0.9761403508771931,0.9540466392318244,0.9550735863671571,0.8652631578947368,0.9914794732765299,0.8779149519890261,0.9225146198830408,0.9633587786259541,0.9992082343626286,0.8800557880055788,0.9184861717612809,0.9286239882266372,0.9992690058479532,0.9743406985032075,0.9963556851311954,0.9532775453277545,0.9949053857350801,0.9083056478405316,0.9760247486465584,0.9992082343626286,0.9225146198830408,0.925898752751284,0.8800557880055788,0.9184861717612809,0.9415204678362573,0.971342383107089,0.9984496124031007,0.898186889818689,0.9374090247452693,0.9597615499254845,0.9796215429403202,0.9970370370370369,0.9839181286549707,0.9739507959479017,0.9386331938633194,0.9796215429403202,0.9671052631578947,0.9735099337748344,0.9984905660377358,0.9225941422594142,0.962882096069869,0.9284210526315789,0.9970760233918128,0.9763779527559054,0.9970760233918128,0.9511854951185496,0.992721979621543,0.9355281207133058,0.9827856025039123,0.9984101748807631,0.9181286549707602,0.9728892331525948,0.8758716875871688,0.9141193595342068,0.9854961832061069,0.9201710620099787,0.9663173652694611,0.9002789400278941,0.9499632082413539,0.8578073089700997,0.983206106870229,0.971342383107089,0.9961330239752514,0.898186889818689,0.9477557027225901,0.9597615499254845,0.9206695778748181,0.965648854961832,0.9992101105845181,0.8821478382147838,0.9153400868306802,0.930831493745401,0.9242089771891097,0.9587786259541984,0.9676425269645609,0.8758716875871688,0.8814035087719299,0.9242089771891097,0.982442748091603,0.9212598425196851,0.9683972911963883,0.8974895397489541,0.9470198675496688,0.8827160493827161,0.9726134585289514,0.9991961414790996,0.948854961832061,0.96281951975213,0.8668061366806137,0.9146431199411331,0.9953596287703017,0.959731543624161,0.917320028510335,0.9442406456346295,0.8974895397489541,0.8551495016611296,0.9909502262443438,0.9365645046329295,0.9931972789115646,0.9163179916317992,0.9791356184798808,0.8730897009966777,1.0,0.9793300071275838,0.9970972423802612,0.9581589958158996,0.9942112879884226,0.9129568106312292,0.9933774834437086,0.9622238061297221,0.9663564781675018,0.9414225941422595,0.9473684210526316,0.8970099667774087,0.9935851746258019,0.9978525411596277,0.9647058823529412,0.9721059972105998,0.9262458471760797,0.9561042524005486,1.0,0.9976580796252927,0.9109052031361369,0.9899302865995352,0.891213389121339,0.8491694352159469,0.9365815931941223,0.995888157894737,0.9132730015082957,0.8884812912692591,0.8444909344490935,0.9023845007451566,0.9760247486465584,0.9992082343626286,0.9184861717612809,0.925898752751284,0.8800557880055788,0.9131693198263386,0.9675174013921115,0.9615680245964643,0.9205298013245033,0.917828319882612,0.8723849372384939,0.8778947368421054,0.991492652745553,0.9646350639578629,0.9176807444523979,0.9405722670579604,0.8940027894002789,0.8792866941015088,0.938136826783115,0.9720965309200603,0.9984508133230054,0.898884239888424,0.9327062228654125,0.9605067064083459,0.9374540103016924,0.9607843137254902,0.9984326018808777,0.8884239888423989,0.8940350877192983,0.9493293591654247,0.9901960784313725,0.9398711524695776,0.9977203647416413,0.9156206415620641,0.9783904619970194,0.9005486968449931,0.9921752738654147,0.9960722702278084,0.9562594268476622,0.9821843532145623,0.8842398884239889,0.9448584202682564,0.9643377001455604,0.9749816041206769,0.9984928409947249,0.9239888423988842,0.9587554269175109,0.9298245614035088,0.9963609898107715,0.9799570508231926,0.9970866715222142,0.9546722454672246,0.9905933429811867,0.9389574759945131,0.9843505477308294,0.9984126984126984,0.9155749636098982,0.9744384198295895,0.8772663877266388,0.91027496382055,0.9904341427520235,0.9634931997136722,0.9676491732566498,0.9386331938633194,0.9445614035087719,0.9231824417009602,0.9632237871674492,0.9983779399837795,0.905813097866078,0.9535243996901627,0.8584379358437937,0.8638596491228071,1.0,0.9984375,0.9148174659985684,0.9899302865995352,0.891213389121339,0.8765432098765432,0.9992082343626286,0.9198250728862973,0.9446107784431137,0.9184861717612809,0.9286239882266372,0.8385382059800665,0.9952494061757721,0.9744186046511627,0.9721577726218098,0.9148471615720525,0.9249448123620309,0.936661698956781,0.9214814814814815,0.9849564528899446,0.9826224328593997,0.9053857350800583,0.9001447178002895,0.9153789551140544,0.9730799683293746,0.9275471698113208,0.9468412942989214,0.8944687045123727,0.9043414275202355,0.8624561403508773,1.0,0.9232456140350876,0.9503386004514672,0.9192139737991266,0.9293598233995585,0.8662551440329218,0.9729729729729729,0.9839228295819936,0.9691211401425178,0.9481022463206815,0.8908296943231441,0.9006622516556291,1.0,0.9418344519015659,0.9205539358600583,0.9266324284666178,0.9192139737991266,0.839202657807309,0.9992248062015504,0.9743008314436886,0.9395043731778426,0.9605067064083459,0.938136826783115,0.8564784053156147,1.0,0.9839650145772596,0.9796806966618288,0.9825327510917031,0.9768451519536904,0.8970099667774087,0.999245283018868,0.9650145772594753,0.9477451682176091,0.9636098981077147,0.9291228070175439,0.879734219269103,0.9963556851311954,0.9460207612456748,0.9992690058479532,0.9083056478405316,0.9949053857350801,0.9375857338820301,1.0,0.9820452771272443,0.9169096209912537,0.9744384198295895,0.9155749636098982,0.8358803986710964,0.9207407407407406,0.9841646872525732,0.9841646872525732,0.9046579330422125,0.8994211287988423,0.9119589141599413,0.9722882026920032,0.9438893159108378,0.9267924528301887,0.9009537784299341,0.893740902474527,0.8617543859649123,0.9968329374505147,0.9473288186606471,0.9203216374269007,0.9236977256052825,0.9163027656477439,0.8635116598079561,0.9407407407407408,0.9844961240310077,0.9837335398915569,0.9243085880640467,0.9189580318379161,0.9463487332339793,0.9418867924528302,0.9674418604651163,0.9780564263322884,0.9082969432314411,0.8757894736842106,0.9299552906110284,0.9992248062015504,0.979483282674772,0.9422514619883041,0.9605067064083459,0.938136826783115,0.8840877914951989,0.9952305246422892,0.983503534956795,0.9705426356589146,0.9697908597986056,0.9112081513828238,0.9329359165424739,0.9651851851851851,0.9833962264150943,0.9819140919366993,0.9483260553129549,0.942836468885673,0.9143859649122806,0.9970370370370369,0.9839181286549707,0.9803350327749454,0.9796215429403202,0.9739507959479017,0.9231824417009602,0.9872813990461048,0.9199999999999999,0.9857142857142857,0.9039301310043668,0.9620449264136327,0.8986975397973951,0.9969811320754718,0.9656432748538012,0.9496764917325665,0.9614264919941776,0.9270175438596492,0.9060356652949246,0.9642289348171701,0.9837793998377939,0.9154716981132075,0.9395817195972114,0.8828238719068413,0.8512280701754386,1.0,0.9828125,0.9195906432748538,0.9744384198295895,0.9155749636098982,0.8628257887517147,0.996732026143791,0.9097688292319165,0.9131736526946108,0.8950843727072635,0.8977189109639441,0.8106312292358805,0.9930394431554525,0.9705215419501134,0.9610778443113772,0.9567809239940388,0.944812362030905,0.8531561461794019,1.0,0.9187227866473149,0.9476047904191617,0.9160636758321274,0.9315673289183223,0.8411960132890366,0.9961479198767333,0.9255547602004295,0.967814371257485,0.9073684210526316,0.9514348785871964,0.8591362126245847,0.9932634730538922,0.9183391003460208,0.9984951091045899,0.8817275747508306,0.9764532744665195,0.9101508916323731,1.0,0.9711163153786103,0.9311377245508982,0.9635941130906274,0.9153789551140544,0.826578073089701,0.994281045751634,0.9157261098570354,0.9157261098570354,0.892883345561262,0.8955114054451803,0.8347050754458162,0.9928909952606635,0.9736638264910922,0.9721577726218098,0.9095513748191029,0.9249448123620309,0.936661698956781,0.960708782742681,0.9772727272727273,0.9644238205723125,0.8750877192982457,0.9175864606328182,0.929210134128167,0.9899458623356536,0.9726443768996961,0.963130173062453,0.9538002980625933,0.94186902133922,0.8779149519890261,0.9959807073954985,0.9732914375490967,0.9582366589327147,0.959721146398141,0.9116997792494481,0.9232488822652758,0.9715639810426541,0.9269027882441598,0.9476117103235747,0.890014471780029,0.9050772626931568,0.8631578947368421,0.9992101105845181,0.9213401310997815,0.9518434913468773,0.9153400868306802,0.930831493745401,0.8676268861454046,0.9722222222222222,0.9847266881028939,0.9676145339652449,0.9488768396591789,0.8863965267727931,0.9013980868285504,0.9938366718027736,0.9273903666427031,0.9706546275395034,0.9052631578947369,0.9492273730684327,0.8847736625514404,0.9797242497972426,0.9710610932475885,0.9306625577812019,0.935708752904725,0.8477192982456141,0.8888888888888888,1.0,0.9718749999999999,0.9360421369450714,0.9635941130906274,0.9153789551140544,0.8532235939643347,0.995888157894737,0.9030574198359433,0.9153439153439155,0.8884812912692591,0.9023845007451566,0.8046511627906977,1.0,0.9418344519015659,0.9165457184325109,0.9266324284666178,0.9138929088277858,0.839202657807309,0.9930822444273635,0.9634601043997016,0.924838940586972,0.9479090242112986,0.9066666666666666,0.8584717607973422,0.9903057419835943,0.999247554552295,0.9190311418685122,0.9743213499633163,0.8823920265780731,0.9108367626886146,1.0,0.9758125472411188,0.9368650217706822,0.9619970193740687,0.9341534008683069,0.8578073089700997,0.9952978056426333,0.9599395313681028,0.9090909090909092,0.9463487332339793,0.8912280701754387,0.8438538205980067,0.9924414210128496,0.9086505190311418,0.9977203647416413,0.8724252491694352,0.9783904619970194,0.9005486968449931,0.9976433621366851,0.9914129586260734,0.9599395313681028,0.9837335398915569,0.9463487332339793,0.8438538205980067,1.0,0.9629898403483309,0.9498926270579814,0.9602026049204053,0.9312280701754386,0.8817275747508306,0.9963715529753265,0.9501730103806229,1.0,0.9122923588039867,0.9934876989869754,0.9417009602194787,1.0,0.9836065573770492,0.9143686502177069,0.975987606506584,0.9117221418234444,0.8372093023255814,0.9950940310711366,0.8711524695776665,0.9743795036028823,0.8540350877192983,0.9681782020684169,0.8086378737541529,0.9919935948759008,0.857439446366782,0.997584541062802,0.8232558139534885,0.9856801909307876,0.8497942386831276,0.9935576234788833,0.9605536332179931,0.9978432782171099,0.9222591362126247,0.9740350877192983,0.9519890260631001,0.9983779399837795,0.960967993754879,0.8811739441660702,0.9535243996901627,0.8638596491228071,0.8179401993355483,0.9992193598750976,1.0,0.8858131487889274,0.9914794732765299,0.8504983388704319,0.8779149519890261,0.9699129057798892,0.9415833973866256,0.9231348907309721,0.8987527512839325,0.8863965267727931,0.8596491228070176,0.9968329374505147,0.9473288186606471,0.9169701383831028,0.9236977256052825,0.9109985528219972,0.8635116598079561,0.9884704073789392,0.9676448457486831,0.9245147375988497,0.9435069699192957,0.9024561403508772,0.8820301783264746,0.9389600602863603,0.9651432997676219,0.9764890282131662,0.9015918958031839,0.8743859649122807,0.9284649776453056,0.9984508133230054,0.979483282674772,0.9388201019664968,0.9605067064083459,0.9327062228654125,0.8840877914951989,0.9920634920634921,0.9819324430479184,0.9682416731216111,0.9682416731216111,0.9044862518089726,0.9314456035767512,0.993730407523511,0.9635258358662614,0.9115744069015097,0.9448584202682564,0.8898245614035089,0.869684499314129,0.9951338199513382,0.9638648860958366,0.9615987460815048,0.9504260263361735,0.8610526315789474,0.9143070044709389,0.9976433621366851,0.9921875,0.9650455927051672,0.9837335398915569,0.9463487332339793,0.8710562414266119,0.9969856819894498,0.9635833940276767,0.9511143062544931,0.9573082489146165,0.9284210526315789,0.9074074074074073,0.9626984126984126,0.9837793998377939,0.9140919366993218,0.9395817195972114,0.877713458755427,0.8512280701754386,1.0,0.984375,0.9176984705025493,0.975987606506584,0.9117221418234444,0.8641975308641976,0.9934587080948487,0.8734723220704529,0.9782608695652174,0.8526315789473684,0.9665871121718377,0.8333333333333333,0.9983779399837795,0.9617187500000001,0.8849748382458663,0.9535243996901627,0.8638596491228071,0.8443072702331962],\"yaxis\":\"y\",\"type\":\"scatter\"}],                        {\"template\":{\"data\":{\"histogram2dcontour\":[{\"type\":\"histogram2dcontour\",\"colorbar\":{\"outlinewidth\":0,\"ticks\":\"\"},\"colorscale\":[[0.0,\"#0d0887\"],[0.1111111111111111,\"#46039f\"],[0.2222222222222222,\"#7201a8\"],[0.3333333333333333,\"#9c179e\"],[0.4444444444444444,\"#bd3786\"],[0.5555555555555556,\"#d8576b\"],[0.6666666666666666,\"#ed7953\"],[0.7777777777777778,\"#fb9f3a\"],[0.8888888888888888,\"#fdca26\"],[1.0,\"#f0f921\"]]}],\"choropleth\":[{\"type\":\"choropleth\",\"colorbar\":{\"outlinewidth\":0,\"ticks\":\"\"}}],\"histogram2d\":[{\"type\":\"histogram2d\",\"colorbar\":{\"outlinewidth\":0,\"ticks\":\"\"},\"colorscale\":[[0.0,\"#0d0887\"],[0.1111111111111111,\"#46039f\"],[0.2222222222222222,\"#7201a8\"],[0.3333333333333333,\"#9c179e\"],[0.4444444444444444,\"#bd3786\"],[0.5555555555555556,\"#d8576b\"],[0.6666666666666666,\"#ed7953\"],[0.7777777777777778,\"#fb9f3a\"],[0.8888888888888888,\"#fdca26\"],[1.0,\"#f0f921\"]]}],\"heatmap\":[{\"type\":\"heatmap\",\"colorbar\":{\"outlinewidth\":0,\"ticks\":\"\"},\"colorscale\":[[0.0,\"#0d0887\"],[0.1111111111111111,\"#46039f\"],[0.2222222222222222,\"#7201a8\"],[0.3333333333333333,\"#9c179e\"],[0.4444444444444444,\"#bd3786\"],[0.5555555555555556,\"#d8576b\"],[0.6666666666666666,\"#ed7953\"],[0.7777777777777778,\"#fb9f3a\"],[0.8888888888888888,\"#fdca26\"],[1.0,\"#f0f921\"]]}],\"heatmapgl\":[{\"type\":\"heatmapgl\",\"colorbar\":{\"outlinewidth\":0,\"ticks\":\"\"},\"colorscale\":[[0.0,\"#0d0887\"],[0.1111111111111111,\"#46039f\"],[0.2222222222222222,\"#7201a8\"],[0.3333333333333333,\"#9c179e\"],[0.4444444444444444,\"#bd3786\"],[0.5555555555555556,\"#d8576b\"],[0.6666666666666666,\"#ed7953\"],[0.7777777777777778,\"#fb9f3a\"],[0.8888888888888888,\"#fdca26\"],[1.0,\"#f0f921\"]]}],\"contourcarpet\":[{\"type\":\"contourcarpet\",\"colorbar\":{\"outlinewidth\":0,\"ticks\":\"\"}}],\"contour\":[{\"type\":\"contour\",\"colorbar\":{\"outlinewidth\":0,\"ticks\":\"\"},\"colorscale\":[[0.0,\"#0d0887\"],[0.1111111111111111,\"#46039f\"],[0.2222222222222222,\"#7201a8\"],[0.3333333333333333,\"#9c179e\"],[0.4444444444444444,\"#bd3786\"],[0.5555555555555556,\"#d8576b\"],[0.6666666666666666,\"#ed7953\"],[0.7777777777777778,\"#fb9f3a\"],[0.8888888888888888,\"#fdca26\"],[1.0,\"#f0f921\"]]}],\"surface\":[{\"type\":\"surface\",\"colorbar\":{\"outlinewidth\":0,\"ticks\":\"\"},\"colorscale\":[[0.0,\"#0d0887\"],[0.1111111111111111,\"#46039f\"],[0.2222222222222222,\"#7201a8\"],[0.3333333333333333,\"#9c179e\"],[0.4444444444444444,\"#bd3786\"],[0.5555555555555556,\"#d8576b\"],[0.6666666666666666,\"#ed7953\"],[0.7777777777777778,\"#fb9f3a\"],[0.8888888888888888,\"#fdca26\"],[1.0,\"#f0f921\"]]}],\"mesh3d\":[{\"type\":\"mesh3d\",\"colorbar\":{\"outlinewidth\":0,\"ticks\":\"\"}}],\"scatter\":[{\"fillpattern\":{\"fillmode\":\"overlay\",\"size\":10,\"solidity\":0.2},\"type\":\"scatter\"}],\"parcoords\":[{\"type\":\"parcoords\",\"line\":{\"colorbar\":{\"outlinewidth\":0,\"ticks\":\"\"}}}],\"scatterpolargl\":[{\"type\":\"scatterpolargl\",\"marker\":{\"colorbar\":{\"outlinewidth\":0,\"ticks\":\"\"}}}],\"bar\":[{\"error_x\":{\"color\":\"#2a3f5f\"},\"error_y\":{\"color\":\"#2a3f5f\"},\"marker\":{\"line\":{\"color\":\"#E5ECF6\",\"width\":0.5},\"pattern\":{\"fillmode\":\"overlay\",\"size\":10,\"solidity\":0.2}},\"type\":\"bar\"}],\"scattergeo\":[{\"type\":\"scattergeo\",\"marker\":{\"colorbar\":{\"outlinewidth\":0,\"ticks\":\"\"}}}],\"scatterpolar\":[{\"type\":\"scatterpolar\",\"marker\":{\"colorbar\":{\"outlinewidth\":0,\"ticks\":\"\"}}}],\"histogram\":[{\"marker\":{\"pattern\":{\"fillmode\":\"overlay\",\"size\":10,\"solidity\":0.2}},\"type\":\"histogram\"}],\"scattergl\":[{\"type\":\"scattergl\",\"marker\":{\"colorbar\":{\"outlinewidth\":0,\"ticks\":\"\"}}}],\"scatter3d\":[{\"type\":\"scatter3d\",\"line\":{\"colorbar\":{\"outlinewidth\":0,\"ticks\":\"\"}},\"marker\":{\"colorbar\":{\"outlinewidth\":0,\"ticks\":\"\"}}}],\"scattermapbox\":[{\"type\":\"scattermapbox\",\"marker\":{\"colorbar\":{\"outlinewidth\":0,\"ticks\":\"\"}}}],\"scatterternary\":[{\"type\":\"scatterternary\",\"marker\":{\"colorbar\":{\"outlinewidth\":0,\"ticks\":\"\"}}}],\"scattercarpet\":[{\"type\":\"scattercarpet\",\"marker\":{\"colorbar\":{\"outlinewidth\":0,\"ticks\":\"\"}}}],\"carpet\":[{\"aaxis\":{\"endlinecolor\":\"#2a3f5f\",\"gridcolor\":\"white\",\"linecolor\":\"white\",\"minorgridcolor\":\"white\",\"startlinecolor\":\"#2a3f5f\"},\"baxis\":{\"endlinecolor\":\"#2a3f5f\",\"gridcolor\":\"white\",\"linecolor\":\"white\",\"minorgridcolor\":\"white\",\"startlinecolor\":\"#2a3f5f\"},\"type\":\"carpet\"}],\"table\":[{\"cells\":{\"fill\":{\"color\":\"#EBF0F8\"},\"line\":{\"color\":\"white\"}},\"header\":{\"fill\":{\"color\":\"#C8D4E3\"},\"line\":{\"color\":\"white\"}},\"type\":\"table\"}],\"barpolar\":[{\"marker\":{\"line\":{\"color\":\"#E5ECF6\",\"width\":0.5},\"pattern\":{\"fillmode\":\"overlay\",\"size\":10,\"solidity\":0.2}},\"type\":\"barpolar\"}],\"pie\":[{\"automargin\":true,\"type\":\"pie\"}]},\"layout\":{\"autotypenumbers\":\"strict\",\"colorway\":[\"#636efa\",\"#EF553B\",\"#00cc96\",\"#ab63fa\",\"#FFA15A\",\"#19d3f3\",\"#FF6692\",\"#B6E880\",\"#FF97FF\",\"#FECB52\"],\"font\":{\"color\":\"#2a3f5f\"},\"hovermode\":\"closest\",\"hoverlabel\":{\"align\":\"left\"},\"paper_bgcolor\":\"white\",\"plot_bgcolor\":\"#E5ECF6\",\"polar\":{\"bgcolor\":\"#E5ECF6\",\"angularaxis\":{\"gridcolor\":\"white\",\"linecolor\":\"white\",\"ticks\":\"\"},\"radialaxis\":{\"gridcolor\":\"white\",\"linecolor\":\"white\",\"ticks\":\"\"}},\"ternary\":{\"bgcolor\":\"#E5ECF6\",\"aaxis\":{\"gridcolor\":\"white\",\"linecolor\":\"white\",\"ticks\":\"\"},\"baxis\":{\"gridcolor\":\"white\",\"linecolor\":\"white\",\"ticks\":\"\"},\"caxis\":{\"gridcolor\":\"white\",\"linecolor\":\"white\",\"ticks\":\"\"}},\"coloraxis\":{\"colorbar\":{\"outlinewidth\":0,\"ticks\":\"\"}},\"colorscale\":{\"sequential\":[[0.0,\"#0d0887\"],[0.1111111111111111,\"#46039f\"],[0.2222222222222222,\"#7201a8\"],[0.3333333333333333,\"#9c179e\"],[0.4444444444444444,\"#bd3786\"],[0.5555555555555556,\"#d8576b\"],[0.6666666666666666,\"#ed7953\"],[0.7777777777777778,\"#fb9f3a\"],[0.8888888888888888,\"#fdca26\"],[1.0,\"#f0f921\"]],\"sequentialminus\":[[0.0,\"#0d0887\"],[0.1111111111111111,\"#46039f\"],[0.2222222222222222,\"#7201a8\"],[0.3333333333333333,\"#9c179e\"],[0.4444444444444444,\"#bd3786\"],[0.5555555555555556,\"#d8576b\"],[0.6666666666666666,\"#ed7953\"],[0.7777777777777778,\"#fb9f3a\"],[0.8888888888888888,\"#fdca26\"],[1.0,\"#f0f921\"]],\"diverging\":[[0,\"#8e0152\"],[0.1,\"#c51b7d\"],[0.2,\"#de77ae\"],[0.3,\"#f1b6da\"],[0.4,\"#fde0ef\"],[0.5,\"#f7f7f7\"],[0.6,\"#e6f5d0\"],[0.7,\"#b8e186\"],[0.8,\"#7fbc41\"],[0.9,\"#4d9221\"],[1,\"#276419\"]]},\"xaxis\":{\"gridcolor\":\"white\",\"linecolor\":\"white\",\"ticks\":\"\",\"title\":{\"standoff\":15},\"zerolinecolor\":\"white\",\"automargin\":true,\"zerolinewidth\":2},\"yaxis\":{\"gridcolor\":\"white\",\"linecolor\":\"white\",\"ticks\":\"\",\"title\":{\"standoff\":15},\"zerolinecolor\":\"white\",\"automargin\":true,\"zerolinewidth\":2},\"scene\":{\"xaxis\":{\"backgroundcolor\":\"#E5ECF6\",\"gridcolor\":\"white\",\"linecolor\":\"white\",\"showbackground\":true,\"ticks\":\"\",\"zerolinecolor\":\"white\",\"gridwidth\":2},\"yaxis\":{\"backgroundcolor\":\"#E5ECF6\",\"gridcolor\":\"white\",\"linecolor\":\"white\",\"showbackground\":true,\"ticks\":\"\",\"zerolinecolor\":\"white\",\"gridwidth\":2},\"zaxis\":{\"backgroundcolor\":\"#E5ECF6\",\"gridcolor\":\"white\",\"linecolor\":\"white\",\"showbackground\":true,\"ticks\":\"\",\"zerolinecolor\":\"white\",\"gridwidth\":2}},\"shapedefaults\":{\"line\":{\"color\":\"#2a3f5f\"}},\"annotationdefaults\":{\"arrowcolor\":\"#2a3f5f\",\"arrowhead\":0,\"arrowwidth\":1},\"geo\":{\"bgcolor\":\"white\",\"landcolor\":\"#E5ECF6\",\"subunitcolor\":\"white\",\"showland\":true,\"showlakes\":true,\"lakecolor\":\"white\"},\"title\":{\"x\":0.05},\"mapbox\":{\"style\":\"light\"}}},\"xaxis\":{\"anchor\":\"y\",\"domain\":[0.0,1.0],\"title\":{\"text\":\"support\"}},\"yaxis\":{\"anchor\":\"x\",\"domain\":[0.0,1.0],\"title\":{\"text\":\"confidence\"}},\"coloraxis\":{\"colorbar\":{\"title\":{\"text\":\"lift\"}},\"colorscale\":[[0.0,\"#0d0887\"],[0.1111111111111111,\"#46039f\"],[0.2222222222222222,\"#7201a8\"],[0.3333333333333333,\"#9c179e\"],[0.4444444444444444,\"#bd3786\"],[0.5555555555555556,\"#d8576b\"],[0.6666666666666666,\"#ed7953\"],[0.7777777777777778,\"#fb9f3a\"],[0.8888888888888888,\"#fdca26\"],[1.0,\"#f0f921\"]]},\"legend\":{\"tracegroupgap\":0,\"itemsizing\":\"constant\"},\"title\":{\"text\":\"Support vs Confidence (Bubble Size = Lift)\"}},                        {\"responsive\": true}                    ).then(function(){\n",
       "                            \n",
       "var gd = document.getElementById('16db0182-ddbc-4279-9419-e76998a6b6f9');\n",
       "var x = new MutationObserver(function (mutations, observer) {{\n",
       "        var display = window.getComputedStyle(gd).display;\n",
       "        if (!display || display === 'none') {{\n",
       "            console.log([gd, 'removed!']);\n",
       "            Plotly.purge(gd);\n",
       "            observer.disconnect();\n",
       "        }}\n",
       "}});\n",
       "\n",
       "// Listen for the removal of the full notebook cells\n",
       "var notebookContainer = gd.closest('#notebook-container');\n",
       "if (notebookContainer) {{\n",
       "    x.observe(notebookContainer, {childList: true});\n",
       "}}\n",
       "\n",
       "// Listen for the clearing of the current output cell\n",
       "var outputEl = gd.closest('.output');\n",
       "if (outputEl) {{\n",
       "    x.observe(outputEl, {childList: true});\n",
       "}}\n",
       "\n",
       "                        })                };                });            </script>        </div>"
      ]
     },
     "metadata": {},
     "output_type": "display_data"
    }
   ],
   "source": [
    "# doing this because plotly cannot serialize frozensets \n",
    "conf_rules[\"antecedents\"] = conf_rules[\"antecedents\"].apply(lambda x: \", \".join(sorted(x)))\n",
    "conf_rules[\"consequents\"] = conf_rules[\"consequents\"].apply(lambda x: \", \".join(sorted(x)))\n",
    "\n",
    "fig = px.scatter(conf_rules, \n",
    "                 x=\"support\", \n",
    "                 y=\"confidence\", \n",
    "                 size=\"lift\", \n",
    "                 color=\"lift\",\n",
    "                 hover_data=[\"antecedents\", \"consequents\"],\n",
    "                 title=\"Support vs Confidence (Bubble Size = Lift)\")\n",
    "fig.show()\n"
   ]
  },
  {
   "cell_type": "code",
   "execution_count": 64,
   "id": "5b1fe7d7",
   "metadata": {},
   "outputs": [],
   "source": [
    "\n",
    "# # Create a directed graph\n",
    "# G = nx.DiGraph()\n",
    "\n",
    "# # Add edges\n",
    "# for _, row in rules.iterrows():\n",
    "#     G.add_edge(\", \".join(row[\"antecedents\"]), \", \".join(row[\"consequents\"]), weight=row[\"lift\"])\n",
    "\n",
    "# # Get positions\n",
    "# pos = nx.spring_layout(G, k=0.5)\n",
    "\n",
    "# # Create edge traces\n",
    "# edge_x, edge_y = [], []\n",
    "# for edge in G.edges(data=True):\n",
    "#     x0, y0 = pos[edge[0]]\n",
    "#     x1, y1 = pos[edge[1]]\n",
    "#     edge_x.extend([x0, x1, None])\n",
    "#     edge_y.extend([y0, y1, None])\n",
    "\n",
    "# edge_trace = go.Scatter(x=edge_x, y=edge_y, line=dict(width=1, color='#888'),\n",
    "#                          hoverinfo='none', mode='lines')\n",
    "\n",
    "# # Create node traces\n",
    "# node_x, node_y, text = [], [], []\n",
    "# for node in G.nodes():\n",
    "#     x, y = pos[node]\n",
    "#     node_x.append(x)\n",
    "#     node_y.append(y)\n",
    "#     text.append(node)\n",
    "\n",
    "# node_trace = go.Scatter(x=node_x, y=node_y, mode='markers+text', \n",
    "#                         marker=dict(size=10, color='lightblue'),\n",
    "#                         text=text, hoverinfo=\"text\")\n",
    "\n",
    "# # Create figure\n",
    "# fig = go.Figure(data=[edge_trace, node_trace])\n",
    "# fig.update_layout(showlegend=False, title=\"Association Rule Network Graph\")\n",
    "# fig.show()\n"
   ]
  },
  {
   "cell_type": "code",
   "execution_count": 69,
   "id": "a0cc9e4a",
   "metadata": {},
   "outputs": [
    {
     "name": "stderr",
     "output_type": "stream",
     "text": [
      "/var/folders/gw/6zvc4vx95yx8vrymkvc5m8zm0000gn/T/ipykernel_9618/2743244389.py:5: FutureWarning:\n",
      "\n",
      "\n",
      "\n",
      "Passing `palette` without assigning `hue` is deprecated and will be removed in v0.14.0. Assign the `x` variable to `hue` and set `legend=False` for the same effect.\n",
      "\n",
      "\n"
     ]
    },
    {
     "data": {
      "image/png": "[encoded data removed]",
      "text/plain": [
       "<Figure size 1000x600 with 1 Axes>"
      ]
     },
     "metadata": {},
     "output_type": "display_data"
    }
   ],
   "source": [
    "item_frequencies = ohe_df.sum(axis=0) / len(ohe_df)  # relative frequencies\n",
    "item_frequencies_sorted = item_frequencies.sort_values(ascending=False).head(20)\n",
    "\n",
    "plt.figure(figsize=(10, 6))\n",
    "sns.barplot(x=item_frequencies_sorted.index, y=item_frequencies_sorted.values, hue=None, palette=\"Pastel2\")\n",
    "plt.title(\"Relative Item Frequency Plot\")\n",
    "plt.ylabel(\"Item Frequency (Relative)\")\n",
    "plt.xlabel('Bacteria')\n",
    "plt.xticks(rotation=90)\n",
    "plt.show()"
   ]
  },
  {
   "cell_type": "code",
   "execution_count": null,
   "id": "f4809cc6",
   "metadata": {},
   "outputs": [],
   "source": []
  }
 ],
 "metadata": {
  "kernelspec": {
   "display_name": "Python 3 (ipykernel)",
   "language": "python",
   "name": "python3"
  },
  "language_info": {
   "codemirror_mode": {
    "name": "ipython",
    "version": 3
   },
   "file_extension": ".py",
   "mimetype": "text/x-python",
   "name": "python",
   "nbconvert_exporter": "python",
   "pygments_lexer": "ipython3",
   "version": "3.11.5"
  }
 },
 "nbformat": 4,
 "nbformat_minor": 5
}
