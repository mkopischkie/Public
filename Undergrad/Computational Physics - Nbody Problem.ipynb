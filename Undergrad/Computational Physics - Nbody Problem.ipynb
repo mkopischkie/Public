{
 "cells": [
  {
   "cell_type": "code",
   "execution_count": 1,
   "id": "c77d4211",
   "metadata": {},
   "outputs": [],
   "source": [
    "import numpy as np\n",
    "from matplotlib import pyplot as plt\n",
    "from scipy.integrate import odeint\n",
    "from numpy import diff\n",
    "from scipy.integrate import solve_ivp"
   ]
  },
  {
   "cell_type": "code",
   "execution_count": 2,
   "id": "810baaeb",
   "metadata": {},
   "outputs": [],
   "source": [
    "a = 1\n",
    "e = 0.5\n",
    "G = 1\n",
    "m = 1\n",
    "M = 2\n",
    "psi_0 = 0\n",
    "time_0 = 0\n",
    "psi_dot_0 = 0\n",
    "omega = np.sqrt((G * M)/a**3)\n",
    "time_step = np.linspace(0, ((2*np.pi)/omega), 100)\n",
    "psi_array = []\n",
    "psi_dot_array = []\n",
    "position = []\n",
    "velocity = []\n",
    "\n",
    "def r(psi_0):\n",
    "    return a * (1 - e * np.cos(psi_0))\n",
    "\n",
    "def kepler(t, psi):\n",
    "    return omega * t + e * np.sin(psi_0)\n",
    "\n",
    "def kepler_dot(psi, psi_dot):\n",
    "    return omega + e * np.cos(psi_0) * (psi_dot_0)\n",
    "\n",
    "def r_dot(psi_0, psi_dot_0):\n",
    "    return a * e * np.sin(psi_0) * (psi_dot_0)"
   ]
  },
  {
   "cell_type": "code",
   "execution_count": 3,
   "id": "4404bbda",
   "metadata": {},
   "outputs": [
    {
     "name": "stdout",
     "output_type": "stream",
     "text": [
      "0.0\n",
      "1.4142135623730951\n"
     ]
    }
   ],
   "source": [
    "print(kepler(time_0, psi_0))\n",
    "print(kepler_dot(psi_0, psi_dot_0))"
   ]
  },
  {
   "cell_type": "code",
   "execution_count": 4,
   "id": "5948ebbe",
   "metadata": {},
   "outputs": [
    {
     "data": {
      "image/png": "[encoded data removed]",
      "text/plain": [
       "<Figure size 432x288 with 1 Axes>"
      ]
     },
     "metadata": {
      "needs_background": "light"
     },
     "output_type": "display_data"
    }
   ],
   "source": [
    "for i in range(0,len(time_step)):\n",
    "    \n",
    "    t = time_step[i]\n",
    "    while abs(kepler(t, psi_0) - psi_0) >= 1e-4:\n",
    "        psi_0 = omega * t + e * np.sin(psi_0)\n",
    "    position_0 = r(psi_0)\n",
    "    position = np.append(position, position_0)\n",
    "    \n",
    "    while abs(kepler_dot(psi_0, psi_dot_0) - psi_dot_0) >= 1e-4:\n",
    "        psi_dot_0 = omega + e * np.cos(psi_0) * (psi_dot_0)\n",
    "    velocity_0 = r_dot(psi_0, psi_dot_0)\n",
    "    velocity = np.append(velocity, velocity_0)\n",
    "    \n",
    "\n",
    "plt.plot(time_step, position, 'm')\n",
    "plt.plot(time_step, velocity, 'g')\n",
    "plt.xlabel('Time')\n",
    "plt.title('Position and Velocity')\n",
    "plt.show()"
   ]
  },
  {
   "cell_type": "markdown",
   "id": "6214b7db",
   "metadata": {},
   "source": [
    "N-Body Code: "
   ]
  },
  {
   "cell_type": "code",
   "execution_count": 74,
   "id": "29b7706f",
   "metadata": {},
   "outputs": [],
   "source": [
    "#generate initial conditions\n",
    "x_0 = np.array([-1.0, 1.0])\n",
    "y_0 = np.array([0.0, 0.0])\n",
    "z_0 = np.array([0.0, 0.0])\n",
    "vx_0 = np.array([0.0, 0.0])\n",
    "vy_0 = np.array([-0.5, 0.5])\n",
    "vz_0 = np.array([0.0, 0.0])\n",
    "time = np.linspace(1,2*np.pi,1000)"
   ]
  },
  {
   "cell_type": "code",
   "execution_count": 133,
   "id": "e1072edf",
   "metadata": {},
   "outputs": [],
   "source": [
    "#gravity function in all 3 directions, acceleration due to gravity, need to send position of all particles, also need\n",
    "#the masses\n",
    "def gravity_x(x_0, time): #function to calculate direction in x\n",
    "    #dvx1dt = (-G * m * (x_0[0]-x_0[1]) / ((x_0[1]-x_0[0])**2 + (y_0[1]-y_0[0])**2)**(3/2))#(np.linalg.norm(x_0[0]-x_0[1]))**3)\n",
    "    dvx2dt = (G * m * (x_0[1]-x_0[0]) / ((x_0[1]-x_0[0])**2 + (y_0[1]-y_0[0])**2)**(3/2))#(np.linalg.norm(x_0[0]-x_0[1]))**3)\n",
    "    return ([dvx2dt])\n",
    "    \n",
    "def gravity_y(y_0, time):\n",
    "    #dvy1dt = (-G * m * (y_0[0]-y_0[1]) / ((x_0[1]-x_0[0])**2 + (y_0[1]-y_0[0])**2)**(3/2))\n",
    "    dvy2dt = (G * m * (y_0[1]-y_0[0]) / ((x_0[1]-x_0[0])**2 + (y_0[1]-y_0[0])**2)**(3/2))\n",
    "    return ([dvy2dt])\n",
    "    \n",
    "def gravity_z(z_0, time): \n",
    "    dvz1dt = (-G * m * (z_0[0]-z_0[1]) / (np.linalg.norm(z_0[0]-z_0[1]))**3)\n",
    "    dvz2dt = (-G * m * (z_0[1]-z_0[0]) / (np.linalg.norm(z_0[0]-z_0[1]))**3)\n",
    "    return ([dvz1dt, dzy2dt])\n",
    "\n",
    "def sum_x(j, time):\n",
    "    x_acceleration = []\n",
    "    for j in range(2):\n",
    "        temp1 = gravity_x(x_0, time)\n",
    "        x_acceleration.append(temp1)\n",
    "    return np.sum(x_acceleration)\n",
    "\n",
    "def sum_y(i, time):\n",
    "    y_acceleration = []\n",
    "    for i in range(2):\n",
    "        temp2 = gravity_y(y_0, time)\n",
    "        y_acceleration.append(temp2)\n",
    "    return np.sum(y_acceleration)\n",
    "\n",
    "\n",
    "def F(time, initial_vector):\n",
    "    xvel = initial_vector[4:6]\n",
    "    yvel = initial_vector[6:8]\n",
    "    \n",
    "    xaccel = [sum_x(i, time) for i in x_0]\n",
    "    yaccel = [sum_y(i, time) for i in y_0]\n",
    "        \n",
    "    matrix = np.array([xvel, yvel, xaccel, yaccel], float)\n",
    "    \n",
    "    return matrix.ravel()\n",
    "\n",
    "#acceleration append, for loop(i in range 2), call gravity_x, grab vx_0 and time, append to list \n",
    "#2 lists for x and y direction (accel) \n",
    "#accel =m[]\n",
    "#for i in range(2):\n",
    "    #temp 1 = gravity_x(vx_0[i], time)\n",
    "    #same for y\n",
    "    #xaccel.append"
   ]
  },
  {
   "cell_type": "code",
   "execution_count": 134,
   "id": "deeba668",
   "metadata": {},
   "outputs": [
    {
     "name": "stdout",
     "output_type": "stream",
     "text": [
      "[[-1.   0.   0.  -0.5]\n",
      " [ 1.   0.   0.   0.5]]\n"
     ]
    }
   ],
   "source": [
    "pos_1 = initial_vector[0:8:2]\n",
    "pos_2 = initial_vector[1:8:2]\n",
    "test = np.array([pos_1, pos_2])\n",
    "print(test)"
   ]
  },
  {
   "cell_type": "code",
   "execution_count": 135,
   "id": "f19c1179",
   "metadata": {},
   "outputs": [
    {
     "name": "stdout",
     "output_type": "stream",
     "text": [
      "[-1.   1.   0.   0.   0.   0.  -0.5  0.5]\n",
      "<class 'numpy.ndarray'>\n"
     ]
    }
   ],
   "source": [
    "initial_vector = np.concatenate((x_0, y_0, vx_0, vy_0))\n",
    "print(initial_vector)\n",
    "print(type(initial_vector))"
   ]
  },
  {
   "cell_type": "code",
   "execution_count": 136,
   "id": "7fbf3d77",
   "metadata": {},
   "outputs": [
    {
     "name": "stdout",
     "output_type": "stream",
     "text": [
      "  message: 'The solver successfully reached the end of the integration interval.'\n",
      "     nfev: 14\n",
      "     njev: 0\n",
      "      nlu: 0\n",
      "      sol: None\n",
      "   status: 0\n",
      "  success: True\n",
      "        t: array([0.00000000e+00, 1.98691765e-06, 3.97383531e-06, 1.98731504e-02,\n",
      "       3.97423269e-02, 5.96115034e-02, 2.58303269e-01, 4.56995034e-01,\n",
      "       6.55686799e-01, 2.64260445e+00, 4.62952211e+00, 6.28318531e+00])\n",
      " t_events: None\n",
      "        y: array([[-1.00000000e+00, -1.00000000e+00, -1.00000000e+00,\n",
      "        -9.99901264e-01, -9.99605137e-01, -9.99111617e-01,\n",
      "        -9.83319855e-01, -9.47788885e-01, -8.92518705e-01,\n",
      "         7.45839573e-01,  4.35811873e+00,  8.86960440e+00],\n",
      "       [ 1.00000000e+00,  1.00000000e+00,  1.00000000e+00,\n",
      "         1.00009874e+00,  1.00039486e+00,  1.00088838e+00,\n",
      "         1.01668014e+00,  1.05221112e+00,  1.10748129e+00,\n",
      "         2.74583957e+00,  6.35811873e+00,  1.08696044e+01],\n",
      "       [ 0.00000000e+00, -9.93458827e-07, -1.98691765e-06,\n",
      "        -9.93657518e-03, -1.98711634e-02, -2.98057517e-02,\n",
      "        -1.29151634e-01, -2.28497517e-01, -3.27843400e-01,\n",
      "        -1.32130223e+00, -2.31476105e+00, -3.14159265e+00],\n",
      "       [ 0.00000000e+00,  9.93458827e-07,  1.98691765e-06,\n",
      "         9.93657518e-03,  1.98711634e-02,  2.98057517e-02,\n",
      "         1.29151634e-01,  2.28497517e-01,  3.27843400e-01,\n",
      "         1.32130223e+00,  2.31476105e+00,  3.14159265e+00],\n",
      "       [ 0.00000000e+00,  9.93458827e-07,  1.98691765e-06,\n",
      "         9.93657518e-03,  1.98711634e-02,  2.98057517e-02,\n",
      "         1.29151634e-01,  2.28497517e-01,  3.27843400e-01,\n",
      "         1.32130223e+00,  2.31476105e+00,  3.14159265e+00],\n",
      "       [ 0.00000000e+00,  9.93458827e-07,  1.98691765e-06,\n",
      "         9.93657518e-03,  1.98711634e-02,  2.98057517e-02,\n",
      "         1.29151634e-01,  2.28497517e-01,  3.27843400e-01,\n",
      "         1.32130223e+00,  2.31476105e+00,  3.14159265e+00],\n",
      "       [-5.00000000e-01, -5.00000000e-01, -5.00000000e-01,\n",
      "        -5.00000000e-01, -5.00000000e-01, -5.00000000e-01,\n",
      "        -5.00000000e-01, -5.00000000e-01, -5.00000000e-01,\n",
      "        -5.00000000e-01, -5.00000000e-01, -5.00000000e-01],\n",
      "       [ 5.00000000e-01,  5.00000000e-01,  5.00000000e-01,\n",
      "         5.00000000e-01,  5.00000000e-01,  5.00000000e-01,\n",
      "         5.00000000e-01,  5.00000000e-01,  5.00000000e-01,\n",
      "         5.00000000e-01,  5.00000000e-01,  5.00000000e-01]])\n",
      " y_events: None\n"
     ]
    }
   ],
   "source": [
    "#ODE solver to get velocity then position\n",
    "velocity_ODE = solve_ivp(F, [0,2*np.pi], y0=initial_vector, method='LSODA', rtol=1e-13)\n",
    "print(velocity_ODE)"
   ]
  },
  {
   "cell_type": "code",
   "execution_count": 137,
   "id": "055516ab",
   "metadata": {},
   "outputs": [
    {
     "data": {
      "image/png": "[encoded data removed]",
      "text/plain": [
       "<Figure size 432x288 with 1 Axes>"
      ]
     },
     "metadata": {
      "needs_background": "light"
     },
     "output_type": "display_data"
    }
   ],
   "source": [
    "plt.plot(velocity_ODE.y[0], velocity_ODE.y[2])\n",
    "\n",
    "plt.plot(velocity_ODE.y[1], velocity_ODE.y[3])\n",
    "\n",
    "plt.show()\n"
   ]
  },
  {
   "cell_type": "code",
   "execution_count": null,
   "id": "57b3ca15",
   "metadata": {},
   "outputs": [],
   "source": []
  }
 ],
 "metadata": {
  "kernelspec": {
   "display_name": "Python 3 (ipykernel)",
   "language": "python",
   "name": "python3"
  },
  "language_info": {
   "codemirror_mode": {
    "name": "ipython",
    "version": 3
   },
   "file_extension": ".py",
   "mimetype": "text/x-python",
   "name": "python",
   "nbconvert_exporter": "python",
   "pygments_lexer": "ipython3",
   "version": "3.9.12"
  }
 },
 "nbformat": 4,
 "nbformat_minor": 5
}
